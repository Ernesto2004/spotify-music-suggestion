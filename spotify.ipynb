{
 "cells": [
  {
   "cell_type": "code",
   "execution_count": 9,
   "metadata": {},
   "outputs": [],
   "source": [
    "from dotenv import load_dotenv\n",
    "import pandas as pd\n",
    "import os\n",
    "from spotify import SpotifyAPI"
   ]
  },
  {
   "cell_type": "code",
   "execution_count": 10,
   "metadata": {},
   "outputs": [],
   "source": [
    "env_path = os.path.join('misc', '.env')\n",
    "load_dotenv(dotenv_path=env_path)\n",
    "SPOTIFY_CREDS = [os.getenv('SPOTIFY_CLIENT_ID'), \n",
    "                 os.getenv('SPOTIFY_CLIENT_SECRET')]\n",
    "\n",
    "if not all(SPOTIFY_CREDS):\n",
    "    print(\"Please set the SPOTIFY_CLIENT_ID and SPOTIFY_CLIENT_SECRET environment variables\")\n",
    "    exit(1)"
   ]
  },
  {
   "cell_type": "code",
   "execution_count": 11,
   "metadata": {},
   "outputs": [],
   "source": [
    "spotify = SpotifyAPI(*SPOTIFY_CREDS)\n"
   ]
  },
  {
   "cell_type": "code",
   "execution_count": 12,
   "metadata": {},
   "outputs": [
    {
     "data": {
      "text/plain": [
       "['8fd2a7d8d5384d37bfa3b7ecb84f16c4', '6e10fb6c946e4a7f97613133907894c2']"
      ]
     },
     "execution_count": 12,
     "metadata": {},
     "output_type": "execute_result"
    }
   ],
   "source": [
    "SPOTIFY_CREDS"
   ]
  },
  {
   "cell_type": "code",
   "execution_count": 13,
   "metadata": {},
   "outputs": [
    {
     "name": "stdout",
     "output_type": "stream",
     "text": [
      "<class 'pandas.core.frame.DataFrame'>\n",
      "RangeIndex: 50683 entries, 0 to 50682\n",
      "Data columns (total 20 columns):\n",
      " #   Column            Non-Null Count  Dtype  \n",
      "---  ------            --------------  -----  \n",
      " 0   track_id          50683 non-null  object \n",
      " 1   name              50683 non-null  object \n",
      " 2   artist            50683 non-null  object \n",
      " 3   spotify_id        50683 non-null  object \n",
      " 4   tags              49556 non-null  object \n",
      " 5   genre             22348 non-null  object \n",
      " 6   year              50683 non-null  int64  \n",
      " 7   duration_ms       50683 non-null  int64  \n",
      " 8   danceability      50683 non-null  float64\n",
      " 9   energy            50683 non-null  float64\n",
      " 10  key               50683 non-null  int64  \n",
      " 11  loudness          50683 non-null  float64\n",
      " 12  mode              50683 non-null  int64  \n",
      " 13  speechiness       50683 non-null  float64\n",
      " 14  acousticness      50683 non-null  float64\n",
      " 15  instrumentalness  50683 non-null  float64\n",
      " 16  liveness          50683 non-null  float64\n",
      " 17  valence           50683 non-null  float64\n",
      " 18  tempo             50683 non-null  float64\n",
      " 19  time_signature    50683 non-null  int64  \n",
      "dtypes: float64(9), int64(5), object(6)\n",
      "memory usage: 7.7+ MB\n"
     ]
    }
   ],
   "source": [
    "track_data = pd.read_csv('misc/music_info.csv')\n",
    "track_data = track_data.drop(['spotify_preview_url'], axis=1)\n",
    "track_data.info()"
   ]
  },
  {
   "cell_type": "code",
   "execution_count": 14,
   "metadata": {},
   "outputs": [
    {
     "data": {
      "text/html": [
       "<div>\n",
       "<style scoped>\n",
       "    .dataframe tbody tr th:only-of-type {\n",
       "        vertical-align: middle;\n",
       "    }\n",
       "\n",
       "    .dataframe tbody tr th {\n",
       "        vertical-align: top;\n",
       "    }\n",
       "\n",
       "    .dataframe thead th {\n",
       "        text-align: right;\n",
       "    }\n",
       "</style>\n",
       "<table border=\"1\" class=\"dataframe\">\n",
       "  <thead>\n",
       "    <tr style=\"text-align: right;\">\n",
       "      <th></th>\n",
       "      <th>track_id</th>\n",
       "      <th>name</th>\n",
       "      <th>artist</th>\n",
       "      <th>spotify_id</th>\n",
       "      <th>tags</th>\n",
       "      <th>genre</th>\n",
       "      <th>year</th>\n",
       "      <th>duration_ms</th>\n",
       "      <th>danceability</th>\n",
       "      <th>energy</th>\n",
       "      <th>key</th>\n",
       "      <th>loudness</th>\n",
       "      <th>mode</th>\n",
       "      <th>speechiness</th>\n",
       "      <th>acousticness</th>\n",
       "      <th>instrumentalness</th>\n",
       "      <th>liveness</th>\n",
       "      <th>valence</th>\n",
       "      <th>tempo</th>\n",
       "      <th>time_signature</th>\n",
       "    </tr>\n",
       "  </thead>\n",
       "  <tbody>\n",
       "    <tr>\n",
       "      <th>1106</th>\n",
       "      <td>TRSHTER12903CE5606</td>\n",
       "      <td>Teenage Dirtbag</td>\n",
       "      <td>Wheatus</td>\n",
       "      <td>01A95iL1uQNKyBMa864kjz</td>\n",
       "      <td>rock, alternative, indie, pop, alternative_roc...</td>\n",
       "      <td>NaN</td>\n",
       "      <td>2016</td>\n",
       "      <td>242880</td>\n",
       "      <td>0.617</td>\n",
       "      <td>0.793</td>\n",
       "      <td>4</td>\n",
       "      <td>-6.547</td>\n",
       "      <td>1</td>\n",
       "      <td>0.0518</td>\n",
       "      <td>0.323000</td>\n",
       "      <td>0.000146</td>\n",
       "      <td>0.1200</td>\n",
       "      <td>0.5970</td>\n",
       "      <td>94.640</td>\n",
       "      <td>4</td>\n",
       "    </tr>\n",
       "    <tr>\n",
       "      <th>14191</th>\n",
       "      <td>TRAWHEL128F93163F0</td>\n",
       "      <td>Perfect Symmetry</td>\n",
       "      <td>Keane</td>\n",
       "      <td>01c65VW4oszVjYNOoLzymZ</td>\n",
       "      <td>rock, alternative, indie, indie_rock, british,...</td>\n",
       "      <td>Rock</td>\n",
       "      <td>2013</td>\n",
       "      <td>311533</td>\n",
       "      <td>0.514</td>\n",
       "      <td>0.836</td>\n",
       "      <td>0</td>\n",
       "      <td>-6.342</td>\n",
       "      <td>0</td>\n",
       "      <td>0.0371</td>\n",
       "      <td>0.022400</td>\n",
       "      <td>0.000000</td>\n",
       "      <td>0.0687</td>\n",
       "      <td>0.4700</td>\n",
       "      <td>115.012</td>\n",
       "      <td>4</td>\n",
       "    </tr>\n",
       "    <tr>\n",
       "      <th>29444</th>\n",
       "      <td>TRRFYZR128F92F4E81</td>\n",
       "      <td>10000 Horses Can't Be Wrong</td>\n",
       "      <td>Simian Mobile Disco</td>\n",
       "      <td>09OQqhknDhkfTYg18UJA2Q</td>\n",
       "      <td>electronic, house, electro</td>\n",
       "      <td>Electronic</td>\n",
       "      <td>2009</td>\n",
       "      <td>251253</td>\n",
       "      <td>0.834</td>\n",
       "      <td>0.810</td>\n",
       "      <td>7</td>\n",
       "      <td>-6.756</td>\n",
       "      <td>1</td>\n",
       "      <td>0.0973</td>\n",
       "      <td>0.003100</td>\n",
       "      <td>0.477000</td>\n",
       "      <td>0.5960</td>\n",
       "      <td>0.5100</td>\n",
       "      <td>130.018</td>\n",
       "      <td>4</td>\n",
       "    </tr>\n",
       "    <tr>\n",
       "      <th>14029</th>\n",
       "      <td>TRALQZK128F429802D</td>\n",
       "      <td>Day Old Blues</td>\n",
       "      <td>Kings of Leon</td>\n",
       "      <td>0MwGTg502DxVZmkAlbTOn9</td>\n",
       "      <td>rock, indie, indie_rock, blues, acoustic, 00s,...</td>\n",
       "      <td>Rock</td>\n",
       "      <td>2004</td>\n",
       "      <td>212986</td>\n",
       "      <td>0.475</td>\n",
       "      <td>0.263</td>\n",
       "      <td>4</td>\n",
       "      <td>-9.783</td>\n",
       "      <td>1</td>\n",
       "      <td>0.0693</td>\n",
       "      <td>0.875000</td>\n",
       "      <td>0.000000</td>\n",
       "      <td>0.1070</td>\n",
       "      <td>0.0693</td>\n",
       "      <td>85.494</td>\n",
       "      <td>4</td>\n",
       "    </tr>\n",
       "    <tr>\n",
       "      <th>3668</th>\n",
       "      <td>TRGGTMP128EF35F803</td>\n",
       "      <td>Catch You</td>\n",
       "      <td>Sophie Ellis-Bextor</td>\n",
       "      <td>0bRxOypnCY65b5ZofduDgU</td>\n",
       "      <td>electronic, pop, female_vocalists, dance, 00s</td>\n",
       "      <td>Pop</td>\n",
       "      <td>2007</td>\n",
       "      <td>197693</td>\n",
       "      <td>0.535</td>\n",
       "      <td>0.840</td>\n",
       "      <td>8</td>\n",
       "      <td>-4.310</td>\n",
       "      <td>1</td>\n",
       "      <td>0.0342</td>\n",
       "      <td>0.000059</td>\n",
       "      <td>0.041400</td>\n",
       "      <td>0.2400</td>\n",
       "      <td>0.8240</td>\n",
       "      <td>146.014</td>\n",
       "      <td>4</td>\n",
       "    </tr>\n",
       "  </tbody>\n",
       "</table>\n",
       "</div>"
      ],
      "text/plain": [
       "                 track_id                         name               artist  \\\n",
       "1106   TRSHTER12903CE5606              Teenage Dirtbag              Wheatus   \n",
       "14191  TRAWHEL128F93163F0             Perfect Symmetry                Keane   \n",
       "29444  TRRFYZR128F92F4E81  10000 Horses Can't Be Wrong  Simian Mobile Disco   \n",
       "14029  TRALQZK128F429802D                Day Old Blues        Kings of Leon   \n",
       "3668   TRGGTMP128EF35F803                    Catch You  Sophie Ellis-Bextor   \n",
       "\n",
       "                   spotify_id  \\\n",
       "1106   01A95iL1uQNKyBMa864kjz   \n",
       "14191  01c65VW4oszVjYNOoLzymZ   \n",
       "29444  09OQqhknDhkfTYg18UJA2Q   \n",
       "14029  0MwGTg502DxVZmkAlbTOn9   \n",
       "3668   0bRxOypnCY65b5ZofduDgU   \n",
       "\n",
       "                                                    tags       genre  year  \\\n",
       "1106   rock, alternative, indie, pop, alternative_roc...         NaN  2016   \n",
       "14191  rock, alternative, indie, indie_rock, british,...        Rock  2013   \n",
       "29444                         electronic, house, electro  Electronic  2009   \n",
       "14029  rock, indie, indie_rock, blues, acoustic, 00s,...        Rock  2004   \n",
       "3668       electronic, pop, female_vocalists, dance, 00s         Pop  2007   \n",
       "\n",
       "       duration_ms  danceability  energy  key  loudness  mode  speechiness  \\\n",
       "1106        242880         0.617   0.793    4    -6.547     1       0.0518   \n",
       "14191       311533         0.514   0.836    0    -6.342     0       0.0371   \n",
       "29444       251253         0.834   0.810    7    -6.756     1       0.0973   \n",
       "14029       212986         0.475   0.263    4    -9.783     1       0.0693   \n",
       "3668        197693         0.535   0.840    8    -4.310     1       0.0342   \n",
       "\n",
       "       acousticness  instrumentalness  liveness  valence    tempo  \\\n",
       "1106       0.323000          0.000146    0.1200   0.5970   94.640   \n",
       "14191      0.022400          0.000000    0.0687   0.4700  115.012   \n",
       "29444      0.003100          0.477000    0.5960   0.5100  130.018   \n",
       "14029      0.875000          0.000000    0.1070   0.0693   85.494   \n",
       "3668       0.000059          0.041400    0.2400   0.8240  146.014   \n",
       "\n",
       "       time_signature  \n",
       "1106                4  \n",
       "14191               4  \n",
       "29444               4  \n",
       "14029               4  \n",
       "3668                4  "
      ]
     },
     "execution_count": 14,
     "metadata": {},
     "output_type": "execute_result"
    }
   ],
   "source": [
    "random_tracks = track_data.sample(5)\n",
    "seed_tracks = random_tracks['spotify_id'].tolist()\n",
    "\n",
    "random_tracks"
   ]
  },
  {
   "cell_type": "code",
   "execution_count": 15,
   "metadata": {},
   "outputs": [
    {
     "name": "stdout",
     "output_type": "stream",
     "text": [
      "<Response [400]>\n"
     ]
    }
   ],
   "source": [
    "recommendations = spotify.get_recommendations(random_tracks)"
   ]
  },
  {
   "cell_type": "code",
   "execution_count": 16,
   "metadata": {},
   "outputs": [
    {
     "name": "stdout",
     "output_type": "stream",
     "text": [
      "400\n"
     ]
    }
   ],
   "source": [
    "print(recommendations)\n",
    "    \n"
   ]
  }
 ],
 "metadata": {
  "kernelspec": {
   "display_name": "Python 3",
   "language": "python",
   "name": "python3"
  },
  "language_info": {
   "codemirror_mode": {
    "name": "ipython",
    "version": 3
   },
   "file_extension": ".py",
   "mimetype": "text/x-python",
   "name": "python",
   "nbconvert_exporter": "python",
   "pygments_lexer": "ipython3",
   "version": "3.9.1"
  }
 },
 "nbformat": 4,
 "nbformat_minor": 2
}
