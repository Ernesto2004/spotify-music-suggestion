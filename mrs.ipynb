{
  "cells": [
    {
      "cell_type": "markdown",
      "metadata": {
        "id": "BpdI5sJCmxSD"
      },
      "source": [
        "# CSE 144 Group 3\n",
        "## Music Recommendation System (MRS)\n",
        "\n",
        "In this notebook, we write the predictive model for our music recommendation system. Our work leverages modern tools including recurrent neural networks (RNN) and BERT sentence transformers...\n",
        "\n",
        "<br>\n",
        "\n",
        "Our work leverages this RNN model:\n",
        "\n",
        "https://github.com/taylorhawks/RNN-music-recommender/blob/master/cloud/model.ipynb\n"
      ]
    },
    {
      "cell_type": "code",
      "execution_count": 1,
      "metadata": {
        "id": "TATBR_nse2e3"
      },
      "outputs": [],
      "source": [
        "# import matplotlib.pyplot as plt\n",
        "import pandas as pd\n",
        "%matplotlib inline\n",
        "%config InlineBackend.figure_format=\"retina\"\n",
        "import numpy as np\n",
        "import random\n",
        "import torch\n",
        "import os\n",
        "# from torch import nn, optim\n",
        "# import math\n",
        "# from IPython import display\n",
        "# import torchvision.datasets as datasets\n",
        "# import torchvision.transforms as transforms\n",
        "# from torch.utils.data import TensorDataset\n",
        "# import torch.nn.functional as F\n",
        "# from sklearn.preprocessing import MinMaxScaler\n",
        "# import pdb\n",
        "import plotly.graph_objects as go\n",
        "import numpy as np\n",
        "\n",
        "from skimage.util.shape import view_as_windows as viewW\n",
        "from sklearn.model_selection import train_test_split\n",
        "\n",
        "# import tensorflow as tf\n",
        "\n",
        "# import keras.backend as K\n",
        "from keras.models import Sequential, load_model\n",
        "# from keras.optimizers import RMSprop\n",
        "from keras.layers import Dense, SimpleRNN, Input\n",
        "from keras.losses import *\n"
      ]
    },
    {
      "cell_type": "markdown",
      "metadata": {
        "id": "r0XrdmLSOA_y"
      },
      "source": [
        "### Load the data"
      ]
    },
    {
      "cell_type": "code",
      "execution_count": 2,
      "metadata": {
        "colab": {
          "base_uri": "https://localhost:8080/"
        },
        "id": "OWv8kjBAkGvv",
        "outputId": "d2003920-bfb0-473e-f2ad-7a399d62ed22"
      },
      "outputs": [],
      "source": [
        "song_features_data = pd.read_csv('../misc/processed_music_info.csv')\n",
        "user_listening_data = pd.read_csv('../misc/processed_user_listening_hist.csv')\n",
        "\n",
        "# from google.colab import drive\n",
        "# drive.mount('/content/drive')\n",
        "# import pandas as pd\n",
        "# song_features_data = pd.read_csv('/content/drive/MyDrive/Colab Notebooks/music_info.csv')\n",
        "# user_listening_data = pd.read_csv('/content/drive/MyDrive/Colab Notebooks/user_listening_hist.csv')"
      ]
    },
    {
      "cell_type": "markdown",
      "metadata": {
        "id": "OZX1u2Ae8re8"
      },
      "source": [
        "### Set Random Seed"
      ]
    },
    {
      "cell_type": "code",
      "execution_count": 3,
      "metadata": {
        "colab": {
          "base_uri": "https://localhost:8080/"
        },
        "id": "bQ0bRU5TmFxQ",
        "outputId": "fe9d8366-f50b-4011-e68b-4d560e2c212d"
      },
      "outputs": [
        {
          "data": {
            "text/plain": [
              "<torch._C.Generator at 0x228c0073810>"
            ]
          },
          "execution_count": 3,
          "metadata": {},
          "output_type": "execute_result"
        }
      ],
      "source": [
        "torch.manual_seed(24)"
      ]
    },
    {
      "cell_type": "markdown",
      "metadata": {
        "id": "BxUwOz_88xij"
      },
      "source": [
        "### Read and Display Data"
      ]
    },
    {
      "cell_type": "code",
      "execution_count": 4,
      "metadata": {
        "colab": {
          "base_uri": "https://localhost:8080/",
          "height": 469
        },
        "id": "qIF0VPivkeHT",
        "outputId": "078105fd-90e6-4f34-c125-1f7dcb3b3273"
      },
      "outputs": [
        {
          "name": "stdout",
          "output_type": "stream",
          "text": [
            "# of rows of Song Data: 23584\n",
            "# of unique songs: 23584\n"
          ]
        },
        {
          "data": {
            "text/html": [
              "<div>\n",
              "<style scoped>\n",
              "    .dataframe tbody tr th:only-of-type {\n",
              "        vertical-align: middle;\n",
              "    }\n",
              "\n",
              "    .dataframe tbody tr th {\n",
              "        vertical-align: top;\n",
              "    }\n",
              "\n",
              "    .dataframe thead th {\n",
              "        text-align: right;\n",
              "    }\n",
              "</style>\n",
              "<table border=\"1\" class=\"dataframe\">\n",
              "  <thead>\n",
              "    <tr style=\"text-align: right;\">\n",
              "      <th></th>\n",
              "      <th>track_id</th>\n",
              "      <th>name</th>\n",
              "      <th>artist</th>\n",
              "      <th>spotify_id</th>\n",
              "      <th>tags</th>\n",
              "      <th>year</th>\n",
              "      <th>duration_ms</th>\n",
              "      <th>danceability</th>\n",
              "      <th>energy</th>\n",
              "      <th>key</th>\n",
              "      <th>loudness</th>\n",
              "      <th>mode</th>\n",
              "      <th>speechiness</th>\n",
              "      <th>acousticness</th>\n",
              "      <th>instrumentalness</th>\n",
              "      <th>liveness</th>\n",
              "      <th>valence</th>\n",
              "      <th>tempo</th>\n",
              "      <th>time_signature</th>\n",
              "    </tr>\n",
              "  </thead>\n",
              "  <tbody>\n",
              "    <tr>\n",
              "      <th>0</th>\n",
              "      <td>TRIOREW128F424EAF0</td>\n",
              "      <td>Mr. Brightside</td>\n",
              "      <td>The Killers</td>\n",
              "      <td>09ZQ5TmUG8TSL56n0knqrj</td>\n",
              "      <td>rock, alternative, indie, alternative_rock, in...</td>\n",
              "      <td>2004</td>\n",
              "      <td>222200</td>\n",
              "      <td>0.355</td>\n",
              "      <td>0.918</td>\n",
              "      <td>1</td>\n",
              "      <td>-4.360</td>\n",
              "      <td>1</td>\n",
              "      <td>0.0746</td>\n",
              "      <td>0.001190</td>\n",
              "      <td>0.000000</td>\n",
              "      <td>0.0971</td>\n",
              "      <td>0.240</td>\n",
              "      <td>148.114</td>\n",
              "      <td>4</td>\n",
              "    </tr>\n",
              "    <tr>\n",
              "      <th>1</th>\n",
              "      <td>TRRIVDJ128F429B0E8</td>\n",
              "      <td>Wonderwall</td>\n",
              "      <td>Oasis</td>\n",
              "      <td>06UfBBDISthj1ZJAtX4xjj</td>\n",
              "      <td>rock, alternative, indie, pop, alternative_roc...</td>\n",
              "      <td>2006</td>\n",
              "      <td>258613</td>\n",
              "      <td>0.409</td>\n",
              "      <td>0.892</td>\n",
              "      <td>2</td>\n",
              "      <td>-4.373</td>\n",
              "      <td>1</td>\n",
              "      <td>0.0336</td>\n",
              "      <td>0.000807</td>\n",
              "      <td>0.000000</td>\n",
              "      <td>0.2070</td>\n",
              "      <td>0.651</td>\n",
              "      <td>174.426</td>\n",
              "      <td>4</td>\n",
              "    </tr>\n",
              "    <tr>\n",
              "      <th>2</th>\n",
              "      <td>TRXOGZT128F424AD74</td>\n",
              "      <td>Karma Police</td>\n",
              "      <td>Radiohead</td>\n",
              "      <td>01puceOqImrzSfKDAcd1Ia</td>\n",
              "      <td>rock, alternative, indie, alternative_rock, in...</td>\n",
              "      <td>1996</td>\n",
              "      <td>264066</td>\n",
              "      <td>0.360</td>\n",
              "      <td>0.505</td>\n",
              "      <td>7</td>\n",
              "      <td>-9.129</td>\n",
              "      <td>1</td>\n",
              "      <td>0.0260</td>\n",
              "      <td>0.062600</td>\n",
              "      <td>0.000092</td>\n",
              "      <td>0.1720</td>\n",
              "      <td>0.317</td>\n",
              "      <td>74.807</td>\n",
              "      <td>4</td>\n",
              "    </tr>\n",
              "    <tr>\n",
              "      <th>3</th>\n",
              "      <td>TRUJIIV12903CA8848</td>\n",
              "      <td>Clocks</td>\n",
              "      <td>Coldplay</td>\n",
              "      <td>0BCPKOYdS2jbQ8iyB56Zns</td>\n",
              "      <td>rock, alternative, indie, pop, alternative_roc...</td>\n",
              "      <td>2002</td>\n",
              "      <td>307879</td>\n",
              "      <td>0.577</td>\n",
              "      <td>0.749</td>\n",
              "      <td>5</td>\n",
              "      <td>-7.215</td>\n",
              "      <td>0</td>\n",
              "      <td>0.0279</td>\n",
              "      <td>0.599000</td>\n",
              "      <td>0.011500</td>\n",
              "      <td>0.1830</td>\n",
              "      <td>0.255</td>\n",
              "      <td>130.970</td>\n",
              "      <td>4</td>\n",
              "    </tr>\n",
              "    <tr>\n",
              "      <th>4</th>\n",
              "      <td>TRIODZU128E078F3E2</td>\n",
              "      <td>Under the Bridge</td>\n",
              "      <td>Red Hot Chili Peppers</td>\n",
              "      <td>06zh28PcYIFvNOAz5Wq2Xb</td>\n",
              "      <td>rock, alternative, alternative_rock, 90s, funk</td>\n",
              "      <td>2003</td>\n",
              "      <td>265506</td>\n",
              "      <td>0.554</td>\n",
              "      <td>0.490</td>\n",
              "      <td>4</td>\n",
              "      <td>-8.046</td>\n",
              "      <td>1</td>\n",
              "      <td>0.0457</td>\n",
              "      <td>0.016800</td>\n",
              "      <td>0.000534</td>\n",
              "      <td>0.1360</td>\n",
              "      <td>0.513</td>\n",
              "      <td>84.275</td>\n",
              "      <td>4</td>\n",
              "    </tr>\n",
              "  </tbody>\n",
              "</table>\n",
              "</div>"
            ],
            "text/plain": [
              "             track_id              name                 artist  \\\n",
              "0  TRIOREW128F424EAF0    Mr. Brightside            The Killers   \n",
              "1  TRRIVDJ128F429B0E8        Wonderwall                  Oasis   \n",
              "2  TRXOGZT128F424AD74      Karma Police              Radiohead   \n",
              "3  TRUJIIV12903CA8848            Clocks               Coldplay   \n",
              "4  TRIODZU128E078F3E2  Under the Bridge  Red Hot Chili Peppers   \n",
              "\n",
              "               spotify_id                                               tags  \\\n",
              "0  09ZQ5TmUG8TSL56n0knqrj  rock, alternative, indie, alternative_rock, in...   \n",
              "1  06UfBBDISthj1ZJAtX4xjj  rock, alternative, indie, pop, alternative_roc...   \n",
              "2  01puceOqImrzSfKDAcd1Ia  rock, alternative, indie, alternative_rock, in...   \n",
              "3  0BCPKOYdS2jbQ8iyB56Zns  rock, alternative, indie, pop, alternative_roc...   \n",
              "4  06zh28PcYIFvNOAz5Wq2Xb     rock, alternative, alternative_rock, 90s, funk   \n",
              "\n",
              "   year  duration_ms  danceability  energy  key  loudness  mode  speechiness  \\\n",
              "0  2004       222200         0.355   0.918    1    -4.360     1       0.0746   \n",
              "1  2006       258613         0.409   0.892    2    -4.373     1       0.0336   \n",
              "2  1996       264066         0.360   0.505    7    -9.129     1       0.0260   \n",
              "3  2002       307879         0.577   0.749    5    -7.215     0       0.0279   \n",
              "4  2003       265506         0.554   0.490    4    -8.046     1       0.0457   \n",
              "\n",
              "   acousticness  instrumentalness  liveness  valence    tempo  time_signature  \n",
              "0      0.001190          0.000000    0.0971    0.240  148.114               4  \n",
              "1      0.000807          0.000000    0.2070    0.651  174.426               4  \n",
              "2      0.062600          0.000092    0.1720    0.317   74.807               4  \n",
              "3      0.599000          0.011500    0.1830    0.255  130.970               4  \n",
              "4      0.016800          0.000534    0.1360    0.513   84.275               4  "
            ]
          },
          "execution_count": 4,
          "metadata": {},
          "output_type": "execute_result"
        }
      ],
      "source": [
        "print('# of rows of Song Data: ' + str(len(song_features_data)))\n",
        "print('# of unique songs: ' + str(len(song_features_data['track_id'].unique())))\n",
        "song_features_data.head()"
      ]
    },
    {
      "cell_type": "code",
      "execution_count": 5,
      "metadata": {
        "colab": {
          "base_uri": "https://localhost:8080/",
          "height": 240
        },
        "id": "Kxp6NyU2834H",
        "outputId": "546c86d1-af44-4906-9e8f-938909c2ab2e"
      },
      "outputs": [
        {
          "name": "stdout",
          "output_type": "stream",
          "text": [
            "# of rows of User Listening Data: 806745\n",
            "# of unique users: 25343\n"
          ]
        },
        {
          "data": {
            "text/html": [
              "<div>\n",
              "<style scoped>\n",
              "    .dataframe tbody tr th:only-of-type {\n",
              "        vertical-align: middle;\n",
              "    }\n",
              "\n",
              "    .dataframe tbody tr th {\n",
              "        vertical-align: top;\n",
              "    }\n",
              "\n",
              "    .dataframe thead th {\n",
              "        text-align: right;\n",
              "    }\n",
              "</style>\n",
              "<table border=\"1\" class=\"dataframe\">\n",
              "  <thead>\n",
              "    <tr style=\"text-align: right;\">\n",
              "      <th></th>\n",
              "      <th>track_id</th>\n",
              "      <th>user_id</th>\n",
              "      <th>playcount</th>\n",
              "    </tr>\n",
              "  </thead>\n",
              "  <tbody>\n",
              "    <tr>\n",
              "      <th>0</th>\n",
              "      <td>TRLATHU128F92FC275</td>\n",
              "      <td>5a905f000fc1ff3df7ca807d57edb608863db05d</td>\n",
              "      <td>11</td>\n",
              "    </tr>\n",
              "    <tr>\n",
              "      <th>1</th>\n",
              "      <td>TRMKFPN128F42858C3</td>\n",
              "      <td>5a905f000fc1ff3df7ca807d57edb608863db05d</td>\n",
              "      <td>2</td>\n",
              "    </tr>\n",
              "    <tr>\n",
              "      <th>2</th>\n",
              "      <td>TRGAOLV128E0789D40</td>\n",
              "      <td>5a905f000fc1ff3df7ca807d57edb608863db05d</td>\n",
              "      <td>2</td>\n",
              "    </tr>\n",
              "    <tr>\n",
              "      <th>3</th>\n",
              "      <td>TREAQSX128E07818CA</td>\n",
              "      <td>5a905f000fc1ff3df7ca807d57edb608863db05d</td>\n",
              "      <td>2</td>\n",
              "    </tr>\n",
              "    <tr>\n",
              "      <th>4</th>\n",
              "      <td>TRUMDRI128F424FEFC</td>\n",
              "      <td>5a905f000fc1ff3df7ca807d57edb608863db05d</td>\n",
              "      <td>3</td>\n",
              "    </tr>\n",
              "  </tbody>\n",
              "</table>\n",
              "</div>"
            ],
            "text/plain": [
              "             track_id                                   user_id  playcount\n",
              "0  TRLATHU128F92FC275  5a905f000fc1ff3df7ca807d57edb608863db05d         11\n",
              "1  TRMKFPN128F42858C3  5a905f000fc1ff3df7ca807d57edb608863db05d          2\n",
              "2  TRGAOLV128E0789D40  5a905f000fc1ff3df7ca807d57edb608863db05d          2\n",
              "3  TREAQSX128E07818CA  5a905f000fc1ff3df7ca807d57edb608863db05d          2\n",
              "4  TRUMDRI128F424FEFC  5a905f000fc1ff3df7ca807d57edb608863db05d          3"
            ]
          },
          "execution_count": 5,
          "metadata": {},
          "output_type": "execute_result"
        }
      ],
      "source": [
        "print('# of rows of User Listening Data: ' + str(len(user_listening_data)))\n",
        "print('# of unique users: ' + str(len(user_listening_data['user_id'].unique())))\n",
        "user_listening_data.head()"
      ]
    },
    {
      "cell_type": "markdown",
      "metadata": {
        "id": "4HsrJ3f-moB9"
      },
      "source": [
        "### Data Preprocessing\n"
      ]
    },
    {
      "cell_type": "code",
      "execution_count": 6,
      "metadata": {
        "id": "I3EhFKIj9e8O"
      },
      "outputs": [],
      "source": [
        "# Join user_listening_data with song_features_data ON track_id\n",
        "# data = pd.merge(song_features_data, user_listening_data, on='track_id')\n",
        "\n",
        "# Drop unnecessary columns\n",
        "song_features_data = song_features_data.drop(columns=['spotify_id', 'year', 'time_signature', 'key'])"
      ]
    },
    {
      "cell_type": "code",
      "execution_count": 7,
      "metadata": {
        "colab": {
          "base_uri": "https://localhost:8080/"
        },
        "id": "qWvD7vKrmbM5",
        "outputId": "71a53746-c06b-46ce-e7b1-76e605d58543"
      },
      "outputs": [
        {
          "name": "stdout",
          "output_type": "stream",
          "text": [
            "<class 'pandas.core.frame.DataFrame'>\n",
            "RangeIndex: 23584 entries, 0 to 23583\n",
            "Data columns (total 15 columns):\n",
            " #   Column            Non-Null Count  Dtype  \n",
            "---  ------            --------------  -----  \n",
            " 0   track_id          23584 non-null  object \n",
            " 1   name              23584 non-null  object \n",
            " 2   artist            23584 non-null  object \n",
            " 3   tags              23083 non-null  object \n",
            " 4   danceability      23584 non-null  float64\n",
            " 5   energy            23584 non-null  float64\n",
            " 6   loudness          23584 non-null  float64\n",
            " 7   mode              23584 non-null  int64  \n",
            " 8   speechiness       23584 non-null  float64\n",
            " 9   acousticness      23584 non-null  float64\n",
            " 10  instrumentalness  23584 non-null  float64\n",
            " 11  liveness          23584 non-null  float64\n",
            " 12  valence           23584 non-null  float64\n",
            " 13  tempo             23584 non-null  float64\n",
            " 14  duration_mins     23584 non-null  float64\n",
            "dtypes: float64(10), int64(1), object(4)\n",
            "memory usage: 2.7+ MB\n"
          ]
        }
      ],
      "source": [
        "# Commented out artist data preprocessing because a\n",
        "# stringified version for Sentence BERT\n",
        "\n",
        "# data[\"artists\"] = data[\"artists\"].str.replace(\"[\", \"\")\n",
        "# data[\"artists\"] = data[\"artists\"].str.replace(\"]\", \"\")\n",
        "# data[\"artists\"] = data[\"artists\"].str.replace(\"'\", \"\")\n",
        "# data[\"artists\"] = data[\"artists\"].map(lambda row: row.split(', '))\n",
        "\n",
        "# Convert song duration from milliseconds to minutes\n",
        "song_features_data[\"duration_mins\"] = song_features_data[\"duration_ms\"] / 60000\n",
        "song_features_data.drop(\"duration_ms\", axis=1, inplace=True)\n",
        "\n",
        "\n",
        "song_features_data.info()"
      ]
    },
    {
      "cell_type": "code",
      "execution_count": 8,
      "metadata": {
        "colab": {
          "base_uri": "https://localhost:8080/",
          "height": 417
        },
        "id": "SroBTElIOawR",
        "outputId": "ce8a9af7-cb64-4714-ff5c-7784d063a3a6"
      },
      "outputs": [
        {
          "data": {
            "text/html": [
              "<div>\n",
              "<style scoped>\n",
              "    .dataframe tbody tr th:only-of-type {\n",
              "        vertical-align: middle;\n",
              "    }\n",
              "\n",
              "    .dataframe tbody tr th {\n",
              "        vertical-align: top;\n",
              "    }\n",
              "\n",
              "    .dataframe thead th {\n",
              "        text-align: right;\n",
              "    }\n",
              "</style>\n",
              "<table border=\"1\" class=\"dataframe\">\n",
              "  <thead>\n",
              "    <tr style=\"text-align: right;\">\n",
              "      <th></th>\n",
              "      <th>track_id</th>\n",
              "      <th>name</th>\n",
              "      <th>artist</th>\n",
              "      <th>tags</th>\n",
              "      <th>danceability</th>\n",
              "      <th>energy</th>\n",
              "      <th>loudness</th>\n",
              "      <th>mode</th>\n",
              "      <th>speechiness</th>\n",
              "      <th>acousticness</th>\n",
              "      <th>instrumentalness</th>\n",
              "      <th>liveness</th>\n",
              "      <th>valence</th>\n",
              "      <th>tempo</th>\n",
              "      <th>duration_mins</th>\n",
              "      <th>user_id</th>\n",
              "      <th>playcount</th>\n",
              "    </tr>\n",
              "  </thead>\n",
              "  <tbody>\n",
              "    <tr>\n",
              "      <th>0</th>\n",
              "      <td>TRIOREW128F424EAF0</td>\n",
              "      <td>Mr. Brightside</td>\n",
              "      <td>The Killers</td>\n",
              "      <td>rock, alternative, indie, alternative_rock, in...</td>\n",
              "      <td>0.355</td>\n",
              "      <td>0.918</td>\n",
              "      <td>-4.360</td>\n",
              "      <td>1</td>\n",
              "      <td>0.0746</td>\n",
              "      <td>0.001190</td>\n",
              "      <td>0.0</td>\n",
              "      <td>0.0971</td>\n",
              "      <td>0.240</td>\n",
              "      <td>148.114</td>\n",
              "      <td>3.703333</td>\n",
              "      <td>fe31db6d197a667d265ff5a35d80d60f3660f729</td>\n",
              "      <td>2</td>\n",
              "    </tr>\n",
              "    <tr>\n",
              "      <th>1</th>\n",
              "      <td>TRRIVDJ128F429B0E8</td>\n",
              "      <td>Wonderwall</td>\n",
              "      <td>Oasis</td>\n",
              "      <td>rock, alternative, indie, pop, alternative_roc...</td>\n",
              "      <td>0.409</td>\n",
              "      <td>0.892</td>\n",
              "      <td>-4.373</td>\n",
              "      <td>1</td>\n",
              "      <td>0.0336</td>\n",
              "      <td>0.000807</td>\n",
              "      <td>0.0</td>\n",
              "      <td>0.2070</td>\n",
              "      <td>0.651</td>\n",
              "      <td>174.426</td>\n",
              "      <td>4.310217</td>\n",
              "      <td>67874d1a189c83326c529e554be6f7acf55effae</td>\n",
              "      <td>12</td>\n",
              "    </tr>\n",
              "    <tr>\n",
              "      <th>2</th>\n",
              "      <td>TRRIVDJ128F429B0E8</td>\n",
              "      <td>Wonderwall</td>\n",
              "      <td>Oasis</td>\n",
              "      <td>rock, alternative, indie, pop, alternative_roc...</td>\n",
              "      <td>0.409</td>\n",
              "      <td>0.892</td>\n",
              "      <td>-4.373</td>\n",
              "      <td>1</td>\n",
              "      <td>0.0336</td>\n",
              "      <td>0.000807</td>\n",
              "      <td>0.0</td>\n",
              "      <td>0.2070</td>\n",
              "      <td>0.651</td>\n",
              "      <td>174.426</td>\n",
              "      <td>4.310217</td>\n",
              "      <td>e3ee8846c9a5a0916700a9e7abfc1c5b2fcb8e36</td>\n",
              "      <td>5</td>\n",
              "    </tr>\n",
              "    <tr>\n",
              "      <th>3</th>\n",
              "      <td>TRRIVDJ128F429B0E8</td>\n",
              "      <td>Wonderwall</td>\n",
              "      <td>Oasis</td>\n",
              "      <td>rock, alternative, indie, pop, alternative_roc...</td>\n",
              "      <td>0.409</td>\n",
              "      <td>0.892</td>\n",
              "      <td>-4.373</td>\n",
              "      <td>1</td>\n",
              "      <td>0.0336</td>\n",
              "      <td>0.000807</td>\n",
              "      <td>0.0</td>\n",
              "      <td>0.2070</td>\n",
              "      <td>0.651</td>\n",
              "      <td>174.426</td>\n",
              "      <td>4.310217</td>\n",
              "      <td>cbb6b8dccf0af0d221dfd4684072c04bb0346f30</td>\n",
              "      <td>2</td>\n",
              "    </tr>\n",
              "    <tr>\n",
              "      <th>4</th>\n",
              "      <td>TRRIVDJ128F429B0E8</td>\n",
              "      <td>Wonderwall</td>\n",
              "      <td>Oasis</td>\n",
              "      <td>rock, alternative, indie, pop, alternative_roc...</td>\n",
              "      <td>0.409</td>\n",
              "      <td>0.892</td>\n",
              "      <td>-4.373</td>\n",
              "      <td>1</td>\n",
              "      <td>0.0336</td>\n",
              "      <td>0.000807</td>\n",
              "      <td>0.0</td>\n",
              "      <td>0.2070</td>\n",
              "      <td>0.651</td>\n",
              "      <td>174.426</td>\n",
              "      <td>4.310217</td>\n",
              "      <td>2cdf67cd70a64964cb914835af0043fcc28a8f48</td>\n",
              "      <td>12</td>\n",
              "    </tr>\n",
              "  </tbody>\n",
              "</table>\n",
              "</div>"
            ],
            "text/plain": [
              "             track_id            name       artist  \\\n",
              "0  TRIOREW128F424EAF0  Mr. Brightside  The Killers   \n",
              "1  TRRIVDJ128F429B0E8      Wonderwall        Oasis   \n",
              "2  TRRIVDJ128F429B0E8      Wonderwall        Oasis   \n",
              "3  TRRIVDJ128F429B0E8      Wonderwall        Oasis   \n",
              "4  TRRIVDJ128F429B0E8      Wonderwall        Oasis   \n",
              "\n",
              "                                                tags  danceability  energy  \\\n",
              "0  rock, alternative, indie, alternative_rock, in...         0.355   0.918   \n",
              "1  rock, alternative, indie, pop, alternative_roc...         0.409   0.892   \n",
              "2  rock, alternative, indie, pop, alternative_roc...         0.409   0.892   \n",
              "3  rock, alternative, indie, pop, alternative_roc...         0.409   0.892   \n",
              "4  rock, alternative, indie, pop, alternative_roc...         0.409   0.892   \n",
              "\n",
              "   loudness  mode  speechiness  acousticness  instrumentalness  liveness  \\\n",
              "0    -4.360     1       0.0746      0.001190               0.0    0.0971   \n",
              "1    -4.373     1       0.0336      0.000807               0.0    0.2070   \n",
              "2    -4.373     1       0.0336      0.000807               0.0    0.2070   \n",
              "3    -4.373     1       0.0336      0.000807               0.0    0.2070   \n",
              "4    -4.373     1       0.0336      0.000807               0.0    0.2070   \n",
              "\n",
              "   valence    tempo  duration_mins                                   user_id  \\\n",
              "0    0.240  148.114       3.703333  fe31db6d197a667d265ff5a35d80d60f3660f729   \n",
              "1    0.651  174.426       4.310217  67874d1a189c83326c529e554be6f7acf55effae   \n",
              "2    0.651  174.426       4.310217  e3ee8846c9a5a0916700a9e7abfc1c5b2fcb8e36   \n",
              "3    0.651  174.426       4.310217  cbb6b8dccf0af0d221dfd4684072c04bb0346f30   \n",
              "4    0.651  174.426       4.310217  2cdf67cd70a64964cb914835af0043fcc28a8f48   \n",
              "\n",
              "   playcount  \n",
              "0          2  \n",
              "1         12  \n",
              "2          5  \n",
              "3          2  \n",
              "4         12  "
            ]
          },
          "execution_count": 8,
          "metadata": {},
          "output_type": "execute_result"
        }
      ],
      "source": [
        "data = pd.merge(song_features_data, user_listening_data, on='track_id')\n",
        "data.head()"
      ]
    },
    {
      "cell_type": "markdown",
      "metadata": {
        "id": "8KFdGrtno9d_"
      },
      "source": [
        "### Obtain total number of listens per song"
      ]
    },
    {
      "cell_type": "code",
      "execution_count": 9,
      "metadata": {
        "colab": {
          "base_uri": "https://localhost:8080/",
          "height": 423
        },
        "id": "ULj0QCPVibK7",
        "outputId": "975218c7-bf5d-4fcd-bbd7-2f00fc587c7f"
      },
      "outputs": [
        {
          "data": {
            "text/html": [
              "<div>\n",
              "<style scoped>\n",
              "    .dataframe tbody tr th:only-of-type {\n",
              "        vertical-align: middle;\n",
              "    }\n",
              "\n",
              "    .dataframe tbody tr th {\n",
              "        vertical-align: top;\n",
              "    }\n",
              "\n",
              "    .dataframe thead th {\n",
              "        text-align: right;\n",
              "    }\n",
              "</style>\n",
              "<table border=\"1\" class=\"dataframe\">\n",
              "  <thead>\n",
              "    <tr style=\"text-align: right;\">\n",
              "      <th></th>\n",
              "      <th>name</th>\n",
              "      <th>playcount</th>\n",
              "    </tr>\n",
              "  </thead>\n",
              "  <tbody>\n",
              "    <tr>\n",
              "      <th>0</th>\n",
              "      <td>#1 Zero</td>\n",
              "      <td>13</td>\n",
              "    </tr>\n",
              "    <tr>\n",
              "      <th>1</th>\n",
              "      <td>#16</td>\n",
              "      <td>110</td>\n",
              "    </tr>\n",
              "    <tr>\n",
              "      <th>2</th>\n",
              "      <td>#17</td>\n",
              "      <td>7</td>\n",
              "    </tr>\n",
              "    <tr>\n",
              "      <th>3</th>\n",
              "      <td>#24</td>\n",
              "      <td>5</td>\n",
              "    </tr>\n",
              "    <tr>\n",
              "      <th>4</th>\n",
              "      <td>$20 for Boban</td>\n",
              "      <td>43</td>\n",
              "    </tr>\n",
              "    <tr>\n",
              "      <th>...</th>\n",
              "      <td>...</td>\n",
              "      <td>...</td>\n",
              "    </tr>\n",
              "    <tr>\n",
              "      <th>23579</th>\n",
              "      <td>慟哭と去りぬ</td>\n",
              "      <td>134</td>\n",
              "    </tr>\n",
              "    <tr>\n",
              "      <th>23580</th>\n",
              "      <td>我、闇とて･･･</td>\n",
              "      <td>7</td>\n",
              "    </tr>\n",
              "    <tr>\n",
              "      <th>23581</th>\n",
              "      <td>朔-saku-</td>\n",
              "      <td>51</td>\n",
              "    </tr>\n",
              "    <tr>\n",
              "      <th>23582</th>\n",
              "      <td>蜷局</td>\n",
              "      <td>368</td>\n",
              "    </tr>\n",
              "    <tr>\n",
              "      <th>23583</th>\n",
              "      <td>鼓動</td>\n",
              "      <td>22</td>\n",
              "    </tr>\n",
              "  </tbody>\n",
              "</table>\n",
              "<p>23584 rows × 2 columns</p>\n",
              "</div>"
            ],
            "text/plain": [
              "                name  playcount\n",
              "0            #1 Zero         13\n",
              "1                #16        110\n",
              "2                #17          7\n",
              "3                #24          5\n",
              "4      $20 for Boban         43\n",
              "...              ...        ...\n",
              "23579         慟哭と去りぬ        134\n",
              "23580       我、闇とて･･･          7\n",
              "23581        朔-saku-         51\n",
              "23582             蜷局        368\n",
              "23583             鼓動         22\n",
              "\n",
              "[23584 rows x 2 columns]"
            ]
          },
          "execution_count": 9,
          "metadata": {},
          "output_type": "execute_result"
        }
      ],
      "source": [
        "play_counts = data.groupby('name')['playcount'].sum().reset_index()\n",
        "play_counts"
      ]
    },
    {
      "cell_type": "markdown",
      "metadata": {
        "id": "xO9k04zspGk3"
      },
      "source": [
        "### Create playlists for input to RNN"
      ]
    },
    {
      "cell_type": "code",
      "execution_count": 10,
      "metadata": {
        "colab": {
          "base_uri": "https://localhost:8080/",
          "height": 825
        },
        "id": "4UObsgagjCNb",
        "outputId": "ac841c42-22b3-45c9-c3e2-205d7ea6ea82"
      },
      "outputs": [
        {
          "data": {
            "text/html": [
              "<div>\n",
              "<style scoped>\n",
              "    .dataframe tbody tr th:only-of-type {\n",
              "        vertical-align: middle;\n",
              "    }\n",
              "\n",
              "    .dataframe tbody tr th {\n",
              "        vertical-align: top;\n",
              "    }\n",
              "\n",
              "    .dataframe thead th {\n",
              "        text-align: right;\n",
              "    }\n",
              "</style>\n",
              "<table border=\"1\" class=\"dataframe\">\n",
              "  <thead>\n",
              "    <tr style=\"text-align: right;\">\n",
              "      <th></th>\n",
              "      <th>track_id</th>\n",
              "      <th>name</th>\n",
              "      <th>artist</th>\n",
              "      <th>tags</th>\n",
              "      <th>danceability</th>\n",
              "      <th>energy</th>\n",
              "      <th>loudness</th>\n",
              "      <th>mode</th>\n",
              "      <th>speechiness</th>\n",
              "      <th>acousticness</th>\n",
              "      <th>instrumentalness</th>\n",
              "      <th>liveness</th>\n",
              "      <th>valence</th>\n",
              "      <th>tempo</th>\n",
              "      <th>duration_mins</th>\n",
              "      <th>user_id</th>\n",
              "      <th>playcount</th>\n",
              "    </tr>\n",
              "  </thead>\n",
              "  <tbody>\n",
              "    <tr>\n",
              "      <th>306346</th>\n",
              "      <td>TRTVXIH128F426625A</td>\n",
              "      <td>Come Round Soon</td>\n",
              "      <td>Sara Bareilles</td>\n",
              "      <td>pop, female_vocalists, singer_songwriter, soul...</td>\n",
              "      <td>0.338</td>\n",
              "      <td>0.819</td>\n",
              "      <td>-4.495</td>\n",
              "      <td>0</td>\n",
              "      <td>0.0776</td>\n",
              "      <td>0.077700</td>\n",
              "      <td>0.000000</td>\n",
              "      <td>0.1590</td>\n",
              "      <td>0.545</td>\n",
              "      <td>74.751</td>\n",
              "      <td>3.552000</td>\n",
              "      <td>0000f88f8d76a238c251450913b0d070e4a77d19</td>\n",
              "      <td>2</td>\n",
              "    </tr>\n",
              "    <tr>\n",
              "      <th>417455</th>\n",
              "      <td>TRWUFEW128F14782F3</td>\n",
              "      <td>Forever My Friend</td>\n",
              "      <td>Ray LaMontagne</td>\n",
              "      <td>folk, singer_songwriter, soul, blues, acoustic...</td>\n",
              "      <td>0.493</td>\n",
              "      <td>0.524</td>\n",
              "      <td>-13.553</td>\n",
              "      <td>1</td>\n",
              "      <td>0.0423</td>\n",
              "      <td>0.334000</td>\n",
              "      <td>0.014100</td>\n",
              "      <td>0.3570</td>\n",
              "      <td>0.379</td>\n",
              "      <td>176.233</td>\n",
              "      <td>5.788883</td>\n",
              "      <td>0000f88f8d76a238c251450913b0d070e4a77d19</td>\n",
              "      <td>2</td>\n",
              "    </tr>\n",
              "    <tr>\n",
              "      <th>32466</th>\n",
              "      <td>TRNXEPE128F9339E47</td>\n",
              "      <td>My Name Is Jonas</td>\n",
              "      <td>Weezer</td>\n",
              "      <td>rock, alternative, indie, alternative_rock, in...</td>\n",
              "      <td>0.261</td>\n",
              "      <td>0.947</td>\n",
              "      <td>-3.031</td>\n",
              "      <td>1</td>\n",
              "      <td>0.0488</td>\n",
              "      <td>0.000197</td>\n",
              "      <td>0.003320</td>\n",
              "      <td>0.3100</td>\n",
              "      <td>0.550</td>\n",
              "      <td>185.942</td>\n",
              "      <td>3.435333</td>\n",
              "      <td>0000f88f8d76a238c251450913b0d070e4a77d19</td>\n",
              "      <td>2</td>\n",
              "    </tr>\n",
              "    <tr>\n",
              "      <th>698954</th>\n",
              "      <td>TRMKCCV128F92EB22E</td>\n",
              "      <td>Light On</td>\n",
              "      <td>David Cook</td>\n",
              "      <td>rock, alternative_rock, male_vocalists</td>\n",
              "      <td>0.448</td>\n",
              "      <td>0.830</td>\n",
              "      <td>-4.156</td>\n",
              "      <td>0</td>\n",
              "      <td>0.0332</td>\n",
              "      <td>0.067300</td>\n",
              "      <td>0.000000</td>\n",
              "      <td>0.1130</td>\n",
              "      <td>0.362</td>\n",
              "      <td>131.991</td>\n",
              "      <td>3.816883</td>\n",
              "      <td>0000f88f8d76a238c251450913b0d070e4a77d19</td>\n",
              "      <td>3</td>\n",
              "    </tr>\n",
              "    <tr>\n",
              "      <th>227171</th>\n",
              "      <td>TRJGJTH128F4291A81</td>\n",
              "      <td>Oh My God, Whatever, Etc.</td>\n",
              "      <td>Ryan Adams</td>\n",
              "      <td>rock, indie, folk, singer_songwriter, acoustic...</td>\n",
              "      <td>0.572</td>\n",
              "      <td>0.395</td>\n",
              "      <td>-10.630</td>\n",
              "      <td>1</td>\n",
              "      <td>0.0304</td>\n",
              "      <td>0.700000</td>\n",
              "      <td>0.000250</td>\n",
              "      <td>0.1260</td>\n",
              "      <td>0.483</td>\n",
              "      <td>79.552</td>\n",
              "      <td>2.532667</td>\n",
              "      <td>0000f88f8d76a238c251450913b0d070e4a77d19</td>\n",
              "      <td>2</td>\n",
              "    </tr>\n",
              "    <tr>\n",
              "      <th>...</th>\n",
              "      <td>...</td>\n",
              "      <td>...</td>\n",
              "      <td>...</td>\n",
              "      <td>...</td>\n",
              "      <td>...</td>\n",
              "      <td>...</td>\n",
              "      <td>...</td>\n",
              "      <td>...</td>\n",
              "      <td>...</td>\n",
              "      <td>...</td>\n",
              "      <td>...</td>\n",
              "      <td>...</td>\n",
              "      <td>...</td>\n",
              "      <td>...</td>\n",
              "      <td>...</td>\n",
              "      <td>...</td>\n",
              "      <td>...</td>\n",
              "    </tr>\n",
              "    <tr>\n",
              "      <th>802077</th>\n",
              "      <td>TRSEFCM128F429354D</td>\n",
              "      <td>Set It Up</td>\n",
              "      <td>Xavier Rudd</td>\n",
              "      <td>acoustic, 00s</td>\n",
              "      <td>0.469</td>\n",
              "      <td>0.385</td>\n",
              "      <td>-11.300</td>\n",
              "      <td>0</td>\n",
              "      <td>0.0270</td>\n",
              "      <td>0.503000</td>\n",
              "      <td>0.001390</td>\n",
              "      <td>0.1150</td>\n",
              "      <td>0.116</td>\n",
              "      <td>130.767</td>\n",
              "      <td>4.141550</td>\n",
              "      <td>fffbab4b8416fc41d05fcbdcf0e6735c4f37cb39</td>\n",
              "      <td>2</td>\n",
              "    </tr>\n",
              "    <tr>\n",
              "      <th>417463</th>\n",
              "      <td>TRWUFEW128F14782F3</td>\n",
              "      <td>Forever My Friend</td>\n",
              "      <td>Ray LaMontagne</td>\n",
              "      <td>folk, singer_songwriter, soul, blues, acoustic...</td>\n",
              "      <td>0.493</td>\n",
              "      <td>0.524</td>\n",
              "      <td>-13.553</td>\n",
              "      <td>1</td>\n",
              "      <td>0.0423</td>\n",
              "      <td>0.334000</td>\n",
              "      <td>0.014100</td>\n",
              "      <td>0.3570</td>\n",
              "      <td>0.379</td>\n",
              "      <td>176.233</td>\n",
              "      <td>5.788883</td>\n",
              "      <td>fffbab4b8416fc41d05fcbdcf0e6735c4f37cb39</td>\n",
              "      <td>8</td>\n",
              "    </tr>\n",
              "    <tr>\n",
              "      <th>649627</th>\n",
              "      <td>TRDVGIH128F429353C</td>\n",
              "      <td>Come Let Go</td>\n",
              "      <td>Xavier Rudd</td>\n",
              "      <td>reggae, male_vocalists</td>\n",
              "      <td>0.547</td>\n",
              "      <td>0.546</td>\n",
              "      <td>-8.634</td>\n",
              "      <td>1</td>\n",
              "      <td>0.0470</td>\n",
              "      <td>0.114000</td>\n",
              "      <td>0.037200</td>\n",
              "      <td>0.3810</td>\n",
              "      <td>0.280</td>\n",
              "      <td>140.477</td>\n",
              "      <td>6.870433</td>\n",
              "      <td>fffbab4b8416fc41d05fcbdcf0e6735c4f37cb39</td>\n",
              "      <td>28</td>\n",
              "    </tr>\n",
              "    <tr>\n",
              "      <th>553208</th>\n",
              "      <td>TROXFVJ128F1465265</td>\n",
              "      <td>Bottom Of the Barrel</td>\n",
              "      <td>Amos Lee</td>\n",
              "      <td>folk, soul, acoustic, guitar</td>\n",
              "      <td>0.609</td>\n",
              "      <td>0.346</td>\n",
              "      <td>-12.703</td>\n",
              "      <td>1</td>\n",
              "      <td>0.1460</td>\n",
              "      <td>0.761000</td>\n",
              "      <td>0.000000</td>\n",
              "      <td>0.1100</td>\n",
              "      <td>0.550</td>\n",
              "      <td>178.137</td>\n",
              "      <td>2.006433</td>\n",
              "      <td>fffbab4b8416fc41d05fcbdcf0e6735c4f37cb39</td>\n",
              "      <td>4</td>\n",
              "    </tr>\n",
              "    <tr>\n",
              "      <th>4055</th>\n",
              "      <td>TRPFYYL128F92F7144</td>\n",
              "      <td>Float On</td>\n",
              "      <td>Modest Mouse</td>\n",
              "      <td>rock, alternative, indie, alternative_rock, in...</td>\n",
              "      <td>0.646</td>\n",
              "      <td>0.893</td>\n",
              "      <td>-4.799</td>\n",
              "      <td>1</td>\n",
              "      <td>0.0301</td>\n",
              "      <td>0.015100</td>\n",
              "      <td>0.000004</td>\n",
              "      <td>0.0892</td>\n",
              "      <td>0.559</td>\n",
              "      <td>100.951</td>\n",
              "      <td>3.474433</td>\n",
              "      <td>fffbab4b8416fc41d05fcbdcf0e6735c4f37cb39</td>\n",
              "      <td>4</td>\n",
              "    </tr>\n",
              "  </tbody>\n",
              "</table>\n",
              "<p>806745 rows × 17 columns</p>\n",
              "</div>"
            ],
            "text/plain": [
              "                  track_id                       name          artist  \\\n",
              "306346  TRTVXIH128F426625A            Come Round Soon  Sara Bareilles   \n",
              "417455  TRWUFEW128F14782F3          Forever My Friend  Ray LaMontagne   \n",
              "32466   TRNXEPE128F9339E47           My Name Is Jonas          Weezer   \n",
              "698954  TRMKCCV128F92EB22E                   Light On      David Cook   \n",
              "227171  TRJGJTH128F4291A81  Oh My God, Whatever, Etc.      Ryan Adams   \n",
              "...                    ...                        ...             ...   \n",
              "802077  TRSEFCM128F429354D                  Set It Up     Xavier Rudd   \n",
              "417463  TRWUFEW128F14782F3          Forever My Friend  Ray LaMontagne   \n",
              "649627  TRDVGIH128F429353C                Come Let Go     Xavier Rudd   \n",
              "553208  TROXFVJ128F1465265       Bottom Of the Barrel        Amos Lee   \n",
              "4055    TRPFYYL128F92F7144                   Float On    Modest Mouse   \n",
              "\n",
              "                                                     tags  danceability  \\\n",
              "306346  pop, female_vocalists, singer_songwriter, soul...         0.338   \n",
              "417455  folk, singer_songwriter, soul, blues, acoustic...         0.493   \n",
              "32466   rock, alternative, indie, alternative_rock, in...         0.261   \n",
              "698954             rock, alternative_rock, male_vocalists         0.448   \n",
              "227171  rock, indie, folk, singer_songwriter, acoustic...         0.572   \n",
              "...                                                   ...           ...   \n",
              "802077                                      acoustic, 00s         0.469   \n",
              "417463  folk, singer_songwriter, soul, blues, acoustic...         0.493   \n",
              "649627                             reggae, male_vocalists         0.547   \n",
              "553208                       folk, soul, acoustic, guitar         0.609   \n",
              "4055    rock, alternative, indie, alternative_rock, in...         0.646   \n",
              "\n",
              "        energy  loudness  mode  speechiness  acousticness  instrumentalness  \\\n",
              "306346   0.819    -4.495     0       0.0776      0.077700          0.000000   \n",
              "417455   0.524   -13.553     1       0.0423      0.334000          0.014100   \n",
              "32466    0.947    -3.031     1       0.0488      0.000197          0.003320   \n",
              "698954   0.830    -4.156     0       0.0332      0.067300          0.000000   \n",
              "227171   0.395   -10.630     1       0.0304      0.700000          0.000250   \n",
              "...        ...       ...   ...          ...           ...               ...   \n",
              "802077   0.385   -11.300     0       0.0270      0.503000          0.001390   \n",
              "417463   0.524   -13.553     1       0.0423      0.334000          0.014100   \n",
              "649627   0.546    -8.634     1       0.0470      0.114000          0.037200   \n",
              "553208   0.346   -12.703     1       0.1460      0.761000          0.000000   \n",
              "4055     0.893    -4.799     1       0.0301      0.015100          0.000004   \n",
              "\n",
              "        liveness  valence    tempo  duration_mins  \\\n",
              "306346    0.1590    0.545   74.751       3.552000   \n",
              "417455    0.3570    0.379  176.233       5.788883   \n",
              "32466     0.3100    0.550  185.942       3.435333   \n",
              "698954    0.1130    0.362  131.991       3.816883   \n",
              "227171    0.1260    0.483   79.552       2.532667   \n",
              "...          ...      ...      ...            ...   \n",
              "802077    0.1150    0.116  130.767       4.141550   \n",
              "417463    0.3570    0.379  176.233       5.788883   \n",
              "649627    0.3810    0.280  140.477       6.870433   \n",
              "553208    0.1100    0.550  178.137       2.006433   \n",
              "4055      0.0892    0.559  100.951       3.474433   \n",
              "\n",
              "                                         user_id  playcount  \n",
              "306346  0000f88f8d76a238c251450913b0d070e4a77d19          2  \n",
              "417455  0000f88f8d76a238c251450913b0d070e4a77d19          2  \n",
              "32466   0000f88f8d76a238c251450913b0d070e4a77d19          2  \n",
              "698954  0000f88f8d76a238c251450913b0d070e4a77d19          3  \n",
              "227171  0000f88f8d76a238c251450913b0d070e4a77d19          2  \n",
              "...                                          ...        ...  \n",
              "802077  fffbab4b8416fc41d05fcbdcf0e6735c4f37cb39          2  \n",
              "417463  fffbab4b8416fc41d05fcbdcf0e6735c4f37cb39          8  \n",
              "649627  fffbab4b8416fc41d05fcbdcf0e6735c4f37cb39         28  \n",
              "553208  fffbab4b8416fc41d05fcbdcf0e6735c4f37cb39          4  \n",
              "4055    fffbab4b8416fc41d05fcbdcf0e6735c4f37cb39          4  \n",
              "\n",
              "[806745 rows x 17 columns]"
            ]
          },
          "execution_count": 10,
          "metadata": {},
          "output_type": "execute_result"
        }
      ],
      "source": [
        "data = data.sort_values(['user_id'])\n",
        "data"
      ]
    },
    {
      "cell_type": "code",
      "execution_count": 11,
      "metadata": {
        "colab": {
          "base_uri": "https://localhost:8080/"
        },
        "id": "r8s7KampjDRs",
        "outputId": "7615063b-91ef-44be-c7eb-d79d2d99c166"
      },
      "outputs": [
        {
          "name": "stdout",
          "output_type": "stream",
          "text": [
            "user_id\n",
            "0000f88f8d76a238c251450913b0d070e4a77d19    [TRTVXIH128F426625A, TRWUFEW128F14782F3, TRNXE...\n",
            "0005eb11fd1dad47e6e6719a4db30340073a9e38    [TRGOJNK128F92F2A03, TRQPSHM128F92F29ED, TRTUW...\n",
            "000d80cd9b58a8f77b33aa613dcfc5cbf1daf5e8    [TRDYYKS128F4275626, TRBHLYP12903D0D107, TRABF...\n",
            "000e9296161b73a1821aaed3d7f50d95e8665bf6    [TROPEIV128F428F5A8, TRIAZQY128F934D58D, TRMKA...\n",
            "00100482b3f3074549c751e718c57ed211b35991    [TRSNCIW128F14557BC, TRJKPFL12903CCE490, TRWJN...\n",
            "                                                                  ...                        \n",
            "fff7352d8ca192c451ce4fa00d18e33e261ecad3    [TRDRVJA128F4267831, TRCKWGF12903CD2DCD, TRXUW...\n",
            "fff759a45a3a68de552740e8285a97d5f65d4e58    [TRDJZFF128F92D2627, TRULONW128F9302209, TRBNY...\n",
            "fff9bd021bf6e07936883b9bb045207fcf372a2c    [TROHXCJ128F935A6AC, TRUMJNK12903CF465A, TRXYM...\n",
            "fffb0b218640d86e5cb99d41cd3ecad977142da5    [TRZGGHL12903CDBF1F, TRCAUIX128F4277AD0, TRYIK...\n",
            "fffbab4b8416fc41d05fcbdcf0e6735c4f37cb39    [TRGPCUN128F1465269, TRHWQQY128F427B6EB, TRCXQ...\n",
            "Name: track_id, Length: 25343, dtype: object\n"
          ]
        }
      ],
      "source": [
        "# Changed name to track_id\n",
        "playlists = data.groupby('user_id')['track_id'].apply(lambda x: list(x.head(20)))\n",
        "playlist_dict = playlists.to_dict()\n",
        "print(playlists)"
      ]
    },
    {
      "cell_type": "code",
      "execution_count": 12,
      "metadata": {
        "id": "dL56_oKPjLtw"
      },
      "outputs": [],
      "source": [
        "# Changed track_id to name\n",
        "data_dict = data.drop(['name', 'artist', 'tags', 'playcount'], axis=1)\n",
        "# Changed name to track_id\n",
        "data_dict = data_dict.set_index(['user_id', 'track_id']).to_dict('index')"
      ]
    },
    {
      "cell_type": "code",
      "execution_count": 13,
      "metadata": {
        "colab": {
          "base_uri": "https://localhost:8080/"
        },
        "id": "tzSIPcLdjQIV",
        "outputId": "3b6a70f1-9c3e-46d1-85c3-79711d2c5a09"
      },
      "outputs": [
        {
          "name": "stdout",
          "output_type": "stream",
          "text": [
            "10000\n",
            "20000\n",
            "30000\n",
            "40000\n",
            "50000\n",
            "60000\n",
            "70000\n",
            "80000\n",
            "90000\n",
            "100000\n",
            "110000\n",
            "120000\n",
            "130000\n",
            "140000\n",
            "150000\n",
            "160000\n",
            "170000\n",
            "180000\n",
            "190000\n",
            "200000\n",
            "210000\n",
            "220000\n",
            "230000\n",
            "240000\n",
            "250000\n",
            "260000\n",
            "270000\n",
            "280000\n",
            "290000\n",
            "300000\n",
            "310000\n",
            "320000\n",
            "330000\n",
            "340000\n",
            "350000\n",
            "360000\n",
            "370000\n",
            "380000\n",
            "390000\n",
            "400000\n",
            "410000\n",
            "420000\n",
            "430000\n",
            "440000\n",
            "450000\n",
            "460000\n",
            "470000\n",
            "480000\n",
            "490000\n",
            "500000\n",
            "Total songs processed: 506860\n"
          ]
        }
      ],
      "source": [
        "songs_done = 0\n",
        "updated_playlist_dict = {}\n",
        "for user_id, songs in playlist_dict.items():\n",
        "    updated_songs = []\n",
        "    for song in songs:\n",
        "        key = (user_id, song)\n",
        "        if key in data_dict:\n",
        "            the_features = list(data_dict[key].values())\n",
        "            updated_songs.append([song] + the_features)\n",
        "            songs_done += 1\n",
        "            if songs_done % 10000 == 0:\n",
        "                print(songs_done)\n",
        "    updated_playlist_dict[user_id] = updated_songs\n",
        "\n",
        "playlist_dict = updated_playlist_dict\n",
        "\n",
        "print(f\"Total songs processed: {songs_done}\")"
      ]
    },
    {
      "cell_type": "code",
      "execution_count": 14,
      "metadata": {
        "colab": {
          "base_uri": "https://localhost:8080/"
        },
        "id": "0t8r9EuB1Es4",
        "outputId": "67cc981c-8a1c-469a-83ed-510026487c11"
      },
      "outputs": [
        {
          "name": "stdout",
          "output_type": "stream",
          "text": [
            "[[['TRTVXIH128F426625A' '0.338' '0.819' ... '0.0' '0.159' '0.545']\n",
            "  ['TRWUFEW128F14782F3' '0.493' '0.524' ... '0.0141' '0.357' '0.379']\n",
            "  ['TRNXEPE128F9339E47' '0.261' '0.947' ... '0.00332' '0.31' '0.55']\n",
            "  ...\n",
            "  ['TRTWOCA128F14840B8' '0.634' '0.341' ... '0.14' '0.0861' '0.599']\n",
            "  ['TRQSEMJ128F4294F24' '0.419' '0.537' ... '1.83e-06' '0.482' '0.737']\n",
            "  ['TRUNKTP12903CD1EFB' '0.514' '0.507' ... '0.107' '0.185' '0.854']]\n",
            "\n",
            " [['TRGOJNK128F92F2A03' '0.645' '0.618' ... '0.0173' '0.149' '0.112']\n",
            "  ['TRQPSHM128F92F29ED' '0.665' '0.517' ... '0.0' '0.0925' '0.609']\n",
            "  ['TRTUWMO128F92F2A09' '0.638' '0.691' ... '3.31e-05' '0.161' '0.424']\n",
            "  ...\n",
            "  ['TRMIHFS128F92F2A01' '0.441' '0.819' ... '0.0176' '0.28' '0.66']\n",
            "  ['TRRLGDR128F933A7C9' '0.42' '0.995' ... '0.000429' '0.0931' '0.469']\n",
            "  ['TRLNFKN128F931BAF2' '0.6' '0.772' ... '0.0141' '0.0489' '0.424']]\n",
            "\n",
            " [['TRDYYKS128F4275626' '0.426' '0.995' ... '0.735' '0.56' '0.697']\n",
            "  ['TRBHLYP12903D0D107' '0.17' '0.988' ... '0.106' '0.145' '0.0832']\n",
            "  ['TRABFDT12903CADD73' '0.661' '0.886' ... '6e-05' '0.353' '0.573']\n",
            "  ...\n",
            "  ['TROTWMO128F42B9238' '0.278' '0.163' ... '0.909' '0.107' '0.0383']\n",
            "  ['TRJYECB128F4230F29' '0.376' '0.325' ... '0.0436' '0.113' '0.233']\n",
            "  ['TRJLGXB128F93043EA' '0.717' '0.559' ... '0.919' '0.0737' '0.192']]\n",
            "\n",
            " ...\n",
            "\n",
            " [['TROHXCJ128F935A6AC' '0.193' '0.991' ... '0.854' '0.266' '0.0975']\n",
            "  ['TRUMJNK12903CF465A' '0.328' '0.944' ... '0.065' '0.101' '0.162']\n",
            "  ['TRXYMSH12903CF4662' '0.386' '0.85' ... '0.0375' '0.221' '0.153']\n",
            "  ...\n",
            "  ['TRAXOWS12903CF25DD' '0.481' '0.929' ... '0.789' '0.0895' '0.277']\n",
            "  ['TRMLTQI128F93115BD' '0.427' '0.922' ... '0.849' '0.292' '0.555']\n",
            "  ['TRBLZCC128F93115C9' '0.45' '0.963' ... '0.804' '0.615' '0.274']]\n",
            "\n",
            " [['TRZGGHL12903CDBF1F' '0.243' '0.986' ... '6.86e-05' '0.893' '0.445']\n",
            "  ['TRCAUIX128F4277AD0' '0.54' '0.81' ... '8.63e-06' '0.199' '0.761']\n",
            "  ['TRYIKBI128F426FFF2' '0.348' '0.624' ... '6.97e-06' '0.0747' '0.49']\n",
            "  ...\n",
            "  ['TRLUCGR128F4277AC1' '0.282' '0.922' ... '0.0' '0.245' '0.609']\n",
            "  ['TRPWHTJ128F4277ACE' '0.293' '0.925' ... '0.0' '0.086' '0.611']\n",
            "  ['TRHSGXW12903CE895F' '0.385' '0.969' ... '0.0462' '0.0817' '0.854']]\n",
            "\n",
            " [['TRGPCUN128F1465269' '0.543' '0.588' ... '0.00155' '0.108' '0.483']\n",
            "  ['TRHWQQY128F427B6EB' '0.508' '0.825' ... '0.792' '0.222' '0.125']\n",
            "  ['TRCXQWL128F93492C5' '0.585' '0.972' ... '3.59e-06' '0.172' '0.607']\n",
            "  ...\n",
            "  ['TRERUDZ128F1465259' '0.63' '0.237' ... '0.0' '0.108' '0.24']\n",
            "  ['TRSDQQC128F14856D1' '0.284' '0.181' ... '0.00943' '0.442' '0.144']\n",
            "  ['TRSEFCM128F429354D' '0.469' '0.385' ... '0.00139' '0.115' '0.116']]]\n"
          ]
        }
      ],
      "source": [
        "arr = []\n",
        "for user_id, playlist in playlist_dict.items():\n",
        "    arr2 = []\n",
        "    for song in playlist:\n",
        "        arr2.append(np.concatenate((song[0:4], song[5:10])))\n",
        "    arr.append(arr2)\n",
        "\n",
        "arr_np = np.array(arr)\n",
        "print(arr_np)"
      ]
    },
    {
      "cell_type": "code",
      "execution_count": 15,
      "metadata": {
        "colab": {
          "base_uri": "https://localhost:8080/",
          "height": 330
        },
        "id": "Q1wUfGNjjire",
        "outputId": "1b26e6b6-f084-4b2e-f834-d726646862a8"
      },
      "outputs": [
        {
          "data": {
            "text/html": [
              "<div>\n",
              "<style scoped>\n",
              "    .dataframe tbody tr th:only-of-type {\n",
              "        vertical-align: middle;\n",
              "    }\n",
              "\n",
              "    .dataframe tbody tr th {\n",
              "        vertical-align: top;\n",
              "    }\n",
              "\n",
              "    .dataframe thead th {\n",
              "        text-align: right;\n",
              "    }\n",
              "</style>\n",
              "<table border=\"1\" class=\"dataframe\">\n",
              "  <thead>\n",
              "    <tr style=\"text-align: right;\">\n",
              "      <th></th>\n",
              "      <th>0</th>\n",
              "      <th>1</th>\n",
              "      <th>2</th>\n",
              "      <th>3</th>\n",
              "      <th>4</th>\n",
              "      <th>5</th>\n",
              "      <th>6</th>\n",
              "      <th>7</th>\n",
              "      <th>8</th>\n",
              "      <th>9</th>\n",
              "      <th>10</th>\n",
              "      <th>11</th>\n",
              "      <th>12</th>\n",
              "      <th>13</th>\n",
              "      <th>14</th>\n",
              "      <th>15</th>\n",
              "      <th>16</th>\n",
              "      <th>17</th>\n",
              "      <th>18</th>\n",
              "      <th>19</th>\n",
              "    </tr>\n",
              "  </thead>\n",
              "  <tbody>\n",
              "    <tr>\n",
              "      <th>0000f88f8d76a238c251450913b0d070e4a77d19</th>\n",
              "      <td>[TRTVXIH128F426625A, 0.338, 0.819, -4.495, 0, ...</td>\n",
              "      <td>[TRWUFEW128F14782F3, 0.493, 0.524, -13.553, 1,...</td>\n",
              "      <td>[TRNXEPE128F9339E47, 0.261, 0.947, -3.031, 1, ...</td>\n",
              "      <td>[TRMKCCV128F92EB22E, 0.448, 0.83, -4.156, 0, 0...</td>\n",
              "      <td>[TRJGJTH128F4291A81, 0.572, 0.395, -10.63, 1, ...</td>\n",
              "      <td>[TRFQYFT128F14840BC, 0.524, 0.405, -10.679, 1,...</td>\n",
              "      <td>[TRKSXHR128F1455E4D, 0.341, 0.301, -11.074, 1,...</td>\n",
              "      <td>[TRGJTIY128F4296A0E, 0.372, 0.532, -7.968, 1, ...</td>\n",
              "      <td>[TRZLJOC128F14840BE, 0.513, 0.723, -7.211, 1, ...</td>\n",
              "      <td>[TRSMEUG128F14856D2, 0.487, 0.435, -9.753, 1, ...</td>\n",
              "      <td>[TRZYESA128F148D67F, 0.652, 0.227, -12.395, 1,...</td>\n",
              "      <td>[TRRUNEV128F148D719, 0.526, 0.772, -5.016, 1, ...</td>\n",
              "      <td>[TRDKRLP128F4291A80, 0.275, 0.784, -4.896, 1, ...</td>\n",
              "      <td>[TRFTUIW128E0784B9F, 0.597, 0.532, -10.583, 1,...</td>\n",
              "      <td>[TRKGCIA128F92C315D, 0.542, 0.911, -4.789, 0, ...</td>\n",
              "      <td>[TRFUCYR128F92DC67F, 0.544, 0.869, -4.079, 1, ...</td>\n",
              "      <td>[TROZZNY128F14782F7, 0.241, 0.0721, -22.115, 1...</td>\n",
              "      <td>[TRTWOCA128F14840B8, 0.634, 0.341, -14.214, 1,...</td>\n",
              "      <td>[TRQSEMJ128F4294F24, 0.419, 0.537, -7.301, 1, ...</td>\n",
              "      <td>[TRUNKTP12903CD1EFB, 0.514, 0.507, -12.25, 1, ...</td>\n",
              "    </tr>\n",
              "    <tr>\n",
              "      <th>0005eb11fd1dad47e6e6719a4db30340073a9e38</th>\n",
              "      <td>[TRGOJNK128F92F2A03, 0.645, 0.618, -8.594, 1, ...</td>\n",
              "      <td>[TRQPSHM128F92F29ED, 0.665, 0.517, -9.264, 1, ...</td>\n",
              "      <td>[TRTUWMO128F92F2A09, 0.638, 0.691, -7.948, 1, ...</td>\n",
              "      <td>[TRRNWAK128F92F29FB, 0.633, 0.686, -8.015, 1, ...</td>\n",
              "      <td>[TRYEGSH12903CD2DCE, 0.48, 0.79, -5.214, 1, 0....</td>\n",
              "      <td>[TRCKWGF12903CD2DCD, 0.729, 0.94, -4.933, 1, 0...</td>\n",
              "      <td>[TRNFVQI128F931BAEA, 0.641, 0.686, -6.727, 1, ...</td>\n",
              "      <td>[TRTKLFX12903CD2DC2, 0.646, 0.52, -7.289, 1, 0...</td>\n",
              "      <td>[TRPGPDK12903CCC651, 0.429, 0.563, -8.006, 0, ...</td>\n",
              "      <td>[TRJDMHS128F92F2A0C, 0.67, 0.583, -11.843, 1, ...</td>\n",
              "      <td>[TRLVQME128F931BAF3, 0.582, 0.523, -8.166, 1, ...</td>\n",
              "      <td>[TRUGOGT128F92F29E9, 0.673, 0.495, -8.299, 1, ...</td>\n",
              "      <td>[TRCXWLU128F92F2A0D, 0.536, 0.377, -13.255, 1,...</td>\n",
              "      <td>[TRRVJCK12903CD2DCB, 0.705, 0.605, -5.252, 1, ...</td>\n",
              "      <td>[TRCJAHJ128E07815B6, 0.776, 0.729, -5.427, 1, ...</td>\n",
              "      <td>[TRPWIGO128F931BAEB, 0.602, 0.69, -5.45, 1, 0....</td>\n",
              "      <td>[TRNEITZ128F92F29EA, 0.522, 0.804, -7.457, 1, ...</td>\n",
              "      <td>[TRMIHFS128F92F2A01, 0.441, 0.819, -8.414, 1, ...</td>\n",
              "      <td>[TRRLGDR128F933A7C9, 0.42, 0.995, -2.984, 0, 0...</td>\n",
              "      <td>[TRLNFKN128F931BAF2, 0.6, 0.772, -5.068, 1, 0....</td>\n",
              "    </tr>\n",
              "    <tr>\n",
              "      <th>000d80cd9b58a8f77b33aa613dcfc5cbf1daf5e8</th>\n",
              "      <td>[TRDYYKS128F4275626, 0.426, 0.995, -5.546, 0, ...</td>\n",
              "      <td>[TRBHLYP12903D0D107, 0.17, 0.988, -4.087, 1, 0...</td>\n",
              "      <td>[TRABFDT12903CADD73, 0.661, 0.886, -6.248, 0, ...</td>\n",
              "      <td>[TRLNVSC12903CADD67, 0.804, 0.739, -4.699, 1, ...</td>\n",
              "      <td>[TRKOCXI128F9316B54, 0.379, 0.532, -21.419, 1,...</td>\n",
              "      <td>[TRSEFCM128F429354D, 0.469, 0.385, -11.3, 0, 0...</td>\n",
              "      <td>[TRUWANM128F1485EE2, 0.673, 0.607, -7.672, 1, ...</td>\n",
              "      <td>[TRXKEMH128F423381D, 0.827, 0.729, -7.473, 1, ...</td>\n",
              "      <td>[TREMDON128F427C701, 0.751, 0.675, -8.159, 0, ...</td>\n",
              "      <td>[TRHPKWO128F92E01D5, 0.251, 0.642, -7.185, 1, ...</td>\n",
              "      <td>[TRPONOG128F4275608, 0.621, 0.825, -10.436, 1,...</td>\n",
              "      <td>[TRJGDTG128F421CE22, 0.606, 0.935, -4.389, 0, ...</td>\n",
              "      <td>[TROTYPC128E07940AB, 0.741, 0.37, -13.604, 0, ...</td>\n",
              "      <td>[TRPXIWX128F429831F, 0.632, 0.653, -7.384, 1, ...</td>\n",
              "      <td>[TROINZB128F932F740, 0.64, 0.767, -5.829, 1, 0...</td>\n",
              "      <td>[TROUAEG128F429354A, 0.473, 0.595, -10.2, 1, 0...</td>\n",
              "      <td>[TRQEBRP12903CADD6C, 0.564, 0.715, -7.654, 0, ...</td>\n",
              "      <td>[TROTWMO128F42B9238, 0.278, 0.163, -20.454, 0,...</td>\n",
              "      <td>[TRJYECB128F4230F29, 0.376, 0.325, -9.936, 1, ...</td>\n",
              "      <td>[TRJLGXB128F93043EA, 0.717, 0.559, -8.317, 1, ...</td>\n",
              "    </tr>\n",
              "    <tr>\n",
              "      <th>000e9296161b73a1821aaed3d7f50d95e8665bf6</th>\n",
              "      <td>[TROPEIV128F428F5A8, 0.281, 0.377, -9.827, 0, ...</td>\n",
              "      <td>[TRIAZQY128F934D58D, 0.788, 0.896, -6.863, 1, ...</td>\n",
              "      <td>[TRMKAZB128F92F2F3E, 0.566, 0.598, -7.202, 1, ...</td>\n",
              "      <td>[TRPHDFT128F92C5A75, 0.715, 0.534, -10.054, 1,...</td>\n",
              "      <td>[TRNXBBR128F425ECE3, 0.584, 0.242, -11.772, 0,...</td>\n",
              "      <td>[TRKPWGR128E078EE06, 0.551, 0.673, -7.362, 1, ...</td>\n",
              "      <td>[TRLPOFY128F425ECE8, 0.516, 0.241, -13.284, 1,...</td>\n",
              "      <td>[TRCHYZB128F425ECE1, 0.355, 0.35, -7.739, 0, 0...</td>\n",
              "      <td>[TRXEAZB128E078EDCE, 0.78, 0.884, -6.445, 1, 0...</td>\n",
              "      <td>[TRFVSOZ128F4281933, 0.389, 0.608, -7.531, 1, ...</td>\n",
              "      <td>[TRDMUWU128E078EDDB, 0.682, 0.405, -11.86, 1, ...</td>\n",
              "      <td>[TRDRFVY128F4281937, 0.46, 0.731, -6.866, 1, 0...</td>\n",
              "      <td>[TRIPLBA128F427200F, 0.692, 0.529, -8.459, 0, ...</td>\n",
              "      <td>[TRJSAID128F934D596, 0.518, 0.318, -11.312, 0,...</td>\n",
              "      <td>[TRMYAYJ128F934D0AF, 0.6, 0.432, -9.674, 0, 0....</td>\n",
              "      <td>[TRWGIOT128F425ECDE, 0.419, 0.248, -14.437, 1,...</td>\n",
              "      <td>[TRLRCIA128F425ECD7, 0.564, 0.499, -10.427, 0,...</td>\n",
              "      <td>[TRIAGDA128F4296176, 0.674, 0.723, -7.374, 1, ...</td>\n",
              "      <td>[TRIDPWO128F423DBC6, 0.338, 0.289, -13.479, 1,...</td>\n",
              "      <td>[TRPFLRB128F14A895D, 0.333, 0.75, -6.942, 1, 0...</td>\n",
              "    </tr>\n",
              "    <tr>\n",
              "      <th>00100482b3f3074549c751e718c57ed211b35991</th>\n",
              "      <td>[TRSNCIW128F14557BC, 0.306, 0.0694, -18.717, 0...</td>\n",
              "      <td>[TRJKPFL12903CCE490, 0.85, 0.369, -10.282, 1, ...</td>\n",
              "      <td>[TRWJNEC128E079654F, 0.616, 0.525, -7.411, 1, ...</td>\n",
              "      <td>[TRACWHF128F14557BB, 0.299, 0.119, -25.491, 1,...</td>\n",
              "      <td>[TRAZCMI128F14557B9, 0.62, 0.357, -11.9, 1, 0....</td>\n",
              "      <td>[TRUEXGL128F14557BD, 0.712, 0.175, -18.975, 0,...</td>\n",
              "      <td>[TREECSZ128F14557BE, 0.616, 0.292, -14.923, 1,...</td>\n",
              "      <td>[TRUAJOJ128F14557B6, 0.687, 0.678, -6.32, 1, 0...</td>\n",
              "      <td>[TRASVEM128E0796553, 0.619, 0.622, -9.251, 0, ...</td>\n",
              "      <td>[TROXRVT128E079650A, 0.399, 0.699, -6.981, 0, ...</td>\n",
              "      <td>[TRZJHGG128E079655A, 0.609, 0.472, -11.42, 1, ...</td>\n",
              "      <td>[TRIXKKQ12903CCE495, 0.631, 0.698, -4.616, 1, ...</td>\n",
              "      <td>[TRORPWW12903CCE48E, 0.755, 0.725, -4.79, 0, 0...</td>\n",
              "      <td>[TRYIASQ128E079650E, 0.576, 0.352, -10.773, 0,...</td>\n",
              "      <td>[TRDNHAW128F429DB9A, 0.463, 0.901, -2.885, 1, ...</td>\n",
              "      <td>[TRXYEKR128E079654C, 0.69, 0.529, -7.555, 0, 0...</td>\n",
              "      <td>[TRHZMPR128F42A52CB, 0.595, 0.394, -9.193, 1, ...</td>\n",
              "      <td>[TRXZMLY128E0796512, 0.608, 0.633, -8.046, 0, ...</td>\n",
              "      <td>[TRJSQQT128F149F9B4, 0.691, 0.923, -5.204, 1, ...</td>\n",
              "      <td>[TRXCZNS128F428A15E, 0.409, 0.928, -11.532, 1,...</td>\n",
              "    </tr>\n",
              "  </tbody>\n",
              "</table>\n",
              "</div>"
            ],
            "text/plain": [
              "                                                                                         0   \\\n",
              "0000f88f8d76a238c251450913b0d070e4a77d19  [TRTVXIH128F426625A, 0.338, 0.819, -4.495, 0, ...   \n",
              "0005eb11fd1dad47e6e6719a4db30340073a9e38  [TRGOJNK128F92F2A03, 0.645, 0.618, -8.594, 1, ...   \n",
              "000d80cd9b58a8f77b33aa613dcfc5cbf1daf5e8  [TRDYYKS128F4275626, 0.426, 0.995, -5.546, 0, ...   \n",
              "000e9296161b73a1821aaed3d7f50d95e8665bf6  [TROPEIV128F428F5A8, 0.281, 0.377, -9.827, 0, ...   \n",
              "00100482b3f3074549c751e718c57ed211b35991  [TRSNCIW128F14557BC, 0.306, 0.0694, -18.717, 0...   \n",
              "\n",
              "                                                                                         1   \\\n",
              "0000f88f8d76a238c251450913b0d070e4a77d19  [TRWUFEW128F14782F3, 0.493, 0.524, -13.553, 1,...   \n",
              "0005eb11fd1dad47e6e6719a4db30340073a9e38  [TRQPSHM128F92F29ED, 0.665, 0.517, -9.264, 1, ...   \n",
              "000d80cd9b58a8f77b33aa613dcfc5cbf1daf5e8  [TRBHLYP12903D0D107, 0.17, 0.988, -4.087, 1, 0...   \n",
              "000e9296161b73a1821aaed3d7f50d95e8665bf6  [TRIAZQY128F934D58D, 0.788, 0.896, -6.863, 1, ...   \n",
              "00100482b3f3074549c751e718c57ed211b35991  [TRJKPFL12903CCE490, 0.85, 0.369, -10.282, 1, ...   \n",
              "\n",
              "                                                                                         2   \\\n",
              "0000f88f8d76a238c251450913b0d070e4a77d19  [TRNXEPE128F9339E47, 0.261, 0.947, -3.031, 1, ...   \n",
              "0005eb11fd1dad47e6e6719a4db30340073a9e38  [TRTUWMO128F92F2A09, 0.638, 0.691, -7.948, 1, ...   \n",
              "000d80cd9b58a8f77b33aa613dcfc5cbf1daf5e8  [TRABFDT12903CADD73, 0.661, 0.886, -6.248, 0, ...   \n",
              "000e9296161b73a1821aaed3d7f50d95e8665bf6  [TRMKAZB128F92F2F3E, 0.566, 0.598, -7.202, 1, ...   \n",
              "00100482b3f3074549c751e718c57ed211b35991  [TRWJNEC128E079654F, 0.616, 0.525, -7.411, 1, ...   \n",
              "\n",
              "                                                                                         3   \\\n",
              "0000f88f8d76a238c251450913b0d070e4a77d19  [TRMKCCV128F92EB22E, 0.448, 0.83, -4.156, 0, 0...   \n",
              "0005eb11fd1dad47e6e6719a4db30340073a9e38  [TRRNWAK128F92F29FB, 0.633, 0.686, -8.015, 1, ...   \n",
              "000d80cd9b58a8f77b33aa613dcfc5cbf1daf5e8  [TRLNVSC12903CADD67, 0.804, 0.739, -4.699, 1, ...   \n",
              "000e9296161b73a1821aaed3d7f50d95e8665bf6  [TRPHDFT128F92C5A75, 0.715, 0.534, -10.054, 1,...   \n",
              "00100482b3f3074549c751e718c57ed211b35991  [TRACWHF128F14557BB, 0.299, 0.119, -25.491, 1,...   \n",
              "\n",
              "                                                                                         4   \\\n",
              "0000f88f8d76a238c251450913b0d070e4a77d19  [TRJGJTH128F4291A81, 0.572, 0.395, -10.63, 1, ...   \n",
              "0005eb11fd1dad47e6e6719a4db30340073a9e38  [TRYEGSH12903CD2DCE, 0.48, 0.79, -5.214, 1, 0....   \n",
              "000d80cd9b58a8f77b33aa613dcfc5cbf1daf5e8  [TRKOCXI128F9316B54, 0.379, 0.532, -21.419, 1,...   \n",
              "000e9296161b73a1821aaed3d7f50d95e8665bf6  [TRNXBBR128F425ECE3, 0.584, 0.242, -11.772, 0,...   \n",
              "00100482b3f3074549c751e718c57ed211b35991  [TRAZCMI128F14557B9, 0.62, 0.357, -11.9, 1, 0....   \n",
              "\n",
              "                                                                                         5   \\\n",
              "0000f88f8d76a238c251450913b0d070e4a77d19  [TRFQYFT128F14840BC, 0.524, 0.405, -10.679, 1,...   \n",
              "0005eb11fd1dad47e6e6719a4db30340073a9e38  [TRCKWGF12903CD2DCD, 0.729, 0.94, -4.933, 1, 0...   \n",
              "000d80cd9b58a8f77b33aa613dcfc5cbf1daf5e8  [TRSEFCM128F429354D, 0.469, 0.385, -11.3, 0, 0...   \n",
              "000e9296161b73a1821aaed3d7f50d95e8665bf6  [TRKPWGR128E078EE06, 0.551, 0.673, -7.362, 1, ...   \n",
              "00100482b3f3074549c751e718c57ed211b35991  [TRUEXGL128F14557BD, 0.712, 0.175, -18.975, 0,...   \n",
              "\n",
              "                                                                                         6   \\\n",
              "0000f88f8d76a238c251450913b0d070e4a77d19  [TRKSXHR128F1455E4D, 0.341, 0.301, -11.074, 1,...   \n",
              "0005eb11fd1dad47e6e6719a4db30340073a9e38  [TRNFVQI128F931BAEA, 0.641, 0.686, -6.727, 1, ...   \n",
              "000d80cd9b58a8f77b33aa613dcfc5cbf1daf5e8  [TRUWANM128F1485EE2, 0.673, 0.607, -7.672, 1, ...   \n",
              "000e9296161b73a1821aaed3d7f50d95e8665bf6  [TRLPOFY128F425ECE8, 0.516, 0.241, -13.284, 1,...   \n",
              "00100482b3f3074549c751e718c57ed211b35991  [TREECSZ128F14557BE, 0.616, 0.292, -14.923, 1,...   \n",
              "\n",
              "                                                                                         7   \\\n",
              "0000f88f8d76a238c251450913b0d070e4a77d19  [TRGJTIY128F4296A0E, 0.372, 0.532, -7.968, 1, ...   \n",
              "0005eb11fd1dad47e6e6719a4db30340073a9e38  [TRTKLFX12903CD2DC2, 0.646, 0.52, -7.289, 1, 0...   \n",
              "000d80cd9b58a8f77b33aa613dcfc5cbf1daf5e8  [TRXKEMH128F423381D, 0.827, 0.729, -7.473, 1, ...   \n",
              "000e9296161b73a1821aaed3d7f50d95e8665bf6  [TRCHYZB128F425ECE1, 0.355, 0.35, -7.739, 0, 0...   \n",
              "00100482b3f3074549c751e718c57ed211b35991  [TRUAJOJ128F14557B6, 0.687, 0.678, -6.32, 1, 0...   \n",
              "\n",
              "                                                                                         8   \\\n",
              "0000f88f8d76a238c251450913b0d070e4a77d19  [TRZLJOC128F14840BE, 0.513, 0.723, -7.211, 1, ...   \n",
              "0005eb11fd1dad47e6e6719a4db30340073a9e38  [TRPGPDK12903CCC651, 0.429, 0.563, -8.006, 0, ...   \n",
              "000d80cd9b58a8f77b33aa613dcfc5cbf1daf5e8  [TREMDON128F427C701, 0.751, 0.675, -8.159, 0, ...   \n",
              "000e9296161b73a1821aaed3d7f50d95e8665bf6  [TRXEAZB128E078EDCE, 0.78, 0.884, -6.445, 1, 0...   \n",
              "00100482b3f3074549c751e718c57ed211b35991  [TRASVEM128E0796553, 0.619, 0.622, -9.251, 0, ...   \n",
              "\n",
              "                                                                                         9   \\\n",
              "0000f88f8d76a238c251450913b0d070e4a77d19  [TRSMEUG128F14856D2, 0.487, 0.435, -9.753, 1, ...   \n",
              "0005eb11fd1dad47e6e6719a4db30340073a9e38  [TRJDMHS128F92F2A0C, 0.67, 0.583, -11.843, 1, ...   \n",
              "000d80cd9b58a8f77b33aa613dcfc5cbf1daf5e8  [TRHPKWO128F92E01D5, 0.251, 0.642, -7.185, 1, ...   \n",
              "000e9296161b73a1821aaed3d7f50d95e8665bf6  [TRFVSOZ128F4281933, 0.389, 0.608, -7.531, 1, ...   \n",
              "00100482b3f3074549c751e718c57ed211b35991  [TROXRVT128E079650A, 0.399, 0.699, -6.981, 0, ...   \n",
              "\n",
              "                                                                                         10  \\\n",
              "0000f88f8d76a238c251450913b0d070e4a77d19  [TRZYESA128F148D67F, 0.652, 0.227, -12.395, 1,...   \n",
              "0005eb11fd1dad47e6e6719a4db30340073a9e38  [TRLVQME128F931BAF3, 0.582, 0.523, -8.166, 1, ...   \n",
              "000d80cd9b58a8f77b33aa613dcfc5cbf1daf5e8  [TRPONOG128F4275608, 0.621, 0.825, -10.436, 1,...   \n",
              "000e9296161b73a1821aaed3d7f50d95e8665bf6  [TRDMUWU128E078EDDB, 0.682, 0.405, -11.86, 1, ...   \n",
              "00100482b3f3074549c751e718c57ed211b35991  [TRZJHGG128E079655A, 0.609, 0.472, -11.42, 1, ...   \n",
              "\n",
              "                                                                                         11  \\\n",
              "0000f88f8d76a238c251450913b0d070e4a77d19  [TRRUNEV128F148D719, 0.526, 0.772, -5.016, 1, ...   \n",
              "0005eb11fd1dad47e6e6719a4db30340073a9e38  [TRUGOGT128F92F29E9, 0.673, 0.495, -8.299, 1, ...   \n",
              "000d80cd9b58a8f77b33aa613dcfc5cbf1daf5e8  [TRJGDTG128F421CE22, 0.606, 0.935, -4.389, 0, ...   \n",
              "000e9296161b73a1821aaed3d7f50d95e8665bf6  [TRDRFVY128F4281937, 0.46, 0.731, -6.866, 1, 0...   \n",
              "00100482b3f3074549c751e718c57ed211b35991  [TRIXKKQ12903CCE495, 0.631, 0.698, -4.616, 1, ...   \n",
              "\n",
              "                                                                                         12  \\\n",
              "0000f88f8d76a238c251450913b0d070e4a77d19  [TRDKRLP128F4291A80, 0.275, 0.784, -4.896, 1, ...   \n",
              "0005eb11fd1dad47e6e6719a4db30340073a9e38  [TRCXWLU128F92F2A0D, 0.536, 0.377, -13.255, 1,...   \n",
              "000d80cd9b58a8f77b33aa613dcfc5cbf1daf5e8  [TROTYPC128E07940AB, 0.741, 0.37, -13.604, 0, ...   \n",
              "000e9296161b73a1821aaed3d7f50d95e8665bf6  [TRIPLBA128F427200F, 0.692, 0.529, -8.459, 0, ...   \n",
              "00100482b3f3074549c751e718c57ed211b35991  [TRORPWW12903CCE48E, 0.755, 0.725, -4.79, 0, 0...   \n",
              "\n",
              "                                                                                         13  \\\n",
              "0000f88f8d76a238c251450913b0d070e4a77d19  [TRFTUIW128E0784B9F, 0.597, 0.532, -10.583, 1,...   \n",
              "0005eb11fd1dad47e6e6719a4db30340073a9e38  [TRRVJCK12903CD2DCB, 0.705, 0.605, -5.252, 1, ...   \n",
              "000d80cd9b58a8f77b33aa613dcfc5cbf1daf5e8  [TRPXIWX128F429831F, 0.632, 0.653, -7.384, 1, ...   \n",
              "000e9296161b73a1821aaed3d7f50d95e8665bf6  [TRJSAID128F934D596, 0.518, 0.318, -11.312, 0,...   \n",
              "00100482b3f3074549c751e718c57ed211b35991  [TRYIASQ128E079650E, 0.576, 0.352, -10.773, 0,...   \n",
              "\n",
              "                                                                                         14  \\\n",
              "0000f88f8d76a238c251450913b0d070e4a77d19  [TRKGCIA128F92C315D, 0.542, 0.911, -4.789, 0, ...   \n",
              "0005eb11fd1dad47e6e6719a4db30340073a9e38  [TRCJAHJ128E07815B6, 0.776, 0.729, -5.427, 1, ...   \n",
              "000d80cd9b58a8f77b33aa613dcfc5cbf1daf5e8  [TROINZB128F932F740, 0.64, 0.767, -5.829, 1, 0...   \n",
              "000e9296161b73a1821aaed3d7f50d95e8665bf6  [TRMYAYJ128F934D0AF, 0.6, 0.432, -9.674, 0, 0....   \n",
              "00100482b3f3074549c751e718c57ed211b35991  [TRDNHAW128F429DB9A, 0.463, 0.901, -2.885, 1, ...   \n",
              "\n",
              "                                                                                         15  \\\n",
              "0000f88f8d76a238c251450913b0d070e4a77d19  [TRFUCYR128F92DC67F, 0.544, 0.869, -4.079, 1, ...   \n",
              "0005eb11fd1dad47e6e6719a4db30340073a9e38  [TRPWIGO128F931BAEB, 0.602, 0.69, -5.45, 1, 0....   \n",
              "000d80cd9b58a8f77b33aa613dcfc5cbf1daf5e8  [TROUAEG128F429354A, 0.473, 0.595, -10.2, 1, 0...   \n",
              "000e9296161b73a1821aaed3d7f50d95e8665bf6  [TRWGIOT128F425ECDE, 0.419, 0.248, -14.437, 1,...   \n",
              "00100482b3f3074549c751e718c57ed211b35991  [TRXYEKR128E079654C, 0.69, 0.529, -7.555, 0, 0...   \n",
              "\n",
              "                                                                                         16  \\\n",
              "0000f88f8d76a238c251450913b0d070e4a77d19  [TROZZNY128F14782F7, 0.241, 0.0721, -22.115, 1...   \n",
              "0005eb11fd1dad47e6e6719a4db30340073a9e38  [TRNEITZ128F92F29EA, 0.522, 0.804, -7.457, 1, ...   \n",
              "000d80cd9b58a8f77b33aa613dcfc5cbf1daf5e8  [TRQEBRP12903CADD6C, 0.564, 0.715, -7.654, 0, ...   \n",
              "000e9296161b73a1821aaed3d7f50d95e8665bf6  [TRLRCIA128F425ECD7, 0.564, 0.499, -10.427, 0,...   \n",
              "00100482b3f3074549c751e718c57ed211b35991  [TRHZMPR128F42A52CB, 0.595, 0.394, -9.193, 1, ...   \n",
              "\n",
              "                                                                                         17  \\\n",
              "0000f88f8d76a238c251450913b0d070e4a77d19  [TRTWOCA128F14840B8, 0.634, 0.341, -14.214, 1,...   \n",
              "0005eb11fd1dad47e6e6719a4db30340073a9e38  [TRMIHFS128F92F2A01, 0.441, 0.819, -8.414, 1, ...   \n",
              "000d80cd9b58a8f77b33aa613dcfc5cbf1daf5e8  [TROTWMO128F42B9238, 0.278, 0.163, -20.454, 0,...   \n",
              "000e9296161b73a1821aaed3d7f50d95e8665bf6  [TRIAGDA128F4296176, 0.674, 0.723, -7.374, 1, ...   \n",
              "00100482b3f3074549c751e718c57ed211b35991  [TRXZMLY128E0796512, 0.608, 0.633, -8.046, 0, ...   \n",
              "\n",
              "                                                                                         18  \\\n",
              "0000f88f8d76a238c251450913b0d070e4a77d19  [TRQSEMJ128F4294F24, 0.419, 0.537, -7.301, 1, ...   \n",
              "0005eb11fd1dad47e6e6719a4db30340073a9e38  [TRRLGDR128F933A7C9, 0.42, 0.995, -2.984, 0, 0...   \n",
              "000d80cd9b58a8f77b33aa613dcfc5cbf1daf5e8  [TRJYECB128F4230F29, 0.376, 0.325, -9.936, 1, ...   \n",
              "000e9296161b73a1821aaed3d7f50d95e8665bf6  [TRIDPWO128F423DBC6, 0.338, 0.289, -13.479, 1,...   \n",
              "00100482b3f3074549c751e718c57ed211b35991  [TRJSQQT128F149F9B4, 0.691, 0.923, -5.204, 1, ...   \n",
              "\n",
              "                                                                                         19  \n",
              "0000f88f8d76a238c251450913b0d070e4a77d19  [TRUNKTP12903CD1EFB, 0.514, 0.507, -12.25, 1, ...  \n",
              "0005eb11fd1dad47e6e6719a4db30340073a9e38  [TRLNFKN128F931BAF2, 0.6, 0.772, -5.068, 1, 0....  \n",
              "000d80cd9b58a8f77b33aa613dcfc5cbf1daf5e8  [TRJLGXB128F93043EA, 0.717, 0.559, -8.317, 1, ...  \n",
              "000e9296161b73a1821aaed3d7f50d95e8665bf6  [TRPFLRB128F14A895D, 0.333, 0.75, -6.942, 1, 0...  \n",
              "00100482b3f3074549c751e718c57ed211b35991  [TRXCZNS128F428A15E, 0.409, 0.928, -11.532, 1,...  "
            ]
          },
          "execution_count": 15,
          "metadata": {},
          "output_type": "execute_result"
        }
      ],
      "source": [
        "playlists = pd.DataFrame.from_dict(playlist_dict, orient='index')\n",
        "playlists.head()"
      ]
    },
    {
      "cell_type": "markdown",
      "metadata": {
        "id": "m0J-pvQ8E9zp"
      },
      "source": [
        "### Train and Test Split"
      ]
    },
    {
      "cell_type": "code",
      "execution_count": 16,
      "metadata": {
        "id": "FslzeUXKE8Sx"
      },
      "outputs": [],
      "source": [
        "# Train and test splits for playlist\n",
        "X = arr_np[:,:-1,:]\n",
        "Y = arr_np[:,1:,:]\n",
        "x_train, x_val, y_train, y_val = train_test_split(X,Y,train_size=0.9,random_state=3000)\n",
        "x_train, x_test, y_train, y_test = train_test_split(x_train,y_train,train_size=0.9,random_state=3000)\n"
      ]
    },
    {
      "cell_type": "code",
      "execution_count": 17,
      "metadata": {
        "colab": {
          "base_uri": "https://localhost:8080/"
        },
        "id": "8oFjddSz9MhU",
        "outputId": "5d9a8909-dcd8-4caf-e473-d38a3a55fa62"
      },
      "outputs": [
        {
          "name": "stdout",
          "output_type": "stream",
          "text": [
            "[['TRMXZMN128F425980B' '0.683' '0.353' '-9.547' '0.0523' '0.953' '0.013'\n",
            "  '0.0937' '0.575']\n",
            " ['TRXXVOG128F92F411D' '0.578' '0.752' '-5.264' '0.033' '0.0275' '0.0'\n",
            "  '0.125' '0.405']\n",
            " ['TRXIQDL128F92F27DC' '0.626' '0.317' '-13.692' '0.0414' '0.931' '0.363'\n",
            "  '0.0937' '0.568']\n",
            " ['TRIVUMW128F425980E' '0.514' '0.141' '-14.38' '0.0375' '0.917'\n",
            "  '0.00255' '0.132' '0.127']\n",
            " ['TRCWYJA128F92F27D6' '0.487' '0.235' '-13.489' '0.0406' '0.929' '0.01'\n",
            "  '0.157' '0.239']\n",
            " ['TRMFXAY128F92F27DF' '0.38' '0.155' '-16.735' '0.0458' '0.963' '0.0394'\n",
            "  '0.693' '0.0393']\n",
            " ['TRIQKEJ128F9307761' '0.21' '0.197' '-11.895' '0.0336' '0.943' '0.0'\n",
            "  '0.0995' '0.496']\n",
            " ['TRVJGDX128F42645CA' '0.581' '0.468' '-15.763' '0.0314' '0.0251'\n",
            "  '0.0845' '0.0831' '0.49']\n",
            " ['TRXJWFS128F92F27DB' '0.188' '0.221' '-12.557' '0.0339' '0.928'\n",
            "  '0.00227' '0.106' '0.0572']\n",
            " ['TRHFGRN128F427EFC3' '0.331' '0.559' '-8.263' '0.0316' '0.224' '0.0'\n",
            "  '0.297' '0.236']\n",
            " ['TRHRFIN128F425DEF1' '0.381' '0.939' '-4.684' '0.125' '0.042' '0.918'\n",
            "  '0.172' '0.335']\n",
            " ['TRTIVLA128F92F27D8' '0.771' '0.431' '-9.735' '0.0503' '0.668'\n",
            "  '0.000967' '0.104' '0.364']\n",
            " ['TRGCHLH12903CB7352' '0.531' '0.36' '-8.575' '0.108' '0.822' '0.0'\n",
            "  '0.178' '0.701']\n",
            " ['TRBMCGS128F92D2C27' '0.325' '0.162' '-19.836' '0.0527' '0.982' '0.972'\n",
            "  '0.424' '0.222']\n",
            " ['TRKSBXZ128F4259809' '0.459' '0.286' '-14.145' '0.0409' '0.909'\n",
            "  '0.0975' '0.16' '0.182']\n",
            " ['TRNXGFP128F9318EDE' '0.154' '0.204' '-15.335' '0.0418' '0.915' '0.352'\n",
            "  '0.122' '0.147']\n",
            " ['TRIPSQP12903CE450C' '0.358' '0.492' '-7.844' '0.0299' '0.552' '0.899'\n",
            "  '0.235' '0.0666']\n",
            " ['TRNYILG12903CDE93B' '0.363' '0.296' '-11.703' '0.0366' '0.85'\n",
            "  '0.00867' '0.122' '0.134']\n",
            " ['TRMELBC12903CE44FC' '0.312' '0.35' '-7.74' '0.034' '0.585' '0.0641'\n",
            "  '0.064' '0.0718']]\n"
          ]
        }
      ],
      "source": [
        "# print(x_train.shape)\n",
        "# print(y_train.shape)\n",
        "# print(x_val.shape)\n",
        "# print(y_val.shape)\n",
        "# print(x_test.shape)\n",
        "# print(y_test.shape)\n",
        "\n",
        "print(x_train[0, :, :])"
      ]
    },
    {
      "cell_type": "code",
      "execution_count": 18,
      "metadata": {
        "id": "vtZ20haq9MhU"
      },
      "outputs": [],
      "source": [
        "# Original Playlists\n",
        "ops_x_train, ops_y_train, ops_x_val, ops_y_val, ops_x_test, ops_y_test = [], [], [], [], [], []\n",
        "\n",
        "# This only works based on size if val and test sets switch in size switch them in these loops\n",
        "for user in range(np.ma.size(x_train, axis=0)):\n",
        "    names_x_train, names_y_train, names_x_val, names_y_val, names_x_test, names_y_test = [], [], [], [], [], []\n",
        "    for song in range(np.ma.size(x_train, axis=1)):\n",
        "        names_x_train.append(x_train[user, song, 0])\n",
        "        names_y_train.append(y_train[user, song, 0])\n",
        "        try:\n",
        "            names_x_val.append(x_val[user, song, 0])\n",
        "            names_y_val.append(y_val[user, song, 0])\n",
        "        except IndexError:\n",
        "            continue\n",
        "        try:\n",
        "            names_x_test.append(x_test[user, song, 0])\n",
        "            names_y_test.append(y_test[user, song, 0])\n",
        "        except IndexError:\n",
        "            continue\n",
        "\n",
        "    ops_x_train.append(names_x_train)\n",
        "    ops_y_train.append(names_y_train)\n",
        "    if not names_x_val:\n",
        "        continue\n",
        "    ops_x_val.append(names_x_val)\n",
        "    ops_y_val.append(names_y_val)\n",
        "    if not names_x_test:\n",
        "        continue\n",
        "    ops_x_test.append(names_x_test)\n",
        "    ops_y_test.append(names_y_test)\n",
        "x_train = x_train[:, :, 1:].astype(np.float64)\n",
        "y_train = y_train[:, :, 1:].astype(np.float64)\n",
        "x_val = x_val[:, :, 1:].astype(np.float64)\n",
        "y_val = y_val[:, :, 1:].astype(np.float64)\n",
        "x_test = x_test[:, :, 1:].astype(np.float64)\n",
        "y_test = y_test[:, :, 1:].astype(np.float64)"
      ]
    },
    {
      "cell_type": "code",
      "execution_count": 19,
      "metadata": {
        "colab": {
          "base_uri": "https://localhost:8080/"
        },
        "id": "x02uagUp9MhU",
        "outputId": "611faa7e-e744-4c82-f4e8-0d7f5d8c63bd"
      },
      "outputs": [
        {
          "name": "stdout",
          "output_type": "stream",
          "text": [
            "[[ 6.8300e-01  3.5300e-01 -9.5470e+00  5.2300e-02  9.5300e-01  1.3000e-02\n",
            "   9.3700e-02  5.7500e-01]\n",
            " [ 5.7800e-01  7.5200e-01 -5.2640e+00  3.3000e-02  2.7500e-02  0.0000e+00\n",
            "   1.2500e-01  4.0500e-01]\n",
            " [ 6.2600e-01  3.1700e-01 -1.3692e+01  4.1400e-02  9.3100e-01  3.6300e-01\n",
            "   9.3700e-02  5.6800e-01]\n",
            " [ 5.1400e-01  1.4100e-01 -1.4380e+01  3.7500e-02  9.1700e-01  2.5500e-03\n",
            "   1.3200e-01  1.2700e-01]\n",
            " [ 4.8700e-01  2.3500e-01 -1.3489e+01  4.0600e-02  9.2900e-01  1.0000e-02\n",
            "   1.5700e-01  2.3900e-01]\n",
            " [ 3.8000e-01  1.5500e-01 -1.6735e+01  4.5800e-02  9.6300e-01  3.9400e-02\n",
            "   6.9300e-01  3.9300e-02]\n",
            " [ 2.1000e-01  1.9700e-01 -1.1895e+01  3.3600e-02  9.4300e-01  0.0000e+00\n",
            "   9.9500e-02  4.9600e-01]\n",
            " [ 5.8100e-01  4.6800e-01 -1.5763e+01  3.1400e-02  2.5100e-02  8.4500e-02\n",
            "   8.3100e-02  4.9000e-01]\n",
            " [ 1.8800e-01  2.2100e-01 -1.2557e+01  3.3900e-02  9.2800e-01  2.2700e-03\n",
            "   1.0600e-01  5.7200e-02]\n",
            " [ 3.3100e-01  5.5900e-01 -8.2630e+00  3.1600e-02  2.2400e-01  0.0000e+00\n",
            "   2.9700e-01  2.3600e-01]\n",
            " [ 3.8100e-01  9.3900e-01 -4.6840e+00  1.2500e-01  4.2000e-02  9.1800e-01\n",
            "   1.7200e-01  3.3500e-01]\n",
            " [ 7.7100e-01  4.3100e-01 -9.7350e+00  5.0300e-02  6.6800e-01  9.6700e-04\n",
            "   1.0400e-01  3.6400e-01]\n",
            " [ 5.3100e-01  3.6000e-01 -8.5750e+00  1.0800e-01  8.2200e-01  0.0000e+00\n",
            "   1.7800e-01  7.0100e-01]\n",
            " [ 3.2500e-01  1.6200e-01 -1.9836e+01  5.2700e-02  9.8200e-01  9.7200e-01\n",
            "   4.2400e-01  2.2200e-01]\n",
            " [ 4.5900e-01  2.8600e-01 -1.4145e+01  4.0900e-02  9.0900e-01  9.7500e-02\n",
            "   1.6000e-01  1.8200e-01]\n",
            " [ 1.5400e-01  2.0400e-01 -1.5335e+01  4.1800e-02  9.1500e-01  3.5200e-01\n",
            "   1.2200e-01  1.4700e-01]\n",
            " [ 3.5800e-01  4.9200e-01 -7.8440e+00  2.9900e-02  5.5200e-01  8.9900e-01\n",
            "   2.3500e-01  6.6600e-02]\n",
            " [ 3.6300e-01  2.9600e-01 -1.1703e+01  3.6600e-02  8.5000e-01  8.6700e-03\n",
            "   1.2200e-01  1.3400e-01]\n",
            " [ 3.1200e-01  3.5000e-01 -7.7400e+00  3.4000e-02  5.8500e-01  6.4100e-02\n",
            "   6.4000e-02  7.1800e-02]]\n",
            "['TRMXZMN128F425980B', 'TRXXVOG128F92F411D', 'TRXIQDL128F92F27DC', 'TRIVUMW128F425980E', 'TRCWYJA128F92F27D6', 'TRMFXAY128F92F27DF', 'TRIQKEJ128F9307761', 'TRVJGDX128F42645CA', 'TRXJWFS128F92F27DB', 'TRHFGRN128F427EFC3', 'TRHRFIN128F425DEF1', 'TRTIVLA128F92F27D8', 'TRGCHLH12903CB7352', 'TRBMCGS128F92D2C27', 'TRKSBXZ128F4259809', 'TRNXGFP128F9318EDE', 'TRIPSQP12903CE450C', 'TRNYILG12903CDE93B', 'TRMELBC12903CE44FC']\n"
          ]
        }
      ],
      "source": [
        "print(x_train[0, :, :])\n",
        "print(ops_x_train[0])"
      ]
    },
    {
      "cell_type": "markdown",
      "metadata": {
        "id": "kBA1aMtbOTYj"
      },
      "source": [
        "### Define the Model"
      ]
    },
    {
      "cell_type": "code",
      "execution_count": 25,
      "metadata": {
        "id": "5i9wr7CXFV5-"
      },
      "outputs": [],
      "source": [
        "if os.path.exists('mae_optimized_model_adam.keras'):\n",
        "    model = load_model('mae_optimized_model_adam.keras')\n",
        "else:\n",
        "    model = Sequential()\n",
        "    model.add(Input(shape=(None,8)))\n",
        "    model.add(SimpleRNN(\n",
        "        16,\n",
        "        activation='linear',\n",
        "        return_sequences=True,\n",
        "        kernel_initializer='random_uniform',\n",
        "    ))\n",
        "    model.add(SimpleRNN(\n",
        "        16,\n",
        "        activation='linear',\n",
        "        return_sequences=True,\n",
        "        kernel_initializer='random_uniform',\n",
        "    ))\n",
        "    model.add(Dense(8, activation='linear', kernel_initializer='random_uniform',))"
      ]
    },
    {
      "cell_type": "code",
      "execution_count": 21,
      "metadata": {
        "id": "2t05B8D1uq3I"
      },
      "outputs": [],
      "source": [
        "device = torch.device(\"cuda:0\" if torch.cuda.is_available() else \"cpu\")"
      ]
    },
    {
      "cell_type": "code",
      "execution_count": 22,
      "metadata": {
        "colab": {
          "base_uri": "https://localhost:8080/"
        },
        "id": "l8Q71Ynl9MhV",
        "outputId": "d36fff4d-9dc2-4c6b-bdcd-3ed5a94ee58c"
      },
      "outputs": [
        {
          "name": "stdout",
          "output_type": "stream",
          "text": [
            "NVIDIA GeForce GTX 1660 Ti\n"
          ]
        }
      ],
      "source": [
        "print(torch.cuda.get_device_name(0))"
      ]
    },
    {
      "cell_type": "code",
      "execution_count": 23,
      "metadata": {
        "id": "XiF25M6-OIro"
      },
      "outputs": [],
      "source": [
        "model.compile(loss='mae', optimizer='adam')"
      ]
    },
    {
      "cell_type": "code",
      "execution_count": 24,
      "metadata": {
        "colab": {
          "base_uri": "https://localhost:8080/"
        },
        "id": "0MkOQvKgOL49",
        "outputId": "6f7498bd-55ce-4a58-e049-96185f067b72"
      },
      "outputs": [
        {
          "name": "stdout",
          "output_type": "stream",
          "text": [
            "Epoch 1/10\n",
            " 77/642 [==>...........................] - ETA: 18s - loss: 0.4783"
          ]
        },
        {
          "ename": "KeyboardInterrupt",
          "evalue": "",
          "output_type": "error",
          "traceback": [
            "\u001b[1;31m---------------------------------------------------------------------------\u001b[0m",
            "\u001b[1;31mKeyboardInterrupt\u001b[0m                         Traceback (most recent call last)",
            "Cell \u001b[1;32mIn[24], line 1\u001b[0m\n\u001b[1;32m----> 1\u001b[0m \u001b[43mmodel\u001b[49m\u001b[38;5;241;43m.\u001b[39;49m\u001b[43mfit\u001b[49m\u001b[43m(\u001b[49m\u001b[43mx_train\u001b[49m\u001b[43m,\u001b[49m\u001b[43m \u001b[49m\u001b[43my_train\u001b[49m\u001b[43m,\u001b[49m\u001b[43m \u001b[49m\u001b[43mepochs\u001b[49m\u001b[38;5;241;43m=\u001b[39;49m\u001b[38;5;241;43m10\u001b[39;49m\u001b[43m,\u001b[49m\u001b[43m \u001b[49m\u001b[43mbatch_size\u001b[49m\u001b[38;5;241;43m=\u001b[39;49m\u001b[38;5;241;43m32\u001b[39;49m\u001b[43m,\u001b[49m\u001b[43m \u001b[49m\u001b[43mvalidation_data\u001b[49m\u001b[38;5;241;43m=\u001b[39;49m\u001b[43m(\u001b[49m\u001b[43mx_val\u001b[49m\u001b[43m,\u001b[49m\u001b[43m \u001b[49m\u001b[43my_val\u001b[49m\u001b[43m)\u001b[49m\u001b[43m)\u001b[49m\n",
            "File \u001b[1;32mc:\\Users\\Ernest\\AppData\\Local\\Programs\\Python\\Python39\\lib\\site-packages\\keras\\utils\\traceback_utils.py:65\u001b[0m, in \u001b[0;36mfilter_traceback.<locals>.error_handler\u001b[1;34m(*args, **kwargs)\u001b[0m\n\u001b[0;32m     63\u001b[0m filtered_tb \u001b[38;5;241m=\u001b[39m \u001b[38;5;28;01mNone\u001b[39;00m\n\u001b[0;32m     64\u001b[0m \u001b[38;5;28;01mtry\u001b[39;00m:\n\u001b[1;32m---> 65\u001b[0m     \u001b[38;5;28;01mreturn\u001b[39;00m fn(\u001b[38;5;241m*\u001b[39margs, \u001b[38;5;241m*\u001b[39m\u001b[38;5;241m*\u001b[39mkwargs)\n\u001b[0;32m     66\u001b[0m \u001b[38;5;28;01mexcept\u001b[39;00m \u001b[38;5;167;01mException\u001b[39;00m \u001b[38;5;28;01mas\u001b[39;00m e:\n\u001b[0;32m     67\u001b[0m     filtered_tb \u001b[38;5;241m=\u001b[39m _process_traceback_frames(e\u001b[38;5;241m.\u001b[39m__traceback__)\n",
            "File \u001b[1;32mc:\\Users\\Ernest\\AppData\\Local\\Programs\\Python\\Python39\\lib\\site-packages\\keras\\engine\\training.py:1564\u001b[0m, in \u001b[0;36mModel.fit\u001b[1;34m(self, x, y, batch_size, epochs, verbose, callbacks, validation_split, validation_data, shuffle, class_weight, sample_weight, initial_epoch, steps_per_epoch, validation_steps, validation_batch_size, validation_freq, max_queue_size, workers, use_multiprocessing)\u001b[0m\n\u001b[0;32m   1556\u001b[0m \u001b[38;5;28;01mwith\u001b[39;00m tf\u001b[38;5;241m.\u001b[39mprofiler\u001b[38;5;241m.\u001b[39mexperimental\u001b[38;5;241m.\u001b[39mTrace(\n\u001b[0;32m   1557\u001b[0m     \u001b[38;5;124m\"\u001b[39m\u001b[38;5;124mtrain\u001b[39m\u001b[38;5;124m\"\u001b[39m,\n\u001b[0;32m   1558\u001b[0m     epoch_num\u001b[38;5;241m=\u001b[39mepoch,\n\u001b[1;32m   (...)\u001b[0m\n\u001b[0;32m   1561\u001b[0m     _r\u001b[38;5;241m=\u001b[39m\u001b[38;5;241m1\u001b[39m,\n\u001b[0;32m   1562\u001b[0m ):\n\u001b[0;32m   1563\u001b[0m     callbacks\u001b[38;5;241m.\u001b[39mon_train_batch_begin(step)\n\u001b[1;32m-> 1564\u001b[0m     tmp_logs \u001b[38;5;241m=\u001b[39m \u001b[38;5;28;43mself\u001b[39;49m\u001b[38;5;241;43m.\u001b[39;49m\u001b[43mtrain_function\u001b[49m\u001b[43m(\u001b[49m\u001b[43miterator\u001b[49m\u001b[43m)\u001b[49m\n\u001b[0;32m   1565\u001b[0m     \u001b[38;5;28;01mif\u001b[39;00m data_handler\u001b[38;5;241m.\u001b[39mshould_sync:\n\u001b[0;32m   1566\u001b[0m         context\u001b[38;5;241m.\u001b[39masync_wait()\n",
            "File \u001b[1;32mc:\\Users\\Ernest\\AppData\\Local\\Programs\\Python\\Python39\\lib\\site-packages\\tensorflow\\python\\util\\traceback_utils.py:150\u001b[0m, in \u001b[0;36mfilter_traceback.<locals>.error_handler\u001b[1;34m(*args, **kwargs)\u001b[0m\n\u001b[0;32m    148\u001b[0m filtered_tb \u001b[38;5;241m=\u001b[39m \u001b[38;5;28;01mNone\u001b[39;00m\n\u001b[0;32m    149\u001b[0m \u001b[38;5;28;01mtry\u001b[39;00m:\n\u001b[1;32m--> 150\u001b[0m   \u001b[38;5;28;01mreturn\u001b[39;00m fn(\u001b[38;5;241m*\u001b[39margs, \u001b[38;5;241m*\u001b[39m\u001b[38;5;241m*\u001b[39mkwargs)\n\u001b[0;32m    151\u001b[0m \u001b[38;5;28;01mexcept\u001b[39;00m \u001b[38;5;167;01mException\u001b[39;00m \u001b[38;5;28;01mas\u001b[39;00m e:\n\u001b[0;32m    152\u001b[0m   filtered_tb \u001b[38;5;241m=\u001b[39m _process_traceback_frames(e\u001b[38;5;241m.\u001b[39m__traceback__)\n",
            "File \u001b[1;32mc:\\Users\\Ernest\\AppData\\Local\\Programs\\Python\\Python39\\lib\\site-packages\\tensorflow\\python\\eager\\def_function.py:915\u001b[0m, in \u001b[0;36mFunction.__call__\u001b[1;34m(self, *args, **kwds)\u001b[0m\n\u001b[0;32m    912\u001b[0m compiler \u001b[38;5;241m=\u001b[39m \u001b[38;5;124m\"\u001b[39m\u001b[38;5;124mxla\u001b[39m\u001b[38;5;124m\"\u001b[39m \u001b[38;5;28;01mif\u001b[39;00m \u001b[38;5;28mself\u001b[39m\u001b[38;5;241m.\u001b[39m_jit_compile \u001b[38;5;28;01melse\u001b[39;00m \u001b[38;5;124m\"\u001b[39m\u001b[38;5;124mnonXla\u001b[39m\u001b[38;5;124m\"\u001b[39m\n\u001b[0;32m    914\u001b[0m \u001b[38;5;28;01mwith\u001b[39;00m OptionalXlaContext(\u001b[38;5;28mself\u001b[39m\u001b[38;5;241m.\u001b[39m_jit_compile):\n\u001b[1;32m--> 915\u001b[0m   result \u001b[38;5;241m=\u001b[39m \u001b[38;5;28mself\u001b[39m\u001b[38;5;241m.\u001b[39m_call(\u001b[38;5;241m*\u001b[39margs, \u001b[38;5;241m*\u001b[39m\u001b[38;5;241m*\u001b[39mkwds)\n\u001b[0;32m    917\u001b[0m new_tracing_count \u001b[38;5;241m=\u001b[39m \u001b[38;5;28mself\u001b[39m\u001b[38;5;241m.\u001b[39mexperimental_get_tracing_count()\n\u001b[0;32m    918\u001b[0m without_tracing \u001b[38;5;241m=\u001b[39m (tracing_count \u001b[38;5;241m==\u001b[39m new_tracing_count)\n",
            "File \u001b[1;32mc:\\Users\\Ernest\\AppData\\Local\\Programs\\Python\\Python39\\lib\\site-packages\\tensorflow\\python\\eager\\def_function.py:947\u001b[0m, in \u001b[0;36mFunction._call\u001b[1;34m(self, *args, **kwds)\u001b[0m\n\u001b[0;32m    944\u001b[0m   \u001b[38;5;28mself\u001b[39m\u001b[38;5;241m.\u001b[39m_lock\u001b[38;5;241m.\u001b[39mrelease()\n\u001b[0;32m    945\u001b[0m   \u001b[38;5;66;03m# In this case we have created variables on the first call, so we run the\u001b[39;00m\n\u001b[0;32m    946\u001b[0m   \u001b[38;5;66;03m# defunned version which is guaranteed to never create variables.\u001b[39;00m\n\u001b[1;32m--> 947\u001b[0m   \u001b[38;5;28;01mreturn\u001b[39;00m \u001b[38;5;28mself\u001b[39m\u001b[38;5;241m.\u001b[39m_stateless_fn(\u001b[38;5;241m*\u001b[39margs, \u001b[38;5;241m*\u001b[39m\u001b[38;5;241m*\u001b[39mkwds)  \u001b[38;5;66;03m# pylint: disable=not-callable\u001b[39;00m\n\u001b[0;32m    948\u001b[0m \u001b[38;5;28;01melif\u001b[39;00m \u001b[38;5;28mself\u001b[39m\u001b[38;5;241m.\u001b[39m_stateful_fn \u001b[38;5;129;01mis\u001b[39;00m \u001b[38;5;129;01mnot\u001b[39;00m \u001b[38;5;28;01mNone\u001b[39;00m:\n\u001b[0;32m    949\u001b[0m   \u001b[38;5;66;03m# Release the lock early so that multiple threads can perform the call\u001b[39;00m\n\u001b[0;32m    950\u001b[0m   \u001b[38;5;66;03m# in parallel.\u001b[39;00m\n\u001b[0;32m    951\u001b[0m   \u001b[38;5;28mself\u001b[39m\u001b[38;5;241m.\u001b[39m_lock\u001b[38;5;241m.\u001b[39mrelease()\n",
            "File \u001b[1;32mc:\\Users\\Ernest\\AppData\\Local\\Programs\\Python\\Python39\\lib\\site-packages\\tensorflow\\python\\eager\\function.py:2496\u001b[0m, in \u001b[0;36mFunction.__call__\u001b[1;34m(self, *args, **kwargs)\u001b[0m\n\u001b[0;32m   2493\u001b[0m \u001b[38;5;28;01mwith\u001b[39;00m \u001b[38;5;28mself\u001b[39m\u001b[38;5;241m.\u001b[39m_lock:\n\u001b[0;32m   2494\u001b[0m   (graph_function,\n\u001b[0;32m   2495\u001b[0m    filtered_flat_args) \u001b[38;5;241m=\u001b[39m \u001b[38;5;28mself\u001b[39m\u001b[38;5;241m.\u001b[39m_maybe_define_function(args, kwargs)\n\u001b[1;32m-> 2496\u001b[0m \u001b[38;5;28;01mreturn\u001b[39;00m \u001b[43mgraph_function\u001b[49m\u001b[38;5;241;43m.\u001b[39;49m\u001b[43m_call_flat\u001b[49m\u001b[43m(\u001b[49m\n\u001b[0;32m   2497\u001b[0m \u001b[43m    \u001b[49m\u001b[43mfiltered_flat_args\u001b[49m\u001b[43m,\u001b[49m\u001b[43m \u001b[49m\u001b[43mcaptured_inputs\u001b[49m\u001b[38;5;241;43m=\u001b[39;49m\u001b[43mgraph_function\u001b[49m\u001b[38;5;241;43m.\u001b[39;49m\u001b[43mcaptured_inputs\u001b[49m\u001b[43m)\u001b[49m\n",
            "File \u001b[1;32mc:\\Users\\Ernest\\AppData\\Local\\Programs\\Python\\Python39\\lib\\site-packages\\tensorflow\\python\\eager\\function.py:1862\u001b[0m, in \u001b[0;36mConcreteFunction._call_flat\u001b[1;34m(self, args, captured_inputs, cancellation_manager)\u001b[0m\n\u001b[0;32m   1858\u001b[0m possible_gradient_type \u001b[38;5;241m=\u001b[39m gradients_util\u001b[38;5;241m.\u001b[39mPossibleTapeGradientTypes(args)\n\u001b[0;32m   1859\u001b[0m \u001b[38;5;28;01mif\u001b[39;00m (possible_gradient_type \u001b[38;5;241m==\u001b[39m gradients_util\u001b[38;5;241m.\u001b[39mPOSSIBLE_GRADIENT_TYPES_NONE\n\u001b[0;32m   1860\u001b[0m     \u001b[38;5;129;01mand\u001b[39;00m executing_eagerly):\n\u001b[0;32m   1861\u001b[0m   \u001b[38;5;66;03m# No tape is watching; skip to running the function.\u001b[39;00m\n\u001b[1;32m-> 1862\u001b[0m   \u001b[38;5;28;01mreturn\u001b[39;00m \u001b[38;5;28mself\u001b[39m\u001b[38;5;241m.\u001b[39m_build_call_outputs(\u001b[38;5;28;43mself\u001b[39;49m\u001b[38;5;241;43m.\u001b[39;49m\u001b[43m_inference_function\u001b[49m\u001b[38;5;241;43m.\u001b[39;49m\u001b[43mcall\u001b[49m\u001b[43m(\u001b[49m\n\u001b[0;32m   1863\u001b[0m \u001b[43m      \u001b[49m\u001b[43mctx\u001b[49m\u001b[43m,\u001b[49m\u001b[43m \u001b[49m\u001b[43margs\u001b[49m\u001b[43m,\u001b[49m\u001b[43m \u001b[49m\u001b[43mcancellation_manager\u001b[49m\u001b[38;5;241;43m=\u001b[39;49m\u001b[43mcancellation_manager\u001b[49m\u001b[43m)\u001b[49m)\n\u001b[0;32m   1864\u001b[0m forward_backward \u001b[38;5;241m=\u001b[39m \u001b[38;5;28mself\u001b[39m\u001b[38;5;241m.\u001b[39m_select_forward_and_backward_functions(\n\u001b[0;32m   1865\u001b[0m     args,\n\u001b[0;32m   1866\u001b[0m     possible_gradient_type,\n\u001b[0;32m   1867\u001b[0m     executing_eagerly)\n\u001b[0;32m   1868\u001b[0m forward_function, args_with_tangents \u001b[38;5;241m=\u001b[39m forward_backward\u001b[38;5;241m.\u001b[39mforward()\n",
            "File \u001b[1;32mc:\\Users\\Ernest\\AppData\\Local\\Programs\\Python\\Python39\\lib\\site-packages\\tensorflow\\python\\eager\\function.py:499\u001b[0m, in \u001b[0;36m_EagerDefinedFunction.call\u001b[1;34m(self, ctx, args, cancellation_manager)\u001b[0m\n\u001b[0;32m    497\u001b[0m \u001b[38;5;28;01mwith\u001b[39;00m _InterpolateFunctionError(\u001b[38;5;28mself\u001b[39m):\n\u001b[0;32m    498\u001b[0m   \u001b[38;5;28;01mif\u001b[39;00m cancellation_manager \u001b[38;5;129;01mis\u001b[39;00m \u001b[38;5;28;01mNone\u001b[39;00m:\n\u001b[1;32m--> 499\u001b[0m     outputs \u001b[38;5;241m=\u001b[39m \u001b[43mexecute\u001b[49m\u001b[38;5;241;43m.\u001b[39;49m\u001b[43mexecute\u001b[49m\u001b[43m(\u001b[49m\n\u001b[0;32m    500\u001b[0m \u001b[43m        \u001b[49m\u001b[38;5;28;43mstr\u001b[39;49m\u001b[43m(\u001b[49m\u001b[38;5;28;43mself\u001b[39;49m\u001b[38;5;241;43m.\u001b[39;49m\u001b[43msignature\u001b[49m\u001b[38;5;241;43m.\u001b[39;49m\u001b[43mname\u001b[49m\u001b[43m)\u001b[49m\u001b[43m,\u001b[49m\n\u001b[0;32m    501\u001b[0m \u001b[43m        \u001b[49m\u001b[43mnum_outputs\u001b[49m\u001b[38;5;241;43m=\u001b[39;49m\u001b[38;5;28;43mself\u001b[39;49m\u001b[38;5;241;43m.\u001b[39;49m\u001b[43m_num_outputs\u001b[49m\u001b[43m,\u001b[49m\n\u001b[0;32m    502\u001b[0m \u001b[43m        \u001b[49m\u001b[43minputs\u001b[49m\u001b[38;5;241;43m=\u001b[39;49m\u001b[43margs\u001b[49m\u001b[43m,\u001b[49m\n\u001b[0;32m    503\u001b[0m \u001b[43m        \u001b[49m\u001b[43mattrs\u001b[49m\u001b[38;5;241;43m=\u001b[39;49m\u001b[43mattrs\u001b[49m\u001b[43m,\u001b[49m\n\u001b[0;32m    504\u001b[0m \u001b[43m        \u001b[49m\u001b[43mctx\u001b[49m\u001b[38;5;241;43m=\u001b[39;49m\u001b[43mctx\u001b[49m\u001b[43m)\u001b[49m\n\u001b[0;32m    505\u001b[0m   \u001b[38;5;28;01melse\u001b[39;00m:\n\u001b[0;32m    506\u001b[0m     outputs \u001b[38;5;241m=\u001b[39m execute\u001b[38;5;241m.\u001b[39mexecute_with_cancellation(\n\u001b[0;32m    507\u001b[0m         \u001b[38;5;28mstr\u001b[39m(\u001b[38;5;28mself\u001b[39m\u001b[38;5;241m.\u001b[39msignature\u001b[38;5;241m.\u001b[39mname),\n\u001b[0;32m    508\u001b[0m         num_outputs\u001b[38;5;241m=\u001b[39m\u001b[38;5;28mself\u001b[39m\u001b[38;5;241m.\u001b[39m_num_outputs,\n\u001b[1;32m   (...)\u001b[0m\n\u001b[0;32m    511\u001b[0m         ctx\u001b[38;5;241m=\u001b[39mctx,\n\u001b[0;32m    512\u001b[0m         cancellation_manager\u001b[38;5;241m=\u001b[39mcancellation_manager)\n",
            "File \u001b[1;32mc:\\Users\\Ernest\\AppData\\Local\\Programs\\Python\\Python39\\lib\\site-packages\\tensorflow\\python\\eager\\execute.py:54\u001b[0m, in \u001b[0;36mquick_execute\u001b[1;34m(op_name, num_outputs, inputs, attrs, ctx, name)\u001b[0m\n\u001b[0;32m     52\u001b[0m \u001b[38;5;28;01mtry\u001b[39;00m:\n\u001b[0;32m     53\u001b[0m   ctx\u001b[38;5;241m.\u001b[39mensure_initialized()\n\u001b[1;32m---> 54\u001b[0m   tensors \u001b[38;5;241m=\u001b[39m \u001b[43mpywrap_tfe\u001b[49m\u001b[38;5;241;43m.\u001b[39;49m\u001b[43mTFE_Py_Execute\u001b[49m\u001b[43m(\u001b[49m\u001b[43mctx\u001b[49m\u001b[38;5;241;43m.\u001b[39;49m\u001b[43m_handle\u001b[49m\u001b[43m,\u001b[49m\u001b[43m \u001b[49m\u001b[43mdevice_name\u001b[49m\u001b[43m,\u001b[49m\u001b[43m \u001b[49m\u001b[43mop_name\u001b[49m\u001b[43m,\u001b[49m\n\u001b[0;32m     55\u001b[0m \u001b[43m                                      \u001b[49m\u001b[43minputs\u001b[49m\u001b[43m,\u001b[49m\u001b[43m \u001b[49m\u001b[43mattrs\u001b[49m\u001b[43m,\u001b[49m\u001b[43m \u001b[49m\u001b[43mnum_outputs\u001b[49m\u001b[43m)\u001b[49m\n\u001b[0;32m     56\u001b[0m \u001b[38;5;28;01mexcept\u001b[39;00m core\u001b[38;5;241m.\u001b[39m_NotOkStatusException \u001b[38;5;28;01mas\u001b[39;00m e:\n\u001b[0;32m     57\u001b[0m   \u001b[38;5;28;01mif\u001b[39;00m name \u001b[38;5;129;01mis\u001b[39;00m \u001b[38;5;129;01mnot\u001b[39;00m \u001b[38;5;28;01mNone\u001b[39;00m:\n",
            "\u001b[1;31mKeyboardInterrupt\u001b[0m: "
          ]
        }
      ],
      "source": [
        "model.fit(x_train, y_train, epochs=10, batch_size=32, validation_data=(x_val, y_val))"
      ]
    },
    {
      "cell_type": "code",
      "execution_count": 26,
      "metadata": {
        "id": "b4W-s1W8PvAx"
      },
      "outputs": [],
      "source": [
        "mae_optimized_model_adam = model"
      ]
    },
    {
      "cell_type": "code",
      "execution_count": 27,
      "metadata": {
        "id": "Z5TojMv4PwJX"
      },
      "outputs": [],
      "source": [
        "def predict_sample(sample,model):\n",
        "    return (model.predict(np.array([sample]))[0,-1])"
      ]
    },
    {
      "cell_type": "markdown",
      "metadata": {
        "id": "dXcH3VfPP_2I"
      },
      "source": [
        "### Run RNN"
      ]
    },
    {
      "cell_type": "code",
      "execution_count": 28,
      "metadata": {
        "colab": {
          "base_uri": "https://localhost:8080/"
        },
        "id": "EUMhBftWQErx",
        "outputId": "6f3130db-49be-48b8-ce16-0aa2b6d41a07"
      },
      "outputs": [
        {
          "name": "stdout",
          "output_type": "stream",
          "text": [
            "Selecting a random index in our test dataset: \n",
            "1867\n",
            "Input: \n",
            "[[ 3.0400e-01  9.3900e-01 -4.4880e+00  5.7000e-02  2.5000e-04  2.6700e-02\n",
            "   1.0400e-01  5.9200e-01]\n",
            " [ 6.3600e-01  9.0100e-01 -3.3670e+00  4.2300e-02  3.7200e-03  0.0000e+00\n",
            "   9.1300e-02  6.8700e-01]\n",
            " [ 4.3500e-01  7.5000e-01 -5.6940e+00  2.5900e-01  6.0900e-02  0.0000e+00\n",
            "   8.0600e-02  3.3300e-01]\n",
            " [ 5.3700e-01  7.5700e-01 -4.0970e+00  3.5500e-02  3.7300e-05  3.3500e-04\n",
            "   3.1400e-01  4.3900e-01]\n",
            " [ 7.0500e-01  6.9600e-01 -6.9550e+00  2.9300e-01  1.2100e-01  0.0000e+00\n",
            "   3.0100e-01  6.7300e-01]\n",
            " [ 6.7300e-01  7.7500e-01 -6.8820e+00  5.1700e-02  4.7400e-01  3.7100e-05\n",
            "   5.0700e-01  8.2200e-01]\n",
            " [ 3.8800e-01  9.4300e-01 -2.9270e+00  1.0400e-01  3.0600e-04  0.0000e+00\n",
            "   1.6800e-01  1.6200e-01]\n",
            " [ 6.4200e-01  7.5600e-01 -5.5260e+00  6.1700e-02  3.0500e-01  2.5200e-01\n",
            "   8.2500e-02  5.2500e-01]\n",
            " [ 4.2900e-01  5.6300e-01 -8.0060e+00  3.0000e-02  8.8100e-01  9.6800e-05\n",
            "   7.6000e-02  2.9800e-01]\n",
            " [ 7.3600e-01  9.7500e-01 -5.0660e+00  3.1600e-02  5.0900e-01  3.4300e-06\n",
            "   1.8200e-01  9.6800e-01]\n",
            " [ 2.8800e-01  2.9100e-01 -1.3493e+01  3.3100e-02  9.3300e-01  5.4000e-01\n",
            "   2.2800e-01  7.0600e-02]\n",
            " [ 4.5500e-01  8.8000e-01 -4.7460e+00  3.3800e-02  3.0800e-02  0.0000e+00\n",
            "   9.9700e-02  4.6400e-01]\n",
            " [ 5.8700e-01  9.4000e-01 -4.3230e+00  3.9500e-02  4.2100e-03  0.0000e+00\n",
            "   2.2800e-01  6.7200e-01]\n",
            " [ 6.1200e-01  6.6700e-01 -6.0860e+00  6.5200e-02  7.2100e-02  1.6500e-05\n",
            "   6.9500e-02  7.2700e-01]\n",
            " [ 5.1200e-01  9.7600e-01 -3.5920e+00  9.1300e-02  3.2300e-03  0.0000e+00\n",
            "   2.3600e-01  4.4400e-01]\n",
            " [ 4.7700e-01  7.8600e-01 -5.2430e+00  3.6100e-02  2.2700e-05  2.3000e-03\n",
            "   1.2300e-01  6.5800e-01]\n",
            " [ 7.2900e-01  8.3800e-01 -5.7290e+00  2.9800e-02  1.9400e-02  0.0000e+00\n",
            "   8.5500e-02  6.8700e-01]\n",
            " [ 6.9600e-01  9.6300e-01 -6.6250e+00  3.9800e-02  1.0500e-02  8.5700e-01\n",
            "   8.7200e-02  5.7400e-01]\n",
            " [ 5.4500e-01  4.1800e-01 -1.3448e+01  3.8300e-02  9.5500e-01  9.8900e-01\n",
            "   1.2500e-01  2.2100e-01]]\n",
            "\n",
            " Output: \n",
            "1/1 [==============================] - 0s 268ms/step\n",
            "[ 0.52080023  0.79237133 -6.987033    0.05239534  0.05001872  0.00828381\n",
            "  0.13309419  0.43932056]\n"
          ]
        }
      ],
      "source": [
        "print('Selecting a random index in our test dataset: ')\n",
        "random_index = random.randint(0,len(x_test)-1)\n",
        "print(random_index)\n",
        "\n",
        "print('Input: ')\n",
        "print(x_test[random_index])\n",
        "\n",
        "print('\\n','Output: ')\n",
        "predicted = predict_sample(x_test[random_index], mae_optimized_model_adam)\n",
        "print(predicted)"
      ]
    },
    {
      "cell_type": "code",
      "execution_count": null,
      "metadata": {
        "id": "9Yo0IlYv9MhW"
      },
      "outputs": [],
      "source": [
        "np.save('song_embbeding', predicted)"
      ]
    },
    {
      "cell_type": "code",
      "execution_count": 29,
      "metadata": {
        "colab": {
          "base_uri": "https://localhost:8080/",
          "height": 206
        },
        "id": "TVvuK3Ah9MhW",
        "outputId": "95feb791-01e0-4d22-dfb3-713724f18a59"
      },
      "outputs": [
        {
          "data": {
            "text/html": [
              "<div>\n",
              "<style scoped>\n",
              "    .dataframe tbody tr th:only-of-type {\n",
              "        vertical-align: middle;\n",
              "    }\n",
              "\n",
              "    .dataframe tbody tr th {\n",
              "        vertical-align: top;\n",
              "    }\n",
              "\n",
              "    .dataframe thead th {\n",
              "        text-align: right;\n",
              "    }\n",
              "</style>\n",
              "<table border=\"1\" class=\"dataframe\">\n",
              "  <thead>\n",
              "    <tr style=\"text-align: right;\">\n",
              "      <th></th>\n",
              "      <th>track_id</th>\n",
              "      <th>name</th>\n",
              "      <th>danceability</th>\n",
              "      <th>energy</th>\n",
              "      <th>loudness</th>\n",
              "      <th>speechiness</th>\n",
              "      <th>acousticness</th>\n",
              "      <th>instrumentalness</th>\n",
              "      <th>liveness</th>\n",
              "      <th>valence</th>\n",
              "    </tr>\n",
              "  </thead>\n",
              "  <tbody>\n",
              "    <tr>\n",
              "      <th>306346</th>\n",
              "      <td>TRTVXIH128F426625A</td>\n",
              "      <td>Come Round Soon</td>\n",
              "      <td>0.338</td>\n",
              "      <td>0.819</td>\n",
              "      <td>-4.495</td>\n",
              "      <td>0.0776</td>\n",
              "      <td>0.077700</td>\n",
              "      <td>0.00000</td>\n",
              "      <td>0.159</td>\n",
              "      <td>0.545</td>\n",
              "    </tr>\n",
              "    <tr>\n",
              "      <th>417455</th>\n",
              "      <td>TRWUFEW128F14782F3</td>\n",
              "      <td>Forever My Friend</td>\n",
              "      <td>0.493</td>\n",
              "      <td>0.524</td>\n",
              "      <td>-13.553</td>\n",
              "      <td>0.0423</td>\n",
              "      <td>0.334000</td>\n",
              "      <td>0.01410</td>\n",
              "      <td>0.357</td>\n",
              "      <td>0.379</td>\n",
              "    </tr>\n",
              "    <tr>\n",
              "      <th>32466</th>\n",
              "      <td>TRNXEPE128F9339E47</td>\n",
              "      <td>My Name Is Jonas</td>\n",
              "      <td>0.261</td>\n",
              "      <td>0.947</td>\n",
              "      <td>-3.031</td>\n",
              "      <td>0.0488</td>\n",
              "      <td>0.000197</td>\n",
              "      <td>0.00332</td>\n",
              "      <td>0.310</td>\n",
              "      <td>0.550</td>\n",
              "    </tr>\n",
              "    <tr>\n",
              "      <th>698954</th>\n",
              "      <td>TRMKCCV128F92EB22E</td>\n",
              "      <td>Light On</td>\n",
              "      <td>0.448</td>\n",
              "      <td>0.830</td>\n",
              "      <td>-4.156</td>\n",
              "      <td>0.0332</td>\n",
              "      <td>0.067300</td>\n",
              "      <td>0.00000</td>\n",
              "      <td>0.113</td>\n",
              "      <td>0.362</td>\n",
              "    </tr>\n",
              "    <tr>\n",
              "      <th>227171</th>\n",
              "      <td>TRJGJTH128F4291A81</td>\n",
              "      <td>Oh My God, Whatever, Etc.</td>\n",
              "      <td>0.572</td>\n",
              "      <td>0.395</td>\n",
              "      <td>-10.630</td>\n",
              "      <td>0.0304</td>\n",
              "      <td>0.700000</td>\n",
              "      <td>0.00025</td>\n",
              "      <td>0.126</td>\n",
              "      <td>0.483</td>\n",
              "    </tr>\n",
              "  </tbody>\n",
              "</table>\n",
              "</div>"
            ],
            "text/plain": [
              "                  track_id                       name  danceability  energy  \\\n",
              "306346  TRTVXIH128F426625A            Come Round Soon         0.338   0.819   \n",
              "417455  TRWUFEW128F14782F3          Forever My Friend         0.493   0.524   \n",
              "32466   TRNXEPE128F9339E47           My Name Is Jonas         0.261   0.947   \n",
              "698954  TRMKCCV128F92EB22E                   Light On         0.448   0.830   \n",
              "227171  TRJGJTH128F4291A81  Oh My God, Whatever, Etc.         0.572   0.395   \n",
              "\n",
              "        loudness  speechiness  acousticness  instrumentalness  liveness  \\\n",
              "306346    -4.495       0.0776      0.077700           0.00000     0.159   \n",
              "417455   -13.553       0.0423      0.334000           0.01410     0.357   \n",
              "32466     -3.031       0.0488      0.000197           0.00332     0.310   \n",
              "698954    -4.156       0.0332      0.067300           0.00000     0.113   \n",
              "227171   -10.630       0.0304      0.700000           0.00025     0.126   \n",
              "\n",
              "        valence  \n",
              "306346    0.545  \n",
              "417455    0.379  \n",
              "32466     0.550  \n",
              "698954    0.362  \n",
              "227171    0.483  "
            ]
          },
          "execution_count": 29,
          "metadata": {},
          "output_type": "execute_result"
        }
      ],
      "source": [
        "distance_frame = data.drop(['artist','tags','tempo','duration_mins','user_id','playcount','mode'], axis=1)\n",
        "distance_frame.head()"
      ]
    },
    {
      "cell_type": "code",
      "execution_count": 30,
      "metadata": {
        "colab": {
          "base_uri": "https://localhost:8080/"
        },
        "id": "FWxHUaRZ9Mhb",
        "outputId": "0807dca9-e2fd-4a5c-c395-a09e8d12920b"
      },
      "outputs": [
        {
          "data": {
            "text/plain": [
              "23584"
            ]
          },
          "execution_count": 30,
          "metadata": {},
          "output_type": "execute_result"
        }
      ],
      "source": [
        "distance_frame.drop_duplicates(subset='track_id', keep='first', inplace=True)\n",
        "distance_frame.track_id.nunique()"
      ]
    },
    {
      "cell_type": "code",
      "execution_count": 31,
      "metadata": {
        "id": "cr_z6inG9Mhb"
      },
      "outputs": [],
      "source": [
        "def get_distances(data, p_vector):\n",
        "    names = data['name']\n",
        "    distance_frame = data.drop(['name'], axis=1)\n",
        "    distance_dict = distance_frame.set_index(['track_id']).to_dict('index')\n",
        "    for key in distance_dict:\n",
        "        distance_dict[key] = list(distance_dict[key].values())\n",
        "    distance_dict = distance_calc(distance_dict, p_vector, names)\n",
        "    return pd.DataFrame.from_dict(distance_dict, orient='index', columns=['id', 'distance'])\n",
        "\n",
        "def distance_calc(dict, v1, name_list):\n",
        "    distances = {}\n",
        "    i = 0\n",
        "    name_list = name_list.to_list()\n",
        "    for id in dict.keys():\n",
        "        v2 = dict[id]\n",
        "        value = 0.0\n",
        "        for n in range(len(v1)):\n",
        "            value += np.linalg.norm(v1[n] - v2[n])\n",
        "        distances[name_list[i]] = (id, value)\n",
        "        i += 1\n",
        "    return distances\n",
        "\n",
        "distance_frame2 = get_distances(distance_frame, predicted)\n"
      ]
    },
    {
      "cell_type": "code",
      "execution_count": 32,
      "metadata": {
        "colab": {
          "base_uri": "https://localhost:8080/",
          "height": 693
        },
        "id": "q7kNPAGv9Mhb",
        "outputId": "f29ac793-2229-4fbb-b38e-950c991739b3"
      },
      "outputs": [
        {
          "name": "stdout",
          "output_type": "stream",
          "text": [
            "(50, 2)\n"
          ]
        },
        {
          "data": {
            "text/html": [
              "<div>\n",
              "<style scoped>\n",
              "    .dataframe tbody tr th:only-of-type {\n",
              "        vertical-align: middle;\n",
              "    }\n",
              "\n",
              "    .dataframe tbody tr th {\n",
              "        vertical-align: top;\n",
              "    }\n",
              "\n",
              "    .dataframe thead th {\n",
              "        text-align: right;\n",
              "    }\n",
              "</style>\n",
              "<table border=\"1\" class=\"dataframe\">\n",
              "  <thead>\n",
              "    <tr style=\"text-align: right;\">\n",
              "      <th></th>\n",
              "      <th>id</th>\n",
              "      <th>distance</th>\n",
              "    </tr>\n",
              "  </thead>\n",
              "  <tbody>\n",
              "    <tr>\n",
              "      <th>Hit So Hard</th>\n",
              "      <td>TRFXZBQ128E0792A45</td>\n",
              "      <td>0.201863</td>\n",
              "    </tr>\n",
              "    <tr>\n",
              "      <th>Barely Breathing</th>\n",
              "      <td>TRELYSZ12903CAF337</td>\n",
              "      <td>0.220845</td>\n",
              "    </tr>\n",
              "    <tr>\n",
              "      <th>Our Life Is Not a Movie or Maybe</th>\n",
              "      <td>TRIKFBG128F429EFCC</td>\n",
              "      <td>0.242242</td>\n",
              "    </tr>\n",
              "    <tr>\n",
              "      <th>U16 Girls</th>\n",
              "      <td>TRHHANT128F933E6B4</td>\n",
              "      <td>0.243019</td>\n",
              "    </tr>\n",
              "    <tr>\n",
              "      <th>Angels or Devils</th>\n",
              "      <td>TRXCIRY128F92E81CC</td>\n",
              "      <td>0.257425</td>\n",
              "    </tr>\n",
              "    <tr>\n",
              "      <th>Puddle Splashers</th>\n",
              "      <td>TRJDCYY12903CDEC04</td>\n",
              "      <td>0.258237</td>\n",
              "    </tr>\n",
              "    <tr>\n",
              "      <th>Let's Get It On</th>\n",
              "      <td>TROHCQJ128F9335BBC</td>\n",
              "      <td>0.295018</td>\n",
              "    </tr>\n",
              "    <tr>\n",
              "      <th>Clock</th>\n",
              "      <td>TRDNTZC12903CB5146</td>\n",
              "      <td>0.316798</td>\n",
              "    </tr>\n",
              "    <tr>\n",
              "      <th>What's Coming Over You</th>\n",
              "      <td>TRUZSNU128F4235052</td>\n",
              "      <td>0.318168</td>\n",
              "    </tr>\n",
              "    <tr>\n",
              "      <th>Loyalty Song</th>\n",
              "      <td>TRJZIOB128F428194C</td>\n",
              "      <td>0.329766</td>\n",
              "    </tr>\n",
              "    <tr>\n",
              "      <th>Young Lions</th>\n",
              "      <td>TRLLWOS128F9332861</td>\n",
              "      <td>0.348116</td>\n",
              "    </tr>\n",
              "    <tr>\n",
              "      <th>Know Your Quarry</th>\n",
              "      <td>TRFELDK128F9333C72</td>\n",
              "      <td>0.355944</td>\n",
              "    </tr>\n",
              "    <tr>\n",
              "      <th>X-Ray Mind</th>\n",
              "      <td>TRPWELL128F427078B</td>\n",
              "      <td>0.359479</td>\n",
              "    </tr>\n",
              "    <tr>\n",
              "      <th>Leaf</th>\n",
              "      <td>TRNKHDH128F14ADCA1</td>\n",
              "      <td>0.366273</td>\n",
              "    </tr>\n",
              "    <tr>\n",
              "      <th>First Day Back</th>\n",
              "      <td>TRNXFMV12903CD4460</td>\n",
              "      <td>0.377662</td>\n",
              "    </tr>\n",
              "    <tr>\n",
              "      <th>Wormboy</th>\n",
              "      <td>TRKWWHJ128E0791299</td>\n",
              "      <td>0.379851</td>\n",
              "    </tr>\n",
              "    <tr>\n",
              "      <th>In the Red</th>\n",
              "      <td>TRUFPBA12903D0165E</td>\n",
              "      <td>0.383555</td>\n",
              "    </tr>\n",
              "    <tr>\n",
              "      <th>The Listening</th>\n",
              "      <td>TRBIPZI12903CD03B9</td>\n",
              "      <td>0.383783</td>\n",
              "    </tr>\n",
              "    <tr>\n",
              "      <th>The Ostrich</th>\n",
              "      <td>TRVDPTF128E079436A</td>\n",
              "      <td>0.384564</td>\n",
              "    </tr>\n",
              "    <tr>\n",
              "      <th>Septum Lucidum</th>\n",
              "      <td>TRJCMBG128F92F8DC6</td>\n",
              "      <td>0.387260</td>\n",
              "    </tr>\n",
              "  </tbody>\n",
              "</table>\n",
              "</div>"
            ],
            "text/plain": [
              "                                                  id  distance\n",
              "Hit So Hard                       TRFXZBQ128E0792A45  0.201863\n",
              "Barely Breathing                  TRELYSZ12903CAF337  0.220845\n",
              "Our Life Is Not a Movie or Maybe  TRIKFBG128F429EFCC  0.242242\n",
              "U16 Girls                         TRHHANT128F933E6B4  0.243019\n",
              "Angels or Devils                  TRXCIRY128F92E81CC  0.257425\n",
              "Puddle Splashers                  TRJDCYY12903CDEC04  0.258237\n",
              "Let's Get It On                   TROHCQJ128F9335BBC  0.295018\n",
              "Clock                             TRDNTZC12903CB5146  0.316798\n",
              "What's Coming Over You            TRUZSNU128F4235052  0.318168\n",
              "Loyalty Song                      TRJZIOB128F428194C  0.329766\n",
              "Young Lions                       TRLLWOS128F9332861  0.348116\n",
              "Know Your Quarry                  TRFELDK128F9333C72  0.355944\n",
              "X-Ray Mind                        TRPWELL128F427078B  0.359479\n",
              "Leaf                              TRNKHDH128F14ADCA1  0.366273\n",
              "First Day Back                    TRNXFMV12903CD4460  0.377662\n",
              "Wormboy                           TRKWWHJ128E0791299  0.379851\n",
              "In the Red                        TRUFPBA12903D0165E  0.383555\n",
              "The Listening                     TRBIPZI12903CD03B9  0.383783\n",
              "The Ostrich                       TRVDPTF128E079436A  0.384564\n",
              "Septum Lucidum                    TRJCMBG128F92F8DC6  0.387260"
            ]
          },
          "execution_count": 32,
          "metadata": {},
          "output_type": "execute_result"
        }
      ],
      "source": [
        "POTENTIAL_N = 50 #defines size\n",
        "\n",
        "potential_songs = distance_frame2.nsmallest(POTENTIAL_N, columns='distance', keep='all')\n",
        "print(potential_songs.shape)\n",
        "potential_songs.head(20)"
      ]
    },
    {
      "cell_type": "code",
      "execution_count": 33,
      "metadata": {
        "colab": {
          "base_uri": "https://localhost:8080/"
        },
        "id": "Dwep2SBu9Mhc",
        "outputId": "62b0b115-c320-4c09-ae65-525003eea2ee"
      },
      "outputs": [
        {
          "data": {
            "text/plain": [
              "['TRODFDZ128E0789BA4',\n",
              " 'TRBPEOE128F148299E',\n",
              " 'TRYFDNR128F4260C5E',\n",
              " 'TRXMPCB128F92EA612',\n",
              " 'TRIMXGK128E078A726',\n",
              " 'TRTBMYX12903D02CEC',\n",
              " 'TRJIIBZ128F148D69A',\n",
              " 'TRSXWUC128F92F951E',\n",
              " 'TRPGPDK12903CCC651',\n",
              " 'TRVIOPH128E079894E',\n",
              " 'TRTMSPO128F427175E',\n",
              " 'TRIMPFQ128F42B3024',\n",
              " 'TRUAJKR128F426CA45',\n",
              " 'TRAXPGI12903D02CE1',\n",
              " 'TRBCYWT128EF34C263',\n",
              " 'TRUBCCU128F147853B',\n",
              " 'TRIUULX128F146EC75',\n",
              " 'TRQGHWL128EF33FB48',\n",
              " 'TRVZFVU128F9336AAF']"
            ]
          },
          "execution_count": 33,
          "metadata": {},
          "output_type": "execute_result"
        }
      ],
      "source": [
        "ops_x_test[random_index]"
      ]
    },
    {
      "cell_type": "code",
      "execution_count": null,
      "metadata": {},
      "outputs": [],
      "source": [
        "model.save('mae_optimized_model_adam.keras')"
      ]
    },
    {
      "cell_type": "code",
      "execution_count": 34,
      "metadata": {},
      "outputs": [],
      "source": [
        "lyrics_embeddings_csv = pd.read_csv('lyrics_embeddings.csv')\n",
        "lyrics_embeddings_3d_csv = pd.read_csv('lyrics_embeddings_3d.csv')"
      ]
    },
    {
      "cell_type": "code",
      "execution_count": 35,
      "metadata": {},
      "outputs": [],
      "source": [
        "lyrics_embeddings = dict()\n",
        "lyrics_embeddings_3d  = dict()\n",
        "for idx, row in lyrics_embeddings_csv.iterrows():\n",
        "    lyrics_embeddings[row[0]] = np.array(row[1:])\n",
        "\n",
        "for idx, row in lyrics_embeddings_3d_csv.iterrows():\n",
        "    lyrics_embeddings_3d[row[0]] = np.array(row[1:])\n"
      ]
    },
    {
      "cell_type": "code",
      "execution_count": 36,
      "metadata": {},
      "outputs": [
        {
          "data": {
            "text/plain": [
              "69"
            ]
          },
          "execution_count": 36,
          "metadata": {},
          "output_type": "execute_result"
        }
      ],
      "source": [
        "candidates = dict()\n",
        "for track_id in ops_x_test[random_index]:\n",
        "    candidates[track_id] = lyrics_embeddings_3d[track_id]\n",
        "\n",
        "cutoff = len(candidates)\n",
        "\n",
        "for idx, row in potential_songs.iterrows():\n",
        "    candidates[row['id']] = lyrics_embeddings_3d[row['id']]\n",
        "\n",
        "len(candidates)"
      ]
    },
    {
      "cell_type": "code",
      "execution_count": 37,
      "metadata": {},
      "outputs": [],
      "source": [
        "from sklearn.metrics.pairwise import cosine_similarity\n",
        "from sklearn.metrics.pairwise import pairwise_distances\n",
        "from sklearn.decomposition import PCA\n",
        "\n",
        "# For reducing dimensions of the embeddings\n",
        "raw_embeddings = np.concatenate(list(lyrics_embeddings.values())).reshape(len(lyrics_embeddings), 768)\n",
        "track_ids = list(lyrics_embeddings.keys())\n",
        "dim_model = PCA(n_components=150, random_state=42)\n",
        "dim_model.fit(raw_embeddings)\n",
        "reduced_embeddings = dim_model.transform(raw_embeddings)\n",
        "reduced_embeddings_dict = {track_ids[i]: reduced_embeddings[i] for i in range(len(track_ids))}\n",
        "\n",
        "og_embeddings = np.array([reduced_embeddings_dict[track_id] for track_id in ops_x_test[random_index]])"
      ]
    },
    {
      "cell_type": "markdown",
      "metadata": {},
      "source": [
        "At this stage, we must compare the embeddings in the predicted list against those in the original input list and find the best candidates\n",
        "### Cosine Similarity"
      ]
    },
    {
      "cell_type": "code",
      "execution_count": 38,
      "metadata": {},
      "outputs": [
        {
          "data": {
            "text/html": [
              "<div>\n",
              "<style scoped>\n",
              "    .dataframe tbody tr th:only-of-type {\n",
              "        vertical-align: middle;\n",
              "    }\n",
              "\n",
              "    .dataframe tbody tr th {\n",
              "        vertical-align: top;\n",
              "    }\n",
              "\n",
              "    .dataframe thead th {\n",
              "        text-align: right;\n",
              "    }\n",
              "</style>\n",
              "<table border=\"1\" class=\"dataframe\">\n",
              "  <thead>\n",
              "    <tr style=\"text-align: right;\">\n",
              "      <th></th>\n",
              "      <th>id</th>\n",
              "      <th>distance</th>\n",
              "    </tr>\n",
              "  </thead>\n",
              "  <tbody>\n",
              "    <tr>\n",
              "      <th>Every Night My Teeth Are Falling Out</th>\n",
              "      <td>TRUVOKI12903CDBB48</td>\n",
              "      <td>0.394316</td>\n",
              "    </tr>\n",
              "    <tr>\n",
              "      <th>w.a.m.s.</th>\n",
              "      <td>TRWUHOB128F930982A</td>\n",
              "      <td>0.426055</td>\n",
              "    </tr>\n",
              "    <tr>\n",
              "      <th>Million</th>\n",
              "      <td>TRZAYAJ128F4250729</td>\n",
              "      <td>0.441845</td>\n",
              "    </tr>\n",
              "    <tr>\n",
              "      <th>Let's Get It On</th>\n",
              "      <td>TROHCQJ128F9335BBC</td>\n",
              "      <td>0.295018</td>\n",
              "    </tr>\n",
              "    <tr>\n",
              "      <th>First Day Back</th>\n",
              "      <td>TRNXFMV12903CD4460</td>\n",
              "      <td>0.377662</td>\n",
              "    </tr>\n",
              "    <tr>\n",
              "      <th>Denial Waits</th>\n",
              "      <td>TRFEDVA128F422C121</td>\n",
              "      <td>0.433356</td>\n",
              "    </tr>\n",
              "    <tr>\n",
              "      <th>18 Karat Gold</th>\n",
              "      <td>TRRZOBS128F424E4DA</td>\n",
              "      <td>0.436122</td>\n",
              "    </tr>\n",
              "    <tr>\n",
              "      <th>Take My Hand</th>\n",
              "      <td>TRLKBKB12903CF799C</td>\n",
              "      <td>0.445407</td>\n",
              "    </tr>\n",
              "    <tr>\n",
              "      <th>Everything I Cannot See</th>\n",
              "      <td>TRQQYKP128F1482484</td>\n",
              "      <td>0.418912</td>\n",
              "    </tr>\n",
              "    <tr>\n",
              "      <th>Facing Hell</th>\n",
              "      <td>TRTZMDC128F4278F68</td>\n",
              "      <td>0.394812</td>\n",
              "    </tr>\n",
              "  </tbody>\n",
              "</table>\n",
              "</div>"
            ],
            "text/plain": [
              "                                                      id  distance\n",
              "Every Night My Teeth Are Falling Out  TRUVOKI12903CDBB48  0.394316\n",
              "w.a.m.s.                              TRWUHOB128F930982A  0.426055\n",
              "Million                               TRZAYAJ128F4250729  0.441845\n",
              "Let's Get It On                       TROHCQJ128F9335BBC  0.295018\n",
              "First Day Back                        TRNXFMV12903CD4460  0.377662\n",
              "Denial Waits                          TRFEDVA128F422C121  0.433356\n",
              "18 Karat Gold                         TRRZOBS128F424E4DA  0.436122\n",
              "Take My Hand                          TRLKBKB12903CF799C  0.445407\n",
              "Everything I Cannot See               TRQQYKP128F1482484  0.418912\n",
              "Facing Hell                           TRTZMDC128F4278F68  0.394812"
            ]
          },
          "execution_count": 38,
          "metadata": {},
          "output_type": "execute_result"
        }
      ],
      "source": [
        "similarities = list()\n",
        "\n",
        "for track_id in potential_songs['id']:\n",
        "\n",
        "    candidate_embedding = reduced_embeddings_dict[track_id].reshape(1, -1)\n",
        "    similarity = cosine_similarity(candidate_embedding, og_embeddings).flatten()\n",
        "    similarities.append(np.mean(similarity))\n",
        "\n",
        "similarities = np.array(similarities)\n",
        "most_similar_indices = np.argsort(similarities)[::-1]\n",
        "selected_songs_cs = potential_songs.iloc[most_similar_indices[:10]]\n",
        "selected_songs_cs"
      ]
    },
    {
      "cell_type": "markdown",
      "metadata": {},
      "source": [
        "### Pairwise Distances"
      ]
    },
    {
      "cell_type": "code",
      "execution_count": 39,
      "metadata": {},
      "outputs": [
        {
          "data": {
            "text/html": [
              "<div>\n",
              "<style scoped>\n",
              "    .dataframe tbody tr th:only-of-type {\n",
              "        vertical-align: middle;\n",
              "    }\n",
              "\n",
              "    .dataframe tbody tr th {\n",
              "        vertical-align: top;\n",
              "    }\n",
              "\n",
              "    .dataframe thead th {\n",
              "        text-align: right;\n",
              "    }\n",
              "</style>\n",
              "<table border=\"1\" class=\"dataframe\">\n",
              "  <thead>\n",
              "    <tr style=\"text-align: right;\">\n",
              "      <th></th>\n",
              "      <th>id</th>\n",
              "      <th>distance</th>\n",
              "    </tr>\n",
              "  </thead>\n",
              "  <tbody>\n",
              "    <tr>\n",
              "      <th>First Day Back</th>\n",
              "      <td>TRNXFMV12903CD4460</td>\n",
              "      <td>0.377662</td>\n",
              "    </tr>\n",
              "    <tr>\n",
              "      <th>w.a.m.s.</th>\n",
              "      <td>TRWUHOB128F930982A</td>\n",
              "      <td>0.426055</td>\n",
              "    </tr>\n",
              "    <tr>\n",
              "      <th>Facing Hell</th>\n",
              "      <td>TRTZMDC128F4278F68</td>\n",
              "      <td>0.394812</td>\n",
              "    </tr>\n",
              "    <tr>\n",
              "      <th>Denial Waits</th>\n",
              "      <td>TRFEDVA128F422C121</td>\n",
              "      <td>0.433356</td>\n",
              "    </tr>\n",
              "    <tr>\n",
              "      <th>18 Karat Gold</th>\n",
              "      <td>TRRZOBS128F424E4DA</td>\n",
              "      <td>0.436122</td>\n",
              "    </tr>\n",
              "    <tr>\n",
              "      <th>Million</th>\n",
              "      <td>TRZAYAJ128F4250729</td>\n",
              "      <td>0.441845</td>\n",
              "    </tr>\n",
              "    <tr>\n",
              "      <th>Everything I Cannot See</th>\n",
              "      <td>TRQQYKP128F1482484</td>\n",
              "      <td>0.418912</td>\n",
              "    </tr>\n",
              "    <tr>\n",
              "      <th>Every Night My Teeth Are Falling Out</th>\n",
              "      <td>TRUVOKI12903CDBB48</td>\n",
              "      <td>0.394316</td>\n",
              "    </tr>\n",
              "    <tr>\n",
              "      <th>Take My Hand</th>\n",
              "      <td>TRLKBKB12903CF799C</td>\n",
              "      <td>0.445407</td>\n",
              "    </tr>\n",
              "    <tr>\n",
              "      <th>Let's Get It On</th>\n",
              "      <td>TROHCQJ128F9335BBC</td>\n",
              "      <td>0.295018</td>\n",
              "    </tr>\n",
              "  </tbody>\n",
              "</table>\n",
              "</div>"
            ],
            "text/plain": [
              "                                                      id  distance\n",
              "First Day Back                        TRNXFMV12903CD4460  0.377662\n",
              "w.a.m.s.                              TRWUHOB128F930982A  0.426055\n",
              "Facing Hell                           TRTZMDC128F4278F68  0.394812\n",
              "Denial Waits                          TRFEDVA128F422C121  0.433356\n",
              "18 Karat Gold                         TRRZOBS128F424E4DA  0.436122\n",
              "Million                               TRZAYAJ128F4250729  0.441845\n",
              "Everything I Cannot See               TRQQYKP128F1482484  0.418912\n",
              "Every Night My Teeth Are Falling Out  TRUVOKI12903CDBB48  0.394316\n",
              "Take My Hand                          TRLKBKB12903CF799C  0.445407\n",
              "Let's Get It On                       TROHCQJ128F9335BBC  0.295018"
            ]
          },
          "execution_count": 39,
          "metadata": {},
          "output_type": "execute_result"
        }
      ],
      "source": [
        "candidate_embeddings = np.array([reduced_embeddings_dict[track_id] for track_id in selected_songs_cs['id']])\n",
        "\n",
        "distances = pairwise_distances(candidate_embeddings, og_embeddings, metric='euclidean')\n",
        "mean_distances = np.mean(distances, axis=1)\n",
        "closest_candidates_indices = np.argsort(mean_distances)[:10]\n",
        "selected_songs_pd = selected_songs_cs.iloc[closest_candidates_indices]\n",
        "selected_songs_pd\n",
        "# embeddings = np.concatenate((og_embeddings, candidate_embeddings), axis=0)\n",
        "# knn = NearestNeighbors(n_neighbors=10, metric='cosine')\n",
        "# knn.fit(embeddings)\n",
        "\n",
        "# distances, indices = knn.kneighbors(embeddings)\n",
        "\n",
        "# selected_songs_knn = potential_songs.iloc[indices[0][1:]]\n",
        "# selected_songs_knn"
      ]
    },
    {
      "cell_type": "code",
      "execution_count": 40,
      "metadata": {},
      "outputs": [
        {
          "data": {
            "text/plain": [
              "array([4, 1, 9, 5, 6, 2, 8, 0, 7, 3], dtype=int64)"
            ]
          },
          "execution_count": 40,
          "metadata": {},
          "output_type": "execute_result"
        }
      ],
      "source": [
        "closest_candidates_indices"
      ]
    },
    {
      "cell_type": "code",
      "execution_count": 41,
      "metadata": {},
      "outputs": [
        {
          "data": {
            "text/html": [
              "<div>\n",
              "<style scoped>\n",
              "    .dataframe tbody tr th:only-of-type {\n",
              "        vertical-align: middle;\n",
              "    }\n",
              "\n",
              "    .dataframe tbody tr th {\n",
              "        vertical-align: top;\n",
              "    }\n",
              "\n",
              "    .dataframe thead th {\n",
              "        text-align: right;\n",
              "    }\n",
              "</style>\n",
              "<table border=\"1\" class=\"dataframe\">\n",
              "  <thead>\n",
              "    <tr style=\"text-align: right;\">\n",
              "      <th></th>\n",
              "      <th>name</th>\n",
              "      <th>artist</th>\n",
              "      <th>tags</th>\n",
              "      <th>danceability</th>\n",
              "      <th>energy</th>\n",
              "      <th>loudness</th>\n",
              "      <th>mode</th>\n",
              "      <th>speechiness</th>\n",
              "      <th>acousticness</th>\n",
              "      <th>instrumentalness</th>\n",
              "      <th>liveness</th>\n",
              "      <th>valence</th>\n",
              "      <th>tempo</th>\n",
              "      <th>duration_mins</th>\n",
              "    </tr>\n",
              "    <tr>\n",
              "      <th>id</th>\n",
              "      <th></th>\n",
              "      <th></th>\n",
              "      <th></th>\n",
              "      <th></th>\n",
              "      <th></th>\n",
              "      <th></th>\n",
              "      <th></th>\n",
              "      <th></th>\n",
              "      <th></th>\n",
              "      <th></th>\n",
              "      <th></th>\n",
              "      <th></th>\n",
              "      <th></th>\n",
              "      <th></th>\n",
              "    </tr>\n",
              "  </thead>\n",
              "  <tbody>\n",
              "    <tr>\n",
              "      <th>TRNXFMV12903CD4460</th>\n",
              "      <td>First Day Back</td>\n",
              "      <td>Braid</td>\n",
              "      <td>indie_rock, emo, post_hardcore</td>\n",
              "      <td>0.465</td>\n",
              "      <td>0.906</td>\n",
              "      <td>-6.917</td>\n",
              "      <td>1</td>\n",
              "      <td>0.0431</td>\n",
              "      <td>0.005170</td>\n",
              "      <td>0.000002</td>\n",
              "      <td>0.1310</td>\n",
              "      <td>0.513</td>\n",
              "      <td>95.798</td>\n",
              "      <td>3.367767</td>\n",
              "    </tr>\n",
              "    <tr>\n",
              "      <th>TRWUHOB128F930982A</th>\n",
              "      <td>w.a.m.s.</td>\n",
              "      <td>Fall Out Boy</td>\n",
              "      <td>rock, alternative, pop, thrash_metal, emo, pop...</td>\n",
              "      <td>0.387</td>\n",
              "      <td>0.846</td>\n",
              "      <td>-6.905</td>\n",
              "      <td>0</td>\n",
              "      <td>0.0945</td>\n",
              "      <td>0.026000</td>\n",
              "      <td>0.000041</td>\n",
              "      <td>0.1460</td>\n",
              "      <td>0.370</td>\n",
              "      <td>127.057</td>\n",
              "      <td>4.633550</td>\n",
              "    </tr>\n",
              "    <tr>\n",
              "      <th>TRTZMDC128F4278F68</th>\n",
              "      <td>Facing Hell</td>\n",
              "      <td>Ozzy Osbourne</td>\n",
              "      <td>heavy_metal</td>\n",
              "      <td>0.587</td>\n",
              "      <td>0.814</td>\n",
              "      <td>-6.831</td>\n",
              "      <td>1</td>\n",
              "      <td>0.0428</td>\n",
              "      <td>0.002920</td>\n",
              "      <td>0.000041</td>\n",
              "      <td>0.0894</td>\n",
              "      <td>0.397</td>\n",
              "      <td>128.858</td>\n",
              "      <td>4.436433</td>\n",
              "    </tr>\n",
              "    <tr>\n",
              "      <th>TRFEDVA128F422C121</th>\n",
              "      <td>Denial Waits</td>\n",
              "      <td>ASHES dIVIDE</td>\n",
              "      <td>alternative, alternative_rock, progressive_rock</td>\n",
              "      <td>0.573</td>\n",
              "      <td>0.832</td>\n",
              "      <td>-6.873</td>\n",
              "      <td>0</td>\n",
              "      <td>0.0494</td>\n",
              "      <td>0.003550</td>\n",
              "      <td>0.066500</td>\n",
              "      <td>0.0486</td>\n",
              "      <td>0.404</td>\n",
              "      <td>155.045</td>\n",
              "      <td>3.596883</td>\n",
              "    </tr>\n",
              "    <tr>\n",
              "      <th>TRRZOBS128F424E4DA</th>\n",
              "      <td>18 Karat Gold</td>\n",
              "      <td>Johnossi</td>\n",
              "      <td>rock, indie, indie_rock, swedish</td>\n",
              "      <td>0.438</td>\n",
              "      <td>0.757</td>\n",
              "      <td>-6.875</td>\n",
              "      <td>1</td>\n",
              "      <td>0.0337</td>\n",
              "      <td>0.000666</td>\n",
              "      <td>0.000000</td>\n",
              "      <td>0.2080</td>\n",
              "      <td>0.494</td>\n",
              "      <td>122.666</td>\n",
              "      <td>4.700667</td>\n",
              "    </tr>\n",
              "    <tr>\n",
              "      <th>TRZAYAJ128F4250729</th>\n",
              "      <td>Million</td>\n",
              "      <td>Jawbreaker</td>\n",
              "      <td>punk, post_hardcore</td>\n",
              "      <td>0.359</td>\n",
              "      <td>0.879</td>\n",
              "      <td>-6.874</td>\n",
              "      <td>1</td>\n",
              "      <td>0.0527</td>\n",
              "      <td>0.001640</td>\n",
              "      <td>0.000810</td>\n",
              "      <td>0.1400</td>\n",
              "      <td>0.422</td>\n",
              "      <td>157.375</td>\n",
              "      <td>4.340433</td>\n",
              "    </tr>\n",
              "    <tr>\n",
              "      <th>TRQQYKP128F1482484</th>\n",
              "      <td>Everything I Cannot See</td>\n",
              "      <td>Charlotte Gainsbourg</td>\n",
              "      <td>female_vocalists, piano, french, lounge</td>\n",
              "      <td>0.527</td>\n",
              "      <td>0.588</td>\n",
              "      <td>-6.921</td>\n",
              "      <td>1</td>\n",
              "      <td>0.0294</td>\n",
              "      <td>0.053700</td>\n",
              "      <td>0.065500</td>\n",
              "      <td>0.1040</td>\n",
              "      <td>0.410</td>\n",
              "      <td>144.366</td>\n",
              "      <td>5.765100</td>\n",
              "    </tr>\n",
              "    <tr>\n",
              "      <th>TRUVOKI12903CDBB48</th>\n",
              "      <td>Every Night My Teeth Are Falling Out</td>\n",
              "      <td>The Antlers</td>\n",
              "      <td>indie, indie_rock, singer_songwriter, american</td>\n",
              "      <td>0.569</td>\n",
              "      <td>0.773</td>\n",
              "      <td>-7.028</td>\n",
              "      <td>0</td>\n",
              "      <td>0.0304</td>\n",
              "      <td>0.076500</td>\n",
              "      <td>0.129000</td>\n",
              "      <td>0.1470</td>\n",
              "      <td>0.542</td>\n",
              "      <td>134.967</td>\n",
              "      <td>3.397217</td>\n",
              "    </tr>\n",
              "    <tr>\n",
              "      <th>TRLKBKB12903CF799C</th>\n",
              "      <td>Take My Hand</td>\n",
              "      <td>Dido</td>\n",
              "      <td>electronic, pop, female_vocalists, british, ch...</td>\n",
              "      <td>0.683</td>\n",
              "      <td>0.748</td>\n",
              "      <td>-6.831</td>\n",
              "      <td>0</td>\n",
              "      <td>0.0308</td>\n",
              "      <td>0.040700</td>\n",
              "      <td>0.006980</td>\n",
              "      <td>0.1540</td>\n",
              "      <td>0.469</td>\n",
              "      <td>126.934</td>\n",
              "      <td>6.711767</td>\n",
              "    </tr>\n",
              "    <tr>\n",
              "      <th>TROHCQJ128F9335BBC</th>\n",
              "      <td>Let's Get It On</td>\n",
              "      <td>Marvin Gaye</td>\n",
              "      <td>soul, funk, 70s, oldies</td>\n",
              "      <td>0.517</td>\n",
              "      <td>0.738</td>\n",
              "      <td>-6.999</td>\n",
              "      <td>1</td>\n",
              "      <td>0.0584</td>\n",
              "      <td>0.030000</td>\n",
              "      <td>0.000001</td>\n",
              "      <td>0.0622</td>\n",
              "      <td>0.559</td>\n",
              "      <td>167.841</td>\n",
              "      <td>4.832000</td>\n",
              "    </tr>\n",
              "  </tbody>\n",
              "</table>\n",
              "</div>"
            ],
            "text/plain": [
              "                                                    name  \\\n",
              "id                                                         \n",
              "TRNXFMV12903CD4460                        First Day Back   \n",
              "TRWUHOB128F930982A                              w.a.m.s.   \n",
              "TRTZMDC128F4278F68                           Facing Hell   \n",
              "TRFEDVA128F422C121                          Denial Waits   \n",
              "TRRZOBS128F424E4DA                         18 Karat Gold   \n",
              "TRZAYAJ128F4250729                               Million   \n",
              "TRQQYKP128F1482484               Everything I Cannot See   \n",
              "TRUVOKI12903CDBB48  Every Night My Teeth Are Falling Out   \n",
              "TRLKBKB12903CF799C                          Take My Hand   \n",
              "TROHCQJ128F9335BBC                       Let's Get It On   \n",
              "\n",
              "                                  artist  \\\n",
              "id                                         \n",
              "TRNXFMV12903CD4460                 Braid   \n",
              "TRWUHOB128F930982A          Fall Out Boy   \n",
              "TRTZMDC128F4278F68         Ozzy Osbourne   \n",
              "TRFEDVA128F422C121          ASHES dIVIDE   \n",
              "TRRZOBS128F424E4DA              Johnossi   \n",
              "TRZAYAJ128F4250729            Jawbreaker   \n",
              "TRQQYKP128F1482484  Charlotte Gainsbourg   \n",
              "TRUVOKI12903CDBB48           The Antlers   \n",
              "TRLKBKB12903CF799C                  Dido   \n",
              "TROHCQJ128F9335BBC           Marvin Gaye   \n",
              "\n",
              "                                                                 tags  \\\n",
              "id                                                                      \n",
              "TRNXFMV12903CD4460                     indie_rock, emo, post_hardcore   \n",
              "TRWUHOB128F930982A  rock, alternative, pop, thrash_metal, emo, pop...   \n",
              "TRTZMDC128F4278F68                                        heavy_metal   \n",
              "TRFEDVA128F422C121    alternative, alternative_rock, progressive_rock   \n",
              "TRRZOBS128F424E4DA                   rock, indie, indie_rock, swedish   \n",
              "TRZAYAJ128F4250729                                punk, post_hardcore   \n",
              "TRQQYKP128F1482484            female_vocalists, piano, french, lounge   \n",
              "TRUVOKI12903CDBB48     indie, indie_rock, singer_songwriter, american   \n",
              "TRLKBKB12903CF799C  electronic, pop, female_vocalists, british, ch...   \n",
              "TROHCQJ128F9335BBC                            soul, funk, 70s, oldies   \n",
              "\n",
              "                    danceability  energy  loudness  mode  speechiness  \\\n",
              "id                                                                      \n",
              "TRNXFMV12903CD4460         0.465   0.906    -6.917     1       0.0431   \n",
              "TRWUHOB128F930982A         0.387   0.846    -6.905     0       0.0945   \n",
              "TRTZMDC128F4278F68         0.587   0.814    -6.831     1       0.0428   \n",
              "TRFEDVA128F422C121         0.573   0.832    -6.873     0       0.0494   \n",
              "TRRZOBS128F424E4DA         0.438   0.757    -6.875     1       0.0337   \n",
              "TRZAYAJ128F4250729         0.359   0.879    -6.874     1       0.0527   \n",
              "TRQQYKP128F1482484         0.527   0.588    -6.921     1       0.0294   \n",
              "TRUVOKI12903CDBB48         0.569   0.773    -7.028     0       0.0304   \n",
              "TRLKBKB12903CF799C         0.683   0.748    -6.831     0       0.0308   \n",
              "TROHCQJ128F9335BBC         0.517   0.738    -6.999     1       0.0584   \n",
              "\n",
              "                    acousticness  instrumentalness  liveness  valence  \\\n",
              "id                                                                      \n",
              "TRNXFMV12903CD4460      0.005170          0.000002    0.1310    0.513   \n",
              "TRWUHOB128F930982A      0.026000          0.000041    0.1460    0.370   \n",
              "TRTZMDC128F4278F68      0.002920          0.000041    0.0894    0.397   \n",
              "TRFEDVA128F422C121      0.003550          0.066500    0.0486    0.404   \n",
              "TRRZOBS128F424E4DA      0.000666          0.000000    0.2080    0.494   \n",
              "TRZAYAJ128F4250729      0.001640          0.000810    0.1400    0.422   \n",
              "TRQQYKP128F1482484      0.053700          0.065500    0.1040    0.410   \n",
              "TRUVOKI12903CDBB48      0.076500          0.129000    0.1470    0.542   \n",
              "TRLKBKB12903CF799C      0.040700          0.006980    0.1540    0.469   \n",
              "TROHCQJ128F9335BBC      0.030000          0.000001    0.0622    0.559   \n",
              "\n",
              "                      tempo  duration_mins  \n",
              "id                                          \n",
              "TRNXFMV12903CD4460   95.798       3.367767  \n",
              "TRWUHOB128F930982A  127.057       4.633550  \n",
              "TRTZMDC128F4278F68  128.858       4.436433  \n",
              "TRFEDVA128F422C121  155.045       3.596883  \n",
              "TRRZOBS128F424E4DA  122.666       4.700667  \n",
              "TRZAYAJ128F4250729  157.375       4.340433  \n",
              "TRQQYKP128F1482484  144.366       5.765100  \n",
              "TRUVOKI12903CDBB48  134.967       3.397217  \n",
              "TRLKBKB12903CF799C  126.934       6.711767  \n",
              "TROHCQJ128F9335BBC  167.841       4.832000  "
            ]
          },
          "execution_count": 41,
          "metadata": {},
          "output_type": "execute_result"
        }
      ],
      "source": [
        "song_features_data[song_features_data['track_id'].isin(selected_songs_pd['id'])].set_index('track_id').reindex(selected_songs_pd['id'])"
      ]
    },
    {
      "cell_type": "code",
      "execution_count": 42,
      "metadata": {},
      "outputs": [
        {
          "data": {
            "text/html": [
              "<div>\n",
              "<style scoped>\n",
              "    .dataframe tbody tr th:only-of-type {\n",
              "        vertical-align: middle;\n",
              "    }\n",
              "\n",
              "    .dataframe tbody tr th {\n",
              "        vertical-align: top;\n",
              "    }\n",
              "\n",
              "    .dataframe thead th {\n",
              "        text-align: right;\n",
              "    }\n",
              "</style>\n",
              "<table border=\"1\" class=\"dataframe\">\n",
              "  <thead>\n",
              "    <tr style=\"text-align: right;\">\n",
              "      <th></th>\n",
              "      <th>name</th>\n",
              "      <th>artist</th>\n",
              "      <th>tags</th>\n",
              "      <th>danceability</th>\n",
              "      <th>energy</th>\n",
              "      <th>loudness</th>\n",
              "      <th>mode</th>\n",
              "      <th>speechiness</th>\n",
              "      <th>acousticness</th>\n",
              "      <th>instrumentalness</th>\n",
              "      <th>liveness</th>\n",
              "      <th>valence</th>\n",
              "      <th>tempo</th>\n",
              "      <th>duration_mins</th>\n",
              "    </tr>\n",
              "    <tr>\n",
              "      <th>track_id</th>\n",
              "      <th></th>\n",
              "      <th></th>\n",
              "      <th></th>\n",
              "      <th></th>\n",
              "      <th></th>\n",
              "      <th></th>\n",
              "      <th></th>\n",
              "      <th></th>\n",
              "      <th></th>\n",
              "      <th></th>\n",
              "      <th></th>\n",
              "      <th></th>\n",
              "      <th></th>\n",
              "      <th></th>\n",
              "    </tr>\n",
              "  </thead>\n",
              "  <tbody>\n",
              "    <tr>\n",
              "      <th>TRODFDZ128E0789BA4</th>\n",
              "      <td>Hurry Up Let's Go</td>\n",
              "      <td>Shout Out Louds</td>\n",
              "      <td>indie, indie_rock, indie_pop, britpop, swedish</td>\n",
              "      <td>0.304</td>\n",
              "      <td>0.939</td>\n",
              "      <td>-4.488</td>\n",
              "      <td>1</td>\n",
              "      <td>0.0570</td>\n",
              "      <td>0.000250</td>\n",
              "      <td>0.026700</td>\n",
              "      <td>0.1040</td>\n",
              "      <td>0.5920</td>\n",
              "      <td>169.738</td>\n",
              "      <td>2.314000</td>\n",
              "    </tr>\n",
              "    <tr>\n",
              "      <th>TRBPEOE128F148299E</th>\n",
              "      <td>Everybody Knows You Cried Last Night</td>\n",
              "      <td>The Fratellis</td>\n",
              "      <td>rock, indie, indie_rock, british, britpop</td>\n",
              "      <td>0.636</td>\n",
              "      <td>0.901</td>\n",
              "      <td>-3.367</td>\n",
              "      <td>1</td>\n",
              "      <td>0.0423</td>\n",
              "      <td>0.003720</td>\n",
              "      <td>0.000000</td>\n",
              "      <td>0.0913</td>\n",
              "      <td>0.6870</td>\n",
              "      <td>102.738</td>\n",
              "      <td>3.906883</td>\n",
              "    </tr>\n",
              "    <tr>\n",
              "      <th>TRYFDNR128F4260C5E</th>\n",
              "      <td>No Air duet with Chris Brown</td>\n",
              "      <td>Jordin Sparks</td>\n",
              "      <td>pop, female_vocalists, dance, techno, rnb</td>\n",
              "      <td>0.435</td>\n",
              "      <td>0.750</td>\n",
              "      <td>-5.694</td>\n",
              "      <td>0</td>\n",
              "      <td>0.2590</td>\n",
              "      <td>0.060900</td>\n",
              "      <td>0.000000</td>\n",
              "      <td>0.0806</td>\n",
              "      <td>0.3330</td>\n",
              "      <td>159.744</td>\n",
              "      <td>4.354000</td>\n",
              "    </tr>\n",
              "    <tr>\n",
              "      <th>TRXMPCB128F92EA612</th>\n",
              "      <td>Repeaterbeater</td>\n",
              "      <td>Mew</td>\n",
              "      <td>alternative, indie, experimental</td>\n",
              "      <td>0.537</td>\n",
              "      <td>0.757</td>\n",
              "      <td>-4.097</td>\n",
              "      <td>1</td>\n",
              "      <td>0.0355</td>\n",
              "      <td>0.000037</td>\n",
              "      <td>0.000335</td>\n",
              "      <td>0.3140</td>\n",
              "      <td>0.4390</td>\n",
              "      <td>134.962</td>\n",
              "      <td>2.528433</td>\n",
              "    </tr>\n",
              "    <tr>\n",
              "      <th>TRIMXGK128E078A726</th>\n",
              "      <td>Top Of The World</td>\n",
              "      <td>Ace Hood</td>\n",
              "      <td>rap, hip_hop</td>\n",
              "      <td>0.705</td>\n",
              "      <td>0.696</td>\n",
              "      <td>-6.955</td>\n",
              "      <td>1</td>\n",
              "      <td>0.2930</td>\n",
              "      <td>0.121000</td>\n",
              "      <td>0.000000</td>\n",
              "      <td>0.3010</td>\n",
              "      <td>0.6730</td>\n",
              "      <td>79.069</td>\n",
              "      <td>3.514000</td>\n",
              "    </tr>\n",
              "    <tr>\n",
              "      <th>TRTBMYX12903D02CEC</th>\n",
              "      <td>Shitty Weekend</td>\n",
              "      <td>Suburban Kids with Biblical Names</td>\n",
              "      <td>indie, indie_pop, swedish</td>\n",
              "      <td>0.673</td>\n",
              "      <td>0.775</td>\n",
              "      <td>-6.882</td>\n",
              "      <td>0</td>\n",
              "      <td>0.0517</td>\n",
              "      <td>0.474000</td>\n",
              "      <td>0.000037</td>\n",
              "      <td>0.5070</td>\n",
              "      <td>0.8220</td>\n",
              "      <td>80.068</td>\n",
              "      <td>2.724883</td>\n",
              "    </tr>\n",
              "    <tr>\n",
              "      <th>TRJIIBZ128F148D69A</th>\n",
              "      <td>Away From Me</td>\n",
              "      <td>Puddle of Mudd</td>\n",
              "      <td>rock, alternative, alternative_rock, grunge</td>\n",
              "      <td>0.388</td>\n",
              "      <td>0.943</td>\n",
              "      <td>-2.927</td>\n",
              "      <td>1</td>\n",
              "      <td>0.1040</td>\n",
              "      <td>0.000306</td>\n",
              "      <td>0.000000</td>\n",
              "      <td>0.1680</td>\n",
              "      <td>0.1620</td>\n",
              "      <td>154.721</td>\n",
              "      <td>3.974433</td>\n",
              "    </tr>\n",
              "    <tr>\n",
              "      <th>TRSXWUC128F92F951E</th>\n",
              "      <td>Until We Bleed (feat. Lykke Li)</td>\n",
              "      <td>Kleerup</td>\n",
              "      <td>electronic, ambient, electro, swedish</td>\n",
              "      <td>0.642</td>\n",
              "      <td>0.756</td>\n",
              "      <td>-5.526</td>\n",
              "      <td>0</td>\n",
              "      <td>0.0617</td>\n",
              "      <td>0.305000</td>\n",
              "      <td>0.252000</td>\n",
              "      <td>0.0825</td>\n",
              "      <td>0.5250</td>\n",
              "      <td>120.016</td>\n",
              "      <td>4.400667</td>\n",
              "    </tr>\n",
              "    <tr>\n",
              "      <th>TRPGPDK12903CCC651</th>\n",
              "      <td>Bring Me To Life</td>\n",
              "      <td>Katherine Jenkins</td>\n",
              "      <td>classical, cover, new_age</td>\n",
              "      <td>0.429</td>\n",
              "      <td>0.563</td>\n",
              "      <td>-8.006</td>\n",
              "      <td>0</td>\n",
              "      <td>0.0300</td>\n",
              "      <td>0.881000</td>\n",
              "      <td>0.000097</td>\n",
              "      <td>0.0760</td>\n",
              "      <td>0.2980</td>\n",
              "      <td>95.989</td>\n",
              "      <td>3.768217</td>\n",
              "    </tr>\n",
              "    <tr>\n",
              "      <th>TRVIOPH128E079894E</th>\n",
              "      <td>Walkin' On The Sun</td>\n",
              "      <td>Smash Mouth</td>\n",
              "      <td>rock, alternative, pop, alternative_rock, 90s,...</td>\n",
              "      <td>0.736</td>\n",
              "      <td>0.975</td>\n",
              "      <td>-5.066</td>\n",
              "      <td>1</td>\n",
              "      <td>0.0316</td>\n",
              "      <td>0.509000</td>\n",
              "      <td>0.000003</td>\n",
              "      <td>0.1820</td>\n",
              "      <td>0.9680</td>\n",
              "      <td>123.309</td>\n",
              "      <td>3.435550</td>\n",
              "    </tr>\n",
              "    <tr>\n",
              "      <th>TRTMSPO128F427175E</th>\n",
              "      <td>Melodies &amp; Desires</td>\n",
              "      <td>Lykke Li</td>\n",
              "      <td>electronic, indie, pop, female_vocalists, ambi...</td>\n",
              "      <td>0.288</td>\n",
              "      <td>0.291</td>\n",
              "      <td>-13.493</td>\n",
              "      <td>1</td>\n",
              "      <td>0.0331</td>\n",
              "      <td>0.933000</td>\n",
              "      <td>0.540000</td>\n",
              "      <td>0.2280</td>\n",
              "      <td>0.0706</td>\n",
              "      <td>123.856</td>\n",
              "      <td>3.872667</td>\n",
              "    </tr>\n",
              "    <tr>\n",
              "      <th>TRIMPFQ128F42B3024</th>\n",
              "      <td>Dig</td>\n",
              "      <td>Incubus</td>\n",
              "      <td>rock, alternative, indie, alternative_rock, in...</td>\n",
              "      <td>0.455</td>\n",
              "      <td>0.880</td>\n",
              "      <td>-4.746</td>\n",
              "      <td>1</td>\n",
              "      <td>0.0338</td>\n",
              "      <td>0.030800</td>\n",
              "      <td>0.000000</td>\n",
              "      <td>0.0997</td>\n",
              "      <td>0.4640</td>\n",
              "      <td>155.061</td>\n",
              "      <td>4.297100</td>\n",
              "    </tr>\n",
              "    <tr>\n",
              "      <th>TRUAJKR128F426CA45</th>\n",
              "      <td>Here It Goes</td>\n",
              "      <td>Jimmy Eat World</td>\n",
              "      <td>rock, alternative, alternative_rock, dance, am...</td>\n",
              "      <td>0.587</td>\n",
              "      <td>0.940</td>\n",
              "      <td>-4.323</td>\n",
              "      <td>1</td>\n",
              "      <td>0.0395</td>\n",
              "      <td>0.004210</td>\n",
              "      <td>0.000000</td>\n",
              "      <td>0.2280</td>\n",
              "      <td>0.6720</td>\n",
              "      <td>115.983</td>\n",
              "      <td>3.383100</td>\n",
              "    </tr>\n",
              "    <tr>\n",
              "      <th>TRAXPGI12903D02CE1</th>\n",
              "      <td>Parakit</td>\n",
              "      <td>Suburban Kids with Biblical Names</td>\n",
              "      <td>indie, indie_pop, swedish</td>\n",
              "      <td>0.612</td>\n",
              "      <td>0.667</td>\n",
              "      <td>-6.086</td>\n",
              "      <td>1</td>\n",
              "      <td>0.0652</td>\n",
              "      <td>0.072100</td>\n",
              "      <td>0.000017</td>\n",
              "      <td>0.0695</td>\n",
              "      <td>0.7270</td>\n",
              "      <td>151.980</td>\n",
              "      <td>2.933767</td>\n",
              "    </tr>\n",
              "    <tr>\n",
              "      <th>TRBCYWT128EF34C263</th>\n",
              "      <td>The Church Of Hot Addiction</td>\n",
              "      <td>Cobra Starship</td>\n",
              "      <td>rock, alternative, indie_rock, dance, pop_rock</td>\n",
              "      <td>0.512</td>\n",
              "      <td>0.976</td>\n",
              "      <td>-3.592</td>\n",
              "      <td>1</td>\n",
              "      <td>0.0913</td>\n",
              "      <td>0.003230</td>\n",
              "      <td>0.000000</td>\n",
              "      <td>0.2360</td>\n",
              "      <td>0.4440</td>\n",
              "      <td>147.924</td>\n",
              "      <td>3.679550</td>\n",
              "    </tr>\n",
              "    <tr>\n",
              "      <th>TRUBCCU128F147853B</th>\n",
              "      <td>Bad Magick</td>\n",
              "      <td>Godsmack</td>\n",
              "      <td>rock, metal, hard_rock, heavy_metal</td>\n",
              "      <td>0.477</td>\n",
              "      <td>0.786</td>\n",
              "      <td>-5.243</td>\n",
              "      <td>1</td>\n",
              "      <td>0.0361</td>\n",
              "      <td>0.000023</td>\n",
              "      <td>0.002300</td>\n",
              "      <td>0.1230</td>\n",
              "      <td>0.6580</td>\n",
              "      <td>94.865</td>\n",
              "      <td>4.289983</td>\n",
              "    </tr>\n",
              "    <tr>\n",
              "      <th>TRIUULX128F146EC75</th>\n",
              "      <td>Be Gentle With Me</td>\n",
              "      <td>The Boy Least Likely To</td>\n",
              "      <td>indie, indie_pop, love</td>\n",
              "      <td>0.729</td>\n",
              "      <td>0.838</td>\n",
              "      <td>-5.729</td>\n",
              "      <td>0</td>\n",
              "      <td>0.0298</td>\n",
              "      <td>0.019400</td>\n",
              "      <td>0.000000</td>\n",
              "      <td>0.0855</td>\n",
              "      <td>0.6870</td>\n",
              "      <td>108.110</td>\n",
              "      <td>3.785333</td>\n",
              "    </tr>\n",
              "    <tr>\n",
              "      <th>TRQGHWL128EF33FB48</th>\n",
              "      <td>Get Innocuous!</td>\n",
              "      <td>LCD Soundsystem</td>\n",
              "      <td>electronic, indie, dance, house, electro</td>\n",
              "      <td>0.696</td>\n",
              "      <td>0.963</td>\n",
              "      <td>-6.625</td>\n",
              "      <td>0</td>\n",
              "      <td>0.0398</td>\n",
              "      <td>0.010500</td>\n",
              "      <td>0.857000</td>\n",
              "      <td>0.0872</td>\n",
              "      <td>0.5740</td>\n",
              "      <td>118.010</td>\n",
              "      <td>7.192000</td>\n",
              "    </tr>\n",
              "    <tr>\n",
              "      <th>TRVZFVU128F9336AAF</th>\n",
              "      <td>I Just Want To Make That Sad Boy Smile</td>\n",
              "      <td>Kleerup</td>\n",
              "      <td>electronic, chillout, electro, swedish</td>\n",
              "      <td>0.545</td>\n",
              "      <td>0.418</td>\n",
              "      <td>-13.448</td>\n",
              "      <td>1</td>\n",
              "      <td>0.0383</td>\n",
              "      <td>0.955000</td>\n",
              "      <td>0.989000</td>\n",
              "      <td>0.1250</td>\n",
              "      <td>0.2210</td>\n",
              "      <td>120.972</td>\n",
              "      <td>4.781333</td>\n",
              "    </tr>\n",
              "  </tbody>\n",
              "</table>\n",
              "</div>"
            ],
            "text/plain": [
              "                                                      name  \\\n",
              "track_id                                                     \n",
              "TRODFDZ128E0789BA4                       Hurry Up Let's Go   \n",
              "TRBPEOE128F148299E    Everybody Knows You Cried Last Night   \n",
              "TRYFDNR128F4260C5E            No Air duet with Chris Brown   \n",
              "TRXMPCB128F92EA612                          Repeaterbeater   \n",
              "TRIMXGK128E078A726                        Top Of The World   \n",
              "TRTBMYX12903D02CEC                          Shitty Weekend   \n",
              "TRJIIBZ128F148D69A                            Away From Me   \n",
              "TRSXWUC128F92F951E         Until We Bleed (feat. Lykke Li)   \n",
              "TRPGPDK12903CCC651                        Bring Me To Life   \n",
              "TRVIOPH128E079894E                      Walkin' On The Sun   \n",
              "TRTMSPO128F427175E                      Melodies & Desires   \n",
              "TRIMPFQ128F42B3024                                     Dig   \n",
              "TRUAJKR128F426CA45                            Here It Goes   \n",
              "TRAXPGI12903D02CE1                                 Parakit   \n",
              "TRBCYWT128EF34C263             The Church Of Hot Addiction   \n",
              "TRUBCCU128F147853B                              Bad Magick   \n",
              "TRIUULX128F146EC75                       Be Gentle With Me   \n",
              "TRQGHWL128EF33FB48                          Get Innocuous!   \n",
              "TRVZFVU128F9336AAF  I Just Want To Make That Sad Boy Smile   \n",
              "\n",
              "                                               artist  \\\n",
              "track_id                                                \n",
              "TRODFDZ128E0789BA4                    Shout Out Louds   \n",
              "TRBPEOE128F148299E                      The Fratellis   \n",
              "TRYFDNR128F4260C5E                      Jordin Sparks   \n",
              "TRXMPCB128F92EA612                                Mew   \n",
              "TRIMXGK128E078A726                           Ace Hood   \n",
              "TRTBMYX12903D02CEC  Suburban Kids with Biblical Names   \n",
              "TRJIIBZ128F148D69A                     Puddle of Mudd   \n",
              "TRSXWUC128F92F951E                            Kleerup   \n",
              "TRPGPDK12903CCC651                  Katherine Jenkins   \n",
              "TRVIOPH128E079894E                        Smash Mouth   \n",
              "TRTMSPO128F427175E                           Lykke Li   \n",
              "TRIMPFQ128F42B3024                            Incubus   \n",
              "TRUAJKR128F426CA45                    Jimmy Eat World   \n",
              "TRAXPGI12903D02CE1  Suburban Kids with Biblical Names   \n",
              "TRBCYWT128EF34C263                     Cobra Starship   \n",
              "TRUBCCU128F147853B                           Godsmack   \n",
              "TRIUULX128F146EC75            The Boy Least Likely To   \n",
              "TRQGHWL128EF33FB48                    LCD Soundsystem   \n",
              "TRVZFVU128F9336AAF                            Kleerup   \n",
              "\n",
              "                                                                 tags  \\\n",
              "track_id                                                                \n",
              "TRODFDZ128E0789BA4     indie, indie_rock, indie_pop, britpop, swedish   \n",
              "TRBPEOE128F148299E          rock, indie, indie_rock, british, britpop   \n",
              "TRYFDNR128F4260C5E          pop, female_vocalists, dance, techno, rnb   \n",
              "TRXMPCB128F92EA612                   alternative, indie, experimental   \n",
              "TRIMXGK128E078A726                                       rap, hip_hop   \n",
              "TRTBMYX12903D02CEC                          indie, indie_pop, swedish   \n",
              "TRJIIBZ128F148D69A        rock, alternative, alternative_rock, grunge   \n",
              "TRSXWUC128F92F951E              electronic, ambient, electro, swedish   \n",
              "TRPGPDK12903CCC651                          classical, cover, new_age   \n",
              "TRVIOPH128E079894E  rock, alternative, pop, alternative_rock, 90s,...   \n",
              "TRTMSPO128F427175E  electronic, indie, pop, female_vocalists, ambi...   \n",
              "TRIMPFQ128F42B3024  rock, alternative, indie, alternative_rock, in...   \n",
              "TRUAJKR128F426CA45  rock, alternative, alternative_rock, dance, am...   \n",
              "TRAXPGI12903D02CE1                          indie, indie_pop, swedish   \n",
              "TRBCYWT128EF34C263     rock, alternative, indie_rock, dance, pop_rock   \n",
              "TRUBCCU128F147853B                rock, metal, hard_rock, heavy_metal   \n",
              "TRIUULX128F146EC75                             indie, indie_pop, love   \n",
              "TRQGHWL128EF33FB48           electronic, indie, dance, house, electro   \n",
              "TRVZFVU128F9336AAF             electronic, chillout, electro, swedish   \n",
              "\n",
              "                    danceability  energy  loudness  mode  speechiness  \\\n",
              "track_id                                                                \n",
              "TRODFDZ128E0789BA4         0.304   0.939    -4.488     1       0.0570   \n",
              "TRBPEOE128F148299E         0.636   0.901    -3.367     1       0.0423   \n",
              "TRYFDNR128F4260C5E         0.435   0.750    -5.694     0       0.2590   \n",
              "TRXMPCB128F92EA612         0.537   0.757    -4.097     1       0.0355   \n",
              "TRIMXGK128E078A726         0.705   0.696    -6.955     1       0.2930   \n",
              "TRTBMYX12903D02CEC         0.673   0.775    -6.882     0       0.0517   \n",
              "TRJIIBZ128F148D69A         0.388   0.943    -2.927     1       0.1040   \n",
              "TRSXWUC128F92F951E         0.642   0.756    -5.526     0       0.0617   \n",
              "TRPGPDK12903CCC651         0.429   0.563    -8.006     0       0.0300   \n",
              "TRVIOPH128E079894E         0.736   0.975    -5.066     1       0.0316   \n",
              "TRTMSPO128F427175E         0.288   0.291   -13.493     1       0.0331   \n",
              "TRIMPFQ128F42B3024         0.455   0.880    -4.746     1       0.0338   \n",
              "TRUAJKR128F426CA45         0.587   0.940    -4.323     1       0.0395   \n",
              "TRAXPGI12903D02CE1         0.612   0.667    -6.086     1       0.0652   \n",
              "TRBCYWT128EF34C263         0.512   0.976    -3.592     1       0.0913   \n",
              "TRUBCCU128F147853B         0.477   0.786    -5.243     1       0.0361   \n",
              "TRIUULX128F146EC75         0.729   0.838    -5.729     0       0.0298   \n",
              "TRQGHWL128EF33FB48         0.696   0.963    -6.625     0       0.0398   \n",
              "TRVZFVU128F9336AAF         0.545   0.418   -13.448     1       0.0383   \n",
              "\n",
              "                    acousticness  instrumentalness  liveness  valence  \\\n",
              "track_id                                                                \n",
              "TRODFDZ128E0789BA4      0.000250          0.026700    0.1040   0.5920   \n",
              "TRBPEOE128F148299E      0.003720          0.000000    0.0913   0.6870   \n",
              "TRYFDNR128F4260C5E      0.060900          0.000000    0.0806   0.3330   \n",
              "TRXMPCB128F92EA612      0.000037          0.000335    0.3140   0.4390   \n",
              "TRIMXGK128E078A726      0.121000          0.000000    0.3010   0.6730   \n",
              "TRTBMYX12903D02CEC      0.474000          0.000037    0.5070   0.8220   \n",
              "TRJIIBZ128F148D69A      0.000306          0.000000    0.1680   0.1620   \n",
              "TRSXWUC128F92F951E      0.305000          0.252000    0.0825   0.5250   \n",
              "TRPGPDK12903CCC651      0.881000          0.000097    0.0760   0.2980   \n",
              "TRVIOPH128E079894E      0.509000          0.000003    0.1820   0.9680   \n",
              "TRTMSPO128F427175E      0.933000          0.540000    0.2280   0.0706   \n",
              "TRIMPFQ128F42B3024      0.030800          0.000000    0.0997   0.4640   \n",
              "TRUAJKR128F426CA45      0.004210          0.000000    0.2280   0.6720   \n",
              "TRAXPGI12903D02CE1      0.072100          0.000017    0.0695   0.7270   \n",
              "TRBCYWT128EF34C263      0.003230          0.000000    0.2360   0.4440   \n",
              "TRUBCCU128F147853B      0.000023          0.002300    0.1230   0.6580   \n",
              "TRIUULX128F146EC75      0.019400          0.000000    0.0855   0.6870   \n",
              "TRQGHWL128EF33FB48      0.010500          0.857000    0.0872   0.5740   \n",
              "TRVZFVU128F9336AAF      0.955000          0.989000    0.1250   0.2210   \n",
              "\n",
              "                      tempo  duration_mins  \n",
              "track_id                                    \n",
              "TRODFDZ128E0789BA4  169.738       2.314000  \n",
              "TRBPEOE128F148299E  102.738       3.906883  \n",
              "TRYFDNR128F4260C5E  159.744       4.354000  \n",
              "TRXMPCB128F92EA612  134.962       2.528433  \n",
              "TRIMXGK128E078A726   79.069       3.514000  \n",
              "TRTBMYX12903D02CEC   80.068       2.724883  \n",
              "TRJIIBZ128F148D69A  154.721       3.974433  \n",
              "TRSXWUC128F92F951E  120.016       4.400667  \n",
              "TRPGPDK12903CCC651   95.989       3.768217  \n",
              "TRVIOPH128E079894E  123.309       3.435550  \n",
              "TRTMSPO128F427175E  123.856       3.872667  \n",
              "TRIMPFQ128F42B3024  155.061       4.297100  \n",
              "TRUAJKR128F426CA45  115.983       3.383100  \n",
              "TRAXPGI12903D02CE1  151.980       2.933767  \n",
              "TRBCYWT128EF34C263  147.924       3.679550  \n",
              "TRUBCCU128F147853B   94.865       4.289983  \n",
              "TRIUULX128F146EC75  108.110       3.785333  \n",
              "TRQGHWL128EF33FB48  118.010       7.192000  \n",
              "TRVZFVU128F9336AAF  120.972       4.781333  "
            ]
          },
          "execution_count": 42,
          "metadata": {},
          "output_type": "execute_result"
        }
      ],
      "source": [
        "song_features_data[song_features_data['track_id'].isin(ops_x_test[random_index])].set_index('track_id').reindex(ops_x_test[random_index])"
      ]
    },
    {
      "cell_type": "code",
      "execution_count": 53,
      "metadata": {},
      "outputs": [
        {
          "data": {
            "application/vnd.plotly.v1+json": {
              "config": {
                "plotlyServerURL": "https://plot.ly"
              },
              "data": [
                {
                  "marker": {
                    "color": [
                      "green",
                      "green",
                      "green",
                      "green",
                      "purple",
                      "green",
                      "green",
                      "green",
                      "green",
                      "green",
                      "blue",
                      "blue",
                      "blue",
                      "blue",
                      "blue",
                      "blue",
                      "blue",
                      "blue",
                      "blue",
                      "red",
                      "red",
                      "red",
                      "red",
                      "red",
                      "red",
                      "red",
                      "red",
                      "red",
                      "red",
                      "red",
                      "red",
                      "red",
                      "red",
                      "red",
                      "red",
                      "red",
                      "red",
                      "red",
                      "red",
                      "red",
                      "red",
                      "red",
                      "red",
                      "red",
                      "red",
                      "red",
                      "red",
                      "red",
                      "red",
                      "red",
                      "red",
                      "red",
                      "red",
                      "red",
                      "red",
                      "red",
                      "red",
                      "red",
                      "red",
                      "red",
                      "red",
                      "red",
                      "red",
                      "red",
                      "red",
                      "red",
                      "red",
                      "red",
                      "red"
                    ],
                    "colorscale": [
                      [
                        0,
                        "#440154"
                      ],
                      [
                        0.1111111111111111,
                        "#482878"
                      ],
                      [
                        0.2222222222222222,
                        "#3e4989"
                      ],
                      [
                        0.3333333333333333,
                        "#31688e"
                      ],
                      [
                        0.4444444444444444,
                        "#26828e"
                      ],
                      [
                        0.5555555555555556,
                        "#1f9e89"
                      ],
                      [
                        0.6666666666666666,
                        "#35b779"
                      ],
                      [
                        0.7777777777777778,
                        "#6ece58"
                      ],
                      [
                        0.8888888888888888,
                        "#b5de2b"
                      ],
                      [
                        1,
                        "#fde725"
                      ]
                    ],
                    "opacity": 1,
                    "size": 5
                  },
                  "mode": "markers",
                  "text": [
                    "TRODFDZ128E0789BA4",
                    "TRBPEOE128F148299E",
                    "TRYFDNR128F4260C5E",
                    "TRXMPCB128F92EA612",
                    "TRIMXGK128E078A726",
                    "TRTBMYX12903D02CEC",
                    "TRJIIBZ128F148D69A",
                    "TRSXWUC128F92F951E",
                    "TRPGPDK12903CCC651",
                    "TRVIOPH128E079894E",
                    "TRTMSPO128F427175E",
                    "TRIMPFQ128F42B3024",
                    "TRUAJKR128F426CA45",
                    "TRAXPGI12903D02CE1",
                    "TRBCYWT128EF34C263",
                    "TRUBCCU128F147853B",
                    "TRIUULX128F146EC75",
                    "TRQGHWL128EF33FB48",
                    "TRVZFVU128F9336AAF",
                    "TRFXZBQ128E0792A45",
                    "TRELYSZ12903CAF337",
                    "TRIKFBG128F429EFCC",
                    "TRHHANT128F933E6B4",
                    "TRXCIRY128F92E81CC",
                    "TRJDCYY12903CDEC04",
                    "TROHCQJ128F9335BBC",
                    "TRDNTZC12903CB5146",
                    "TRUZSNU128F4235052",
                    "TRJZIOB128F428194C",
                    "TRLLWOS128F9332861",
                    "TRFELDK128F9333C72",
                    "TRPWELL128F427078B",
                    "TRNKHDH128F14ADCA1",
                    "TRNXFMV12903CD4460",
                    "TRKWWHJ128E0791299",
                    "TRUFPBA12903D0165E",
                    "TRBIPZI12903CD03B9",
                    "TRVDPTF128E079436A",
                    "TRJCMBG128F92F8DC6",
                    "TRNWFWR128F93501AC",
                    "TRGCUIN12903CDDF42",
                    "TRAEFFE128EF346687",
                    "TRUVOKI12903CDBB48",
                    "TRCTSMD128E07993C9",
                    "TRTZMDC128F4278F68",
                    "TRFSQVJ128F424CCE7",
                    "TRUMZPL128F422A78D",
                    "TRVLLHV128F932BBC7",
                    "TRIUCQG128F932C14B",
                    "TRQATBZ128F9329C5C",
                    "TRJBEUH128F92D38F8",
                    "TRTWVWU128F145267B",
                    "TRGTKSR128F4222CD7",
                    "TRZTICD128F423766A",
                    "TRACHTD12903CF5E22",
                    "TREUKSJ12903CC4D2D",
                    "TRQQYKP128F1482484",
                    "TRWUHOB128F930982A",
                    "TRQJFSO128F147A54B",
                    "TRVFTAS128F931EA86",
                    "TRKKFQD128F1482B82",
                    "TRFEDVA128F422C121",
                    "TRRZOBS128F424E4DA",
                    "TRPCWFY12903CAFAA7",
                    "TRAESON128F93237D1",
                    "TRZAYAJ128F4250729",
                    "TRFRNGQ128F4256F33",
                    "TRLKBKB12903CF799C",
                    "TRZLJOC128F14840BE"
                  ],
                  "type": "scatter3d",
                  "x": [
                    21.200893,
                    -17.49001,
                    10.534379,
                    5.5534306,
                    -8.610519,
                    -6.096863,
                    -14.765792,
                    7.176444,
                    -8.442752,
                    -8.070233,
                    -12.126782,
                    -8.074026,
                    14.865339,
                    -2.6502295,
                    -5.8859773,
                    0.30656764,
                    -15.859767,
                    -20.038345,
                    14.250441,
                    5.781196,
                    -15.771798,
                    -10.480066,
                    -21.333267,
                    -13.28392,
                    22.242447,
                    -0.32123688,
                    2.5348322,
                    15.802145,
                    5.4844847,
                    10.192384,
                    -16.956682,
                    5.0105324,
                    -19.758373,
                    -4.7650237,
                    -17.91891,
                    21.017567,
                    -10.411446,
                    -4.1075187,
                    -2.1360993,
                    10.34817,
                    0.9566598,
                    -1.7205344,
                    -1.2622117,
                    -12.28766,
                    -21.990742,
                    11.216445,
                    16.722319,
                    -9.727587,
                    -8.3364725,
                    9.46173,
                    0.8987805,
                    8.979495,
                    -5.2741017,
                    -12.35532,
                    15.465273,
                    -10.330795,
                    -11.692998,
                    -4.752189,
                    -4.5337844,
                    -16.466656,
                    -2.518746,
                    -1.5186821,
                    -10.0497055,
                    -5.6981244,
                    -6.5085435,
                    -2.5928833,
                    9.091783,
                    -26.513391,
                    14.113465
                  ],
                  "y": [
                    15.177654,
                    1.9985735,
                    -18.134317,
                    -0.07909763,
                    -27.061172,
                    -10.919686,
                    13.196401,
                    19.132868,
                    -4.953189,
                    -24.861202,
                    -32.48517,
                    12.834179,
                    28.33806,
                    4.6404157,
                    24.163584,
                    9.955748,
                    15.656212,
                    -4.061388,
                    -12.017126,
                    20.153608,
                    -21.238068,
                    -28.401316,
                    13.925975,
                    19.64894,
                    -10.973412,
                    -19.291256,
                    23.789383,
                    24.438719,
                    8.80282,
                    23.684504,
                    -22.89367,
                    9.4178505,
                    -24.65893,
                    11.5801525,
                    -1.6871699,
                    -17.864367,
                    -29.706991,
                    -2.3327284,
                    -21.526653,
                    -2.2005367,
                    26.12196,
                    -25.817997,
                    -6.456028,
                    22.536676,
                    3.9798682,
                    23.335115,
                    22.529121,
                    14.378516,
                    18.221247,
                    22.14649,
                    -5.466612,
                    14.926734,
                    17.326502,
                    22.37943,
                    25.9395,
                    4.098582,
                    -6.673632,
                    4.86515,
                    -15.21907,
                    23.367912,
                    -23.039484,
                    -12.373911,
                    -6.893341,
                    10.013228,
                    14.633367,
                    -9.648164,
                    -12.256926,
                    -8.142849,
                    3.4502058
                  ],
                  "z": [
                    -2.3290048,
                    10.244263,
                    8.533313,
                    10.5102005,
                    -1.3789823,
                    19.955978,
                    12.637884,
                    -8.584664,
                    -4.2870007,
                    -1.7674458,
                    -9.558515,
                    0.83143634,
                    -6.5293064,
                    -7.2640886,
                    2.0286694,
                    18.423264,
                    -0.7387174,
                    -6.8591604,
                    11.924694,
                    -2.797407,
                    4.471283,
                    -1.5082991,
                    10.176309,
                    3.5341296,
                    11.410183,
                    6.444602,
                    -12.103532,
                    -15.169803,
                    12.0669155,
                    -9.00895,
                    3.5430238,
                    21.471107,
                    7.43676,
                    0.6188487,
                    -8.210949,
                    5.7266474,
                    -0.18890305,
                    24.128786,
                    -15.720362,
                    -14.852435,
                    -4.349223,
                    -16.763601,
                    3.140898,
                    -0.15247127,
                    -3.5956128,
                    -5.897157,
                    -10.072109,
                    -9.809251,
                    -2.6360424,
                    -13.435773,
                    -19.35151,
                    5.4560237,
                    -5.1651893,
                    -6.3768835,
                    -3.8954582,
                    18.326906,
                    -3.6890538,
                    10.923612,
                    1.4349056,
                    5.653669,
                    -19.463938,
                    3.688962,
                    11.738412,
                    -10.1477375,
                    10.814665,
                    10.627729,
                    -4.745303,
                    -1.4607337,
                    -18.406973
                  ]
                }
              ],
              "layout": {
                "height": 800,
                "scene": {
                  "xaxis": {
                    "title": {
                      "text": "x"
                    }
                  },
                  "yaxis": {
                    "title": {
                      "text": "y"
                    }
                  },
                  "zaxis": {
                    "title": {
                      "text": "z"
                    }
                  }
                },
                "template": {
                  "data": {
                    "bar": [
                      {
                        "error_x": {
                          "color": "#2a3f5f"
                        },
                        "error_y": {
                          "color": "#2a3f5f"
                        },
                        "marker": {
                          "line": {
                            "color": "#E5ECF6",
                            "width": 0.5
                          },
                          "pattern": {
                            "fillmode": "overlay",
                            "size": 10,
                            "solidity": 0.2
                          }
                        },
                        "type": "bar"
                      }
                    ],
                    "barpolar": [
                      {
                        "marker": {
                          "line": {
                            "color": "#E5ECF6",
                            "width": 0.5
                          },
                          "pattern": {
                            "fillmode": "overlay",
                            "size": 10,
                            "solidity": 0.2
                          }
                        },
                        "type": "barpolar"
                      }
                    ],
                    "carpet": [
                      {
                        "aaxis": {
                          "endlinecolor": "#2a3f5f",
                          "gridcolor": "white",
                          "linecolor": "white",
                          "minorgridcolor": "white",
                          "startlinecolor": "#2a3f5f"
                        },
                        "baxis": {
                          "endlinecolor": "#2a3f5f",
                          "gridcolor": "white",
                          "linecolor": "white",
                          "minorgridcolor": "white",
                          "startlinecolor": "#2a3f5f"
                        },
                        "type": "carpet"
                      }
                    ],
                    "choropleth": [
                      {
                        "colorbar": {
                          "outlinewidth": 0,
                          "ticks": ""
                        },
                        "type": "choropleth"
                      }
                    ],
                    "contour": [
                      {
                        "colorbar": {
                          "outlinewidth": 0,
                          "ticks": ""
                        },
                        "colorscale": [
                          [
                            0,
                            "#0d0887"
                          ],
                          [
                            0.1111111111111111,
                            "#46039f"
                          ],
                          [
                            0.2222222222222222,
                            "#7201a8"
                          ],
                          [
                            0.3333333333333333,
                            "#9c179e"
                          ],
                          [
                            0.4444444444444444,
                            "#bd3786"
                          ],
                          [
                            0.5555555555555556,
                            "#d8576b"
                          ],
                          [
                            0.6666666666666666,
                            "#ed7953"
                          ],
                          [
                            0.7777777777777778,
                            "#fb9f3a"
                          ],
                          [
                            0.8888888888888888,
                            "#fdca26"
                          ],
                          [
                            1,
                            "#f0f921"
                          ]
                        ],
                        "type": "contour"
                      }
                    ],
                    "contourcarpet": [
                      {
                        "colorbar": {
                          "outlinewidth": 0,
                          "ticks": ""
                        },
                        "type": "contourcarpet"
                      }
                    ],
                    "heatmap": [
                      {
                        "colorbar": {
                          "outlinewidth": 0,
                          "ticks": ""
                        },
                        "colorscale": [
                          [
                            0,
                            "#0d0887"
                          ],
                          [
                            0.1111111111111111,
                            "#46039f"
                          ],
                          [
                            0.2222222222222222,
                            "#7201a8"
                          ],
                          [
                            0.3333333333333333,
                            "#9c179e"
                          ],
                          [
                            0.4444444444444444,
                            "#bd3786"
                          ],
                          [
                            0.5555555555555556,
                            "#d8576b"
                          ],
                          [
                            0.6666666666666666,
                            "#ed7953"
                          ],
                          [
                            0.7777777777777778,
                            "#fb9f3a"
                          ],
                          [
                            0.8888888888888888,
                            "#fdca26"
                          ],
                          [
                            1,
                            "#f0f921"
                          ]
                        ],
                        "type": "heatmap"
                      }
                    ],
                    "heatmapgl": [
                      {
                        "colorbar": {
                          "outlinewidth": 0,
                          "ticks": ""
                        },
                        "colorscale": [
                          [
                            0,
                            "#0d0887"
                          ],
                          [
                            0.1111111111111111,
                            "#46039f"
                          ],
                          [
                            0.2222222222222222,
                            "#7201a8"
                          ],
                          [
                            0.3333333333333333,
                            "#9c179e"
                          ],
                          [
                            0.4444444444444444,
                            "#bd3786"
                          ],
                          [
                            0.5555555555555556,
                            "#d8576b"
                          ],
                          [
                            0.6666666666666666,
                            "#ed7953"
                          ],
                          [
                            0.7777777777777778,
                            "#fb9f3a"
                          ],
                          [
                            0.8888888888888888,
                            "#fdca26"
                          ],
                          [
                            1,
                            "#f0f921"
                          ]
                        ],
                        "type": "heatmapgl"
                      }
                    ],
                    "histogram": [
                      {
                        "marker": {
                          "pattern": {
                            "fillmode": "overlay",
                            "size": 10,
                            "solidity": 0.2
                          }
                        },
                        "type": "histogram"
                      }
                    ],
                    "histogram2d": [
                      {
                        "colorbar": {
                          "outlinewidth": 0,
                          "ticks": ""
                        },
                        "colorscale": [
                          [
                            0,
                            "#0d0887"
                          ],
                          [
                            0.1111111111111111,
                            "#46039f"
                          ],
                          [
                            0.2222222222222222,
                            "#7201a8"
                          ],
                          [
                            0.3333333333333333,
                            "#9c179e"
                          ],
                          [
                            0.4444444444444444,
                            "#bd3786"
                          ],
                          [
                            0.5555555555555556,
                            "#d8576b"
                          ],
                          [
                            0.6666666666666666,
                            "#ed7953"
                          ],
                          [
                            0.7777777777777778,
                            "#fb9f3a"
                          ],
                          [
                            0.8888888888888888,
                            "#fdca26"
                          ],
                          [
                            1,
                            "#f0f921"
                          ]
                        ],
                        "type": "histogram2d"
                      }
                    ],
                    "histogram2dcontour": [
                      {
                        "colorbar": {
                          "outlinewidth": 0,
                          "ticks": ""
                        },
                        "colorscale": [
                          [
                            0,
                            "#0d0887"
                          ],
                          [
                            0.1111111111111111,
                            "#46039f"
                          ],
                          [
                            0.2222222222222222,
                            "#7201a8"
                          ],
                          [
                            0.3333333333333333,
                            "#9c179e"
                          ],
                          [
                            0.4444444444444444,
                            "#bd3786"
                          ],
                          [
                            0.5555555555555556,
                            "#d8576b"
                          ],
                          [
                            0.6666666666666666,
                            "#ed7953"
                          ],
                          [
                            0.7777777777777778,
                            "#fb9f3a"
                          ],
                          [
                            0.8888888888888888,
                            "#fdca26"
                          ],
                          [
                            1,
                            "#f0f921"
                          ]
                        ],
                        "type": "histogram2dcontour"
                      }
                    ],
                    "mesh3d": [
                      {
                        "colorbar": {
                          "outlinewidth": 0,
                          "ticks": ""
                        },
                        "type": "mesh3d"
                      }
                    ],
                    "parcoords": [
                      {
                        "line": {
                          "colorbar": {
                            "outlinewidth": 0,
                            "ticks": ""
                          }
                        },
                        "type": "parcoords"
                      }
                    ],
                    "pie": [
                      {
                        "automargin": true,
                        "type": "pie"
                      }
                    ],
                    "scatter": [
                      {
                        "fillpattern": {
                          "fillmode": "overlay",
                          "size": 10,
                          "solidity": 0.2
                        },
                        "type": "scatter"
                      }
                    ],
                    "scatter3d": [
                      {
                        "line": {
                          "colorbar": {
                            "outlinewidth": 0,
                            "ticks": ""
                          }
                        },
                        "marker": {
                          "colorbar": {
                            "outlinewidth": 0,
                            "ticks": ""
                          }
                        },
                        "type": "scatter3d"
                      }
                    ],
                    "scattercarpet": [
                      {
                        "marker": {
                          "colorbar": {
                            "outlinewidth": 0,
                            "ticks": ""
                          }
                        },
                        "type": "scattercarpet"
                      }
                    ],
                    "scattergeo": [
                      {
                        "marker": {
                          "colorbar": {
                            "outlinewidth": 0,
                            "ticks": ""
                          }
                        },
                        "type": "scattergeo"
                      }
                    ],
                    "scattergl": [
                      {
                        "marker": {
                          "colorbar": {
                            "outlinewidth": 0,
                            "ticks": ""
                          }
                        },
                        "type": "scattergl"
                      }
                    ],
                    "scattermapbox": [
                      {
                        "marker": {
                          "colorbar": {
                            "outlinewidth": 0,
                            "ticks": ""
                          }
                        },
                        "type": "scattermapbox"
                      }
                    ],
                    "scatterpolar": [
                      {
                        "marker": {
                          "colorbar": {
                            "outlinewidth": 0,
                            "ticks": ""
                          }
                        },
                        "type": "scatterpolar"
                      }
                    ],
                    "scatterpolargl": [
                      {
                        "marker": {
                          "colorbar": {
                            "outlinewidth": 0,
                            "ticks": ""
                          }
                        },
                        "type": "scatterpolargl"
                      }
                    ],
                    "scatterternary": [
                      {
                        "marker": {
                          "colorbar": {
                            "outlinewidth": 0,
                            "ticks": ""
                          }
                        },
                        "type": "scatterternary"
                      }
                    ],
                    "surface": [
                      {
                        "colorbar": {
                          "outlinewidth": 0,
                          "ticks": ""
                        },
                        "colorscale": [
                          [
                            0,
                            "#0d0887"
                          ],
                          [
                            0.1111111111111111,
                            "#46039f"
                          ],
                          [
                            0.2222222222222222,
                            "#7201a8"
                          ],
                          [
                            0.3333333333333333,
                            "#9c179e"
                          ],
                          [
                            0.4444444444444444,
                            "#bd3786"
                          ],
                          [
                            0.5555555555555556,
                            "#d8576b"
                          ],
                          [
                            0.6666666666666666,
                            "#ed7953"
                          ],
                          [
                            0.7777777777777778,
                            "#fb9f3a"
                          ],
                          [
                            0.8888888888888888,
                            "#fdca26"
                          ],
                          [
                            1,
                            "#f0f921"
                          ]
                        ],
                        "type": "surface"
                      }
                    ],
                    "table": [
                      {
                        "cells": {
                          "fill": {
                            "color": "#EBF0F8"
                          },
                          "line": {
                            "color": "white"
                          }
                        },
                        "header": {
                          "fill": {
                            "color": "#C8D4E3"
                          },
                          "line": {
                            "color": "white"
                          }
                        },
                        "type": "table"
                      }
                    ]
                  },
                  "layout": {
                    "annotationdefaults": {
                      "arrowcolor": "#2a3f5f",
                      "arrowhead": 0,
                      "arrowwidth": 1
                    },
                    "autotypenumbers": "strict",
                    "coloraxis": {
                      "colorbar": {
                        "outlinewidth": 0,
                        "ticks": ""
                      }
                    },
                    "colorscale": {
                      "diverging": [
                        [
                          0,
                          "#8e0152"
                        ],
                        [
                          0.1,
                          "#c51b7d"
                        ],
                        [
                          0.2,
                          "#de77ae"
                        ],
                        [
                          0.3,
                          "#f1b6da"
                        ],
                        [
                          0.4,
                          "#fde0ef"
                        ],
                        [
                          0.5,
                          "#f7f7f7"
                        ],
                        [
                          0.6,
                          "#e6f5d0"
                        ],
                        [
                          0.7,
                          "#b8e186"
                        ],
                        [
                          0.8,
                          "#7fbc41"
                        ],
                        [
                          0.9,
                          "#4d9221"
                        ],
                        [
                          1,
                          "#276419"
                        ]
                      ],
                      "sequential": [
                        [
                          0,
                          "#0d0887"
                        ],
                        [
                          0.1111111111111111,
                          "#46039f"
                        ],
                        [
                          0.2222222222222222,
                          "#7201a8"
                        ],
                        [
                          0.3333333333333333,
                          "#9c179e"
                        ],
                        [
                          0.4444444444444444,
                          "#bd3786"
                        ],
                        [
                          0.5555555555555556,
                          "#d8576b"
                        ],
                        [
                          0.6666666666666666,
                          "#ed7953"
                        ],
                        [
                          0.7777777777777778,
                          "#fb9f3a"
                        ],
                        [
                          0.8888888888888888,
                          "#fdca26"
                        ],
                        [
                          1,
                          "#f0f921"
                        ]
                      ],
                      "sequentialminus": [
                        [
                          0,
                          "#0d0887"
                        ],
                        [
                          0.1111111111111111,
                          "#46039f"
                        ],
                        [
                          0.2222222222222222,
                          "#7201a8"
                        ],
                        [
                          0.3333333333333333,
                          "#9c179e"
                        ],
                        [
                          0.4444444444444444,
                          "#bd3786"
                        ],
                        [
                          0.5555555555555556,
                          "#d8576b"
                        ],
                        [
                          0.6666666666666666,
                          "#ed7953"
                        ],
                        [
                          0.7777777777777778,
                          "#fb9f3a"
                        ],
                        [
                          0.8888888888888888,
                          "#fdca26"
                        ],
                        [
                          1,
                          "#f0f921"
                        ]
                      ]
                    },
                    "colorway": [
                      "#636efa",
                      "#EF553B",
                      "#00cc96",
                      "#ab63fa",
                      "#FFA15A",
                      "#19d3f3",
                      "#FF6692",
                      "#B6E880",
                      "#FF97FF",
                      "#FECB52"
                    ],
                    "font": {
                      "color": "#2a3f5f"
                    },
                    "geo": {
                      "bgcolor": "white",
                      "lakecolor": "white",
                      "landcolor": "#E5ECF6",
                      "showlakes": true,
                      "showland": true,
                      "subunitcolor": "white"
                    },
                    "hoverlabel": {
                      "align": "left"
                    },
                    "hovermode": "closest",
                    "mapbox": {
                      "style": "light"
                    },
                    "paper_bgcolor": "white",
                    "plot_bgcolor": "#E5ECF6",
                    "polar": {
                      "angularaxis": {
                        "gridcolor": "white",
                        "linecolor": "white",
                        "ticks": ""
                      },
                      "bgcolor": "#E5ECF6",
                      "radialaxis": {
                        "gridcolor": "white",
                        "linecolor": "white",
                        "ticks": ""
                      }
                    },
                    "scene": {
                      "xaxis": {
                        "backgroundcolor": "#E5ECF6",
                        "gridcolor": "white",
                        "gridwidth": 2,
                        "linecolor": "white",
                        "showbackground": true,
                        "ticks": "",
                        "zerolinecolor": "white"
                      },
                      "yaxis": {
                        "backgroundcolor": "#E5ECF6",
                        "gridcolor": "white",
                        "gridwidth": 2,
                        "linecolor": "white",
                        "showbackground": true,
                        "ticks": "",
                        "zerolinecolor": "white"
                      },
                      "zaxis": {
                        "backgroundcolor": "#E5ECF6",
                        "gridcolor": "white",
                        "gridwidth": 2,
                        "linecolor": "white",
                        "showbackground": true,
                        "ticks": "",
                        "zerolinecolor": "white"
                      }
                    },
                    "shapedefaults": {
                      "line": {
                        "color": "#2a3f5f"
                      }
                    },
                    "ternary": {
                      "aaxis": {
                        "gridcolor": "white",
                        "linecolor": "white",
                        "ticks": ""
                      },
                      "baxis": {
                        "gridcolor": "white",
                        "linecolor": "white",
                        "ticks": ""
                      },
                      "bgcolor": "#E5ECF6",
                      "caxis": {
                        "gridcolor": "white",
                        "linecolor": "white",
                        "ticks": ""
                      }
                    },
                    "title": {
                      "x": 0.05
                    },
                    "xaxis": {
                      "automargin": true,
                      "gridcolor": "white",
                      "linecolor": "white",
                      "ticks": "",
                      "title": {
                        "standoff": 15
                      },
                      "zerolinecolor": "white",
                      "zerolinewidth": 2
                    },
                    "yaxis": {
                      "automargin": true,
                      "gridcolor": "white",
                      "linecolor": "white",
                      "ticks": "",
                      "title": {
                        "standoff": 15
                      },
                      "zerolinecolor": "white",
                      "zerolinewidth": 2
                    }
                  }
                },
                "width": 1000
              }
            }
          },
          "metadata": {},
          "output_type": "display_data"
        }
      ],
      "source": [
        "fig = go.Figure()\n",
        "\n",
        "text_data = list(candidates.keys())\n",
        "embeddings_3d = np.concatenate(list(candidates.values())).reshape(len(candidates), 3)\n",
        "\n",
        "color_data = ['blue' if i < cutoff else 'red' for i in range(len(candidates))]\n",
        "for i in closest_candidates_indices:\n",
        "    color_data[i] = 'green'\n",
        "color_data[closest_candidates_indices[0]] = 'purple'\n",
        "\n",
        "fig.add_trace(go.Scatter3d(\n",
        "    x=embeddings_3d[:, 0],\n",
        "    y=embeddings_3d[:, 1],\n",
        "    z=embeddings_3d[:, 2],\n",
        "    text=text_data,\n",
        "    mode='markers',\n",
        "    marker=dict(\n",
        "        size=5,\n",
        "        color=color_data,\n",
        "        colorscale='Viridis',\n",
        "        opacity=1\n",
        "    )\n",
        "))\n",
        "\n",
        "\n",
        "fig.update_layout(\n",
        "    scene=dict(\n",
        "        xaxis=dict(title='x'),\n",
        "        yaxis=dict(title='y'),\n",
        "        zaxis=dict(title='z')\n",
        "    ),\n",
        "\twidth=1000,\n",
        "    height=800\n",
        ")\n",
        "\n",
        "fig.show()\n"
      ]
    }
  ],
  "metadata": {
    "accelerator": "GPU",
    "colab": {
      "gpuType": "T4",
      "machine_shape": "hm",
      "provenance": []
    },
    "kernelspec": {
      "display_name": "Python 3",
      "name": "python3"
    },
    "language_info": {
      "codemirror_mode": {
        "name": "ipython",
        "version": 3
      },
      "file_extension": ".py",
      "mimetype": "text/x-python",
      "name": "python",
      "nbconvert_exporter": "python",
      "pygments_lexer": "ipython3",
      "version": "3.9.1"
    }
  },
  "nbformat": 4,
  "nbformat_minor": 0
}
