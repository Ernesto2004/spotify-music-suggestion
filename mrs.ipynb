{
  "cells": [
    {
      "cell_type": "markdown",
      "metadata": {
        "id": "BpdI5sJCmxSD"
      },
      "source": [
        "# CSE 144 Group 3\n",
        "## Music Recommendation System (MRS)\n",
        "\n",
        "In this notebook, we write the predictive model for our music recommendation system. Our work leverages modern tools including recurrent neural networks (RNN) and BERT sentence transformers...\n",
        "\n",
        "<br>\n",
        "\n",
        "Our work leverages this RNN model:\n",
        "\n",
        "https://github.com/taylorhawks/RNN-music-recommender/blob/master/cloud/model.ipynb\n"
      ]
    },
    {
      "cell_type": "code",
      "execution_count": 35,
      "metadata": {
        "id": "TATBR_nse2e3"
      },
      "outputs": [],
      "source": [
        "# import matplotlib.pyplot as plt\n",
        "import pandas as pd\n",
        "%matplotlib inline\n",
        "%config InlineBackend.figure_format=\"retina\"\n",
        "import numpy as np\n",
        "import random\n",
        "import torch\n",
        "import os\n",
        "# from torch import nn, optim\n",
        "# import math\n",
        "# from IPython import display\n",
        "# import torchvision.datasets as datasets\n",
        "# import torchvision.transforms as transforms\n",
        "# from torch.utils.data import TensorDataset\n",
        "# import torch.nn.functional as F\n",
        "# from sklearn.preprocessing import MinMaxScaler\n",
        "# import pdb\n",
        "import plotly.graph_objects as go\n",
        "import numpy as np\n",
        "\n",
        "from skimage.util.shape import view_as_windows as viewW\n",
        "from sklearn.model_selection import train_test_split\n",
        "from sklearn.metrics.pairwise import cosine_similarity\n",
        "from sklearn.metrics.pairwise import pairwise_distances\n",
        "from sklearn.decomposition import PCA\n",
        "\n",
        "# import tensorflow as tf\n",
        "\n",
        "# import keras.backend as K\n",
        "from keras.models import Sequential, load_model\n",
        "# from keras.optimizers import RMSprop\n",
        "from keras.layers import Dense, SimpleRNN, Input\n",
        "from keras.losses import *\n"
      ]
    },
    {
      "cell_type": "markdown",
      "metadata": {
        "id": "r0XrdmLSOA_y"
      },
      "source": [
        "### Load the data"
      ]
    },
    {
      "cell_type": "code",
      "execution_count": 36,
      "metadata": {
        "colab": {
          "base_uri": "https://localhost:8080/"
        },
        "id": "OWv8kjBAkGvv",
        "outputId": "d2003920-bfb0-473e-f2ad-7a399d62ed22"
      },
      "outputs": [],
      "source": [
        "song_features_data = pd.read_csv('misc/processed_music_info_extended.csv')\n",
        "user_listening_data = pd.read_csv('misc/processed_user_listening_hist.csv')\n",
        "\n",
        "# from google.colab import drive\n",
        "# drive.mount('/content/drive')\n",
        "# import pandas as pd\n",
        "# song_features_data = pd.read_csv('/content/drive/MyDrive/Colab Notebooks/music_info.csv')\n",
        "# user_listening_data = pd.read_csv('/content/drive/MyDrive/Colab Notebooks/user_listening_hist.csv')"
      ]
    },
    {
      "cell_type": "markdown",
      "metadata": {
        "id": "OZX1u2Ae8re8"
      },
      "source": [
        "### Set Random Seed"
      ]
    },
    {
      "cell_type": "code",
      "execution_count": 37,
      "metadata": {
        "colab": {
          "base_uri": "https://localhost:8080/"
        },
        "id": "bQ0bRU5TmFxQ",
        "outputId": "fe9d8366-f50b-4011-e68b-4d560e2c212d"
      },
      "outputs": [
        {
          "data": {
            "text/plain": [
              "<torch._C.Generator at 0x2013b3f1850>"
            ]
          },
          "execution_count": 37,
          "metadata": {},
          "output_type": "execute_result"
        }
      ],
      "source": [
        "torch.manual_seed(24)"
      ]
    },
    {
      "cell_type": "markdown",
      "metadata": {
        "id": "BxUwOz_88xij"
      },
      "source": [
        "### Read and Display Data"
      ]
    },
    {
      "cell_type": "code",
      "execution_count": 38,
      "metadata": {
        "colab": {
          "base_uri": "https://localhost:8080/",
          "height": 469
        },
        "id": "qIF0VPivkeHT",
        "outputId": "078105fd-90e6-4f34-c125-1f7dcb3b3273"
      },
      "outputs": [
        {
          "name": "stdout",
          "output_type": "stream",
          "text": [
            "# of rows of Song Data: 50683\n",
            "# of unique songs: 50683\n"
          ]
        },
        {
          "data": {
            "text/html": [
              "<div>\n",
              "<style scoped>\n",
              "    .dataframe tbody tr th:only-of-type {\n",
              "        vertical-align: middle;\n",
              "    }\n",
              "\n",
              "    .dataframe tbody tr th {\n",
              "        vertical-align: top;\n",
              "    }\n",
              "\n",
              "    .dataframe thead th {\n",
              "        text-align: right;\n",
              "    }\n",
              "</style>\n",
              "<table border=\"1\" class=\"dataframe\">\n",
              "  <thead>\n",
              "    <tr style=\"text-align: right;\">\n",
              "      <th></th>\n",
              "      <th>track_id</th>\n",
              "      <th>name</th>\n",
              "      <th>artist</th>\n",
              "      <th>spotify_id</th>\n",
              "      <th>tags</th>\n",
              "      <th>year</th>\n",
              "      <th>duration_ms</th>\n",
              "      <th>danceability</th>\n",
              "      <th>energy</th>\n",
              "      <th>key</th>\n",
              "      <th>loudness</th>\n",
              "      <th>mode</th>\n",
              "      <th>speechiness</th>\n",
              "      <th>acousticness</th>\n",
              "      <th>instrumentalness</th>\n",
              "      <th>liveness</th>\n",
              "      <th>valence</th>\n",
              "      <th>tempo</th>\n",
              "      <th>time_signature</th>\n",
              "    </tr>\n",
              "  </thead>\n",
              "  <tbody>\n",
              "    <tr>\n",
              "      <th>0</th>\n",
              "      <td>TRIOREW128F424EAF0</td>\n",
              "      <td>Mr. Brightside</td>\n",
              "      <td>The Killers</td>\n",
              "      <td>09ZQ5TmUG8TSL56n0knqrj</td>\n",
              "      <td>rock, alternative, indie, alternative_rock, in...</td>\n",
              "      <td>2004</td>\n",
              "      <td>222200</td>\n",
              "      <td>0.355</td>\n",
              "      <td>0.918</td>\n",
              "      <td>1</td>\n",
              "      <td>-4.360</td>\n",
              "      <td>1</td>\n",
              "      <td>0.0746</td>\n",
              "      <td>0.001190</td>\n",
              "      <td>0.000000</td>\n",
              "      <td>0.0971</td>\n",
              "      <td>0.240</td>\n",
              "      <td>148.114</td>\n",
              "      <td>4</td>\n",
              "    </tr>\n",
              "    <tr>\n",
              "      <th>1</th>\n",
              "      <td>TRRIVDJ128F429B0E8</td>\n",
              "      <td>Wonderwall</td>\n",
              "      <td>Oasis</td>\n",
              "      <td>06UfBBDISthj1ZJAtX4xjj</td>\n",
              "      <td>rock, alternative, indie, pop, alternative_roc...</td>\n",
              "      <td>2006</td>\n",
              "      <td>258613</td>\n",
              "      <td>0.409</td>\n",
              "      <td>0.892</td>\n",
              "      <td>2</td>\n",
              "      <td>-4.373</td>\n",
              "      <td>1</td>\n",
              "      <td>0.0336</td>\n",
              "      <td>0.000807</td>\n",
              "      <td>0.000000</td>\n",
              "      <td>0.2070</td>\n",
              "      <td>0.651</td>\n",
              "      <td>174.426</td>\n",
              "      <td>4</td>\n",
              "    </tr>\n",
              "    <tr>\n",
              "      <th>2</th>\n",
              "      <td>TROUVHL128F426C441</td>\n",
              "      <td>Come as You Are</td>\n",
              "      <td>Nirvana</td>\n",
              "      <td>0keNu0t0tqsWtExGM3nT1D</td>\n",
              "      <td>rock, alternative, alternative_rock, 90s, grunge</td>\n",
              "      <td>1991</td>\n",
              "      <td>218920</td>\n",
              "      <td>0.508</td>\n",
              "      <td>0.826</td>\n",
              "      <td>4</td>\n",
              "      <td>-5.783</td>\n",
              "      <td>0</td>\n",
              "      <td>0.0400</td>\n",
              "      <td>0.000175</td>\n",
              "      <td>0.000459</td>\n",
              "      <td>0.0878</td>\n",
              "      <td>0.543</td>\n",
              "      <td>120.012</td>\n",
              "      <td>4</td>\n",
              "    </tr>\n",
              "    <tr>\n",
              "      <th>3</th>\n",
              "      <td>TRUEIND128F93038C4</td>\n",
              "      <td>Take Me Out</td>\n",
              "      <td>Franz Ferdinand</td>\n",
              "      <td>0ancVQ9wEcHVd0RrGICTE4</td>\n",
              "      <td>rock, alternative, indie, alternative_rock, in...</td>\n",
              "      <td>2004</td>\n",
              "      <td>237026</td>\n",
              "      <td>0.279</td>\n",
              "      <td>0.664</td>\n",
              "      <td>9</td>\n",
              "      <td>-8.851</td>\n",
              "      <td>1</td>\n",
              "      <td>0.0371</td>\n",
              "      <td>0.000389</td>\n",
              "      <td>0.000655</td>\n",
              "      <td>0.1330</td>\n",
              "      <td>0.490</td>\n",
              "      <td>104.560</td>\n",
              "      <td>4</td>\n",
              "    </tr>\n",
              "    <tr>\n",
              "      <th>4</th>\n",
              "      <td>TRLNZBD128F935E4D8</td>\n",
              "      <td>Creep</td>\n",
              "      <td>Radiohead</td>\n",
              "      <td>01QoK9DA7VTeTSE3MNzp4I</td>\n",
              "      <td>rock, alternative, indie, alternative_rock, in...</td>\n",
              "      <td>2008</td>\n",
              "      <td>238640</td>\n",
              "      <td>0.515</td>\n",
              "      <td>0.430</td>\n",
              "      <td>7</td>\n",
              "      <td>-9.935</td>\n",
              "      <td>1</td>\n",
              "      <td>0.0369</td>\n",
              "      <td>0.010200</td>\n",
              "      <td>0.000141</td>\n",
              "      <td>0.1290</td>\n",
              "      <td>0.104</td>\n",
              "      <td>91.841</td>\n",
              "      <td>4</td>\n",
              "    </tr>\n",
              "  </tbody>\n",
              "</table>\n",
              "</div>"
            ],
            "text/plain": [
              "             track_id             name           artist  \\\n",
              "0  TRIOREW128F424EAF0   Mr. Brightside      The Killers   \n",
              "1  TRRIVDJ128F429B0E8       Wonderwall            Oasis   \n",
              "2  TROUVHL128F426C441  Come as You Are          Nirvana   \n",
              "3  TRUEIND128F93038C4      Take Me Out  Franz Ferdinand   \n",
              "4  TRLNZBD128F935E4D8            Creep        Radiohead   \n",
              "\n",
              "               spotify_id                                               tags  \\\n",
              "0  09ZQ5TmUG8TSL56n0knqrj  rock, alternative, indie, alternative_rock, in...   \n",
              "1  06UfBBDISthj1ZJAtX4xjj  rock, alternative, indie, pop, alternative_roc...   \n",
              "2  0keNu0t0tqsWtExGM3nT1D   rock, alternative, alternative_rock, 90s, grunge   \n",
              "3  0ancVQ9wEcHVd0RrGICTE4  rock, alternative, indie, alternative_rock, in...   \n",
              "4  01QoK9DA7VTeTSE3MNzp4I  rock, alternative, indie, alternative_rock, in...   \n",
              "\n",
              "   year  duration_ms  danceability  energy  key  loudness  mode  speechiness  \\\n",
              "0  2004       222200         0.355   0.918    1    -4.360     1       0.0746   \n",
              "1  2006       258613         0.409   0.892    2    -4.373     1       0.0336   \n",
              "2  1991       218920         0.508   0.826    4    -5.783     0       0.0400   \n",
              "3  2004       237026         0.279   0.664    9    -8.851     1       0.0371   \n",
              "4  2008       238640         0.515   0.430    7    -9.935     1       0.0369   \n",
              "\n",
              "   acousticness  instrumentalness  liveness  valence    tempo  time_signature  \n",
              "0      0.001190          0.000000    0.0971    0.240  148.114               4  \n",
              "1      0.000807          0.000000    0.2070    0.651  174.426               4  \n",
              "2      0.000175          0.000459    0.0878    0.543  120.012               4  \n",
              "3      0.000389          0.000655    0.1330    0.490  104.560               4  \n",
              "4      0.010200          0.000141    0.1290    0.104   91.841               4  "
            ]
          },
          "execution_count": 38,
          "metadata": {},
          "output_type": "execute_result"
        }
      ],
      "source": [
        "print('# of rows of Song Data: ' + str(len(song_features_data)))\n",
        "print('# of unique songs: ' + str(len(song_features_data['track_id'].unique())))\n",
        "song_features_data.head()"
      ]
    },
    {
      "cell_type": "code",
      "execution_count": 39,
      "metadata": {
        "colab": {
          "base_uri": "https://localhost:8080/",
          "height": 240
        },
        "id": "Kxp6NyU2834H",
        "outputId": "546c86d1-af44-4906-9e8f-938909c2ab2e"
      },
      "outputs": [
        {
          "name": "stdout",
          "output_type": "stream",
          "text": [
            "# of rows of User Listening Data: 806745\n",
            "# of unique users: 25343\n"
          ]
        },
        {
          "data": {
            "text/html": [
              "<div>\n",
              "<style scoped>\n",
              "    .dataframe tbody tr th:only-of-type {\n",
              "        vertical-align: middle;\n",
              "    }\n",
              "\n",
              "    .dataframe tbody tr th {\n",
              "        vertical-align: top;\n",
              "    }\n",
              "\n",
              "    .dataframe thead th {\n",
              "        text-align: right;\n",
              "    }\n",
              "</style>\n",
              "<table border=\"1\" class=\"dataframe\">\n",
              "  <thead>\n",
              "    <tr style=\"text-align: right;\">\n",
              "      <th></th>\n",
              "      <th>track_id</th>\n",
              "      <th>user_id</th>\n",
              "      <th>playcount</th>\n",
              "    </tr>\n",
              "  </thead>\n",
              "  <tbody>\n",
              "    <tr>\n",
              "      <th>0</th>\n",
              "      <td>TRLATHU128F92FC275</td>\n",
              "      <td>5a905f000fc1ff3df7ca807d57edb608863db05d</td>\n",
              "      <td>11</td>\n",
              "    </tr>\n",
              "    <tr>\n",
              "      <th>1</th>\n",
              "      <td>TRMKFPN128F42858C3</td>\n",
              "      <td>5a905f000fc1ff3df7ca807d57edb608863db05d</td>\n",
              "      <td>2</td>\n",
              "    </tr>\n",
              "    <tr>\n",
              "      <th>2</th>\n",
              "      <td>TRGAOLV128E0789D40</td>\n",
              "      <td>5a905f000fc1ff3df7ca807d57edb608863db05d</td>\n",
              "      <td>2</td>\n",
              "    </tr>\n",
              "    <tr>\n",
              "      <th>3</th>\n",
              "      <td>TREAQSX128E07818CA</td>\n",
              "      <td>5a905f000fc1ff3df7ca807d57edb608863db05d</td>\n",
              "      <td>2</td>\n",
              "    </tr>\n",
              "    <tr>\n",
              "      <th>4</th>\n",
              "      <td>TRUMDRI128F424FEFC</td>\n",
              "      <td>5a905f000fc1ff3df7ca807d57edb608863db05d</td>\n",
              "      <td>3</td>\n",
              "    </tr>\n",
              "  </tbody>\n",
              "</table>\n",
              "</div>"
            ],
            "text/plain": [
              "             track_id                                   user_id  playcount\n",
              "0  TRLATHU128F92FC275  5a905f000fc1ff3df7ca807d57edb608863db05d         11\n",
              "1  TRMKFPN128F42858C3  5a905f000fc1ff3df7ca807d57edb608863db05d          2\n",
              "2  TRGAOLV128E0789D40  5a905f000fc1ff3df7ca807d57edb608863db05d          2\n",
              "3  TREAQSX128E07818CA  5a905f000fc1ff3df7ca807d57edb608863db05d          2\n",
              "4  TRUMDRI128F424FEFC  5a905f000fc1ff3df7ca807d57edb608863db05d          3"
            ]
          },
          "execution_count": 39,
          "metadata": {},
          "output_type": "execute_result"
        }
      ],
      "source": [
        "print('# of rows of User Listening Data: ' + str(len(user_listening_data)))\n",
        "print('# of unique users: ' + str(len(user_listening_data['user_id'].unique())))\n",
        "user_listening_data.head()"
      ]
    },
    {
      "cell_type": "markdown",
      "metadata": {
        "id": "4HsrJ3f-moB9"
      },
      "source": [
        "### Data Preprocessing\n"
      ]
    },
    {
      "cell_type": "code",
      "execution_count": 40,
      "metadata": {
        "id": "I3EhFKIj9e8O"
      },
      "outputs": [],
      "source": [
        "# Drop unnecessary columns\n",
        "song_features_data = song_features_data.drop(columns=['year', 'time_signature', 'key'])"
      ]
    },
    {
      "cell_type": "code",
      "execution_count": 41,
      "metadata": {
        "colab": {
          "base_uri": "https://localhost:8080/"
        },
        "id": "qWvD7vKrmbM5",
        "outputId": "71a53746-c06b-46ce-e7b1-76e605d58543"
      },
      "outputs": [
        {
          "name": "stdout",
          "output_type": "stream",
          "text": [
            "<class 'pandas.core.frame.DataFrame'>\n",
            "RangeIndex: 50683 entries, 0 to 50682\n",
            "Data columns (total 16 columns):\n",
            " #   Column            Non-Null Count  Dtype  \n",
            "---  ------            --------------  -----  \n",
            " 0   track_id          50683 non-null  object \n",
            " 1   name              50683 non-null  object \n",
            " 2   artist            50683 non-null  object \n",
            " 3   spotify_id        50683 non-null  object \n",
            " 4   tags              49556 non-null  object \n",
            " 5   danceability      50683 non-null  float64\n",
            " 6   energy            50683 non-null  float64\n",
            " 7   loudness          50683 non-null  float64\n",
            " 8   mode              50683 non-null  int64  \n",
            " 9   speechiness       50683 non-null  float64\n",
            " 10  acousticness      50683 non-null  float64\n",
            " 11  instrumentalness  50683 non-null  float64\n",
            " 12  liveness          50683 non-null  float64\n",
            " 13  valence           50683 non-null  float64\n",
            " 14  tempo             50683 non-null  float64\n",
            " 15  duration_mins     50683 non-null  float64\n",
            "dtypes: float64(10), int64(1), object(5)\n",
            "memory usage: 6.2+ MB\n"
          ]
        }
      ],
      "source": [
        "# Convert song duration from milliseconds to minutes\n",
        "song_features_data[\"duration_mins\"] = song_features_data[\"duration_ms\"] / 60000\n",
        "song_features_data.drop(\"duration_ms\", axis=1, inplace=True)\n",
        "\n",
        "\n",
        "song_features_data.info()"
      ]
    },
    {
      "cell_type": "code",
      "execution_count": 42,
      "metadata": {
        "colab": {
          "base_uri": "https://localhost:8080/",
          "height": 417
        },
        "id": "SroBTElIOawR",
        "outputId": "ce8a9af7-cb64-4714-ff5c-7784d063a3a6"
      },
      "outputs": [
        {
          "data": {
            "text/html": [
              "<div>\n",
              "<style scoped>\n",
              "    .dataframe tbody tr th:only-of-type {\n",
              "        vertical-align: middle;\n",
              "    }\n",
              "\n",
              "    .dataframe tbody tr th {\n",
              "        vertical-align: top;\n",
              "    }\n",
              "\n",
              "    .dataframe thead th {\n",
              "        text-align: right;\n",
              "    }\n",
              "</style>\n",
              "<table border=\"1\" class=\"dataframe\">\n",
              "  <thead>\n",
              "    <tr style=\"text-align: right;\">\n",
              "      <th></th>\n",
              "      <th>track_id</th>\n",
              "      <th>name</th>\n",
              "      <th>artist</th>\n",
              "      <th>spotify_id</th>\n",
              "      <th>tags</th>\n",
              "      <th>danceability</th>\n",
              "      <th>energy</th>\n",
              "      <th>loudness</th>\n",
              "      <th>mode</th>\n",
              "      <th>speechiness</th>\n",
              "      <th>acousticness</th>\n",
              "      <th>instrumentalness</th>\n",
              "      <th>liveness</th>\n",
              "      <th>valence</th>\n",
              "      <th>tempo</th>\n",
              "      <th>duration_mins</th>\n",
              "      <th>user_id</th>\n",
              "      <th>playcount</th>\n",
              "    </tr>\n",
              "  </thead>\n",
              "  <tbody>\n",
              "    <tr>\n",
              "      <th>0</th>\n",
              "      <td>TRIOREW128F424EAF0</td>\n",
              "      <td>Mr. Brightside</td>\n",
              "      <td>The Killers</td>\n",
              "      <td>09ZQ5TmUG8TSL56n0knqrj</td>\n",
              "      <td>rock, alternative, indie, alternative_rock, in...</td>\n",
              "      <td>0.355</td>\n",
              "      <td>0.918</td>\n",
              "      <td>-4.360</td>\n",
              "      <td>1</td>\n",
              "      <td>0.0746</td>\n",
              "      <td>0.001190</td>\n",
              "      <td>0.0</td>\n",
              "      <td>0.0971</td>\n",
              "      <td>0.240</td>\n",
              "      <td>148.114</td>\n",
              "      <td>3.703333</td>\n",
              "      <td>fe31db6d197a667d265ff5a35d80d60f3660f729</td>\n",
              "      <td>2</td>\n",
              "    </tr>\n",
              "    <tr>\n",
              "      <th>1</th>\n",
              "      <td>TRRIVDJ128F429B0E8</td>\n",
              "      <td>Wonderwall</td>\n",
              "      <td>Oasis</td>\n",
              "      <td>06UfBBDISthj1ZJAtX4xjj</td>\n",
              "      <td>rock, alternative, indie, pop, alternative_roc...</td>\n",
              "      <td>0.409</td>\n",
              "      <td>0.892</td>\n",
              "      <td>-4.373</td>\n",
              "      <td>1</td>\n",
              "      <td>0.0336</td>\n",
              "      <td>0.000807</td>\n",
              "      <td>0.0</td>\n",
              "      <td>0.2070</td>\n",
              "      <td>0.651</td>\n",
              "      <td>174.426</td>\n",
              "      <td>4.310217</td>\n",
              "      <td>67874d1a189c83326c529e554be6f7acf55effae</td>\n",
              "      <td>12</td>\n",
              "    </tr>\n",
              "    <tr>\n",
              "      <th>2</th>\n",
              "      <td>TRRIVDJ128F429B0E8</td>\n",
              "      <td>Wonderwall</td>\n",
              "      <td>Oasis</td>\n",
              "      <td>06UfBBDISthj1ZJAtX4xjj</td>\n",
              "      <td>rock, alternative, indie, pop, alternative_roc...</td>\n",
              "      <td>0.409</td>\n",
              "      <td>0.892</td>\n",
              "      <td>-4.373</td>\n",
              "      <td>1</td>\n",
              "      <td>0.0336</td>\n",
              "      <td>0.000807</td>\n",
              "      <td>0.0</td>\n",
              "      <td>0.2070</td>\n",
              "      <td>0.651</td>\n",
              "      <td>174.426</td>\n",
              "      <td>4.310217</td>\n",
              "      <td>e3ee8846c9a5a0916700a9e7abfc1c5b2fcb8e36</td>\n",
              "      <td>5</td>\n",
              "    </tr>\n",
              "    <tr>\n",
              "      <th>3</th>\n",
              "      <td>TRRIVDJ128F429B0E8</td>\n",
              "      <td>Wonderwall</td>\n",
              "      <td>Oasis</td>\n",
              "      <td>06UfBBDISthj1ZJAtX4xjj</td>\n",
              "      <td>rock, alternative, indie, pop, alternative_roc...</td>\n",
              "      <td>0.409</td>\n",
              "      <td>0.892</td>\n",
              "      <td>-4.373</td>\n",
              "      <td>1</td>\n",
              "      <td>0.0336</td>\n",
              "      <td>0.000807</td>\n",
              "      <td>0.0</td>\n",
              "      <td>0.2070</td>\n",
              "      <td>0.651</td>\n",
              "      <td>174.426</td>\n",
              "      <td>4.310217</td>\n",
              "      <td>cbb6b8dccf0af0d221dfd4684072c04bb0346f30</td>\n",
              "      <td>2</td>\n",
              "    </tr>\n",
              "    <tr>\n",
              "      <th>4</th>\n",
              "      <td>TRRIVDJ128F429B0E8</td>\n",
              "      <td>Wonderwall</td>\n",
              "      <td>Oasis</td>\n",
              "      <td>06UfBBDISthj1ZJAtX4xjj</td>\n",
              "      <td>rock, alternative, indie, pop, alternative_roc...</td>\n",
              "      <td>0.409</td>\n",
              "      <td>0.892</td>\n",
              "      <td>-4.373</td>\n",
              "      <td>1</td>\n",
              "      <td>0.0336</td>\n",
              "      <td>0.000807</td>\n",
              "      <td>0.0</td>\n",
              "      <td>0.2070</td>\n",
              "      <td>0.651</td>\n",
              "      <td>174.426</td>\n",
              "      <td>4.310217</td>\n",
              "      <td>2cdf67cd70a64964cb914835af0043fcc28a8f48</td>\n",
              "      <td>12</td>\n",
              "    </tr>\n",
              "  </tbody>\n",
              "</table>\n",
              "</div>"
            ],
            "text/plain": [
              "             track_id            name       artist              spotify_id  \\\n",
              "0  TRIOREW128F424EAF0  Mr. Brightside  The Killers  09ZQ5TmUG8TSL56n0knqrj   \n",
              "1  TRRIVDJ128F429B0E8      Wonderwall        Oasis  06UfBBDISthj1ZJAtX4xjj   \n",
              "2  TRRIVDJ128F429B0E8      Wonderwall        Oasis  06UfBBDISthj1ZJAtX4xjj   \n",
              "3  TRRIVDJ128F429B0E8      Wonderwall        Oasis  06UfBBDISthj1ZJAtX4xjj   \n",
              "4  TRRIVDJ128F429B0E8      Wonderwall        Oasis  06UfBBDISthj1ZJAtX4xjj   \n",
              "\n",
              "                                                tags  danceability  energy  \\\n",
              "0  rock, alternative, indie, alternative_rock, in...         0.355   0.918   \n",
              "1  rock, alternative, indie, pop, alternative_roc...         0.409   0.892   \n",
              "2  rock, alternative, indie, pop, alternative_roc...         0.409   0.892   \n",
              "3  rock, alternative, indie, pop, alternative_roc...         0.409   0.892   \n",
              "4  rock, alternative, indie, pop, alternative_roc...         0.409   0.892   \n",
              "\n",
              "   loudness  mode  speechiness  acousticness  instrumentalness  liveness  \\\n",
              "0    -4.360     1       0.0746      0.001190               0.0    0.0971   \n",
              "1    -4.373     1       0.0336      0.000807               0.0    0.2070   \n",
              "2    -4.373     1       0.0336      0.000807               0.0    0.2070   \n",
              "3    -4.373     1       0.0336      0.000807               0.0    0.2070   \n",
              "4    -4.373     1       0.0336      0.000807               0.0    0.2070   \n",
              "\n",
              "   valence    tempo  duration_mins                                   user_id  \\\n",
              "0    0.240  148.114       3.703333  fe31db6d197a667d265ff5a35d80d60f3660f729   \n",
              "1    0.651  174.426       4.310217  67874d1a189c83326c529e554be6f7acf55effae   \n",
              "2    0.651  174.426       4.310217  e3ee8846c9a5a0916700a9e7abfc1c5b2fcb8e36   \n",
              "3    0.651  174.426       4.310217  cbb6b8dccf0af0d221dfd4684072c04bb0346f30   \n",
              "4    0.651  174.426       4.310217  2cdf67cd70a64964cb914835af0043fcc28a8f48   \n",
              "\n",
              "   playcount  \n",
              "0          2  \n",
              "1         12  \n",
              "2          5  \n",
              "3          2  \n",
              "4         12  "
            ]
          },
          "execution_count": 42,
          "metadata": {},
          "output_type": "execute_result"
        }
      ],
      "source": [
        "data = pd.merge(song_features_data, user_listening_data, on='track_id')\n",
        "data.head()"
      ]
    },
    {
      "cell_type": "markdown",
      "metadata": {
        "id": "8KFdGrtno9d_"
      },
      "source": [
        "### Obtain total number of listens per song"
      ]
    },
    {
      "cell_type": "code",
      "execution_count": 43,
      "metadata": {
        "colab": {
          "base_uri": "https://localhost:8080/",
          "height": 423
        },
        "id": "ULj0QCPVibK7",
        "outputId": "975218c7-bf5d-4fcd-bbd7-2f00fc587c7f"
      },
      "outputs": [
        {
          "data": {
            "text/html": [
              "<div>\n",
              "<style scoped>\n",
              "    .dataframe tbody tr th:only-of-type {\n",
              "        vertical-align: middle;\n",
              "    }\n",
              "\n",
              "    .dataframe tbody tr th {\n",
              "        vertical-align: top;\n",
              "    }\n",
              "\n",
              "    .dataframe thead th {\n",
              "        text-align: right;\n",
              "    }\n",
              "</style>\n",
              "<table border=\"1\" class=\"dataframe\">\n",
              "  <thead>\n",
              "    <tr style=\"text-align: right;\">\n",
              "      <th></th>\n",
              "      <th>name</th>\n",
              "      <th>playcount</th>\n",
              "    </tr>\n",
              "  </thead>\n",
              "  <tbody>\n",
              "    <tr>\n",
              "      <th>0</th>\n",
              "      <td>#1 Zero</td>\n",
              "      <td>13</td>\n",
              "    </tr>\n",
              "    <tr>\n",
              "      <th>1</th>\n",
              "      <td>#16</td>\n",
              "      <td>110</td>\n",
              "    </tr>\n",
              "    <tr>\n",
              "      <th>2</th>\n",
              "      <td>#17</td>\n",
              "      <td>7</td>\n",
              "    </tr>\n",
              "    <tr>\n",
              "      <th>3</th>\n",
              "      <td>#24</td>\n",
              "      <td>5</td>\n",
              "    </tr>\n",
              "    <tr>\n",
              "      <th>4</th>\n",
              "      <td>$20 for Boban</td>\n",
              "      <td>43</td>\n",
              "    </tr>\n",
              "    <tr>\n",
              "      <th>...</th>\n",
              "      <td>...</td>\n",
              "      <td>...</td>\n",
              "    </tr>\n",
              "    <tr>\n",
              "      <th>23579</th>\n",
              "      <td>慟哭と去りぬ</td>\n",
              "      <td>134</td>\n",
              "    </tr>\n",
              "    <tr>\n",
              "      <th>23580</th>\n",
              "      <td>我、闇とて･･･</td>\n",
              "      <td>7</td>\n",
              "    </tr>\n",
              "    <tr>\n",
              "      <th>23581</th>\n",
              "      <td>朔-saku-</td>\n",
              "      <td>51</td>\n",
              "    </tr>\n",
              "    <tr>\n",
              "      <th>23582</th>\n",
              "      <td>蜷局</td>\n",
              "      <td>368</td>\n",
              "    </tr>\n",
              "    <tr>\n",
              "      <th>23583</th>\n",
              "      <td>鼓動</td>\n",
              "      <td>22</td>\n",
              "    </tr>\n",
              "  </tbody>\n",
              "</table>\n",
              "<p>23584 rows × 2 columns</p>\n",
              "</div>"
            ],
            "text/plain": [
              "                name  playcount\n",
              "0            #1 Zero         13\n",
              "1                #16        110\n",
              "2                #17          7\n",
              "3                #24          5\n",
              "4      $20 for Boban         43\n",
              "...              ...        ...\n",
              "23579         慟哭と去りぬ        134\n",
              "23580       我、闇とて･･･          7\n",
              "23581        朔-saku-         51\n",
              "23582             蜷局        368\n",
              "23583             鼓動         22\n",
              "\n",
              "[23584 rows x 2 columns]"
            ]
          },
          "execution_count": 43,
          "metadata": {},
          "output_type": "execute_result"
        }
      ],
      "source": [
        "play_counts = data.groupby('name')['playcount'].sum().reset_index()\n",
        "play_counts"
      ]
    },
    {
      "cell_type": "markdown",
      "metadata": {
        "id": "xO9k04zspGk3"
      },
      "source": [
        "### Create playlists for input to RNN"
      ]
    },
    {
      "cell_type": "code",
      "execution_count": 44,
      "metadata": {
        "colab": {
          "base_uri": "https://localhost:8080/",
          "height": 825
        },
        "id": "4UObsgagjCNb",
        "outputId": "ac841c42-22b3-45c9-c3e2-205d7ea6ea82"
      },
      "outputs": [
        {
          "data": {
            "text/html": [
              "<div>\n",
              "<style scoped>\n",
              "    .dataframe tbody tr th:only-of-type {\n",
              "        vertical-align: middle;\n",
              "    }\n",
              "\n",
              "    .dataframe tbody tr th {\n",
              "        vertical-align: top;\n",
              "    }\n",
              "\n",
              "    .dataframe thead th {\n",
              "        text-align: right;\n",
              "    }\n",
              "</style>\n",
              "<table border=\"1\" class=\"dataframe\">\n",
              "  <thead>\n",
              "    <tr style=\"text-align: right;\">\n",
              "      <th></th>\n",
              "      <th>track_id</th>\n",
              "      <th>name</th>\n",
              "      <th>artist</th>\n",
              "      <th>spotify_id</th>\n",
              "      <th>tags</th>\n",
              "      <th>danceability</th>\n",
              "      <th>energy</th>\n",
              "      <th>loudness</th>\n",
              "      <th>mode</th>\n",
              "      <th>speechiness</th>\n",
              "      <th>acousticness</th>\n",
              "      <th>instrumentalness</th>\n",
              "      <th>liveness</th>\n",
              "      <th>valence</th>\n",
              "      <th>tempo</th>\n",
              "      <th>duration_mins</th>\n",
              "      <th>user_id</th>\n",
              "      <th>playcount</th>\n",
              "    </tr>\n",
              "  </thead>\n",
              "  <tbody>\n",
              "    <tr>\n",
              "      <th>306346</th>\n",
              "      <td>TRTVXIH128F426625A</td>\n",
              "      <td>Come Round Soon</td>\n",
              "      <td>Sara Bareilles</td>\n",
              "      <td>0jkVXytWSisMUtrBEej9mi</td>\n",
              "      <td>pop, female_vocalists, singer_songwriter, soul...</td>\n",
              "      <td>0.338</td>\n",
              "      <td>0.819</td>\n",
              "      <td>-4.495</td>\n",
              "      <td>0</td>\n",
              "      <td>0.0776</td>\n",
              "      <td>0.077700</td>\n",
              "      <td>0.000000</td>\n",
              "      <td>0.1590</td>\n",
              "      <td>0.545</td>\n",
              "      <td>74.751</td>\n",
              "      <td>3.552000</td>\n",
              "      <td>0000f88f8d76a238c251450913b0d070e4a77d19</td>\n",
              "      <td>2</td>\n",
              "    </tr>\n",
              "    <tr>\n",
              "      <th>417455</th>\n",
              "      <td>TRWUFEW128F14782F3</td>\n",
              "      <td>Forever My Friend</td>\n",
              "      <td>Ray LaMontagne</td>\n",
              "      <td>0Ev7atdl0qS2n39OO7051O</td>\n",
              "      <td>folk, singer_songwriter, soul, blues, acoustic...</td>\n",
              "      <td>0.493</td>\n",
              "      <td>0.524</td>\n",
              "      <td>-13.553</td>\n",
              "      <td>1</td>\n",
              "      <td>0.0423</td>\n",
              "      <td>0.334000</td>\n",
              "      <td>0.014100</td>\n",
              "      <td>0.3570</td>\n",
              "      <td>0.379</td>\n",
              "      <td>176.233</td>\n",
              "      <td>5.788883</td>\n",
              "      <td>0000f88f8d76a238c251450913b0d070e4a77d19</td>\n",
              "      <td>2</td>\n",
              "    </tr>\n",
              "    <tr>\n",
              "      <th>32466</th>\n",
              "      <td>TRNXEPE128F9339E47</td>\n",
              "      <td>My Name Is Jonas</td>\n",
              "      <td>Weezer</td>\n",
              "      <td>0YU04WSkTVomRgeDOWlEzX</td>\n",
              "      <td>rock, alternative, indie, alternative_rock, in...</td>\n",
              "      <td>0.261</td>\n",
              "      <td>0.947</td>\n",
              "      <td>-3.031</td>\n",
              "      <td>1</td>\n",
              "      <td>0.0488</td>\n",
              "      <td>0.000197</td>\n",
              "      <td>0.003320</td>\n",
              "      <td>0.3100</td>\n",
              "      <td>0.550</td>\n",
              "      <td>185.942</td>\n",
              "      <td>3.435333</td>\n",
              "      <td>0000f88f8d76a238c251450913b0d070e4a77d19</td>\n",
              "      <td>2</td>\n",
              "    </tr>\n",
              "    <tr>\n",
              "      <th>698954</th>\n",
              "      <td>TRMKCCV128F92EB22E</td>\n",
              "      <td>Light On</td>\n",
              "      <td>David Cook</td>\n",
              "      <td>1BnoZbPDh9dbYqabvM6qZg</td>\n",
              "      <td>rock, alternative_rock, male_vocalists</td>\n",
              "      <td>0.448</td>\n",
              "      <td>0.830</td>\n",
              "      <td>-4.156</td>\n",
              "      <td>0</td>\n",
              "      <td>0.0332</td>\n",
              "      <td>0.067300</td>\n",
              "      <td>0.000000</td>\n",
              "      <td>0.1130</td>\n",
              "      <td>0.362</td>\n",
              "      <td>131.991</td>\n",
              "      <td>3.816883</td>\n",
              "      <td>0000f88f8d76a238c251450913b0d070e4a77d19</td>\n",
              "      <td>3</td>\n",
              "    </tr>\n",
              "    <tr>\n",
              "      <th>227171</th>\n",
              "      <td>TRJGJTH128F4291A81</td>\n",
              "      <td>Oh My God, Whatever, Etc.</td>\n",
              "      <td>Ryan Adams</td>\n",
              "      <td>0sUzPqm1gdsabzX5htMvf7</td>\n",
              "      <td>rock, indie, folk, singer_songwriter, acoustic...</td>\n",
              "      <td>0.572</td>\n",
              "      <td>0.395</td>\n",
              "      <td>-10.630</td>\n",
              "      <td>1</td>\n",
              "      <td>0.0304</td>\n",
              "      <td>0.700000</td>\n",
              "      <td>0.000250</td>\n",
              "      <td>0.1260</td>\n",
              "      <td>0.483</td>\n",
              "      <td>79.552</td>\n",
              "      <td>2.532667</td>\n",
              "      <td>0000f88f8d76a238c251450913b0d070e4a77d19</td>\n",
              "      <td>2</td>\n",
              "    </tr>\n",
              "    <tr>\n",
              "      <th>...</th>\n",
              "      <td>...</td>\n",
              "      <td>...</td>\n",
              "      <td>...</td>\n",
              "      <td>...</td>\n",
              "      <td>...</td>\n",
              "      <td>...</td>\n",
              "      <td>...</td>\n",
              "      <td>...</td>\n",
              "      <td>...</td>\n",
              "      <td>...</td>\n",
              "      <td>...</td>\n",
              "      <td>...</td>\n",
              "      <td>...</td>\n",
              "      <td>...</td>\n",
              "      <td>...</td>\n",
              "      <td>...</td>\n",
              "      <td>...</td>\n",
              "      <td>...</td>\n",
              "    </tr>\n",
              "    <tr>\n",
              "      <th>802077</th>\n",
              "      <td>TRSEFCM128F429354D</td>\n",
              "      <td>Set It Up</td>\n",
              "      <td>Xavier Rudd</td>\n",
              "      <td>1sF9FiOQivhgedQnS1j3fK</td>\n",
              "      <td>acoustic, 00s</td>\n",
              "      <td>0.469</td>\n",
              "      <td>0.385</td>\n",
              "      <td>-11.300</td>\n",
              "      <td>0</td>\n",
              "      <td>0.0270</td>\n",
              "      <td>0.503000</td>\n",
              "      <td>0.001390</td>\n",
              "      <td>0.1150</td>\n",
              "      <td>0.116</td>\n",
              "      <td>130.767</td>\n",
              "      <td>4.141550</td>\n",
              "      <td>fffbab4b8416fc41d05fcbdcf0e6735c4f37cb39</td>\n",
              "      <td>2</td>\n",
              "    </tr>\n",
              "    <tr>\n",
              "      <th>417463</th>\n",
              "      <td>TRWUFEW128F14782F3</td>\n",
              "      <td>Forever My Friend</td>\n",
              "      <td>Ray LaMontagne</td>\n",
              "      <td>0Ev7atdl0qS2n39OO7051O</td>\n",
              "      <td>folk, singer_songwriter, soul, blues, acoustic...</td>\n",
              "      <td>0.493</td>\n",
              "      <td>0.524</td>\n",
              "      <td>-13.553</td>\n",
              "      <td>1</td>\n",
              "      <td>0.0423</td>\n",
              "      <td>0.334000</td>\n",
              "      <td>0.014100</td>\n",
              "      <td>0.3570</td>\n",
              "      <td>0.379</td>\n",
              "      <td>176.233</td>\n",
              "      <td>5.788883</td>\n",
              "      <td>fffbab4b8416fc41d05fcbdcf0e6735c4f37cb39</td>\n",
              "      <td>8</td>\n",
              "    </tr>\n",
              "    <tr>\n",
              "      <th>649627</th>\n",
              "      <td>TRDVGIH128F429353C</td>\n",
              "      <td>Come Let Go</td>\n",
              "      <td>Xavier Rudd</td>\n",
              "      <td>258CEuV9zzGk2PraoCH2yx</td>\n",
              "      <td>reggae, male_vocalists</td>\n",
              "      <td>0.547</td>\n",
              "      <td>0.546</td>\n",
              "      <td>-8.634</td>\n",
              "      <td>1</td>\n",
              "      <td>0.0470</td>\n",
              "      <td>0.114000</td>\n",
              "      <td>0.037200</td>\n",
              "      <td>0.3810</td>\n",
              "      <td>0.280</td>\n",
              "      <td>140.477</td>\n",
              "      <td>6.870433</td>\n",
              "      <td>fffbab4b8416fc41d05fcbdcf0e6735c4f37cb39</td>\n",
              "      <td>28</td>\n",
              "    </tr>\n",
              "    <tr>\n",
              "      <th>553208</th>\n",
              "      <td>TROXFVJ128F1465265</td>\n",
              "      <td>Bottom Of the Barrel</td>\n",
              "      <td>Amos Lee</td>\n",
              "      <td>1VWGfrhpY8IiNmqMHavRXS</td>\n",
              "      <td>folk, soul, acoustic, guitar</td>\n",
              "      <td>0.609</td>\n",
              "      <td>0.346</td>\n",
              "      <td>-12.703</td>\n",
              "      <td>1</td>\n",
              "      <td>0.1460</td>\n",
              "      <td>0.761000</td>\n",
              "      <td>0.000000</td>\n",
              "      <td>0.1100</td>\n",
              "      <td>0.550</td>\n",
              "      <td>178.137</td>\n",
              "      <td>2.006433</td>\n",
              "      <td>fffbab4b8416fc41d05fcbdcf0e6735c4f37cb39</td>\n",
              "      <td>4</td>\n",
              "    </tr>\n",
              "    <tr>\n",
              "      <th>4055</th>\n",
              "      <td>TRPFYYL128F92F7144</td>\n",
              "      <td>Float On</td>\n",
              "      <td>Modest Mouse</td>\n",
              "      <td>1Urf1M52P3R6NYdAOJizoW</td>\n",
              "      <td>rock, alternative, indie, alternative_rock, in...</td>\n",
              "      <td>0.646</td>\n",
              "      <td>0.893</td>\n",
              "      <td>-4.799</td>\n",
              "      <td>1</td>\n",
              "      <td>0.0301</td>\n",
              "      <td>0.015100</td>\n",
              "      <td>0.000004</td>\n",
              "      <td>0.0892</td>\n",
              "      <td>0.559</td>\n",
              "      <td>100.951</td>\n",
              "      <td>3.474433</td>\n",
              "      <td>fffbab4b8416fc41d05fcbdcf0e6735c4f37cb39</td>\n",
              "      <td>4</td>\n",
              "    </tr>\n",
              "  </tbody>\n",
              "</table>\n",
              "<p>806745 rows × 18 columns</p>\n",
              "</div>"
            ],
            "text/plain": [
              "                  track_id                       name          artist  \\\n",
              "306346  TRTVXIH128F426625A            Come Round Soon  Sara Bareilles   \n",
              "417455  TRWUFEW128F14782F3          Forever My Friend  Ray LaMontagne   \n",
              "32466   TRNXEPE128F9339E47           My Name Is Jonas          Weezer   \n",
              "698954  TRMKCCV128F92EB22E                   Light On      David Cook   \n",
              "227171  TRJGJTH128F4291A81  Oh My God, Whatever, Etc.      Ryan Adams   \n",
              "...                    ...                        ...             ...   \n",
              "802077  TRSEFCM128F429354D                  Set It Up     Xavier Rudd   \n",
              "417463  TRWUFEW128F14782F3          Forever My Friend  Ray LaMontagne   \n",
              "649627  TRDVGIH128F429353C                Come Let Go     Xavier Rudd   \n",
              "553208  TROXFVJ128F1465265       Bottom Of the Barrel        Amos Lee   \n",
              "4055    TRPFYYL128F92F7144                   Float On    Modest Mouse   \n",
              "\n",
              "                    spotify_id  \\\n",
              "306346  0jkVXytWSisMUtrBEej9mi   \n",
              "417455  0Ev7atdl0qS2n39OO7051O   \n",
              "32466   0YU04WSkTVomRgeDOWlEzX   \n",
              "698954  1BnoZbPDh9dbYqabvM6qZg   \n",
              "227171  0sUzPqm1gdsabzX5htMvf7   \n",
              "...                        ...   \n",
              "802077  1sF9FiOQivhgedQnS1j3fK   \n",
              "417463  0Ev7atdl0qS2n39OO7051O   \n",
              "649627  258CEuV9zzGk2PraoCH2yx   \n",
              "553208  1VWGfrhpY8IiNmqMHavRXS   \n",
              "4055    1Urf1M52P3R6NYdAOJizoW   \n",
              "\n",
              "                                                     tags  danceability  \\\n",
              "306346  pop, female_vocalists, singer_songwriter, soul...         0.338   \n",
              "417455  folk, singer_songwriter, soul, blues, acoustic...         0.493   \n",
              "32466   rock, alternative, indie, alternative_rock, in...         0.261   \n",
              "698954             rock, alternative_rock, male_vocalists         0.448   \n",
              "227171  rock, indie, folk, singer_songwriter, acoustic...         0.572   \n",
              "...                                                   ...           ...   \n",
              "802077                                      acoustic, 00s         0.469   \n",
              "417463  folk, singer_songwriter, soul, blues, acoustic...         0.493   \n",
              "649627                             reggae, male_vocalists         0.547   \n",
              "553208                       folk, soul, acoustic, guitar         0.609   \n",
              "4055    rock, alternative, indie, alternative_rock, in...         0.646   \n",
              "\n",
              "        energy  loudness  mode  speechiness  acousticness  instrumentalness  \\\n",
              "306346   0.819    -4.495     0       0.0776      0.077700          0.000000   \n",
              "417455   0.524   -13.553     1       0.0423      0.334000          0.014100   \n",
              "32466    0.947    -3.031     1       0.0488      0.000197          0.003320   \n",
              "698954   0.830    -4.156     0       0.0332      0.067300          0.000000   \n",
              "227171   0.395   -10.630     1       0.0304      0.700000          0.000250   \n",
              "...        ...       ...   ...          ...           ...               ...   \n",
              "802077   0.385   -11.300     0       0.0270      0.503000          0.001390   \n",
              "417463   0.524   -13.553     1       0.0423      0.334000          0.014100   \n",
              "649627   0.546    -8.634     1       0.0470      0.114000          0.037200   \n",
              "553208   0.346   -12.703     1       0.1460      0.761000          0.000000   \n",
              "4055     0.893    -4.799     1       0.0301      0.015100          0.000004   \n",
              "\n",
              "        liveness  valence    tempo  duration_mins  \\\n",
              "306346    0.1590    0.545   74.751       3.552000   \n",
              "417455    0.3570    0.379  176.233       5.788883   \n",
              "32466     0.3100    0.550  185.942       3.435333   \n",
              "698954    0.1130    0.362  131.991       3.816883   \n",
              "227171    0.1260    0.483   79.552       2.532667   \n",
              "...          ...      ...      ...            ...   \n",
              "802077    0.1150    0.116  130.767       4.141550   \n",
              "417463    0.3570    0.379  176.233       5.788883   \n",
              "649627    0.3810    0.280  140.477       6.870433   \n",
              "553208    0.1100    0.550  178.137       2.006433   \n",
              "4055      0.0892    0.559  100.951       3.474433   \n",
              "\n",
              "                                         user_id  playcount  \n",
              "306346  0000f88f8d76a238c251450913b0d070e4a77d19          2  \n",
              "417455  0000f88f8d76a238c251450913b0d070e4a77d19          2  \n",
              "32466   0000f88f8d76a238c251450913b0d070e4a77d19          2  \n",
              "698954  0000f88f8d76a238c251450913b0d070e4a77d19          3  \n",
              "227171  0000f88f8d76a238c251450913b0d070e4a77d19          2  \n",
              "...                                          ...        ...  \n",
              "802077  fffbab4b8416fc41d05fcbdcf0e6735c4f37cb39          2  \n",
              "417463  fffbab4b8416fc41d05fcbdcf0e6735c4f37cb39          8  \n",
              "649627  fffbab4b8416fc41d05fcbdcf0e6735c4f37cb39         28  \n",
              "553208  fffbab4b8416fc41d05fcbdcf0e6735c4f37cb39          4  \n",
              "4055    fffbab4b8416fc41d05fcbdcf0e6735c4f37cb39          4  \n",
              "\n",
              "[806745 rows x 18 columns]"
            ]
          },
          "execution_count": 44,
          "metadata": {},
          "output_type": "execute_result"
        }
      ],
      "source": [
        "data = data.sort_values(['user_id'])\n",
        "data"
      ]
    },
    {
      "cell_type": "code",
      "execution_count": 45,
      "metadata": {
        "colab": {
          "base_uri": "https://localhost:8080/"
        },
        "id": "r8s7KampjDRs",
        "outputId": "7615063b-91ef-44be-c7eb-d79d2d99c166"
      },
      "outputs": [
        {
          "name": "stdout",
          "output_type": "stream",
          "text": [
            "user_id\n",
            "0000f88f8d76a238c251450913b0d070e4a77d19    [TRTVXIH128F426625A, TRWUFEW128F14782F3, TRNXE...\n",
            "0005eb11fd1dad47e6e6719a4db30340073a9e38    [TRGOJNK128F92F2A03, TRQPSHM128F92F29ED, TRTUW...\n",
            "000d80cd9b58a8f77b33aa613dcfc5cbf1daf5e8    [TRDYYKS128F4275626, TRBHLYP12903D0D107, TRABF...\n",
            "000e9296161b73a1821aaed3d7f50d95e8665bf6    [TROPEIV128F428F5A8, TRIAZQY128F934D58D, TRMKA...\n",
            "00100482b3f3074549c751e718c57ed211b35991    [TRSNCIW128F14557BC, TRJKPFL12903CCE490, TRWJN...\n",
            "                                                                  ...                        \n",
            "fff7352d8ca192c451ce4fa00d18e33e261ecad3    [TRDRVJA128F4267831, TRCKWGF12903CD2DCD, TRXUW...\n",
            "fff759a45a3a68de552740e8285a97d5f65d4e58    [TRDJZFF128F92D2627, TRULONW128F9302209, TRBNY...\n",
            "fff9bd021bf6e07936883b9bb045207fcf372a2c    [TROHXCJ128F935A6AC, TRUMJNK12903CF465A, TRXYM...\n",
            "fffb0b218640d86e5cb99d41cd3ecad977142da5    [TRZGGHL12903CDBF1F, TRCAUIX128F4277AD0, TRYIK...\n",
            "fffbab4b8416fc41d05fcbdcf0e6735c4f37cb39    [TRGPCUN128F1465269, TRHWQQY128F427B6EB, TRCXQ...\n",
            "Name: track_id, Length: 25343, dtype: object\n"
          ]
        }
      ],
      "source": [
        "# Changed name to track_id\n",
        "playlists = data.groupby('user_id')['track_id'].apply(lambda x: list(x.head(20)))\n",
        "playlist_dict = playlists.to_dict()\n",
        "print(playlists)"
      ]
    },
    {
      "cell_type": "code",
      "execution_count": 46,
      "metadata": {
        "id": "dL56_oKPjLtw"
      },
      "outputs": [],
      "source": [
        "# Changed track_id to name\n",
        "data_dict = data.drop(['artist', 'tags', 'playcount'], axis=1)\n",
        "# Changed name to track_id\n",
        "data_dict = data_dict.set_index(['user_id', 'track_id']).to_dict('index')"
      ]
    },
    {
      "cell_type": "code",
      "execution_count": 47,
      "metadata": {
        "colab": {
          "base_uri": "https://localhost:8080/"
        },
        "id": "tzSIPcLdjQIV",
        "outputId": "3b6a70f1-9c3e-46d1-85c3-79711d2c5a09"
      },
      "outputs": [
        {
          "name": "stdout",
          "output_type": "stream",
          "text": [
            "10000\n",
            "20000\n",
            "30000\n",
            "40000\n",
            "50000\n",
            "60000\n",
            "70000\n",
            "80000\n",
            "90000\n",
            "100000\n",
            "110000\n",
            "120000\n",
            "130000\n",
            "140000\n",
            "150000\n",
            "160000\n",
            "170000\n",
            "180000\n",
            "190000\n",
            "200000\n",
            "210000\n",
            "220000\n",
            "230000\n",
            "240000\n",
            "250000\n",
            "260000\n",
            "270000\n",
            "280000\n",
            "290000\n",
            "300000\n",
            "310000\n",
            "320000\n",
            "330000\n",
            "340000\n",
            "350000\n",
            "360000\n",
            "370000\n",
            "380000\n",
            "390000\n",
            "400000\n",
            "410000\n",
            "420000\n",
            "430000\n",
            "440000\n",
            "450000\n",
            "460000\n",
            "470000\n",
            "480000\n",
            "490000\n",
            "500000\n"
          ]
        }
      ],
      "source": [
        "songs_done = 0\n",
        "updated_playlist_dict = {}\n",
        "for user_id, songs in playlist_dict.items():\n",
        "    updated_songs = []\n",
        "    for song in songs:\n",
        "        key = (user_id, song)\n",
        "        if key in data_dict:\n",
        "            the_features = list(data_dict[key].values())\n",
        "            updated_songs.append([song] + the_features)\n",
        "            songs_done += 1\n",
        "            if songs_done % 10000 == 0:\n",
        "                print(songs_done)\n",
        "    updated_playlist_dict[user_id] = updated_songs\n",
        "\n",
        "playlist_dict = updated_playlist_dict"
      ]
    },
    {
      "cell_type": "code",
      "execution_count": 48,
      "metadata": {
        "colab": {
          "base_uri": "https://localhost:8080/"
        },
        "id": "0t8r9EuB1Es4",
        "outputId": "67cc981c-8a1c-469a-83ed-510026487c11"
      },
      "outputs": [],
      "source": [
        "arr = []\n",
        "for user_id, playlist in playlist_dict.items():\n",
        "    arr2 = []\n",
        "    for song in playlist:\n",
        "        arr2.append(np.concatenate((song[0:6], song[7:12])))\n",
        "    arr.append(arr2)\n",
        "\n",
        "arr_np = np.array(arr)"
      ]
    },
    {
      "cell_type": "code",
      "execution_count": 49,
      "metadata": {
        "colab": {
          "base_uri": "https://localhost:8080/",
          "height": 330
        },
        "id": "Q1wUfGNjjire",
        "outputId": "1b26e6b6-f084-4b2e-f834-d726646862a8"
      },
      "outputs": [
        {
          "data": {
            "text/html": [
              "<div>\n",
              "<style scoped>\n",
              "    .dataframe tbody tr th:only-of-type {\n",
              "        vertical-align: middle;\n",
              "    }\n",
              "\n",
              "    .dataframe tbody tr th {\n",
              "        vertical-align: top;\n",
              "    }\n",
              "\n",
              "    .dataframe thead th {\n",
              "        text-align: right;\n",
              "    }\n",
              "</style>\n",
              "<table border=\"1\" class=\"dataframe\">\n",
              "  <thead>\n",
              "    <tr style=\"text-align: right;\">\n",
              "      <th></th>\n",
              "      <th>0</th>\n",
              "      <th>1</th>\n",
              "      <th>2</th>\n",
              "      <th>3</th>\n",
              "      <th>4</th>\n",
              "      <th>5</th>\n",
              "      <th>6</th>\n",
              "      <th>7</th>\n",
              "      <th>8</th>\n",
              "      <th>9</th>\n",
              "      <th>10</th>\n",
              "      <th>11</th>\n",
              "      <th>12</th>\n",
              "      <th>13</th>\n",
              "      <th>14</th>\n",
              "      <th>15</th>\n",
              "      <th>16</th>\n",
              "      <th>17</th>\n",
              "      <th>18</th>\n",
              "      <th>19</th>\n",
              "    </tr>\n",
              "  </thead>\n",
              "  <tbody>\n",
              "    <tr>\n",
              "      <th>0000f88f8d76a238c251450913b0d070e4a77d19</th>\n",
              "      <td>[TRTVXIH128F426625A, Come Round Soon, 0jkVXytW...</td>\n",
              "      <td>[TRWUFEW128F14782F3, Forever My Friend, 0Ev7at...</td>\n",
              "      <td>[TRNXEPE128F9339E47, My Name Is Jonas, 0YU04WS...</td>\n",
              "      <td>[TRMKCCV128F92EB22E, Light On, 1BnoZbPDh9dbYqa...</td>\n",
              "      <td>[TRJGJTH128F4291A81, Oh My God, Whatever, Etc....</td>\n",
              "      <td>[TRFQYFT128F14840BC, Nobody Girl, 2YqjAMK5eeSk...</td>\n",
              "      <td>[TRKSXHR128F1455E4D, Dear Chicago, 2J8P81JjKem...</td>\n",
              "      <td>[TRGJTIY128F4296A0E, All You Need Is Love, 0BW...</td>\n",
              "      <td>[TRZLJOC128F14840BE, Enemy Fire, 13gnIRFWtBQN1...</td>\n",
              "      <td>[TRSMEUG128F14856D2, Within You, 0VRC5T7fDBY1S...</td>\n",
              "      <td>[TRZYESA128F148D67F, Please Do Not Let Me Go, ...</td>\n",
              "      <td>[TRRUNEV128F148D719, Burning Photographs, 2Mco...</td>\n",
              "      <td>[TRDKRLP128F4291A80, Halloweenhead, 04N3X9vfSz...</td>\n",
              "      <td>[TRFTUIW128E0784B9F, Bubble Toes, 1CFwwYZ58s34...</td>\n",
              "      <td>[TRKGCIA128F92C315D, Joe's Head, 0A2BgEzGWU9HB...</td>\n",
              "      <td>[TRFUCYR128F92DC67F, California Waiting, 0txCP...</td>\n",
              "      <td>[TROZZNY128F14782F7, All the Wild Horses, 0FFm...</td>\n",
              "      <td>[TRTWOCA128F14840B8, La Cienega Just Smiled, 0...</td>\n",
              "      <td>[TRQSEMJ128F4294F24, Pearls On A String, 02WVv...</td>\n",
              "      <td>[TRUNKTP12903CD1EFB, Blue Sky, 08SPbOlgCODbnWE...</td>\n",
              "    </tr>\n",
              "    <tr>\n",
              "      <th>0005eb11fd1dad47e6e6719a4db30340073a9e38</th>\n",
              "      <td>[TRGOJNK128F92F2A03, The Technicolor Phase, 27...</td>\n",
              "      <td>[TRQPSHM128F92F29ED, The Airway, 3Cy5wM1kAWdQ3...</td>\n",
              "      <td>[TRTUWMO128F92F2A09, Dear Vienna, 2LBdBoz94BqE...</td>\n",
              "      <td>[TRRNWAK128F92F29FB, Super Honeymoon, 0aMWS9ld...</td>\n",
              "      <td>[TRYEGSH12903CD2DCE, Overboard, 0cfsbkanGUO3yz...</td>\n",
              "      <td>[TRCKWGF12903CD2DCD, Never Let You Go, 7mP4fGw...</td>\n",
              "      <td>[TRNFVQI128F931BAEA, The Saltwater Room, 1eX8F...</td>\n",
              "      <td>[TRTKLFX12903CD2DC2, First Dance, 0OQuXXwwYt2j...</td>\n",
              "      <td>[TRPGPDK12903CCC651, Bring Me To Life, 0rJ8HF2...</td>\n",
              "      <td>[TRJDMHS128F92F2A0C, I'll Meet You There, 2XGM...</td>\n",
              "      <td>[TRLVQME128F931BAF3, Vanilla Twilight, 0hXBVbr...</td>\n",
              "      <td>[TRUGOGT128F92F29E9, Captains and Cruise Ships...</td>\n",
              "      <td>[TRCXWLU128F92F2A0D, This Is The Future, 17jG9...</td>\n",
              "      <td>[TRRVJCK12903CD2DCB, U Smile, 0KDJBhhe2OYnnoJt...</td>\n",
              "      <td>[TRCJAHJ128E07815B6, Stacy's Mom, 0b5Z4MPCgSFm...</td>\n",
              "      <td>[TRPWIGO128F931BAEB, Dental Care, 1IyackM7hvB1...</td>\n",
              "      <td>[TRNEITZ128F92F29EA, Designer Skyline, 30KmLL3...</td>\n",
              "      <td>[TRMIHFS128F92F2A01, Early Birdie, 1TvtrJ6uyfQ...</td>\n",
              "      <td>[TRRLGDR128F933A7C9, Injection, 0it4CBT8IGSbXv...</td>\n",
              "      <td>[TRLNFKN128F931BAF2, The Tip Of The Iceberg, 1...</td>\n",
              "    </tr>\n",
              "    <tr>\n",
              "      <th>000d80cd9b58a8f77b33aa613dcfc5cbf1daf5e8</th>\n",
              "      <td>[TRDYYKS128F4275626, Music Is Happiness, 5eWkK...</td>\n",
              "      <td>[TRBHLYP12903D0D107, 4X4, 21SudxOkg2z2LMBrghl7...</td>\n",
              "      <td>[TRABFDT12903CADD73, Up Up &amp; Away, 0InFAWpnO2z...</td>\n",
              "      <td>[TRLNVSC12903CADD67, Simple As..., 04nE0pNbhPQ...</td>\n",
              "      <td>[TRKOCXI128F9316B54, Harmony One, 1BtLEUri7ROn...</td>\n",
              "      <td>[TRSEFCM128F429354D, Set It Up, 1sF9FiOQivhged...</td>\n",
              "      <td>[TRUWANM128F1485EE2, LDN, 016gjTKLZX8Sgaos4DRq...</td>\n",
              "      <td>[TRXKEMH128F423381D, Superfresh, 0mCoxFFYs0TRZ...</td>\n",
              "      <td>[TREMDON128F427C701, Crimewave (Crystal Castle...</td>\n",
              "      <td>[TRHPKWO128F92E01D5, The Lightning Strike, 1rE...</td>\n",
              "      <td>[TRPONOG128F4275608, The Adjustor, 6sC8fTO6Ja6...</td>\n",
              "      <td>[TRJGDTG128F421CE22, Lights &amp; Music, 0FezhHZVm...</td>\n",
              "      <td>[TROTYPC128E07940AB, Door Peep, 0ceGoYvdbcsRll...</td>\n",
              "      <td>[TRPXIWX128F429831F, One Minute to Midnight, 0...</td>\n",
              "      <td>[TROINZB128F932F740, Crazy in Love, 0klMKiGV38...</td>\n",
              "      <td>[TROUAEG128F429354A, Message Stick, 0jFN4WAx76...</td>\n",
              "      <td>[TRQEBRP12903CADD6C, Sky Might Fall, 2Pq2jkcG8...</td>\n",
              "      <td>[TROTWMO128F42B9238, Iconography, 04gW4W5ziYM3...</td>\n",
              "      <td>[TRJYECB128F4230F29, Second Chances, 1WPZR8Kf1...</td>\n",
              "      <td>[TRJLGXB128F93043EA, Colourful, 21rILkLpA1vsYZ...</td>\n",
              "    </tr>\n",
              "    <tr>\n",
              "      <th>000e9296161b73a1821aaed3d7f50d95e8665bf6</th>\n",
              "      <td>[TROPEIV128F428F5A8, Fatal, 5HeBXKvt8Kc9wY7rrk...</td>\n",
              "      <td>[TRIAZQY128F934D58D, El Pueblo Unido, 6M3ONz42...</td>\n",
              "      <td>[TRMKAZB128F92F2F3E, Can't Keep, 08SE6CEP3gjL9...</td>\n",
              "      <td>[TRPHDFT128F92C5A75, So Com Voce, 1f0V4eqYAmy1...</td>\n",
              "      <td>[TRNXBBR128F425ECE3, We Came Along This Road, ...</td>\n",
              "      <td>[TRKPWGR128E078EE06, Where Did You Sleep Last ...</td>\n",
              "      <td>[TRLPOFY128F425ECE8, Darker With the Day, 1PKj...</td>\n",
              "      <td>[TRCHYZB128F425ECE1, The Sorrowful Wife, 3DFrC...</td>\n",
              "      <td>[TRXEAZB128E078EDCE, Something In The Way, 7hh...</td>\n",
              "      <td>[TRFVSOZ128F4281933, I'm Sleeping in a Submari...</td>\n",
              "      <td>[TRDMUWU128E078EDDB, Dumb, 13noTim30TG19L0rg9f...</td>\n",
              "      <td>[TRDRFVY128F4281937, Headlights Look Like Diam...</td>\n",
              "      <td>[TRIPLBA128F427200F, My Moon My Man, 0Bl1KVabX...</td>\n",
              "      <td>[TRJSAID128F934D596, Beautiful Drug, 50t5tH0xK...</td>\n",
              "      <td>[TRMYAYJ128F934D0AF, Until the Morning, 20F3Fc...</td>\n",
              "      <td>[TRWGIOT128F425ECDE, Sweetheart Come, 0pcV8SPE...</td>\n",
              "      <td>[TRLRCIA128F425ECD7, Fifteen Feet of Pure Whit...</td>\n",
              "      <td>[TRIAGDA128F4296176, Recycled Air, 0k0UEpGDB2x...</td>\n",
              "      <td>[TRIDPWO128F423DBC6, Faust Arp, 5SdmtFbNOD7Qej...</td>\n",
              "      <td>[TRPFLRB128F14A895D, No Cars Go, 0nev4XL4Y6hrD...</td>\n",
              "    </tr>\n",
              "    <tr>\n",
              "      <th>00100482b3f3074549c751e718c57ed211b35991</th>\n",
              "      <td>[TRSNCIW128F14557BC, Col, 4XZ9hQzKr4hUf2IRzwqx...</td>\n",
              "      <td>[TRJKPFL12903CCE490, A Well Deserved Break, 2t...</td>\n",
              "      <td>[TRWJNEC128E079654F, Part of the Process, 06yd...</td>\n",
              "      <td>[TRACWHF128F14557BB, Enjoy The Wait, 03n4bUnpU...</td>\n",
              "      <td>[TRAZCMI128F14557B9, Howling, 2PFP9QAfVE4cmPuS...</td>\n",
              "      <td>[TRUEXGL128F14557BD, Who Can You Trust?, 3e2UE...</td>\n",
              "      <td>[TREECSZ128F14557BE, Almost Done, 13ccsvjo5S9Q...</td>\n",
              "      <td>[TRUAJOJ128F14557B6, Post Houmous, 0BrSfR3QBDY...</td>\n",
              "      <td>[TRASVEM128E0796553, Trigger Hippie, 0oWC3y01a...</td>\n",
              "      <td>[TROXRVT128E079650A, Aqualung, 0NQEKTasUwXVu03...</td>\n",
              "      <td>[TRZJHGG128E079655A, Never An Easy Way, 1c1KOD...</td>\n",
              "      <td>[TRIXKKQ12903CCE495, Coming Down Gently, 1THrj...</td>\n",
              "      <td>[TRORPWW12903CCE48E, Love Is Rare, 07ZOef7Bqy9...</td>\n",
              "      <td>[TRYIASQ128E079650E, Undress Me Now, 2cZu9PrRr...</td>\n",
              "      <td>[TRDNHAW128F429DB9A, The Ballad of Michael Val...</td>\n",
              "      <td>[TRXYEKR128E079654C, Otherwise, 0NTSwjegwCGXjm...</td>\n",
              "      <td>[TRHZMPR128F42A52CB, Challengers, 33ZcFxD1Ohwj...</td>\n",
              "      <td>[TRXZMLY128E0796512, Public Displays of Affect...</td>\n",
              "      <td>[TRJSQQT128F149F9B4, Street Justice, 0lJRL3H6x...</td>\n",
              "      <td>[TRXCZNS128F428A15E, Next To You, 0rUmVbfsJQzW...</td>\n",
              "    </tr>\n",
              "  </tbody>\n",
              "</table>\n",
              "</div>"
            ],
            "text/plain": [
              "                                                                                         0   \\\n",
              "0000f88f8d76a238c251450913b0d070e4a77d19  [TRTVXIH128F426625A, Come Round Soon, 0jkVXytW...   \n",
              "0005eb11fd1dad47e6e6719a4db30340073a9e38  [TRGOJNK128F92F2A03, The Technicolor Phase, 27...   \n",
              "000d80cd9b58a8f77b33aa613dcfc5cbf1daf5e8  [TRDYYKS128F4275626, Music Is Happiness, 5eWkK...   \n",
              "000e9296161b73a1821aaed3d7f50d95e8665bf6  [TROPEIV128F428F5A8, Fatal, 5HeBXKvt8Kc9wY7rrk...   \n",
              "00100482b3f3074549c751e718c57ed211b35991  [TRSNCIW128F14557BC, Col, 4XZ9hQzKr4hUf2IRzwqx...   \n",
              "\n",
              "                                                                                         1   \\\n",
              "0000f88f8d76a238c251450913b0d070e4a77d19  [TRWUFEW128F14782F3, Forever My Friend, 0Ev7at...   \n",
              "0005eb11fd1dad47e6e6719a4db30340073a9e38  [TRQPSHM128F92F29ED, The Airway, 3Cy5wM1kAWdQ3...   \n",
              "000d80cd9b58a8f77b33aa613dcfc5cbf1daf5e8  [TRBHLYP12903D0D107, 4X4, 21SudxOkg2z2LMBrghl7...   \n",
              "000e9296161b73a1821aaed3d7f50d95e8665bf6  [TRIAZQY128F934D58D, El Pueblo Unido, 6M3ONz42...   \n",
              "00100482b3f3074549c751e718c57ed211b35991  [TRJKPFL12903CCE490, A Well Deserved Break, 2t...   \n",
              "\n",
              "                                                                                         2   \\\n",
              "0000f88f8d76a238c251450913b0d070e4a77d19  [TRNXEPE128F9339E47, My Name Is Jonas, 0YU04WS...   \n",
              "0005eb11fd1dad47e6e6719a4db30340073a9e38  [TRTUWMO128F92F2A09, Dear Vienna, 2LBdBoz94BqE...   \n",
              "000d80cd9b58a8f77b33aa613dcfc5cbf1daf5e8  [TRABFDT12903CADD73, Up Up & Away, 0InFAWpnO2z...   \n",
              "000e9296161b73a1821aaed3d7f50d95e8665bf6  [TRMKAZB128F92F2F3E, Can't Keep, 08SE6CEP3gjL9...   \n",
              "00100482b3f3074549c751e718c57ed211b35991  [TRWJNEC128E079654F, Part of the Process, 06yd...   \n",
              "\n",
              "                                                                                         3   \\\n",
              "0000f88f8d76a238c251450913b0d070e4a77d19  [TRMKCCV128F92EB22E, Light On, 1BnoZbPDh9dbYqa...   \n",
              "0005eb11fd1dad47e6e6719a4db30340073a9e38  [TRRNWAK128F92F29FB, Super Honeymoon, 0aMWS9ld...   \n",
              "000d80cd9b58a8f77b33aa613dcfc5cbf1daf5e8  [TRLNVSC12903CADD67, Simple As..., 04nE0pNbhPQ...   \n",
              "000e9296161b73a1821aaed3d7f50d95e8665bf6  [TRPHDFT128F92C5A75, So Com Voce, 1f0V4eqYAmy1...   \n",
              "00100482b3f3074549c751e718c57ed211b35991  [TRACWHF128F14557BB, Enjoy The Wait, 03n4bUnpU...   \n",
              "\n",
              "                                                                                         4   \\\n",
              "0000f88f8d76a238c251450913b0d070e4a77d19  [TRJGJTH128F4291A81, Oh My God, Whatever, Etc....   \n",
              "0005eb11fd1dad47e6e6719a4db30340073a9e38  [TRYEGSH12903CD2DCE, Overboard, 0cfsbkanGUO3yz...   \n",
              "000d80cd9b58a8f77b33aa613dcfc5cbf1daf5e8  [TRKOCXI128F9316B54, Harmony One, 1BtLEUri7ROn...   \n",
              "000e9296161b73a1821aaed3d7f50d95e8665bf6  [TRNXBBR128F425ECE3, We Came Along This Road, ...   \n",
              "00100482b3f3074549c751e718c57ed211b35991  [TRAZCMI128F14557B9, Howling, 2PFP9QAfVE4cmPuS...   \n",
              "\n",
              "                                                                                         5   \\\n",
              "0000f88f8d76a238c251450913b0d070e4a77d19  [TRFQYFT128F14840BC, Nobody Girl, 2YqjAMK5eeSk...   \n",
              "0005eb11fd1dad47e6e6719a4db30340073a9e38  [TRCKWGF12903CD2DCD, Never Let You Go, 7mP4fGw...   \n",
              "000d80cd9b58a8f77b33aa613dcfc5cbf1daf5e8  [TRSEFCM128F429354D, Set It Up, 1sF9FiOQivhged...   \n",
              "000e9296161b73a1821aaed3d7f50d95e8665bf6  [TRKPWGR128E078EE06, Where Did You Sleep Last ...   \n",
              "00100482b3f3074549c751e718c57ed211b35991  [TRUEXGL128F14557BD, Who Can You Trust?, 3e2UE...   \n",
              "\n",
              "                                                                                         6   \\\n",
              "0000f88f8d76a238c251450913b0d070e4a77d19  [TRKSXHR128F1455E4D, Dear Chicago, 2J8P81JjKem...   \n",
              "0005eb11fd1dad47e6e6719a4db30340073a9e38  [TRNFVQI128F931BAEA, The Saltwater Room, 1eX8F...   \n",
              "000d80cd9b58a8f77b33aa613dcfc5cbf1daf5e8  [TRUWANM128F1485EE2, LDN, 016gjTKLZX8Sgaos4DRq...   \n",
              "000e9296161b73a1821aaed3d7f50d95e8665bf6  [TRLPOFY128F425ECE8, Darker With the Day, 1PKj...   \n",
              "00100482b3f3074549c751e718c57ed211b35991  [TREECSZ128F14557BE, Almost Done, 13ccsvjo5S9Q...   \n",
              "\n",
              "                                                                                         7   \\\n",
              "0000f88f8d76a238c251450913b0d070e4a77d19  [TRGJTIY128F4296A0E, All You Need Is Love, 0BW...   \n",
              "0005eb11fd1dad47e6e6719a4db30340073a9e38  [TRTKLFX12903CD2DC2, First Dance, 0OQuXXwwYt2j...   \n",
              "000d80cd9b58a8f77b33aa613dcfc5cbf1daf5e8  [TRXKEMH128F423381D, Superfresh, 0mCoxFFYs0TRZ...   \n",
              "000e9296161b73a1821aaed3d7f50d95e8665bf6  [TRCHYZB128F425ECE1, The Sorrowful Wife, 3DFrC...   \n",
              "00100482b3f3074549c751e718c57ed211b35991  [TRUAJOJ128F14557B6, Post Houmous, 0BrSfR3QBDY...   \n",
              "\n",
              "                                                                                         8   \\\n",
              "0000f88f8d76a238c251450913b0d070e4a77d19  [TRZLJOC128F14840BE, Enemy Fire, 13gnIRFWtBQN1...   \n",
              "0005eb11fd1dad47e6e6719a4db30340073a9e38  [TRPGPDK12903CCC651, Bring Me To Life, 0rJ8HF2...   \n",
              "000d80cd9b58a8f77b33aa613dcfc5cbf1daf5e8  [TREMDON128F427C701, Crimewave (Crystal Castle...   \n",
              "000e9296161b73a1821aaed3d7f50d95e8665bf6  [TRXEAZB128E078EDCE, Something In The Way, 7hh...   \n",
              "00100482b3f3074549c751e718c57ed211b35991  [TRASVEM128E0796553, Trigger Hippie, 0oWC3y01a...   \n",
              "\n",
              "                                                                                         9   \\\n",
              "0000f88f8d76a238c251450913b0d070e4a77d19  [TRSMEUG128F14856D2, Within You, 0VRC5T7fDBY1S...   \n",
              "0005eb11fd1dad47e6e6719a4db30340073a9e38  [TRJDMHS128F92F2A0C, I'll Meet You There, 2XGM...   \n",
              "000d80cd9b58a8f77b33aa613dcfc5cbf1daf5e8  [TRHPKWO128F92E01D5, The Lightning Strike, 1rE...   \n",
              "000e9296161b73a1821aaed3d7f50d95e8665bf6  [TRFVSOZ128F4281933, I'm Sleeping in a Submari...   \n",
              "00100482b3f3074549c751e718c57ed211b35991  [TROXRVT128E079650A, Aqualung, 0NQEKTasUwXVu03...   \n",
              "\n",
              "                                                                                         10  \\\n",
              "0000f88f8d76a238c251450913b0d070e4a77d19  [TRZYESA128F148D67F, Please Do Not Let Me Go, ...   \n",
              "0005eb11fd1dad47e6e6719a4db30340073a9e38  [TRLVQME128F931BAF3, Vanilla Twilight, 0hXBVbr...   \n",
              "000d80cd9b58a8f77b33aa613dcfc5cbf1daf5e8  [TRPONOG128F4275608, The Adjustor, 6sC8fTO6Ja6...   \n",
              "000e9296161b73a1821aaed3d7f50d95e8665bf6  [TRDMUWU128E078EDDB, Dumb, 13noTim30TG19L0rg9f...   \n",
              "00100482b3f3074549c751e718c57ed211b35991  [TRZJHGG128E079655A, Never An Easy Way, 1c1KOD...   \n",
              "\n",
              "                                                                                         11  \\\n",
              "0000f88f8d76a238c251450913b0d070e4a77d19  [TRRUNEV128F148D719, Burning Photographs, 2Mco...   \n",
              "0005eb11fd1dad47e6e6719a4db30340073a9e38  [TRUGOGT128F92F29E9, Captains and Cruise Ships...   \n",
              "000d80cd9b58a8f77b33aa613dcfc5cbf1daf5e8  [TRJGDTG128F421CE22, Lights & Music, 0FezhHZVm...   \n",
              "000e9296161b73a1821aaed3d7f50d95e8665bf6  [TRDRFVY128F4281937, Headlights Look Like Diam...   \n",
              "00100482b3f3074549c751e718c57ed211b35991  [TRIXKKQ12903CCE495, Coming Down Gently, 1THrj...   \n",
              "\n",
              "                                                                                         12  \\\n",
              "0000f88f8d76a238c251450913b0d070e4a77d19  [TRDKRLP128F4291A80, Halloweenhead, 04N3X9vfSz...   \n",
              "0005eb11fd1dad47e6e6719a4db30340073a9e38  [TRCXWLU128F92F2A0D, This Is The Future, 17jG9...   \n",
              "000d80cd9b58a8f77b33aa613dcfc5cbf1daf5e8  [TROTYPC128E07940AB, Door Peep, 0ceGoYvdbcsRll...   \n",
              "000e9296161b73a1821aaed3d7f50d95e8665bf6  [TRIPLBA128F427200F, My Moon My Man, 0Bl1KVabX...   \n",
              "00100482b3f3074549c751e718c57ed211b35991  [TRORPWW12903CCE48E, Love Is Rare, 07ZOef7Bqy9...   \n",
              "\n",
              "                                                                                         13  \\\n",
              "0000f88f8d76a238c251450913b0d070e4a77d19  [TRFTUIW128E0784B9F, Bubble Toes, 1CFwwYZ58s34...   \n",
              "0005eb11fd1dad47e6e6719a4db30340073a9e38  [TRRVJCK12903CD2DCB, U Smile, 0KDJBhhe2OYnnoJt...   \n",
              "000d80cd9b58a8f77b33aa613dcfc5cbf1daf5e8  [TRPXIWX128F429831F, One Minute to Midnight, 0...   \n",
              "000e9296161b73a1821aaed3d7f50d95e8665bf6  [TRJSAID128F934D596, Beautiful Drug, 50t5tH0xK...   \n",
              "00100482b3f3074549c751e718c57ed211b35991  [TRYIASQ128E079650E, Undress Me Now, 2cZu9PrRr...   \n",
              "\n",
              "                                                                                         14  \\\n",
              "0000f88f8d76a238c251450913b0d070e4a77d19  [TRKGCIA128F92C315D, Joe's Head, 0A2BgEzGWU9HB...   \n",
              "0005eb11fd1dad47e6e6719a4db30340073a9e38  [TRCJAHJ128E07815B6, Stacy's Mom, 0b5Z4MPCgSFm...   \n",
              "000d80cd9b58a8f77b33aa613dcfc5cbf1daf5e8  [TROINZB128F932F740, Crazy in Love, 0klMKiGV38...   \n",
              "000e9296161b73a1821aaed3d7f50d95e8665bf6  [TRMYAYJ128F934D0AF, Until the Morning, 20F3Fc...   \n",
              "00100482b3f3074549c751e718c57ed211b35991  [TRDNHAW128F429DB9A, The Ballad of Michael Val...   \n",
              "\n",
              "                                                                                         15  \\\n",
              "0000f88f8d76a238c251450913b0d070e4a77d19  [TRFUCYR128F92DC67F, California Waiting, 0txCP...   \n",
              "0005eb11fd1dad47e6e6719a4db30340073a9e38  [TRPWIGO128F931BAEB, Dental Care, 1IyackM7hvB1...   \n",
              "000d80cd9b58a8f77b33aa613dcfc5cbf1daf5e8  [TROUAEG128F429354A, Message Stick, 0jFN4WAx76...   \n",
              "000e9296161b73a1821aaed3d7f50d95e8665bf6  [TRWGIOT128F425ECDE, Sweetheart Come, 0pcV8SPE...   \n",
              "00100482b3f3074549c751e718c57ed211b35991  [TRXYEKR128E079654C, Otherwise, 0NTSwjegwCGXjm...   \n",
              "\n",
              "                                                                                         16  \\\n",
              "0000f88f8d76a238c251450913b0d070e4a77d19  [TROZZNY128F14782F7, All the Wild Horses, 0FFm...   \n",
              "0005eb11fd1dad47e6e6719a4db30340073a9e38  [TRNEITZ128F92F29EA, Designer Skyline, 30KmLL3...   \n",
              "000d80cd9b58a8f77b33aa613dcfc5cbf1daf5e8  [TRQEBRP12903CADD6C, Sky Might Fall, 2Pq2jkcG8...   \n",
              "000e9296161b73a1821aaed3d7f50d95e8665bf6  [TRLRCIA128F425ECD7, Fifteen Feet of Pure Whit...   \n",
              "00100482b3f3074549c751e718c57ed211b35991  [TRHZMPR128F42A52CB, Challengers, 33ZcFxD1Ohwj...   \n",
              "\n",
              "                                                                                         17  \\\n",
              "0000f88f8d76a238c251450913b0d070e4a77d19  [TRTWOCA128F14840B8, La Cienega Just Smiled, 0...   \n",
              "0005eb11fd1dad47e6e6719a4db30340073a9e38  [TRMIHFS128F92F2A01, Early Birdie, 1TvtrJ6uyfQ...   \n",
              "000d80cd9b58a8f77b33aa613dcfc5cbf1daf5e8  [TROTWMO128F42B9238, Iconography, 04gW4W5ziYM3...   \n",
              "000e9296161b73a1821aaed3d7f50d95e8665bf6  [TRIAGDA128F4296176, Recycled Air, 0k0UEpGDB2x...   \n",
              "00100482b3f3074549c751e718c57ed211b35991  [TRXZMLY128E0796512, Public Displays of Affect...   \n",
              "\n",
              "                                                                                         18  \\\n",
              "0000f88f8d76a238c251450913b0d070e4a77d19  [TRQSEMJ128F4294F24, Pearls On A String, 02WVv...   \n",
              "0005eb11fd1dad47e6e6719a4db30340073a9e38  [TRRLGDR128F933A7C9, Injection, 0it4CBT8IGSbXv...   \n",
              "000d80cd9b58a8f77b33aa613dcfc5cbf1daf5e8  [TRJYECB128F4230F29, Second Chances, 1WPZR8Kf1...   \n",
              "000e9296161b73a1821aaed3d7f50d95e8665bf6  [TRIDPWO128F423DBC6, Faust Arp, 5SdmtFbNOD7Qej...   \n",
              "00100482b3f3074549c751e718c57ed211b35991  [TRJSQQT128F149F9B4, Street Justice, 0lJRL3H6x...   \n",
              "\n",
              "                                                                                         19  \n",
              "0000f88f8d76a238c251450913b0d070e4a77d19  [TRUNKTP12903CD1EFB, Blue Sky, 08SPbOlgCODbnWE...  \n",
              "0005eb11fd1dad47e6e6719a4db30340073a9e38  [TRLNFKN128F931BAF2, The Tip Of The Iceberg, 1...  \n",
              "000d80cd9b58a8f77b33aa613dcfc5cbf1daf5e8  [TRJLGXB128F93043EA, Colourful, 21rILkLpA1vsYZ...  \n",
              "000e9296161b73a1821aaed3d7f50d95e8665bf6  [TRPFLRB128F14A895D, No Cars Go, 0nev4XL4Y6hrD...  \n",
              "00100482b3f3074549c751e718c57ed211b35991  [TRXCZNS128F428A15E, Next To You, 0rUmVbfsJQzW...  "
            ]
          },
          "execution_count": 49,
          "metadata": {},
          "output_type": "execute_result"
        }
      ],
      "source": [
        "playlists = pd.DataFrame.from_dict(playlist_dict, orient='index')\n",
        "playlists.head()"
      ]
    },
    {
      "cell_type": "markdown",
      "metadata": {
        "id": "m0J-pvQ8E9zp"
      },
      "source": [
        "### Train and Test Split"
      ]
    },
    {
      "cell_type": "code",
      "execution_count": 50,
      "metadata": {
        "id": "FslzeUXKE8Sx"
      },
      "outputs": [],
      "source": [
        "# Train and test splits for playlist\n",
        "X = arr_np[:,:-1,:]\n",
        "Y = arr_np[:,1:,:]\n",
        "x_train, x_val, y_train, y_val = train_test_split(X,Y,train_size=0.9,random_state=3000)\n",
        "x_train, x_test, y_train, y_test = train_test_split(x_train,y_train,train_size=0.9,random_state=3000)\n"
      ]
    },
    {
      "cell_type": "code",
      "execution_count": 51,
      "metadata": {},
      "outputs": [
        {
          "name": "stdout",
          "output_type": "stream",
          "text": [
            "19\n"
          ]
        }
      ],
      "source": [
        "print(len(x_train[0]))"
      ]
    },
    {
      "cell_type": "code",
      "execution_count": 52,
      "metadata": {
        "id": "vtZ20haq9MhU"
      },
      "outputs": [],
      "source": [
        "# Original Playlists\n",
        "ops_x_train, ops_y_train, ops_x_val, ops_y_val, ops_x_test, ops_y_test = [], [], [], [], [], []\n",
        "\n",
        "# This only works based on size if val and test sets switch in size switch them in these loops\n",
        "for user in range(np.ma.size(x_train, axis=0)):\n",
        "    names_x_train, names_y_train, names_x_val, names_y_val, names_x_test, names_y_test = [], [], [], [], [], []\n",
        "    for song in range(np.ma.size(x_train, axis=1)):\n",
        "        names_x_train.append(x_train[user, song, 0:3])\n",
        "        names_y_train.append(y_train[user, song, 0:3])\n",
        "        try:\n",
        "            names_x_val.append(x_val[user, song, 0:3])\n",
        "            names_y_val.append(y_val[user, song, 0:3])\n",
        "        except IndexError:\n",
        "            continue\n",
        "        try:\n",
        "            names_x_test.append(x_test[user, song, 0:3])\n",
        "            names_y_test.append(y_test[user, song, 0:3])\n",
        "        except IndexError:\n",
        "            continue\n",
        "\n",
        "    ops_x_train.append(names_x_train)\n",
        "    ops_y_train.append(names_y_train)\n",
        "    if not names_x_val:\n",
        "        continue\n",
        "    ops_x_val.append(names_x_val)\n",
        "    ops_y_val.append(names_y_val)\n",
        "    if not names_x_test:\n",
        "        continue\n",
        "    ops_x_test.append(names_x_test)\n",
        "    ops_y_test.append(names_y_test)\n",
        "x_train = x_train[:, :, 3:].astype(np.float64)\n",
        "y_train = y_train[:, :, 3:].astype(np.float64)\n",
        "x_val = x_val[:, :, 3:].astype(np.float64)\n",
        "y_val = y_val[:, :, 3:].astype(np.float64)\n",
        "x_test = x_test[:, :, 3:].astype(np.float64)\n",
        "y_test = y_test[:, :, 3:].astype(np.float64)"
      ]
    },
    {
      "cell_type": "markdown",
      "metadata": {
        "id": "kBA1aMtbOTYj"
      },
      "source": [
        "### Define the Model"
      ]
    },
    {
      "cell_type": "code",
      "execution_count": 53,
      "metadata": {
        "id": "5i9wr7CXFV5-"
      },
      "outputs": [
        {
          "name": "stdout",
          "output_type": "stream",
          "text": [
            "using saved model\n"
          ]
        }
      ],
      "source": [
        "if os.path.exists('misc/mae_optimized_model.keras'):\n",
        "    print(\"using saved model\")\n",
        "    model = load_model('misc/mae_optimized_model.keras')\n",
        "else:\n",
        "    print(\"training model\")\n",
        "    model = Sequential()\n",
        "    model.add(Input(shape=(None,8)))\n",
        "    model.add(SimpleRNN(\n",
        "        16,\n",
        "        activation='linear',\n",
        "        return_sequences=True,\n",
        "        kernel_initializer='random_uniform',\n",
        "    ))\n",
        "    model.add(SimpleRNN(\n",
        "        16,\n",
        "        activation='linear',\n",
        "        return_sequences=True,\n",
        "        kernel_initializer='random_uniform',\n",
        "    ))\n",
        "    model.add(Dense(8, activation='linear', kernel_initializer='random_uniform',))\n",
        "    device = torch.device(\"cuda:0\" if torch.cuda.is_available() else \"cpu\")\n",
        "    print(torch.cuda.get_device_name(0))\n",
        "    \n",
        "    model.compile(loss='mae', optimizer='adam')\n",
        "    model.fit(x_train, y_train, epochs=10, batch_size=32, validation_data=(x_val, y_val))\n",
        "    model.save('misc/mae_optimized_model.keras')"
      ]
    },
    {
      "cell_type": "code",
      "execution_count": 54,
      "metadata": {
        "id": "2t05B8D1uq3I"
      },
      "outputs": [],
      "source": [
        "mae_optimized_model_adam = model"
      ]
    },
    {
      "cell_type": "code",
      "execution_count": 55,
      "metadata": {
        "id": "Z5TojMv4PwJX"
      },
      "outputs": [],
      "source": [
        "def predict_sample(sample,model):\n",
        "    return (model.predict(np.array([sample]))) #[0,-1]"
      ]
    },
    {
      "cell_type": "markdown",
      "metadata": {
        "id": "dXcH3VfPP_2I"
      },
      "source": [
        "### Run RNN"
      ]
    },
    {
      "cell_type": "code",
      "execution_count": 65,
      "metadata": {
        "colab": {
          "base_uri": "https://localhost:8080/"
        },
        "id": "EUMhBftWQErx",
        "outputId": "6f3130db-49be-48b8-ce16-0aa2b6d41a07"
      },
      "outputs": [
        {
          "name": "stdout",
          "output_type": "stream",
          "text": [
            "Selecting a random index in our test dataset: \n",
            "\u001b[1m1/1\u001b[0m \u001b[32m━━━━━━━━━━━━━━━━━━━━\u001b[0m\u001b[37m\u001b[0m \u001b[1m0s\u001b[0m 25ms/step\n",
            "1715\n",
            "Input: \n",
            "[[ 6.4100e-01  6.0700e-01 -1.0082e+01  2.5200e-02  9.1900e-02  2.0400e-05\n",
            "   1.2400e-01  9.4600e-01]\n",
            " [ 5.8900e-01  5.3600e-01 -7.8700e+00  2.5000e-02  5.1800e-01  4.7700e-02\n",
            "   1.1900e-01  5.7300e-01]\n",
            " [ 4.9100e-01  9.6000e-01 -5.9370e+00  4.5800e-02  2.7100e-02  3.5800e-03\n",
            "   8.7000e-02  9.0900e-01]\n",
            " [ 6.2100e-01  4.2400e-01 -9.9940e+00  2.8400e-02  3.1800e-02  2.7600e-01\n",
            "   9.9100e-02  5.5300e-01]\n",
            " [ 5.1700e-01  5.1100e-01 -8.1910e+00  3.3900e-02  1.9000e-01  8.2700e-03\n",
            "   1.4000e-01  1.7900e-01]]\n",
            "\n",
            " Output: \n",
            "[ 5.3903645e-01  5.5294120e-01 -7.9529691e+00  3.7033804e-02\n",
            "  1.8946734e-01  4.6870764e-03  1.2867567e-01  4.6359539e-01]\n"
          ]
        }
      ],
      "source": [
        "print('Selecting a random index in our test dataset: ')\n",
        "# random_index = random.randint(0,len(x_test)-1)\n",
        "random_index = random.randint(0,len(x_test)-1)\n",
        "# print(x_test[random_index, :5, :])\n",
        "x_test_subset = x_test[random_index, :, :]\n",
        "# for test in x_test_subset:\n",
        "predicted = predict_sample(x_test_subset, mae_optimized_model_adam)\n",
        "print(random_index)\n",
        "\n",
        "print('Input: ')\n",
        "print(x_test[random_index])\n",
        "# print(x_test[random_index, :5, :])\n",
        "\n",
        "print('\\n','Output: ')\n",
        "# for i in range(0, x_test[10]):\n",
        "# predicted = predict_sample(x_test, mae_optimized_model_adam)\n",
        "print(predicted)"
      ]
    },
    {
      "cell_type": "code",
      "execution_count": 114,
      "metadata": {
        "colab": {
          "base_uri": "https://localhost:8080/",
          "height": 206
        },
        "id": "TVvuK3Ah9MhW",
        "outputId": "95feb791-01e0-4d22-dfb3-713724f18a59"
      },
      "outputs": [
        {
          "data": {
            "text/html": [
              "<div>\n",
              "<style scoped>\n",
              "    .dataframe tbody tr th:only-of-type {\n",
              "        vertical-align: middle;\n",
              "    }\n",
              "\n",
              "    .dataframe tbody tr th {\n",
              "        vertical-align: top;\n",
              "    }\n",
              "\n",
              "    .dataframe thead th {\n",
              "        text-align: right;\n",
              "    }\n",
              "</style>\n",
              "<table border=\"1\" class=\"dataframe\">\n",
              "  <thead>\n",
              "    <tr style=\"text-align: right;\">\n",
              "      <th></th>\n",
              "      <th>track_id</th>\n",
              "      <th>name</th>\n",
              "      <th>spotify_id</th>\n",
              "      <th>danceability</th>\n",
              "      <th>energy</th>\n",
              "      <th>loudness</th>\n",
              "      <th>speechiness</th>\n",
              "      <th>acousticness</th>\n",
              "      <th>instrumentalness</th>\n",
              "      <th>liveness</th>\n",
              "      <th>valence</th>\n",
              "    </tr>\n",
              "  </thead>\n",
              "  <tbody>\n",
              "    <tr>\n",
              "      <th>0</th>\n",
              "      <td>TRIOREW128F424EAF0</td>\n",
              "      <td>Mr. Brightside</td>\n",
              "      <td>09ZQ5TmUG8TSL56n0knqrj</td>\n",
              "      <td>0.355</td>\n",
              "      <td>0.918</td>\n",
              "      <td>-4.360</td>\n",
              "      <td>0.0746</td>\n",
              "      <td>0.001190</td>\n",
              "      <td>0.000000</td>\n",
              "      <td>0.0971</td>\n",
              "      <td>0.240</td>\n",
              "    </tr>\n",
              "    <tr>\n",
              "      <th>1</th>\n",
              "      <td>TRRIVDJ128F429B0E8</td>\n",
              "      <td>Wonderwall</td>\n",
              "      <td>06UfBBDISthj1ZJAtX4xjj</td>\n",
              "      <td>0.409</td>\n",
              "      <td>0.892</td>\n",
              "      <td>-4.373</td>\n",
              "      <td>0.0336</td>\n",
              "      <td>0.000807</td>\n",
              "      <td>0.000000</td>\n",
              "      <td>0.2070</td>\n",
              "      <td>0.651</td>\n",
              "    </tr>\n",
              "    <tr>\n",
              "      <th>2</th>\n",
              "      <td>TROUVHL128F426C441</td>\n",
              "      <td>Come as You Are</td>\n",
              "      <td>0keNu0t0tqsWtExGM3nT1D</td>\n",
              "      <td>0.508</td>\n",
              "      <td>0.826</td>\n",
              "      <td>-5.783</td>\n",
              "      <td>0.0400</td>\n",
              "      <td>0.000175</td>\n",
              "      <td>0.000459</td>\n",
              "      <td>0.0878</td>\n",
              "      <td>0.543</td>\n",
              "    </tr>\n",
              "    <tr>\n",
              "      <th>3</th>\n",
              "      <td>TRUEIND128F93038C4</td>\n",
              "      <td>Take Me Out</td>\n",
              "      <td>0ancVQ9wEcHVd0RrGICTE4</td>\n",
              "      <td>0.279</td>\n",
              "      <td>0.664</td>\n",
              "      <td>-8.851</td>\n",
              "      <td>0.0371</td>\n",
              "      <td>0.000389</td>\n",
              "      <td>0.000655</td>\n",
              "      <td>0.1330</td>\n",
              "      <td>0.490</td>\n",
              "    </tr>\n",
              "    <tr>\n",
              "      <th>4</th>\n",
              "      <td>TRLNZBD128F935E4D8</td>\n",
              "      <td>Creep</td>\n",
              "      <td>01QoK9DA7VTeTSE3MNzp4I</td>\n",
              "      <td>0.515</td>\n",
              "      <td>0.430</td>\n",
              "      <td>-9.935</td>\n",
              "      <td>0.0369</td>\n",
              "      <td>0.010200</td>\n",
              "      <td>0.000141</td>\n",
              "      <td>0.1290</td>\n",
              "      <td>0.104</td>\n",
              "    </tr>\n",
              "  </tbody>\n",
              "</table>\n",
              "</div>"
            ],
            "text/plain": [
              "             track_id             name              spotify_id  danceability  \\\n",
              "0  TRIOREW128F424EAF0   Mr. Brightside  09ZQ5TmUG8TSL56n0knqrj         0.355   \n",
              "1  TRRIVDJ128F429B0E8       Wonderwall  06UfBBDISthj1ZJAtX4xjj         0.409   \n",
              "2  TROUVHL128F426C441  Come as You Are  0keNu0t0tqsWtExGM3nT1D         0.508   \n",
              "3  TRUEIND128F93038C4      Take Me Out  0ancVQ9wEcHVd0RrGICTE4         0.279   \n",
              "4  TRLNZBD128F935E4D8            Creep  01QoK9DA7VTeTSE3MNzp4I         0.515   \n",
              "\n",
              "   energy  loudness  speechiness  acousticness  instrumentalness  liveness  \\\n",
              "0   0.918    -4.360       0.0746      0.001190          0.000000    0.0971   \n",
              "1   0.892    -4.373       0.0336      0.000807          0.000000    0.2070   \n",
              "2   0.826    -5.783       0.0400      0.000175          0.000459    0.0878   \n",
              "3   0.664    -8.851       0.0371      0.000389          0.000655    0.1330   \n",
              "4   0.430    -9.935       0.0369      0.010200          0.000141    0.1290   \n",
              "\n",
              "   valence  \n",
              "0    0.240  \n",
              "1    0.651  \n",
              "2    0.543  \n",
              "3    0.490  \n",
              "4    0.104  "
            ]
          },
          "execution_count": 114,
          "metadata": {},
          "output_type": "execute_result"
        }
      ],
      "source": [
        "distance_frame = song_features_data.drop(['artist','tags','tempo','duration_mins','mode'], axis=1)\n",
        "distance_frame.head()"
      ]
    },
    {
      "cell_type": "code",
      "execution_count": 115,
      "metadata": {
        "colab": {
          "base_uri": "https://localhost:8080/"
        },
        "id": "FWxHUaRZ9Mhb",
        "outputId": "0807dca9-e2fd-4a5c-c395-a09e8d12920b"
      },
      "outputs": [
        {
          "data": {
            "text/plain": [
              "50683"
            ]
          },
          "execution_count": 115,
          "metadata": {},
          "output_type": "execute_result"
        }
      ],
      "source": [
        "distance_frame.drop_duplicates(subset='track_id', keep='first', inplace=True)\n",
        "distance_frame.track_id.nunique()"
      ]
    },
    {
      "cell_type": "code",
      "execution_count": 116,
      "metadata": {
        "id": "cr_z6inG9Mhb"
      },
      "outputs": [],
      "source": [
        "def get_distances(data, p_vector):\n",
        "    names = data['name']\n",
        "    distance_frame = data.drop(['name', 'spotify_id'], axis=1)\n",
        "    distance_dict = distance_frame.set_index(['track_id']).to_dict('index')\n",
        "    for key in distance_dict:\n",
        "        distance_dict[key] = list(distance_dict[key].values())\n",
        "    distance_dict = distance_calc(distance_dict, p_vector, names)\n",
        "    return pd.DataFrame.from_dict(distance_dict, orient='index', columns=['id', 'distance'])\n",
        "\n",
        "def distance_calc(dict, v1, name_list):\n",
        "    distances = {}\n",
        "    i = 0\n",
        "    name_list = name_list.to_list()\n",
        "    for id in dict.keys():\n",
        "        v2 = dict[id]\n",
        "        value = 0.0\n",
        "        for n in range(len(v1)):\n",
        "            value += np.linalg.norm(v1[n] - v2[n])\n",
        "        distances[name_list[i]] = (id, value)\n",
        "        i += 1\n",
        "    return distances\n",
        "\n",
        "distance_frame2 = get_distances(distance_frame, predicted)\n"
      ]
    },
    {
      "cell_type": "code",
      "execution_count": 117,
      "metadata": {
        "colab": {
          "base_uri": "https://localhost:8080/",
          "height": 693
        },
        "id": "q7kNPAGv9Mhb",
        "outputId": "f29ac793-2229-4fbb-b38e-950c991739b3"
      },
      "outputs": [
        {
          "name": "stdout",
          "output_type": "stream",
          "text": [
            "(50, 2)\n"
          ]
        }
      ],
      "source": [
        "POTENTIAL_N = 50 #defines size\n",
        "\n",
        "potential_songs = distance_frame2.nsmallest(POTENTIAL_N, columns='distance', keep='all')\n",
        "print(potential_songs.shape)"
      ]
    },
    {
      "cell_type": "code",
      "execution_count": 118,
      "metadata": {
        "colab": {
          "base_uri": "https://localhost:8080/"
        },
        "id": "Dwep2SBu9Mhc",
        "outputId": "62b0b115-c320-4c09-ae65-525003eea2ee"
      },
      "outputs": [
        {
          "name": "stdout",
          "output_type": "stream",
          "text": [
            "[[['TRAVRKY128F429EA68' 'Loose Translation' '5Qu79Xa89JOQyZgMKWYtRk']\n",
            "  ['TRBJRZH128F429EA62' 'The Electric Version' '1n0tppeA8MEOVtckhUMnmL']\n",
            "  ['TRNJLKP128F427CE28' 'Aerodynamic' '168MSP7Cpz7uKGt5Qd9F16']\n",
            "  ...\n",
            "  ['TRHRFIN128F425DEF1' '4th Dimensional Transition'\n",
            "   '14Hlfk7LY4TOw450LaVteS']\n",
            "  ['TRFUIGN128F92FE2C4' 'Sea Song' '0uoM5QDvJBPu6MGrtbw0gP']\n",
            "  ['TRAALAH128E078234A' 'Bitter Sweet Symphony' '0jLnevC3Vn34qVWrAa4X6x']]\n",
            "\n",
            " [['TRVANOX128F92FA7F4' 'Kindly Unspoken' '2OjvaNkWd0WMJSXybZcSN3']\n",
            "  ['TRGCHLH12903CB7352' 'Party In The U.S.A.' '0bz2Uy1KE7bNGsGQU9pZrU']\n",
            "  ['TRAGSGF128E0780CA7' 'One I Love' '5YahO7aySL2lyj6DW2tS9q']\n",
            "  ...\n",
            "  ['TRKJYHD128F931FB01' 'Gonna Get Caught' '3Ep2KFN6dNTJOiq2chORs2']\n",
            "  ['TRARMHA128F92E7D32' \"I'm Not a Loser\" '1lpQGVYtbGHCGlFbwKI7yE']\n",
            "  ['TRZALGW128F4296174' 'Nothing Better' '5innFMtY3a7f2PvUZsfCWQ']]\n",
            "\n",
            " [['TRBCALP128F933905E' 'Brooklyn Bound' '3Ui3JTqJosT2MqvC9UBLwW']\n",
            "  ['TREYXVK12903CB4503' 'The Desperate Man' '22B5LxWF4DIjwhlyQq5qOl']\n",
            "  ['TRIEBEZ128F9340B0B' \"Just Couldn't Tie Me Down\"\n",
            "   '0oFyAxKySAiopcf7ONngxA']\n",
            "  ...\n",
            "  ['TRCDCYO128F4276DF3' \"Ain't Wastin' Time No More\"\n",
            "   '0BSJiicnQtDB4tMMYCfNDB']\n",
            "  ['TRSIDGD128F92E3334' 'Soul Singing' '00xZWfZIuZITPBnBRnZJ0m']\n",
            "  ['TRDFBPD12903CA9CF3' 'Your Touch' '1ot8juPYjJZMRVVJuNKvl8']]\n",
            "\n",
            " ...\n",
            "\n",
            " [['TRRGKHJ128F92F64DA' 'Wake Up Alone' '0Ekcj8E3l9na7G5lXwRHM1']\n",
            "  ['TROKFWT128F1461F0B' 'We Danced Anyway' '0uxkdxYnM9j4pPVgYZgWhT']\n",
            "  ['TRCPXID128F92D5D3C' 'Halo' '0Ti7ZxvgWq74Ls56vYP3Ov']\n",
            "  ...\n",
            "  ['TRDHBPQ128F425EA1E' 'Bleeding Love' '00rjh2BKthoILRIEV7lJ65']\n",
            "  ['TRERUDZ128F1465259' 'Keep It Loose, Keep It Tight'\n",
            "   '3aHtYD4JFIoxLhQu0Jo5Bx']\n",
            "  ['TRQTFUV128F426BFC7' \"Must Be Doin' Somethin' Right\"\n",
            "   '011IpMbLIddCWJoBZm7ISt']]\n",
            "\n",
            " [['TRMAQWJ128F427EC70' 'Bury Me With It' '07oylHqeWc0nveqUebEvOm']\n",
            "  ['TRBCOXO128F93586BB' 'Chac Mool' '03gezS0ZUd1EP7LpnqFn8C']\n",
            "  ['TRBDCVK128F4234243' 'Gunpowder' '0EQynTyzzOSrxUoEhzDEWD']\n",
            "  ...\n",
            "  ['TRJHTBA128F93586B1' 'Triveni' '0doSkjprUJWe86NZt7N5kP']\n",
            "  ['TRCVJRD128F93586B7' 'Savitri' '0Cvsn2DTJjbWU3NoGb4Etv']\n",
            "  ['TRBLOBX128F423EC8D' 'Darkness Before Dawn' '09lbumLoZS0T3cWOWwEmfF']]\n",
            "\n",
            " [['TRZNGII128C7196554' 'You Sent Me Flying / Cherry'\n",
            "   '1XrXgEAB61XOytKANGfeA5']\n",
            "  ['TRZIVHZ128F1465262' 'Soul Suckers' '1NjixXlQH1YhV4s5c3kBeN']\n",
            "  ['TRAECHJ12903CC36DA' 'Next Girl' '0LMbqdeLFpQXhjC5mMVfdr']\n",
            "  ...\n",
            "  ['TRSZPYT128EF351C53' 'Happiness By The Kilowatt'\n",
            "   '0oN33dlI6ikPYQpgVtRa2L']\n",
            "  ['TRMZPXZ128F92F3495' 'Angel From Montgomery' '07lbb0Ve9LNKv4ifj5E8q8']\n",
            "  ['TRONYHY128F92C9D11' 'Revelry' '039Q3UlFQ6kavVIZHpO4mL']]]\n"
          ]
        }
      ],
      "source": [
        "test_playlists = np.asarray(ops_x_test)\n",
        "print(test_playlists)"
      ]
    },
    {
      "cell_type": "code",
      "execution_count": 119,
      "metadata": {},
      "outputs": [
        {
          "name": "stdout",
          "output_type": "stream",
          "text": [
            "[array(['TRAVRKY128F429EA68', 'Loose Translation',\n",
            "       '5Qu79Xa89JOQyZgMKWYtRk'], dtype='<U109'), array(['TRBJRZH128F429EA62', 'The Electric Version',\n",
            "       '1n0tppeA8MEOVtckhUMnmL'], dtype='<U109'), array(['TRNJLKP128F427CE28', 'Aerodynamic', '168MSP7Cpz7uKGt5Qd9F16'],\n",
            "      dtype='<U109'), array(['TRAEUFF128F424EAAF', \"I've Underestimated My Charm (Again)\",\n",
            "       '0gv6qCVLKKRIFaR4OC3cGh'], dtype='<U109'), array(['TRRYMIR128F9354778', 'Via con me', '053MPrQZlf9X4KYmcJ4vsd'],\n",
            "      dtype='<U109'), array(['TRMGOFF128F1458362', 'Wild Frontier', '0mBdiyULKljvBLVsrS6gfp'],\n",
            "      dtype='<U109'), array(['TRDJQLI128E07917C7', \"Rikki Don't Lose That Number\",\n",
            "       '028NYvJAD47k4iGSlpT2zy'], dtype='<U109'), array(['TRYATJD128F92FDB02', 'Hazy Shade Of Winter',\n",
            "       '0AJTCza5wu1jZ6aWNoZXRT'], dtype='<U109'), array(['TRXAVEU128E078D3CD', 'Oh, Goddamnit', '1KF1b9bbBYImNnC3YO2GG4'],\n",
            "      dtype='<U109'), array(['TRAFUNV128F92CFEB2', 'MIA', '2hxweZgog2IrkKP86KGATI'],\n",
            "      dtype='<U109'), array(['TRSSQIX128F4226B55', 'My Friend Dario', '1cOCuk6LQyrELA3hfHoams'],\n",
            "      dtype='<U109'), array(['TRISTWT128F1488FBB', 'High Life', '098ttCNmncrO4YvqWUNMvn'],\n",
            "      dtype='<U109'), array(['TRQWUUG128F1485DAB', \"Don't Know What You Got (Till It's Gone)\",\n",
            "       '02inbOlZndnAM99BeRvxd9'], dtype='<U109'), array(['TRIPSQP12903CE450C', \"Lady Dada's Nightmare\",\n",
            "       '0XwfkoJnGpRw7y3s0fWxaO'], dtype='<U109'), array(['TRCESGY128E0780E09', 'Breakthru', '0PesritaDvkWORoHQJmP3z'],\n",
            "      dtype='<U109'), array(['TRNQUIT128F428A0BD', \"Time Won't Let Me Go\",\n",
            "       '12d7zOCGENeo5v2XF295sA'], dtype='<U109'), array(['TRHRFIN128F425DEF1', '4th Dimensional Transition',\n",
            "       '14Hlfk7LY4TOw450LaVteS'], dtype='<U109'), array(['TRFUIGN128F92FE2C4', 'Sea Song', '0uoM5QDvJBPu6MGrtbw0gP'],\n",
            "      dtype='<U109'), array(['TRAALAH128E078234A', 'Bitter Sweet Symphony',\n",
            "       '0jLnevC3Vn34qVWrAa4X6x'], dtype='<U109')]\n"
          ]
        }
      ],
      "source": [
        "print(ops_x_test[0])"
      ]
    },
    {
      "cell_type": "code",
      "execution_count": 120,
      "metadata": {},
      "outputs": [],
      "source": [
        "lyrics_embeddings_csv = pd.read_csv('misc/lyrics_embeddings.csv')\n",
        "lyrics_embeddings_3d_csv = pd.read_csv('misc/lyrics_embeddings_3d.csv')"
      ]
    },
    {
      "cell_type": "code",
      "execution_count": 121,
      "metadata": {},
      "outputs": [
        {
          "name": "stderr",
          "output_type": "stream",
          "text": [
            "C:\\Users\\cam-m\\AppData\\Local\\Temp\\ipykernel_15768\\1601597408.py:4: FutureWarning: Series.__getitem__ treating keys as positions is deprecated. In a future version, integer keys will always be treated as labels (consistent with DataFrame behavior). To access a value by position, use `ser.iloc[pos]`\n",
            "  lyrics_embeddings[row[0]] = np.array(row[1:])\n",
            "C:\\Users\\cam-m\\AppData\\Local\\Temp\\ipykernel_15768\\1601597408.py:7: FutureWarning: Series.__getitem__ treating keys as positions is deprecated. In a future version, integer keys will always be treated as labels (consistent with DataFrame behavior). To access a value by position, use `ser.iloc[pos]`\n",
            "  lyrics_embeddings_3d[row[0]] = np.array(row[1:])\n"
          ]
        }
      ],
      "source": [
        "lyrics_embeddings = dict()\n",
        "lyrics_embeddings_3d  = dict()\n",
        "for idx, row in lyrics_embeddings_csv.iterrows():\n",
        "    lyrics_embeddings[row[0]] = np.array(row[1:])\n",
        "\n",
        "for idx, row in lyrics_embeddings_3d_csv.iterrows():\n",
        "    lyrics_embeddings_3d[row[0]] = np.array(row[1:])\n"
      ]
    },
    {
      "cell_type": "code",
      "execution_count": 122,
      "metadata": {},
      "outputs": [
        {
          "data": {
            "text/plain": [
              "69"
            ]
          },
          "execution_count": 122,
          "metadata": {},
          "output_type": "execute_result"
        }
      ],
      "source": [
        "candidates = dict()\n",
        "rnn_track_ids = []\n",
        "for track in ops_x_test[random_index]:\n",
        "    rnn_track_ids.append(track[0])\n",
        "    candidates[track[0]] = lyrics_embeddings_3d[track[0]]\n",
        "\n",
        "cutoff = len(candidates)\n",
        "\n",
        "for idx, row in potential_songs.head(100).iterrows():\n",
        "    candidates[row['id']] = lyrics_embeddings_3d[row['id']]\n",
        "\n",
        "len(candidates)"
      ]
    },
    {
      "cell_type": "code",
      "execution_count": 123,
      "metadata": {},
      "outputs": [],
      "source": [
        "# For reducing dimensions of the embeddings\n",
        "raw_embeddings = np.concatenate(list(lyrics_embeddings.values())).reshape(len(lyrics_embeddings), 768)\n",
        "track_ids = list(lyrics_embeddings.keys())\n",
        "dim_model = PCA(n_components=150, random_state=42)\n",
        "dim_model.fit(raw_embeddings)\n",
        "reduced_embeddings = dim_model.transform(raw_embeddings)\n",
        "reduced_embeddings_dict = {track_ids[i]: reduced_embeddings[i] for i in range(len(track_ids))}\n",
        "\n",
        "og_embeddings = np.array([reduced_embeddings_dict[track_id] for track_id in rnn_track_ids])"
      ]
    },
    {
      "cell_type": "markdown",
      "metadata": {},
      "source": [
        "At this stage, we must compare the embeddings in the predicted list against those in the original input list and find the best candidates\n",
        "### Cosine Similarity"
      ]
    },
    {
      "cell_type": "code",
      "execution_count": 124,
      "metadata": {},
      "outputs": [
        {
          "data": {
            "text/html": [
              "<div>\n",
              "<style scoped>\n",
              "    .dataframe tbody tr th:only-of-type {\n",
              "        vertical-align: middle;\n",
              "    }\n",
              "\n",
              "    .dataframe tbody tr th {\n",
              "        vertical-align: top;\n",
              "    }\n",
              "\n",
              "    .dataframe thead th {\n",
              "        text-align: right;\n",
              "    }\n",
              "</style>\n",
              "<table border=\"1\" class=\"dataframe\">\n",
              "  <thead>\n",
              "    <tr style=\"text-align: right;\">\n",
              "      <th></th>\n",
              "      <th>id</th>\n",
              "      <th>distance</th>\n",
              "    </tr>\n",
              "  </thead>\n",
              "  <tbody>\n",
              "    <tr>\n",
              "      <th>Oh Messy Life</th>\n",
              "      <td>TRAQYPC12903CDEC02</td>\n",
              "      <td>0.311424</td>\n",
              "    </tr>\n",
              "    <tr>\n",
              "      <th>2113</th>\n",
              "      <td>TREOZBH128F92E605A</td>\n",
              "      <td>0.377958</td>\n",
              "    </tr>\n",
              "    <tr>\n",
              "      <th>Phobia</th>\n",
              "      <td>TRLNNMN128F42693A3</td>\n",
              "      <td>0.359223</td>\n",
              "    </tr>\n",
              "    <tr>\n",
              "      <th>April Grove</th>\n",
              "      <td>TRRHBLR128F4213E11</td>\n",
              "      <td>0.284570</td>\n",
              "    </tr>\n",
              "    <tr>\n",
              "      <th>Follow The Light</th>\n",
              "      <td>TRVELOJ128F93256C0</td>\n",
              "      <td>0.339208</td>\n",
              "    </tr>\n",
              "    <tr>\n",
              "      <th>She's Nirvana</th>\n",
              "      <td>TRMFBUD128F92F6265</td>\n",
              "      <td>0.306645</td>\n",
              "    </tr>\n",
              "    <tr>\n",
              "      <th>Rockin' Chair</th>\n",
              "      <td>TRRMHJA128F9303E2B</td>\n",
              "      <td>0.372989</td>\n",
              "    </tr>\n",
              "    <tr>\n",
              "      <th>I Can't Stand</th>\n",
              "      <td>TREEBNV128F932F45A</td>\n",
              "      <td>0.326262</td>\n",
              "    </tr>\n",
              "    <tr>\n",
              "      <th>American Flag</th>\n",
              "      <td>TRRVUCK128F429E9B5</td>\n",
              "      <td>0.372055</td>\n",
              "    </tr>\n",
              "    <tr>\n",
              "      <th>Paper Cuts</th>\n",
              "      <td>TRLOEIJ128F931AD02</td>\n",
              "      <td>0.320815</td>\n",
              "    </tr>\n",
              "  </tbody>\n",
              "</table>\n",
              "</div>"
            ],
            "text/plain": [
              "                                  id  distance\n",
              "Oh Messy Life     TRAQYPC12903CDEC02  0.311424\n",
              "2113              TREOZBH128F92E605A  0.377958\n",
              "Phobia            TRLNNMN128F42693A3  0.359223\n",
              "April Grove       TRRHBLR128F4213E11  0.284570\n",
              "Follow The Light  TRVELOJ128F93256C0  0.339208\n",
              "She's Nirvana     TRMFBUD128F92F6265  0.306645\n",
              "Rockin' Chair     TRRMHJA128F9303E2B  0.372989\n",
              "I Can't Stand     TREEBNV128F932F45A  0.326262\n",
              "American Flag     TRRVUCK128F429E9B5  0.372055\n",
              "Paper Cuts        TRLOEIJ128F931AD02  0.320815"
            ]
          },
          "execution_count": 124,
          "metadata": {},
          "output_type": "execute_result"
        }
      ],
      "source": [
        "similarities = list()\n",
        "\n",
        "for track_id in potential_songs['id']:\n",
        "\n",
        "    candidate_embedding = reduced_embeddings_dict[track_id].reshape(1, -1)\n",
        "    similarity = cosine_similarity(candidate_embedding, og_embeddings)\n",
        "    similarities.append(np.mean(similarity))\n",
        "\n",
        "similarities = np.array(similarities)\n",
        "most_similar_indices = np.argsort(similarities)[::-1]\n",
        "selected_songs_cs = potential_songs.iloc[most_similar_indices[:10]]\n",
        "selected_songs_cs"
      ]
    },
    {
      "cell_type": "markdown",
      "metadata": {},
      "source": [
        "### Pairwise Distances"
      ]
    },
    {
      "cell_type": "code",
      "execution_count": 125,
      "metadata": {},
      "outputs": [
        {
          "data": {
            "text/html": [
              "<div>\n",
              "<style scoped>\n",
              "    .dataframe tbody tr th:only-of-type {\n",
              "        vertical-align: middle;\n",
              "    }\n",
              "\n",
              "    .dataframe tbody tr th {\n",
              "        vertical-align: top;\n",
              "    }\n",
              "\n",
              "    .dataframe thead th {\n",
              "        text-align: right;\n",
              "    }\n",
              "</style>\n",
              "<table border=\"1\" class=\"dataframe\">\n",
              "  <thead>\n",
              "    <tr style=\"text-align: right;\">\n",
              "      <th></th>\n",
              "      <th>id</th>\n",
              "      <th>distance</th>\n",
              "    </tr>\n",
              "  </thead>\n",
              "  <tbody>\n",
              "    <tr>\n",
              "      <th>American Flag</th>\n",
              "      <td>TRRVUCK128F429E9B5</td>\n",
              "      <td>0.372055</td>\n",
              "    </tr>\n",
              "    <tr>\n",
              "      <th>Paper Cuts</th>\n",
              "      <td>TRLOEIJ128F931AD02</td>\n",
              "      <td>0.320815</td>\n",
              "    </tr>\n",
              "    <tr>\n",
              "      <th>April Grove</th>\n",
              "      <td>TRRHBLR128F4213E11</td>\n",
              "      <td>0.284570</td>\n",
              "    </tr>\n",
              "    <tr>\n",
              "      <th>She's Nirvana</th>\n",
              "      <td>TRMFBUD128F92F6265</td>\n",
              "      <td>0.306645</td>\n",
              "    </tr>\n",
              "    <tr>\n",
              "      <th>2113</th>\n",
              "      <td>TREOZBH128F92E605A</td>\n",
              "      <td>0.377958</td>\n",
              "    </tr>\n",
              "    <tr>\n",
              "      <th>Phobia</th>\n",
              "      <td>TRLNNMN128F42693A3</td>\n",
              "      <td>0.359223</td>\n",
              "    </tr>\n",
              "    <tr>\n",
              "      <th>Follow The Light</th>\n",
              "      <td>TRVELOJ128F93256C0</td>\n",
              "      <td>0.339208</td>\n",
              "    </tr>\n",
              "    <tr>\n",
              "      <th>I Can't Stand</th>\n",
              "      <td>TREEBNV128F932F45A</td>\n",
              "      <td>0.326262</td>\n",
              "    </tr>\n",
              "    <tr>\n",
              "      <th>Rockin' Chair</th>\n",
              "      <td>TRRMHJA128F9303E2B</td>\n",
              "      <td>0.372989</td>\n",
              "    </tr>\n",
              "    <tr>\n",
              "      <th>Oh Messy Life</th>\n",
              "      <td>TRAQYPC12903CDEC02</td>\n",
              "      <td>0.311424</td>\n",
              "    </tr>\n",
              "  </tbody>\n",
              "</table>\n",
              "</div>"
            ],
            "text/plain": [
              "                                  id  distance\n",
              "American Flag     TRRVUCK128F429E9B5  0.372055\n",
              "Paper Cuts        TRLOEIJ128F931AD02  0.320815\n",
              "April Grove       TRRHBLR128F4213E11  0.284570\n",
              "She's Nirvana     TRMFBUD128F92F6265  0.306645\n",
              "2113              TREOZBH128F92E605A  0.377958\n",
              "Phobia            TRLNNMN128F42693A3  0.359223\n",
              "Follow The Light  TRVELOJ128F93256C0  0.339208\n",
              "I Can't Stand     TREEBNV128F932F45A  0.326262\n",
              "Rockin' Chair     TRRMHJA128F9303E2B  0.372989\n",
              "Oh Messy Life     TRAQYPC12903CDEC02  0.311424"
            ]
          },
          "execution_count": 125,
          "metadata": {},
          "output_type": "execute_result"
        }
      ],
      "source": [
        "candidate_embeddings = np.array([reduced_embeddings_dict[track_id] for track_id in selected_songs_cs['id']])\n",
        "\n",
        "distances = pairwise_distances(candidate_embeddings, og_embeddings, metric='euclidean')\n",
        "mean_distances = np.mean(distances, axis=1)\n",
        "closest_candidates_indices = np.argsort(mean_distances)[:10]\n",
        "selected_songs_pd = selected_songs_cs.iloc[closest_candidates_indices]\n",
        "selected_songs_pd"
      ]
    },
    {
      "cell_type": "code",
      "execution_count": 126,
      "metadata": {},
      "outputs": [
        {
          "data": {
            "text/plain": [
              "array([8, 9, 3, 5, 1, 2, 4, 7, 6, 0], dtype=int64)"
            ]
          },
          "execution_count": 126,
          "metadata": {},
          "output_type": "execute_result"
        }
      ],
      "source": [
        "closest_candidates_indices"
      ]
    },
    {
      "cell_type": "code",
      "execution_count": 127,
      "metadata": {},
      "outputs": [],
      "source": [
        "#Predicted Data\n",
        "rec_songs = song_features_data[song_features_data['track_id'].isin(selected_songs_pd['id'])]"
      ]
    },
    {
      "cell_type": "code",
      "execution_count": 128,
      "metadata": {},
      "outputs": [
        {
          "data": {
            "text/html": [
              "<div>\n",
              "<style scoped>\n",
              "    .dataframe tbody tr th:only-of-type {\n",
              "        vertical-align: middle;\n",
              "    }\n",
              "\n",
              "    .dataframe tbody tr th {\n",
              "        vertical-align: top;\n",
              "    }\n",
              "\n",
              "    .dataframe thead th {\n",
              "        text-align: right;\n",
              "    }\n",
              "</style>\n",
              "<table border=\"1\" class=\"dataframe\">\n",
              "  <thead>\n",
              "    <tr style=\"text-align: right;\">\n",
              "      <th></th>\n",
              "      <th>track_id</th>\n",
              "      <th>name</th>\n",
              "      <th>artist</th>\n",
              "      <th>spotify_id</th>\n",
              "      <th>tags</th>\n",
              "      <th>danceability</th>\n",
              "      <th>energy</th>\n",
              "      <th>loudness</th>\n",
              "      <th>mode</th>\n",
              "      <th>speechiness</th>\n",
              "      <th>acousticness</th>\n",
              "      <th>instrumentalness</th>\n",
              "      <th>liveness</th>\n",
              "      <th>valence</th>\n",
              "      <th>tempo</th>\n",
              "      <th>duration_mins</th>\n",
              "    </tr>\n",
              "  </thead>\n",
              "  <tbody>\n",
              "    <tr>\n",
              "      <th>8553</th>\n",
              "      <td>TRLOEIJ128F931AD02</td>\n",
              "      <td>Paper Cuts</td>\n",
              "      <td>Nirvana</td>\n",
              "      <td>2ilmU6mieDn7ztBKjYCxdf</td>\n",
              "      <td>alternative_rock, grunge</td>\n",
              "      <td>0.559</td>\n",
              "      <td>0.757</td>\n",
              "      <td>-6.349</td>\n",
              "      <td>1</td>\n",
              "      <td>0.0424</td>\n",
              "      <td>0.003610</td>\n",
              "      <td>0.057200</td>\n",
              "      <td>0.1160</td>\n",
              "      <td>0.331</td>\n",
              "      <td>102.169</td>\n",
              "      <td>4.097550</td>\n",
              "    </tr>\n",
              "    <tr>\n",
              "      <th>12903</th>\n",
              "      <td>TRRVUCK128F429E9B5</td>\n",
              "      <td>American Flag</td>\n",
              "      <td>Cat Power</td>\n",
              "      <td>6L79kobWVIg7WxzUhkWUft</td>\n",
              "      <td>indie, female_vocalists, folk, singer_songwriter</td>\n",
              "      <td>0.464</td>\n",
              "      <td>0.672</td>\n",
              "      <td>-6.254</td>\n",
              "      <td>1</td>\n",
              "      <td>0.0790</td>\n",
              "      <td>0.079000</td>\n",
              "      <td>0.000162</td>\n",
              "      <td>0.1030</td>\n",
              "      <td>0.395</td>\n",
              "      <td>141.518</td>\n",
              "      <td>3.513767</td>\n",
              "    </tr>\n",
              "    <tr>\n",
              "      <th>13693</th>\n",
              "      <td>TRAQYPC12903CDEC02</td>\n",
              "      <td>Oh Messy Life</td>\n",
              "      <td>Cap'n Jazz</td>\n",
              "      <td>3bSLvSyE9384MWc6qxk2I1</td>\n",
              "      <td>punk, hardcore, emo</td>\n",
              "      <td>0.472</td>\n",
              "      <td>0.907</td>\n",
              "      <td>-6.386</td>\n",
              "      <td>1</td>\n",
              "      <td>0.0545</td>\n",
              "      <td>0.000691</td>\n",
              "      <td>0.000532</td>\n",
              "      <td>0.1020</td>\n",
              "      <td>0.376</td>\n",
              "      <td>107.294</td>\n",
              "      <td>2.048000</td>\n",
              "    </tr>\n",
              "    <tr>\n",
              "      <th>18334</th>\n",
              "      <td>TREOZBH128F92E605A</td>\n",
              "      <td>2113</td>\n",
              "      <td>Coheed and Cambria</td>\n",
              "      <td>0MFEW9QSrRgtdrqINJavJB</td>\n",
              "      <td>progressive_rock</td>\n",
              "      <td>0.396</td>\n",
              "      <td>0.798</td>\n",
              "      <td>-6.232</td>\n",
              "      <td>0</td>\n",
              "      <td>0.0586</td>\n",
              "      <td>0.006460</td>\n",
              "      <td>0.000412</td>\n",
              "      <td>0.0982</td>\n",
              "      <td>0.372</td>\n",
              "      <td>74.767</td>\n",
              "      <td>9.776000</td>\n",
              "    </tr>\n",
              "    <tr>\n",
              "      <th>24118</th>\n",
              "      <td>TRLNNMN128F42693A3</td>\n",
              "      <td>Phobia</td>\n",
              "      <td>Kreator</td>\n",
              "      <td>0Nqf0k55F3rTMb1q7ZXkzt</td>\n",
              "      <td>thrash_metal</td>\n",
              "      <td>0.435</td>\n",
              "      <td>0.927</td>\n",
              "      <td>-6.302</td>\n",
              "      <td>1</td>\n",
              "      <td>0.0565</td>\n",
              "      <td>0.000230</td>\n",
              "      <td>0.000004</td>\n",
              "      <td>0.1460</td>\n",
              "      <td>0.456</td>\n",
              "      <td>192.336</td>\n",
              "      <td>3.375550</td>\n",
              "    </tr>\n",
              "    <tr>\n",
              "      <th>27311</th>\n",
              "      <td>TRMFBUD128F92F6265</td>\n",
              "      <td>She's Nirvana</td>\n",
              "      <td>Xandria</td>\n",
              "      <td>4ptGbqozoPvXrEh9Nja1ft</td>\n",
              "      <td>german, gothic_metal, gothic, symphonic_metal</td>\n",
              "      <td>0.491</td>\n",
              "      <td>0.712</td>\n",
              "      <td>-6.422</td>\n",
              "      <td>1</td>\n",
              "      <td>0.0310</td>\n",
              "      <td>0.000179</td>\n",
              "      <td>0.000022</td>\n",
              "      <td>0.1280</td>\n",
              "      <td>0.352</td>\n",
              "      <td>135.026</td>\n",
              "      <td>3.370000</td>\n",
              "    </tr>\n",
              "    <tr>\n",
              "      <th>31269</th>\n",
              "      <td>TRRHBLR128F4213E11</td>\n",
              "      <td>April Grove</td>\n",
              "      <td>Martina Topley-Bird</td>\n",
              "      <td>2doN8qhwRDKMAO0ekoAG6c</td>\n",
              "      <td>trip_hop, lounge</td>\n",
              "      <td>0.489</td>\n",
              "      <td>0.739</td>\n",
              "      <td>-6.337</td>\n",
              "      <td>0</td>\n",
              "      <td>0.0313</td>\n",
              "      <td>0.001510</td>\n",
              "      <td>0.000044</td>\n",
              "      <td>0.0601</td>\n",
              "      <td>0.365</td>\n",
              "      <td>99.981</td>\n",
              "      <td>3.527767</td>\n",
              "    </tr>\n",
              "    <tr>\n",
              "      <th>32401</th>\n",
              "      <td>TRVELOJ128F93256C0</td>\n",
              "      <td>Follow The Light</td>\n",
              "      <td>Travis</td>\n",
              "      <td>34BFKNP3xcF8BiXv93Zg1q</td>\n",
              "      <td>rock, indie, indie_pop, love, britpop</td>\n",
              "      <td>0.533</td>\n",
              "      <td>0.730</td>\n",
              "      <td>-6.407</td>\n",
              "      <td>1</td>\n",
              "      <td>0.0275</td>\n",
              "      <td>0.000137</td>\n",
              "      <td>0.000000</td>\n",
              "      <td>0.1200</td>\n",
              "      <td>0.340</td>\n",
              "      <td>111.564</td>\n",
              "      <td>3.148217</td>\n",
              "    </tr>\n",
              "    <tr>\n",
              "      <th>39343</th>\n",
              "      <td>TRRMHJA128F9303E2B</td>\n",
              "      <td>Rockin' Chair</td>\n",
              "      <td>Oasis</td>\n",
              "      <td>06IgBNkn56fC4ci8GP5mQX</td>\n",
              "      <td>rock, britpop</td>\n",
              "      <td>0.522</td>\n",
              "      <td>0.856</td>\n",
              "      <td>-6.402</td>\n",
              "      <td>0</td>\n",
              "      <td>0.0334</td>\n",
              "      <td>0.000727</td>\n",
              "      <td>0.000008</td>\n",
              "      <td>0.0444</td>\n",
              "      <td>0.367</td>\n",
              "      <td>126.359</td>\n",
              "      <td>4.600000</td>\n",
              "    </tr>\n",
              "    <tr>\n",
              "      <th>47673</th>\n",
              "      <td>TREEBNV128F932F45A</td>\n",
              "      <td>I Can't Stand</td>\n",
              "      <td>Zola Jesus</td>\n",
              "      <td>0w2dLCq2QOzWrt35pZuYtR</td>\n",
              "      <td>NaN</td>\n",
              "      <td>0.460</td>\n",
              "      <td>0.725</td>\n",
              "      <td>-6.385</td>\n",
              "      <td>1</td>\n",
              "      <td>0.0355</td>\n",
              "      <td>0.019200</td>\n",
              "      <td>0.091300</td>\n",
              "      <td>0.0916</td>\n",
              "      <td>0.433</td>\n",
              "      <td>89.954</td>\n",
              "      <td>4.205100</td>\n",
              "    </tr>\n",
              "  </tbody>\n",
              "</table>\n",
              "</div>"
            ],
            "text/plain": [
              "                 track_id              name               artist  \\\n",
              "8553   TRLOEIJ128F931AD02        Paper Cuts              Nirvana   \n",
              "12903  TRRVUCK128F429E9B5     American Flag            Cat Power   \n",
              "13693  TRAQYPC12903CDEC02     Oh Messy Life           Cap'n Jazz   \n",
              "18334  TREOZBH128F92E605A              2113   Coheed and Cambria   \n",
              "24118  TRLNNMN128F42693A3            Phobia              Kreator   \n",
              "27311  TRMFBUD128F92F6265     She's Nirvana              Xandria   \n",
              "31269  TRRHBLR128F4213E11       April Grove  Martina Topley-Bird   \n",
              "32401  TRVELOJ128F93256C0  Follow The Light               Travis   \n",
              "39343  TRRMHJA128F9303E2B     Rockin' Chair                Oasis   \n",
              "47673  TREEBNV128F932F45A     I Can't Stand           Zola Jesus   \n",
              "\n",
              "                   spotify_id  \\\n",
              "8553   2ilmU6mieDn7ztBKjYCxdf   \n",
              "12903  6L79kobWVIg7WxzUhkWUft   \n",
              "13693  3bSLvSyE9384MWc6qxk2I1   \n",
              "18334  0MFEW9QSrRgtdrqINJavJB   \n",
              "24118  0Nqf0k55F3rTMb1q7ZXkzt   \n",
              "27311  4ptGbqozoPvXrEh9Nja1ft   \n",
              "31269  2doN8qhwRDKMAO0ekoAG6c   \n",
              "32401  34BFKNP3xcF8BiXv93Zg1q   \n",
              "39343  06IgBNkn56fC4ci8GP5mQX   \n",
              "47673  0w2dLCq2QOzWrt35pZuYtR   \n",
              "\n",
              "                                                   tags  danceability  energy  \\\n",
              "8553                           alternative_rock, grunge         0.559   0.757   \n",
              "12903  indie, female_vocalists, folk, singer_songwriter         0.464   0.672   \n",
              "13693                               punk, hardcore, emo         0.472   0.907   \n",
              "18334                                  progressive_rock         0.396   0.798   \n",
              "24118                                      thrash_metal         0.435   0.927   \n",
              "27311     german, gothic_metal, gothic, symphonic_metal         0.491   0.712   \n",
              "31269                                  trip_hop, lounge         0.489   0.739   \n",
              "32401             rock, indie, indie_pop, love, britpop         0.533   0.730   \n",
              "39343                                     rock, britpop         0.522   0.856   \n",
              "47673                                               NaN         0.460   0.725   \n",
              "\n",
              "       loudness  mode  speechiness  acousticness  instrumentalness  liveness  \\\n",
              "8553     -6.349     1       0.0424      0.003610          0.057200    0.1160   \n",
              "12903    -6.254     1       0.0790      0.079000          0.000162    0.1030   \n",
              "13693    -6.386     1       0.0545      0.000691          0.000532    0.1020   \n",
              "18334    -6.232     0       0.0586      0.006460          0.000412    0.0982   \n",
              "24118    -6.302     1       0.0565      0.000230          0.000004    0.1460   \n",
              "27311    -6.422     1       0.0310      0.000179          0.000022    0.1280   \n",
              "31269    -6.337     0       0.0313      0.001510          0.000044    0.0601   \n",
              "32401    -6.407     1       0.0275      0.000137          0.000000    0.1200   \n",
              "39343    -6.402     0       0.0334      0.000727          0.000008    0.0444   \n",
              "47673    -6.385     1       0.0355      0.019200          0.091300    0.0916   \n",
              "\n",
              "       valence    tempo  duration_mins  \n",
              "8553     0.331  102.169       4.097550  \n",
              "12903    0.395  141.518       3.513767  \n",
              "13693    0.376  107.294       2.048000  \n",
              "18334    0.372   74.767       9.776000  \n",
              "24118    0.456  192.336       3.375550  \n",
              "27311    0.352  135.026       3.370000  \n",
              "31269    0.365   99.981       3.527767  \n",
              "32401    0.340  111.564       3.148217  \n",
              "39343    0.367  126.359       4.600000  \n",
              "47673    0.433   89.954       4.205100  "
            ]
          },
          "execution_count": 128,
          "metadata": {},
          "output_type": "execute_result"
        }
      ],
      "source": [
        "rec_songs.head(10)"
      ]
    },
    {
      "cell_type": "code",
      "execution_count": 129,
      "metadata": {},
      "outputs": [],
      "source": [
        "#Original Playlist\n",
        "og_songs = song_features_data[song_features_data['track_id'].isin(rnn_track_ids)]"
      ]
    },
    {
      "cell_type": "code",
      "execution_count": 130,
      "metadata": {},
      "outputs": [
        {
          "data": {
            "text/html": [
              "<div>\n",
              "<style scoped>\n",
              "    .dataframe tbody tr th:only-of-type {\n",
              "        vertical-align: middle;\n",
              "    }\n",
              "\n",
              "    .dataframe tbody tr th {\n",
              "        vertical-align: top;\n",
              "    }\n",
              "\n",
              "    .dataframe thead th {\n",
              "        text-align: right;\n",
              "    }\n",
              "</style>\n",
              "<table border=\"1\" class=\"dataframe\">\n",
              "  <thead>\n",
              "    <tr style=\"text-align: right;\">\n",
              "      <th></th>\n",
              "      <th>track_id</th>\n",
              "      <th>name</th>\n",
              "      <th>artist</th>\n",
              "      <th>spotify_id</th>\n",
              "      <th>tags</th>\n",
              "      <th>danceability</th>\n",
              "      <th>energy</th>\n",
              "      <th>loudness</th>\n",
              "      <th>mode</th>\n",
              "      <th>speechiness</th>\n",
              "      <th>acousticness</th>\n",
              "      <th>instrumentalness</th>\n",
              "      <th>liveness</th>\n",
              "      <th>valence</th>\n",
              "      <th>tempo</th>\n",
              "      <th>duration_mins</th>\n",
              "    </tr>\n",
              "  </thead>\n",
              "  <tbody>\n",
              "    <tr>\n",
              "      <th>44</th>\n",
              "      <td>TRAALAH128E078234A</td>\n",
              "      <td>Bitter Sweet Symphony</td>\n",
              "      <td>The Verve</td>\n",
              "      <td>0jLnevC3Vn34qVWrAa4X6x</td>\n",
              "      <td>rock, alternative, indie, pop, alternative_roc...</td>\n",
              "      <td>0.383</td>\n",
              "      <td>0.907</td>\n",
              "      <td>-5.409</td>\n",
              "      <td>1</td>\n",
              "      <td>0.0405</td>\n",
              "      <td>0.031300</td>\n",
              "      <td>0.000000</td>\n",
              "      <td>0.3470</td>\n",
              "      <td>0.5140</td>\n",
              "      <td>171.052</td>\n",
              "      <td>5.972217</td>\n",
              "    </tr>\n",
              "    <tr>\n",
              "      <th>486</th>\n",
              "      <td>TRHRFIN128F425DEF1</td>\n",
              "      <td>4th Dimensional Transition</td>\n",
              "      <td>MGMT</td>\n",
              "      <td>14Hlfk7LY4TOw450LaVteS</td>\n",
              "      <td>rock, electronic, alternative, indie, indie_ro...</td>\n",
              "      <td>0.381</td>\n",
              "      <td>0.939</td>\n",
              "      <td>-4.684</td>\n",
              "      <td>1</td>\n",
              "      <td>0.1250</td>\n",
              "      <td>0.042000</td>\n",
              "      <td>0.918000</td>\n",
              "      <td>0.1720</td>\n",
              "      <td>0.3350</td>\n",
              "      <td>159.970</td>\n",
              "      <td>3.966883</td>\n",
              "    </tr>\n",
              "    <tr>\n",
              "      <th>2112</th>\n",
              "      <td>TRNJLKP128F427CE28</td>\n",
              "      <td>Aerodynamic</td>\n",
              "      <td>Daft Punk</td>\n",
              "      <td>168MSP7Cpz7uKGt5Qd9F16</td>\n",
              "      <td>electronic, dance, house, techno, electro, french</td>\n",
              "      <td>0.617</td>\n",
              "      <td>0.883</td>\n",
              "      <td>-9.070</td>\n",
              "      <td>1</td>\n",
              "      <td>0.0503</td>\n",
              "      <td>0.307000</td>\n",
              "      <td>0.861000</td>\n",
              "      <td>0.0907</td>\n",
              "      <td>0.1260</td>\n",
              "      <td>122.870</td>\n",
              "      <td>3.458883</td>\n",
              "    </tr>\n",
              "    <tr>\n",
              "      <th>2186</th>\n",
              "      <td>TRISTWT128F1488FBB</td>\n",
              "      <td>High Life</td>\n",
              "      <td>Daft Punk</td>\n",
              "      <td>098ttCNmncrO4YvqWUNMvn</td>\n",
              "      <td>electronic, dance, house, techno, electro, french</td>\n",
              "      <td>0.653</td>\n",
              "      <td>0.869</td>\n",
              "      <td>-9.393</td>\n",
              "      <td>1</td>\n",
              "      <td>0.2170</td>\n",
              "      <td>0.004350</td>\n",
              "      <td>0.413000</td>\n",
              "      <td>0.3340</td>\n",
              "      <td>0.5150</td>\n",
              "      <td>125.207</td>\n",
              "      <td>3.363333</td>\n",
              "    </tr>\n",
              "    <tr>\n",
              "      <th>3112</th>\n",
              "      <td>TRIPSQP12903CE450C</td>\n",
              "      <td>Lady Dada's Nightmare</td>\n",
              "      <td>MGMT</td>\n",
              "      <td>0XwfkoJnGpRw7y3s0fWxaO</td>\n",
              "      <td>electronic, indie, experimental, indie_rock, i...</td>\n",
              "      <td>0.358</td>\n",
              "      <td>0.492</td>\n",
              "      <td>-7.844</td>\n",
              "      <td>0</td>\n",
              "      <td>0.0299</td>\n",
              "      <td>0.552000</td>\n",
              "      <td>0.899000</td>\n",
              "      <td>0.2350</td>\n",
              "      <td>0.0666</td>\n",
              "      <td>77.994</td>\n",
              "      <td>4.519100</td>\n",
              "    </tr>\n",
              "    <tr>\n",
              "      <th>8795</th>\n",
              "      <td>TRDJQLI128E07917C7</td>\n",
              "      <td>Rikki Don't Lose That Number</td>\n",
              "      <td>Steely Dan</td>\n",
              "      <td>028NYvJAD47k4iGSlpT2zy</td>\n",
              "      <td>rock, jazz, classic_rock, 70s</td>\n",
              "      <td>0.649</td>\n",
              "      <td>0.478</td>\n",
              "      <td>-13.628</td>\n",
              "      <td>1</td>\n",
              "      <td>0.0381</td>\n",
              "      <td>0.510000</td>\n",
              "      <td>0.000134</td>\n",
              "      <td>0.0915</td>\n",
              "      <td>0.5710</td>\n",
              "      <td>116.179</td>\n",
              "      <td>4.543767</td>\n",
              "    </tr>\n",
              "    <tr>\n",
              "      <th>8899</th>\n",
              "      <td>TRRYMIR128F9354778</td>\n",
              "      <td>Via con me</td>\n",
              "      <td>Paolo Conte</td>\n",
              "      <td>053MPrQZlf9X4KYmcJ4vsd</td>\n",
              "      <td>jazz, singer_songwriter, piano</td>\n",
              "      <td>0.587</td>\n",
              "      <td>0.706</td>\n",
              "      <td>-9.154</td>\n",
              "      <td>0</td>\n",
              "      <td>0.2040</td>\n",
              "      <td>0.777000</td>\n",
              "      <td>0.006570</td>\n",
              "      <td>0.0929</td>\n",
              "      <td>0.7330</td>\n",
              "      <td>164.438</td>\n",
              "      <td>2.776000</td>\n",
              "    </tr>\n",
              "    <tr>\n",
              "      <th>10090</th>\n",
              "      <td>TRCESGY128E0780E09</td>\n",
              "      <td>Breakthru</td>\n",
              "      <td>Queen</td>\n",
              "      <td>0PesritaDvkWORoHQJmP3z</td>\n",
              "      <td>rock, classic_rock, hard_rock, 80s, british</td>\n",
              "      <td>0.569</td>\n",
              "      <td>0.649</td>\n",
              "      <td>-13.531</td>\n",
              "      <td>1</td>\n",
              "      <td>0.0509</td>\n",
              "      <td>0.063300</td>\n",
              "      <td>0.004920</td>\n",
              "      <td>0.3640</td>\n",
              "      <td>0.3340</td>\n",
              "      <td>90.084</td>\n",
              "      <td>4.137100</td>\n",
              "    </tr>\n",
              "    <tr>\n",
              "      <th>10835</th>\n",
              "      <td>TRQWUUG128F1485DAB</td>\n",
              "      <td>Don't Know What You Got (Till It's Gone)</td>\n",
              "      <td>Cinderella</td>\n",
              "      <td>02inbOlZndnAM99BeRvxd9</td>\n",
              "      <td>classic_rock, hard_rock, 80s, blues_rock</td>\n",
              "      <td>0.247</td>\n",
              "      <td>0.749</td>\n",
              "      <td>-5.542</td>\n",
              "      <td>1</td>\n",
              "      <td>0.0357</td>\n",
              "      <td>0.064900</td>\n",
              "      <td>0.081800</td>\n",
              "      <td>0.7520</td>\n",
              "      <td>0.2320</td>\n",
              "      <td>130.192</td>\n",
              "      <td>4.567767</td>\n",
              "    </tr>\n",
              "    <tr>\n",
              "      <th>14187</th>\n",
              "      <td>TRNQUIT128F428A0BD</td>\n",
              "      <td>Time Won't Let Me Go</td>\n",
              "      <td>The Bravery</td>\n",
              "      <td>12d7zOCGENeo5v2XF295sA</td>\n",
              "      <td>rock, alternative, indie, alternative_rock, in...</td>\n",
              "      <td>0.386</td>\n",
              "      <td>0.864</td>\n",
              "      <td>-4.776</td>\n",
              "      <td>1</td>\n",
              "      <td>0.0323</td>\n",
              "      <td>0.001330</td>\n",
              "      <td>0.000054</td>\n",
              "      <td>0.4400</td>\n",
              "      <td>0.4180</td>\n",
              "      <td>154.774</td>\n",
              "      <td>4.188667</td>\n",
              "    </tr>\n",
              "    <tr>\n",
              "      <th>17061</th>\n",
              "      <td>TRSSQIX128F4226B55</td>\n",
              "      <td>My Friend Dario</td>\n",
              "      <td>Vitalic</td>\n",
              "      <td>1cOCuk6LQyrELA3hfHoams</td>\n",
              "      <td>electronic, dance, house, techno, electro, french</td>\n",
              "      <td>0.609</td>\n",
              "      <td>0.963</td>\n",
              "      <td>-5.108</td>\n",
              "      <td>1</td>\n",
              "      <td>0.0526</td>\n",
              "      <td>0.000772</td>\n",
              "      <td>0.743000</td>\n",
              "      <td>0.8290</td>\n",
              "      <td>0.9050</td>\n",
              "      <td>133.272</td>\n",
              "      <td>3.647550</td>\n",
              "    </tr>\n",
              "    <tr>\n",
              "      <th>17441</th>\n",
              "      <td>TRYATJD128F92FDB02</td>\n",
              "      <td>Hazy Shade Of Winter</td>\n",
              "      <td>The Bangles</td>\n",
              "      <td>0AJTCza5wu1jZ6aWNoZXRT</td>\n",
              "      <td>pop, 80s, new_wave, cover</td>\n",
              "      <td>0.718</td>\n",
              "      <td>0.882</td>\n",
              "      <td>-8.083</td>\n",
              "      <td>1</td>\n",
              "      <td>0.0856</td>\n",
              "      <td>0.003430</td>\n",
              "      <td>0.000086</td>\n",
              "      <td>0.3180</td>\n",
              "      <td>0.7630</td>\n",
              "      <td>102.990</td>\n",
              "      <td>3.397767</td>\n",
              "    </tr>\n",
              "    <tr>\n",
              "      <th>18289</th>\n",
              "      <td>TRFUIGN128F92FE2C4</td>\n",
              "      <td>Sea Song</td>\n",
              "      <td>Robert Wyatt</td>\n",
              "      <td>0uoM5QDvJBPu6MGrtbw0gP</td>\n",
              "      <td>progressive_rock, psychedelic, avant_garde</td>\n",
              "      <td>0.330</td>\n",
              "      <td>0.521</td>\n",
              "      <td>-6.610</td>\n",
              "      <td>0</td>\n",
              "      <td>0.0313</td>\n",
              "      <td>0.485000</td>\n",
              "      <td>0.001820</td>\n",
              "      <td>0.2010</td>\n",
              "      <td>0.1260</td>\n",
              "      <td>115.364</td>\n",
              "      <td>9.256433</td>\n",
              "    </tr>\n",
              "    <tr>\n",
              "      <th>28185</th>\n",
              "      <td>TRBJRZH128F429EA62</td>\n",
              "      <td>The Electric Version</td>\n",
              "      <td>The New Pornographers</td>\n",
              "      <td>1n0tppeA8MEOVtckhUMnmL</td>\n",
              "      <td>rock, indie_rock, new_wave, indie_pop, 00s, noise</td>\n",
              "      <td>0.530</td>\n",
              "      <td>0.985</td>\n",
              "      <td>-3.094</td>\n",
              "      <td>1</td>\n",
              "      <td>0.1320</td>\n",
              "      <td>0.009430</td>\n",
              "      <td>0.000000</td>\n",
              "      <td>0.1760</td>\n",
              "      <td>0.6980</td>\n",
              "      <td>167.129</td>\n",
              "      <td>2.887767</td>\n",
              "    </tr>\n",
              "    <tr>\n",
              "      <th>32367</th>\n",
              "      <td>TRAEUFF128F424EAAF</td>\n",
              "      <td>I've Underestimated My Charm (Again)</td>\n",
              "      <td>Black Kids</td>\n",
              "      <td>0gv6qCVLKKRIFaR4OC3cGh</td>\n",
              "      <td>indie, indie_pop</td>\n",
              "      <td>0.363</td>\n",
              "      <td>0.968</td>\n",
              "      <td>-4.194</td>\n",
              "      <td>1</td>\n",
              "      <td>0.0563</td>\n",
              "      <td>0.001330</td>\n",
              "      <td>0.000000</td>\n",
              "      <td>0.3220</td>\n",
              "      <td>0.6890</td>\n",
              "      <td>124.014</td>\n",
              "      <td>3.918433</td>\n",
              "    </tr>\n",
              "    <tr>\n",
              "      <th>35020</th>\n",
              "      <td>TRAFUNV128F92CFEB2</td>\n",
              "      <td>MIA</td>\n",
              "      <td>Chevelle</td>\n",
              "      <td>2hxweZgog2IrkKP86KGATI</td>\n",
              "      <td>rock, alternative, alternative_rock, hard_rock...</td>\n",
              "      <td>0.379</td>\n",
              "      <td>0.913</td>\n",
              "      <td>-7.357</td>\n",
              "      <td>1</td>\n",
              "      <td>0.0872</td>\n",
              "      <td>0.000421</td>\n",
              "      <td>0.116000</td>\n",
              "      <td>0.1510</td>\n",
              "      <td>0.1080</td>\n",
              "      <td>117.438</td>\n",
              "      <td>2.358883</td>\n",
              "    </tr>\n",
              "    <tr>\n",
              "      <th>38510</th>\n",
              "      <td>TRMGOFF128F1458362</td>\n",
              "      <td>Wild Frontier</td>\n",
              "      <td>Gary Moore</td>\n",
              "      <td>0mBdiyULKljvBLVsrS6gfp</td>\n",
              "      <td>rock, classic_rock, hard_rock, guitar, blues_rock</td>\n",
              "      <td>0.484</td>\n",
              "      <td>0.727</td>\n",
              "      <td>-11.312</td>\n",
              "      <td>0</td>\n",
              "      <td>0.0513</td>\n",
              "      <td>0.110000</td>\n",
              "      <td>0.000000</td>\n",
              "      <td>0.1460</td>\n",
              "      <td>0.5740</td>\n",
              "      <td>130.458</td>\n",
              "      <td>4.233333</td>\n",
              "    </tr>\n",
              "    <tr>\n",
              "      <th>39716</th>\n",
              "      <td>TRXAVEU128E078D3CD</td>\n",
              "      <td>Oh, Goddamnit</td>\n",
              "      <td>Hot Hot Heat</td>\n",
              "      <td>1KF1b9bbBYImNnC3YO2GG4</td>\n",
              "      <td>rock, indie, indie_rock</td>\n",
              "      <td>0.432</td>\n",
              "      <td>0.896</td>\n",
              "      <td>-4.335</td>\n",
              "      <td>1</td>\n",
              "      <td>0.0931</td>\n",
              "      <td>0.028800</td>\n",
              "      <td>0.000319</td>\n",
              "      <td>0.1310</td>\n",
              "      <td>0.9230</td>\n",
              "      <td>126.659</td>\n",
              "      <td>2.480667</td>\n",
              "    </tr>\n",
              "    <tr>\n",
              "      <th>50004</th>\n",
              "      <td>TRAVRKY128F429EA68</td>\n",
              "      <td>Loose Translation</td>\n",
              "      <td>The New Pornographers</td>\n",
              "      <td>5Qu79Xa89JOQyZgMKWYtRk</td>\n",
              "      <td>indie, pop, indie_rock</td>\n",
              "      <td>0.642</td>\n",
              "      <td>0.835</td>\n",
              "      <td>-4.444</td>\n",
              "      <td>1</td>\n",
              "      <td>0.0318</td>\n",
              "      <td>0.000764</td>\n",
              "      <td>0.000002</td>\n",
              "      <td>0.2310</td>\n",
              "      <td>0.8130</td>\n",
              "      <td>126.022</td>\n",
              "      <td>2.993333</td>\n",
              "    </tr>\n",
              "  </tbody>\n",
              "</table>\n",
              "</div>"
            ],
            "text/plain": [
              "                 track_id                                      name  \\\n",
              "44     TRAALAH128E078234A                     Bitter Sweet Symphony   \n",
              "486    TRHRFIN128F425DEF1                4th Dimensional Transition   \n",
              "2112   TRNJLKP128F427CE28                               Aerodynamic   \n",
              "2186   TRISTWT128F1488FBB                                 High Life   \n",
              "3112   TRIPSQP12903CE450C                     Lady Dada's Nightmare   \n",
              "8795   TRDJQLI128E07917C7              Rikki Don't Lose That Number   \n",
              "8899   TRRYMIR128F9354778                                Via con me   \n",
              "10090  TRCESGY128E0780E09                                 Breakthru   \n",
              "10835  TRQWUUG128F1485DAB  Don't Know What You Got (Till It's Gone)   \n",
              "14187  TRNQUIT128F428A0BD                      Time Won't Let Me Go   \n",
              "17061  TRSSQIX128F4226B55                           My Friend Dario   \n",
              "17441  TRYATJD128F92FDB02                      Hazy Shade Of Winter   \n",
              "18289  TRFUIGN128F92FE2C4                                  Sea Song   \n",
              "28185  TRBJRZH128F429EA62                      The Electric Version   \n",
              "32367  TRAEUFF128F424EAAF      I've Underestimated My Charm (Again)   \n",
              "35020  TRAFUNV128F92CFEB2                                       MIA   \n",
              "38510  TRMGOFF128F1458362                             Wild Frontier   \n",
              "39716  TRXAVEU128E078D3CD                             Oh, Goddamnit   \n",
              "50004  TRAVRKY128F429EA68                         Loose Translation   \n",
              "\n",
              "                      artist              spotify_id  \\\n",
              "44                 The Verve  0jLnevC3Vn34qVWrAa4X6x   \n",
              "486                     MGMT  14Hlfk7LY4TOw450LaVteS   \n",
              "2112               Daft Punk  168MSP7Cpz7uKGt5Qd9F16   \n",
              "2186               Daft Punk  098ttCNmncrO4YvqWUNMvn   \n",
              "3112                    MGMT  0XwfkoJnGpRw7y3s0fWxaO   \n",
              "8795              Steely Dan  028NYvJAD47k4iGSlpT2zy   \n",
              "8899             Paolo Conte  053MPrQZlf9X4KYmcJ4vsd   \n",
              "10090                  Queen  0PesritaDvkWORoHQJmP3z   \n",
              "10835             Cinderella  02inbOlZndnAM99BeRvxd9   \n",
              "14187            The Bravery  12d7zOCGENeo5v2XF295sA   \n",
              "17061                Vitalic  1cOCuk6LQyrELA3hfHoams   \n",
              "17441            The Bangles  0AJTCza5wu1jZ6aWNoZXRT   \n",
              "18289           Robert Wyatt  0uoM5QDvJBPu6MGrtbw0gP   \n",
              "28185  The New Pornographers  1n0tppeA8MEOVtckhUMnmL   \n",
              "32367             Black Kids  0gv6qCVLKKRIFaR4OC3cGh   \n",
              "35020               Chevelle  2hxweZgog2IrkKP86KGATI   \n",
              "38510             Gary Moore  0mBdiyULKljvBLVsrS6gfp   \n",
              "39716           Hot Hot Heat  1KF1b9bbBYImNnC3YO2GG4   \n",
              "50004  The New Pornographers  5Qu79Xa89JOQyZgMKWYtRk   \n",
              "\n",
              "                                                    tags  danceability  \\\n",
              "44     rock, alternative, indie, pop, alternative_roc...         0.383   \n",
              "486    rock, electronic, alternative, indie, indie_ro...         0.381   \n",
              "2112   electronic, dance, house, techno, electro, french         0.617   \n",
              "2186   electronic, dance, house, techno, electro, french         0.653   \n",
              "3112   electronic, indie, experimental, indie_rock, i...         0.358   \n",
              "8795                       rock, jazz, classic_rock, 70s         0.649   \n",
              "8899                      jazz, singer_songwriter, piano         0.587   \n",
              "10090        rock, classic_rock, hard_rock, 80s, british         0.569   \n",
              "10835           classic_rock, hard_rock, 80s, blues_rock         0.247   \n",
              "14187  rock, alternative, indie, alternative_rock, in...         0.386   \n",
              "17061  electronic, dance, house, techno, electro, french         0.609   \n",
              "17441                          pop, 80s, new_wave, cover         0.718   \n",
              "18289         progressive_rock, psychedelic, avant_garde         0.330   \n",
              "28185  rock, indie_rock, new_wave, indie_pop, 00s, noise         0.530   \n",
              "32367                                   indie, indie_pop         0.363   \n",
              "35020  rock, alternative, alternative_rock, hard_rock...         0.379   \n",
              "38510  rock, classic_rock, hard_rock, guitar, blues_rock         0.484   \n",
              "39716                            rock, indie, indie_rock         0.432   \n",
              "50004                             indie, pop, indie_rock         0.642   \n",
              "\n",
              "       energy  loudness  mode  speechiness  acousticness  instrumentalness  \\\n",
              "44      0.907    -5.409     1       0.0405      0.031300          0.000000   \n",
              "486     0.939    -4.684     1       0.1250      0.042000          0.918000   \n",
              "2112    0.883    -9.070     1       0.0503      0.307000          0.861000   \n",
              "2186    0.869    -9.393     1       0.2170      0.004350          0.413000   \n",
              "3112    0.492    -7.844     0       0.0299      0.552000          0.899000   \n",
              "8795    0.478   -13.628     1       0.0381      0.510000          0.000134   \n",
              "8899    0.706    -9.154     0       0.2040      0.777000          0.006570   \n",
              "10090   0.649   -13.531     1       0.0509      0.063300          0.004920   \n",
              "10835   0.749    -5.542     1       0.0357      0.064900          0.081800   \n",
              "14187   0.864    -4.776     1       0.0323      0.001330          0.000054   \n",
              "17061   0.963    -5.108     1       0.0526      0.000772          0.743000   \n",
              "17441   0.882    -8.083     1       0.0856      0.003430          0.000086   \n",
              "18289   0.521    -6.610     0       0.0313      0.485000          0.001820   \n",
              "28185   0.985    -3.094     1       0.1320      0.009430          0.000000   \n",
              "32367   0.968    -4.194     1       0.0563      0.001330          0.000000   \n",
              "35020   0.913    -7.357     1       0.0872      0.000421          0.116000   \n",
              "38510   0.727   -11.312     0       0.0513      0.110000          0.000000   \n",
              "39716   0.896    -4.335     1       0.0931      0.028800          0.000319   \n",
              "50004   0.835    -4.444     1       0.0318      0.000764          0.000002   \n",
              "\n",
              "       liveness  valence    tempo  duration_mins  \n",
              "44       0.3470   0.5140  171.052       5.972217  \n",
              "486      0.1720   0.3350  159.970       3.966883  \n",
              "2112     0.0907   0.1260  122.870       3.458883  \n",
              "2186     0.3340   0.5150  125.207       3.363333  \n",
              "3112     0.2350   0.0666   77.994       4.519100  \n",
              "8795     0.0915   0.5710  116.179       4.543767  \n",
              "8899     0.0929   0.7330  164.438       2.776000  \n",
              "10090    0.3640   0.3340   90.084       4.137100  \n",
              "10835    0.7520   0.2320  130.192       4.567767  \n",
              "14187    0.4400   0.4180  154.774       4.188667  \n",
              "17061    0.8290   0.9050  133.272       3.647550  \n",
              "17441    0.3180   0.7630  102.990       3.397767  \n",
              "18289    0.2010   0.1260  115.364       9.256433  \n",
              "28185    0.1760   0.6980  167.129       2.887767  \n",
              "32367    0.3220   0.6890  124.014       3.918433  \n",
              "35020    0.1510   0.1080  117.438       2.358883  \n",
              "38510    0.1460   0.5740  130.458       4.233333  \n",
              "39716    0.1310   0.9230  126.659       2.480667  \n",
              "50004    0.2310   0.8130  126.022       2.993333  "
            ]
          },
          "execution_count": 130,
          "metadata": {},
          "output_type": "execute_result"
        }
      ],
      "source": [
        "og_songs.head(19)"
      ]
    },
    {
      "cell_type": "code",
      "execution_count": 132,
      "metadata": {},
      "outputs": [
        {
          "data": {
            "text/html": [
              "<div>\n",
              "<style scoped>\n",
              "    .dataframe tbody tr th:only-of-type {\n",
              "        vertical-align: middle;\n",
              "    }\n",
              "\n",
              "    .dataframe tbody tr th {\n",
              "        vertical-align: top;\n",
              "    }\n",
              "\n",
              "    .dataframe thead th {\n",
              "        text-align: right;\n",
              "    }\n",
              "</style>\n",
              "<table border=\"1\" class=\"dataframe\">\n",
              "  <thead>\n",
              "    <tr style=\"text-align: right;\">\n",
              "      <th></th>\n",
              "      <th>track_id</th>\n",
              "      <th>name</th>\n",
              "      <th>artist</th>\n",
              "      <th>spotify_id</th>\n",
              "      <th>tags</th>\n",
              "      <th>danceability</th>\n",
              "      <th>energy</th>\n",
              "      <th>loudness</th>\n",
              "      <th>mode</th>\n",
              "      <th>speechiness</th>\n",
              "      <th>acousticness</th>\n",
              "      <th>instrumentalness</th>\n",
              "      <th>liveness</th>\n",
              "      <th>valence</th>\n",
              "      <th>tempo</th>\n",
              "      <th>duration_mins</th>\n",
              "    </tr>\n",
              "  </thead>\n",
              "  <tbody>\n",
              "    <tr>\n",
              "      <th>8553</th>\n",
              "      <td>TRLOEIJ128F931AD02</td>\n",
              "      <td>Paper Cuts</td>\n",
              "      <td>Nirvana</td>\n",
              "      <td>2ilmU6mieDn7ztBKjYCxdf</td>\n",
              "      <td>alternative_rock, grunge</td>\n",
              "      <td>0.559</td>\n",
              "      <td>0.757</td>\n",
              "      <td>-6.349</td>\n",
              "      <td>1</td>\n",
              "      <td>0.0424</td>\n",
              "      <td>0.003610</td>\n",
              "      <td>0.057200</td>\n",
              "      <td>0.1160</td>\n",
              "      <td>0.331</td>\n",
              "      <td>102.169</td>\n",
              "      <td>4.097550</td>\n",
              "    </tr>\n",
              "    <tr>\n",
              "      <th>12903</th>\n",
              "      <td>TRRVUCK128F429E9B5</td>\n",
              "      <td>American Flag</td>\n",
              "      <td>Cat Power</td>\n",
              "      <td>6L79kobWVIg7WxzUhkWUft</td>\n",
              "      <td>indie, female_vocalists, folk, singer_songwriter</td>\n",
              "      <td>0.464</td>\n",
              "      <td>0.672</td>\n",
              "      <td>-6.254</td>\n",
              "      <td>1</td>\n",
              "      <td>0.0790</td>\n",
              "      <td>0.079000</td>\n",
              "      <td>0.000162</td>\n",
              "      <td>0.1030</td>\n",
              "      <td>0.395</td>\n",
              "      <td>141.518</td>\n",
              "      <td>3.513767</td>\n",
              "    </tr>\n",
              "    <tr>\n",
              "      <th>13693</th>\n",
              "      <td>TRAQYPC12903CDEC02</td>\n",
              "      <td>Oh Messy Life</td>\n",
              "      <td>Cap'n Jazz</td>\n",
              "      <td>3bSLvSyE9384MWc6qxk2I1</td>\n",
              "      <td>punk, hardcore, emo</td>\n",
              "      <td>0.472</td>\n",
              "      <td>0.907</td>\n",
              "      <td>-6.386</td>\n",
              "      <td>1</td>\n",
              "      <td>0.0545</td>\n",
              "      <td>0.000691</td>\n",
              "      <td>0.000532</td>\n",
              "      <td>0.1020</td>\n",
              "      <td>0.376</td>\n",
              "      <td>107.294</td>\n",
              "      <td>2.048000</td>\n",
              "    </tr>\n",
              "    <tr>\n",
              "      <th>18334</th>\n",
              "      <td>TREOZBH128F92E605A</td>\n",
              "      <td>2113</td>\n",
              "      <td>Coheed and Cambria</td>\n",
              "      <td>0MFEW9QSrRgtdrqINJavJB</td>\n",
              "      <td>progressive_rock</td>\n",
              "      <td>0.396</td>\n",
              "      <td>0.798</td>\n",
              "      <td>-6.232</td>\n",
              "      <td>0</td>\n",
              "      <td>0.0586</td>\n",
              "      <td>0.006460</td>\n",
              "      <td>0.000412</td>\n",
              "      <td>0.0982</td>\n",
              "      <td>0.372</td>\n",
              "      <td>74.767</td>\n",
              "      <td>9.776000</td>\n",
              "    </tr>\n",
              "    <tr>\n",
              "      <th>24118</th>\n",
              "      <td>TRLNNMN128F42693A3</td>\n",
              "      <td>Phobia</td>\n",
              "      <td>Kreator</td>\n",
              "      <td>0Nqf0k55F3rTMb1q7ZXkzt</td>\n",
              "      <td>thrash_metal</td>\n",
              "      <td>0.435</td>\n",
              "      <td>0.927</td>\n",
              "      <td>-6.302</td>\n",
              "      <td>1</td>\n",
              "      <td>0.0565</td>\n",
              "      <td>0.000230</td>\n",
              "      <td>0.000004</td>\n",
              "      <td>0.1460</td>\n",
              "      <td>0.456</td>\n",
              "      <td>192.336</td>\n",
              "      <td>3.375550</td>\n",
              "    </tr>\n",
              "  </tbody>\n",
              "</table>\n",
              "</div>"
            ],
            "text/plain": [
              "                 track_id           name              artist  \\\n",
              "8553   TRLOEIJ128F931AD02     Paper Cuts             Nirvana   \n",
              "12903  TRRVUCK128F429E9B5  American Flag           Cat Power   \n",
              "13693  TRAQYPC12903CDEC02  Oh Messy Life          Cap'n Jazz   \n",
              "18334  TREOZBH128F92E605A           2113  Coheed and Cambria   \n",
              "24118  TRLNNMN128F42693A3         Phobia             Kreator   \n",
              "\n",
              "                   spotify_id  \\\n",
              "8553   2ilmU6mieDn7ztBKjYCxdf   \n",
              "12903  6L79kobWVIg7WxzUhkWUft   \n",
              "13693  3bSLvSyE9384MWc6qxk2I1   \n",
              "18334  0MFEW9QSrRgtdrqINJavJB   \n",
              "24118  0Nqf0k55F3rTMb1q7ZXkzt   \n",
              "\n",
              "                                                   tags  danceability  energy  \\\n",
              "8553                           alternative_rock, grunge         0.559   0.757   \n",
              "12903  indie, female_vocalists, folk, singer_songwriter         0.464   0.672   \n",
              "13693                               punk, hardcore, emo         0.472   0.907   \n",
              "18334                                  progressive_rock         0.396   0.798   \n",
              "24118                                      thrash_metal         0.435   0.927   \n",
              "\n",
              "       loudness  mode  speechiness  acousticness  instrumentalness  liveness  \\\n",
              "8553     -6.349     1       0.0424      0.003610          0.057200    0.1160   \n",
              "12903    -6.254     1       0.0790      0.079000          0.000162    0.1030   \n",
              "13693    -6.386     1       0.0545      0.000691          0.000532    0.1020   \n",
              "18334    -6.232     0       0.0586      0.006460          0.000412    0.0982   \n",
              "24118    -6.302     1       0.0565      0.000230          0.000004    0.1460   \n",
              "\n",
              "       valence    tempo  duration_mins  \n",
              "8553     0.331  102.169       4.097550  \n",
              "12903    0.395  141.518       3.513767  \n",
              "13693    0.376  107.294       2.048000  \n",
              "18334    0.372   74.767       9.776000  \n",
              "24118    0.456  192.336       3.375550  "
            ]
          },
          "execution_count": 132,
          "metadata": {},
          "output_type": "execute_result"
        }
      ],
      "source": [
        "rec_songs.head(5)"
      ]
    },
    {
      "cell_type": "code",
      "execution_count": 134,
      "metadata": {},
      "outputs": [
        {
          "data": {
            "text/html": [
              "<div>\n",
              "<style scoped>\n",
              "    .dataframe tbody tr th:only-of-type {\n",
              "        vertical-align: middle;\n",
              "    }\n",
              "\n",
              "    .dataframe tbody tr th {\n",
              "        vertical-align: top;\n",
              "    }\n",
              "\n",
              "    .dataframe thead th {\n",
              "        text-align: right;\n",
              "    }\n",
              "</style>\n",
              "<table border=\"1\" class=\"dataframe\">\n",
              "  <thead>\n",
              "    <tr style=\"text-align: right;\">\n",
              "      <th></th>\n",
              "      <th>name</th>\n",
              "      <th>danceability</th>\n",
              "      <th>energy</th>\n",
              "      <th>loudness</th>\n",
              "      <th>speechiness</th>\n",
              "      <th>acousticness</th>\n",
              "      <th>instrumentalness</th>\n",
              "      <th>liveness</th>\n",
              "      <th>valence</th>\n",
              "    </tr>\n",
              "  </thead>\n",
              "  <tbody>\n",
              "    <tr>\n",
              "      <th>8553</th>\n",
              "      <td>Paper Cuts</td>\n",
              "      <td>0.559</td>\n",
              "      <td>0.757</td>\n",
              "      <td>-6.349</td>\n",
              "      <td>0.0424</td>\n",
              "      <td>0.003610</td>\n",
              "      <td>0.057200</td>\n",
              "      <td>0.1160</td>\n",
              "      <td>0.331</td>\n",
              "    </tr>\n",
              "    <tr>\n",
              "      <th>12903</th>\n",
              "      <td>American Flag</td>\n",
              "      <td>0.464</td>\n",
              "      <td>0.672</td>\n",
              "      <td>-6.254</td>\n",
              "      <td>0.0790</td>\n",
              "      <td>0.079000</td>\n",
              "      <td>0.000162</td>\n",
              "      <td>0.1030</td>\n",
              "      <td>0.395</td>\n",
              "    </tr>\n",
              "    <tr>\n",
              "      <th>13693</th>\n",
              "      <td>Oh Messy Life</td>\n",
              "      <td>0.472</td>\n",
              "      <td>0.907</td>\n",
              "      <td>-6.386</td>\n",
              "      <td>0.0545</td>\n",
              "      <td>0.000691</td>\n",
              "      <td>0.000532</td>\n",
              "      <td>0.1020</td>\n",
              "      <td>0.376</td>\n",
              "    </tr>\n",
              "    <tr>\n",
              "      <th>18334</th>\n",
              "      <td>2113</td>\n",
              "      <td>0.396</td>\n",
              "      <td>0.798</td>\n",
              "      <td>-6.232</td>\n",
              "      <td>0.0586</td>\n",
              "      <td>0.006460</td>\n",
              "      <td>0.000412</td>\n",
              "      <td>0.0982</td>\n",
              "      <td>0.372</td>\n",
              "    </tr>\n",
              "    <tr>\n",
              "      <th>24118</th>\n",
              "      <td>Phobia</td>\n",
              "      <td>0.435</td>\n",
              "      <td>0.927</td>\n",
              "      <td>-6.302</td>\n",
              "      <td>0.0565</td>\n",
              "      <td>0.000230</td>\n",
              "      <td>0.000004</td>\n",
              "      <td>0.1460</td>\n",
              "      <td>0.456</td>\n",
              "    </tr>\n",
              "    <tr>\n",
              "      <th>27311</th>\n",
              "      <td>She's Nirvana</td>\n",
              "      <td>0.491</td>\n",
              "      <td>0.712</td>\n",
              "      <td>-6.422</td>\n",
              "      <td>0.0310</td>\n",
              "      <td>0.000179</td>\n",
              "      <td>0.000022</td>\n",
              "      <td>0.1280</td>\n",
              "      <td>0.352</td>\n",
              "    </tr>\n",
              "    <tr>\n",
              "      <th>31269</th>\n",
              "      <td>April Grove</td>\n",
              "      <td>0.489</td>\n",
              "      <td>0.739</td>\n",
              "      <td>-6.337</td>\n",
              "      <td>0.0313</td>\n",
              "      <td>0.001510</td>\n",
              "      <td>0.000044</td>\n",
              "      <td>0.0601</td>\n",
              "      <td>0.365</td>\n",
              "    </tr>\n",
              "    <tr>\n",
              "      <th>32401</th>\n",
              "      <td>Follow The Light</td>\n",
              "      <td>0.533</td>\n",
              "      <td>0.730</td>\n",
              "      <td>-6.407</td>\n",
              "      <td>0.0275</td>\n",
              "      <td>0.000137</td>\n",
              "      <td>0.000000</td>\n",
              "      <td>0.1200</td>\n",
              "      <td>0.340</td>\n",
              "    </tr>\n",
              "    <tr>\n",
              "      <th>39343</th>\n",
              "      <td>Rockin' Chair</td>\n",
              "      <td>0.522</td>\n",
              "      <td>0.856</td>\n",
              "      <td>-6.402</td>\n",
              "      <td>0.0334</td>\n",
              "      <td>0.000727</td>\n",
              "      <td>0.000008</td>\n",
              "      <td>0.0444</td>\n",
              "      <td>0.367</td>\n",
              "    </tr>\n",
              "    <tr>\n",
              "      <th>47673</th>\n",
              "      <td>I Can't Stand</td>\n",
              "      <td>0.460</td>\n",
              "      <td>0.725</td>\n",
              "      <td>-6.385</td>\n",
              "      <td>0.0355</td>\n",
              "      <td>0.019200</td>\n",
              "      <td>0.091300</td>\n",
              "      <td>0.0916</td>\n",
              "      <td>0.433</td>\n",
              "    </tr>\n",
              "  </tbody>\n",
              "</table>\n",
              "</div>"
            ],
            "text/plain": [
              "                   name  danceability  energy  loudness  speechiness  \\\n",
              "8553         Paper Cuts         0.559   0.757    -6.349       0.0424   \n",
              "12903     American Flag         0.464   0.672    -6.254       0.0790   \n",
              "13693     Oh Messy Life         0.472   0.907    -6.386       0.0545   \n",
              "18334              2113         0.396   0.798    -6.232       0.0586   \n",
              "24118            Phobia         0.435   0.927    -6.302       0.0565   \n",
              "27311     She's Nirvana         0.491   0.712    -6.422       0.0310   \n",
              "31269       April Grove         0.489   0.739    -6.337       0.0313   \n",
              "32401  Follow The Light         0.533   0.730    -6.407       0.0275   \n",
              "39343     Rockin' Chair         0.522   0.856    -6.402       0.0334   \n",
              "47673     I Can't Stand         0.460   0.725    -6.385       0.0355   \n",
              "\n",
              "       acousticness  instrumentalness  liveness  valence  \n",
              "8553       0.003610          0.057200    0.1160    0.331  \n",
              "12903      0.079000          0.000162    0.1030    0.395  \n",
              "13693      0.000691          0.000532    0.1020    0.376  \n",
              "18334      0.006460          0.000412    0.0982    0.372  \n",
              "24118      0.000230          0.000004    0.1460    0.456  \n",
              "27311      0.000179          0.000022    0.1280    0.352  \n",
              "31269      0.001510          0.000044    0.0601    0.365  \n",
              "32401      0.000137          0.000000    0.1200    0.340  \n",
              "39343      0.000727          0.000008    0.0444    0.367  \n",
              "47673      0.019200          0.091300    0.0916    0.433  "
            ]
          },
          "execution_count": 134,
          "metadata": {},
          "output_type": "execute_result"
        }
      ],
      "source": [
        "rec_songs = rec_songs.loc[:, ['name', 'danceability', 'energy', 'loudness', 'speechiness', 'acousticness', 'instrumentalness',\n",
        "                                'liveness', 'valence']]\n",
        "rec_songs.head(10)"
      ]
    },
    {
      "cell_type": "code",
      "execution_count": 146,
      "metadata": {},
      "outputs": [
        {
          "data": {
            "application/vnd.plotly.v1+json": {
              "config": {
                "plotlyServerURL": "https://plot.ly"
              },
              "data": [
                {
                  "marker": {
                    "color": [
                      "green",
                      "green",
                      "green",
                      "green",
                      "green",
                      "green",
                      "green",
                      "green",
                      "purple",
                      "green",
                      "blue",
                      "blue",
                      "blue",
                      "blue",
                      "blue",
                      "blue",
                      "blue",
                      "blue",
                      "blue",
                      "red",
                      "red",
                      "red",
                      "red",
                      "red",
                      "red",
                      "red",
                      "red",
                      "red",
                      "red",
                      "red",
                      "red",
                      "red",
                      "red",
                      "red",
                      "red",
                      "red",
                      "red",
                      "red",
                      "red",
                      "red",
                      "red",
                      "red",
                      "red",
                      "red",
                      "red",
                      "red",
                      "red",
                      "red",
                      "red",
                      "red",
                      "red",
                      "red",
                      "red",
                      "red",
                      "red",
                      "red",
                      "red",
                      "red",
                      "red",
                      "red",
                      "red",
                      "red",
                      "red",
                      "red",
                      "red",
                      "red",
                      "red",
                      "red",
                      "red"
                    ],
                    "colorscale": [
                      [
                        0,
                        "#440154"
                      ],
                      [
                        0.1111111111111111,
                        "#482878"
                      ],
                      [
                        0.2222222222222222,
                        "#3e4989"
                      ],
                      [
                        0.3333333333333333,
                        "#31688e"
                      ],
                      [
                        0.4444444444444444,
                        "#26828e"
                      ],
                      [
                        0.5555555555555556,
                        "#1f9e89"
                      ],
                      [
                        0.6666666666666666,
                        "#35b779"
                      ],
                      [
                        0.7777777777777778,
                        "#6ece58"
                      ],
                      [
                        0.8888888888888888,
                        "#b5de2b"
                      ],
                      [
                        1,
                        "#fde725"
                      ]
                    ],
                    "opacity": 1,
                    "size": 5
                  },
                  "mode": "markers",
                  "text": [
                    "TRAVRKY128F429EA68",
                    "TRBJRZH128F429EA62",
                    "TRNJLKP128F427CE28",
                    "TRAEUFF128F424EAAF",
                    "TRRYMIR128F9354778",
                    "TRMGOFF128F1458362",
                    "TRDJQLI128E07917C7",
                    "TRYATJD128F92FDB02",
                    "TRXAVEU128E078D3CD",
                    "TRAFUNV128F92CFEB2",
                    "TRSSQIX128F4226B55",
                    "TRISTWT128F1488FBB",
                    "TRQWUUG128F1485DAB",
                    "TRIPSQP12903CE450C",
                    "TRCESGY128E0780E09",
                    "TRNQUIT128F428A0BD",
                    "TRHRFIN128F425DEF1",
                    "TRFUIGN128F92FE2C4",
                    "TRAALAH128E078234A",
                    "TRGISXE128F9364BC2",
                    "TREXRTM128F423EDD6",
                    "TRJPAZM128F149F027",
                    "TRLFMCF128F42BC344",
                    "TRRGTOV128F425B9D1",
                    "TRJKXFH128F93236FB",
                    "TRSCTWG128F935E589",
                    "TRFTKLW128F422DE65",
                    "TRCSXOV128F427EFB1",
                    "TRPSRVV128F423EB3E",
                    "TRUMPGT128F930B8F8",
                    "TRWIELB128E079435D",
                    "TRFZZXF128F92EF279",
                    "TRAWHEL128F93163F0",
                    "TRRIYNF12903CA4761",
                    "TRRHBLR128F4213E11",
                    "TRUJNXG12903CC8134",
                    "TRSSYJK128F4285417",
                    "TRFNTDZ128F426B34D",
                    "TRMFBUD128F92F6265",
                    "TRLSXYO128F14932F1",
                    "TRAQYPC12903CDEC02",
                    "TRVFAEF128F4282100",
                    "TRLOEIJ128F931AD02",
                    "TRYBHZX128F9318A6A",
                    "TREEBNV128F932F45A",
                    "TRYFNDJ12903CDE627",
                    "TRJAHNP128F42670CA",
                    "TRCUDQS12903CCC340",
                    "TROMMET128F147A02F",
                    "TRCRDSB128F92C701A",
                    "TRMFDDI128F1499EF8",
                    "TRVELOJ128F93256C0",
                    "TRSZZVY128E078A939",
                    "TRFOTFB128F42768A9",
                    "TRLJHUR128F4288397",
                    "TRCRSTL128F42459E6",
                    "TROJWJR128F932CCF2",
                    "TRLNNMN128F42693A3",
                    "TRDFPVG128E078E974",
                    "TRMFFAD128F930EE13",
                    "TRCUMFW128F93437F8",
                    "TRHGJTK128F9310AAD",
                    "TRUKHVV128F930BD59",
                    "TRIVEST128F932DA62",
                    "TRRVUCK128F429E9B5",
                    "TRMARAE128F92F0F61",
                    "TRRMHJA128F9303E2B",
                    "TRCWVXR12903CBAD50",
                    "TREOZBH128F92E605A"
                  ],
                  "type": "scatter3d",
                  "x": [
                    -4.1992993,
                    6.9004855,
                    19.310902,
                    -16.577168,
                    6.316984,
                    16.253517,
                    -11.745608,
                    7.5356927,
                    -21.340315,
                    -24.388775,
                    13.578725,
                    19.310902,
                    -10.25986,
                    19.310902,
                    -16.042088,
                    4.4033723,
                    3.1304674,
                    -20.905947,
                    -2.113382,
                    -1.4690841,
                    0.40317214,
                    -11.951968,
                    -10.685644,
                    8.24393,
                    -13.410142,
                    -0.10093905,
                    -11.6688595,
                    -2.6395626,
                    -8.204266,
                    -2.8193996,
                    -2.0096302,
                    -25.291803,
                    -18.848793,
                    8.019843,
                    14.895043,
                    -3.2043934,
                    -14.071884,
                    -3.5770073,
                    10.540648,
                    -22.020838,
                    19.310902,
                    -10.23427,
                    2.841705,
                    -20.738714,
                    -7.550506,
                    -6.3315754,
                    -6.312347,
                    -8.59226,
                    -19.097372,
                    -19.255451,
                    5.6248636,
                    15.001805,
                    5.6499324,
                    3.9557915,
                    -10.010111,
                    -20.877512,
                    0.58459353,
                    10.755963,
                    -20.074835,
                    -6.6280956,
                    -3.9907308,
                    -13.023542,
                    -9.379495,
                    -6.7954,
                    8.879899,
                    -0.9911955,
                    15.116337,
                    -10.847677,
                    15.173157
                  ],
                  "y": [
                    11.893612,
                    17.305777,
                    -4.2265973,
                    -0.17514293,
                    -22.41729,
                    17.02778,
                    -11.674772,
                    18.172321,
                    -1.0334541,
                    -7.5265474,
                    16.149502,
                    -4.2265973,
                    9.708511,
                    -4.2265973,
                    -7.1895266,
                    17.729382,
                    -23.623743,
                    -4.887905,
                    -23.931332,
                    -18.18521,
                    9.37393,
                    8.755932,
                    18.427977,
                    20.635752,
                    17.263542,
                    20.60616,
                    17.282581,
                    17.39008,
                    -22.32642,
                    12.08741,
                    1.0280815,
                    -5.7344713,
                    -1.2032304,
                    -3.8434606,
                    7.835824,
                    25.10886,
                    -6.402289,
                    -9.86938,
                    12.576802,
                    -0.04946981,
                    -4.2265973,
                    13.360721,
                    8.11407,
                    -4.236561,
                    -13.53775,
                    9.964095,
                    18.673817,
                    9.106939,
                    -12.549307,
                    5.896808,
                    9.010339,
                    15.106708,
                    19.885443,
                    -19.043053,
                    -6.556615,
                    -1.6653519,
                    24.671423,
                    0.49389526,
                    -5.3679514,
                    14.0085125,
                    -15.057633,
                    7.0817404,
                    -7.5903177,
                    15.732015,
                    2.198514,
                    -13.8124,
                    13.969838,
                    -13.586841,
                    12.9715805
                  ],
                  "z": [
                    3.9021583,
                    -17.46768,
                    9.182249,
                    12.506137,
                    -5.9521537,
                    -3.6133924,
                    10.028459,
                    0.51022404,
                    10.453219,
                    -3.0646985,
                    4.870252,
                    9.182249,
                    10.926686,
                    9.182249,
                    -0.8507606,
                    9.571854,
                    11.191215,
                    -3.7160246,
                    7.150173,
                    3.5650887,
                    -9.365403,
                    8.390095,
                    -4.5460978,
                    -7.6508956,
                    -12.199745,
                    -0.9393507,
                    -9.720915,
                    -9.023539,
                    -5.5436897,
                    -5.176759,
                    20.55607,
                    -1.1620058,
                    -0.9435378,
                    -6.606646,
                    -5.315202,
                    -3.9076543,
                    8.667824,
                    4.1999187,
                    -7.794325,
                    0.9880527,
                    9.182249,
                    -2.6389706,
                    -11.82743,
                    8.357156,
                    -12.673265,
                    -5.69611,
                    -16.404106,
                    17.745316,
                    3.3327708,
                    1.784321,
                    -17.757515,
                    12.775938,
                    1.4341921,
                    -7.6255627,
                    11.006727,
                    3.3162682,
                    -8.07934,
                    -17.757164,
                    10.811486,
                    -6.688937,
                    9.240917,
                    10.457367,
                    10.864264,
                    2.817279,
                    -17.723536,
                    4.5936804,
                    14.63757,
                    3.3313532,
                    -4.9934564
                  ]
                }
              ],
              "layout": {
                "height": 800,
                "legend": {
                  "title": {
                    "text": "Songs"
                  }
                },
                "scene": {
                  "xaxis": {
                    "title": {
                      "text": "x"
                    }
                  },
                  "yaxis": {
                    "title": {
                      "text": "y"
                    }
                  },
                  "zaxis": {
                    "title": {
                      "text": "z"
                    }
                  }
                },
                "template": {
                  "data": {
                    "bar": [
                      {
                        "error_x": {
                          "color": "#2a3f5f"
                        },
                        "error_y": {
                          "color": "#2a3f5f"
                        },
                        "marker": {
                          "line": {
                            "color": "#E5ECF6",
                            "width": 0.5
                          },
                          "pattern": {
                            "fillmode": "overlay",
                            "size": 10,
                            "solidity": 0.2
                          }
                        },
                        "type": "bar"
                      }
                    ],
                    "barpolar": [
                      {
                        "marker": {
                          "line": {
                            "color": "#E5ECF6",
                            "width": 0.5
                          },
                          "pattern": {
                            "fillmode": "overlay",
                            "size": 10,
                            "solidity": 0.2
                          }
                        },
                        "type": "barpolar"
                      }
                    ],
                    "carpet": [
                      {
                        "aaxis": {
                          "endlinecolor": "#2a3f5f",
                          "gridcolor": "white",
                          "linecolor": "white",
                          "minorgridcolor": "white",
                          "startlinecolor": "#2a3f5f"
                        },
                        "baxis": {
                          "endlinecolor": "#2a3f5f",
                          "gridcolor": "white",
                          "linecolor": "white",
                          "minorgridcolor": "white",
                          "startlinecolor": "#2a3f5f"
                        },
                        "type": "carpet"
                      }
                    ],
                    "choropleth": [
                      {
                        "colorbar": {
                          "outlinewidth": 0,
                          "ticks": ""
                        },
                        "type": "choropleth"
                      }
                    ],
                    "contour": [
                      {
                        "colorbar": {
                          "outlinewidth": 0,
                          "ticks": ""
                        },
                        "colorscale": [
                          [
                            0,
                            "#0d0887"
                          ],
                          [
                            0.1111111111111111,
                            "#46039f"
                          ],
                          [
                            0.2222222222222222,
                            "#7201a8"
                          ],
                          [
                            0.3333333333333333,
                            "#9c179e"
                          ],
                          [
                            0.4444444444444444,
                            "#bd3786"
                          ],
                          [
                            0.5555555555555556,
                            "#d8576b"
                          ],
                          [
                            0.6666666666666666,
                            "#ed7953"
                          ],
                          [
                            0.7777777777777778,
                            "#fb9f3a"
                          ],
                          [
                            0.8888888888888888,
                            "#fdca26"
                          ],
                          [
                            1,
                            "#f0f921"
                          ]
                        ],
                        "type": "contour"
                      }
                    ],
                    "contourcarpet": [
                      {
                        "colorbar": {
                          "outlinewidth": 0,
                          "ticks": ""
                        },
                        "type": "contourcarpet"
                      }
                    ],
                    "heatmap": [
                      {
                        "colorbar": {
                          "outlinewidth": 0,
                          "ticks": ""
                        },
                        "colorscale": [
                          [
                            0,
                            "#0d0887"
                          ],
                          [
                            0.1111111111111111,
                            "#46039f"
                          ],
                          [
                            0.2222222222222222,
                            "#7201a8"
                          ],
                          [
                            0.3333333333333333,
                            "#9c179e"
                          ],
                          [
                            0.4444444444444444,
                            "#bd3786"
                          ],
                          [
                            0.5555555555555556,
                            "#d8576b"
                          ],
                          [
                            0.6666666666666666,
                            "#ed7953"
                          ],
                          [
                            0.7777777777777778,
                            "#fb9f3a"
                          ],
                          [
                            0.8888888888888888,
                            "#fdca26"
                          ],
                          [
                            1,
                            "#f0f921"
                          ]
                        ],
                        "type": "heatmap"
                      }
                    ],
                    "heatmapgl": [
                      {
                        "colorbar": {
                          "outlinewidth": 0,
                          "ticks": ""
                        },
                        "colorscale": [
                          [
                            0,
                            "#0d0887"
                          ],
                          [
                            0.1111111111111111,
                            "#46039f"
                          ],
                          [
                            0.2222222222222222,
                            "#7201a8"
                          ],
                          [
                            0.3333333333333333,
                            "#9c179e"
                          ],
                          [
                            0.4444444444444444,
                            "#bd3786"
                          ],
                          [
                            0.5555555555555556,
                            "#d8576b"
                          ],
                          [
                            0.6666666666666666,
                            "#ed7953"
                          ],
                          [
                            0.7777777777777778,
                            "#fb9f3a"
                          ],
                          [
                            0.8888888888888888,
                            "#fdca26"
                          ],
                          [
                            1,
                            "#f0f921"
                          ]
                        ],
                        "type": "heatmapgl"
                      }
                    ],
                    "histogram": [
                      {
                        "marker": {
                          "pattern": {
                            "fillmode": "overlay",
                            "size": 10,
                            "solidity": 0.2
                          }
                        },
                        "type": "histogram"
                      }
                    ],
                    "histogram2d": [
                      {
                        "colorbar": {
                          "outlinewidth": 0,
                          "ticks": ""
                        },
                        "colorscale": [
                          [
                            0,
                            "#0d0887"
                          ],
                          [
                            0.1111111111111111,
                            "#46039f"
                          ],
                          [
                            0.2222222222222222,
                            "#7201a8"
                          ],
                          [
                            0.3333333333333333,
                            "#9c179e"
                          ],
                          [
                            0.4444444444444444,
                            "#bd3786"
                          ],
                          [
                            0.5555555555555556,
                            "#d8576b"
                          ],
                          [
                            0.6666666666666666,
                            "#ed7953"
                          ],
                          [
                            0.7777777777777778,
                            "#fb9f3a"
                          ],
                          [
                            0.8888888888888888,
                            "#fdca26"
                          ],
                          [
                            1,
                            "#f0f921"
                          ]
                        ],
                        "type": "histogram2d"
                      }
                    ],
                    "histogram2dcontour": [
                      {
                        "colorbar": {
                          "outlinewidth": 0,
                          "ticks": ""
                        },
                        "colorscale": [
                          [
                            0,
                            "#0d0887"
                          ],
                          [
                            0.1111111111111111,
                            "#46039f"
                          ],
                          [
                            0.2222222222222222,
                            "#7201a8"
                          ],
                          [
                            0.3333333333333333,
                            "#9c179e"
                          ],
                          [
                            0.4444444444444444,
                            "#bd3786"
                          ],
                          [
                            0.5555555555555556,
                            "#d8576b"
                          ],
                          [
                            0.6666666666666666,
                            "#ed7953"
                          ],
                          [
                            0.7777777777777778,
                            "#fb9f3a"
                          ],
                          [
                            0.8888888888888888,
                            "#fdca26"
                          ],
                          [
                            1,
                            "#f0f921"
                          ]
                        ],
                        "type": "histogram2dcontour"
                      }
                    ],
                    "mesh3d": [
                      {
                        "colorbar": {
                          "outlinewidth": 0,
                          "ticks": ""
                        },
                        "type": "mesh3d"
                      }
                    ],
                    "parcoords": [
                      {
                        "line": {
                          "colorbar": {
                            "outlinewidth": 0,
                            "ticks": ""
                          }
                        },
                        "type": "parcoords"
                      }
                    ],
                    "pie": [
                      {
                        "automargin": true,
                        "type": "pie"
                      }
                    ],
                    "scatter": [
                      {
                        "fillpattern": {
                          "fillmode": "overlay",
                          "size": 10,
                          "solidity": 0.2
                        },
                        "type": "scatter"
                      }
                    ],
                    "scatter3d": [
                      {
                        "line": {
                          "colorbar": {
                            "outlinewidth": 0,
                            "ticks": ""
                          }
                        },
                        "marker": {
                          "colorbar": {
                            "outlinewidth": 0,
                            "ticks": ""
                          }
                        },
                        "type": "scatter3d"
                      }
                    ],
                    "scattercarpet": [
                      {
                        "marker": {
                          "colorbar": {
                            "outlinewidth": 0,
                            "ticks": ""
                          }
                        },
                        "type": "scattercarpet"
                      }
                    ],
                    "scattergeo": [
                      {
                        "marker": {
                          "colorbar": {
                            "outlinewidth": 0,
                            "ticks": ""
                          }
                        },
                        "type": "scattergeo"
                      }
                    ],
                    "scattergl": [
                      {
                        "marker": {
                          "colorbar": {
                            "outlinewidth": 0,
                            "ticks": ""
                          }
                        },
                        "type": "scattergl"
                      }
                    ],
                    "scattermapbox": [
                      {
                        "marker": {
                          "colorbar": {
                            "outlinewidth": 0,
                            "ticks": ""
                          }
                        },
                        "type": "scattermapbox"
                      }
                    ],
                    "scatterpolar": [
                      {
                        "marker": {
                          "colorbar": {
                            "outlinewidth": 0,
                            "ticks": ""
                          }
                        },
                        "type": "scatterpolar"
                      }
                    ],
                    "scatterpolargl": [
                      {
                        "marker": {
                          "colorbar": {
                            "outlinewidth": 0,
                            "ticks": ""
                          }
                        },
                        "type": "scatterpolargl"
                      }
                    ],
                    "scatterternary": [
                      {
                        "marker": {
                          "colorbar": {
                            "outlinewidth": 0,
                            "ticks": ""
                          }
                        },
                        "type": "scatterternary"
                      }
                    ],
                    "surface": [
                      {
                        "colorbar": {
                          "outlinewidth": 0,
                          "ticks": ""
                        },
                        "colorscale": [
                          [
                            0,
                            "#0d0887"
                          ],
                          [
                            0.1111111111111111,
                            "#46039f"
                          ],
                          [
                            0.2222222222222222,
                            "#7201a8"
                          ],
                          [
                            0.3333333333333333,
                            "#9c179e"
                          ],
                          [
                            0.4444444444444444,
                            "#bd3786"
                          ],
                          [
                            0.5555555555555556,
                            "#d8576b"
                          ],
                          [
                            0.6666666666666666,
                            "#ed7953"
                          ],
                          [
                            0.7777777777777778,
                            "#fb9f3a"
                          ],
                          [
                            0.8888888888888888,
                            "#fdca26"
                          ],
                          [
                            1,
                            "#f0f921"
                          ]
                        ],
                        "type": "surface"
                      }
                    ],
                    "table": [
                      {
                        "cells": {
                          "fill": {
                            "color": "#EBF0F8"
                          },
                          "line": {
                            "color": "white"
                          }
                        },
                        "header": {
                          "fill": {
                            "color": "#C8D4E3"
                          },
                          "line": {
                            "color": "white"
                          }
                        },
                        "type": "table"
                      }
                    ]
                  },
                  "layout": {
                    "annotationdefaults": {
                      "arrowcolor": "#2a3f5f",
                      "arrowhead": 0,
                      "arrowwidth": 1
                    },
                    "autotypenumbers": "strict",
                    "coloraxis": {
                      "colorbar": {
                        "outlinewidth": 0,
                        "ticks": ""
                      }
                    },
                    "colorscale": {
                      "diverging": [
                        [
                          0,
                          "#8e0152"
                        ],
                        [
                          0.1,
                          "#c51b7d"
                        ],
                        [
                          0.2,
                          "#de77ae"
                        ],
                        [
                          0.3,
                          "#f1b6da"
                        ],
                        [
                          0.4,
                          "#fde0ef"
                        ],
                        [
                          0.5,
                          "#f7f7f7"
                        ],
                        [
                          0.6,
                          "#e6f5d0"
                        ],
                        [
                          0.7,
                          "#b8e186"
                        ],
                        [
                          0.8,
                          "#7fbc41"
                        ],
                        [
                          0.9,
                          "#4d9221"
                        ],
                        [
                          1,
                          "#276419"
                        ]
                      ],
                      "sequential": [
                        [
                          0,
                          "#0d0887"
                        ],
                        [
                          0.1111111111111111,
                          "#46039f"
                        ],
                        [
                          0.2222222222222222,
                          "#7201a8"
                        ],
                        [
                          0.3333333333333333,
                          "#9c179e"
                        ],
                        [
                          0.4444444444444444,
                          "#bd3786"
                        ],
                        [
                          0.5555555555555556,
                          "#d8576b"
                        ],
                        [
                          0.6666666666666666,
                          "#ed7953"
                        ],
                        [
                          0.7777777777777778,
                          "#fb9f3a"
                        ],
                        [
                          0.8888888888888888,
                          "#fdca26"
                        ],
                        [
                          1,
                          "#f0f921"
                        ]
                      ],
                      "sequentialminus": [
                        [
                          0,
                          "#0d0887"
                        ],
                        [
                          0.1111111111111111,
                          "#46039f"
                        ],
                        [
                          0.2222222222222222,
                          "#7201a8"
                        ],
                        [
                          0.3333333333333333,
                          "#9c179e"
                        ],
                        [
                          0.4444444444444444,
                          "#bd3786"
                        ],
                        [
                          0.5555555555555556,
                          "#d8576b"
                        ],
                        [
                          0.6666666666666666,
                          "#ed7953"
                        ],
                        [
                          0.7777777777777778,
                          "#fb9f3a"
                        ],
                        [
                          0.8888888888888888,
                          "#fdca26"
                        ],
                        [
                          1,
                          "#f0f921"
                        ]
                      ]
                    },
                    "colorway": [
                      "#636efa",
                      "#EF553B",
                      "#00cc96",
                      "#ab63fa",
                      "#FFA15A",
                      "#19d3f3",
                      "#FF6692",
                      "#B6E880",
                      "#FF97FF",
                      "#FECB52"
                    ],
                    "font": {
                      "color": "#2a3f5f"
                    },
                    "geo": {
                      "bgcolor": "white",
                      "lakecolor": "white",
                      "landcolor": "#E5ECF6",
                      "showlakes": true,
                      "showland": true,
                      "subunitcolor": "white"
                    },
                    "hoverlabel": {
                      "align": "left"
                    },
                    "hovermode": "closest",
                    "mapbox": {
                      "style": "light"
                    },
                    "paper_bgcolor": "white",
                    "plot_bgcolor": "#E5ECF6",
                    "polar": {
                      "angularaxis": {
                        "gridcolor": "white",
                        "linecolor": "white",
                        "ticks": ""
                      },
                      "bgcolor": "#E5ECF6",
                      "radialaxis": {
                        "gridcolor": "white",
                        "linecolor": "white",
                        "ticks": ""
                      }
                    },
                    "scene": {
                      "xaxis": {
                        "backgroundcolor": "#E5ECF6",
                        "gridcolor": "white",
                        "gridwidth": 2,
                        "linecolor": "white",
                        "showbackground": true,
                        "ticks": "",
                        "zerolinecolor": "white"
                      },
                      "yaxis": {
                        "backgroundcolor": "#E5ECF6",
                        "gridcolor": "white",
                        "gridwidth": 2,
                        "linecolor": "white",
                        "showbackground": true,
                        "ticks": "",
                        "zerolinecolor": "white"
                      },
                      "zaxis": {
                        "backgroundcolor": "#E5ECF6",
                        "gridcolor": "white",
                        "gridwidth": 2,
                        "linecolor": "white",
                        "showbackground": true,
                        "ticks": "",
                        "zerolinecolor": "white"
                      }
                    },
                    "shapedefaults": {
                      "line": {
                        "color": "#2a3f5f"
                      }
                    },
                    "ternary": {
                      "aaxis": {
                        "gridcolor": "white",
                        "linecolor": "white",
                        "ticks": ""
                      },
                      "baxis": {
                        "gridcolor": "white",
                        "linecolor": "white",
                        "ticks": ""
                      },
                      "bgcolor": "#E5ECF6",
                      "caxis": {
                        "gridcolor": "white",
                        "linecolor": "white",
                        "ticks": ""
                      }
                    },
                    "title": {
                      "x": 0.05
                    },
                    "xaxis": {
                      "automargin": true,
                      "gridcolor": "white",
                      "linecolor": "white",
                      "ticks": "",
                      "title": {
                        "standoff": 15
                      },
                      "zerolinecolor": "white",
                      "zerolinewidth": 2
                    },
                    "yaxis": {
                      "automargin": true,
                      "gridcolor": "white",
                      "linecolor": "white",
                      "ticks": "",
                      "title": {
                        "standoff": 15
                      },
                      "zerolinecolor": "white",
                      "zerolinewidth": 2
                    }
                  }
                },
                "width": 1000
              }
            }
          },
          "metadata": {},
          "output_type": "display_data"
        }
      ],
      "source": [
        "fig = go.Figure()\n",
        "\n",
        "text_data = list(candidates.keys())\n",
        "embeddings_3d = np.concatenate(list(candidates.values())).reshape(len(candidates), 3)\n",
        "\n",
        "color_data = ['blue' if i < cutoff else 'red' for i in range(len(candidates))]\n",
        "for i in closest_candidates_indices:\n",
        "    color_data[i] = 'green'\n",
        "color_data[closest_candidates_indices[0]] = 'purple'\n",
        "\n",
        "fig.add_trace(go.Scatter3d(\n",
        "    x=embeddings_3d[:, 0],\n",
        "    y=embeddings_3d[:, 1],\n",
        "    z=embeddings_3d[:, 2],\n",
        "    text=text_data,\n",
        "    mode='markers',\n",
        "    marker=dict(\n",
        "        size=5,\n",
        "        color=color_data,\n",
        "        colorscale='Viridis',\n",
        "        opacity=1\n",
        "    )\n",
        "))\n",
        "\n",
        "\n",
        "fig.update_layout(\n",
        "    scene=dict(\n",
        "        xaxis=dict(title='x'),\n",
        "        yaxis=dict(title='y'),\n",
        "        zaxis=dict(title='z')\n",
        "    ),\n",
        "\twidth=1000,\n",
        "    height=800\n",
        ")\n",
        "fig.update_layout(legend_title_text = \"Songs\")\n",
        "\n",
        "fig.show()\n"
      ]
    },
    {
      "cell_type": "markdown",
      "metadata": {},
      "source": [
        "### Spotify API Evaluation\n",
        "Get recommendations from Spotify by passing in minimum and maximum feature values, and compare the songs to our recommended playlist.\n"
      ]
    },
    {
      "cell_type": "code",
      "execution_count": 138,
      "metadata": {},
      "outputs": [
        {
          "data": {
            "text/plain": [
              "{'min_danceability': 0.247,\n",
              " 'max_danceability': 0.718,\n",
              " 'min_energy': 0.478,\n",
              " 'max_energy': 0.985,\n",
              " 'min_loudness': -13.628,\n",
              " 'max_loudness': -3.094,\n",
              " 'min_speechiness': 0.0299,\n",
              " 'max_speechiness': 0.217,\n",
              " 'min_acousticness': 0.000421,\n",
              " 'max_acousticness': 0.777,\n",
              " 'min_instrumentalness': 0.0,\n",
              " 'max_instrumentalness': 0.918,\n",
              " 'min_liveness': 0.0907,\n",
              " 'max_liveness': 0.829,\n",
              " 'min_valence': 0.0666,\n",
              " 'max_valence': 0.923,\n",
              " 'seed_genres': 'rock, alternative, indie'}"
            ]
          },
          "execution_count": 138,
          "metadata": {},
          "output_type": "execute_result"
        }
      ],
      "source": [
        "from spotify import SpotifyAPI\n",
        "from dotenv import load_dotenv\n",
        "# Get the input playlist\n",
        "# Traverse along each song in playlist and preserve min max of feature values and \n",
        "# Store in list that gets passed to parameters for Spotify APIcommendations\n",
        "\n",
        "input_playlist = og_songs\n",
        "features = dict()\n",
        "feature_names = [\"danceability\",\"energy\",\"loudness\",\"speechiness\",\"acousticness\",\"instrumentalness\",\"liveness\", \"valence\"]\n",
        "\n",
        "for feature in feature_names:\n",
        "    features[\"min_\" + feature] = input_playlist[feature].min()\n",
        "    features[\"max_\" + feature] = input_playlist[feature].max()\n",
        "\n",
        "features[\"seed_genres\"] = input_playlist['tags'].iloc[0].split(',')[:3]\n",
        "features[\"seed_genres\"] = ','.join(features[\"seed_genres\"])\n",
        "features\n"
      ]
    },
    {
      "cell_type": "code",
      "execution_count": 139,
      "metadata": {},
      "outputs": [
        {
          "data": {
            "text/plain": [
              "['1fa1ca9358074af48f6230e7b13c0737', '880a92c5194f496b929d0d4d96ec3a59']"
            ]
          },
          "execution_count": 139,
          "metadata": {},
          "output_type": "execute_result"
        }
      ],
      "source": [
        "env_path = os.path.join('misc', '.env')\n",
        "load_dotenv(dotenv_path=env_path)\n",
        "SPOTIFY_CREDS = [os.getenv('SPOTIFY_CLIENT_ID'), \n",
        "                os.getenv('SPOTIFY_CLIENT_SECRET')]\n",
        "\n",
        "if not all(SPOTIFY_CREDS):\n",
        "        print(\"Please set the SPOTIFY_CLIENT_ID and SPOTIFY_CLIENT_SECRET environment variables\")\n",
        "        exit(1)\n",
        "\n",
        "spotify = SpotifyAPI(*SPOTIFY_CREDS)\n",
        "SPOTIFY_CREDS"
      ]
    },
    {
      "cell_type": "code",
      "execution_count": 140,
      "metadata": {},
      "outputs": [],
      "source": [
        "recs_from_spotify = spotify.get_recommendations(features=features, limit=10)"
      ]
    },
    {
      "cell_type": "code",
      "execution_count": 141,
      "metadata": {},
      "outputs": [
        {
          "data": {
            "text/html": [
              "<div>\n",
              "<style scoped>\n",
              "    .dataframe tbody tr th:only-of-type {\n",
              "        vertical-align: middle;\n",
              "    }\n",
              "\n",
              "    .dataframe tbody tr th {\n",
              "        vertical-align: top;\n",
              "    }\n",
              "\n",
              "    .dataframe thead th {\n",
              "        text-align: right;\n",
              "    }\n",
              "</style>\n",
              "<table border=\"1\" class=\"dataframe\">\n",
              "  <thead>\n",
              "    <tr style=\"text-align: right;\">\n",
              "      <th></th>\n",
              "      <th>name</th>\n",
              "      <th>danceability</th>\n",
              "      <th>energy</th>\n",
              "      <th>loudness</th>\n",
              "      <th>speechiness</th>\n",
              "      <th>acousticness</th>\n",
              "      <th>instrumentalness</th>\n",
              "      <th>liveness</th>\n",
              "      <th>valence</th>\n",
              "    </tr>\n",
              "  </thead>\n",
              "  <tbody>\n",
              "    <tr>\n",
              "      <th>0</th>\n",
              "      <td>Aces High - 1998 Remastered Version</td>\n",
              "      <td>0.305</td>\n",
              "      <td>0.974</td>\n",
              "      <td>-5.079</td>\n",
              "      <td>0.0639</td>\n",
              "      <td>0.000937</td>\n",
              "      <td>0.013900</td>\n",
              "      <td>0.153</td>\n",
              "      <td>0.538</td>\n",
              "    </tr>\n",
              "    <tr>\n",
              "      <th>1</th>\n",
              "      <td>I Will Wait</td>\n",
              "      <td>0.481</td>\n",
              "      <td>0.766</td>\n",
              "      <td>-5.208</td>\n",
              "      <td>0.0334</td>\n",
              "      <td>0.010300</td>\n",
              "      <td>0.006700</td>\n",
              "      <td>0.302</td>\n",
              "      <td>0.436</td>\n",
              "    </tr>\n",
              "    <tr>\n",
              "      <th>2</th>\n",
              "      <td>Africa</td>\n",
              "      <td>0.500</td>\n",
              "      <td>0.770</td>\n",
              "      <td>-5.059</td>\n",
              "      <td>0.0432</td>\n",
              "      <td>0.238000</td>\n",
              "      <td>0.006360</td>\n",
              "      <td>0.104</td>\n",
              "      <td>0.633</td>\n",
              "    </tr>\n",
              "    <tr>\n",
              "      <th>3</th>\n",
              "      <td>Whatever It Takes</td>\n",
              "      <td>0.686</td>\n",
              "      <td>0.862</td>\n",
              "      <td>-3.426</td>\n",
              "      <td>0.0340</td>\n",
              "      <td>0.002070</td>\n",
              "      <td>0.000011</td>\n",
              "      <td>0.148</td>\n",
              "      <td>0.472</td>\n",
              "    </tr>\n",
              "    <tr>\n",
              "      <th>4</th>\n",
              "      <td>Numb / Encore</td>\n",
              "      <td>0.687</td>\n",
              "      <td>0.793</td>\n",
              "      <td>-4.254</td>\n",
              "      <td>0.1660</td>\n",
              "      <td>0.060300</td>\n",
              "      <td>0.000000</td>\n",
              "      <td>0.582</td>\n",
              "      <td>0.751</td>\n",
              "    </tr>\n",
              "    <tr>\n",
              "      <th>5</th>\n",
              "      <td>Bitter Sweet Symphony - Remastered 2016</td>\n",
              "      <td>0.356</td>\n",
              "      <td>0.917</td>\n",
              "      <td>-6.006</td>\n",
              "      <td>0.0479</td>\n",
              "      <td>0.033500</td>\n",
              "      <td>0.000000</td>\n",
              "      <td>0.406</td>\n",
              "      <td>0.518</td>\n",
              "    </tr>\n",
              "    <tr>\n",
              "      <th>6</th>\n",
              "      <td>Break Stuff</td>\n",
              "      <td>0.432</td>\n",
              "      <td>0.884</td>\n",
              "      <td>-6.657</td>\n",
              "      <td>0.1280</td>\n",
              "      <td>0.012800</td>\n",
              "      <td>0.000457</td>\n",
              "      <td>0.166</td>\n",
              "      <td>0.619</td>\n",
              "    </tr>\n",
              "    <tr>\n",
              "      <th>7</th>\n",
              "      <td>Hold the Line</td>\n",
              "      <td>0.473</td>\n",
              "      <td>0.898</td>\n",
              "      <td>-4.797</td>\n",
              "      <td>0.0561</td>\n",
              "      <td>0.007830</td>\n",
              "      <td>0.061800</td>\n",
              "      <td>0.173</td>\n",
              "      <td>0.808</td>\n",
              "    </tr>\n",
              "    <tr>\n",
              "      <th>8</th>\n",
              "      <td>Numb</td>\n",
              "      <td>0.488</td>\n",
              "      <td>0.870</td>\n",
              "      <td>-4.185</td>\n",
              "      <td>0.0421</td>\n",
              "      <td>0.003530</td>\n",
              "      <td>0.000000</td>\n",
              "      <td>0.484</td>\n",
              "      <td>0.211</td>\n",
              "    </tr>\n",
              "    <tr>\n",
              "      <th>9</th>\n",
              "      <td>Someday</td>\n",
              "      <td>0.542</td>\n",
              "      <td>0.531</td>\n",
              "      <td>-7.481</td>\n",
              "      <td>0.0301</td>\n",
              "      <td>0.003300</td>\n",
              "      <td>0.000002</td>\n",
              "      <td>0.338</td>\n",
              "      <td>0.671</td>\n",
              "    </tr>\n",
              "  </tbody>\n",
              "</table>\n",
              "</div>"
            ],
            "text/plain": [
              "                                      name  danceability  energy  loudness  \\\n",
              "0      Aces High - 1998 Remastered Version         0.305   0.974    -5.079   \n",
              "1                              I Will Wait         0.481   0.766    -5.208   \n",
              "2                                   Africa         0.500   0.770    -5.059   \n",
              "3                        Whatever It Takes         0.686   0.862    -3.426   \n",
              "4                            Numb / Encore         0.687   0.793    -4.254   \n",
              "5  Bitter Sweet Symphony - Remastered 2016         0.356   0.917    -6.006   \n",
              "6                              Break Stuff         0.432   0.884    -6.657   \n",
              "7                            Hold the Line         0.473   0.898    -4.797   \n",
              "8                                     Numb         0.488   0.870    -4.185   \n",
              "9                                  Someday         0.542   0.531    -7.481   \n",
              "\n",
              "   speechiness  acousticness  instrumentalness  liveness  valence  \n",
              "0       0.0639      0.000937          0.013900     0.153    0.538  \n",
              "1       0.0334      0.010300          0.006700     0.302    0.436  \n",
              "2       0.0432      0.238000          0.006360     0.104    0.633  \n",
              "3       0.0340      0.002070          0.000011     0.148    0.472  \n",
              "4       0.1660      0.060300          0.000000     0.582    0.751  \n",
              "5       0.0479      0.033500          0.000000     0.406    0.518  \n",
              "6       0.1280      0.012800          0.000457     0.166    0.619  \n",
              "7       0.0561      0.007830          0.061800     0.173    0.808  \n",
              "8       0.0421      0.003530          0.000000     0.484    0.211  \n",
              "9       0.0301      0.003300          0.000002     0.338    0.671  "
            ]
          },
          "execution_count": 141,
          "metadata": {},
          "output_type": "execute_result"
        }
      ],
      "source": [
        "# SPOTIFY's PREDICTED RECOMMENDATIONS\n",
        "recs_from_spotify = recs_from_spotify.loc[:, ['name', 'danceability', 'energy', 'loudness', 'speechiness', 'acousticness', 'instrumentalness',\n",
        "                                'liveness', 'valence']]\n",
        "recs_from_spotify"
      ]
    },
    {
      "cell_type": "code",
      "execution_count": 142,
      "metadata": {},
      "outputs": [
        {
          "data": {
            "text/html": [
              "<div>\n",
              "<style scoped>\n",
              "    .dataframe tbody tr th:only-of-type {\n",
              "        vertical-align: middle;\n",
              "    }\n",
              "\n",
              "    .dataframe tbody tr th {\n",
              "        vertical-align: top;\n",
              "    }\n",
              "\n",
              "    .dataframe thead th {\n",
              "        text-align: right;\n",
              "    }\n",
              "</style>\n",
              "<table border=\"1\" class=\"dataframe\">\n",
              "  <thead>\n",
              "    <tr style=\"text-align: right;\">\n",
              "      <th></th>\n",
              "      <th>name</th>\n",
              "      <th>danceability</th>\n",
              "      <th>energy</th>\n",
              "      <th>loudness</th>\n",
              "      <th>speechiness</th>\n",
              "      <th>acousticness</th>\n",
              "      <th>instrumentalness</th>\n",
              "      <th>liveness</th>\n",
              "      <th>valence</th>\n",
              "    </tr>\n",
              "  </thead>\n",
              "  <tbody>\n",
              "    <tr>\n",
              "      <th>8553</th>\n",
              "      <td>Paper Cuts</td>\n",
              "      <td>0.559</td>\n",
              "      <td>0.757</td>\n",
              "      <td>-6.349</td>\n",
              "      <td>0.0424</td>\n",
              "      <td>0.003610</td>\n",
              "      <td>0.057200</td>\n",
              "      <td>0.1160</td>\n",
              "      <td>0.331</td>\n",
              "    </tr>\n",
              "    <tr>\n",
              "      <th>12903</th>\n",
              "      <td>American Flag</td>\n",
              "      <td>0.464</td>\n",
              "      <td>0.672</td>\n",
              "      <td>-6.254</td>\n",
              "      <td>0.0790</td>\n",
              "      <td>0.079000</td>\n",
              "      <td>0.000162</td>\n",
              "      <td>0.1030</td>\n",
              "      <td>0.395</td>\n",
              "    </tr>\n",
              "    <tr>\n",
              "      <th>13693</th>\n",
              "      <td>Oh Messy Life</td>\n",
              "      <td>0.472</td>\n",
              "      <td>0.907</td>\n",
              "      <td>-6.386</td>\n",
              "      <td>0.0545</td>\n",
              "      <td>0.000691</td>\n",
              "      <td>0.000532</td>\n",
              "      <td>0.1020</td>\n",
              "      <td>0.376</td>\n",
              "    </tr>\n",
              "    <tr>\n",
              "      <th>18334</th>\n",
              "      <td>2113</td>\n",
              "      <td>0.396</td>\n",
              "      <td>0.798</td>\n",
              "      <td>-6.232</td>\n",
              "      <td>0.0586</td>\n",
              "      <td>0.006460</td>\n",
              "      <td>0.000412</td>\n",
              "      <td>0.0982</td>\n",
              "      <td>0.372</td>\n",
              "    </tr>\n",
              "    <tr>\n",
              "      <th>24118</th>\n",
              "      <td>Phobia</td>\n",
              "      <td>0.435</td>\n",
              "      <td>0.927</td>\n",
              "      <td>-6.302</td>\n",
              "      <td>0.0565</td>\n",
              "      <td>0.000230</td>\n",
              "      <td>0.000004</td>\n",
              "      <td>0.1460</td>\n",
              "      <td>0.456</td>\n",
              "    </tr>\n",
              "    <tr>\n",
              "      <th>27311</th>\n",
              "      <td>She's Nirvana</td>\n",
              "      <td>0.491</td>\n",
              "      <td>0.712</td>\n",
              "      <td>-6.422</td>\n",
              "      <td>0.0310</td>\n",
              "      <td>0.000179</td>\n",
              "      <td>0.000022</td>\n",
              "      <td>0.1280</td>\n",
              "      <td>0.352</td>\n",
              "    </tr>\n",
              "    <tr>\n",
              "      <th>31269</th>\n",
              "      <td>April Grove</td>\n",
              "      <td>0.489</td>\n",
              "      <td>0.739</td>\n",
              "      <td>-6.337</td>\n",
              "      <td>0.0313</td>\n",
              "      <td>0.001510</td>\n",
              "      <td>0.000044</td>\n",
              "      <td>0.0601</td>\n",
              "      <td>0.365</td>\n",
              "    </tr>\n",
              "    <tr>\n",
              "      <th>32401</th>\n",
              "      <td>Follow The Light</td>\n",
              "      <td>0.533</td>\n",
              "      <td>0.730</td>\n",
              "      <td>-6.407</td>\n",
              "      <td>0.0275</td>\n",
              "      <td>0.000137</td>\n",
              "      <td>0.000000</td>\n",
              "      <td>0.1200</td>\n",
              "      <td>0.340</td>\n",
              "    </tr>\n",
              "    <tr>\n",
              "      <th>39343</th>\n",
              "      <td>Rockin' Chair</td>\n",
              "      <td>0.522</td>\n",
              "      <td>0.856</td>\n",
              "      <td>-6.402</td>\n",
              "      <td>0.0334</td>\n",
              "      <td>0.000727</td>\n",
              "      <td>0.000008</td>\n",
              "      <td>0.0444</td>\n",
              "      <td>0.367</td>\n",
              "    </tr>\n",
              "    <tr>\n",
              "      <th>47673</th>\n",
              "      <td>I Can't Stand</td>\n",
              "      <td>0.460</td>\n",
              "      <td>0.725</td>\n",
              "      <td>-6.385</td>\n",
              "      <td>0.0355</td>\n",
              "      <td>0.019200</td>\n",
              "      <td>0.091300</td>\n",
              "      <td>0.0916</td>\n",
              "      <td>0.433</td>\n",
              "    </tr>\n",
              "  </tbody>\n",
              "</table>\n",
              "</div>"
            ],
            "text/plain": [
              "                   name  danceability  energy  loudness  speechiness  \\\n",
              "8553         Paper Cuts         0.559   0.757    -6.349       0.0424   \n",
              "12903     American Flag         0.464   0.672    -6.254       0.0790   \n",
              "13693     Oh Messy Life         0.472   0.907    -6.386       0.0545   \n",
              "18334              2113         0.396   0.798    -6.232       0.0586   \n",
              "24118            Phobia         0.435   0.927    -6.302       0.0565   \n",
              "27311     She's Nirvana         0.491   0.712    -6.422       0.0310   \n",
              "31269       April Grove         0.489   0.739    -6.337       0.0313   \n",
              "32401  Follow The Light         0.533   0.730    -6.407       0.0275   \n",
              "39343     Rockin' Chair         0.522   0.856    -6.402       0.0334   \n",
              "47673     I Can't Stand         0.460   0.725    -6.385       0.0355   \n",
              "\n",
              "       acousticness  instrumentalness  liveness  valence  \n",
              "8553       0.003610          0.057200    0.1160    0.331  \n",
              "12903      0.079000          0.000162    0.1030    0.395  \n",
              "13693      0.000691          0.000532    0.1020    0.376  \n",
              "18334      0.006460          0.000412    0.0982    0.372  \n",
              "24118      0.000230          0.000004    0.1460    0.456  \n",
              "27311      0.000179          0.000022    0.1280    0.352  \n",
              "31269      0.001510          0.000044    0.0601    0.365  \n",
              "32401      0.000137          0.000000    0.1200    0.340  \n",
              "39343      0.000727          0.000008    0.0444    0.367  \n",
              "47673      0.019200          0.091300    0.0916    0.433  "
            ]
          },
          "execution_count": 142,
          "metadata": {},
          "output_type": "execute_result"
        }
      ],
      "source": [
        "# OUR PREDICTED RECOMMENDATIONS\n",
        "rec_songs"
      ]
    },
    {
      "cell_type": "code",
      "execution_count": 143,
      "metadata": {},
      "outputs": [],
      "source": [
        "def calculate_euclidean_distance(v1, v2):\n",
        "    return np.linalg.norm(v1 - v2)\n",
        "\n",
        "def calculate_score(pd1, pd2):\n",
        "    if pd1.shape[1] != pd2.shape[1]:\n",
        "        raise ValueError(\"Dataframes must have the same number of features.\")\n",
        "    \n",
        "    for _, x in pd1.iterrows():\n",
        "        fx = np.array(x[1:].values)\n",
        "        dist = list()\n",
        "        for _, y in pd2.iterrows():\n",
        "            fy = np.array(y[1:].values)\n",
        "            dist.append(calculate_euclidean_distance(fx, fy))\n",
        "        print(np.mean(dist))\n"
      ]
    },
    {
      "cell_type": "code",
      "execution_count": 144,
      "metadata": {},
      "outputs": [
        {
          "name": "stdout",
          "output_type": "stream",
          "text": [
            "1.5059530332464948\n",
            "1.4456050606223698\n",
            "1.5129869289765172\n",
            "1.4261873024527538\n",
            "1.4463676036912252\n",
            "1.542412471309567\n",
            "1.4978183257167976\n",
            "1.5373330718185432\n",
            "1.5354420740893615\n",
            "1.5126993462504639\n"
          ]
        }
      ],
      "source": [
        "calculate_score(rec_songs, recs_from_spotify)"
      ]
    }
  ],
  "metadata": {
    "accelerator": "GPU",
    "colab": {
      "gpuType": "T4",
      "machine_shape": "hm",
      "provenance": []
    },
    "kernelspec": {
      "display_name": "Python 3",
      "name": "python3"
    },
    "language_info": {
      "codemirror_mode": {
        "name": "ipython",
        "version": 3
      },
      "file_extension": ".py",
      "mimetype": "text/x-python",
      "name": "python",
      "nbconvert_exporter": "python",
      "pygments_lexer": "ipython3",
      "version": "3.12.3"
    }
  },
  "nbformat": 4,
  "nbformat_minor": 0
}
