{
  "cells": [
    {
      "cell_type": "markdown",
      "metadata": {
        "id": "BpdI5sJCmxSD"
      },
      "source": [
        "# CSE 144 Group 3\n",
        "## Music Recommendation System (MRS)\n",
        "\n",
        "In this notebook, we write the predictive model for our music recommendation system. Our work leverages modern tools including recurrent neural networks (RNN) and BERT sentence transformers...\n",
        "\n",
        "<br>\n",
        "\n",
        "Our work leverages this RNN model:\n",
        "\n",
        "https://github.com/taylorhawks/RNN-music-recommender/blob/master/cloud/model.ipynb\n"
      ]
    },
    {
      "cell_type": "code",
      "execution_count": 1,
      "metadata": {
        "id": "TATBR_nse2e3"
      },
      "outputs": [],
      "source": [
        "# import matplotlib.pyplot as plt\n",
        "import pandas as pd\n",
        "%matplotlib inline\n",
        "%config InlineBackend.figure_format=\"retina\"\n",
        "import numpy as np\n",
        "import random\n",
        "import torch\n",
        "import os\n",
        "# from torch import nn, optim\n",
        "# import math\n",
        "# from IPython import display\n",
        "# import torchvision.datasets as datasets\n",
        "# import torchvision.transforms as transforms\n",
        "# from torch.utils.data import TensorDataset\n",
        "# import torch.nn.functional as F\n",
        "# from sklearn.preprocessing import MinMaxScaler\n",
        "# import pdb\n",
        "import plotly.graph_objects as go\n",
        "import numpy as np\n",
        "\n",
        "from skimage.util.shape import view_as_windows as viewW\n",
        "from sklearn.model_selection import train_test_split\n",
        "from sklearn.metrics.pairwise import cosine_similarity\n",
        "from sklearn.metrics.pairwise import pairwise_distances\n",
        "from sklearn.decomposition import PCA\n",
        "\n",
        "# import tensorflow as tf\n",
        "\n",
        "# import keras.backend as K\n",
        "from keras.models import Sequential, load_model\n",
        "# from keras.optimizers import RMSprop\n",
        "from keras.layers import Dense, SimpleRNN, Input\n",
        "from keras.losses import *\n"
      ]
    },
    {
      "cell_type": "markdown",
      "metadata": {
        "id": "r0XrdmLSOA_y"
      },
      "source": [
        "### Load the data"
      ]
    },
    {
      "cell_type": "code",
      "execution_count": 2,
      "metadata": {
        "colab": {
          "base_uri": "https://localhost:8080/"
        },
        "id": "OWv8kjBAkGvv",
        "outputId": "d2003920-bfb0-473e-f2ad-7a399d62ed22"
      },
      "outputs": [],
      "source": [
        "song_features_data = pd.read_csv('misc/processed_music_info.csv')\n",
        "user_listening_data = pd.read_csv('misc/processed_user_listening_hist.csv')\n",
        "\n",
        "# from google.colab import drive\n",
        "# drive.mount('/content/drive')\n",
        "# import pandas as pd\n",
        "# song_features_data = pd.read_csv('/content/drive/MyDrive/Colab Notebooks/music_info.csv')\n",
        "# user_listening_data = pd.read_csv('/content/drive/MyDrive/Colab Notebooks/user_listening_hist.csv')"
      ]
    },
    {
      "cell_type": "markdown",
      "metadata": {
        "id": "OZX1u2Ae8re8"
      },
      "source": [
        "### Set Random Seed"
      ]
    },
    {
      "cell_type": "code",
      "execution_count": 3,
      "metadata": {
        "colab": {
          "base_uri": "https://localhost:8080/"
        },
        "id": "bQ0bRU5TmFxQ",
        "outputId": "fe9d8366-f50b-4011-e68b-4d560e2c212d"
      },
      "outputs": [
        {
          "data": {
            "text/plain": [
              "<torch._C.Generator at 0x17cbd014b90>"
            ]
          },
          "execution_count": 3,
          "metadata": {},
          "output_type": "execute_result"
        }
      ],
      "source": [
        "torch.manual_seed(24)"
      ]
    },
    {
      "cell_type": "markdown",
      "metadata": {
        "id": "BxUwOz_88xij"
      },
      "source": [
        "### Read and Display Data"
      ]
    },
    {
      "cell_type": "code",
      "execution_count": 4,
      "metadata": {
        "colab": {
          "base_uri": "https://localhost:8080/",
          "height": 469
        },
        "id": "qIF0VPivkeHT",
        "outputId": "078105fd-90e6-4f34-c125-1f7dcb3b3273"
      },
      "outputs": [
        {
          "name": "stdout",
          "output_type": "stream",
          "text": [
            "# of rows of Song Data: 23584\n",
            "# of unique songs: 23584\n"
          ]
        },
        {
          "data": {
            "text/html": [
              "<div>\n",
              "<style scoped>\n",
              "    .dataframe tbody tr th:only-of-type {\n",
              "        vertical-align: middle;\n",
              "    }\n",
              "\n",
              "    .dataframe tbody tr th {\n",
              "        vertical-align: top;\n",
              "    }\n",
              "\n",
              "    .dataframe thead th {\n",
              "        text-align: right;\n",
              "    }\n",
              "</style>\n",
              "<table border=\"1\" class=\"dataframe\">\n",
              "  <thead>\n",
              "    <tr style=\"text-align: right;\">\n",
              "      <th></th>\n",
              "      <th>track_id</th>\n",
              "      <th>name</th>\n",
              "      <th>artist</th>\n",
              "      <th>spotify_id</th>\n",
              "      <th>tags</th>\n",
              "      <th>year</th>\n",
              "      <th>duration_ms</th>\n",
              "      <th>danceability</th>\n",
              "      <th>energy</th>\n",
              "      <th>key</th>\n",
              "      <th>loudness</th>\n",
              "      <th>mode</th>\n",
              "      <th>speechiness</th>\n",
              "      <th>acousticness</th>\n",
              "      <th>instrumentalness</th>\n",
              "      <th>liveness</th>\n",
              "      <th>valence</th>\n",
              "      <th>tempo</th>\n",
              "      <th>time_signature</th>\n",
              "    </tr>\n",
              "  </thead>\n",
              "  <tbody>\n",
              "    <tr>\n",
              "      <th>0</th>\n",
              "      <td>TRIOREW128F424EAF0</td>\n",
              "      <td>Mr. Brightside</td>\n",
              "      <td>The Killers</td>\n",
              "      <td>09ZQ5TmUG8TSL56n0knqrj</td>\n",
              "      <td>rock, alternative, indie, alternative_rock, in...</td>\n",
              "      <td>2004</td>\n",
              "      <td>222200</td>\n",
              "      <td>0.355</td>\n",
              "      <td>0.918</td>\n",
              "      <td>1</td>\n",
              "      <td>-4.360</td>\n",
              "      <td>1</td>\n",
              "      <td>0.0746</td>\n",
              "      <td>0.001190</td>\n",
              "      <td>0.000000</td>\n",
              "      <td>0.0971</td>\n",
              "      <td>0.240</td>\n",
              "      <td>148.114</td>\n",
              "      <td>4</td>\n",
              "    </tr>\n",
              "    <tr>\n",
              "      <th>1</th>\n",
              "      <td>TRRIVDJ128F429B0E8</td>\n",
              "      <td>Wonderwall</td>\n",
              "      <td>Oasis</td>\n",
              "      <td>06UfBBDISthj1ZJAtX4xjj</td>\n",
              "      <td>rock, alternative, indie, pop, alternative_roc...</td>\n",
              "      <td>2006</td>\n",
              "      <td>258613</td>\n",
              "      <td>0.409</td>\n",
              "      <td>0.892</td>\n",
              "      <td>2</td>\n",
              "      <td>-4.373</td>\n",
              "      <td>1</td>\n",
              "      <td>0.0336</td>\n",
              "      <td>0.000807</td>\n",
              "      <td>0.000000</td>\n",
              "      <td>0.2070</td>\n",
              "      <td>0.651</td>\n",
              "      <td>174.426</td>\n",
              "      <td>4</td>\n",
              "    </tr>\n",
              "    <tr>\n",
              "      <th>2</th>\n",
              "      <td>TRXOGZT128F424AD74</td>\n",
              "      <td>Karma Police</td>\n",
              "      <td>Radiohead</td>\n",
              "      <td>01puceOqImrzSfKDAcd1Ia</td>\n",
              "      <td>rock, alternative, indie, alternative_rock, in...</td>\n",
              "      <td>1996</td>\n",
              "      <td>264066</td>\n",
              "      <td>0.360</td>\n",
              "      <td>0.505</td>\n",
              "      <td>7</td>\n",
              "      <td>-9.129</td>\n",
              "      <td>1</td>\n",
              "      <td>0.0260</td>\n",
              "      <td>0.062600</td>\n",
              "      <td>0.000092</td>\n",
              "      <td>0.1720</td>\n",
              "      <td>0.317</td>\n",
              "      <td>74.807</td>\n",
              "      <td>4</td>\n",
              "    </tr>\n",
              "    <tr>\n",
              "      <th>3</th>\n",
              "      <td>TRUJIIV12903CA8848</td>\n",
              "      <td>Clocks</td>\n",
              "      <td>Coldplay</td>\n",
              "      <td>0BCPKOYdS2jbQ8iyB56Zns</td>\n",
              "      <td>rock, alternative, indie, pop, alternative_roc...</td>\n",
              "      <td>2002</td>\n",
              "      <td>307879</td>\n",
              "      <td>0.577</td>\n",
              "      <td>0.749</td>\n",
              "      <td>5</td>\n",
              "      <td>-7.215</td>\n",
              "      <td>0</td>\n",
              "      <td>0.0279</td>\n",
              "      <td>0.599000</td>\n",
              "      <td>0.011500</td>\n",
              "      <td>0.1830</td>\n",
              "      <td>0.255</td>\n",
              "      <td>130.970</td>\n",
              "      <td>4</td>\n",
              "    </tr>\n",
              "    <tr>\n",
              "      <th>4</th>\n",
              "      <td>TRIODZU128E078F3E2</td>\n",
              "      <td>Under the Bridge</td>\n",
              "      <td>Red Hot Chili Peppers</td>\n",
              "      <td>06zh28PcYIFvNOAz5Wq2Xb</td>\n",
              "      <td>rock, alternative, alternative_rock, 90s, funk</td>\n",
              "      <td>2003</td>\n",
              "      <td>265506</td>\n",
              "      <td>0.554</td>\n",
              "      <td>0.490</td>\n",
              "      <td>4</td>\n",
              "      <td>-8.046</td>\n",
              "      <td>1</td>\n",
              "      <td>0.0457</td>\n",
              "      <td>0.016800</td>\n",
              "      <td>0.000534</td>\n",
              "      <td>0.1360</td>\n",
              "      <td>0.513</td>\n",
              "      <td>84.275</td>\n",
              "      <td>4</td>\n",
              "    </tr>\n",
              "  </tbody>\n",
              "</table>\n",
              "</div>"
            ],
            "text/plain": [
              "             track_id              name                 artist  \\\n",
              "0  TRIOREW128F424EAF0    Mr. Brightside            The Killers   \n",
              "1  TRRIVDJ128F429B0E8        Wonderwall                  Oasis   \n",
              "2  TRXOGZT128F424AD74      Karma Police              Radiohead   \n",
              "3  TRUJIIV12903CA8848            Clocks               Coldplay   \n",
              "4  TRIODZU128E078F3E2  Under the Bridge  Red Hot Chili Peppers   \n",
              "\n",
              "               spotify_id                                               tags  \\\n",
              "0  09ZQ5TmUG8TSL56n0knqrj  rock, alternative, indie, alternative_rock, in...   \n",
              "1  06UfBBDISthj1ZJAtX4xjj  rock, alternative, indie, pop, alternative_roc...   \n",
              "2  01puceOqImrzSfKDAcd1Ia  rock, alternative, indie, alternative_rock, in...   \n",
              "3  0BCPKOYdS2jbQ8iyB56Zns  rock, alternative, indie, pop, alternative_roc...   \n",
              "4  06zh28PcYIFvNOAz5Wq2Xb     rock, alternative, alternative_rock, 90s, funk   \n",
              "\n",
              "   year  duration_ms  danceability  energy  key  loudness  mode  speechiness  \\\n",
              "0  2004       222200         0.355   0.918    1    -4.360     1       0.0746   \n",
              "1  2006       258613         0.409   0.892    2    -4.373     1       0.0336   \n",
              "2  1996       264066         0.360   0.505    7    -9.129     1       0.0260   \n",
              "3  2002       307879         0.577   0.749    5    -7.215     0       0.0279   \n",
              "4  2003       265506         0.554   0.490    4    -8.046     1       0.0457   \n",
              "\n",
              "   acousticness  instrumentalness  liveness  valence    tempo  time_signature  \n",
              "0      0.001190          0.000000    0.0971    0.240  148.114               4  \n",
              "1      0.000807          0.000000    0.2070    0.651  174.426               4  \n",
              "2      0.062600          0.000092    0.1720    0.317   74.807               4  \n",
              "3      0.599000          0.011500    0.1830    0.255  130.970               4  \n",
              "4      0.016800          0.000534    0.1360    0.513   84.275               4  "
            ]
          },
          "execution_count": 4,
          "metadata": {},
          "output_type": "execute_result"
        }
      ],
      "source": [
        "print('# of rows of Song Data: ' + str(len(song_features_data)))\n",
        "print('# of unique songs: ' + str(len(song_features_data['track_id'].unique())))\n",
        "song_features_data.head()"
      ]
    },
    {
      "cell_type": "code",
      "execution_count": 5,
      "metadata": {
        "colab": {
          "base_uri": "https://localhost:8080/",
          "height": 240
        },
        "id": "Kxp6NyU2834H",
        "outputId": "546c86d1-af44-4906-9e8f-938909c2ab2e"
      },
      "outputs": [
        {
          "name": "stdout",
          "output_type": "stream",
          "text": [
            "# of rows of User Listening Data: 806745\n",
            "# of unique users: 25343\n"
          ]
        },
        {
          "data": {
            "text/html": [
              "<div>\n",
              "<style scoped>\n",
              "    .dataframe tbody tr th:only-of-type {\n",
              "        vertical-align: middle;\n",
              "    }\n",
              "\n",
              "    .dataframe tbody tr th {\n",
              "        vertical-align: top;\n",
              "    }\n",
              "\n",
              "    .dataframe thead th {\n",
              "        text-align: right;\n",
              "    }\n",
              "</style>\n",
              "<table border=\"1\" class=\"dataframe\">\n",
              "  <thead>\n",
              "    <tr style=\"text-align: right;\">\n",
              "      <th></th>\n",
              "      <th>track_id</th>\n",
              "      <th>user_id</th>\n",
              "      <th>playcount</th>\n",
              "    </tr>\n",
              "  </thead>\n",
              "  <tbody>\n",
              "    <tr>\n",
              "      <th>0</th>\n",
              "      <td>TRLATHU128F92FC275</td>\n",
              "      <td>5a905f000fc1ff3df7ca807d57edb608863db05d</td>\n",
              "      <td>11</td>\n",
              "    </tr>\n",
              "    <tr>\n",
              "      <th>1</th>\n",
              "      <td>TRMKFPN128F42858C3</td>\n",
              "      <td>5a905f000fc1ff3df7ca807d57edb608863db05d</td>\n",
              "      <td>2</td>\n",
              "    </tr>\n",
              "    <tr>\n",
              "      <th>2</th>\n",
              "      <td>TRGAOLV128E0789D40</td>\n",
              "      <td>5a905f000fc1ff3df7ca807d57edb608863db05d</td>\n",
              "      <td>2</td>\n",
              "    </tr>\n",
              "    <tr>\n",
              "      <th>3</th>\n",
              "      <td>TREAQSX128E07818CA</td>\n",
              "      <td>5a905f000fc1ff3df7ca807d57edb608863db05d</td>\n",
              "      <td>2</td>\n",
              "    </tr>\n",
              "    <tr>\n",
              "      <th>4</th>\n",
              "      <td>TRUMDRI128F424FEFC</td>\n",
              "      <td>5a905f000fc1ff3df7ca807d57edb608863db05d</td>\n",
              "      <td>3</td>\n",
              "    </tr>\n",
              "  </tbody>\n",
              "</table>\n",
              "</div>"
            ],
            "text/plain": [
              "             track_id                                   user_id  playcount\n",
              "0  TRLATHU128F92FC275  5a905f000fc1ff3df7ca807d57edb608863db05d         11\n",
              "1  TRMKFPN128F42858C3  5a905f000fc1ff3df7ca807d57edb608863db05d          2\n",
              "2  TRGAOLV128E0789D40  5a905f000fc1ff3df7ca807d57edb608863db05d          2\n",
              "3  TREAQSX128E07818CA  5a905f000fc1ff3df7ca807d57edb608863db05d          2\n",
              "4  TRUMDRI128F424FEFC  5a905f000fc1ff3df7ca807d57edb608863db05d          3"
            ]
          },
          "execution_count": 5,
          "metadata": {},
          "output_type": "execute_result"
        }
      ],
      "source": [
        "print('# of rows of User Listening Data: ' + str(len(user_listening_data)))\n",
        "print('# of unique users: ' + str(len(user_listening_data['user_id'].unique())))\n",
        "user_listening_data.head()"
      ]
    },
    {
      "cell_type": "markdown",
      "metadata": {
        "id": "4HsrJ3f-moB9"
      },
      "source": [
        "### Data Preprocessing\n"
      ]
    },
    {
      "cell_type": "code",
      "execution_count": 6,
      "metadata": {
        "id": "I3EhFKIj9e8O"
      },
      "outputs": [],
      "source": [
        "# Join user_listening_data with song_features_data ON track_id\n",
        "# data = pd.merge(song_features_data, user_listening_data, on='track_id')\n",
        "\n",
        "# Drop unnecessary columns\n",
        "song_features_data = song_features_data.drop(columns=['year', 'time_signature', 'key'])"
      ]
    },
    {
      "cell_type": "code",
      "execution_count": 7,
      "metadata": {
        "colab": {
          "base_uri": "https://localhost:8080/"
        },
        "id": "qWvD7vKrmbM5",
        "outputId": "71a53746-c06b-46ce-e7b1-76e605d58543"
      },
      "outputs": [
        {
          "name": "stdout",
          "output_type": "stream",
          "text": [
            "<class 'pandas.core.frame.DataFrame'>\n",
            "RangeIndex: 23584 entries, 0 to 23583\n",
            "Data columns (total 16 columns):\n",
            " #   Column            Non-Null Count  Dtype  \n",
            "---  ------            --------------  -----  \n",
            " 0   track_id          23584 non-null  object \n",
            " 1   name              23584 non-null  object \n",
            " 2   artist            23584 non-null  object \n",
            " 3   spotify_id        23584 non-null  object \n",
            " 4   tags              23083 non-null  object \n",
            " 5   danceability      23584 non-null  float64\n",
            " 6   energy            23584 non-null  float64\n",
            " 7   loudness          23584 non-null  float64\n",
            " 8   mode              23584 non-null  int64  \n",
            " 9   speechiness       23584 non-null  float64\n",
            " 10  acousticness      23584 non-null  float64\n",
            " 11  instrumentalness  23584 non-null  float64\n",
            " 12  liveness          23584 non-null  float64\n",
            " 13  valence           23584 non-null  float64\n",
            " 14  tempo             23584 non-null  float64\n",
            " 15  duration_mins     23584 non-null  float64\n",
            "dtypes: float64(10), int64(1), object(5)\n",
            "memory usage: 2.9+ MB\n"
          ]
        }
      ],
      "source": [
        "# Commented out artist data preprocessing because a\n",
        "# stringified version for Sentence BERT\n",
        "\n",
        "# data[\"artists\"] = data[\"artists\"].str.replace(\"[\", \"\")\n",
        "# data[\"artists\"] = data[\"artists\"].str.replace(\"]\", \"\")\n",
        "# data[\"artists\"] = data[\"artists\"].str.replace(\"'\", \"\")\n",
        "# data[\"artists\"] = data[\"artists\"].map(lambda row: row.split(', '))\n",
        "\n",
        "# Convert song duration from milliseconds to minutes\n",
        "song_features_data[\"duration_mins\"] = song_features_data[\"duration_ms\"] / 60000\n",
        "song_features_data.drop(\"duration_ms\", axis=1, inplace=True)\n",
        "\n",
        "\n",
        "song_features_data.info()"
      ]
    },
    {
      "cell_type": "code",
      "execution_count": 8,
      "metadata": {
        "colab": {
          "base_uri": "https://localhost:8080/",
          "height": 417
        },
        "id": "SroBTElIOawR",
        "outputId": "ce8a9af7-cb64-4714-ff5c-7784d063a3a6"
      },
      "outputs": [
        {
          "data": {
            "text/html": [
              "<div>\n",
              "<style scoped>\n",
              "    .dataframe tbody tr th:only-of-type {\n",
              "        vertical-align: middle;\n",
              "    }\n",
              "\n",
              "    .dataframe tbody tr th {\n",
              "        vertical-align: top;\n",
              "    }\n",
              "\n",
              "    .dataframe thead th {\n",
              "        text-align: right;\n",
              "    }\n",
              "</style>\n",
              "<table border=\"1\" class=\"dataframe\">\n",
              "  <thead>\n",
              "    <tr style=\"text-align: right;\">\n",
              "      <th></th>\n",
              "      <th>track_id</th>\n",
              "      <th>name</th>\n",
              "      <th>artist</th>\n",
              "      <th>spotify_id</th>\n",
              "      <th>tags</th>\n",
              "      <th>danceability</th>\n",
              "      <th>energy</th>\n",
              "      <th>loudness</th>\n",
              "      <th>mode</th>\n",
              "      <th>speechiness</th>\n",
              "      <th>acousticness</th>\n",
              "      <th>instrumentalness</th>\n",
              "      <th>liveness</th>\n",
              "      <th>valence</th>\n",
              "      <th>tempo</th>\n",
              "      <th>duration_mins</th>\n",
              "      <th>user_id</th>\n",
              "      <th>playcount</th>\n",
              "    </tr>\n",
              "  </thead>\n",
              "  <tbody>\n",
              "    <tr>\n",
              "      <th>0</th>\n",
              "      <td>TRIOREW128F424EAF0</td>\n",
              "      <td>Mr. Brightside</td>\n",
              "      <td>The Killers</td>\n",
              "      <td>09ZQ5TmUG8TSL56n0knqrj</td>\n",
              "      <td>rock, alternative, indie, alternative_rock, in...</td>\n",
              "      <td>0.355</td>\n",
              "      <td>0.918</td>\n",
              "      <td>-4.360</td>\n",
              "      <td>1</td>\n",
              "      <td>0.0746</td>\n",
              "      <td>0.001190</td>\n",
              "      <td>0.0</td>\n",
              "      <td>0.0971</td>\n",
              "      <td>0.240</td>\n",
              "      <td>148.114</td>\n",
              "      <td>3.703333</td>\n",
              "      <td>fe31db6d197a667d265ff5a35d80d60f3660f729</td>\n",
              "      <td>2</td>\n",
              "    </tr>\n",
              "    <tr>\n",
              "      <th>1</th>\n",
              "      <td>TRRIVDJ128F429B0E8</td>\n",
              "      <td>Wonderwall</td>\n",
              "      <td>Oasis</td>\n",
              "      <td>06UfBBDISthj1ZJAtX4xjj</td>\n",
              "      <td>rock, alternative, indie, pop, alternative_roc...</td>\n",
              "      <td>0.409</td>\n",
              "      <td>0.892</td>\n",
              "      <td>-4.373</td>\n",
              "      <td>1</td>\n",
              "      <td>0.0336</td>\n",
              "      <td>0.000807</td>\n",
              "      <td>0.0</td>\n",
              "      <td>0.2070</td>\n",
              "      <td>0.651</td>\n",
              "      <td>174.426</td>\n",
              "      <td>4.310217</td>\n",
              "      <td>67874d1a189c83326c529e554be6f7acf55effae</td>\n",
              "      <td>12</td>\n",
              "    </tr>\n",
              "    <tr>\n",
              "      <th>2</th>\n",
              "      <td>TRRIVDJ128F429B0E8</td>\n",
              "      <td>Wonderwall</td>\n",
              "      <td>Oasis</td>\n",
              "      <td>06UfBBDISthj1ZJAtX4xjj</td>\n",
              "      <td>rock, alternative, indie, pop, alternative_roc...</td>\n",
              "      <td>0.409</td>\n",
              "      <td>0.892</td>\n",
              "      <td>-4.373</td>\n",
              "      <td>1</td>\n",
              "      <td>0.0336</td>\n",
              "      <td>0.000807</td>\n",
              "      <td>0.0</td>\n",
              "      <td>0.2070</td>\n",
              "      <td>0.651</td>\n",
              "      <td>174.426</td>\n",
              "      <td>4.310217</td>\n",
              "      <td>e3ee8846c9a5a0916700a9e7abfc1c5b2fcb8e36</td>\n",
              "      <td>5</td>\n",
              "    </tr>\n",
              "    <tr>\n",
              "      <th>3</th>\n",
              "      <td>TRRIVDJ128F429B0E8</td>\n",
              "      <td>Wonderwall</td>\n",
              "      <td>Oasis</td>\n",
              "      <td>06UfBBDISthj1ZJAtX4xjj</td>\n",
              "      <td>rock, alternative, indie, pop, alternative_roc...</td>\n",
              "      <td>0.409</td>\n",
              "      <td>0.892</td>\n",
              "      <td>-4.373</td>\n",
              "      <td>1</td>\n",
              "      <td>0.0336</td>\n",
              "      <td>0.000807</td>\n",
              "      <td>0.0</td>\n",
              "      <td>0.2070</td>\n",
              "      <td>0.651</td>\n",
              "      <td>174.426</td>\n",
              "      <td>4.310217</td>\n",
              "      <td>cbb6b8dccf0af0d221dfd4684072c04bb0346f30</td>\n",
              "      <td>2</td>\n",
              "    </tr>\n",
              "    <tr>\n",
              "      <th>4</th>\n",
              "      <td>TRRIVDJ128F429B0E8</td>\n",
              "      <td>Wonderwall</td>\n",
              "      <td>Oasis</td>\n",
              "      <td>06UfBBDISthj1ZJAtX4xjj</td>\n",
              "      <td>rock, alternative, indie, pop, alternative_roc...</td>\n",
              "      <td>0.409</td>\n",
              "      <td>0.892</td>\n",
              "      <td>-4.373</td>\n",
              "      <td>1</td>\n",
              "      <td>0.0336</td>\n",
              "      <td>0.000807</td>\n",
              "      <td>0.0</td>\n",
              "      <td>0.2070</td>\n",
              "      <td>0.651</td>\n",
              "      <td>174.426</td>\n",
              "      <td>4.310217</td>\n",
              "      <td>2cdf67cd70a64964cb914835af0043fcc28a8f48</td>\n",
              "      <td>12</td>\n",
              "    </tr>\n",
              "  </tbody>\n",
              "</table>\n",
              "</div>"
            ],
            "text/plain": [
              "             track_id            name       artist              spotify_id  \\\n",
              "0  TRIOREW128F424EAF0  Mr. Brightside  The Killers  09ZQ5TmUG8TSL56n0knqrj   \n",
              "1  TRRIVDJ128F429B0E8      Wonderwall        Oasis  06UfBBDISthj1ZJAtX4xjj   \n",
              "2  TRRIVDJ128F429B0E8      Wonderwall        Oasis  06UfBBDISthj1ZJAtX4xjj   \n",
              "3  TRRIVDJ128F429B0E8      Wonderwall        Oasis  06UfBBDISthj1ZJAtX4xjj   \n",
              "4  TRRIVDJ128F429B0E8      Wonderwall        Oasis  06UfBBDISthj1ZJAtX4xjj   \n",
              "\n",
              "                                                tags  danceability  energy  \\\n",
              "0  rock, alternative, indie, alternative_rock, in...         0.355   0.918   \n",
              "1  rock, alternative, indie, pop, alternative_roc...         0.409   0.892   \n",
              "2  rock, alternative, indie, pop, alternative_roc...         0.409   0.892   \n",
              "3  rock, alternative, indie, pop, alternative_roc...         0.409   0.892   \n",
              "4  rock, alternative, indie, pop, alternative_roc...         0.409   0.892   \n",
              "\n",
              "   loudness  mode  speechiness  acousticness  instrumentalness  liveness  \\\n",
              "0    -4.360     1       0.0746      0.001190               0.0    0.0971   \n",
              "1    -4.373     1       0.0336      0.000807               0.0    0.2070   \n",
              "2    -4.373     1       0.0336      0.000807               0.0    0.2070   \n",
              "3    -4.373     1       0.0336      0.000807               0.0    0.2070   \n",
              "4    -4.373     1       0.0336      0.000807               0.0    0.2070   \n",
              "\n",
              "   valence    tempo  duration_mins                                   user_id  \\\n",
              "0    0.240  148.114       3.703333  fe31db6d197a667d265ff5a35d80d60f3660f729   \n",
              "1    0.651  174.426       4.310217  67874d1a189c83326c529e554be6f7acf55effae   \n",
              "2    0.651  174.426       4.310217  e3ee8846c9a5a0916700a9e7abfc1c5b2fcb8e36   \n",
              "3    0.651  174.426       4.310217  cbb6b8dccf0af0d221dfd4684072c04bb0346f30   \n",
              "4    0.651  174.426       4.310217  2cdf67cd70a64964cb914835af0043fcc28a8f48   \n",
              "\n",
              "   playcount  \n",
              "0          2  \n",
              "1         12  \n",
              "2          5  \n",
              "3          2  \n",
              "4         12  "
            ]
          },
          "execution_count": 8,
          "metadata": {},
          "output_type": "execute_result"
        }
      ],
      "source": [
        "data = pd.merge(song_features_data, user_listening_data, on='track_id')\n",
        "data.head()"
      ]
    },
    {
      "cell_type": "markdown",
      "metadata": {
        "id": "8KFdGrtno9d_"
      },
      "source": [
        "### Obtain total number of listens per song"
      ]
    },
    {
      "cell_type": "code",
      "execution_count": 9,
      "metadata": {
        "colab": {
          "base_uri": "https://localhost:8080/",
          "height": 423
        },
        "id": "ULj0QCPVibK7",
        "outputId": "975218c7-bf5d-4fcd-bbd7-2f00fc587c7f"
      },
      "outputs": [
        {
          "data": {
            "text/html": [
              "<div>\n",
              "<style scoped>\n",
              "    .dataframe tbody tr th:only-of-type {\n",
              "        vertical-align: middle;\n",
              "    }\n",
              "\n",
              "    .dataframe tbody tr th {\n",
              "        vertical-align: top;\n",
              "    }\n",
              "\n",
              "    .dataframe thead th {\n",
              "        text-align: right;\n",
              "    }\n",
              "</style>\n",
              "<table border=\"1\" class=\"dataframe\">\n",
              "  <thead>\n",
              "    <tr style=\"text-align: right;\">\n",
              "      <th></th>\n",
              "      <th>name</th>\n",
              "      <th>playcount</th>\n",
              "    </tr>\n",
              "  </thead>\n",
              "  <tbody>\n",
              "    <tr>\n",
              "      <th>0</th>\n",
              "      <td>#1 Zero</td>\n",
              "      <td>13</td>\n",
              "    </tr>\n",
              "    <tr>\n",
              "      <th>1</th>\n",
              "      <td>#16</td>\n",
              "      <td>110</td>\n",
              "    </tr>\n",
              "    <tr>\n",
              "      <th>2</th>\n",
              "      <td>#17</td>\n",
              "      <td>7</td>\n",
              "    </tr>\n",
              "    <tr>\n",
              "      <th>3</th>\n",
              "      <td>#24</td>\n",
              "      <td>5</td>\n",
              "    </tr>\n",
              "    <tr>\n",
              "      <th>4</th>\n",
              "      <td>$20 for Boban</td>\n",
              "      <td>43</td>\n",
              "    </tr>\n",
              "    <tr>\n",
              "      <th>...</th>\n",
              "      <td>...</td>\n",
              "      <td>...</td>\n",
              "    </tr>\n",
              "    <tr>\n",
              "      <th>23579</th>\n",
              "      <td>慟哭と去りぬ</td>\n",
              "      <td>134</td>\n",
              "    </tr>\n",
              "    <tr>\n",
              "      <th>23580</th>\n",
              "      <td>我、闇とて･･･</td>\n",
              "      <td>7</td>\n",
              "    </tr>\n",
              "    <tr>\n",
              "      <th>23581</th>\n",
              "      <td>朔-saku-</td>\n",
              "      <td>51</td>\n",
              "    </tr>\n",
              "    <tr>\n",
              "      <th>23582</th>\n",
              "      <td>蜷局</td>\n",
              "      <td>368</td>\n",
              "    </tr>\n",
              "    <tr>\n",
              "      <th>23583</th>\n",
              "      <td>鼓動</td>\n",
              "      <td>22</td>\n",
              "    </tr>\n",
              "  </tbody>\n",
              "</table>\n",
              "<p>23584 rows × 2 columns</p>\n",
              "</div>"
            ],
            "text/plain": [
              "                name  playcount\n",
              "0            #1 Zero         13\n",
              "1                #16        110\n",
              "2                #17          7\n",
              "3                #24          5\n",
              "4      $20 for Boban         43\n",
              "...              ...        ...\n",
              "23579         慟哭と去りぬ        134\n",
              "23580       我、闇とて･･･          7\n",
              "23581        朔-saku-         51\n",
              "23582             蜷局        368\n",
              "23583             鼓動         22\n",
              "\n",
              "[23584 rows x 2 columns]"
            ]
          },
          "execution_count": 9,
          "metadata": {},
          "output_type": "execute_result"
        }
      ],
      "source": [
        "play_counts = data.groupby('name')['playcount'].sum().reset_index()\n",
        "play_counts"
      ]
    },
    {
      "cell_type": "markdown",
      "metadata": {
        "id": "xO9k04zspGk3"
      },
      "source": [
        "### Create playlists for input to RNN"
      ]
    },
    {
      "cell_type": "code",
      "execution_count": 10,
      "metadata": {
        "colab": {
          "base_uri": "https://localhost:8080/",
          "height": 825
        },
        "id": "4UObsgagjCNb",
        "outputId": "ac841c42-22b3-45c9-c3e2-205d7ea6ea82"
      },
      "outputs": [
        {
          "data": {
            "text/html": [
              "<div>\n",
              "<style scoped>\n",
              "    .dataframe tbody tr th:only-of-type {\n",
              "        vertical-align: middle;\n",
              "    }\n",
              "\n",
              "    .dataframe tbody tr th {\n",
              "        vertical-align: top;\n",
              "    }\n",
              "\n",
              "    .dataframe thead th {\n",
              "        text-align: right;\n",
              "    }\n",
              "</style>\n",
              "<table border=\"1\" class=\"dataframe\">\n",
              "  <thead>\n",
              "    <tr style=\"text-align: right;\">\n",
              "      <th></th>\n",
              "      <th>track_id</th>\n",
              "      <th>name</th>\n",
              "      <th>artist</th>\n",
              "      <th>spotify_id</th>\n",
              "      <th>tags</th>\n",
              "      <th>danceability</th>\n",
              "      <th>energy</th>\n",
              "      <th>loudness</th>\n",
              "      <th>mode</th>\n",
              "      <th>speechiness</th>\n",
              "      <th>acousticness</th>\n",
              "      <th>instrumentalness</th>\n",
              "      <th>liveness</th>\n",
              "      <th>valence</th>\n",
              "      <th>tempo</th>\n",
              "      <th>duration_mins</th>\n",
              "      <th>user_id</th>\n",
              "      <th>playcount</th>\n",
              "    </tr>\n",
              "  </thead>\n",
              "  <tbody>\n",
              "    <tr>\n",
              "      <th>306346</th>\n",
              "      <td>TRTVXIH128F426625A</td>\n",
              "      <td>Come Round Soon</td>\n",
              "      <td>Sara Bareilles</td>\n",
              "      <td>0jkVXytWSisMUtrBEej9mi</td>\n",
              "      <td>pop, female_vocalists, singer_songwriter, soul...</td>\n",
              "      <td>0.338</td>\n",
              "      <td>0.819</td>\n",
              "      <td>-4.495</td>\n",
              "      <td>0</td>\n",
              "      <td>0.0776</td>\n",
              "      <td>0.077700</td>\n",
              "      <td>0.000000</td>\n",
              "      <td>0.1590</td>\n",
              "      <td>0.545</td>\n",
              "      <td>74.751</td>\n",
              "      <td>3.552000</td>\n",
              "      <td>0000f88f8d76a238c251450913b0d070e4a77d19</td>\n",
              "      <td>2</td>\n",
              "    </tr>\n",
              "    <tr>\n",
              "      <th>417455</th>\n",
              "      <td>TRWUFEW128F14782F3</td>\n",
              "      <td>Forever My Friend</td>\n",
              "      <td>Ray LaMontagne</td>\n",
              "      <td>0Ev7atdl0qS2n39OO7051O</td>\n",
              "      <td>folk, singer_songwriter, soul, blues, acoustic...</td>\n",
              "      <td>0.493</td>\n",
              "      <td>0.524</td>\n",
              "      <td>-13.553</td>\n",
              "      <td>1</td>\n",
              "      <td>0.0423</td>\n",
              "      <td>0.334000</td>\n",
              "      <td>0.014100</td>\n",
              "      <td>0.3570</td>\n",
              "      <td>0.379</td>\n",
              "      <td>176.233</td>\n",
              "      <td>5.788883</td>\n",
              "      <td>0000f88f8d76a238c251450913b0d070e4a77d19</td>\n",
              "      <td>2</td>\n",
              "    </tr>\n",
              "    <tr>\n",
              "      <th>32466</th>\n",
              "      <td>TRNXEPE128F9339E47</td>\n",
              "      <td>My Name Is Jonas</td>\n",
              "      <td>Weezer</td>\n",
              "      <td>0YU04WSkTVomRgeDOWlEzX</td>\n",
              "      <td>rock, alternative, indie, alternative_rock, in...</td>\n",
              "      <td>0.261</td>\n",
              "      <td>0.947</td>\n",
              "      <td>-3.031</td>\n",
              "      <td>1</td>\n",
              "      <td>0.0488</td>\n",
              "      <td>0.000197</td>\n",
              "      <td>0.003320</td>\n",
              "      <td>0.3100</td>\n",
              "      <td>0.550</td>\n",
              "      <td>185.942</td>\n",
              "      <td>3.435333</td>\n",
              "      <td>0000f88f8d76a238c251450913b0d070e4a77d19</td>\n",
              "      <td>2</td>\n",
              "    </tr>\n",
              "    <tr>\n",
              "      <th>698954</th>\n",
              "      <td>TRMKCCV128F92EB22E</td>\n",
              "      <td>Light On</td>\n",
              "      <td>David Cook</td>\n",
              "      <td>1BnoZbPDh9dbYqabvM6qZg</td>\n",
              "      <td>rock, alternative_rock, male_vocalists</td>\n",
              "      <td>0.448</td>\n",
              "      <td>0.830</td>\n",
              "      <td>-4.156</td>\n",
              "      <td>0</td>\n",
              "      <td>0.0332</td>\n",
              "      <td>0.067300</td>\n",
              "      <td>0.000000</td>\n",
              "      <td>0.1130</td>\n",
              "      <td>0.362</td>\n",
              "      <td>131.991</td>\n",
              "      <td>3.816883</td>\n",
              "      <td>0000f88f8d76a238c251450913b0d070e4a77d19</td>\n",
              "      <td>3</td>\n",
              "    </tr>\n",
              "    <tr>\n",
              "      <th>227171</th>\n",
              "      <td>TRJGJTH128F4291A81</td>\n",
              "      <td>Oh My God, Whatever, Etc.</td>\n",
              "      <td>Ryan Adams</td>\n",
              "      <td>0sUzPqm1gdsabzX5htMvf7</td>\n",
              "      <td>rock, indie, folk, singer_songwriter, acoustic...</td>\n",
              "      <td>0.572</td>\n",
              "      <td>0.395</td>\n",
              "      <td>-10.630</td>\n",
              "      <td>1</td>\n",
              "      <td>0.0304</td>\n",
              "      <td>0.700000</td>\n",
              "      <td>0.000250</td>\n",
              "      <td>0.1260</td>\n",
              "      <td>0.483</td>\n",
              "      <td>79.552</td>\n",
              "      <td>2.532667</td>\n",
              "      <td>0000f88f8d76a238c251450913b0d070e4a77d19</td>\n",
              "      <td>2</td>\n",
              "    </tr>\n",
              "    <tr>\n",
              "      <th>...</th>\n",
              "      <td>...</td>\n",
              "      <td>...</td>\n",
              "      <td>...</td>\n",
              "      <td>...</td>\n",
              "      <td>...</td>\n",
              "      <td>...</td>\n",
              "      <td>...</td>\n",
              "      <td>...</td>\n",
              "      <td>...</td>\n",
              "      <td>...</td>\n",
              "      <td>...</td>\n",
              "      <td>...</td>\n",
              "      <td>...</td>\n",
              "      <td>...</td>\n",
              "      <td>...</td>\n",
              "      <td>...</td>\n",
              "      <td>...</td>\n",
              "      <td>...</td>\n",
              "    </tr>\n",
              "    <tr>\n",
              "      <th>802077</th>\n",
              "      <td>TRSEFCM128F429354D</td>\n",
              "      <td>Set It Up</td>\n",
              "      <td>Xavier Rudd</td>\n",
              "      <td>1sF9FiOQivhgedQnS1j3fK</td>\n",
              "      <td>acoustic, 00s</td>\n",
              "      <td>0.469</td>\n",
              "      <td>0.385</td>\n",
              "      <td>-11.300</td>\n",
              "      <td>0</td>\n",
              "      <td>0.0270</td>\n",
              "      <td>0.503000</td>\n",
              "      <td>0.001390</td>\n",
              "      <td>0.1150</td>\n",
              "      <td>0.116</td>\n",
              "      <td>130.767</td>\n",
              "      <td>4.141550</td>\n",
              "      <td>fffbab4b8416fc41d05fcbdcf0e6735c4f37cb39</td>\n",
              "      <td>2</td>\n",
              "    </tr>\n",
              "    <tr>\n",
              "      <th>417463</th>\n",
              "      <td>TRWUFEW128F14782F3</td>\n",
              "      <td>Forever My Friend</td>\n",
              "      <td>Ray LaMontagne</td>\n",
              "      <td>0Ev7atdl0qS2n39OO7051O</td>\n",
              "      <td>folk, singer_songwriter, soul, blues, acoustic...</td>\n",
              "      <td>0.493</td>\n",
              "      <td>0.524</td>\n",
              "      <td>-13.553</td>\n",
              "      <td>1</td>\n",
              "      <td>0.0423</td>\n",
              "      <td>0.334000</td>\n",
              "      <td>0.014100</td>\n",
              "      <td>0.3570</td>\n",
              "      <td>0.379</td>\n",
              "      <td>176.233</td>\n",
              "      <td>5.788883</td>\n",
              "      <td>fffbab4b8416fc41d05fcbdcf0e6735c4f37cb39</td>\n",
              "      <td>8</td>\n",
              "    </tr>\n",
              "    <tr>\n",
              "      <th>649627</th>\n",
              "      <td>TRDVGIH128F429353C</td>\n",
              "      <td>Come Let Go</td>\n",
              "      <td>Xavier Rudd</td>\n",
              "      <td>258CEuV9zzGk2PraoCH2yx</td>\n",
              "      <td>reggae, male_vocalists</td>\n",
              "      <td>0.547</td>\n",
              "      <td>0.546</td>\n",
              "      <td>-8.634</td>\n",
              "      <td>1</td>\n",
              "      <td>0.0470</td>\n",
              "      <td>0.114000</td>\n",
              "      <td>0.037200</td>\n",
              "      <td>0.3810</td>\n",
              "      <td>0.280</td>\n",
              "      <td>140.477</td>\n",
              "      <td>6.870433</td>\n",
              "      <td>fffbab4b8416fc41d05fcbdcf0e6735c4f37cb39</td>\n",
              "      <td>28</td>\n",
              "    </tr>\n",
              "    <tr>\n",
              "      <th>553208</th>\n",
              "      <td>TROXFVJ128F1465265</td>\n",
              "      <td>Bottom Of the Barrel</td>\n",
              "      <td>Amos Lee</td>\n",
              "      <td>1VWGfrhpY8IiNmqMHavRXS</td>\n",
              "      <td>folk, soul, acoustic, guitar</td>\n",
              "      <td>0.609</td>\n",
              "      <td>0.346</td>\n",
              "      <td>-12.703</td>\n",
              "      <td>1</td>\n",
              "      <td>0.1460</td>\n",
              "      <td>0.761000</td>\n",
              "      <td>0.000000</td>\n",
              "      <td>0.1100</td>\n",
              "      <td>0.550</td>\n",
              "      <td>178.137</td>\n",
              "      <td>2.006433</td>\n",
              "      <td>fffbab4b8416fc41d05fcbdcf0e6735c4f37cb39</td>\n",
              "      <td>4</td>\n",
              "    </tr>\n",
              "    <tr>\n",
              "      <th>4055</th>\n",
              "      <td>TRPFYYL128F92F7144</td>\n",
              "      <td>Float On</td>\n",
              "      <td>Modest Mouse</td>\n",
              "      <td>1Urf1M52P3R6NYdAOJizoW</td>\n",
              "      <td>rock, alternative, indie, alternative_rock, in...</td>\n",
              "      <td>0.646</td>\n",
              "      <td>0.893</td>\n",
              "      <td>-4.799</td>\n",
              "      <td>1</td>\n",
              "      <td>0.0301</td>\n",
              "      <td>0.015100</td>\n",
              "      <td>0.000004</td>\n",
              "      <td>0.0892</td>\n",
              "      <td>0.559</td>\n",
              "      <td>100.951</td>\n",
              "      <td>3.474433</td>\n",
              "      <td>fffbab4b8416fc41d05fcbdcf0e6735c4f37cb39</td>\n",
              "      <td>4</td>\n",
              "    </tr>\n",
              "  </tbody>\n",
              "</table>\n",
              "<p>806745 rows × 18 columns</p>\n",
              "</div>"
            ],
            "text/plain": [
              "                  track_id                       name          artist  \\\n",
              "306346  TRTVXIH128F426625A            Come Round Soon  Sara Bareilles   \n",
              "417455  TRWUFEW128F14782F3          Forever My Friend  Ray LaMontagne   \n",
              "32466   TRNXEPE128F9339E47           My Name Is Jonas          Weezer   \n",
              "698954  TRMKCCV128F92EB22E                   Light On      David Cook   \n",
              "227171  TRJGJTH128F4291A81  Oh My God, Whatever, Etc.      Ryan Adams   \n",
              "...                    ...                        ...             ...   \n",
              "802077  TRSEFCM128F429354D                  Set It Up     Xavier Rudd   \n",
              "417463  TRWUFEW128F14782F3          Forever My Friend  Ray LaMontagne   \n",
              "649627  TRDVGIH128F429353C                Come Let Go     Xavier Rudd   \n",
              "553208  TROXFVJ128F1465265       Bottom Of the Barrel        Amos Lee   \n",
              "4055    TRPFYYL128F92F7144                   Float On    Modest Mouse   \n",
              "\n",
              "                    spotify_id  \\\n",
              "306346  0jkVXytWSisMUtrBEej9mi   \n",
              "417455  0Ev7atdl0qS2n39OO7051O   \n",
              "32466   0YU04WSkTVomRgeDOWlEzX   \n",
              "698954  1BnoZbPDh9dbYqabvM6qZg   \n",
              "227171  0sUzPqm1gdsabzX5htMvf7   \n",
              "...                        ...   \n",
              "802077  1sF9FiOQivhgedQnS1j3fK   \n",
              "417463  0Ev7atdl0qS2n39OO7051O   \n",
              "649627  258CEuV9zzGk2PraoCH2yx   \n",
              "553208  1VWGfrhpY8IiNmqMHavRXS   \n",
              "4055    1Urf1M52P3R6NYdAOJizoW   \n",
              "\n",
              "                                                     tags  danceability  \\\n",
              "306346  pop, female_vocalists, singer_songwriter, soul...         0.338   \n",
              "417455  folk, singer_songwriter, soul, blues, acoustic...         0.493   \n",
              "32466   rock, alternative, indie, alternative_rock, in...         0.261   \n",
              "698954             rock, alternative_rock, male_vocalists         0.448   \n",
              "227171  rock, indie, folk, singer_songwriter, acoustic...         0.572   \n",
              "...                                                   ...           ...   \n",
              "802077                                      acoustic, 00s         0.469   \n",
              "417463  folk, singer_songwriter, soul, blues, acoustic...         0.493   \n",
              "649627                             reggae, male_vocalists         0.547   \n",
              "553208                       folk, soul, acoustic, guitar         0.609   \n",
              "4055    rock, alternative, indie, alternative_rock, in...         0.646   \n",
              "\n",
              "        energy  loudness  mode  speechiness  acousticness  instrumentalness  \\\n",
              "306346   0.819    -4.495     0       0.0776      0.077700          0.000000   \n",
              "417455   0.524   -13.553     1       0.0423      0.334000          0.014100   \n",
              "32466    0.947    -3.031     1       0.0488      0.000197          0.003320   \n",
              "698954   0.830    -4.156     0       0.0332      0.067300          0.000000   \n",
              "227171   0.395   -10.630     1       0.0304      0.700000          0.000250   \n",
              "...        ...       ...   ...          ...           ...               ...   \n",
              "802077   0.385   -11.300     0       0.0270      0.503000          0.001390   \n",
              "417463   0.524   -13.553     1       0.0423      0.334000          0.014100   \n",
              "649627   0.546    -8.634     1       0.0470      0.114000          0.037200   \n",
              "553208   0.346   -12.703     1       0.1460      0.761000          0.000000   \n",
              "4055     0.893    -4.799     1       0.0301      0.015100          0.000004   \n",
              "\n",
              "        liveness  valence    tempo  duration_mins  \\\n",
              "306346    0.1590    0.545   74.751       3.552000   \n",
              "417455    0.3570    0.379  176.233       5.788883   \n",
              "32466     0.3100    0.550  185.942       3.435333   \n",
              "698954    0.1130    0.362  131.991       3.816883   \n",
              "227171    0.1260    0.483   79.552       2.532667   \n",
              "...          ...      ...      ...            ...   \n",
              "802077    0.1150    0.116  130.767       4.141550   \n",
              "417463    0.3570    0.379  176.233       5.788883   \n",
              "649627    0.3810    0.280  140.477       6.870433   \n",
              "553208    0.1100    0.550  178.137       2.006433   \n",
              "4055      0.0892    0.559  100.951       3.474433   \n",
              "\n",
              "                                         user_id  playcount  \n",
              "306346  0000f88f8d76a238c251450913b0d070e4a77d19          2  \n",
              "417455  0000f88f8d76a238c251450913b0d070e4a77d19          2  \n",
              "32466   0000f88f8d76a238c251450913b0d070e4a77d19          2  \n",
              "698954  0000f88f8d76a238c251450913b0d070e4a77d19          3  \n",
              "227171  0000f88f8d76a238c251450913b0d070e4a77d19          2  \n",
              "...                                          ...        ...  \n",
              "802077  fffbab4b8416fc41d05fcbdcf0e6735c4f37cb39          2  \n",
              "417463  fffbab4b8416fc41d05fcbdcf0e6735c4f37cb39          8  \n",
              "649627  fffbab4b8416fc41d05fcbdcf0e6735c4f37cb39         28  \n",
              "553208  fffbab4b8416fc41d05fcbdcf0e6735c4f37cb39          4  \n",
              "4055    fffbab4b8416fc41d05fcbdcf0e6735c4f37cb39          4  \n",
              "\n",
              "[806745 rows x 18 columns]"
            ]
          },
          "execution_count": 10,
          "metadata": {},
          "output_type": "execute_result"
        }
      ],
      "source": [
        "data = data.sort_values(['user_id'])\n",
        "data"
      ]
    },
    {
      "cell_type": "code",
      "execution_count": 11,
      "metadata": {
        "colab": {
          "base_uri": "https://localhost:8080/"
        },
        "id": "r8s7KampjDRs",
        "outputId": "7615063b-91ef-44be-c7eb-d79d2d99c166"
      },
      "outputs": [
        {
          "name": "stdout",
          "output_type": "stream",
          "text": [
            "user_id\n",
            "0000f88f8d76a238c251450913b0d070e4a77d19    [TRTVXIH128F426625A, TRWUFEW128F14782F3, TRNXE...\n",
            "0005eb11fd1dad47e6e6719a4db30340073a9e38    [TRGOJNK128F92F2A03, TRQPSHM128F92F29ED, TRTUW...\n",
            "000d80cd9b58a8f77b33aa613dcfc5cbf1daf5e8    [TRDYYKS128F4275626, TRBHLYP12903D0D107, TRABF...\n",
            "000e9296161b73a1821aaed3d7f50d95e8665bf6    [TROPEIV128F428F5A8, TRIAZQY128F934D58D, TRMKA...\n",
            "00100482b3f3074549c751e718c57ed211b35991    [TRSNCIW128F14557BC, TRJKPFL12903CCE490, TRWJN...\n",
            "                                                                  ...                        \n",
            "fff7352d8ca192c451ce4fa00d18e33e261ecad3    [TRDRVJA128F4267831, TRCKWGF12903CD2DCD, TRXUW...\n",
            "fff759a45a3a68de552740e8285a97d5f65d4e58    [TRDJZFF128F92D2627, TRULONW128F9302209, TRBNY...\n",
            "fff9bd021bf6e07936883b9bb045207fcf372a2c    [TROHXCJ128F935A6AC, TRUMJNK12903CF465A, TRXYM...\n",
            "fffb0b218640d86e5cb99d41cd3ecad977142da5    [TRZGGHL12903CDBF1F, TRCAUIX128F4277AD0, TRYIK...\n",
            "fffbab4b8416fc41d05fcbdcf0e6735c4f37cb39    [TRGPCUN128F1465269, TRHWQQY128F427B6EB, TRCXQ...\n",
            "Name: track_id, Length: 25343, dtype: object\n"
          ]
        }
      ],
      "source": [
        "# Changed name to track_id\n",
        "playlists = data.groupby('user_id')['track_id'].apply(lambda x: list(x.head(20)))\n",
        "playlist_dict = playlists.to_dict()\n",
        "print(playlists)"
      ]
    },
    {
      "cell_type": "code",
      "execution_count": 12,
      "metadata": {
        "id": "dL56_oKPjLtw"
      },
      "outputs": [],
      "source": [
        "# Changed track_id to name\n",
        "data_dict = data.drop(['artist', 'tags', 'playcount'], axis=1)\n",
        "# Changed name to track_id\n",
        "data_dict = data_dict.set_index(['user_id', 'track_id']).to_dict('index')"
      ]
    },
    {
      "cell_type": "code",
      "execution_count": 13,
      "metadata": {
        "colab": {
          "base_uri": "https://localhost:8080/"
        },
        "id": "tzSIPcLdjQIV",
        "outputId": "3b6a70f1-9c3e-46d1-85c3-79711d2c5a09"
      },
      "outputs": [
        {
          "name": "stdout",
          "output_type": "stream",
          "text": [
            "10000\n",
            "20000\n",
            "30000\n",
            "40000\n",
            "50000\n",
            "60000\n",
            "70000\n",
            "80000\n",
            "90000\n",
            "100000\n",
            "110000\n",
            "120000\n",
            "130000\n",
            "140000\n",
            "150000\n",
            "160000\n",
            "170000\n",
            "180000\n",
            "190000\n",
            "200000\n",
            "210000\n",
            "220000\n",
            "230000\n",
            "240000\n",
            "250000\n",
            "260000\n",
            "270000\n",
            "280000\n",
            "290000\n",
            "300000\n",
            "310000\n",
            "320000\n",
            "330000\n",
            "340000\n",
            "350000\n",
            "360000\n",
            "370000\n",
            "380000\n",
            "390000\n",
            "400000\n",
            "410000\n",
            "420000\n",
            "430000\n",
            "440000\n",
            "450000\n",
            "460000\n",
            "470000\n",
            "480000\n",
            "490000\n",
            "500000\n",
            "Total songs processed: 506860\n"
          ]
        }
      ],
      "source": [
        "songs_done = 0\n",
        "updated_playlist_dict = {}\n",
        "for user_id, songs in playlist_dict.items():\n",
        "    updated_songs = []\n",
        "    for song in songs:\n",
        "        key = (user_id, song)\n",
        "        if key in data_dict:\n",
        "            the_features = list(data_dict[key].values())\n",
        "            updated_songs.append([song] + the_features)\n",
        "            songs_done += 1\n",
        "            if songs_done % 10000 == 0:\n",
        "                print(songs_done)\n",
        "    updated_playlist_dict[user_id] = updated_songs\n",
        "\n",
        "playlist_dict = updated_playlist_dict\n",
        "\n",
        "print(f\"Total songs processed: {songs_done}\")"
      ]
    },
    {
      "cell_type": "code",
      "execution_count": 14,
      "metadata": {
        "colab": {
          "base_uri": "https://localhost:8080/"
        },
        "id": "0t8r9EuB1Es4",
        "outputId": "67cc981c-8a1c-469a-83ed-510026487c11"
      },
      "outputs": [
        {
          "name": "stdout",
          "output_type": "stream",
          "text": [
            "[[['TRTVXIH128F426625A' 'Come Round Soon' '0jkVXytWSisMUtrBEej9mi' ...\n",
            "   '0.0' '0.159' '0.545']\n",
            "  ['TRWUFEW128F14782F3' 'Forever My Friend' '0Ev7atdl0qS2n39OO7051O' ...\n",
            "   '0.0141' '0.357' '0.379']\n",
            "  ['TRNXEPE128F9339E47' 'My Name Is Jonas' '0YU04WSkTVomRgeDOWlEzX' ...\n",
            "   '0.00332' '0.31' '0.55']\n",
            "  ...\n",
            "  ['TRTWOCA128F14840B8' 'La Cienega Just Smiled'\n",
            "   '0RCLN8khBH2i3SG52Gx4ts' ... '0.14' '0.0861' '0.599']\n",
            "  ['TRQSEMJ128F4294F24' 'Pearls On A String' '02WVvwWFGafPMP959TeLJy'\n",
            "   ... '1.83e-06' '0.482' '0.737']\n",
            "  ['TRUNKTP12903CD1EFB' 'Blue Sky' '08SPbOlgCODbnWEhxTpZvg' ... '0.107'\n",
            "   '0.185' '0.854']]\n",
            "\n",
            " [['TRGOJNK128F92F2A03' 'The Technicolor Phase' '27a23MeR1YZ6pZAUD3GR6D'\n",
            "   ... '0.0173' '0.149' '0.112']\n",
            "  ['TRQPSHM128F92F29ED' 'The Airway' '3Cy5wM1kAWdQ364r0zp8LD' ... '0.0'\n",
            "   '0.0925' '0.609']\n",
            "  ['TRTUWMO128F92F2A09' 'Dear Vienna' '2LBdBoz94BqE2MfNkrxkwy' ...\n",
            "   '3.31e-05' '0.161' '0.424']\n",
            "  ...\n",
            "  ['TRMIHFS128F92F2A01' 'Early Birdie' '1TvtrJ6uyfQ8JX3lYzxsQx' ...\n",
            "   '0.0176' '0.28' '0.66']\n",
            "  ['TRRLGDR128F933A7C9' 'Injection' '0it4CBT8IGSbXv4ik5A7cN' ...\n",
            "   '0.000429' '0.0931' '0.469']\n",
            "  ['TRLNFKN128F931BAF2' 'The Tip Of The Iceberg'\n",
            "   '1qdC7FbHeRmfqV4cKj3TeY' ... '0.0141' '0.0489' '0.424']]\n",
            "\n",
            " [['TRDYYKS128F4275626' 'Music Is Happiness' '5eWkKmH4jeQAgq6MQeYvki'\n",
            "   ... '0.735' '0.56' '0.697']\n",
            "  ['TRBHLYP12903D0D107' '4X4' '21SudxOkg2z2LMBrghl7N2' ... '0.106'\n",
            "   '0.145' '0.0832']\n",
            "  ['TRABFDT12903CADD73' 'Up Up & Away' '0InFAWpnO2z5ZcO2zJUtIH' ...\n",
            "   '6e-05' '0.353' '0.573']\n",
            "  ...\n",
            "  ['TROTWMO128F42B9238' 'Iconography' '04gW4W5ziYM3cvdJoDYqQo' ...\n",
            "   '0.909' '0.107' '0.0383']\n",
            "  ['TRJYECB128F4230F29' 'Second Chances' '1WPZR8Kf1w2TsLN7uzG2AM' ...\n",
            "   '0.0436' '0.113' '0.233']\n",
            "  ['TRJLGXB128F93043EA' 'Colourful' '21rILkLpA1vsYZZwN8L72h' ... '0.919'\n",
            "   '0.0737' '0.192']]\n",
            "\n",
            " ...\n",
            "\n",
            " [['TROHXCJ128F935A6AC' 'Idolatress' '1dajdXEFuPNV00wc1CBay8' ...\n",
            "   '0.854' '0.266' '0.0975']\n",
            "  ['TRUMJNK12903CF465A' 'In This Shallow Grave' '2eCKtpNscvI6rP4d5aq8uT'\n",
            "   ... '0.065' '0.101' '0.162']\n",
            "  ['TRXYMSH12903CF4662' 'Rise Of The Tyrant' '2bLWhwXxzWCNsLLPgCMNgT'\n",
            "   ... '0.0375' '0.221' '0.153']\n",
            "  ...\n",
            "  ['TRAXOWS12903CF25DD' 'Hybrids Of Steel' '0FgEyut8axy4XiQefYa3kw' ...\n",
            "   '0.789' '0.0895' '0.277']\n",
            "  ['TRMLTQI128F93115BD' 'Needled 24/7' '0rAWoExDCUNMfp85ZLsv5W' ...\n",
            "   '0.849' '0.292' '0.555']\n",
            "  ['TRBLZCC128F93115C9' \"Lil' Bloodred Ridin' Hood\"\n",
            "   '0ggBoZaiEST2BKxyu2czUR' ... '0.804' '0.615' '0.274']]\n",
            "\n",
            " [['TRZGGHL12903CDBF1F' 'The Dirty Glass' '0GlC0IeWvqlGLVJBuSnDP0' ...\n",
            "   '6.86e-05' '0.893' '0.445']\n",
            "  ['TRCAUIX128F4277AD0' 'The Backseat' '056kHSE2n6cuPBMTA28rIq' ...\n",
            "   '8.63e-06' '0.199' '0.761']\n",
            "  ['TRYIKBI128F426FFF2' 'If I Ever Leave This World Alive'\n",
            "   '0GaDiOQjbBFypX16p7J7hk' ... '6.97e-06' '0.0747' '0.49']\n",
            "  ...\n",
            "  ['TRLUCGR128F4277AC1' \"The '59 Sound\" '16dS04T4heVJ3mDLE9wU31' ...\n",
            "   '0.0' '0.245' '0.609']\n",
            "  ['TRPWHTJ128F4277ACE' \"Meet Me By The River's Edge\"\n",
            "   '0w9w94LLNMdDhKk1hs1xRh' ... '0.0' '0.086' '0.611']\n",
            "  ['TRHSGXW12903CE895F' 'Drunken Lullabies' '0aE8nMLrrd2m6lTscFIbZw' ...\n",
            "   '0.0462' '0.0817' '0.854']]\n",
            "\n",
            " [['TRGPCUN128F1465269' 'Lies of a Lonely Friend'\n",
            "   '0JuJreD6OT0mvQYL4CPIwD' ... '0.00155' '0.108' '0.483']\n",
            "  ['TRHWQQY128F427B6EB' 'Weak And Powerless' '06cK5xod5muGmXJwzA1luy'\n",
            "   ... '0.792' '0.222' '0.125']\n",
            "  ['TRCXQWL128F93492C5' \"Where's The Love\" '1MVKRAYH0KRBqngfto8szW' ...\n",
            "   '3.59e-06' '0.172' '0.607']\n",
            "  ...\n",
            "  ['TRERUDZ128F1465259' 'Keep It Loose, Keep It Tight'\n",
            "   '3aHtYD4JFIoxLhQu0Jo5Bx' ... '0.0' '0.108' '0.24']\n",
            "  ['TRSDQQC128F14856D1' 'Till the Sun Turns Black'\n",
            "   '5okcRF5sFUfbJA2TvDeDQA' ... '0.00943' '0.442' '0.144']\n",
            "  ['TRSEFCM128F429354D' 'Set It Up' '1sF9FiOQivhgedQnS1j3fK' ...\n",
            "   '0.00139' '0.115' '0.116']]]\n"
          ]
        }
      ],
      "source": [
        "arr = []\n",
        "for user_id, playlist in playlist_dict.items():\n",
        "    arr2 = []\n",
        "    for song in playlist:\n",
        "        arr2.append(np.concatenate((song[0:6], song[7:12])))\n",
        "    arr.append(arr2)\n",
        "\n",
        "arr_np = np.array(arr)\n",
        "print(arr_np)"
      ]
    },
    {
      "cell_type": "code",
      "execution_count": 16,
      "metadata": {
        "colab": {
          "base_uri": "https://localhost:8080/",
          "height": 330
        },
        "id": "Q1wUfGNjjire",
        "outputId": "1b26e6b6-f084-4b2e-f834-d726646862a8"
      },
      "outputs": [
        {
          "data": {
            "text/html": [
              "<div>\n",
              "<style scoped>\n",
              "    .dataframe tbody tr th:only-of-type {\n",
              "        vertical-align: middle;\n",
              "    }\n",
              "\n",
              "    .dataframe tbody tr th {\n",
              "        vertical-align: top;\n",
              "    }\n",
              "\n",
              "    .dataframe thead th {\n",
              "        text-align: right;\n",
              "    }\n",
              "</style>\n",
              "<table border=\"1\" class=\"dataframe\">\n",
              "  <thead>\n",
              "    <tr style=\"text-align: right;\">\n",
              "      <th></th>\n",
              "      <th>0</th>\n",
              "      <th>1</th>\n",
              "      <th>2</th>\n",
              "      <th>3</th>\n",
              "      <th>4</th>\n",
              "      <th>5</th>\n",
              "      <th>6</th>\n",
              "      <th>7</th>\n",
              "      <th>8</th>\n",
              "      <th>9</th>\n",
              "      <th>10</th>\n",
              "      <th>11</th>\n",
              "      <th>12</th>\n",
              "      <th>13</th>\n",
              "      <th>14</th>\n",
              "      <th>15</th>\n",
              "      <th>16</th>\n",
              "      <th>17</th>\n",
              "      <th>18</th>\n",
              "      <th>19</th>\n",
              "    </tr>\n",
              "  </thead>\n",
              "  <tbody>\n",
              "    <tr>\n",
              "      <th>0000f88f8d76a238c251450913b0d070e4a77d19</th>\n",
              "      <td>[TRTVXIH128F426625A, Come Round Soon, 0jkVXytW...</td>\n",
              "      <td>[TRWUFEW128F14782F3, Forever My Friend, 0Ev7at...</td>\n",
              "      <td>[TRNXEPE128F9339E47, My Name Is Jonas, 0YU04WS...</td>\n",
              "      <td>[TRMKCCV128F92EB22E, Light On, 1BnoZbPDh9dbYqa...</td>\n",
              "      <td>[TRJGJTH128F4291A81, Oh My God, Whatever, Etc....</td>\n",
              "      <td>[TRFQYFT128F14840BC, Nobody Girl, 2YqjAMK5eeSk...</td>\n",
              "      <td>[TRKSXHR128F1455E4D, Dear Chicago, 2J8P81JjKem...</td>\n",
              "      <td>[TRGJTIY128F4296A0E, All You Need Is Love, 0BW...</td>\n",
              "      <td>[TRZLJOC128F14840BE, Enemy Fire, 13gnIRFWtBQN1...</td>\n",
              "      <td>[TRSMEUG128F14856D2, Within You, 0VRC5T7fDBY1S...</td>\n",
              "      <td>[TRZYESA128F148D67F, Please Do Not Let Me Go, ...</td>\n",
              "      <td>[TRRUNEV128F148D719, Burning Photographs, 2Mco...</td>\n",
              "      <td>[TRDKRLP128F4291A80, Halloweenhead, 04N3X9vfSz...</td>\n",
              "      <td>[TRFTUIW128E0784B9F, Bubble Toes, 1CFwwYZ58s34...</td>\n",
              "      <td>[TRKGCIA128F92C315D, Joe's Head, 0A2BgEzGWU9HB...</td>\n",
              "      <td>[TRFUCYR128F92DC67F, California Waiting, 0txCP...</td>\n",
              "      <td>[TROZZNY128F14782F7, All the Wild Horses, 0FFm...</td>\n",
              "      <td>[TRTWOCA128F14840B8, La Cienega Just Smiled, 0...</td>\n",
              "      <td>[TRQSEMJ128F4294F24, Pearls On A String, 02WVv...</td>\n",
              "      <td>[TRUNKTP12903CD1EFB, Blue Sky, 08SPbOlgCODbnWE...</td>\n",
              "    </tr>\n",
              "    <tr>\n",
              "      <th>0005eb11fd1dad47e6e6719a4db30340073a9e38</th>\n",
              "      <td>[TRGOJNK128F92F2A03, The Technicolor Phase, 27...</td>\n",
              "      <td>[TRQPSHM128F92F29ED, The Airway, 3Cy5wM1kAWdQ3...</td>\n",
              "      <td>[TRTUWMO128F92F2A09, Dear Vienna, 2LBdBoz94BqE...</td>\n",
              "      <td>[TRRNWAK128F92F29FB, Super Honeymoon, 0aMWS9ld...</td>\n",
              "      <td>[TRYEGSH12903CD2DCE, Overboard, 0cfsbkanGUO3yz...</td>\n",
              "      <td>[TRCKWGF12903CD2DCD, Never Let You Go, 7mP4fGw...</td>\n",
              "      <td>[TRNFVQI128F931BAEA, The Saltwater Room, 1eX8F...</td>\n",
              "      <td>[TRTKLFX12903CD2DC2, First Dance, 0OQuXXwwYt2j...</td>\n",
              "      <td>[TRPGPDK12903CCC651, Bring Me To Life, 0rJ8HF2...</td>\n",
              "      <td>[TRJDMHS128F92F2A0C, I'll Meet You There, 2XGM...</td>\n",
              "      <td>[TRLVQME128F931BAF3, Vanilla Twilight, 0hXBVbr...</td>\n",
              "      <td>[TRUGOGT128F92F29E9, Captains and Cruise Ships...</td>\n",
              "      <td>[TRCXWLU128F92F2A0D, This Is The Future, 17jG9...</td>\n",
              "      <td>[TRRVJCK12903CD2DCB, U Smile, 0KDJBhhe2OYnnoJt...</td>\n",
              "      <td>[TRCJAHJ128E07815B6, Stacy's Mom, 0b5Z4MPCgSFm...</td>\n",
              "      <td>[TRPWIGO128F931BAEB, Dental Care, 1IyackM7hvB1...</td>\n",
              "      <td>[TRNEITZ128F92F29EA, Designer Skyline, 30KmLL3...</td>\n",
              "      <td>[TRMIHFS128F92F2A01, Early Birdie, 1TvtrJ6uyfQ...</td>\n",
              "      <td>[TRRLGDR128F933A7C9, Injection, 0it4CBT8IGSbXv...</td>\n",
              "      <td>[TRLNFKN128F931BAF2, The Tip Of The Iceberg, 1...</td>\n",
              "    </tr>\n",
              "    <tr>\n",
              "      <th>000d80cd9b58a8f77b33aa613dcfc5cbf1daf5e8</th>\n",
              "      <td>[TRDYYKS128F4275626, Music Is Happiness, 5eWkK...</td>\n",
              "      <td>[TRBHLYP12903D0D107, 4X4, 21SudxOkg2z2LMBrghl7...</td>\n",
              "      <td>[TRABFDT12903CADD73, Up Up &amp; Away, 0InFAWpnO2z...</td>\n",
              "      <td>[TRLNVSC12903CADD67, Simple As..., 04nE0pNbhPQ...</td>\n",
              "      <td>[TRKOCXI128F9316B54, Harmony One, 1BtLEUri7ROn...</td>\n",
              "      <td>[TRSEFCM128F429354D, Set It Up, 1sF9FiOQivhged...</td>\n",
              "      <td>[TRUWANM128F1485EE2, LDN, 016gjTKLZX8Sgaos4DRq...</td>\n",
              "      <td>[TRXKEMH128F423381D, Superfresh, 0mCoxFFYs0TRZ...</td>\n",
              "      <td>[TREMDON128F427C701, Crimewave (Crystal Castle...</td>\n",
              "      <td>[TRHPKWO128F92E01D5, The Lightning Strike, 1rE...</td>\n",
              "      <td>[TRPONOG128F4275608, The Adjustor, 6sC8fTO6Ja6...</td>\n",
              "      <td>[TRJGDTG128F421CE22, Lights &amp; Music, 0FezhHZVm...</td>\n",
              "      <td>[TROTYPC128E07940AB, Door Peep, 0ceGoYvdbcsRll...</td>\n",
              "      <td>[TRPXIWX128F429831F, One Minute to Midnight, 0...</td>\n",
              "      <td>[TROINZB128F932F740, Crazy in Love, 0klMKiGV38...</td>\n",
              "      <td>[TROUAEG128F429354A, Message Stick, 0jFN4WAx76...</td>\n",
              "      <td>[TRQEBRP12903CADD6C, Sky Might Fall, 2Pq2jkcG8...</td>\n",
              "      <td>[TROTWMO128F42B9238, Iconography, 04gW4W5ziYM3...</td>\n",
              "      <td>[TRJYECB128F4230F29, Second Chances, 1WPZR8Kf1...</td>\n",
              "      <td>[TRJLGXB128F93043EA, Colourful, 21rILkLpA1vsYZ...</td>\n",
              "    </tr>\n",
              "    <tr>\n",
              "      <th>000e9296161b73a1821aaed3d7f50d95e8665bf6</th>\n",
              "      <td>[TROPEIV128F428F5A8, Fatal, 5HeBXKvt8Kc9wY7rrk...</td>\n",
              "      <td>[TRIAZQY128F934D58D, El Pueblo Unido, 6M3ONz42...</td>\n",
              "      <td>[TRMKAZB128F92F2F3E, Can't Keep, 08SE6CEP3gjL9...</td>\n",
              "      <td>[TRPHDFT128F92C5A75, So Com Voce, 1f0V4eqYAmy1...</td>\n",
              "      <td>[TRNXBBR128F425ECE3, We Came Along This Road, ...</td>\n",
              "      <td>[TRKPWGR128E078EE06, Where Did You Sleep Last ...</td>\n",
              "      <td>[TRLPOFY128F425ECE8, Darker With the Day, 1PKj...</td>\n",
              "      <td>[TRCHYZB128F425ECE1, The Sorrowful Wife, 3DFrC...</td>\n",
              "      <td>[TRXEAZB128E078EDCE, Something In The Way, 7hh...</td>\n",
              "      <td>[TRFVSOZ128F4281933, I'm Sleeping in a Submari...</td>\n",
              "      <td>[TRDMUWU128E078EDDB, Dumb, 13noTim30TG19L0rg9f...</td>\n",
              "      <td>[TRDRFVY128F4281937, Headlights Look Like Diam...</td>\n",
              "      <td>[TRIPLBA128F427200F, My Moon My Man, 0Bl1KVabX...</td>\n",
              "      <td>[TRJSAID128F934D596, Beautiful Drug, 50t5tH0xK...</td>\n",
              "      <td>[TRMYAYJ128F934D0AF, Until the Morning, 20F3Fc...</td>\n",
              "      <td>[TRWGIOT128F425ECDE, Sweetheart Come, 0pcV8SPE...</td>\n",
              "      <td>[TRLRCIA128F425ECD7, Fifteen Feet of Pure Whit...</td>\n",
              "      <td>[TRIAGDA128F4296176, Recycled Air, 0k0UEpGDB2x...</td>\n",
              "      <td>[TRIDPWO128F423DBC6, Faust Arp, 5SdmtFbNOD7Qej...</td>\n",
              "      <td>[TRPFLRB128F14A895D, No Cars Go, 0nev4XL4Y6hrD...</td>\n",
              "    </tr>\n",
              "    <tr>\n",
              "      <th>00100482b3f3074549c751e718c57ed211b35991</th>\n",
              "      <td>[TRSNCIW128F14557BC, Col, 4XZ9hQzKr4hUf2IRzwqx...</td>\n",
              "      <td>[TRJKPFL12903CCE490, A Well Deserved Break, 2t...</td>\n",
              "      <td>[TRWJNEC128E079654F, Part of the Process, 06yd...</td>\n",
              "      <td>[TRACWHF128F14557BB, Enjoy The Wait, 03n4bUnpU...</td>\n",
              "      <td>[TRAZCMI128F14557B9, Howling, 2PFP9QAfVE4cmPuS...</td>\n",
              "      <td>[TRUEXGL128F14557BD, Who Can You Trust?, 3e2UE...</td>\n",
              "      <td>[TREECSZ128F14557BE, Almost Done, 13ccsvjo5S9Q...</td>\n",
              "      <td>[TRUAJOJ128F14557B6, Post Houmous, 0BrSfR3QBDY...</td>\n",
              "      <td>[TRASVEM128E0796553, Trigger Hippie, 0oWC3y01a...</td>\n",
              "      <td>[TROXRVT128E079650A, Aqualung, 0NQEKTasUwXVu03...</td>\n",
              "      <td>[TRZJHGG128E079655A, Never An Easy Way, 1c1KOD...</td>\n",
              "      <td>[TRIXKKQ12903CCE495, Coming Down Gently, 1THrj...</td>\n",
              "      <td>[TRORPWW12903CCE48E, Love Is Rare, 07ZOef7Bqy9...</td>\n",
              "      <td>[TRYIASQ128E079650E, Undress Me Now, 2cZu9PrRr...</td>\n",
              "      <td>[TRDNHAW128F429DB9A, The Ballad of Michael Val...</td>\n",
              "      <td>[TRXYEKR128E079654C, Otherwise, 0NTSwjegwCGXjm...</td>\n",
              "      <td>[TRHZMPR128F42A52CB, Challengers, 33ZcFxD1Ohwj...</td>\n",
              "      <td>[TRXZMLY128E0796512, Public Displays of Affect...</td>\n",
              "      <td>[TRJSQQT128F149F9B4, Street Justice, 0lJRL3H6x...</td>\n",
              "      <td>[TRXCZNS128F428A15E, Next To You, 0rUmVbfsJQzW...</td>\n",
              "    </tr>\n",
              "  </tbody>\n",
              "</table>\n",
              "</div>"
            ],
            "text/plain": [
              "                                                                                         0   \\\n",
              "0000f88f8d76a238c251450913b0d070e4a77d19  [TRTVXIH128F426625A, Come Round Soon, 0jkVXytW...   \n",
              "0005eb11fd1dad47e6e6719a4db30340073a9e38  [TRGOJNK128F92F2A03, The Technicolor Phase, 27...   \n",
              "000d80cd9b58a8f77b33aa613dcfc5cbf1daf5e8  [TRDYYKS128F4275626, Music Is Happiness, 5eWkK...   \n",
              "000e9296161b73a1821aaed3d7f50d95e8665bf6  [TROPEIV128F428F5A8, Fatal, 5HeBXKvt8Kc9wY7rrk...   \n",
              "00100482b3f3074549c751e718c57ed211b35991  [TRSNCIW128F14557BC, Col, 4XZ9hQzKr4hUf2IRzwqx...   \n",
              "\n",
              "                                                                                         1   \\\n",
              "0000f88f8d76a238c251450913b0d070e4a77d19  [TRWUFEW128F14782F3, Forever My Friend, 0Ev7at...   \n",
              "0005eb11fd1dad47e6e6719a4db30340073a9e38  [TRQPSHM128F92F29ED, The Airway, 3Cy5wM1kAWdQ3...   \n",
              "000d80cd9b58a8f77b33aa613dcfc5cbf1daf5e8  [TRBHLYP12903D0D107, 4X4, 21SudxOkg2z2LMBrghl7...   \n",
              "000e9296161b73a1821aaed3d7f50d95e8665bf6  [TRIAZQY128F934D58D, El Pueblo Unido, 6M3ONz42...   \n",
              "00100482b3f3074549c751e718c57ed211b35991  [TRJKPFL12903CCE490, A Well Deserved Break, 2t...   \n",
              "\n",
              "                                                                                         2   \\\n",
              "0000f88f8d76a238c251450913b0d070e4a77d19  [TRNXEPE128F9339E47, My Name Is Jonas, 0YU04WS...   \n",
              "0005eb11fd1dad47e6e6719a4db30340073a9e38  [TRTUWMO128F92F2A09, Dear Vienna, 2LBdBoz94BqE...   \n",
              "000d80cd9b58a8f77b33aa613dcfc5cbf1daf5e8  [TRABFDT12903CADD73, Up Up & Away, 0InFAWpnO2z...   \n",
              "000e9296161b73a1821aaed3d7f50d95e8665bf6  [TRMKAZB128F92F2F3E, Can't Keep, 08SE6CEP3gjL9...   \n",
              "00100482b3f3074549c751e718c57ed211b35991  [TRWJNEC128E079654F, Part of the Process, 06yd...   \n",
              "\n",
              "                                                                                         3   \\\n",
              "0000f88f8d76a238c251450913b0d070e4a77d19  [TRMKCCV128F92EB22E, Light On, 1BnoZbPDh9dbYqa...   \n",
              "0005eb11fd1dad47e6e6719a4db30340073a9e38  [TRRNWAK128F92F29FB, Super Honeymoon, 0aMWS9ld...   \n",
              "000d80cd9b58a8f77b33aa613dcfc5cbf1daf5e8  [TRLNVSC12903CADD67, Simple As..., 04nE0pNbhPQ...   \n",
              "000e9296161b73a1821aaed3d7f50d95e8665bf6  [TRPHDFT128F92C5A75, So Com Voce, 1f0V4eqYAmy1...   \n",
              "00100482b3f3074549c751e718c57ed211b35991  [TRACWHF128F14557BB, Enjoy The Wait, 03n4bUnpU...   \n",
              "\n",
              "                                                                                         4   \\\n",
              "0000f88f8d76a238c251450913b0d070e4a77d19  [TRJGJTH128F4291A81, Oh My God, Whatever, Etc....   \n",
              "0005eb11fd1dad47e6e6719a4db30340073a9e38  [TRYEGSH12903CD2DCE, Overboard, 0cfsbkanGUO3yz...   \n",
              "000d80cd9b58a8f77b33aa613dcfc5cbf1daf5e8  [TRKOCXI128F9316B54, Harmony One, 1BtLEUri7ROn...   \n",
              "000e9296161b73a1821aaed3d7f50d95e8665bf6  [TRNXBBR128F425ECE3, We Came Along This Road, ...   \n",
              "00100482b3f3074549c751e718c57ed211b35991  [TRAZCMI128F14557B9, Howling, 2PFP9QAfVE4cmPuS...   \n",
              "\n",
              "                                                                                         5   \\\n",
              "0000f88f8d76a238c251450913b0d070e4a77d19  [TRFQYFT128F14840BC, Nobody Girl, 2YqjAMK5eeSk...   \n",
              "0005eb11fd1dad47e6e6719a4db30340073a9e38  [TRCKWGF12903CD2DCD, Never Let You Go, 7mP4fGw...   \n",
              "000d80cd9b58a8f77b33aa613dcfc5cbf1daf5e8  [TRSEFCM128F429354D, Set It Up, 1sF9FiOQivhged...   \n",
              "000e9296161b73a1821aaed3d7f50d95e8665bf6  [TRKPWGR128E078EE06, Where Did You Sleep Last ...   \n",
              "00100482b3f3074549c751e718c57ed211b35991  [TRUEXGL128F14557BD, Who Can You Trust?, 3e2UE...   \n",
              "\n",
              "                                                                                         6   \\\n",
              "0000f88f8d76a238c251450913b0d070e4a77d19  [TRKSXHR128F1455E4D, Dear Chicago, 2J8P81JjKem...   \n",
              "0005eb11fd1dad47e6e6719a4db30340073a9e38  [TRNFVQI128F931BAEA, The Saltwater Room, 1eX8F...   \n",
              "000d80cd9b58a8f77b33aa613dcfc5cbf1daf5e8  [TRUWANM128F1485EE2, LDN, 016gjTKLZX8Sgaos4DRq...   \n",
              "000e9296161b73a1821aaed3d7f50d95e8665bf6  [TRLPOFY128F425ECE8, Darker With the Day, 1PKj...   \n",
              "00100482b3f3074549c751e718c57ed211b35991  [TREECSZ128F14557BE, Almost Done, 13ccsvjo5S9Q...   \n",
              "\n",
              "                                                                                         7   \\\n",
              "0000f88f8d76a238c251450913b0d070e4a77d19  [TRGJTIY128F4296A0E, All You Need Is Love, 0BW...   \n",
              "0005eb11fd1dad47e6e6719a4db30340073a9e38  [TRTKLFX12903CD2DC2, First Dance, 0OQuXXwwYt2j...   \n",
              "000d80cd9b58a8f77b33aa613dcfc5cbf1daf5e8  [TRXKEMH128F423381D, Superfresh, 0mCoxFFYs0TRZ...   \n",
              "000e9296161b73a1821aaed3d7f50d95e8665bf6  [TRCHYZB128F425ECE1, The Sorrowful Wife, 3DFrC...   \n",
              "00100482b3f3074549c751e718c57ed211b35991  [TRUAJOJ128F14557B6, Post Houmous, 0BrSfR3QBDY...   \n",
              "\n",
              "                                                                                         8   \\\n",
              "0000f88f8d76a238c251450913b0d070e4a77d19  [TRZLJOC128F14840BE, Enemy Fire, 13gnIRFWtBQN1...   \n",
              "0005eb11fd1dad47e6e6719a4db30340073a9e38  [TRPGPDK12903CCC651, Bring Me To Life, 0rJ8HF2...   \n",
              "000d80cd9b58a8f77b33aa613dcfc5cbf1daf5e8  [TREMDON128F427C701, Crimewave (Crystal Castle...   \n",
              "000e9296161b73a1821aaed3d7f50d95e8665bf6  [TRXEAZB128E078EDCE, Something In The Way, 7hh...   \n",
              "00100482b3f3074549c751e718c57ed211b35991  [TRASVEM128E0796553, Trigger Hippie, 0oWC3y01a...   \n",
              "\n",
              "                                                                                         9   \\\n",
              "0000f88f8d76a238c251450913b0d070e4a77d19  [TRSMEUG128F14856D2, Within You, 0VRC5T7fDBY1S...   \n",
              "0005eb11fd1dad47e6e6719a4db30340073a9e38  [TRJDMHS128F92F2A0C, I'll Meet You There, 2XGM...   \n",
              "000d80cd9b58a8f77b33aa613dcfc5cbf1daf5e8  [TRHPKWO128F92E01D5, The Lightning Strike, 1rE...   \n",
              "000e9296161b73a1821aaed3d7f50d95e8665bf6  [TRFVSOZ128F4281933, I'm Sleeping in a Submari...   \n",
              "00100482b3f3074549c751e718c57ed211b35991  [TROXRVT128E079650A, Aqualung, 0NQEKTasUwXVu03...   \n",
              "\n",
              "                                                                                         10  \\\n",
              "0000f88f8d76a238c251450913b0d070e4a77d19  [TRZYESA128F148D67F, Please Do Not Let Me Go, ...   \n",
              "0005eb11fd1dad47e6e6719a4db30340073a9e38  [TRLVQME128F931BAF3, Vanilla Twilight, 0hXBVbr...   \n",
              "000d80cd9b58a8f77b33aa613dcfc5cbf1daf5e8  [TRPONOG128F4275608, The Adjustor, 6sC8fTO6Ja6...   \n",
              "000e9296161b73a1821aaed3d7f50d95e8665bf6  [TRDMUWU128E078EDDB, Dumb, 13noTim30TG19L0rg9f...   \n",
              "00100482b3f3074549c751e718c57ed211b35991  [TRZJHGG128E079655A, Never An Easy Way, 1c1KOD...   \n",
              "\n",
              "                                                                                         11  \\\n",
              "0000f88f8d76a238c251450913b0d070e4a77d19  [TRRUNEV128F148D719, Burning Photographs, 2Mco...   \n",
              "0005eb11fd1dad47e6e6719a4db30340073a9e38  [TRUGOGT128F92F29E9, Captains and Cruise Ships...   \n",
              "000d80cd9b58a8f77b33aa613dcfc5cbf1daf5e8  [TRJGDTG128F421CE22, Lights & Music, 0FezhHZVm...   \n",
              "000e9296161b73a1821aaed3d7f50d95e8665bf6  [TRDRFVY128F4281937, Headlights Look Like Diam...   \n",
              "00100482b3f3074549c751e718c57ed211b35991  [TRIXKKQ12903CCE495, Coming Down Gently, 1THrj...   \n",
              "\n",
              "                                                                                         12  \\\n",
              "0000f88f8d76a238c251450913b0d070e4a77d19  [TRDKRLP128F4291A80, Halloweenhead, 04N3X9vfSz...   \n",
              "0005eb11fd1dad47e6e6719a4db30340073a9e38  [TRCXWLU128F92F2A0D, This Is The Future, 17jG9...   \n",
              "000d80cd9b58a8f77b33aa613dcfc5cbf1daf5e8  [TROTYPC128E07940AB, Door Peep, 0ceGoYvdbcsRll...   \n",
              "000e9296161b73a1821aaed3d7f50d95e8665bf6  [TRIPLBA128F427200F, My Moon My Man, 0Bl1KVabX...   \n",
              "00100482b3f3074549c751e718c57ed211b35991  [TRORPWW12903CCE48E, Love Is Rare, 07ZOef7Bqy9...   \n",
              "\n",
              "                                                                                         13  \\\n",
              "0000f88f8d76a238c251450913b0d070e4a77d19  [TRFTUIW128E0784B9F, Bubble Toes, 1CFwwYZ58s34...   \n",
              "0005eb11fd1dad47e6e6719a4db30340073a9e38  [TRRVJCK12903CD2DCB, U Smile, 0KDJBhhe2OYnnoJt...   \n",
              "000d80cd9b58a8f77b33aa613dcfc5cbf1daf5e8  [TRPXIWX128F429831F, One Minute to Midnight, 0...   \n",
              "000e9296161b73a1821aaed3d7f50d95e8665bf6  [TRJSAID128F934D596, Beautiful Drug, 50t5tH0xK...   \n",
              "00100482b3f3074549c751e718c57ed211b35991  [TRYIASQ128E079650E, Undress Me Now, 2cZu9PrRr...   \n",
              "\n",
              "                                                                                         14  \\\n",
              "0000f88f8d76a238c251450913b0d070e4a77d19  [TRKGCIA128F92C315D, Joe's Head, 0A2BgEzGWU9HB...   \n",
              "0005eb11fd1dad47e6e6719a4db30340073a9e38  [TRCJAHJ128E07815B6, Stacy's Mom, 0b5Z4MPCgSFm...   \n",
              "000d80cd9b58a8f77b33aa613dcfc5cbf1daf5e8  [TROINZB128F932F740, Crazy in Love, 0klMKiGV38...   \n",
              "000e9296161b73a1821aaed3d7f50d95e8665bf6  [TRMYAYJ128F934D0AF, Until the Morning, 20F3Fc...   \n",
              "00100482b3f3074549c751e718c57ed211b35991  [TRDNHAW128F429DB9A, The Ballad of Michael Val...   \n",
              "\n",
              "                                                                                         15  \\\n",
              "0000f88f8d76a238c251450913b0d070e4a77d19  [TRFUCYR128F92DC67F, California Waiting, 0txCP...   \n",
              "0005eb11fd1dad47e6e6719a4db30340073a9e38  [TRPWIGO128F931BAEB, Dental Care, 1IyackM7hvB1...   \n",
              "000d80cd9b58a8f77b33aa613dcfc5cbf1daf5e8  [TROUAEG128F429354A, Message Stick, 0jFN4WAx76...   \n",
              "000e9296161b73a1821aaed3d7f50d95e8665bf6  [TRWGIOT128F425ECDE, Sweetheart Come, 0pcV8SPE...   \n",
              "00100482b3f3074549c751e718c57ed211b35991  [TRXYEKR128E079654C, Otherwise, 0NTSwjegwCGXjm...   \n",
              "\n",
              "                                                                                         16  \\\n",
              "0000f88f8d76a238c251450913b0d070e4a77d19  [TROZZNY128F14782F7, All the Wild Horses, 0FFm...   \n",
              "0005eb11fd1dad47e6e6719a4db30340073a9e38  [TRNEITZ128F92F29EA, Designer Skyline, 30KmLL3...   \n",
              "000d80cd9b58a8f77b33aa613dcfc5cbf1daf5e8  [TRQEBRP12903CADD6C, Sky Might Fall, 2Pq2jkcG8...   \n",
              "000e9296161b73a1821aaed3d7f50d95e8665bf6  [TRLRCIA128F425ECD7, Fifteen Feet of Pure Whit...   \n",
              "00100482b3f3074549c751e718c57ed211b35991  [TRHZMPR128F42A52CB, Challengers, 33ZcFxD1Ohwj...   \n",
              "\n",
              "                                                                                         17  \\\n",
              "0000f88f8d76a238c251450913b0d070e4a77d19  [TRTWOCA128F14840B8, La Cienega Just Smiled, 0...   \n",
              "0005eb11fd1dad47e6e6719a4db30340073a9e38  [TRMIHFS128F92F2A01, Early Birdie, 1TvtrJ6uyfQ...   \n",
              "000d80cd9b58a8f77b33aa613dcfc5cbf1daf5e8  [TROTWMO128F42B9238, Iconography, 04gW4W5ziYM3...   \n",
              "000e9296161b73a1821aaed3d7f50d95e8665bf6  [TRIAGDA128F4296176, Recycled Air, 0k0UEpGDB2x...   \n",
              "00100482b3f3074549c751e718c57ed211b35991  [TRXZMLY128E0796512, Public Displays of Affect...   \n",
              "\n",
              "                                                                                         18  \\\n",
              "0000f88f8d76a238c251450913b0d070e4a77d19  [TRQSEMJ128F4294F24, Pearls On A String, 02WVv...   \n",
              "0005eb11fd1dad47e6e6719a4db30340073a9e38  [TRRLGDR128F933A7C9, Injection, 0it4CBT8IGSbXv...   \n",
              "000d80cd9b58a8f77b33aa613dcfc5cbf1daf5e8  [TRJYECB128F4230F29, Second Chances, 1WPZR8Kf1...   \n",
              "000e9296161b73a1821aaed3d7f50d95e8665bf6  [TRIDPWO128F423DBC6, Faust Arp, 5SdmtFbNOD7Qej...   \n",
              "00100482b3f3074549c751e718c57ed211b35991  [TRJSQQT128F149F9B4, Street Justice, 0lJRL3H6x...   \n",
              "\n",
              "                                                                                         19  \n",
              "0000f88f8d76a238c251450913b0d070e4a77d19  [TRUNKTP12903CD1EFB, Blue Sky, 08SPbOlgCODbnWE...  \n",
              "0005eb11fd1dad47e6e6719a4db30340073a9e38  [TRLNFKN128F931BAF2, The Tip Of The Iceberg, 1...  \n",
              "000d80cd9b58a8f77b33aa613dcfc5cbf1daf5e8  [TRJLGXB128F93043EA, Colourful, 21rILkLpA1vsYZ...  \n",
              "000e9296161b73a1821aaed3d7f50d95e8665bf6  [TRPFLRB128F14A895D, No Cars Go, 0nev4XL4Y6hrD...  \n",
              "00100482b3f3074549c751e718c57ed211b35991  [TRXCZNS128F428A15E, Next To You, 0rUmVbfsJQzW...  "
            ]
          },
          "execution_count": 16,
          "metadata": {},
          "output_type": "execute_result"
        }
      ],
      "source": [
        "playlists = pd.DataFrame.from_dict(playlist_dict, orient='index')\n",
        "playlists.head()"
      ]
    },
    {
      "cell_type": "markdown",
      "metadata": {
        "id": "m0J-pvQ8E9zp"
      },
      "source": [
        "### Train and Test Split"
      ]
    },
    {
      "cell_type": "code",
      "execution_count": 40,
      "metadata": {
        "id": "FslzeUXKE8Sx"
      },
      "outputs": [],
      "source": [
        "# Train and test splits for playlist\n",
        "X = arr_np[:,:-1,:]\n",
        "Y = arr_np[:,1:,:]\n",
        "x_train, x_val, y_train, y_val = train_test_split(X,Y,train_size=0.9,random_state=3000)\n",
        "x_train, x_test, y_train, y_test = train_test_split(x_train,y_train,train_size=0.9,random_state=3000)\n"
      ]
    },
    {
      "cell_type": "code",
      "execution_count": 33,
      "metadata": {
        "colab": {
          "base_uri": "https://localhost:8080/"
        },
        "id": "8oFjddSz9MhU",
        "outputId": "5d9a8909-dcd8-4caf-e473-d38a3a55fa62"
      },
      "outputs": [],
      "source": [
        "# print(x_train.shape)\n",
        "# print(y_train.shape)\n",
        "# print(x_val.shape)\n",
        "# print(y_val.shape)\n",
        "# print(x_test.shape)\n",
        "# print(y_test.shape)\n",
        "\n",
        "# print(x_train[0, :, :])"
      ]
    },
    {
      "cell_type": "code",
      "execution_count": 41,
      "metadata": {
        "id": "vtZ20haq9MhU"
      },
      "outputs": [],
      "source": [
        "# Original Playlists\n",
        "ops_x_train, ops_y_train, ops_x_val, ops_y_val, ops_x_test, ops_y_test = [], [], [], [], [], []\n",
        "\n",
        "# This only works based on size if val and test sets switch in size switch them in these loops\n",
        "for user in range(np.ma.size(x_train, axis=0)):\n",
        "    names_x_train, names_y_train, names_x_val, names_y_val, names_x_test, names_y_test = [], [], [], [], [], []\n",
        "    for song in range(np.ma.size(x_train, axis=1)):\n",
        "        names_x_train.append(x_train[user, song, 0:3])\n",
        "        names_y_train.append(y_train[user, song, 0:3])\n",
        "        try:\n",
        "            names_x_val.append(x_val[user, song, 0:3])\n",
        "            names_y_val.append(y_val[user, song, 0:3])\n",
        "        except IndexError:\n",
        "            continue\n",
        "        try:\n",
        "            names_x_test.append(x_test[user, song, 0:3])\n",
        "            names_y_test.append(y_test[user, song, 0:3])\n",
        "        except IndexError:\n",
        "            continue\n",
        "\n",
        "    ops_x_train.append(names_x_train)\n",
        "    ops_y_train.append(names_y_train)\n",
        "    if not names_x_val:\n",
        "        continue\n",
        "    ops_x_val.append(names_x_val)\n",
        "    ops_y_val.append(names_y_val)\n",
        "    if not names_x_test:\n",
        "        continue\n",
        "    ops_x_test.append(names_x_test)\n",
        "    ops_y_test.append(names_y_test)\n",
        "x_train = x_train[:, :, 3:].astype(np.float64)\n",
        "y_train = y_train[:, :, 3:].astype(np.float64)\n",
        "x_val = x_val[:, :, 3:].astype(np.float64)\n",
        "y_val = y_val[:, :, 3:].astype(np.float64)\n",
        "x_test = x_test[:, :, 3:].astype(np.float64)\n",
        "y_test = y_test[:, :, 3:].astype(np.float64)"
      ]
    },
    {
      "cell_type": "code",
      "execution_count": 42,
      "metadata": {
        "colab": {
          "base_uri": "https://localhost:8080/"
        },
        "id": "x02uagUp9MhU",
        "outputId": "611faa7e-e744-4c82-f4e8-0d7f5d8c63bd"
      },
      "outputs": [
        {
          "name": "stdout",
          "output_type": "stream",
          "text": [
            "[[ 6.8300e-01  3.5300e-01 -9.5470e+00  5.2300e-02  9.5300e-01  1.3000e-02\n",
            "   9.3700e-02  5.7500e-01]\n",
            " [ 5.7800e-01  7.5200e-01 -5.2640e+00  3.3000e-02  2.7500e-02  0.0000e+00\n",
            "   1.2500e-01  4.0500e-01]\n",
            " [ 6.2600e-01  3.1700e-01 -1.3692e+01  4.1400e-02  9.3100e-01  3.6300e-01\n",
            "   9.3700e-02  5.6800e-01]\n",
            " [ 5.1400e-01  1.4100e-01 -1.4380e+01  3.7500e-02  9.1700e-01  2.5500e-03\n",
            "   1.3200e-01  1.2700e-01]\n",
            " [ 4.8700e-01  2.3500e-01 -1.3489e+01  4.0600e-02  9.2900e-01  1.0000e-02\n",
            "   1.5700e-01  2.3900e-01]\n",
            " [ 3.8000e-01  1.5500e-01 -1.6735e+01  4.5800e-02  9.6300e-01  3.9400e-02\n",
            "   6.9300e-01  3.9300e-02]\n",
            " [ 2.1000e-01  1.9700e-01 -1.1895e+01  3.3600e-02  9.4300e-01  0.0000e+00\n",
            "   9.9500e-02  4.9600e-01]\n",
            " [ 5.8100e-01  4.6800e-01 -1.5763e+01  3.1400e-02  2.5100e-02  8.4500e-02\n",
            "   8.3100e-02  4.9000e-01]\n",
            " [ 1.8800e-01  2.2100e-01 -1.2557e+01  3.3900e-02  9.2800e-01  2.2700e-03\n",
            "   1.0600e-01  5.7200e-02]\n",
            " [ 3.3100e-01  5.5900e-01 -8.2630e+00  3.1600e-02  2.2400e-01  0.0000e+00\n",
            "   2.9700e-01  2.3600e-01]\n",
            " [ 3.8100e-01  9.3900e-01 -4.6840e+00  1.2500e-01  4.2000e-02  9.1800e-01\n",
            "   1.7200e-01  3.3500e-01]\n",
            " [ 7.7100e-01  4.3100e-01 -9.7350e+00  5.0300e-02  6.6800e-01  9.6700e-04\n",
            "   1.0400e-01  3.6400e-01]\n",
            " [ 5.3100e-01  3.6000e-01 -8.5750e+00  1.0800e-01  8.2200e-01  0.0000e+00\n",
            "   1.7800e-01  7.0100e-01]\n",
            " [ 3.2500e-01  1.6200e-01 -1.9836e+01  5.2700e-02  9.8200e-01  9.7200e-01\n",
            "   4.2400e-01  2.2200e-01]\n",
            " [ 4.5900e-01  2.8600e-01 -1.4145e+01  4.0900e-02  9.0900e-01  9.7500e-02\n",
            "   1.6000e-01  1.8200e-01]\n",
            " [ 1.5400e-01  2.0400e-01 -1.5335e+01  4.1800e-02  9.1500e-01  3.5200e-01\n",
            "   1.2200e-01  1.4700e-01]\n",
            " [ 3.5800e-01  4.9200e-01 -7.8440e+00  2.9900e-02  5.5200e-01  8.9900e-01\n",
            "   2.3500e-01  6.6600e-02]\n",
            " [ 3.6300e-01  2.9600e-01 -1.1703e+01  3.6600e-02  8.5000e-01  8.6700e-03\n",
            "   1.2200e-01  1.3400e-01]\n",
            " [ 3.1200e-01  3.5000e-01 -7.7400e+00  3.4000e-02  5.8500e-01  6.4100e-02\n",
            "   6.4000e-02  7.1800e-02]]\n",
            "[array(['TRMXZMN128F425980B', 'All That I Need Is Love',\n",
            "       '5qXhjrcfWlEb7XgAjxnBpl'], dtype='<U109'), array(['TRXXVOG128F92F411D', \"Don't Think I Don't Think About It\",\n",
            "       '0XfFxeXzMkIy5SWAVpOQin'], dtype='<U109'), array(['TRXIQDL128F92F27DC', 'Les Etoiles', '0OMuZjHByeQRkfl8L2J28D'],\n",
            "      dtype='<U109'), array(['TRIVUMW128F425980E', 'Some Lessons', '2Fr7dMmDbt02SYluNse16e'],\n",
            "      dtype='<U109'), array(['TRCWYJA128F92F27D6', \"Baby I'm A Fool\", '0jKOQF8a4SjSxVZX40lAlx'],\n",
            "      dtype='<U109'), array(['TRMFXAY128F92F27DF', 'My One And Only Thrill',\n",
            "       '0bGs8mSTHyqwweGswcsm5y'], dtype='<U109'), array(['TRIQKEJ128F9307761', 'You Will Be My Ain True Love',\n",
            "       '0tSvpLo1IyV3IGbj7sB3LE'], dtype='<U109'), array(['TRVJGDX128F42645CA', 'House Of Broken Love',\n",
            "       '0tFscEe2fMwsHflVPsyaAD'], dtype='<U109'), array(['TRXJWFS128F92F27DB', 'Our Love Is Easy', '18jyhAEvub1EEVyken9bRQ'],\n",
            "      dtype='<U109'), array(['TRHFGRN128F427EFC3', 'Sons & Daughters', '0eNtHZiAUykMHfCFjryw4G'],\n",
            "      dtype='<U109'), array(['TRHRFIN128F425DEF1', '4th Dimensional Transition',\n",
            "       '14Hlfk7LY4TOw450LaVteS'], dtype='<U109'), array(['TRTIVLA128F92F27D8', 'Who Will Comfort Me',\n",
            "       '06f1yzcZ5vew8CcHSdsIEG'], dtype='<U109'), array(['TRGCHLH12903CB7352', 'Party In The U.S.A.',\n",
            "       '0bz2Uy1KE7bNGsGQU9pZrU'], dtype='<U109'), array(['TRBMCGS128F92D2C27', 'Innocent When You Dream (78)',\n",
            "       '2UZzbyTxmeuVtBA8OrFerz'], dtype='<U109'), array(['TRKSBXZ128F4259809', 'Worrisome Heart', '0S1ULGUltdW0tyTNIimugG'],\n",
            "      dtype='<U109'), array(['TRNXGFP128F9318EDE', 'Deep Within The Corners Of My Mind',\n",
            "       '23kYx4ROC3vLZK7byKWEJF'], dtype='<U109'), array(['TRIPSQP12903CE450C', \"Lady Dada's Nightmare\",\n",
            "       '0XwfkoJnGpRw7y3s0fWxaO'], dtype='<U109'), array(['TRNYILG12903CDE93B', 'Your Heart Is As Black As Night',\n",
            "       '0B8Xfc9Pr54L52sf6tgjRn'], dtype='<U109'), array(['TRMELBC12903CE44FC', \"Someone's Missing\",\n",
            "       '0T5PckcOMOCgG2MddgOmKM'], dtype='<U109')]\n"
          ]
        }
      ],
      "source": [
        "print(x_train[0, :, :])\n",
        "print(ops_x_train[0])"
      ]
    },
    {
      "cell_type": "markdown",
      "metadata": {
        "id": "kBA1aMtbOTYj"
      },
      "source": [
        "### Define the Model"
      ]
    },
    {
      "cell_type": "code",
      "execution_count": 43,
      "metadata": {
        "id": "5i9wr7CXFV5-"
      },
      "outputs": [],
      "source": [
        "if os.path.exists('misc/mae_optimized_model.keras'):\n",
        "    print(\"using saved model\")\n",
        "    model = load_model('misc/mae_optimized_model.keras')\n",
        "else:\n",
        "    model = Sequential()\n",
        "    model.add(Input(shape=(None,8)))\n",
        "    model.add(SimpleRNN(\n",
        "        16,\n",
        "        activation='linear',\n",
        "        return_sequences=True,\n",
        "        kernel_initializer='random_uniform',\n",
        "    ))\n",
        "    model.add(SimpleRNN(\n",
        "        16,\n",
        "        activation='linear',\n",
        "        return_sequences=True,\n",
        "        kernel_initializer='random_uniform',\n",
        "    ))\n",
        "    model.add(Dense(8, activation='linear', kernel_initializer='random_uniform',))\n",
        "    device = torch.device(\"cuda:0\" if torch.cuda.is_available() else \"cpu\")\n",
        "    print(torch.cuda.get_device_name(0))\n",
        "    \n",
        "    model.compile(loss='mae', optimizer='adam')\n",
        "    model.fit(x_train, y_train, epochs=10, batch_size=32, validation_data=(x_val, y_val))\n",
        "    model.save('misc/mae_optimized_model.keras')"
      ]
    },
    {
      "cell_type": "code",
      "execution_count": 44,
      "metadata": {
        "id": "2t05B8D1uq3I"
      },
      "outputs": [],
      "source": [
        "\n",
        "mae_optimized_model_adam = model"
      ]
    },
    {
      "cell_type": "code",
      "execution_count": 38,
      "metadata": {
        "id": "Z5TojMv4PwJX"
      },
      "outputs": [],
      "source": [
        "def predict_sample(sample,model):\n",
        "    return (model.predict(np.array([sample]))[0,-1])"
      ]
    },
    {
      "cell_type": "markdown",
      "metadata": {
        "id": "dXcH3VfPP_2I"
      },
      "source": [
        "### Run RNN"
      ]
    },
    {
      "cell_type": "code",
      "execution_count": 39,
      "metadata": {
        "colab": {
          "base_uri": "https://localhost:8080/"
        },
        "id": "EUMhBftWQErx",
        "outputId": "6f3130db-49be-48b8-ce16-0aa2b6d41a07"
      },
      "outputs": [
        {
          "name": "stdout",
          "output_type": "stream",
          "text": [
            "Selecting a random index in our test dataset: \n",
            "1460\n",
            "Input: \n",
            "[[ 7.0400e-01  6.7400e-01 -7.3890e+00  3.0800e-02  1.7500e-01  5.1800e-02\n",
            "   9.7800e-02  6.9800e-01]\n",
            " [ 2.1900e-01  3.1800e-01 -1.5323e+01  3.7200e-02  8.9000e-01  8.3800e-01\n",
            "   5.7800e-01  7.8300e-02]\n",
            " [ 3.0700e-01  4.8400e-01 -7.9360e+00  2.9200e-02  4.3300e-02  7.9200e-01\n",
            "   4.7900e-01  7.3500e-02]\n",
            " [ 4.7900e-01  3.1700e-01 -1.6530e+01  2.8800e-02  7.9200e-01  9.0000e-01\n",
            "   1.0700e-01  3.8200e-02]\n",
            " [ 6.2400e-01  7.4100e-01 -1.0829e+01  6.0100e-02  3.0300e-02  4.3400e-01\n",
            "   1.4100e-01  9.3300e-02]\n",
            " [ 2.2500e-01  6.0700e-01 -7.1180e+00  4.0400e-02  1.1800e-06  8.4100e-01\n",
            "   4.5100e-02  3.5500e-01]\n",
            " [ 3.9000e-01  3.7000e-01 -8.2880e+00  4.5700e-02  4.7400e-01  1.3000e-04\n",
            "   1.1500e-01  9.0900e-02]\n",
            " [ 6.6700e-01  6.9200e-01 -8.3610e+00  2.8500e-02  1.4700e-01  3.7500e-05\n",
            "   3.4900e-01  8.4600e-01]\n",
            " [ 4.4300e-01  7.6000e-01 -6.1030e+00  4.3000e-02  7.1200e-02  7.9100e-01\n",
            "   2.2900e-01  1.5200e-01]\n",
            " [ 4.1300e-01  7.0700e-01 -8.6500e+00  3.7500e-02  2.3200e-02  2.8400e-06\n",
            "   2.9300e-01  4.9400e-01]\n",
            " [ 5.3200e-01  7.4800e-01 -8.8430e+00  5.2900e-02  8.1100e-01  1.0100e-05\n",
            "   1.6900e-01  7.2400e-01]\n",
            " [ 6.9300e-01  6.5800e-01 -6.1830e+00  3.0000e-02  3.6500e-01  1.8400e-06\n",
            "   1.3700e-01  6.2500e-01]\n",
            " [ 4.6500e-01  4.4900e-01 -9.5500e+00  3.5700e-02  8.7300e-01  9.5900e-01\n",
            "   8.7300e-02  1.6000e-01]\n",
            " [ 2.4800e-01  5.7500e-01 -9.4680e+00  4.1900e-02  1.0400e-02  8.1100e-01\n",
            "   1.4200e-01  1.3100e-01]\n",
            " [ 7.3900e-01  7.2700e-01 -2.1340e+00  7.9500e-02  5.2600e-01  0.0000e+00\n",
            "   8.2800e-02  8.2600e-01]\n",
            " [ 8.8200e-01  8.4200e-01 -4.5340e+00  9.3300e-02  1.3600e-02  3.4500e-02\n",
            "   2.6200e-01  6.8200e-01]\n",
            " [ 3.6500e-01  7.8000e-01 -3.4570e+00  5.8700e-02  1.3600e-02  0.0000e+00\n",
            "   6.4500e-02  3.1000e-01]\n",
            " [ 5.4000e-01  8.9000e-01 -2.3130e+00  4.1000e-02  3.5100e-04  6.7200e-05\n",
            "   1.1200e-01  8.2800e-01]\n",
            " [ 3.5900e-01  7.7900e-01 -7.5200e+00  4.1200e-02  5.7000e-03  8.3700e-01\n",
            "   3.7900e-01  5.8200e-01]]\n",
            "\n",
            " Output: \n",
            "\u001b[1m1/1\u001b[0m \u001b[32m━━━━━━━━━━━━━━━━━━━━\u001b[0m\u001b[37m\u001b[0m \u001b[1m0s\u001b[0m 476ms/step\n",
            "[ 0.5371914   0.73527    -6.9498515   0.0469767   0.07816491  0.01186921\n",
            "  0.1397711   0.46590203]\n"
          ]
        }
      ],
      "source": [
        "print('Selecting a random index in our test dataset: ')\n",
        "random_index = random.randint(0,len(x_test)-1)\n",
        "print(random_index)\n",
        "\n",
        "print('Input: ')\n",
        "print(x_test[random_index])\n",
        "\n",
        "print('\\n','Output: ')\n",
        "predicted = predict_sample(x_test[random_index], mae_optimized_model_adam)\n",
        "print(predicted)"
      ]
    },
    {
      "cell_type": "code",
      "execution_count": 45,
      "metadata": {
        "id": "9Yo0IlYv9MhW"
      },
      "outputs": [],
      "source": [
        "# np.save('song_embbeding', predicted)"
      ]
    },
    {
      "cell_type": "code",
      "execution_count": 25,
      "metadata": {
        "colab": {
          "base_uri": "https://localhost:8080/",
          "height": 206
        },
        "id": "TVvuK3Ah9MhW",
        "outputId": "95feb791-01e0-4d22-dfb3-713724f18a59"
      },
      "outputs": [
        {
          "data": {
            "text/html": [
              "<div>\n",
              "<style scoped>\n",
              "    .dataframe tbody tr th:only-of-type {\n",
              "        vertical-align: middle;\n",
              "    }\n",
              "\n",
              "    .dataframe tbody tr th {\n",
              "        vertical-align: top;\n",
              "    }\n",
              "\n",
              "    .dataframe thead th {\n",
              "        text-align: right;\n",
              "    }\n",
              "</style>\n",
              "<table border=\"1\" class=\"dataframe\">\n",
              "  <thead>\n",
              "    <tr style=\"text-align: right;\">\n",
              "      <th></th>\n",
              "      <th>track_id</th>\n",
              "      <th>name</th>\n",
              "      <th>spotify_id</th>\n",
              "      <th>danceability</th>\n",
              "      <th>energy</th>\n",
              "      <th>loudness</th>\n",
              "      <th>speechiness</th>\n",
              "      <th>acousticness</th>\n",
              "      <th>instrumentalness</th>\n",
              "      <th>liveness</th>\n",
              "      <th>valence</th>\n",
              "    </tr>\n",
              "  </thead>\n",
              "  <tbody>\n",
              "    <tr>\n",
              "      <th>306346</th>\n",
              "      <td>TRTVXIH128F426625A</td>\n",
              "      <td>Come Round Soon</td>\n",
              "      <td>0jkVXytWSisMUtrBEej9mi</td>\n",
              "      <td>0.338</td>\n",
              "      <td>0.819</td>\n",
              "      <td>-4.495</td>\n",
              "      <td>0.0776</td>\n",
              "      <td>0.077700</td>\n",
              "      <td>0.00000</td>\n",
              "      <td>0.159</td>\n",
              "      <td>0.545</td>\n",
              "    </tr>\n",
              "    <tr>\n",
              "      <th>417455</th>\n",
              "      <td>TRWUFEW128F14782F3</td>\n",
              "      <td>Forever My Friend</td>\n",
              "      <td>0Ev7atdl0qS2n39OO7051O</td>\n",
              "      <td>0.493</td>\n",
              "      <td>0.524</td>\n",
              "      <td>-13.553</td>\n",
              "      <td>0.0423</td>\n",
              "      <td>0.334000</td>\n",
              "      <td>0.01410</td>\n",
              "      <td>0.357</td>\n",
              "      <td>0.379</td>\n",
              "    </tr>\n",
              "    <tr>\n",
              "      <th>32466</th>\n",
              "      <td>TRNXEPE128F9339E47</td>\n",
              "      <td>My Name Is Jonas</td>\n",
              "      <td>0YU04WSkTVomRgeDOWlEzX</td>\n",
              "      <td>0.261</td>\n",
              "      <td>0.947</td>\n",
              "      <td>-3.031</td>\n",
              "      <td>0.0488</td>\n",
              "      <td>0.000197</td>\n",
              "      <td>0.00332</td>\n",
              "      <td>0.310</td>\n",
              "      <td>0.550</td>\n",
              "    </tr>\n",
              "    <tr>\n",
              "      <th>698954</th>\n",
              "      <td>TRMKCCV128F92EB22E</td>\n",
              "      <td>Light On</td>\n",
              "      <td>1BnoZbPDh9dbYqabvM6qZg</td>\n",
              "      <td>0.448</td>\n",
              "      <td>0.830</td>\n",
              "      <td>-4.156</td>\n",
              "      <td>0.0332</td>\n",
              "      <td>0.067300</td>\n",
              "      <td>0.00000</td>\n",
              "      <td>0.113</td>\n",
              "      <td>0.362</td>\n",
              "    </tr>\n",
              "    <tr>\n",
              "      <th>227171</th>\n",
              "      <td>TRJGJTH128F4291A81</td>\n",
              "      <td>Oh My God, Whatever, Etc.</td>\n",
              "      <td>0sUzPqm1gdsabzX5htMvf7</td>\n",
              "      <td>0.572</td>\n",
              "      <td>0.395</td>\n",
              "      <td>-10.630</td>\n",
              "      <td>0.0304</td>\n",
              "      <td>0.700000</td>\n",
              "      <td>0.00025</td>\n",
              "      <td>0.126</td>\n",
              "      <td>0.483</td>\n",
              "    </tr>\n",
              "  </tbody>\n",
              "</table>\n",
              "</div>"
            ],
            "text/plain": [
              "                  track_id                       name              spotify_id  \\\n",
              "306346  TRTVXIH128F426625A            Come Round Soon  0jkVXytWSisMUtrBEej9mi   \n",
              "417455  TRWUFEW128F14782F3          Forever My Friend  0Ev7atdl0qS2n39OO7051O   \n",
              "32466   TRNXEPE128F9339E47           My Name Is Jonas  0YU04WSkTVomRgeDOWlEzX   \n",
              "698954  TRMKCCV128F92EB22E                   Light On  1BnoZbPDh9dbYqabvM6qZg   \n",
              "227171  TRJGJTH128F4291A81  Oh My God, Whatever, Etc.  0sUzPqm1gdsabzX5htMvf7   \n",
              "\n",
              "        danceability  energy  loudness  speechiness  acousticness  \\\n",
              "306346         0.338   0.819    -4.495       0.0776      0.077700   \n",
              "417455         0.493   0.524   -13.553       0.0423      0.334000   \n",
              "32466          0.261   0.947    -3.031       0.0488      0.000197   \n",
              "698954         0.448   0.830    -4.156       0.0332      0.067300   \n",
              "227171         0.572   0.395   -10.630       0.0304      0.700000   \n",
              "\n",
              "        instrumentalness  liveness  valence  \n",
              "306346           0.00000     0.159    0.545  \n",
              "417455           0.01410     0.357    0.379  \n",
              "32466            0.00332     0.310    0.550  \n",
              "698954           0.00000     0.113    0.362  \n",
              "227171           0.00025     0.126    0.483  "
            ]
          },
          "execution_count": 25,
          "metadata": {},
          "output_type": "execute_result"
        }
      ],
      "source": [
        "distance_frame = data.drop(['artist','tags','tempo','duration_mins','user_id','playcount','mode'], axis=1)\n",
        "distance_frame.head()"
      ]
    },
    {
      "cell_type": "code",
      "execution_count": 26,
      "metadata": {
        "colab": {
          "base_uri": "https://localhost:8080/"
        },
        "id": "FWxHUaRZ9Mhb",
        "outputId": "0807dca9-e2fd-4a5c-c395-a09e8d12920b"
      },
      "outputs": [
        {
          "data": {
            "text/plain": [
              "23584"
            ]
          },
          "execution_count": 26,
          "metadata": {},
          "output_type": "execute_result"
        }
      ],
      "source": [
        "distance_frame.drop_duplicates(subset='track_id', keep='first', inplace=True)\n",
        "distance_frame.track_id.nunique()"
      ]
    },
    {
      "cell_type": "code",
      "execution_count": 28,
      "metadata": {
        "id": "cr_z6inG9Mhb"
      },
      "outputs": [],
      "source": [
        "def get_distances(data, p_vector):\n",
        "    names = data['name']\n",
        "    distance_frame = data.drop(['name', 'spotify_id'], axis=1)\n",
        "    distance_dict = distance_frame.set_index(['track_id']).to_dict('index')\n",
        "    for key in distance_dict:\n",
        "        distance_dict[key] = list(distance_dict[key].values())\n",
        "    distance_dict = distance_calc(distance_dict, p_vector, names)\n",
        "    return pd.DataFrame.from_dict(distance_dict, orient='index', columns=['id', 'distance'])\n",
        "\n",
        "def distance_calc(dict, v1, name_list):\n",
        "    distances = {}\n",
        "    i = 0\n",
        "    name_list = name_list.to_list()\n",
        "    for id in dict.keys():\n",
        "        v2 = dict[id]\n",
        "        value = 0.0\n",
        "        for n in range(len(v1)):\n",
        "            value += np.linalg.norm(v1[n] - v2[n])\n",
        "        distances[name_list[i]] = (id, value)\n",
        "        i += 1\n",
        "    return distances\n",
        "\n",
        "distance_frame2 = get_distances(distance_frame, predicted)\n"
      ]
    },
    {
      "cell_type": "code",
      "execution_count": 29,
      "metadata": {
        "colab": {
          "base_uri": "https://localhost:8080/",
          "height": 693
        },
        "id": "q7kNPAGv9Mhb",
        "outputId": "f29ac793-2229-4fbb-b38e-950c991739b3"
      },
      "outputs": [
        {
          "name": "stdout",
          "output_type": "stream",
          "text": [
            "(50, 2)\n"
          ]
        },
        {
          "data": {
            "text/html": [
              "<div>\n",
              "<style scoped>\n",
              "    .dataframe tbody tr th:only-of-type {\n",
              "        vertical-align: middle;\n",
              "    }\n",
              "\n",
              "    .dataframe tbody tr th {\n",
              "        vertical-align: top;\n",
              "    }\n",
              "\n",
              "    .dataframe thead th {\n",
              "        text-align: right;\n",
              "    }\n",
              "</style>\n",
              "<table border=\"1\" class=\"dataframe\">\n",
              "  <thead>\n",
              "    <tr style=\"text-align: right;\">\n",
              "      <th></th>\n",
              "      <th>id</th>\n",
              "      <th>distance</th>\n",
              "    </tr>\n",
              "  </thead>\n",
              "  <tbody>\n",
              "    <tr>\n",
              "      <th>I've Got It All (Most)</th>\n",
              "      <td>TRHGJTK128F9310AAD</td>\n",
              "      <td>0.185189</td>\n",
              "    </tr>\n",
              "    <tr>\n",
              "      <th>Audience</th>\n",
              "      <td>TRQJJWA128EF33DE61</td>\n",
              "      <td>0.258947</td>\n",
              "    </tr>\n",
              "    <tr>\n",
              "      <th>Just Like a Dream</th>\n",
              "      <td>TREXRTM128F423EDD6</td>\n",
              "      <td>0.266595</td>\n",
              "    </tr>\n",
              "    <tr>\n",
              "      <th>A Question Mark</th>\n",
              "      <td>TRZYYJH128E0791268</td>\n",
              "      <td>0.294678</td>\n",
              "    </tr>\n",
              "    <tr>\n",
              "      <th>Hudson Line</th>\n",
              "      <td>TRFRLWP12903CD2A48</td>\n",
              "      <td>0.300233</td>\n",
              "    </tr>\n",
              "    <tr>\n",
              "      <th>When The Night Comes</th>\n",
              "      <td>TRYIOWV128F92DE2D1</td>\n",
              "      <td>0.301760</td>\n",
              "    </tr>\n",
              "    <tr>\n",
              "      <th>Let It Rock</th>\n",
              "      <td>TRRFJGS12903CD9E19</td>\n",
              "      <td>0.307806</td>\n",
              "    </tr>\n",
              "    <tr>\n",
              "      <th>Follow The Light</th>\n",
              "      <td>TRVELOJ128F93256C0</td>\n",
              "      <td>0.313411</td>\n",
              "    </tr>\n",
              "    <tr>\n",
              "      <th>Angel Of Mercy</th>\n",
              "      <td>TRCXIVG128F427FD3F</td>\n",
              "      <td>0.317843</td>\n",
              "    </tr>\n",
              "    <tr>\n",
              "      <th>Thanks Vision</th>\n",
              "      <td>TRGSBYN12903D01E26</td>\n",
              "      <td>0.324303</td>\n",
              "    </tr>\n",
              "    <tr>\n",
              "      <th>Oregon Girl</th>\n",
              "      <td>TRKMZAL128F14895B3</td>\n",
              "      <td>0.327688</td>\n",
              "    </tr>\n",
              "    <tr>\n",
              "      <th>She's Nirvana</th>\n",
              "      <td>TRMFBUD128F92F6265</td>\n",
              "      <td>0.331828</td>\n",
              "    </tr>\n",
              "    <tr>\n",
              "      <th>Tackle Box</th>\n",
              "      <td>TRIEREA128F429FEFB</td>\n",
              "      <td>0.335719</td>\n",
              "    </tr>\n",
              "    <tr>\n",
              "      <th>What Katie Did</th>\n",
              "      <td>TRRUQQW128F425045E</td>\n",
              "      <td>0.336115</td>\n",
              "    </tr>\n",
              "    <tr>\n",
              "      <th>Two Sisters</th>\n",
              "      <td>TRRPEHA128F92DE86B</td>\n",
              "      <td>0.341610</td>\n",
              "    </tr>\n",
              "    <tr>\n",
              "      <th>Live and Learn</th>\n",
              "      <td>TRSEJYN128F933687D</td>\n",
              "      <td>0.355435</td>\n",
              "    </tr>\n",
              "    <tr>\n",
              "      <th>Tissue Shoulders</th>\n",
              "      <td>TRAQXUJ128EF35163B</td>\n",
              "      <td>0.355986</td>\n",
              "    </tr>\n",
              "    <tr>\n",
              "      <th>Shake Those Windows</th>\n",
              "      <td>TRJRKRN128F148CCAA</td>\n",
              "      <td>0.359792</td>\n",
              "    </tr>\n",
              "    <tr>\n",
              "      <th>Search Party</th>\n",
              "      <td>TRMFFAD128F930EE13</td>\n",
              "      <td>0.360354</td>\n",
              "    </tr>\n",
              "    <tr>\n",
              "      <th>We Rode In Trucks</th>\n",
              "      <td>TRMGWRE128F429FEF5</td>\n",
              "      <td>0.360617</td>\n",
              "    </tr>\n",
              "  </tbody>\n",
              "</table>\n",
              "</div>"
            ],
            "text/plain": [
              "                                        id  distance\n",
              "I've Got It All (Most)  TRHGJTK128F9310AAD  0.185189\n",
              "Audience                TRQJJWA128EF33DE61  0.258947\n",
              "Just Like a Dream       TREXRTM128F423EDD6  0.266595\n",
              "A Question Mark         TRZYYJH128E0791268  0.294678\n",
              "Hudson Line             TRFRLWP12903CD2A48  0.300233\n",
              "When The Night Comes    TRYIOWV128F92DE2D1  0.301760\n",
              "Let It Rock             TRRFJGS12903CD9E19  0.307806\n",
              "Follow The Light        TRVELOJ128F93256C0  0.313411\n",
              "Angel Of Mercy          TRCXIVG128F427FD3F  0.317843\n",
              "Thanks Vision           TRGSBYN12903D01E26  0.324303\n",
              "Oregon Girl             TRKMZAL128F14895B3  0.327688\n",
              "She's Nirvana           TRMFBUD128F92F6265  0.331828\n",
              "Tackle Box              TRIEREA128F429FEFB  0.335719\n",
              "What Katie Did          TRRUQQW128F425045E  0.336115\n",
              "Two Sisters             TRRPEHA128F92DE86B  0.341610\n",
              "Live and Learn          TRSEJYN128F933687D  0.355435\n",
              "Tissue Shoulders        TRAQXUJ128EF35163B  0.355986\n",
              "Shake Those Windows     TRJRKRN128F148CCAA  0.359792\n",
              "Search Party            TRMFFAD128F930EE13  0.360354\n",
              "We Rode In Trucks       TRMGWRE128F429FEF5  0.360617"
            ]
          },
          "execution_count": 29,
          "metadata": {},
          "output_type": "execute_result"
        }
      ],
      "source": [
        "POTENTIAL_N = 50 #defines size\n",
        "\n",
        "potential_songs = distance_frame2.nsmallest(POTENTIAL_N, columns='distance', keep='all')\n",
        "print(potential_songs.shape)\n",
        "potential_songs.head(20)"
      ]
    },
    {
      "cell_type": "code",
      "execution_count": 30,
      "metadata": {
        "colab": {
          "base_uri": "https://localhost:8080/"
        },
        "id": "Dwep2SBu9Mhc",
        "outputId": "62b0b115-c320-4c09-ae65-525003eea2ee"
      },
      "outputs": [
        {
          "data": {
            "text/plain": [
              "[array(['TRGMZNT128F92DE267', 'Tim McGraw', '0boy2Iv10PJhYX458KPPtG'],\n",
              "       dtype='<U109'),\n",
              " array(['TRDKMPV128F429FEF7', 'First Love Song', '2CKtqXjVa5tEFZkIqWTg5c'],\n",
              "       dtype='<U109'),\n",
              " array(['TRHJSEZ128F1459DCC', \"I Got A Feelin'\", '0s88rm5EP0HSbzxiG88nr0'],\n",
              "       dtype='<U109'),\n",
              " array(['TREODII128F9320A36', 'Tenuousness', '0GUH3YaJHHKIZtF62NY9Js'],\n",
              "       dtype='<U109'),\n",
              " array(['TRZNAHL128F9327D5A', 'Gears', '3YC9z1sMjAxn5noHpBLBXd'],\n",
              "       dtype='<U109'),\n",
              " array(['TRBBQRV12903CC03A5', 'Perfume-V', '5iupfg9bpwtMAj6OMsYDLh'],\n",
              "       dtype='<U109'),\n",
              " array(['TRMLNIE128F429FEFA', 'You Make Me Want To',\n",
              "        '79hHnbwGTGeBrPtwLzdSYe'], dtype='<U109'),\n",
              " array(['TRISZNC12903CA4806', 'Do I', '0aYgF3SUk1AxDpIdv5oAxO'],\n",
              "       dtype='<U109'),\n",
              " array(['TRBNLRU128F9307FFF', 'Grand Designs', '0k1nnOtOgsmFyN5yVEk9am'],\n",
              "       dtype='<U109'),\n",
              " array(['TRBSBBC128F9328DBF', 'Just Might (Make Me Believe)',\n",
              "        '3Mra3KRm1ila5BOQNLLCff'], dtype='<U109'),\n",
              " array(['TRQYEBP128F92E4F05', 'People Are Crazy', '0ucud295w9xVvzuAZIWymS'],\n",
              "       dtype='<U109'),\n",
              " array(['TRPCZWR128F92F4129', 'History In The Making',\n",
              "        '0ATZMDjrPxQfShsNgOhOr8'], dtype='<U109'),\n",
              " array(['TRXXVOG128F92F411D', \"Don't Think I Don't Think About It\",\n",
              "        '0XfFxeXzMkIy5SWAVpOQin'], dtype='<U109'),\n",
              " array(['TRQRHUG128F14A8949', \"Settlin'\", '06IfZH6q52G6YTW6FCNFuH'],\n",
              "       dtype='<U109'),\n",
              " array(['TRRLHBX128F9343438', 'The Man I Want To Be',\n",
              "        '02yUfWLcjSPWju7QDohbmR'], dtype='<U109'),\n",
              " array(['TRCEVIT128F932BA0E', 'Highway 20 Ride', '0R6DMs3ly6EvMUL56XI1rk'],\n",
              "       dtype='<U109'),\n",
              " array(['TRJEVTR128F429FEF6', \"I'll Stay Me\", '1rrTGEaUehTaWh9z5rIpML'],\n",
              "       dtype='<U109'),\n",
              " array(['TROTRZN128E079188F', 'Cavanaugh Park', '22wYzKZfMn2iHeEyspTuCj'],\n",
              "       dtype='<U109'),\n",
              " array(['TRVYJCY128F92DE225', 'Hey Stephen', '18kSJU5j2OsV8ZX0zmpsXg'],\n",
              "       dtype='<U109')]"
            ]
          },
          "execution_count": 30,
          "metadata": {},
          "output_type": "execute_result"
        }
      ],
      "source": [
        "ops_x_test[random_index]"
      ]
    },
    {
      "cell_type": "code",
      "execution_count": 51,
      "metadata": {},
      "outputs": [],
      "source": [
        "lyrics_embeddings_csv = pd.read_csv('misc/lyrics_embeddings.csv')\n",
        "lyrics_embeddings_3d_csv = pd.read_csv('misc/lyrics_embeddings_3d.csv')"
      ]
    },
    {
      "cell_type": "code",
      "execution_count": 52,
      "metadata": {},
      "outputs": [],
      "source": [
        "lyrics_embeddings = dict()\n",
        "lyrics_embeddings_3d  = dict()\n",
        "for idx, row in lyrics_embeddings_csv.iterrows():\n",
        "    lyrics_embeddings[row[0]] = np.array(row[1:])\n",
        "\n",
        "for idx, row in lyrics_embeddings_3d_csv.iterrows():\n",
        "    lyrics_embeddings_3d[row[0]] = np.array(row[1:])\n"
      ]
    },
    {
      "cell_type": "code",
      "execution_count": 53,
      "metadata": {},
      "outputs": [
        {
          "data": {
            "text/plain": [
              "69"
            ]
          },
          "execution_count": 53,
          "metadata": {},
          "output_type": "execute_result"
        }
      ],
      "source": [
        "candidates = dict()\n",
        "for track_id in ops_x_test[random_index]:\n",
        "    candidates[track_id] = lyrics_embeddings_3d[track_id]\n",
        "\n",
        "cutoff = len(candidates)\n",
        "\n",
        "for idx, row in potential_songs.iterrows():\n",
        "    candidates[row['id']] = lyrics_embeddings_3d[row['id']]\n",
        "\n",
        "len(candidates)"
      ]
    },
    {
      "cell_type": "code",
      "execution_count": 54,
      "metadata": {},
      "outputs": [],
      "source": [
        "# For reducing dimensions of the embeddings\n",
        "raw_embeddings = np.concatenate(list(lyrics_embeddings.values())).reshape(len(lyrics_embeddings), 768)\n",
        "track_ids = list(lyrics_embeddings.keys())\n",
        "dim_model = PCA(n_components=150, random_state=42)\n",
        "dim_model.fit(raw_embeddings)\n",
        "reduced_embeddings = dim_model.transform(raw_embeddings)\n",
        "reduced_embeddings_dict = {track_ids[i]: reduced_embeddings[i] for i in range(len(track_ids))}\n",
        "\n",
        "og_embeddings = np.array([reduced_embeddings_dict[track_id] for track_id in ops_x_test[random_index]])"
      ]
    },
    {
      "cell_type": "markdown",
      "metadata": {},
      "source": [
        "At this stage, we must compare the embeddings in the predicted list against those in the original input list and find the best candidates\n",
        "### Cosine Similarity"
      ]
    },
    {
      "cell_type": "code",
      "execution_count": 55,
      "metadata": {},
      "outputs": [
        {
          "data": {
            "text/html": [
              "<div>\n",
              "<style scoped>\n",
              "    .dataframe tbody tr th:only-of-type {\n",
              "        vertical-align: middle;\n",
              "    }\n",
              "\n",
              "    .dataframe tbody tr th {\n",
              "        vertical-align: top;\n",
              "    }\n",
              "\n",
              "    .dataframe thead th {\n",
              "        text-align: right;\n",
              "    }\n",
              "</style>\n",
              "<table border=\"1\" class=\"dataframe\">\n",
              "  <thead>\n",
              "    <tr style=\"text-align: right;\">\n",
              "      <th></th>\n",
              "      <th>id</th>\n",
              "      <th>distance</th>\n",
              "    </tr>\n",
              "  </thead>\n",
              "  <tbody>\n",
              "    <tr>\n",
              "      <th>City Noise</th>\n",
              "      <td>TRVWDBV12903CEACE0</td>\n",
              "      <td>0.264726</td>\n",
              "    </tr>\n",
              "    <tr>\n",
              "      <th>Beast Of Honor</th>\n",
              "      <td>TRTWKHF128F4252945</td>\n",
              "      <td>0.260519</td>\n",
              "    </tr>\n",
              "    <tr>\n",
              "      <th>Explodiert</th>\n",
              "      <td>TRUNCHE128F425BF5D</td>\n",
              "      <td>0.320959</td>\n",
              "    </tr>\n",
              "    <tr>\n",
              "      <th>Beyond Within</th>\n",
              "      <td>TRGTXCP12903CF05DF</td>\n",
              "      <td>0.294816</td>\n",
              "    </tr>\n",
              "    <tr>\n",
              "      <th>Made of Glass</th>\n",
              "      <td>TRHTLBU128F429327B</td>\n",
              "      <td>0.337567</td>\n",
              "    </tr>\n",
              "    <tr>\n",
              "      <th>Loose Nuts On The Veladrome</th>\n",
              "      <td>TRHFZEU128F9329BF9</td>\n",
              "      <td>0.303103</td>\n",
              "    </tr>\n",
              "    <tr>\n",
              "      <th>Over-rated</th>\n",
              "      <td>TRWBXCW128F4266098</td>\n",
              "      <td>0.310143</td>\n",
              "    </tr>\n",
              "    <tr>\n",
              "      <th>Eiszeit</th>\n",
              "      <td>TRTSQHD12903CE87CA</td>\n",
              "      <td>0.319483</td>\n",
              "    </tr>\n",
              "    <tr>\n",
              "      <th>Closet Monster</th>\n",
              "      <td>TRWBPDM128F4262371</td>\n",
              "      <td>0.328078</td>\n",
              "    </tr>\n",
              "    <tr>\n",
              "      <th>Rational Eyes</th>\n",
              "      <td>TRCLZRQ128F422A819</td>\n",
              "      <td>0.203160</td>\n",
              "    </tr>\n",
              "  </tbody>\n",
              "</table>\n",
              "</div>"
            ],
            "text/plain": [
              "                                             id  distance\n",
              "City Noise                   TRVWDBV12903CEACE0  0.264726\n",
              "Beast Of Honor               TRTWKHF128F4252945  0.260519\n",
              "Explodiert                   TRUNCHE128F425BF5D  0.320959\n",
              "Beyond Within                TRGTXCP12903CF05DF  0.294816\n",
              "Made of Glass                TRHTLBU128F429327B  0.337567\n",
              "Loose Nuts On The Veladrome  TRHFZEU128F9329BF9  0.303103\n",
              "Over-rated                   TRWBXCW128F4266098  0.310143\n",
              "Eiszeit                      TRTSQHD12903CE87CA  0.319483\n",
              "Closet Monster               TRWBPDM128F4262371  0.328078\n",
              "Rational Eyes                TRCLZRQ128F422A819  0.203160"
            ]
          },
          "execution_count": 55,
          "metadata": {},
          "output_type": "execute_result"
        }
      ],
      "source": [
        "similarities = list()\n",
        "\n",
        "for track_id in potential_songs['id']:\n",
        "\n",
        "    candidate_embedding = reduced_embeddings_dict[track_id].reshape(1, -1)\n",
        "    similarity = cosine_similarity(candidate_embedding, og_embeddings)\n",
        "    similarities.append(np.mean(similarity))\n",
        "\n",
        "similarities = np.array(similarities)\n",
        "most_similar_indices = np.argsort(similarities)[::-1]\n",
        "selected_songs_cs = potential_songs.iloc[most_similar_indices[:10]]\n",
        "selected_songs_cs"
      ]
    },
    {
      "cell_type": "markdown",
      "metadata": {},
      "source": [
        "### Pairwise Distances"
      ]
    },
    {
      "cell_type": "code",
      "execution_count": 56,
      "metadata": {},
      "outputs": [
        {
          "data": {
            "text/html": [
              "<div>\n",
              "<style scoped>\n",
              "    .dataframe tbody tr th:only-of-type {\n",
              "        vertical-align: middle;\n",
              "    }\n",
              "\n",
              "    .dataframe tbody tr th {\n",
              "        vertical-align: top;\n",
              "    }\n",
              "\n",
              "    .dataframe thead th {\n",
              "        text-align: right;\n",
              "    }\n",
              "</style>\n",
              "<table border=\"1\" class=\"dataframe\">\n",
              "  <thead>\n",
              "    <tr style=\"text-align: right;\">\n",
              "      <th></th>\n",
              "      <th>id</th>\n",
              "      <th>distance</th>\n",
              "    </tr>\n",
              "  </thead>\n",
              "  <tbody>\n",
              "    <tr>\n",
              "      <th>Loose Nuts On The Veladrome</th>\n",
              "      <td>TRHFZEU128F9329BF9</td>\n",
              "      <td>0.303103</td>\n",
              "    </tr>\n",
              "    <tr>\n",
              "      <th>Closet Monster</th>\n",
              "      <td>TRWBPDM128F4262371</td>\n",
              "      <td>0.328078</td>\n",
              "    </tr>\n",
              "    <tr>\n",
              "      <th>Rational Eyes</th>\n",
              "      <td>TRCLZRQ128F422A819</td>\n",
              "      <td>0.203160</td>\n",
              "    </tr>\n",
              "    <tr>\n",
              "      <th>Over-rated</th>\n",
              "      <td>TRWBXCW128F4266098</td>\n",
              "      <td>0.310143</td>\n",
              "    </tr>\n",
              "    <tr>\n",
              "      <th>Made of Glass</th>\n",
              "      <td>TRHTLBU128F429327B</td>\n",
              "      <td>0.337567</td>\n",
              "    </tr>\n",
              "    <tr>\n",
              "      <th>Eiszeit</th>\n",
              "      <td>TRTSQHD12903CE87CA</td>\n",
              "      <td>0.319483</td>\n",
              "    </tr>\n",
              "    <tr>\n",
              "      <th>Beyond Within</th>\n",
              "      <td>TRGTXCP12903CF05DF</td>\n",
              "      <td>0.294816</td>\n",
              "    </tr>\n",
              "    <tr>\n",
              "      <th>Explodiert</th>\n",
              "      <td>TRUNCHE128F425BF5D</td>\n",
              "      <td>0.320959</td>\n",
              "    </tr>\n",
              "    <tr>\n",
              "      <th>Beast Of Honor</th>\n",
              "      <td>TRTWKHF128F4252945</td>\n",
              "      <td>0.260519</td>\n",
              "    </tr>\n",
              "    <tr>\n",
              "      <th>City Noise</th>\n",
              "      <td>TRVWDBV12903CEACE0</td>\n",
              "      <td>0.264726</td>\n",
              "    </tr>\n",
              "  </tbody>\n",
              "</table>\n",
              "</div>"
            ],
            "text/plain": [
              "                                             id  distance\n",
              "Loose Nuts On The Veladrome  TRHFZEU128F9329BF9  0.303103\n",
              "Closet Monster               TRWBPDM128F4262371  0.328078\n",
              "Rational Eyes                TRCLZRQ128F422A819  0.203160\n",
              "Over-rated                   TRWBXCW128F4266098  0.310143\n",
              "Made of Glass                TRHTLBU128F429327B  0.337567\n",
              "Eiszeit                      TRTSQHD12903CE87CA  0.319483\n",
              "Beyond Within                TRGTXCP12903CF05DF  0.294816\n",
              "Explodiert                   TRUNCHE128F425BF5D  0.320959\n",
              "Beast Of Honor               TRTWKHF128F4252945  0.260519\n",
              "City Noise                   TRVWDBV12903CEACE0  0.264726"
            ]
          },
          "execution_count": 56,
          "metadata": {},
          "output_type": "execute_result"
        }
      ],
      "source": [
        "candidate_embeddings = np.array([reduced_embeddings_dict[track_id] for track_id in selected_songs_cs['id']])\n",
        "\n",
        "distances = pairwise_distances(candidate_embeddings, og_embeddings, metric='euclidean')\n",
        "mean_distances = np.mean(distances, axis=1)\n",
        "closest_candidates_indices = np.argsort(mean_distances)[:10]\n",
        "selected_songs_pd = selected_songs_cs.iloc[closest_candidates_indices]\n",
        "selected_songs_pd"
      ]
    },
    {
      "cell_type": "code",
      "execution_count": 57,
      "metadata": {},
      "outputs": [
        {
          "data": {
            "text/plain": [
              "array([5, 8, 9, 6, 4, 7, 3, 2, 1, 0], dtype=int64)"
            ]
          },
          "execution_count": 57,
          "metadata": {},
          "output_type": "execute_result"
        }
      ],
      "source": [
        "closest_candidates_indices"
      ]
    },
    {
      "cell_type": "code",
      "execution_count": 58,
      "metadata": {},
      "outputs": [
        {
          "data": {
            "text/html": [
              "<div>\n",
              "<style scoped>\n",
              "    .dataframe tbody tr th:only-of-type {\n",
              "        vertical-align: middle;\n",
              "    }\n",
              "\n",
              "    .dataframe tbody tr th {\n",
              "        vertical-align: top;\n",
              "    }\n",
              "\n",
              "    .dataframe thead th {\n",
              "        text-align: right;\n",
              "    }\n",
              "</style>\n",
              "<table border=\"1\" class=\"dataframe\">\n",
              "  <thead>\n",
              "    <tr style=\"text-align: right;\">\n",
              "      <th></th>\n",
              "      <th>name</th>\n",
              "      <th>artist</th>\n",
              "      <th>tags</th>\n",
              "      <th>danceability</th>\n",
              "      <th>energy</th>\n",
              "      <th>loudness</th>\n",
              "      <th>mode</th>\n",
              "      <th>speechiness</th>\n",
              "      <th>acousticness</th>\n",
              "      <th>instrumentalness</th>\n",
              "      <th>liveness</th>\n",
              "      <th>valence</th>\n",
              "      <th>tempo</th>\n",
              "      <th>duration_mins</th>\n",
              "    </tr>\n",
              "    <tr>\n",
              "      <th>id</th>\n",
              "      <th></th>\n",
              "      <th></th>\n",
              "      <th></th>\n",
              "      <th></th>\n",
              "      <th></th>\n",
              "      <th></th>\n",
              "      <th></th>\n",
              "      <th></th>\n",
              "      <th></th>\n",
              "      <th></th>\n",
              "      <th></th>\n",
              "      <th></th>\n",
              "      <th></th>\n",
              "      <th></th>\n",
              "    </tr>\n",
              "  </thead>\n",
              "  <tbody>\n",
              "    <tr>\n",
              "      <th>TRHFZEU128F9329BF9</th>\n",
              "      <td>Loose Nuts On The Veladrome</td>\n",
              "      <td>Liars</td>\n",
              "      <td>experimental, noise</td>\n",
              "      <td>0.362</td>\n",
              "      <td>0.868</td>\n",
              "      <td>-4.909</td>\n",
              "      <td>1</td>\n",
              "      <td>0.0842</td>\n",
              "      <td>0.000305</td>\n",
              "      <td>0.000009</td>\n",
              "      <td>0.1180</td>\n",
              "      <td>0.528</td>\n",
              "      <td>73.784</td>\n",
              "      <td>2.319767</td>\n",
              "    </tr>\n",
              "    <tr>\n",
              "      <th>TRWBPDM128F4262371</th>\n",
              "      <td>Closet Monster</td>\n",
              "      <td>Voodoo Glow Skulls</td>\n",
              "      <td>ska</td>\n",
              "      <td>0.376</td>\n",
              "      <td>0.989</td>\n",
              "      <td>-4.862</td>\n",
              "      <td>1</td>\n",
              "      <td>0.0903</td>\n",
              "      <td>0.001980</td>\n",
              "      <td>0.011900</td>\n",
              "      <td>0.1250</td>\n",
              "      <td>0.453</td>\n",
              "      <td>144.140</td>\n",
              "      <td>2.598883</td>\n",
              "    </tr>\n",
              "    <tr>\n",
              "      <th>TRCLZRQ128F422A819</th>\n",
              "      <td>Rational Eyes</td>\n",
              "      <td>Threat Signal</td>\n",
              "      <td>industrial, thrash_metal, metalcore, melodic_d...</td>\n",
              "      <td>0.410</td>\n",
              "      <td>0.920</td>\n",
              "      <td>-4.951</td>\n",
              "      <td>1</td>\n",
              "      <td>0.0589</td>\n",
              "      <td>0.000002</td>\n",
              "      <td>0.010200</td>\n",
              "      <td>0.1870</td>\n",
              "      <td>0.377</td>\n",
              "      <td>172.954</td>\n",
              "      <td>3.611417</td>\n",
              "    </tr>\n",
              "    <tr>\n",
              "      <th>TRWBXCW128F4266098</th>\n",
              "      <td>Over-rated</td>\n",
              "      <td>Gavin DeGraw</td>\n",
              "      <td>rock, acoustic, male_vocalists, love, pop_rock</td>\n",
              "      <td>0.387</td>\n",
              "      <td>0.770</td>\n",
              "      <td>-4.937</td>\n",
              "      <td>1</td>\n",
              "      <td>0.0476</td>\n",
              "      <td>0.006330</td>\n",
              "      <td>0.000000</td>\n",
              "      <td>0.1590</td>\n",
              "      <td>0.341</td>\n",
              "      <td>160.854</td>\n",
              "      <td>4.195333</td>\n",
              "    </tr>\n",
              "    <tr>\n",
              "      <th>TRHTLBU128F429327B</th>\n",
              "      <td>Made of Glass</td>\n",
              "      <td>Trapt</td>\n",
              "      <td>rock, alternative_rock, hard_rock, emo</td>\n",
              "      <td>0.613</td>\n",
              "      <td>0.914</td>\n",
              "      <td>-4.877</td>\n",
              "      <td>1</td>\n",
              "      <td>0.0419</td>\n",
              "      <td>0.000246</td>\n",
              "      <td>0.000000</td>\n",
              "      <td>0.1460</td>\n",
              "      <td>0.324</td>\n",
              "      <td>96.944</td>\n",
              "      <td>3.493333</td>\n",
              "    </tr>\n",
              "    <tr>\n",
              "      <th>TRTSQHD12903CE87CA</th>\n",
              "      <td>Eiszeit</td>\n",
              "      <td>Eisbrecher</td>\n",
              "      <td>industrial, german</td>\n",
              "      <td>0.472</td>\n",
              "      <td>0.856</td>\n",
              "      <td>-4.762</td>\n",
              "      <td>0</td>\n",
              "      <td>0.0622</td>\n",
              "      <td>0.001890</td>\n",
              "      <td>0.008110</td>\n",
              "      <td>0.0721</td>\n",
              "      <td>0.383</td>\n",
              "      <td>173.185</td>\n",
              "      <td>3.652850</td>\n",
              "    </tr>\n",
              "    <tr>\n",
              "      <th>TRGTXCP12903CF05DF</th>\n",
              "      <td>Beyond Within</td>\n",
              "      <td>Nevermore</td>\n",
              "      <td>thrash_metal, progressive_metal, power_metal</td>\n",
              "      <td>0.363</td>\n",
              "      <td>0.926</td>\n",
              "      <td>-4.919</td>\n",
              "      <td>0</td>\n",
              "      <td>0.0377</td>\n",
              "      <td>0.000038</td>\n",
              "      <td>0.018400</td>\n",
              "      <td>0.2490</td>\n",
              "      <td>0.390</td>\n",
              "      <td>151.839</td>\n",
              "      <td>5.198883</td>\n",
              "    </tr>\n",
              "    <tr>\n",
              "      <th>TRUNCHE128F425BF5D</th>\n",
              "      <td>Explodiert</td>\n",
              "      <td>Bosse</td>\n",
              "      <td>rock, german</td>\n",
              "      <td>0.493</td>\n",
              "      <td>0.939</td>\n",
              "      <td>-4.930</td>\n",
              "      <td>1</td>\n",
              "      <td>0.0837</td>\n",
              "      <td>0.003300</td>\n",
              "      <td>0.000015</td>\n",
              "      <td>0.1770</td>\n",
              "      <td>0.515</td>\n",
              "      <td>146.966</td>\n",
              "      <td>4.850000</td>\n",
              "    </tr>\n",
              "    <tr>\n",
              "      <th>TRTWKHF128F4252945</th>\n",
              "      <td>Beast Of Honor</td>\n",
              "      <td>Auf Der Maur</td>\n",
              "      <td>rock, alternative, female_vocalists, alternati...</td>\n",
              "      <td>0.482</td>\n",
              "      <td>0.831</td>\n",
              "      <td>-4.879</td>\n",
              "      <td>0</td>\n",
              "      <td>0.0774</td>\n",
              "      <td>0.002380</td>\n",
              "      <td>0.001120</td>\n",
              "      <td>0.0971</td>\n",
              "      <td>0.352</td>\n",
              "      <td>124.207</td>\n",
              "      <td>3.453333</td>\n",
              "    </tr>\n",
              "    <tr>\n",
              "      <th>TRVWDBV12903CEACE0</th>\n",
              "      <td>City Noise</td>\n",
              "      <td>Scarling.</td>\n",
              "      <td>rock, alternative, female_vocalists, alternati...</td>\n",
              "      <td>0.437</td>\n",
              "      <td>0.906</td>\n",
              "      <td>-4.928</td>\n",
              "      <td>0</td>\n",
              "      <td>0.0863</td>\n",
              "      <td>0.000185</td>\n",
              "      <td>0.001400</td>\n",
              "      <td>0.0169</td>\n",
              "      <td>0.374</td>\n",
              "      <td>131.050</td>\n",
              "      <td>3.241100</td>\n",
              "    </tr>\n",
              "  </tbody>\n",
              "</table>\n",
              "</div>"
            ],
            "text/plain": [
              "                                           name              artist  \\\n",
              "id                                                                    \n",
              "TRHFZEU128F9329BF9  Loose Nuts On The Veladrome               Liars   \n",
              "TRWBPDM128F4262371               Closet Monster  Voodoo Glow Skulls   \n",
              "TRCLZRQ128F422A819                Rational Eyes       Threat Signal   \n",
              "TRWBXCW128F4266098                   Over-rated        Gavin DeGraw   \n",
              "TRHTLBU128F429327B                Made of Glass               Trapt   \n",
              "TRTSQHD12903CE87CA                      Eiszeit          Eisbrecher   \n",
              "TRGTXCP12903CF05DF                Beyond Within           Nevermore   \n",
              "TRUNCHE128F425BF5D                   Explodiert               Bosse   \n",
              "TRTWKHF128F4252945               Beast Of Honor        Auf Der Maur   \n",
              "TRVWDBV12903CEACE0                   City Noise           Scarling.   \n",
              "\n",
              "                                                                 tags  \\\n",
              "id                                                                      \n",
              "TRHFZEU128F9329BF9                                experimental, noise   \n",
              "TRWBPDM128F4262371                                                ska   \n",
              "TRCLZRQ128F422A819  industrial, thrash_metal, metalcore, melodic_d...   \n",
              "TRWBXCW128F4266098     rock, acoustic, male_vocalists, love, pop_rock   \n",
              "TRHTLBU128F429327B             rock, alternative_rock, hard_rock, emo   \n",
              "TRTSQHD12903CE87CA                                 industrial, german   \n",
              "TRGTXCP12903CF05DF       thrash_metal, progressive_metal, power_metal   \n",
              "TRUNCHE128F425BF5D                                       rock, german   \n",
              "TRTWKHF128F4252945  rock, alternative, female_vocalists, alternati...   \n",
              "TRVWDBV12903CEACE0  rock, alternative, female_vocalists, alternati...   \n",
              "\n",
              "                    danceability  energy  loudness  mode  speechiness  \\\n",
              "id                                                                      \n",
              "TRHFZEU128F9329BF9         0.362   0.868    -4.909     1       0.0842   \n",
              "TRWBPDM128F4262371         0.376   0.989    -4.862     1       0.0903   \n",
              "TRCLZRQ128F422A819         0.410   0.920    -4.951     1       0.0589   \n",
              "TRWBXCW128F4266098         0.387   0.770    -4.937     1       0.0476   \n",
              "TRHTLBU128F429327B         0.613   0.914    -4.877     1       0.0419   \n",
              "TRTSQHD12903CE87CA         0.472   0.856    -4.762     0       0.0622   \n",
              "TRGTXCP12903CF05DF         0.363   0.926    -4.919     0       0.0377   \n",
              "TRUNCHE128F425BF5D         0.493   0.939    -4.930     1       0.0837   \n",
              "TRTWKHF128F4252945         0.482   0.831    -4.879     0       0.0774   \n",
              "TRVWDBV12903CEACE0         0.437   0.906    -4.928     0       0.0863   \n",
              "\n",
              "                    acousticness  instrumentalness  liveness  valence  \\\n",
              "id                                                                      \n",
              "TRHFZEU128F9329BF9      0.000305          0.000009    0.1180    0.528   \n",
              "TRWBPDM128F4262371      0.001980          0.011900    0.1250    0.453   \n",
              "TRCLZRQ128F422A819      0.000002          0.010200    0.1870    0.377   \n",
              "TRWBXCW128F4266098      0.006330          0.000000    0.1590    0.341   \n",
              "TRHTLBU128F429327B      0.000246          0.000000    0.1460    0.324   \n",
              "TRTSQHD12903CE87CA      0.001890          0.008110    0.0721    0.383   \n",
              "TRGTXCP12903CF05DF      0.000038          0.018400    0.2490    0.390   \n",
              "TRUNCHE128F425BF5D      0.003300          0.000015    0.1770    0.515   \n",
              "TRTWKHF128F4252945      0.002380          0.001120    0.0971    0.352   \n",
              "TRVWDBV12903CEACE0      0.000185          0.001400    0.0169    0.374   \n",
              "\n",
              "                      tempo  duration_mins  \n",
              "id                                          \n",
              "TRHFZEU128F9329BF9   73.784       2.319767  \n",
              "TRWBPDM128F4262371  144.140       2.598883  \n",
              "TRCLZRQ128F422A819  172.954       3.611417  \n",
              "TRWBXCW128F4266098  160.854       4.195333  \n",
              "TRHTLBU128F429327B   96.944       3.493333  \n",
              "TRTSQHD12903CE87CA  173.185       3.652850  \n",
              "TRGTXCP12903CF05DF  151.839       5.198883  \n",
              "TRUNCHE128F425BF5D  146.966       4.850000  \n",
              "TRTWKHF128F4252945  124.207       3.453333  \n",
              "TRVWDBV12903CEACE0  131.050       3.241100  "
            ]
          },
          "execution_count": 58,
          "metadata": {},
          "output_type": "execute_result"
        }
      ],
      "source": [
        "song_features_data[song_features_data['track_id'].isin(selected_songs_pd['id'])].set_index('track_id').reindex(selected_songs_pd['id'])"
      ]
    },
    {
      "cell_type": "code",
      "execution_count": 59,
      "metadata": {},
      "outputs": [
        {
          "data": {
            "text/html": [
              "<div>\n",
              "<style scoped>\n",
              "    .dataframe tbody tr th:only-of-type {\n",
              "        vertical-align: middle;\n",
              "    }\n",
              "\n",
              "    .dataframe tbody tr th {\n",
              "        vertical-align: top;\n",
              "    }\n",
              "\n",
              "    .dataframe thead th {\n",
              "        text-align: right;\n",
              "    }\n",
              "</style>\n",
              "<table border=\"1\" class=\"dataframe\">\n",
              "  <thead>\n",
              "    <tr style=\"text-align: right;\">\n",
              "      <th></th>\n",
              "      <th>name</th>\n",
              "      <th>artist</th>\n",
              "      <th>tags</th>\n",
              "      <th>danceability</th>\n",
              "      <th>energy</th>\n",
              "      <th>loudness</th>\n",
              "      <th>mode</th>\n",
              "      <th>speechiness</th>\n",
              "      <th>acousticness</th>\n",
              "      <th>instrumentalness</th>\n",
              "      <th>liveness</th>\n",
              "      <th>valence</th>\n",
              "      <th>tempo</th>\n",
              "      <th>duration_mins</th>\n",
              "    </tr>\n",
              "    <tr>\n",
              "      <th>track_id</th>\n",
              "      <th></th>\n",
              "      <th></th>\n",
              "      <th></th>\n",
              "      <th></th>\n",
              "      <th></th>\n",
              "      <th></th>\n",
              "      <th></th>\n",
              "      <th></th>\n",
              "      <th></th>\n",
              "      <th></th>\n",
              "      <th></th>\n",
              "      <th></th>\n",
              "      <th></th>\n",
              "      <th></th>\n",
              "    </tr>\n",
              "  </thead>\n",
              "  <tbody>\n",
              "    <tr>\n",
              "      <th>TRXOXHI128F426A36D</th>\n",
              "      <td>Down Rodeo</td>\n",
              "      <td>Rage Against the Machine</td>\n",
              "      <td>rock, alternative, metal, alternative_rock, ha...</td>\n",
              "      <td>0.560</td>\n",
              "      <td>0.871</td>\n",
              "      <td>-9.058</td>\n",
              "      <td>1</td>\n",
              "      <td>0.1120</td>\n",
              "      <td>0.004890</td>\n",
              "      <td>0.000738</td>\n",
              "      <td>0.0772</td>\n",
              "      <td>0.5530</td>\n",
              "      <td>84.673</td>\n",
              "      <td>5.343767</td>\n",
              "    </tr>\n",
              "    <tr>\n",
              "      <th>TRSDDHV128F426A370</th>\n",
              "      <td>Roll Right</td>\n",
              "      <td>Rage Against the Machine</td>\n",
              "      <td>rock, alternative, metal, alternative_rock, ha...</td>\n",
              "      <td>0.527</td>\n",
              "      <td>0.789</td>\n",
              "      <td>-8.049</td>\n",
              "      <td>1</td>\n",
              "      <td>0.0694</td>\n",
              "      <td>0.014000</td>\n",
              "      <td>0.013300</td>\n",
              "      <td>0.3810</td>\n",
              "      <td>0.4520</td>\n",
              "      <td>86.137</td>\n",
              "      <td>4.337767</td>\n",
              "    </tr>\n",
              "    <tr>\n",
              "      <th>TRRCJEI128F92C23B1</th>\n",
              "      <td>Good Morning Revival</td>\n",
              "      <td>Good Charlotte</td>\n",
              "      <td>rock, punk, chillout, punk_rock, downtempo, em...</td>\n",
              "      <td>0.103</td>\n",
              "      <td>0.140</td>\n",
              "      <td>-17.992</td>\n",
              "      <td>1</td>\n",
              "      <td>0.0342</td>\n",
              "      <td>0.870000</td>\n",
              "      <td>0.689000</td>\n",
              "      <td>0.1780</td>\n",
              "      <td>0.0955</td>\n",
              "      <td>87.321</td>\n",
              "      <td>0.941767</td>\n",
              "    </tr>\n",
              "    <tr>\n",
              "      <th>TRKGGMK128F42286FE</th>\n",
              "      <td>Screenager</td>\n",
              "      <td>Muse</td>\n",
              "      <td>rock, alternative, indie, alternative_rock, in...</td>\n",
              "      <td>0.375</td>\n",
              "      <td>0.403</td>\n",
              "      <td>-12.776</td>\n",
              "      <td>0</td>\n",
              "      <td>0.0286</td>\n",
              "      <td>0.745000</td>\n",
              "      <td>0.546000</td>\n",
              "      <td>0.1810</td>\n",
              "      <td>0.2070</td>\n",
              "      <td>80.661</td>\n",
              "      <td>4.333333</td>\n",
              "    </tr>\n",
              "    <tr>\n",
              "      <th>TRADCIF128F9338278</th>\n",
              "      <td>City of Delusion</td>\n",
              "      <td>Muse</td>\n",
              "      <td>rock, alternative, indie, alternative_rock, in...</td>\n",
              "      <td>0.285</td>\n",
              "      <td>0.915</td>\n",
              "      <td>-5.158</td>\n",
              "      <td>0</td>\n",
              "      <td>0.0741</td>\n",
              "      <td>0.002680</td>\n",
              "      <td>0.027900</td>\n",
              "      <td>0.1370</td>\n",
              "      <td>0.3090</td>\n",
              "      <td>119.817</td>\n",
              "      <td>4.804433</td>\n",
              "    </tr>\n",
              "    <tr>\n",
              "      <th>TRTBASA128F92D262F</th>\n",
              "      <td>Whereabouts Unknown</td>\n",
              "      <td>Rise Against</td>\n",
              "      <td>rock, punk, hardcore, punk_rock</td>\n",
              "      <td>0.193</td>\n",
              "      <td>0.968</td>\n",
              "      <td>-3.243</td>\n",
              "      <td>0</td>\n",
              "      <td>0.0643</td>\n",
              "      <td>0.001110</td>\n",
              "      <td>0.076200</td>\n",
              "      <td>0.1110</td>\n",
              "      <td>0.3190</td>\n",
              "      <td>174.331</td>\n",
              "      <td>4.029767</td>\n",
              "    </tr>\n",
              "    <tr>\n",
              "      <th>TRJDDAZ128F92D262E</th>\n",
              "      <td>Hairline Fracture</td>\n",
              "      <td>Rise Against</td>\n",
              "      <td>rock, punk, hardcore, punk_rock, american</td>\n",
              "      <td>0.229</td>\n",
              "      <td>0.931</td>\n",
              "      <td>-3.488</td>\n",
              "      <td>1</td>\n",
              "      <td>0.0817</td>\n",
              "      <td>0.000332</td>\n",
              "      <td>0.000004</td>\n",
              "      <td>0.4600</td>\n",
              "      <td>0.4880</td>\n",
              "      <td>165.403</td>\n",
              "      <td>4.042667</td>\n",
              "    </tr>\n",
              "    <tr>\n",
              "      <th>TRKKBJS128F92EF7D2</th>\n",
              "      <td>Tears Don't Fall</td>\n",
              "      <td>Bullet for My Valentine</td>\n",
              "      <td>rock, metal, hardcore, metalcore, emo, screamo</td>\n",
              "      <td>0.363</td>\n",
              "      <td>0.920</td>\n",
              "      <td>-3.522</td>\n",
              "      <td>0</td>\n",
              "      <td>0.1170</td>\n",
              "      <td>0.001240</td>\n",
              "      <td>0.000000</td>\n",
              "      <td>0.0813</td>\n",
              "      <td>0.3310</td>\n",
              "      <td>162.167</td>\n",
              "      <td>4.651100</td>\n",
              "    </tr>\n",
              "    <tr>\n",
              "      <th>TRQTXHB128F92E3855</th>\n",
              "      <td>Hyper Music</td>\n",
              "      <td>Muse</td>\n",
              "      <td>rock, alternative, indie, alternative_rock, in...</td>\n",
              "      <td>0.267</td>\n",
              "      <td>0.887</td>\n",
              "      <td>-5.993</td>\n",
              "      <td>1</td>\n",
              "      <td>0.0815</td>\n",
              "      <td>0.000011</td>\n",
              "      <td>0.000079</td>\n",
              "      <td>0.1450</td>\n",
              "      <td>0.4400</td>\n",
              "      <td>121.629</td>\n",
              "      <td>3.345983</td>\n",
              "    </tr>\n",
              "    <tr>\n",
              "      <th>TRGVSMR128F42B58E7</th>\n",
              "      <td>New Born</td>\n",
              "      <td>Muse</td>\n",
              "      <td>rock, alternative, indie, alternative_rock, pr...</td>\n",
              "      <td>0.316</td>\n",
              "      <td>0.918</td>\n",
              "      <td>-7.333</td>\n",
              "      <td>1</td>\n",
              "      <td>0.0932</td>\n",
              "      <td>0.003540</td>\n",
              "      <td>0.140000</td>\n",
              "      <td>0.1120</td>\n",
              "      <td>0.1480</td>\n",
              "      <td>152.007</td>\n",
              "      <td>6.091333</td>\n",
              "    </tr>\n",
              "    <tr>\n",
              "      <th>TRXFKAF128E078884E</th>\n",
              "      <td>The First Drop</td>\n",
              "      <td>Rise Against</td>\n",
              "      <td>rock, punk, hardcore, punk_rock</td>\n",
              "      <td>0.563</td>\n",
              "      <td>0.966</td>\n",
              "      <td>-3.180</td>\n",
              "      <td>1</td>\n",
              "      <td>0.0600</td>\n",
              "      <td>0.001050</td>\n",
              "      <td>0.000053</td>\n",
              "      <td>0.2630</td>\n",
              "      <td>0.6350</td>\n",
              "      <td>146.057</td>\n",
              "      <td>2.650000</td>\n",
              "    </tr>\n",
              "    <tr>\n",
              "      <th>TRHCIJJ128F9305C8A</th>\n",
              "      <td>Waidmanns Heil</td>\n",
              "      <td>Rammstein</td>\n",
              "      <td>metal, heavy_metal, industrial, german</td>\n",
              "      <td>0.578</td>\n",
              "      <td>0.969</td>\n",
              "      <td>-3.894</td>\n",
              "      <td>1</td>\n",
              "      <td>0.0317</td>\n",
              "      <td>0.001130</td>\n",
              "      <td>0.023400</td>\n",
              "      <td>0.0579</td>\n",
              "      <td>0.6840</td>\n",
              "      <td>104.999</td>\n",
              "      <td>3.546667</td>\n",
              "    </tr>\n",
              "    <tr>\n",
              "      <th>TRPZIII128F92D5420</th>\n",
              "      <td>Tier</td>\n",
              "      <td>Rammstein</td>\n",
              "      <td>metal, industrial, german</td>\n",
              "      <td>0.601</td>\n",
              "      <td>0.949</td>\n",
              "      <td>-4.843</td>\n",
              "      <td>1</td>\n",
              "      <td>0.0536</td>\n",
              "      <td>0.004290</td>\n",
              "      <td>0.047000</td>\n",
              "      <td>0.1740</td>\n",
              "      <td>0.4930</td>\n",
              "      <td>95.083</td>\n",
              "      <td>3.767767</td>\n",
              "    </tr>\n",
              "    <tr>\n",
              "      <th>TRULNMQ128F92E1FDA</th>\n",
              "      <td>Plug In Baby</td>\n",
              "      <td>Muse</td>\n",
              "      <td>rock, alternative, indie, alternative_rock, in...</td>\n",
              "      <td>0.406</td>\n",
              "      <td>0.953</td>\n",
              "      <td>-5.740</td>\n",
              "      <td>1</td>\n",
              "      <td>0.0473</td>\n",
              "      <td>0.000006</td>\n",
              "      <td>0.000407</td>\n",
              "      <td>0.0911</td>\n",
              "      <td>0.3070</td>\n",
              "      <td>136.007</td>\n",
              "      <td>3.674667</td>\n",
              "    </tr>\n",
              "    <tr>\n",
              "      <th>TRQQORS128F930B14D</th>\n",
              "      <td>Emotionless</td>\n",
              "      <td>Good Charlotte</td>\n",
              "      <td>rock, punk, punk_rock, acoustic, emo</td>\n",
              "      <td>0.515</td>\n",
              "      <td>0.566</td>\n",
              "      <td>-6.176</td>\n",
              "      <td>1</td>\n",
              "      <td>0.0303</td>\n",
              "      <td>0.109000</td>\n",
              "      <td>0.000000</td>\n",
              "      <td>0.1600</td>\n",
              "      <td>0.1650</td>\n",
              "      <td>154.320</td>\n",
              "      <td>4.048883</td>\n",
              "    </tr>\n",
              "    <tr>\n",
              "      <th>TRDJZFF128F92D2627</th>\n",
              "      <td>Kotov Syndrome</td>\n",
              "      <td>Rise Against</td>\n",
              "      <td>punk, hardcore, punk_rock</td>\n",
              "      <td>0.207</td>\n",
              "      <td>0.988</td>\n",
              "      <td>-2.281</td>\n",
              "      <td>0</td>\n",
              "      <td>0.1110</td>\n",
              "      <td>0.000330</td>\n",
              "      <td>0.000000</td>\n",
              "      <td>0.1230</td>\n",
              "      <td>0.4410</td>\n",
              "      <td>156.186</td>\n",
              "      <td>3.079333</td>\n",
              "    </tr>\n",
              "    <tr>\n",
              "      <th>TRAWRKT128E0788857</th>\n",
              "      <td>Swing Life Away</td>\n",
              "      <td>Rise Against</td>\n",
              "      <td>rock, alternative, punk, punk_rock, acoustic, ...</td>\n",
              "      <td>0.644</td>\n",
              "      <td>0.437</td>\n",
              "      <td>-6.895</td>\n",
              "      <td>1</td>\n",
              "      <td>0.0372</td>\n",
              "      <td>0.543000</td>\n",
              "      <td>0.000000</td>\n",
              "      <td>0.1070</td>\n",
              "      <td>0.7590</td>\n",
              "      <td>92.607</td>\n",
              "      <td>3.334433</td>\n",
              "    </tr>\n",
              "    <tr>\n",
              "      <th>TRGUXOJ128E0788852</th>\n",
              "      <td>To Them These Streets Belong</td>\n",
              "      <td>Rise Against</td>\n",
              "      <td>punk, hard_rock, hardcore, punk_rock</td>\n",
              "      <td>0.533</td>\n",
              "      <td>0.969</td>\n",
              "      <td>-2.454</td>\n",
              "      <td>0</td>\n",
              "      <td>0.1010</td>\n",
              "      <td>0.011300</td>\n",
              "      <td>0.019600</td>\n",
              "      <td>0.1090</td>\n",
              "      <td>0.5170</td>\n",
              "      <td>151.965</td>\n",
              "      <td>2.823767</td>\n",
              "    </tr>\n",
              "    <tr>\n",
              "      <th>TRIHPDV128F932B5DC</th>\n",
              "      <td>Long Forgotten Sons</td>\n",
              "      <td>Rise Against</td>\n",
              "      <td>punk, hardcore, punk_rock</td>\n",
              "      <td>0.470</td>\n",
              "      <td>0.979</td>\n",
              "      <td>-3.312</td>\n",
              "      <td>0</td>\n",
              "      <td>0.0684</td>\n",
              "      <td>0.000127</td>\n",
              "      <td>0.001070</td>\n",
              "      <td>0.1030</td>\n",
              "      <td>0.4240</td>\n",
              "      <td>134.930</td>\n",
              "      <td>4.026000</td>\n",
              "    </tr>\n",
              "  </tbody>\n",
              "</table>\n",
              "</div>"
            ],
            "text/plain": [
              "                                            name                    artist  \\\n",
              "track_id                                                                     \n",
              "TRXOXHI128F426A36D                    Down Rodeo  Rage Against the Machine   \n",
              "TRSDDHV128F426A370                    Roll Right  Rage Against the Machine   \n",
              "TRRCJEI128F92C23B1          Good Morning Revival            Good Charlotte   \n",
              "TRKGGMK128F42286FE                    Screenager                      Muse   \n",
              "TRADCIF128F9338278              City of Delusion                      Muse   \n",
              "TRTBASA128F92D262F           Whereabouts Unknown              Rise Against   \n",
              "TRJDDAZ128F92D262E             Hairline Fracture              Rise Against   \n",
              "TRKKBJS128F92EF7D2              Tears Don't Fall   Bullet for My Valentine   \n",
              "TRQTXHB128F92E3855                   Hyper Music                      Muse   \n",
              "TRGVSMR128F42B58E7                      New Born                      Muse   \n",
              "TRXFKAF128E078884E                The First Drop              Rise Against   \n",
              "TRHCIJJ128F9305C8A                Waidmanns Heil                 Rammstein   \n",
              "TRPZIII128F92D5420                          Tier                 Rammstein   \n",
              "TRULNMQ128F92E1FDA                  Plug In Baby                      Muse   \n",
              "TRQQORS128F930B14D                   Emotionless            Good Charlotte   \n",
              "TRDJZFF128F92D2627                Kotov Syndrome              Rise Against   \n",
              "TRAWRKT128E0788857               Swing Life Away              Rise Against   \n",
              "TRGUXOJ128E0788852  To Them These Streets Belong              Rise Against   \n",
              "TRIHPDV128F932B5DC           Long Forgotten Sons              Rise Against   \n",
              "\n",
              "                                                                 tags  \\\n",
              "track_id                                                                \n",
              "TRXOXHI128F426A36D  rock, alternative, metal, alternative_rock, ha...   \n",
              "TRSDDHV128F426A370  rock, alternative, metal, alternative_rock, ha...   \n",
              "TRRCJEI128F92C23B1  rock, punk, chillout, punk_rock, downtempo, em...   \n",
              "TRKGGMK128F42286FE  rock, alternative, indie, alternative_rock, in...   \n",
              "TRADCIF128F9338278  rock, alternative, indie, alternative_rock, in...   \n",
              "TRTBASA128F92D262F                    rock, punk, hardcore, punk_rock   \n",
              "TRJDDAZ128F92D262E          rock, punk, hardcore, punk_rock, american   \n",
              "TRKKBJS128F92EF7D2     rock, metal, hardcore, metalcore, emo, screamo   \n",
              "TRQTXHB128F92E3855  rock, alternative, indie, alternative_rock, in...   \n",
              "TRGVSMR128F42B58E7  rock, alternative, indie, alternative_rock, pr...   \n",
              "TRXFKAF128E078884E                    rock, punk, hardcore, punk_rock   \n",
              "TRHCIJJ128F9305C8A             metal, heavy_metal, industrial, german   \n",
              "TRPZIII128F92D5420                          metal, industrial, german   \n",
              "TRULNMQ128F92E1FDA  rock, alternative, indie, alternative_rock, in...   \n",
              "TRQQORS128F930B14D               rock, punk, punk_rock, acoustic, emo   \n",
              "TRDJZFF128F92D2627                          punk, hardcore, punk_rock   \n",
              "TRAWRKT128E0788857  rock, alternative, punk, punk_rock, acoustic, ...   \n",
              "TRGUXOJ128E0788852               punk, hard_rock, hardcore, punk_rock   \n",
              "TRIHPDV128F932B5DC                          punk, hardcore, punk_rock   \n",
              "\n",
              "                    danceability  energy  loudness  mode  speechiness  \\\n",
              "track_id                                                                \n",
              "TRXOXHI128F426A36D         0.560   0.871    -9.058     1       0.1120   \n",
              "TRSDDHV128F426A370         0.527   0.789    -8.049     1       0.0694   \n",
              "TRRCJEI128F92C23B1         0.103   0.140   -17.992     1       0.0342   \n",
              "TRKGGMK128F42286FE         0.375   0.403   -12.776     0       0.0286   \n",
              "TRADCIF128F9338278         0.285   0.915    -5.158     0       0.0741   \n",
              "TRTBASA128F92D262F         0.193   0.968    -3.243     0       0.0643   \n",
              "TRJDDAZ128F92D262E         0.229   0.931    -3.488     1       0.0817   \n",
              "TRKKBJS128F92EF7D2         0.363   0.920    -3.522     0       0.1170   \n",
              "TRQTXHB128F92E3855         0.267   0.887    -5.993     1       0.0815   \n",
              "TRGVSMR128F42B58E7         0.316   0.918    -7.333     1       0.0932   \n",
              "TRXFKAF128E078884E         0.563   0.966    -3.180     1       0.0600   \n",
              "TRHCIJJ128F9305C8A         0.578   0.969    -3.894     1       0.0317   \n",
              "TRPZIII128F92D5420         0.601   0.949    -4.843     1       0.0536   \n",
              "TRULNMQ128F92E1FDA         0.406   0.953    -5.740     1       0.0473   \n",
              "TRQQORS128F930B14D         0.515   0.566    -6.176     1       0.0303   \n",
              "TRDJZFF128F92D2627         0.207   0.988    -2.281     0       0.1110   \n",
              "TRAWRKT128E0788857         0.644   0.437    -6.895     1       0.0372   \n",
              "TRGUXOJ128E0788852         0.533   0.969    -2.454     0       0.1010   \n",
              "TRIHPDV128F932B5DC         0.470   0.979    -3.312     0       0.0684   \n",
              "\n",
              "                    acousticness  instrumentalness  liveness  valence  \\\n",
              "track_id                                                                \n",
              "TRXOXHI128F426A36D      0.004890          0.000738    0.0772   0.5530   \n",
              "TRSDDHV128F426A370      0.014000          0.013300    0.3810   0.4520   \n",
              "TRRCJEI128F92C23B1      0.870000          0.689000    0.1780   0.0955   \n",
              "TRKGGMK128F42286FE      0.745000          0.546000    0.1810   0.2070   \n",
              "TRADCIF128F9338278      0.002680          0.027900    0.1370   0.3090   \n",
              "TRTBASA128F92D262F      0.001110          0.076200    0.1110   0.3190   \n",
              "TRJDDAZ128F92D262E      0.000332          0.000004    0.4600   0.4880   \n",
              "TRKKBJS128F92EF7D2      0.001240          0.000000    0.0813   0.3310   \n",
              "TRQTXHB128F92E3855      0.000011          0.000079    0.1450   0.4400   \n",
              "TRGVSMR128F42B58E7      0.003540          0.140000    0.1120   0.1480   \n",
              "TRXFKAF128E078884E      0.001050          0.000053    0.2630   0.6350   \n",
              "TRHCIJJ128F9305C8A      0.001130          0.023400    0.0579   0.6840   \n",
              "TRPZIII128F92D5420      0.004290          0.047000    0.1740   0.4930   \n",
              "TRULNMQ128F92E1FDA      0.000006          0.000407    0.0911   0.3070   \n",
              "TRQQORS128F930B14D      0.109000          0.000000    0.1600   0.1650   \n",
              "TRDJZFF128F92D2627      0.000330          0.000000    0.1230   0.4410   \n",
              "TRAWRKT128E0788857      0.543000          0.000000    0.1070   0.7590   \n",
              "TRGUXOJ128E0788852      0.011300          0.019600    0.1090   0.5170   \n",
              "TRIHPDV128F932B5DC      0.000127          0.001070    0.1030   0.4240   \n",
              "\n",
              "                      tempo  duration_mins  \n",
              "track_id                                    \n",
              "TRXOXHI128F426A36D   84.673       5.343767  \n",
              "TRSDDHV128F426A370   86.137       4.337767  \n",
              "TRRCJEI128F92C23B1   87.321       0.941767  \n",
              "TRKGGMK128F42286FE   80.661       4.333333  \n",
              "TRADCIF128F9338278  119.817       4.804433  \n",
              "TRTBASA128F92D262F  174.331       4.029767  \n",
              "TRJDDAZ128F92D262E  165.403       4.042667  \n",
              "TRKKBJS128F92EF7D2  162.167       4.651100  \n",
              "TRQTXHB128F92E3855  121.629       3.345983  \n",
              "TRGVSMR128F42B58E7  152.007       6.091333  \n",
              "TRXFKAF128E078884E  146.057       2.650000  \n",
              "TRHCIJJ128F9305C8A  104.999       3.546667  \n",
              "TRPZIII128F92D5420   95.083       3.767767  \n",
              "TRULNMQ128F92E1FDA  136.007       3.674667  \n",
              "TRQQORS128F930B14D  154.320       4.048883  \n",
              "TRDJZFF128F92D2627  156.186       3.079333  \n",
              "TRAWRKT128E0788857   92.607       3.334433  \n",
              "TRGUXOJ128E0788852  151.965       2.823767  \n",
              "TRIHPDV128F932B5DC  134.930       4.026000  "
            ]
          },
          "execution_count": 59,
          "metadata": {},
          "output_type": "execute_result"
        }
      ],
      "source": [
        "song_features_data[song_features_data['track_id'].isin(ops_x_test[random_index])].set_index('track_id').reindex(ops_x_test[random_index])"
      ]
    },
    {
      "cell_type": "code",
      "execution_count": 60,
      "metadata": {},
      "outputs": [
        {
          "data": {
            "application/vnd.plotly.v1+json": {
              "config": {
                "plotlyServerURL": "https://plot.ly"
              },
              "data": [
                {
                  "marker": {
                    "color": [
                      "green",
                      "green",
                      "green",
                      "green",
                      "green",
                      "purple",
                      "green",
                      "green",
                      "green",
                      "green",
                      "blue",
                      "blue",
                      "blue",
                      "blue",
                      "blue",
                      "blue",
                      "blue",
                      "blue",
                      "blue",
                      "red",
                      "red",
                      "red",
                      "red",
                      "red",
                      "red",
                      "red",
                      "red",
                      "red",
                      "red",
                      "red",
                      "red",
                      "red",
                      "red",
                      "red",
                      "red",
                      "red",
                      "red",
                      "red",
                      "red",
                      "red",
                      "red",
                      "red",
                      "red",
                      "red",
                      "red",
                      "red",
                      "red",
                      "red",
                      "red",
                      "red",
                      "red",
                      "red",
                      "red",
                      "red",
                      "red",
                      "red",
                      "red",
                      "red",
                      "red",
                      "red",
                      "red",
                      "red",
                      "red",
                      "red",
                      "red",
                      "red",
                      "red",
                      "red",
                      "red"
                    ],
                    "colorscale": [
                      [
                        0,
                        "#440154"
                      ],
                      [
                        0.1111111111111111,
                        "#482878"
                      ],
                      [
                        0.2222222222222222,
                        "#3e4989"
                      ],
                      [
                        0.3333333333333333,
                        "#31688e"
                      ],
                      [
                        0.4444444444444444,
                        "#26828e"
                      ],
                      [
                        0.5555555555555556,
                        "#1f9e89"
                      ],
                      [
                        0.6666666666666666,
                        "#35b779"
                      ],
                      [
                        0.7777777777777778,
                        "#6ece58"
                      ],
                      [
                        0.8888888888888888,
                        "#b5de2b"
                      ],
                      [
                        1,
                        "#fde725"
                      ]
                    ],
                    "opacity": 1,
                    "size": 5
                  },
                  "mode": "markers",
                  "text": [
                    "TRXOXHI128F426A36D",
                    "TRSDDHV128F426A370",
                    "TRRCJEI128F92C23B1",
                    "TRKGGMK128F42286FE",
                    "TRADCIF128F9338278",
                    "TRTBASA128F92D262F",
                    "TRJDDAZ128F92D262E",
                    "TRKKBJS128F92EF7D2",
                    "TRQTXHB128F92E3855",
                    "TRGVSMR128F42B58E7",
                    "TRXFKAF128E078884E",
                    "TRHCIJJ128F9305C8A",
                    "TRPZIII128F92D5420",
                    "TRULNMQ128F92E1FDA",
                    "TRQQORS128F930B14D",
                    "TRDJZFF128F92D2627",
                    "TRAWRKT128E0788857",
                    "TRGUXOJ128E0788852",
                    "TRIHPDV128F932B5DC",
                    "TRVSLCD128E079268B",
                    "TRGBAFG12903CC5E15",
                    "TRDSMFO128F426A81D",
                    "TRUHOOQ128E079251E",
                    "TRCLZRQ128F422A819",
                    "TRTDSOD128E078115C",
                    "TRMBNUB128F426848E",
                    "TRXOUBQ12903CFEA17",
                    "TRIOPJP128F14A7703",
                    "TRTWKHF128F4252945",
                    "TRGCOIP128F424BD93",
                    "TRVWDBV12903CEACE0",
                    "TRYLUYR128F429EF65",
                    "TRQZMOQ12903CC5E0B",
                    "TRYTLRH128F42AE85E",
                    "TRGRCDR128F931118C",
                    "TRDHPGU128F4281235",
                    "TRLJEMO128F4229373",
                    "TRRGZAO128F92CD2BC",
                    "TRGQQEE128F931EB17",
                    "TRPRKFS128F9335626",
                    "TRLRLKK128F92E32E8",
                    "TRMEBST12903CA5F35",
                    "TRVXZNJ128F429B665",
                    "TRSUPZV128F4272574",
                    "TRGTXCP12903CF05DF",
                    "TREKXKZ128F4263027",
                    "TRGAQBF128F426B35A",
                    "TRWLNKW128F92CA7E7",
                    "TRHFZEU128F9329BF9",
                    "TRLGKGB128F92C4055",
                    "TRAAXZC128F9360095",
                    "TRMRGQX12903CA5DFA",
                    "TRWBXCW128F4266098",
                    "TRAUDHX128F930826E",
                    "TRXOXGD128F427269B",
                    "TRTSQHD12903CE87CA",
                    "TRUNCHE128F425BF5D",
                    "TRHRDVP128F421BAB6",
                    "TRWBPDM128F4262371",
                    "TRZDWRG128F14A65F2",
                    "TRHLUFB128F92E1061",
                    "TRAEESD12903CE28FC",
                    "TRTHSFO12903CFEDAA",
                    "TRJNWTR128F9346B8A",
                    "TRXHLUP128F9320B70",
                    "TRMMMTK128F424EF7C",
                    "TRAQFDV128F92C4560",
                    "TRHTLBU128F429327B",
                    "TRCNBZT128F14910A5"
                  ],
                  "type": "scatter3d",
                  "x": [
                    -10.244539,
                    -14.269493,
                    18.033451,
                    14.4835415,
                    -11.193887,
                    -17.788012,
                    -28.088585,
                    -0.01960174,
                    15.651452,
                    12.889872,
                    -10.427121,
                    5.827481,
                    5.318923,
                    13.053867,
                    -21.597849,
                    -13.238334,
                    -14.670447,
                    -14.080236,
                    -8.96278,
                    -8.669475,
                    0.38096032,
                    -9.678559,
                    -0.060184736,
                    -0.8794263,
                    -5.536709,
                    -25.96808,
                    -11.266547,
                    -21.629007,
                    9.765819,
                    -0.83463544,
                    16.170444,
                    -18.272715,
                    -24.337997,
                    1.0027585,
                    -11.336098,
                    6.5554585,
                    -13.471239,
                    -8.445018,
                    -7.025328,
                    -17.079842,
                    -18.35238,
                    7.6023593,
                    -8.999357,
                    -24.454994,
                    13.177309,
                    0.0052042976,
                    -18.409157,
                    -15.682552,
                    -2.3737848,
                    0.9258404,
                    -5.563225,
                    -22.747534,
                    -3.0738115,
                    -11.351478,
                    0.37629607,
                    5.858298,
                    4.151846,
                    -7.2340016,
                    -4.627058,
                    1.3480133,
                    2.3311143,
                    -21.140696,
                    -10.717645,
                    -13.691788,
                    -17.360096,
                    -17.262701,
                    -18.872437,
                    11.863834,
                    4.372419
                  ],
                  "y": [
                    -29.04674,
                    -26.399166,
                    -0.63629097,
                    20.053503,
                    11.645402,
                    9.847598,
                    -13.241808,
                    10.337397,
                    22.564667,
                    17.997011,
                    -13.647086,
                    -3.5833137,
                    -3.0466976,
                    10.904411,
                    -13.426761,
                    7.552092,
                    -16.307642,
                    -29.07768,
                    -26.590881,
                    -0.10611537,
                    4.7834806,
                    6.7285633,
                    -9.3654995,
                    15.926567,
                    -8.472394,
                    -6.09784,
                    13.719824,
                    -13.89103,
                    -6.2967753,
                    4.0218577,
                    -13.059091,
                    11.068491,
                    -10.856739,
                    7.658166,
                    -15.511757,
                    6.166743,
                    -7.6864614,
                    -13.501875,
                    4.4593425,
                    11.820163,
                    3.1603587,
                    10.536926,
                    -8.949996,
                    -12.581382,
                    13.874348,
                    -5.7218046,
                    3.612996,
                    16.083397,
                    17.784498,
                    16.898365,
                    -24.89672,
                    -10.782745,
                    27.090435,
                    -20.642761,
                    2.4393184,
                    -4.6220865,
                    -14.224259,
                    14.738819,
                    15.318349,
                    12.194462,
                    14.599492,
                    -1.6404456,
                    15.03801,
                    5.221478,
                    -17.97277,
                    -1.1864609,
                    -11.331398,
                    17.210583,
                    8.590108
                  ],
                  "z": [
                    -4.676105,
                    3.6163232,
                    -19.292593,
                    -15.247625,
                    -1.3148437,
                    4.339075,
                    0.58770216,
                    13.577071,
                    -5.5512767,
                    -9.609442,
                    17.717985,
                    -22.574926,
                    -21.922878,
                    10.607839,
                    8.326593,
                    10.947335,
                    6.777723,
                    -3.4023294,
                    7.727041,
                    -13.225419,
                    6.846639,
                    16.842022,
                    12.985584,
                    -11.52114,
                    -4.0889397,
                    5.2509217,
                    -4.237873,
                    -4.2957788,
                    1.6988285,
                    14.839008,
                    13.119625,
                    -1.3706044,
                    4.1714497,
                    6.985394,
                    -2.977864,
                    16.77946,
                    -1.3199804,
                    -0.122272804,
                    17.628689,
                    10.614093,
                    6.486389,
                    10.138023,
                    0.7531927,
                    9.820561,
                    -7.63693,
                    10.146352,
                    -2.6331077,
                    -0.87616783,
                    -6.684349,
                    7.4229493,
                    0.79464597,
                    0.8242313,
                    4.276033,
                    -6.0843096,
                    15.294875,
                    -21.73763,
                    -14.924201,
                    -9.647712,
                    18.611052,
                    16.886723,
                    7.091299,
                    8.662007,
                    5.8586154,
                    16.130379,
                    -0.08332566,
                    13.960387,
                    3.6119828,
                    4.5644846,
                    6.989796
                  ]
                }
              ],
              "layout": {
                "height": 800,
                "scene": {
                  "xaxis": {
                    "title": {
                      "text": "x"
                    }
                  },
                  "yaxis": {
                    "title": {
                      "text": "y"
                    }
                  },
                  "zaxis": {
                    "title": {
                      "text": "z"
                    }
                  }
                },
                "template": {
                  "data": {
                    "bar": [
                      {
                        "error_x": {
                          "color": "#2a3f5f"
                        },
                        "error_y": {
                          "color": "#2a3f5f"
                        },
                        "marker": {
                          "line": {
                            "color": "#E5ECF6",
                            "width": 0.5
                          },
                          "pattern": {
                            "fillmode": "overlay",
                            "size": 10,
                            "solidity": 0.2
                          }
                        },
                        "type": "bar"
                      }
                    ],
                    "barpolar": [
                      {
                        "marker": {
                          "line": {
                            "color": "#E5ECF6",
                            "width": 0.5
                          },
                          "pattern": {
                            "fillmode": "overlay",
                            "size": 10,
                            "solidity": 0.2
                          }
                        },
                        "type": "barpolar"
                      }
                    ],
                    "carpet": [
                      {
                        "aaxis": {
                          "endlinecolor": "#2a3f5f",
                          "gridcolor": "white",
                          "linecolor": "white",
                          "minorgridcolor": "white",
                          "startlinecolor": "#2a3f5f"
                        },
                        "baxis": {
                          "endlinecolor": "#2a3f5f",
                          "gridcolor": "white",
                          "linecolor": "white",
                          "minorgridcolor": "white",
                          "startlinecolor": "#2a3f5f"
                        },
                        "type": "carpet"
                      }
                    ],
                    "choropleth": [
                      {
                        "colorbar": {
                          "outlinewidth": 0,
                          "ticks": ""
                        },
                        "type": "choropleth"
                      }
                    ],
                    "contour": [
                      {
                        "colorbar": {
                          "outlinewidth": 0,
                          "ticks": ""
                        },
                        "colorscale": [
                          [
                            0,
                            "#0d0887"
                          ],
                          [
                            0.1111111111111111,
                            "#46039f"
                          ],
                          [
                            0.2222222222222222,
                            "#7201a8"
                          ],
                          [
                            0.3333333333333333,
                            "#9c179e"
                          ],
                          [
                            0.4444444444444444,
                            "#bd3786"
                          ],
                          [
                            0.5555555555555556,
                            "#d8576b"
                          ],
                          [
                            0.6666666666666666,
                            "#ed7953"
                          ],
                          [
                            0.7777777777777778,
                            "#fb9f3a"
                          ],
                          [
                            0.8888888888888888,
                            "#fdca26"
                          ],
                          [
                            1,
                            "#f0f921"
                          ]
                        ],
                        "type": "contour"
                      }
                    ],
                    "contourcarpet": [
                      {
                        "colorbar": {
                          "outlinewidth": 0,
                          "ticks": ""
                        },
                        "type": "contourcarpet"
                      }
                    ],
                    "heatmap": [
                      {
                        "colorbar": {
                          "outlinewidth": 0,
                          "ticks": ""
                        },
                        "colorscale": [
                          [
                            0,
                            "#0d0887"
                          ],
                          [
                            0.1111111111111111,
                            "#46039f"
                          ],
                          [
                            0.2222222222222222,
                            "#7201a8"
                          ],
                          [
                            0.3333333333333333,
                            "#9c179e"
                          ],
                          [
                            0.4444444444444444,
                            "#bd3786"
                          ],
                          [
                            0.5555555555555556,
                            "#d8576b"
                          ],
                          [
                            0.6666666666666666,
                            "#ed7953"
                          ],
                          [
                            0.7777777777777778,
                            "#fb9f3a"
                          ],
                          [
                            0.8888888888888888,
                            "#fdca26"
                          ],
                          [
                            1,
                            "#f0f921"
                          ]
                        ],
                        "type": "heatmap"
                      }
                    ],
                    "heatmapgl": [
                      {
                        "colorbar": {
                          "outlinewidth": 0,
                          "ticks": ""
                        },
                        "colorscale": [
                          [
                            0,
                            "#0d0887"
                          ],
                          [
                            0.1111111111111111,
                            "#46039f"
                          ],
                          [
                            0.2222222222222222,
                            "#7201a8"
                          ],
                          [
                            0.3333333333333333,
                            "#9c179e"
                          ],
                          [
                            0.4444444444444444,
                            "#bd3786"
                          ],
                          [
                            0.5555555555555556,
                            "#d8576b"
                          ],
                          [
                            0.6666666666666666,
                            "#ed7953"
                          ],
                          [
                            0.7777777777777778,
                            "#fb9f3a"
                          ],
                          [
                            0.8888888888888888,
                            "#fdca26"
                          ],
                          [
                            1,
                            "#f0f921"
                          ]
                        ],
                        "type": "heatmapgl"
                      }
                    ],
                    "histogram": [
                      {
                        "marker": {
                          "pattern": {
                            "fillmode": "overlay",
                            "size": 10,
                            "solidity": 0.2
                          }
                        },
                        "type": "histogram"
                      }
                    ],
                    "histogram2d": [
                      {
                        "colorbar": {
                          "outlinewidth": 0,
                          "ticks": ""
                        },
                        "colorscale": [
                          [
                            0,
                            "#0d0887"
                          ],
                          [
                            0.1111111111111111,
                            "#46039f"
                          ],
                          [
                            0.2222222222222222,
                            "#7201a8"
                          ],
                          [
                            0.3333333333333333,
                            "#9c179e"
                          ],
                          [
                            0.4444444444444444,
                            "#bd3786"
                          ],
                          [
                            0.5555555555555556,
                            "#d8576b"
                          ],
                          [
                            0.6666666666666666,
                            "#ed7953"
                          ],
                          [
                            0.7777777777777778,
                            "#fb9f3a"
                          ],
                          [
                            0.8888888888888888,
                            "#fdca26"
                          ],
                          [
                            1,
                            "#f0f921"
                          ]
                        ],
                        "type": "histogram2d"
                      }
                    ],
                    "histogram2dcontour": [
                      {
                        "colorbar": {
                          "outlinewidth": 0,
                          "ticks": ""
                        },
                        "colorscale": [
                          [
                            0,
                            "#0d0887"
                          ],
                          [
                            0.1111111111111111,
                            "#46039f"
                          ],
                          [
                            0.2222222222222222,
                            "#7201a8"
                          ],
                          [
                            0.3333333333333333,
                            "#9c179e"
                          ],
                          [
                            0.4444444444444444,
                            "#bd3786"
                          ],
                          [
                            0.5555555555555556,
                            "#d8576b"
                          ],
                          [
                            0.6666666666666666,
                            "#ed7953"
                          ],
                          [
                            0.7777777777777778,
                            "#fb9f3a"
                          ],
                          [
                            0.8888888888888888,
                            "#fdca26"
                          ],
                          [
                            1,
                            "#f0f921"
                          ]
                        ],
                        "type": "histogram2dcontour"
                      }
                    ],
                    "mesh3d": [
                      {
                        "colorbar": {
                          "outlinewidth": 0,
                          "ticks": ""
                        },
                        "type": "mesh3d"
                      }
                    ],
                    "parcoords": [
                      {
                        "line": {
                          "colorbar": {
                            "outlinewidth": 0,
                            "ticks": ""
                          }
                        },
                        "type": "parcoords"
                      }
                    ],
                    "pie": [
                      {
                        "automargin": true,
                        "type": "pie"
                      }
                    ],
                    "scatter": [
                      {
                        "fillpattern": {
                          "fillmode": "overlay",
                          "size": 10,
                          "solidity": 0.2
                        },
                        "type": "scatter"
                      }
                    ],
                    "scatter3d": [
                      {
                        "line": {
                          "colorbar": {
                            "outlinewidth": 0,
                            "ticks": ""
                          }
                        },
                        "marker": {
                          "colorbar": {
                            "outlinewidth": 0,
                            "ticks": ""
                          }
                        },
                        "type": "scatter3d"
                      }
                    ],
                    "scattercarpet": [
                      {
                        "marker": {
                          "colorbar": {
                            "outlinewidth": 0,
                            "ticks": ""
                          }
                        },
                        "type": "scattercarpet"
                      }
                    ],
                    "scattergeo": [
                      {
                        "marker": {
                          "colorbar": {
                            "outlinewidth": 0,
                            "ticks": ""
                          }
                        },
                        "type": "scattergeo"
                      }
                    ],
                    "scattergl": [
                      {
                        "marker": {
                          "colorbar": {
                            "outlinewidth": 0,
                            "ticks": ""
                          }
                        },
                        "type": "scattergl"
                      }
                    ],
                    "scattermapbox": [
                      {
                        "marker": {
                          "colorbar": {
                            "outlinewidth": 0,
                            "ticks": ""
                          }
                        },
                        "type": "scattermapbox"
                      }
                    ],
                    "scatterpolar": [
                      {
                        "marker": {
                          "colorbar": {
                            "outlinewidth": 0,
                            "ticks": ""
                          }
                        },
                        "type": "scatterpolar"
                      }
                    ],
                    "scatterpolargl": [
                      {
                        "marker": {
                          "colorbar": {
                            "outlinewidth": 0,
                            "ticks": ""
                          }
                        },
                        "type": "scatterpolargl"
                      }
                    ],
                    "scatterternary": [
                      {
                        "marker": {
                          "colorbar": {
                            "outlinewidth": 0,
                            "ticks": ""
                          }
                        },
                        "type": "scatterternary"
                      }
                    ],
                    "surface": [
                      {
                        "colorbar": {
                          "outlinewidth": 0,
                          "ticks": ""
                        },
                        "colorscale": [
                          [
                            0,
                            "#0d0887"
                          ],
                          [
                            0.1111111111111111,
                            "#46039f"
                          ],
                          [
                            0.2222222222222222,
                            "#7201a8"
                          ],
                          [
                            0.3333333333333333,
                            "#9c179e"
                          ],
                          [
                            0.4444444444444444,
                            "#bd3786"
                          ],
                          [
                            0.5555555555555556,
                            "#d8576b"
                          ],
                          [
                            0.6666666666666666,
                            "#ed7953"
                          ],
                          [
                            0.7777777777777778,
                            "#fb9f3a"
                          ],
                          [
                            0.8888888888888888,
                            "#fdca26"
                          ],
                          [
                            1,
                            "#f0f921"
                          ]
                        ],
                        "type": "surface"
                      }
                    ],
                    "table": [
                      {
                        "cells": {
                          "fill": {
                            "color": "#EBF0F8"
                          },
                          "line": {
                            "color": "white"
                          }
                        },
                        "header": {
                          "fill": {
                            "color": "#C8D4E3"
                          },
                          "line": {
                            "color": "white"
                          }
                        },
                        "type": "table"
                      }
                    ]
                  },
                  "layout": {
                    "annotationdefaults": {
                      "arrowcolor": "#2a3f5f",
                      "arrowhead": 0,
                      "arrowwidth": 1
                    },
                    "autotypenumbers": "strict",
                    "coloraxis": {
                      "colorbar": {
                        "outlinewidth": 0,
                        "ticks": ""
                      }
                    },
                    "colorscale": {
                      "diverging": [
                        [
                          0,
                          "#8e0152"
                        ],
                        [
                          0.1,
                          "#c51b7d"
                        ],
                        [
                          0.2,
                          "#de77ae"
                        ],
                        [
                          0.3,
                          "#f1b6da"
                        ],
                        [
                          0.4,
                          "#fde0ef"
                        ],
                        [
                          0.5,
                          "#f7f7f7"
                        ],
                        [
                          0.6,
                          "#e6f5d0"
                        ],
                        [
                          0.7,
                          "#b8e186"
                        ],
                        [
                          0.8,
                          "#7fbc41"
                        ],
                        [
                          0.9,
                          "#4d9221"
                        ],
                        [
                          1,
                          "#276419"
                        ]
                      ],
                      "sequential": [
                        [
                          0,
                          "#0d0887"
                        ],
                        [
                          0.1111111111111111,
                          "#46039f"
                        ],
                        [
                          0.2222222222222222,
                          "#7201a8"
                        ],
                        [
                          0.3333333333333333,
                          "#9c179e"
                        ],
                        [
                          0.4444444444444444,
                          "#bd3786"
                        ],
                        [
                          0.5555555555555556,
                          "#d8576b"
                        ],
                        [
                          0.6666666666666666,
                          "#ed7953"
                        ],
                        [
                          0.7777777777777778,
                          "#fb9f3a"
                        ],
                        [
                          0.8888888888888888,
                          "#fdca26"
                        ],
                        [
                          1,
                          "#f0f921"
                        ]
                      ],
                      "sequentialminus": [
                        [
                          0,
                          "#0d0887"
                        ],
                        [
                          0.1111111111111111,
                          "#46039f"
                        ],
                        [
                          0.2222222222222222,
                          "#7201a8"
                        ],
                        [
                          0.3333333333333333,
                          "#9c179e"
                        ],
                        [
                          0.4444444444444444,
                          "#bd3786"
                        ],
                        [
                          0.5555555555555556,
                          "#d8576b"
                        ],
                        [
                          0.6666666666666666,
                          "#ed7953"
                        ],
                        [
                          0.7777777777777778,
                          "#fb9f3a"
                        ],
                        [
                          0.8888888888888888,
                          "#fdca26"
                        ],
                        [
                          1,
                          "#f0f921"
                        ]
                      ]
                    },
                    "colorway": [
                      "#636efa",
                      "#EF553B",
                      "#00cc96",
                      "#ab63fa",
                      "#FFA15A",
                      "#19d3f3",
                      "#FF6692",
                      "#B6E880",
                      "#FF97FF",
                      "#FECB52"
                    ],
                    "font": {
                      "color": "#2a3f5f"
                    },
                    "geo": {
                      "bgcolor": "white",
                      "lakecolor": "white",
                      "landcolor": "#E5ECF6",
                      "showlakes": true,
                      "showland": true,
                      "subunitcolor": "white"
                    },
                    "hoverlabel": {
                      "align": "left"
                    },
                    "hovermode": "closest",
                    "mapbox": {
                      "style": "light"
                    },
                    "paper_bgcolor": "white",
                    "plot_bgcolor": "#E5ECF6",
                    "polar": {
                      "angularaxis": {
                        "gridcolor": "white",
                        "linecolor": "white",
                        "ticks": ""
                      },
                      "bgcolor": "#E5ECF6",
                      "radialaxis": {
                        "gridcolor": "white",
                        "linecolor": "white",
                        "ticks": ""
                      }
                    },
                    "scene": {
                      "xaxis": {
                        "backgroundcolor": "#E5ECF6",
                        "gridcolor": "white",
                        "gridwidth": 2,
                        "linecolor": "white",
                        "showbackground": true,
                        "ticks": "",
                        "zerolinecolor": "white"
                      },
                      "yaxis": {
                        "backgroundcolor": "#E5ECF6",
                        "gridcolor": "white",
                        "gridwidth": 2,
                        "linecolor": "white",
                        "showbackground": true,
                        "ticks": "",
                        "zerolinecolor": "white"
                      },
                      "zaxis": {
                        "backgroundcolor": "#E5ECF6",
                        "gridcolor": "white",
                        "gridwidth": 2,
                        "linecolor": "white",
                        "showbackground": true,
                        "ticks": "",
                        "zerolinecolor": "white"
                      }
                    },
                    "shapedefaults": {
                      "line": {
                        "color": "#2a3f5f"
                      }
                    },
                    "ternary": {
                      "aaxis": {
                        "gridcolor": "white",
                        "linecolor": "white",
                        "ticks": ""
                      },
                      "baxis": {
                        "gridcolor": "white",
                        "linecolor": "white",
                        "ticks": ""
                      },
                      "bgcolor": "#E5ECF6",
                      "caxis": {
                        "gridcolor": "white",
                        "linecolor": "white",
                        "ticks": ""
                      }
                    },
                    "title": {
                      "x": 0.05
                    },
                    "xaxis": {
                      "automargin": true,
                      "gridcolor": "white",
                      "linecolor": "white",
                      "ticks": "",
                      "title": {
                        "standoff": 15
                      },
                      "zerolinecolor": "white",
                      "zerolinewidth": 2
                    },
                    "yaxis": {
                      "automargin": true,
                      "gridcolor": "white",
                      "linecolor": "white",
                      "ticks": "",
                      "title": {
                        "standoff": 15
                      },
                      "zerolinecolor": "white",
                      "zerolinewidth": 2
                    }
                  }
                },
                "width": 1000
              }
            }
          },
          "metadata": {},
          "output_type": "display_data"
        }
      ],
      "source": [
        "fig = go.Figure()\n",
        "\n",
        "text_data = list(candidates.keys())\n",
        "embeddings_3d = np.concatenate(list(candidates.values())).reshape(len(candidates), 3)\n",
        "\n",
        "color_data = ['blue' if i < cutoff else 'red' for i in range(len(candidates))]\n",
        "for i in closest_candidates_indices:\n",
        "    color_data[i] = 'green'\n",
        "color_data[closest_candidates_indices[0]] = 'purple'\n",
        "\n",
        "fig.add_trace(go.Scatter3d(\n",
        "    x=embeddings_3d[:, 0],\n",
        "    y=embeddings_3d[:, 1],\n",
        "    z=embeddings_3d[:, 2],\n",
        "    text=text_data,\n",
        "    mode='markers',\n",
        "    marker=dict(\n",
        "        size=5,\n",
        "        color=color_data,\n",
        "        colorscale='Viridis',\n",
        "        opacity=1\n",
        "    )\n",
        "))\n",
        "\n",
        "\n",
        "fig.update_layout(\n",
        "    scene=dict(\n",
        "        xaxis=dict(title='x'),\n",
        "        yaxis=dict(title='y'),\n",
        "        zaxis=dict(title='z')\n",
        "    ),\n",
        "\twidth=1000,\n",
        "    height=800\n",
        ")\n",
        "\n",
        "fig.show()\n"
      ]
    }
  ],
  "metadata": {
    "accelerator": "GPU",
    "colab": {
      "gpuType": "T4",
      "machine_shape": "hm",
      "provenance": []
    },
    "kernelspec": {
      "display_name": "Python 3",
      "name": "python3"
    },
    "language_info": {
      "codemirror_mode": {
        "name": "ipython",
        "version": 3
      },
      "file_extension": ".py",
      "mimetype": "text/x-python",
      "name": "python",
      "nbconvert_exporter": "python",
      "pygments_lexer": "ipython3",
      "version": "3.12.3"
    }
  },
  "nbformat": 4,
  "nbformat_minor": 0
}
