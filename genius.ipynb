{
 "cells": [
  {
   "cell_type": "code",
   "execution_count": null,
   "metadata": {},
   "outputs": [],
   "source": [
    "from bs4 import BeautifulSoup\n",
    "from IPython.display import clear_output\n",
    "from dotenv import load_dotenv\n",
    "import os\n",
    "import requests\n",
    "import numpy as np\n",
    "import pandas as pd\n",
    "import re\n",
    "import pprint\n",
    "import time\n",
    "from tqdm import tqdm\n",
    "import csv"
   ]
  },
  {
   "cell_type": "markdown",
   "metadata": {},
   "source": [
    "It looks like the Genius API needs special song IDs that we don't have. So, this web crawler will use the Genius website's URL structure to get the lyrics directly.\n",
    "\n",
    "The URL structure for Genius is:\n",
    "https://genius.com/{song-name}-{artist}-lyrics"
   ]
  },
  {
   "cell_type": "markdown",
   "metadata": {},
   "source": [
    "## Loading the Dataset"
   ]
  },
  {
   "cell_type": "code",
   "execution_count": null,
   "metadata": {},
   "outputs": [],
   "source": [
    "track_data = pd.read_csv('misc/processed_music_info.csv')\n",
    "env_path = os.path.join('misc', '.env')\n",
    "\n",
    "file_path = 'misc/track_lyrics copy.csv'\n",
    "track_lyrics = {}\n",
    "\n",
    "load_dotenv(dotenv_path=env_path) \n",
    "\n",
    "GENIUS_ACCESS_TOKEN = os.getenv('CLIENT_ACCESS_TOKEN')\n",
    "if GENIUS_ACCESS_TOKEN is None:\n",
    "    raise ValueError('GENIUS_ACCESS_TOKEN is not set in the environment variables') \n",
    "\n",
    "try:\n",
    "    with open(file_path, 'r', encoding='utf-8') as file:\n",
    "        reader = csv.reader(file)\n",
    "        next(reader)\n",
    "        for row in reader:\n",
    "            track_id, lyrics = row\n",
    "            track_lyrics[track_id] = lyrics\n",
    "except FileNotFoundError:\n",
    "    track_lyrics = {}\n",
    "\n",
    "len(track_lyrics)\n"
   ]
  },
  {
   "cell_type": "code",
   "execution_count": null,
   "metadata": {},
   "outputs": [],
   "source": [
    "len(track_data)\n",
    "track_data.info()"
   ]
  },
  {
   "cell_type": "code",
   "execution_count": null,
   "metadata": {},
   "outputs": [],
   "source": [
    "def save_lyrics(lyrics: dict):\n",
    "    lyrics = pd.DataFrame.from_dict(lyrics, orient='index', columns=['lyrics'])\n",
    "    lyrics.index.name = 'track_id' \n",
    "    lyrics.to_csv(file_path)   "
   ]
  },
  {
   "cell_type": "code",
   "execution_count": null,
   "metadata": {},
   "outputs": [],
   "source": [
    "separator = \"|||\"\n",
    "genius_api_endpoint = \"https://api.genius.com/search\"\n",
    "avg_retrieval_time = 5\n",
    "avg_minutes = []"
   ]
  },
  {
   "cell_type": "code",
   "execution_count": null,
   "metadata": {},
   "outputs": [],
   "source": [
    "headers = {\n",
    "    \"Authorization\": f\"Bearer {GENIUS_ACCESS_TOKEN}\",\n",
    "    \"User-Agent\": \"CompuServe Classic/1.22\",\n",
    "    \"Accept\": \"application/json\",\n",
    "}\n",
    "for index, row in track_data.iterrows():\n",
    "    track_id = row['track_id']\n",
    "    if len(track_lyrics.get(track_id, \"\")) > 0: continue \n",
    "    if index % 10 == 0:\n",
    "        save_lyrics(track_lyrics) # save lyrics every 10 tracks\n",
    "        clear_output(wait=True)\n",
    "        print(\"Completion: [{}/{}, {:.2f}%]\".format(index, len(track_data), (index / len(track_data)) * 100))\n",
    "        print(\"{:<8} {:<20} {:<8} {:<15} {:<35} {:<30} {:<10} {:<10}\".format(\"Index\", \"Track ID\", \"Status\", \"Lyrics Length\", \n",
    "                                                                               \"Song Title\", \"Arist\", \"Runtime\", \"Estimated Time\"))\n",
    "    if index % 100 == 0:\n",
    "        avg_minutes.clear()\n",
    "\n",
    "    title = row['name']\n",
    "    artist = row['artist']\n",
    "    lyrics = \"\"\n",
    "    status = 200\n",
    "    start_time = time.time()\n",
    "\n",
    "    try:        \n",
    "        res = requests.get(genius_api_endpoint, headers=headers, params={\"q\": f\"{title},{artist}\"}, timeout=10)\n",
    "        res = res.json()\n",
    "        if res['meta']['status'] != 200: continue\n",
    "        if len(res['response']['hits']) == 0: continue\n",
    "        res = res['response']['hits'][0]['result']\n",
    "        if res['primary_artist']['name'].lower() != artist.lower(): continue\n",
    "        url = res['url']\n",
    "        res = requests.get(url, timeout=10)\n",
    "    except requests.Timeout as e:\n",
    "        print('Error occurred while fetching lyrics for \"{}\":'.format(url), str(e))\n",
    "    else:\n",
    "        status = res.status_code\n",
    "        if status == 200:\n",
    "            soup = BeautifulSoup(res.text, 'html.parser')\n",
    "            lyrics_div = soup.find('div', attrs={'data-lyrics-container': 'true'})\n",
    "            if lyrics_div is None:\n",
    "                instrumental = soup.find('div', string=re.compile('This song is an instrumental'))\n",
    "                if instrumental: lyrics = \"This song is instrumental.\"\n",
    "            else:\n",
    "                lyrics = lyrics_div.get_text(separator=separator)\n",
    "\n",
    "    elapsed_time = time.time() - start_time\n",
    "    avg_retrieval_time = (avg_retrieval_time + elapsed_time) / 2\n",
    "    estimated_time = avg_retrieval_time * (len(track_data) - index - 1) / 60 # mins\n",
    "    avg_minutes.append(estimated_time)\n",
    "    estimated_time = np.mean(avg_minutes)\n",
    "    hours = int(estimated_time // 60)\n",
    "    mins = int(estimated_time % 60)\n",
    "    lyrics_length = len(lyrics) if lyrics != \"This song is instrumental.\" else \"No lyrics.\"\n",
    "\n",
    "    print(\"{:<8} {:<20} {:<8} {:<15} {:<35} {:<30} {:<10.2f} {:<10}\".format(index, track_id, status, lyrics_length, row['name'], \n",
    "                                                                row['artist'], elapsed_time, \n",
    "                                                                \"{:d} hours and {:d} minutes\".format(hours, mins)))\n",
    "\n",
    "    track_lyrics[track_id] = lyrics\n",
    "    lyrics = \"\"\n"
   ]
  },
  {
   "cell_type": "code",
   "execution_count": null,
   "metadata": {},
   "outputs": [],
   "source": [
    "# cleanup\n",
    "for track_id, lyrics in track_lyrics.items():\n",
    "    if lyrics == \"\":\n",
    "        track_lyrics[track_id] = \"This song is instrumental.\""
   ]
  },
  {
   "cell_type": "code",
   "execution_count": null,
   "metadata": {},
   "outputs": [],
   "source": [
    "save_lyrics(track_lyrics)"
   ]
  }
 ],
 "metadata": {
  "kernelspec": {
   "display_name": ".venv",
   "language": "python",
   "name": "python3"
  },
  "language_info": {
   "codemirror_mode": {
    "name": "ipython",
    "version": 3
   },
   "file_extension": ".py",
   "mimetype": "text/x-python",
   "name": "python",
   "nbconvert_exporter": "python",
   "pygments_lexer": "ipython3",
   "version": "3.9.1"
  }
 },
 "nbformat": 4,
 "nbformat_minor": 2
}
