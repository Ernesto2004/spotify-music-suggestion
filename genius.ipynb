{
 "cells": [
  {
   "cell_type": "code",
   "execution_count": null,
   "metadata": {},
   "outputs": [],
   "source": [
    "from bs4 import BeautifulSoup\n",
    "from IPython.display import clear_output\n",
    "from dotenv import load_dotenv\n",
    "import os\n",
    "import requests\n",
    "import numpy as np\n",
    "import pandas as pd\n",
    "import re\n",
    "import pprint\n",
    "import time\n",
    "from tqdm import tqdm\n",
    "import csv"
   ]
  },
  {
   "cell_type": "markdown",
   "metadata": {},
   "source": [
    "It looks like the Genius API needs special song IDs that we don't have. So, this web crawler will use the Genius website's URL structure to get the lyrics directly.\n",
    "\n",
    "The URL structure for Genius is:\n",
    "https://genius.com/{song-name}-{artist}-lyrics"
   ]
  },
  {
   "cell_type": "markdown",
   "metadata": {},
   "source": [
    "## Loading the Dataset"
   ]
  },
  {
   "cell_type": "code",
   "execution_count": null,
   "metadata": {},
   "outputs": [],
   "source": [
    "track_data = pd.read_csv('misc/processed_music_info_extended.csv')\n",
    "old_track_lyrics = pd.read_csv('misc/track_lyrics.csv')\n",
    "env_path = os.path.join('misc', '.env')\n",
    "\n",
    "outer_bound = len(track_data)\n",
    "track_data = track_data[~track_data['track_id'].isin(old_track_lyrics['track_id'])]\n",
    "\n",
    "file_path = 'misc/track_lyrics_extended.csv'\n",
    "track_lyrics = {}\n",
    "\n",
    "load_dotenv(dotenv_path=env_path) \n",
    "\n",
    "GENIUS_ACCESS_TOKEN = os.getenv('CLIENT_ACCESS_TOKEN')\n",
    "if GENIUS_ACCESS_TOKEN is None:\n",
    "    raise ValueError('GENIUS_ACCESS_TOKEN is not set in the environment variables') \n",
    "\n",
    "# try:\n",
    "#     with open(file_path, 'r', encoding='utf-8') as file:\n",
    "#         reader = csv.reader(file)\n",
    "#         next(reader)\n",
    "#         for row in reader:\n",
    "#             track_id, lyrics = row\n",
    "#             track_lyrics[track_id] = lyrics\n",
    "# except FileNotFoundError:\n",
    "#     track_lyrics = {}\n",
    "\n",
    "track_lyrics = pd.read_csv(file_path)\n",
    "null_lyrics = track_lyrics[track_lyrics['lyrics'].isnull()]\n",
    "track_lyrics = track_lyrics.drop_duplicates(subset='track_id')\n",
    "track_data = track_data[~track_data['track_id'].isin(track_lyrics['track_id'])]\n",
    "track_lyrics = track_lyrics.to_dict('records')\n",
    "track_data = track_data.to_dict('records')\n",
    "print(len(track_data))\n",
    "print(len(track_lyrics))\n"
   ]
  },
  {
   "cell_type": "code",
   "execution_count": null,
   "metadata": {},
   "outputs": [],
   "source": [
    "def save_lyrics(lyrics: dict):\n",
    "    lyrics = pd.DataFrame.from_dict(lyrics, orient='index', columns=['lyrics'])\n",
    "    lyrics.index.name = 'track_id' \n",
    "    lyrics.to_csv(file_path)   \n",
    "\n",
    "def clean_text(text):\n",
    "    if text == \"This song is instrumental.\" or not isinstance(text, str):\n",
    "        return \"\"\n",
    "    text = re.sub(r'\\s+', ' ', text)\n",
    "    text = re.sub(r'[^A-Za-z0-9 ]+', ' ', text)\n",
    "    return text.strip().split()\n",
    "\n",
    "def validate_track(track_names, artist_names):\n",
    "    og_track_name = clean_text(track_names[1].lower())\n",
    "    og_artist_name = clean_text(artist_names[1].lower())\n",
    "    track_name = clean_text(track_names[0].lower())\n",
    "    artist_name = clean_text(artist_names[0].lower())\n",
    "    trutht = [True if word in track_name else False for word in og_track_name]\n",
    "    trutha = [True if word in artist_name else False for word in og_artist_name]\n",
    "    try:\n",
    "        s = sum(trutht) / len(og_track_name) > 0.8 and sum(trutha) / len(og_artist_name) > 0.8\n",
    "    except ZeroDivisionError:\n",
    "        return False\n",
    "    return s \n"
   ]
  },
  {
   "cell_type": "code",
   "execution_count": null,
   "metadata": {},
   "outputs": [],
   "source": [
    "separator = \"|||\"\n",
    "genius_api_endpoint = \"https://api.genius.com/search\"\n",
    "avg_retrieval_time = 5\n",
    "avg_minutes = []\n",
    "outer_bound = len(track_data)"
   ]
  },
  {
   "cell_type": "code",
   "execution_count": null,
   "metadata": {},
   "outputs": [],
   "source": [
    "headers = {\n",
    "    \"Authorization\": f\"Bearer {GENIUS_ACCESS_TOKEN}\",\n",
    "    \"User-Agent\": \"CompuServe Classic/1.22\",\n",
    "    \"Accept\": \"application/json\",\n",
    "}\n",
    "update_n = 0\n",
    "save_n = 0\n",
    "\n",
    "for index, row in enumerate(track_data[1194:]):\n",
    "    track_id = row['track_id']\n",
    "    if track_id in track_lyrics: continue\n",
    "    if update_n % 10 == 0:\n",
    "        clear_output(wait=True)\n",
    "        print(\"Completion: [{}/{}, {:.2f}%]\".format(index, outer_bound, (index / outer_bound) * 100))\n",
    "        print(\"{:<8} {:<20} {:<8} {:<15} {:<35} {:<30} {:<10} {:<10}\".format(\"Index\", \"Track ID\", \"Status\", \"Lyrics Length\", \n",
    "                                                                               \"Song Title\", \"Arist\", \"Runtime\", \"Estimated Time\"))\n",
    "    if len(avg_minutes) > 10:\n",
    "        avg_minutes.clear()\n",
    "\n",
    "    title = row['name']\n",
    "    artist = row['artist']\n",
    "    lyrics = \"\"\n",
    "    status = 200\n",
    "    start_time = time.time()\n",
    "\n",
    "    try:        \n",
    "        res = requests.get(genius_api_endpoint, headers=headers, params={\"q\": f\"{title},{artist}\"}, timeout=10)\n",
    "        res = res.json()\n",
    "        if res['meta']['status'] != 200: continue\n",
    "        if len(res['response']['hits']) == 0: continue\n",
    "        if res['response']['hits'][0]['type'] != 'song': continue\n",
    "        res = res['response']['hits'][0]['result']\n",
    "        if not validate_track([res['primary_artist']['name'], artist], [res['title'], title]): continue\n",
    "        url = res['url']\n",
    "        res = requests.get(url, timeout=10)\n",
    "    except Exception as e:\n",
    "        print('Error occurred while fetching lyrics for \"{}\":'.format(url), str(e))\n",
    "    else:\n",
    "        status = res.status_code\n",
    "        if status == 200:\n",
    "            soup = BeautifulSoup(res.text, 'html.parser')\n",
    "            lyrics_div = soup.find('div', attrs={'data-lyrics-container': 'true'})\n",
    "            if lyrics_div is None:\n",
    "                instrumental = soup.find('div', string=re.compile('This song is an instrumental'))\n",
    "                if instrumental: lyrics = \"This song is instrumental.\"\n",
    "            else:\n",
    "                lyrics = lyrics_div.get_text(separator=separator)\n",
    "\n",
    "    elapsed_time = time.time() - start_time\n",
    "    avg_retrieval_time = (avg_retrieval_time + elapsed_time) / 2\n",
    "    estimated_time = avg_retrieval_time * (outer_bound - index - 1) / 60 # mins\n",
    "    avg_minutes.append(estimated_time)\n",
    "    estimated_time = np.mean(avg_minutes)\n",
    "    hours = int(estimated_time // 60)\n",
    "    mins = int(estimated_time % 60)\n",
    "    lyrics_length = len(lyrics) if lyrics != \"This song is instrumental.\" else \"No lyrics.\"\n",
    "\n",
    "    print(\"{:<8} {:<20} {:<8} {:<15} {:<35} {:<30} {:<10.2f} {:<10}\".format(index, track_id, status, lyrics_length, row['name'], \n",
    "                                                                row['artist'], elapsed_time, \n",
    "                                                                \"{:d} hours and {:d} minutes\".format(hours, mins)))\n",
    "\n",
    "    track_lyrics[track_id] = lyrics\n",
    "    update_n += 1\n",
    "    save_n += 1\n",
    "    if save_n % 50 == 0:\n",
    "        save_lyrics(track_lyrics)\n",
    "        save_n = 0\n",
    "    lyrics = \"\"\n"
   ]
  },
  {
   "cell_type": "code",
   "execution_count": null,
   "metadata": {},
   "outputs": [],
   "source": [
    "# cleanup\n",
    "for idx, row in track_lyrics.iterrows():\n",
    "    lyrics = row['lyrics']\n",
    "    if lyrics == \"\" or lyrics == None:\n",
    "        track_lyrics[track_id] = \"This song is instrumental.\""
   ]
  },
  {
   "cell_type": "code",
   "execution_count": null,
   "metadata": {},
   "outputs": [],
   "source": [
    "track_lyrics = pd.read_csv('misc/track_lyrics.csv')\n",
    "track_lyrics_extended = pd.read_csv('misc/track_lyrics_extended.csv')\n",
    "track_lyrics = pd.concat([track_lyrics, track_lyrics_extended])"
   ]
  },
  {
   "cell_type": "code",
   "execution_count": null,
   "metadata": {},
   "outputs": [],
   "source": [
    "track_lyrics.info()"
   ]
  },
  {
   "cell_type": "code",
   "execution_count": null,
   "metadata": {},
   "outputs": [],
   "source": [
    "track_lyrics.to_csv('misc/track_lyrics.csv', index=False)"
   ]
  },
  {
   "cell_type": "code",
   "execution_count": null,
   "metadata": {},
   "outputs": [],
   "source": [
    "save_lyrics(track_lyrics)"
   ]
  }
 ],
 "metadata": {
  "kernelspec": {
   "display_name": ".venv",
   "language": "python",
   "name": "python3"
  },
  "language_info": {
   "codemirror_mode": {
    "name": "ipython",
    "version": 3
   },
   "file_extension": ".py",
   "mimetype": "text/x-python",
   "name": "python",
   "nbconvert_exporter": "python",
   "pygments_lexer": "ipython3",
   "version": "3.9.1"
  }
 },
 "nbformat": 4,
 "nbformat_minor": 2
}
