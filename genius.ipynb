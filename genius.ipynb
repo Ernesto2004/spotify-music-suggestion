{
 "cells": [
  {
   "cell_type": "code",
   "execution_count": null,
   "metadata": {},
   "outputs": [],
   "source": [
    "from bs4 import BeautifulSoup\n",
    "from IPython.display import clear_output\n",
    "import requests\n",
    "import numpy as np\n",
    "import pandas as pd\n",
    "import re\n",
    "import pprint\n",
    "import time\n",
    "from tqdm import tqdm\n",
    "import csv"
   ]
  },
  {
   "cell_type": "markdown",
   "metadata": {},
   "source": [
    "It looks like the Genius API needs special song IDs that we don't have. So, this web crawler will use the Genius website's URL structure to get the lyrics directly.\n",
    "\n",
    "The URL structure for Genius is:\n",
    "https://genius.com/{song-name}-{artist}-lyrics"
   ]
  },
  {
   "cell_type": "markdown",
   "metadata": {},
   "source": [
    "## Loading the Dataset"
   ]
  },
  {
   "cell_type": "code",
   "execution_count": null,
   "metadata": {},
   "outputs": [],
   "source": [
    "track_data = pd.read_csv('misc/processed_music_info.csv')\n",
    "\n",
    "file_path = 'misc/track_lyrics.csv'\n",
    "track_lyrics = {}\n",
    "\n",
    "try:\n",
    "    with open(file_path, 'r') as file:\n",
    "        reader = csv.reader(file)\n",
    "        next(reader)\n",
    "        for row in reader:\n",
    "            track_id, lyrics = row\n",
    "            track_lyrics[track_id] = lyrics\n",
    "except FileNotFoundError:\n",
    "    track_lyrics = {}\n",
    "\n",
    "len(track_data)\n",
    "track_data.info()"
   ]
  },
  {
   "cell_type": "code",
   "execution_count": null,
   "metadata": {},
   "outputs": [],
   "source": [
    "def save_lyrics(lyrics: dict):\n",
    "    lyrics = pd.DataFrame.from_dict(lyrics, orient='index', columns=['lyrics'])\n",
    "    lyrics.index.name = 'track_id' \n",
    "    lyrics.to_csv(file_path)   "
   ]
  },
  {
   "cell_type": "code",
   "execution_count": null,
   "metadata": {},
   "outputs": [],
   "source": [
    "separator = \"|||\"\n",
    "avg_retrieval_time = 5\n",
    "\n",
    "for index, row in track_data.iterrows():\n",
    "    if index % 10 == 0:\n",
    "        save_lyrics(track_lyrics) # save lyrics every 10 tracks\n",
    "        clear_output(wait=True)\n",
    "        print(\"{:<8} {:<20} {:<8} {:<15} {:<35} {:<30} {:<10.2f} {:<10}\".format(\"Index\", \"Track ID\", \"Status\", \"Lyrics Length\", \n",
    "                                                                               \"Song Title\", \"Arist\", \"Runtime\", \"Estimated Time\"))\n",
    "\n",
    "    track_id = row['track_id']\n",
    "    if track_id in track_lyrics: \n",
    "        print('Lyrics already retrieved. Skipping track_id:', track_id)\n",
    "        continue\n",
    "    title = re.sub(r'[^\\w\\s]', '',row['name'].lower()).replace(' ', '-')\n",
    "    artist = row['artist'].lower().replace(' ', '-')\n",
    "    endpoint = \"https://genius.com/{}-{}-lyrics\".format(artist, title)\n",
    "    lyrics = None\n",
    "    \n",
    "    start_time = time.time()\n",
    "\n",
    "    try:\n",
    "        res = requests.get(endpoint, timeout=5)\n",
    "    except requests.Timeout as e:\n",
    "        print('Error occurred while fetching lyrics for \"{}\":'.format(endpoint), str(e))\n",
    "    else:\n",
    "        if res.status_code == 200:\n",
    "            soup = BeautifulSoup(res.text, 'html.parser')\n",
    "            lyrics_div = soup.find('div', attrs={'data-lyrics-container': 'true'})\n",
    "            if lyrics_div is None: continue\n",
    "            lyrics = lyrics_div.get_text(separator=separator)\n",
    "            status = \"+\"\n",
    "        else:\n",
    "            status = \"-\"\n",
    "\n",
    "    elapsed_time = time.time() - start_time\n",
    "    avg_retrieval_time = (avg_retrieval_time + elapsed_time) / 2\n",
    "    estimated_time = avg_retrieval_time * (len(track_data) - index - 1) / 60 # mins\n",
    "    hours = int(estimated_time // 60)\n",
    "    mins = int(estimated_time % 60)\n",
    "    lyrics_length = len(lyrics) if lyrics else 0\n",
    "\n",
    "    print(\"{:<8} {:<20} {:<8} {:<15} {:<35} {:<30} {:<10.2f} {:<10}\".format(index, track_id, status, lyrics_length, row['name'], \n",
    "                                                                row['artist'], elapsed_time, \n",
    "                                                                \"{:d} hours and {:d} minutes\".format(hours, mins)))\n",
    "\n",
    "    track_lyrics[track_id] = lyrics\n",
    "    lyrics = None\n"
   ]
  },
  {
   "cell_type": "code",
   "execution_count": null,
   "metadata": {},
   "outputs": [],
   "source": [
    "save_lyrics(track_lyrics)"
   ]
  }
 ],
 "metadata": {
  "kernelspec": {
   "display_name": ".venv",
   "language": "python",
   "name": "python3"
  },
  "language_info": {
   "codemirror_mode": {
    "name": "ipython",
    "version": 3
   },
   "file_extension": ".py",
   "mimetype": "text/x-python",
   "name": "python",
   "nbconvert_exporter": "python",
   "pygments_lexer": "ipython3",
   "version": "3.10.7"
  }
 },
 "nbformat": 4,
 "nbformat_minor": 2
}
