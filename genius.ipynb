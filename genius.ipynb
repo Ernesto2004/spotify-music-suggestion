{
 "cells": [
  {
   "cell_type": "code",
   "execution_count": 6,
   "metadata": {},
   "outputs": [],
   "source": [
    "from bs4 import BeautifulSoup\n",
    "from IPython.display import clear_output\n",
    "import requests\n",
    "import numpy as np\n",
    "import pandas as pd\n",
    "import re\n",
    "import pprint\n",
    "import time\n",
    "from tqdm import tqdm\n",
    "import csv"
   ]
  },
  {
   "cell_type": "markdown",
   "metadata": {},
   "source": [
    "It looks like the Genius API needs special song IDs that we don't have. So, this web crawler will use the Genius website's URL structure to get the lyrics directly.\n",
    "\n",
    "The URL structure for Genius is:\n",
    "https://genius.com/{song-name}-{artist}-lyrics"
   ]
  },
  {
   "cell_type": "markdown",
   "metadata": {},
   "source": [
    "## Loading the Dataset"
   ]
  },
  {
   "cell_type": "code",
   "execution_count": 7,
   "metadata": {},
   "outputs": [
    {
     "name": "stdout",
     "output_type": "stream",
     "text": [
      "<class 'pandas.core.frame.DataFrame'>\n",
      "RangeIndex: 23584 entries, 0 to 23583\n",
      "Data columns (total 19 columns):\n",
      " #   Column            Non-Null Count  Dtype  \n",
      "---  ------            --------------  -----  \n",
      " 0   track_id          23584 non-null  object \n",
      " 1   name              23584 non-null  object \n",
      " 2   artist            23584 non-null  object \n",
      " 3   spotify_id        23584 non-null  object \n",
      " 4   tags              23083 non-null  object \n",
      " 5   year              23584 non-null  int64  \n",
      " 6   duration_ms       23584 non-null  int64  \n",
      " 7   danceability      23584 non-null  float64\n",
      " 8   energy            23584 non-null  float64\n",
      " 9   key               23584 non-null  int64  \n",
      " 10  loudness          23584 non-null  float64\n",
      " 11  mode              23584 non-null  int64  \n",
      " 12  speechiness       23584 non-null  float64\n",
      " 13  acousticness      23584 non-null  float64\n",
      " 14  instrumentalness  23584 non-null  float64\n",
      " 15  liveness          23584 non-null  float64\n",
      " 16  valence           23584 non-null  float64\n",
      " 17  tempo             23584 non-null  float64\n",
      " 18  time_signature    23584 non-null  int64  \n",
      "dtypes: float64(9), int64(5), object(5)\n",
      "memory usage: 3.4+ MB\n"
     ]
    }
   ],
   "source": [
    "track_data = pd.read_csv('misc/processed_music_info.csv')\n",
    "\n",
    "file_path = 'misc/track_lyrics.csv'\n",
    "track_lyrics = {}\n",
    "\n",
    "try:\n",
    "    with open(file_path, 'r') as file:\n",
    "        reader = csv.reader(file)\n",
    "        next(reader)\n",
    "        for row in reader:\n",
    "            track_id, lyrics = row\n",
    "            track_lyrics[track_id] = lyrics\n",
    "except FileNotFoundError:\n",
    "    track_lyrics = {}\n",
    "\n",
    "len(track_data)\n",
    "track_data.info()"
   ]
  },
  {
   "cell_type": "code",
   "execution_count": 8,
   "metadata": {},
   "outputs": [],
   "source": [
    "def save_lyrics(lyrics: dict):\n",
    "    lyrics = pd.DataFrame.from_dict(lyrics, orient='index', columns=['lyrics'])\n",
    "    lyrics.index.name = 'track_id' \n",
    "    lyrics.to_csv(file_path)   "
   ]
  },
  {
   "cell_type": "code",
   "execution_count": 9,
   "metadata": {},
   "outputs": [
    {
     "ename": "ValueError",
     "evalue": "Unknown format code 'f' for object of type 'str'",
     "output_type": "error",
     "traceback": [
      "\u001b[0;31m---------------------------------------------------------------------------\u001b[0m",
      "\u001b[0;31mValueError\u001b[0m                                Traceback (most recent call last)",
      "Cell \u001b[0;32mIn[9], line 8\u001b[0m\n\u001b[1;32m      6\u001b[0m     save_lyrics(track_lyrics) \u001b[38;5;66;03m# save lyrics every 10 tracks\u001b[39;00m\n\u001b[1;32m      7\u001b[0m     clear_output(wait\u001b[38;5;241m=\u001b[39m\u001b[38;5;28;01mTrue\u001b[39;00m)\n\u001b[0;32m----> 8\u001b[0m     \u001b[38;5;28mprint\u001b[39m(\u001b[38;5;124;43m\"\u001b[39;49m\u001b[38;5;132;43;01m{:<8}\u001b[39;49;00m\u001b[38;5;124;43m \u001b[39;49m\u001b[38;5;132;43;01m{:<20}\u001b[39;49;00m\u001b[38;5;124;43m \u001b[39;49m\u001b[38;5;132;43;01m{:<8}\u001b[39;49;00m\u001b[38;5;124;43m \u001b[39;49m\u001b[38;5;132;43;01m{:<15}\u001b[39;49;00m\u001b[38;5;124;43m \u001b[39;49m\u001b[38;5;132;43;01m{:<35}\u001b[39;49;00m\u001b[38;5;124;43m \u001b[39;49m\u001b[38;5;132;43;01m{:<30}\u001b[39;49;00m\u001b[38;5;124;43m \u001b[39;49m\u001b[38;5;132;43;01m{:<10.2f}\u001b[39;49;00m\u001b[38;5;124;43m \u001b[39;49m\u001b[38;5;132;43;01m{:<10}\u001b[39;49;00m\u001b[38;5;124;43m\"\u001b[39;49m\u001b[38;5;241;43m.\u001b[39;49m\u001b[43mformat\u001b[49m\u001b[43m(\u001b[49m\u001b[38;5;124;43m\"\u001b[39;49m\u001b[38;5;124;43mIndex\u001b[39;49m\u001b[38;5;124;43m\"\u001b[39;49m\u001b[43m,\u001b[49m\u001b[43m \u001b[49m\u001b[38;5;124;43m\"\u001b[39;49m\u001b[38;5;124;43mTrack ID\u001b[39;49m\u001b[38;5;124;43m\"\u001b[39;49m\u001b[43m,\u001b[49m\u001b[43m \u001b[49m\u001b[38;5;124;43m\"\u001b[39;49m\u001b[38;5;124;43mStatus\u001b[39;49m\u001b[38;5;124;43m\"\u001b[39;49m\u001b[43m,\u001b[49m\u001b[43m \u001b[49m\u001b[38;5;124;43m\"\u001b[39;49m\u001b[38;5;124;43mLyrics Length\u001b[39;49m\u001b[38;5;124;43m\"\u001b[39;49m\u001b[43m,\u001b[49m\u001b[43m \u001b[49m\n\u001b[1;32m      9\u001b[0m \u001b[43m                                                                           \u001b[49m\u001b[38;5;124;43m\"\u001b[39;49m\u001b[38;5;124;43mSong Title\u001b[39;49m\u001b[38;5;124;43m\"\u001b[39;49m\u001b[43m,\u001b[49m\u001b[43m \u001b[49m\u001b[38;5;124;43m\"\u001b[39;49m\u001b[38;5;124;43mArist\u001b[39;49m\u001b[38;5;124;43m\"\u001b[39;49m\u001b[43m,\u001b[49m\u001b[43m \u001b[49m\u001b[38;5;124;43m\"\u001b[39;49m\u001b[38;5;124;43mRuntime\u001b[39;49m\u001b[38;5;124;43m\"\u001b[39;49m\u001b[43m,\u001b[49m\u001b[43m \u001b[49m\u001b[38;5;124;43m\"\u001b[39;49m\u001b[38;5;124;43mEstimated Time\u001b[39;49m\u001b[38;5;124;43m\"\u001b[39;49m\u001b[43m)\u001b[49m)\n\u001b[1;32m     11\u001b[0m track_id \u001b[38;5;241m=\u001b[39m row[\u001b[38;5;124m'\u001b[39m\u001b[38;5;124mtrack_id\u001b[39m\u001b[38;5;124m'\u001b[39m]\n\u001b[1;32m     12\u001b[0m \u001b[38;5;28;01mif\u001b[39;00m track_id \u001b[38;5;129;01min\u001b[39;00m track_lyrics: \n",
      "\u001b[0;31mValueError\u001b[0m: Unknown format code 'f' for object of type 'str'"
     ]
    }
   ],
   "source": [
    "separator = \"|||\"\n",
    "avg_retrieval_time = 5\n",
    "\n",
    "for index, row in track_data.iterrows():\n",
    "    if index % 10 == 0:\n",
    "        save_lyrics(track_lyrics) # save lyrics every 10 tracks\n",
    "        clear_output(wait=True)\n",
    "        print(\"{:<8} {:<20} {:<8} {:<15} {:<35} {:<30} {:<10} {:<10}\".format(\"Index\", \"Track ID\", \"Status\", \"Lyrics Length\", \n",
    "                                                                               \"Song Title\", \"Arist\", \"Runtime\", \"Estimated Time\"))\n",
    "\n",
    "    track_id = row['track_id']\n",
    "    if track_id in track_lyrics: \n",
    "        print('Lyrics already retrieved. Skipping track_id:', track_id)\n",
    "        continue\n",
    "    title = re.sub(r'[^\\w\\s]', '',row['name'].lower()).replace(' ', '-')\n",
    "    artist = row['artist'].lower().replace(' ', '-')\n",
    "    endpoint = \"https://genius.com/{}-{}-lyrics\".format(artist, title)\n",
    "    lyrics = None\n",
    "    \n",
    "    start_time = time.time()\n",
    "\n",
    "    try:\n",
    "        res = requests.get(endpoint, timeout=5)\n",
    "    except requests.Timeout as e:\n",
    "        print('Error occurred while fetching lyrics for \"{}\":'.format(endpoint), str(e))\n",
    "    else:\n",
    "        if res.status_code == 200:\n",
    "            soup = BeautifulSoup(res.text, 'html.parser')\n",
    "            lyrics_div = soup.find('div', attrs={'data-lyrics-container': 'true'})\n",
    "            if lyrics_div is None: continue\n",
    "            lyrics = lyrics_div.get_text(separator=separator)\n",
    "            status = \"+\"\n",
    "        else:\n",
    "            status = \"-\"\n",
    "\n",
    "    elapsed_time = time.time() - start_time\n",
    "    avg_retrieval_time = (avg_retrieval_time + elapsed_time) / 2\n",
    "    estimated_time = avg_retrieval_time * (len(track_data) - index - 1) / 60 # mins\n",
    "    hours = int(estimated_time // 60)\n",
    "    mins = int(estimated_time % 60)\n",
    "    lyrics_length = len(lyrics) if lyrics else 0\n",
    "\n",
    "    print(\"{:<8} {:<20} {:<8} {:<15} {:<35} {:<30} {:<10.2f} {:<10}\".format(index, track_id, status, lyrics_length, row['name'], \n",
    "                                                                row['artist'], elapsed_time, \n",
    "                                                                \"{:d} hours and {:d} minutes\".format(hours, mins)))\n",
    "\n",
    "    track_lyrics[track_id] = lyrics\n",
    "    lyrics = None\n"
   ]
  },
  {
   "cell_type": "code",
   "execution_count": null,
   "metadata": {},
   "outputs": [],
   "source": [
    "save_lyrics(track_lyrics)"
   ]
  }
 ],
 "metadata": {
  "kernelspec": {
   "display_name": ".venv",
   "language": "python",
   "name": "python3"
  },
  "language_info": {
   "codemirror_mode": {
    "name": "ipython",
    "version": 3
   },
   "file_extension": ".py",
   "mimetype": "text/x-python",
   "name": "python",
   "nbconvert_exporter": "python",
   "pygments_lexer": "ipython3",
   "version": "3.10.7"
  }
 },
 "nbformat": 4,
 "nbformat_minor": 2
}
