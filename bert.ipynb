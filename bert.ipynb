{
 "cells": [
  {
   "cell_type": "code",
   "execution_count": 1,
   "metadata": {},
   "outputs": [],
   "source": [
    "import pandas as pd\n",
    "import numpy as np\n",
    "import matplotlib.pyplot as plt\n",
    "import pprint \n",
    "import re"
   ]
  },
  {
   "cell_type": "code",
   "execution_count": 2,
   "metadata": {},
   "outputs": [],
   "source": [
    "track_data = pd.read_csv('misc/processed_music_info.csv')\n",
    "track_lyrics = pd.read_csv('misc/track_lyrics.csv')"
   ]
  },
  {
   "cell_type": "code",
   "execution_count": 3,
   "metadata": {},
   "outputs": [
    {
     "name": "stdout",
     "output_type": "stream",
     "text": [
      "<class 'pandas.core.frame.DataFrame'>\n",
      "RangeIndex: 23584 entries, 0 to 23583\n",
      "Data columns (total 19 columns):\n",
      " #   Column            Non-Null Count  Dtype  \n",
      "---  ------            --------------  -----  \n",
      " 0   track_id          23584 non-null  object \n",
      " 1   name              23584 non-null  object \n",
      " 2   artist            23584 non-null  object \n",
      " 3   spotify_id        23584 non-null  object \n",
      " 4   tags              23083 non-null  object \n",
      " 5   year              23584 non-null  int64  \n",
      " 6   duration_ms       23584 non-null  int64  \n",
      " 7   danceability      23584 non-null  float64\n",
      " 8   energy            23584 non-null  float64\n",
      " 9   key               23584 non-null  int64  \n",
      " 10  loudness          23584 non-null  float64\n",
      " 11  mode              23584 non-null  int64  \n",
      " 12  speechiness       23584 non-null  float64\n",
      " 13  acousticness      23584 non-null  float64\n",
      " 14  instrumentalness  23584 non-null  float64\n",
      " 15  liveness          23584 non-null  float64\n",
      " 16  valence           23584 non-null  float64\n",
      " 17  tempo             23584 non-null  float64\n",
      " 18  time_signature    23584 non-null  int64  \n",
      "dtypes: float64(9), int64(5), object(5)\n",
      "memory usage: 3.4+ MB\n"
     ]
    }
   ],
   "source": [
    "track_data.info()"
   ]
  },
  {
   "cell_type": "code",
   "execution_count": 4,
   "metadata": {},
   "outputs": [
    {
     "name": "stdout",
     "output_type": "stream",
     "text": [
      "<class 'pandas.core.frame.DataFrame'>\n",
      "RangeIndex: 23584 entries, 0 to 23583\n",
      "Data columns (total 2 columns):\n",
      " #   Column    Non-Null Count  Dtype \n",
      "---  ------    --------------  ----- \n",
      " 0   track_id  23584 non-null  object\n",
      " 1   lyrics    23584 non-null  object\n",
      "dtypes: object(2)\n",
      "memory usage: 368.6+ KB\n"
     ]
    }
   ],
   "source": [
    "track_lyrics.info()"
   ]
  },
  {
   "cell_type": "code",
   "execution_count": 5,
   "metadata": {},
   "outputs": [],
   "source": [
    "track_ids_exist = track_data['track_id'].isin(track_lyrics['track_id'])\n",
    "all_track_ids_exist = track_ids_exist.all()\n",
    "if not all_track_ids_exist:\n",
    "\tprint('Some track ids do not exist in track_lyrics')\n",
    "\tprint(track_data[~track_ids_exist])"
   ]
  },
  {
   "cell_type": "code",
   "execution_count": 6,
   "metadata": {},
   "outputs": [],
   "source": [
    "def clean_text(text):\n",
    "    text = re.sub(r'\\s+', ' ', text)\n",
    "    text = re.sub(r'[^A-Za-z0-9 ]+', ' ', text)\n",
    "    text = text.replace(\"|||\", \" \")\n",
    "    return text.strip()\n",
    "\n",
    "track_lyrics['lyrics'] = track_lyrics['lyrics'].apply(clean_text)"
   ]
  },
  {
   "cell_type": "code",
   "execution_count": 7,
   "metadata": {},
   "outputs": [
    {
     "data": {
      "text/html": [
       "<div>\n",
       "<style scoped>\n",
       "    .dataframe tbody tr th:only-of-type {\n",
       "        vertical-align: middle;\n",
       "    }\n",
       "\n",
       "    .dataframe tbody tr th {\n",
       "        vertical-align: top;\n",
       "    }\n",
       "\n",
       "    .dataframe thead th {\n",
       "        text-align: right;\n",
       "    }\n",
       "</style>\n",
       "<table border=\"1\" class=\"dataframe\">\n",
       "  <thead>\n",
       "    <tr style=\"text-align: right;\">\n",
       "      <th></th>\n",
       "      <th>track_id</th>\n",
       "      <th>lyrics</th>\n",
       "    </tr>\n",
       "  </thead>\n",
       "  <tbody>\n",
       "    <tr>\n",
       "      <th>0</th>\n",
       "      <td>TRIOREW128F424EAF0</td>\n",
       "      <td>Verse 1 Comin  out of my cage and I ve been do...</td>\n",
       "    </tr>\n",
       "    <tr>\n",
       "      <th>1</th>\n",
       "      <td>TRRIVDJ128F429B0E8</td>\n",
       "      <td>Verse 1 Today is gonna be the day that they re...</td>\n",
       "    </tr>\n",
       "    <tr>\n",
       "      <th>2</th>\n",
       "      <td>TRXOGZT128F424AD74</td>\n",
       "      <td>Verse 1 Karma police  arrest this man He talks...</td>\n",
       "    </tr>\n",
       "    <tr>\n",
       "      <th>3</th>\n",
       "      <td>TRUJIIV12903CA8848</td>\n",
       "      <td>Verse 1 The lights go out  and I can t be save...</td>\n",
       "    </tr>\n",
       "    <tr>\n",
       "      <th>4</th>\n",
       "      <td>TRIODZU128E078F3E2</td>\n",
       "      <td>Verse 1 Sometimes I feel like I don t have a p...</td>\n",
       "    </tr>\n",
       "  </tbody>\n",
       "</table>\n",
       "</div>"
      ],
      "text/plain": [
       "             track_id                                             lyrics\n",
       "0  TRIOREW128F424EAF0  Verse 1 Comin  out of my cage and I ve been do...\n",
       "1  TRRIVDJ128F429B0E8  Verse 1 Today is gonna be the day that they re...\n",
       "2  TRXOGZT128F424AD74  Verse 1 Karma police  arrest this man He talks...\n",
       "3  TRUJIIV12903CA8848  Verse 1 The lights go out  and I can t be save...\n",
       "4  TRIODZU128E078F3E2  Verse 1 Sometimes I feel like I don t have a p..."
      ]
     },
     "execution_count": 7,
     "metadata": {},
     "output_type": "execute_result"
    }
   ],
   "source": [
    "track_lyrics.head()"
   ]
  },
  {
   "cell_type": "code",
   "execution_count": 8,
   "metadata": {},
   "outputs": [],
   "source": [
    "import os\n",
    "from sentence_transformers import SentenceTransformer, models\n",
    "from torch import nn\n",
    "\n",
    "saved_transformer_path = 'misc/sentence_transformer'\n",
    "\n",
    "if os.path.exists(saved_transformer_path):\n",
    "\tmodel = SentenceTransformer(saved_transformer_path)\n",
    "else:\n",
    "\tword_embedding_model = models.Transformer(\"bert-base-uncased\", max_seq_length=150)\n",
    "\tpooling_model = models.Pooling(word_embedding_model.get_word_embedding_dimension())\n",
    "\tdense_model = models.Dense(\n",
    "\t\tin_features=pooling_model.get_sentence_embedding_dimension(),\n",
    "\t\tout_features=150,\n",
    "\t\tactivation_function=nn.Tanh(),\n",
    "\t)\n",
    "\tmodel = SentenceTransformer(modules=[word_embedding_model, pooling_model, dense_model])\n",
    "\t\n",
    "\tmodel.save(saved_transformer_path)\n",
    "\n",
    "model = SentenceTransformer.load('misc/sentence_transformer')"
   ]
  },
  {
   "cell_type": "code",
   "execution_count": 12,
   "metadata": {},
   "outputs": [
    {
     "data": {
      "application/vnd.jupyter.widget-view+json": {
       "model_id": "44b5780c4bee4e67b63c589e8484bb29",
       "version_major": 2,
       "version_minor": 0
      },
      "text/plain": [
       "Batches:   0%|          | 0/1 [00:00<?, ?it/s]"
      ]
     },
     "metadata": {},
     "output_type": "display_data"
    }
   ],
   "source": [
    "lyrics_embeddings = model.encode(track_lyrics['lyrics'][0], show_progress_bar=True)"
   ]
  },
  {
   "cell_type": "code",
   "execution_count": 14,
   "metadata": {},
   "outputs": [
    {
     "data": {
      "text/plain": [
       "(150,)"
      ]
     },
     "execution_count": 14,
     "metadata": {},
     "output_type": "execute_result"
    }
   ],
   "source": [
    "lyrics_embeddings.shape"
   ]
  },
  {
   "cell_type": "code",
   "execution_count": 15,
   "metadata": {},
   "outputs": [
    {
     "name": "stdout",
     "output_type": "stream",
     "text": [
      "array([ 0.21813162, -0.05294361, -0.02294298,  0.20409702,  0.11121859,\n",
      "       -0.07217646,  0.19420993,  0.08826566, -0.02758382, -0.02307406,\n",
      "       -0.11153927, -0.06614064, -0.13606685,  0.08941007,  0.00794795,\n",
      "       -0.00270648, -0.24280885, -0.15496674, -0.02099121, -0.28822514,\n",
      "       -0.1263215 , -0.19553095,  0.2827556 ,  0.27845988,  0.19658986,\n",
      "        0.29475227,  0.06451423, -0.26581156, -0.1363212 , -0.15106559,\n",
      "       -0.24017142,  0.36102647, -0.14633602,  0.21057779, -0.13753334,\n",
      "        0.35417604, -0.15312333, -0.06277979, -0.03696794, -0.33209848,\n",
      "        0.42374694,  0.12091794,  0.23108965, -0.10289379,  0.38343132,\n",
      "        0.02219431, -0.10446766,  0.1694062 , -0.06381396,  0.45691526,\n",
      "       -0.19027442,  0.21414563,  0.091069  ,  0.27247635, -0.11386531,\n",
      "       -0.1355532 ,  0.03778983, -0.16620581, -0.244795  , -0.1273817 ,\n",
      "        0.06870184,  0.3158253 , -0.11028661,  0.05900016, -0.33063248,\n",
      "       -0.04446921,  0.41326374, -0.05272987, -0.23222125, -0.24593869,\n",
      "        0.08486433, -0.03184177,  0.05861955, -0.03049206,  0.03805089,\n",
      "        0.18009584,  0.23335011,  0.14770563, -0.21543066,  0.06220493,\n",
      "       -0.30174354,  0.28340223, -0.12077075,  0.08097063,  0.14867416,\n",
      "        0.16265088,  0.18548606, -0.31263658,  0.03646953,  0.18344168,\n",
      "        0.05075212,  0.28954673,  0.26776552, -0.3418914 ,  0.29265165,\n",
      "       -0.03062438,  0.17959026,  0.03018474,  0.1908886 ,  0.03202163,\n",
      "       -0.14612706, -0.06434501, -0.4924766 ,  0.04629585, -0.20640825,\n",
      "       -0.09639476,  0.11565331, -0.00527481, -0.10319895,  0.17591693,\n",
      "        0.24019316,  0.3769841 , -0.08382403,  0.1779245 ,  0.22014946,\n",
      "        0.17111422, -0.01956008,  0.07649405, -0.08342329,  0.03243645,\n",
      "       -0.08577498, -0.32020023,  0.13520263, -0.01220216, -0.19044498,\n",
      "        0.14856721, -0.04099969, -0.00512265, -0.14899676, -0.19434503,\n",
      "       -0.04040804,  0.0788946 ,  0.05651924,  0.06740923,  0.05755532,\n",
      "        0.1811694 , -0.06895734, -0.04381986, -0.2799178 ,  0.15115386,\n",
      "       -0.02226062, -0.1575613 , -0.2780148 ,  0.06713147, -0.34477258,\n",
      "       -0.21857336,  0.02204615,  0.18025778,  0.3277965 , -0.22414938],\n",
      "      dtype=float32)\n"
     ]
    }
   ],
   "source": [
    "pprint.pprint(lyrics_embeddings)"
   ]
  }
 ],
 "metadata": {
  "kernelspec": {
   "display_name": ".venv",
   "language": "python",
   "name": "python3"
  },
  "language_info": {
   "codemirror_mode": {
    "name": "ipython",
    "version": 3
   },
   "file_extension": ".py",
   "mimetype": "text/x-python",
   "name": "python",
   "nbconvert_exporter": "python",
   "pygments_lexer": "ipython3",
   "version": "3.10.7"
  }
 },
 "nbformat": 4,
 "nbformat_minor": 2
}
