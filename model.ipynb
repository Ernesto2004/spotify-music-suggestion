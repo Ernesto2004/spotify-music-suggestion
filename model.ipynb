{
 "cells": [
  {
   "cell_type": "code",
   "execution_count": 3,
   "metadata": {},
   "outputs": [],
   "source": [
    "import matplotlib.pyplot as plt\n",
    "import numpy as np\n",
    "import pandas as pd\n",
    "import pprint\n",
    "# import seaborn as sns"
   ]
  },
  {
   "cell_type": "code",
   "execution_count": 4,
   "metadata": {},
   "outputs": [
    {
     "name": "stdout",
     "output_type": "stream",
     "text": [
      "<class 'pandas.core.frame.DataFrame'>\n",
      "RangeIndex: 50683 entries, 0 to 50682\n",
      "Data columns (total 21 columns):\n",
      " #   Column               Non-Null Count  Dtype  \n",
      "---  ------               --------------  -----  \n",
      " 0   track_id             50683 non-null  object \n",
      " 1   name                 50683 non-null  object \n",
      " 2   artist               50683 non-null  object \n",
      " 3   spotify_preview_url  50683 non-null  object \n",
      " 4   spotify_id           50683 non-null  object \n",
      " 5   tags                 49556 non-null  object \n",
      " 6   genre                22348 non-null  object \n",
      " 7   year                 50683 non-null  int64  \n",
      " 8   duration_ms          50683 non-null  int64  \n",
      " 9   danceability         50683 non-null  float64\n",
      " 10  energy               50683 non-null  float64\n",
      " 11  key                  50683 non-null  int64  \n",
      " 12  loudness             50683 non-null  float64\n",
      " 13  mode                 50683 non-null  int64  \n",
      " 14  speechiness          50683 non-null  float64\n",
      " 15  acousticness         50683 non-null  float64\n",
      " 16  instrumentalness     50683 non-null  float64\n",
      " 17  liveness             50683 non-null  float64\n",
      " 18  valence              50683 non-null  float64\n",
      " 19  tempo                50683 non-null  float64\n",
      " 20  time_signature       50683 non-null  int64  \n",
      "dtypes: float64(9), int64(5), object(7)\n",
      "memory usage: 8.1+ MB\n"
     ]
    }
   ],
   "source": [
    "track_data = pd.read_csv('misc/music_info.csv')\n",
    "len(track_data)\n",
    "track_data.info()"
   ]
  },
  {
   "cell_type": "code",
   "execution_count": 5,
   "metadata": {},
   "outputs": [
    {
     "name": "stdout",
     "output_type": "stream",
     "text": [
      "<class 'pandas.core.frame.DataFrame'>\n",
      "RangeIndex: 9711301 entries, 0 to 9711300\n",
      "Data columns (total 3 columns):\n",
      " #   Column     Dtype \n",
      "---  ------     ----- \n",
      " 0   track_id   object\n",
      " 1   user_id    object\n",
      " 2   playcount  int64 \n",
      "dtypes: int64(1), object(2)\n",
      "memory usage: 222.3+ MB\n"
     ]
    }
   ],
   "source": [
    "user_data = pd.read_csv('misc/user_listening_hist.csv')\n",
    "len(user_data)\n",
    "user_data.info()"
   ]
  },
  {
   "cell_type": "markdown",
   "metadata": {},
   "source": [
    "## Data Pre-processing\n",
    "1. Drop rows in the user listening history table where the listening count is only 1."
   ]
  },
  {
   "cell_type": "code",
   "execution_count": 6,
   "metadata": {},
   "outputs": [
    {
     "data": {
      "text/html": [
       "<div>\n",
       "<style scoped>\n",
       "    .dataframe tbody tr th:only-of-type {\n",
       "        vertical-align: middle;\n",
       "    }\n",
       "\n",
       "    .dataframe tbody tr th {\n",
       "        vertical-align: top;\n",
       "    }\n",
       "\n",
       "    .dataframe thead th {\n",
       "        text-align: right;\n",
       "    }\n",
       "</style>\n",
       "<table border=\"1\" class=\"dataframe\">\n",
       "  <thead>\n",
       "    <tr style=\"text-align: right;\">\n",
       "      <th></th>\n",
       "      <th>track_id</th>\n",
       "      <th>user_id</th>\n",
       "      <th>playcount</th>\n",
       "    </tr>\n",
       "  </thead>\n",
       "  <tbody>\n",
       "    <tr>\n",
       "      <th>8</th>\n",
       "      <td>TRAAHSY128F147BB5C</td>\n",
       "      <td>b80344d063b5ccb3212f76538f3d9e43d87dca9e</td>\n",
       "      <td>2</td>\n",
       "    </tr>\n",
       "    <tr>\n",
       "      <th>20</th>\n",
       "      <td>TRCTFBL128F42934F3</td>\n",
       "      <td>85c1f87fea955d09b4bec2e36aee110927aedf9a</td>\n",
       "      <td>2</td>\n",
       "    </tr>\n",
       "    <tr>\n",
       "      <th>21</th>\n",
       "      <td>TRPGYLT128F428AD02</td>\n",
       "      <td>85c1f87fea955d09b4bec2e36aee110927aedf9a</td>\n",
       "      <td>3</td>\n",
       "    </tr>\n",
       "    <tr>\n",
       "      <th>24</th>\n",
       "      <td>TRWCEKE128F93191BE</td>\n",
       "      <td>bd4c6e843f00bd476847fb75c47b4fb430a06856</td>\n",
       "      <td>2</td>\n",
       "    </tr>\n",
       "    <tr>\n",
       "      <th>30</th>\n",
       "      <td>TRBFXMJ12903CB50F6</td>\n",
       "      <td>4bd88bfb25263a75bbdd467e74018f4ae570e5df</td>\n",
       "      <td>2</td>\n",
       "    </tr>\n",
       "  </tbody>\n",
       "</table>\n",
       "</div>"
      ],
      "text/plain": [
       "              track_id                                   user_id  playcount\n",
       "8   TRAAHSY128F147BB5C  b80344d063b5ccb3212f76538f3d9e43d87dca9e          2\n",
       "20  TRCTFBL128F42934F3  85c1f87fea955d09b4bec2e36aee110927aedf9a          2\n",
       "21  TRPGYLT128F428AD02  85c1f87fea955d09b4bec2e36aee110927aedf9a          3\n",
       "24  TRWCEKE128F93191BE  bd4c6e843f00bd476847fb75c47b4fb430a06856          2\n",
       "30  TRBFXMJ12903CB50F6  4bd88bfb25263a75bbdd467e74018f4ae570e5df          2"
      ]
     },
     "execution_count": 6,
     "metadata": {},
     "output_type": "execute_result"
    }
   ],
   "source": [
    "# User listening data set\n",
    "user_data = user_data[user_data.playcount != 1]\n",
    "user_data.head()"
   ]
  },
  {
   "cell_type": "code",
   "execution_count": 7,
   "metadata": {},
   "outputs": [
    {
     "data": {
      "text/html": [
       "<div>\n",
       "<style scoped>\n",
       "    .dataframe tbody tr th:only-of-type {\n",
       "        vertical-align: middle;\n",
       "    }\n",
       "\n",
       "    .dataframe tbody tr th {\n",
       "        vertical-align: top;\n",
       "    }\n",
       "\n",
       "    .dataframe thead th {\n",
       "        text-align: right;\n",
       "    }\n",
       "</style>\n",
       "<table border=\"1\" class=\"dataframe\">\n",
       "  <thead>\n",
       "    <tr style=\"text-align: right;\">\n",
       "      <th></th>\n",
       "      <th>track_id</th>\n",
       "      <th>name</th>\n",
       "      <th>artist</th>\n",
       "      <th>spotify_id</th>\n",
       "      <th>tags</th>\n",
       "      <th>year</th>\n",
       "      <th>duration_ms</th>\n",
       "      <th>danceability</th>\n",
       "      <th>energy</th>\n",
       "      <th>key</th>\n",
       "      <th>loudness</th>\n",
       "      <th>mode</th>\n",
       "      <th>speechiness</th>\n",
       "      <th>acousticness</th>\n",
       "      <th>instrumentalness</th>\n",
       "      <th>liveness</th>\n",
       "      <th>valence</th>\n",
       "      <th>tempo</th>\n",
       "      <th>time_signature</th>\n",
       "    </tr>\n",
       "  </thead>\n",
       "  <tbody>\n",
       "    <tr>\n",
       "      <th>0</th>\n",
       "      <td>TRIOREW128F424EAF0</td>\n",
       "      <td>Mr. Brightside</td>\n",
       "      <td>The Killers</td>\n",
       "      <td>09ZQ5TmUG8TSL56n0knqrj</td>\n",
       "      <td>rock, alternative, indie, alternative_rock, in...</td>\n",
       "      <td>2004</td>\n",
       "      <td>222200</td>\n",
       "      <td>0.355</td>\n",
       "      <td>0.918</td>\n",
       "      <td>1</td>\n",
       "      <td>-4.360</td>\n",
       "      <td>1</td>\n",
       "      <td>0.0746</td>\n",
       "      <td>0.001190</td>\n",
       "      <td>0.000000</td>\n",
       "      <td>0.0971</td>\n",
       "      <td>0.240</td>\n",
       "      <td>148.114</td>\n",
       "      <td>4</td>\n",
       "    </tr>\n",
       "    <tr>\n",
       "      <th>1</th>\n",
       "      <td>TRRIVDJ128F429B0E8</td>\n",
       "      <td>Wonderwall</td>\n",
       "      <td>Oasis</td>\n",
       "      <td>06UfBBDISthj1ZJAtX4xjj</td>\n",
       "      <td>rock, alternative, indie, pop, alternative_roc...</td>\n",
       "      <td>2006</td>\n",
       "      <td>258613</td>\n",
       "      <td>0.409</td>\n",
       "      <td>0.892</td>\n",
       "      <td>2</td>\n",
       "      <td>-4.373</td>\n",
       "      <td>1</td>\n",
       "      <td>0.0336</td>\n",
       "      <td>0.000807</td>\n",
       "      <td>0.000000</td>\n",
       "      <td>0.2070</td>\n",
       "      <td>0.651</td>\n",
       "      <td>174.426</td>\n",
       "      <td>4</td>\n",
       "    </tr>\n",
       "    <tr>\n",
       "      <th>2</th>\n",
       "      <td>TROUVHL128F426C441</td>\n",
       "      <td>Come as You Are</td>\n",
       "      <td>Nirvana</td>\n",
       "      <td>0keNu0t0tqsWtExGM3nT1D</td>\n",
       "      <td>rock, alternative, alternative_rock, 90s, grunge</td>\n",
       "      <td>1991</td>\n",
       "      <td>218920</td>\n",
       "      <td>0.508</td>\n",
       "      <td>0.826</td>\n",
       "      <td>4</td>\n",
       "      <td>-5.783</td>\n",
       "      <td>0</td>\n",
       "      <td>0.0400</td>\n",
       "      <td>0.000175</td>\n",
       "      <td>0.000459</td>\n",
       "      <td>0.0878</td>\n",
       "      <td>0.543</td>\n",
       "      <td>120.012</td>\n",
       "      <td>4</td>\n",
       "    </tr>\n",
       "    <tr>\n",
       "      <th>3</th>\n",
       "      <td>TRUEIND128F93038C4</td>\n",
       "      <td>Take Me Out</td>\n",
       "      <td>Franz Ferdinand</td>\n",
       "      <td>0ancVQ9wEcHVd0RrGICTE4</td>\n",
       "      <td>rock, alternative, indie, alternative_rock, in...</td>\n",
       "      <td>2004</td>\n",
       "      <td>237026</td>\n",
       "      <td>0.279</td>\n",
       "      <td>0.664</td>\n",
       "      <td>9</td>\n",
       "      <td>-8.851</td>\n",
       "      <td>1</td>\n",
       "      <td>0.0371</td>\n",
       "      <td>0.000389</td>\n",
       "      <td>0.000655</td>\n",
       "      <td>0.1330</td>\n",
       "      <td>0.490</td>\n",
       "      <td>104.560</td>\n",
       "      <td>4</td>\n",
       "    </tr>\n",
       "    <tr>\n",
       "      <th>4</th>\n",
       "      <td>TRLNZBD128F935E4D8</td>\n",
       "      <td>Creep</td>\n",
       "      <td>Radiohead</td>\n",
       "      <td>01QoK9DA7VTeTSE3MNzp4I</td>\n",
       "      <td>rock, alternative, indie, alternative_rock, in...</td>\n",
       "      <td>2008</td>\n",
       "      <td>238640</td>\n",
       "      <td>0.515</td>\n",
       "      <td>0.430</td>\n",
       "      <td>7</td>\n",
       "      <td>-9.935</td>\n",
       "      <td>1</td>\n",
       "      <td>0.0369</td>\n",
       "      <td>0.010200</td>\n",
       "      <td>0.000141</td>\n",
       "      <td>0.1290</td>\n",
       "      <td>0.104</td>\n",
       "      <td>91.841</td>\n",
       "      <td>4</td>\n",
       "    </tr>\n",
       "  </tbody>\n",
       "</table>\n",
       "</div>"
      ],
      "text/plain": [
       "             track_id             name           artist  \\\n",
       "0  TRIOREW128F424EAF0   Mr. Brightside      The Killers   \n",
       "1  TRRIVDJ128F429B0E8       Wonderwall            Oasis   \n",
       "2  TROUVHL128F426C441  Come as You Are          Nirvana   \n",
       "3  TRUEIND128F93038C4      Take Me Out  Franz Ferdinand   \n",
       "4  TRLNZBD128F935E4D8            Creep        Radiohead   \n",
       "\n",
       "               spotify_id                                               tags  \\\n",
       "0  09ZQ5TmUG8TSL56n0knqrj  rock, alternative, indie, alternative_rock, in...   \n",
       "1  06UfBBDISthj1ZJAtX4xjj  rock, alternative, indie, pop, alternative_roc...   \n",
       "2  0keNu0t0tqsWtExGM3nT1D   rock, alternative, alternative_rock, 90s, grunge   \n",
       "3  0ancVQ9wEcHVd0RrGICTE4  rock, alternative, indie, alternative_rock, in...   \n",
       "4  01QoK9DA7VTeTSE3MNzp4I  rock, alternative, indie, alternative_rock, in...   \n",
       "\n",
       "   year  duration_ms  danceability  energy  key  loudness  mode  speechiness  \\\n",
       "0  2004       222200         0.355   0.918    1    -4.360     1       0.0746   \n",
       "1  2006       258613         0.409   0.892    2    -4.373     1       0.0336   \n",
       "2  1991       218920         0.508   0.826    4    -5.783     0       0.0400   \n",
       "3  2004       237026         0.279   0.664    9    -8.851     1       0.0371   \n",
       "4  2008       238640         0.515   0.430    7    -9.935     1       0.0369   \n",
       "\n",
       "   acousticness  instrumentalness  liveness  valence    tempo  time_signature  \n",
       "0      0.001190          0.000000    0.0971    0.240  148.114               4  \n",
       "1      0.000807          0.000000    0.2070    0.651  174.426               4  \n",
       "2      0.000175          0.000459    0.0878    0.543  120.012               4  \n",
       "3      0.000389          0.000655    0.1330    0.490  104.560               4  \n",
       "4      0.010200          0.000141    0.1290    0.104   91.841               4  "
      ]
     },
     "execution_count": 7,
     "metadata": {},
     "output_type": "execute_result"
    }
   ],
   "source": [
    "track_data = track_data.drop(['spotify_preview_url', 'genre'], axis = 1)\n",
    "track_data.head()"
   ]
  },
  {
   "cell_type": "code",
   "execution_count": 8,
   "metadata": {},
   "outputs": [
    {
     "data": {
      "text/plain": [
       "array([4, 3, 5, 1, 0])"
      ]
     },
     "execution_count": 8,
     "metadata": {},
     "output_type": "execute_result"
    }
   ],
   "source": [
    "track_data['time_signature'].unique()"
   ]
  },
  {
   "cell_type": "code",
   "execution_count": 9,
   "metadata": {},
   "outputs": [],
   "source": [
    "user_data = user_data.groupby('user_id').filter(lambda x : len(x)>20)"
   ]
  },
  {
   "cell_type": "code",
   "execution_count": 10,
   "metadata": {},
   "outputs": [
    {
     "data": {
      "text/plain": [
       "25343"
      ]
     },
     "execution_count": 10,
     "metadata": {},
     "output_type": "execute_result"
    }
   ],
   "source": [
    "user_data['user_id'].nunique()"
   ]
  },
  {
   "cell_type": "code",
   "execution_count": 11,
   "metadata": {},
   "outputs": [
    {
     "data": {
      "text/plain": [
       "806745"
      ]
     },
     "execution_count": 11,
     "metadata": {},
     "output_type": "execute_result"
    }
   ],
   "source": [
    "len(user_data)"
   ]
  },
  {
   "cell_type": "code",
   "execution_count": 12,
   "metadata": {},
   "outputs": [
    {
     "data": {
      "text/html": [
       "<div>\n",
       "<style scoped>\n",
       "    .dataframe tbody tr th:only-of-type {\n",
       "        vertical-align: middle;\n",
       "    }\n",
       "\n",
       "    .dataframe tbody tr th {\n",
       "        vertical-align: top;\n",
       "    }\n",
       "\n",
       "    .dataframe thead th {\n",
       "        text-align: right;\n",
       "    }\n",
       "</style>\n",
       "<table border=\"1\" class=\"dataframe\">\n",
       "  <thead>\n",
       "    <tr style=\"text-align: right;\">\n",
       "      <th></th>\n",
       "      <th>track_id</th>\n",
       "      <th>user_id</th>\n",
       "      <th>playcount</th>\n",
       "    </tr>\n",
       "  </thead>\n",
       "  <tbody>\n",
       "    <tr>\n",
       "      <th>121</th>\n",
       "      <td>TRLATHU128F92FC275</td>\n",
       "      <td>5a905f000fc1ff3df7ca807d57edb608863db05d</td>\n",
       "      <td>11</td>\n",
       "    </tr>\n",
       "    <tr>\n",
       "      <th>122</th>\n",
       "      <td>TRMKFPN128F42858C3</td>\n",
       "      <td>5a905f000fc1ff3df7ca807d57edb608863db05d</td>\n",
       "      <td>2</td>\n",
       "    </tr>\n",
       "    <tr>\n",
       "      <th>125</th>\n",
       "      <td>TRGAOLV128E0789D40</td>\n",
       "      <td>5a905f000fc1ff3df7ca807d57edb608863db05d</td>\n",
       "      <td>2</td>\n",
       "    </tr>\n",
       "    <tr>\n",
       "      <th>126</th>\n",
       "      <td>TREAQSX128E07818CA</td>\n",
       "      <td>5a905f000fc1ff3df7ca807d57edb608863db05d</td>\n",
       "      <td>2</td>\n",
       "    </tr>\n",
       "    <tr>\n",
       "      <th>127</th>\n",
       "      <td>TRUMDRI128F424FEFC</td>\n",
       "      <td>5a905f000fc1ff3df7ca807d57edb608863db05d</td>\n",
       "      <td>3</td>\n",
       "    </tr>\n",
       "  </tbody>\n",
       "</table>\n",
       "</div>"
      ],
      "text/plain": [
       "               track_id                                   user_id  playcount\n",
       "121  TRLATHU128F92FC275  5a905f000fc1ff3df7ca807d57edb608863db05d         11\n",
       "122  TRMKFPN128F42858C3  5a905f000fc1ff3df7ca807d57edb608863db05d          2\n",
       "125  TRGAOLV128E0789D40  5a905f000fc1ff3df7ca807d57edb608863db05d          2\n",
       "126  TREAQSX128E07818CA  5a905f000fc1ff3df7ca807d57edb608863db05d          2\n",
       "127  TRUMDRI128F424FEFC  5a905f000fc1ff3df7ca807d57edb608863db05d          3"
      ]
     },
     "execution_count": 12,
     "metadata": {},
     "output_type": "execute_result"
    }
   ],
   "source": [
    "user_data.head()"
   ]
  },
  {
   "cell_type": "code",
   "execution_count": 13,
   "metadata": {},
   "outputs": [
    {
     "name": "stdout",
     "output_type": "stream",
     "text": [
      "23584\n"
     ]
    }
   ],
   "source": [
    "unique_tracks_listened = user_data[\"track_id\"].unique()\n",
    "\n",
    "track_data = track_data[track_data[\"track_id\"].isin(unique_tracks_listened)]\n",
    "print(len(track_data))\n",
    "    "
   ]
  },
  {
   "cell_type": "code",
   "execution_count": 15,
   "metadata": {},
   "outputs": [],
   "source": [
    "track_data.to_csv('misc/processed_music_info.csv', index=False)\n",
    "user_data.to_csv('misc/processed_user_listening_hist.csv', index=False)"
   ]
  }
 ],
 "metadata": {
  "kernelspec": {
   "display_name": "Python 3",
   "language": "python",
   "name": "python3"
  },
  "language_info": {
   "codemirror_mode": {
    "name": "ipython",
    "version": 3
   },
   "file_extension": ".py",
   "mimetype": "text/x-python",
   "name": "python",
   "nbconvert_exporter": "python",
   "pygments_lexer": "ipython3",
   "version": "3.10.7"
  }
 },
 "nbformat": 4,
 "nbformat_minor": 2
}
