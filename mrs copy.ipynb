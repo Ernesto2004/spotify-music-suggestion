{
  "cells": [
    {
      "cell_type": "markdown",
      "metadata": {
        "id": "BpdI5sJCmxSD"
      },
      "source": [
        "# CSE 144 Group 3\n",
        "## Music Recommendation System (MRS)\n",
        "\n",
        "In this notebook, we write the predictive model for our music recommendation system. Our work leverages modern tools including recurrent neural networks (RNN) and BERT sentence transformers...\n",
        "\n",
        "<br>\n",
        "\n",
        "Our work leverages this RNN model:\n",
        "\n",
        "https://github.com/taylorhawks/RNN-music-recommender/blob/master/cloud/model.ipynb\n"
      ]
    },
    {
      "cell_type": "code",
      "execution_count": 1,
      "metadata": {
        "id": "TATBR_nse2e3"
      },
      "outputs": [],
      "source": [
        "# import matplotlib.pyplot as plt\n",
        "import pandas as pd\n",
        "%matplotlib inline\n",
        "%config InlineBackend.figure_format=\"retina\"\n",
        "import numpy as np\n",
        "import random\n",
        "import torch\n",
        "import os\n",
        "# from torch import nn, optim\n",
        "# import math\n",
        "# from IPython import display\n",
        "# import torchvision.datasets as datasets\n",
        "# import torchvision.transforms as transforms\n",
        "# from torch.utils.data import TensorDataset\n",
        "# import torch.nn.functional as F\n",
        "# from sklearn.preprocessing import MinMaxScaler\n",
        "# import pdb\n",
        "import plotly.graph_objects as go\n",
        "import numpy as np\n",
        "\n",
        "from skimage.util.shape import view_as_windows as viewW\n",
        "from sklearn.model_selection import train_test_split\n",
        "from sklearn.metrics.pairwise import cosine_similarity\n",
        "from sklearn.metrics.pairwise import pairwise_distances\n",
        "from sklearn.decomposition import PCA\n",
        "\n",
        "# import tensorflow as tf\n",
        "\n",
        "# import keras.backend as K\n",
        "from keras.models import Sequential, load_model\n",
        "# from keras.optimizers import RMSprop\n",
        "from keras.layers import Dense, SimpleRNN, Input\n",
        "from keras.losses import *\n"
      ]
    },
    {
      "cell_type": "markdown",
      "metadata": {
        "id": "r0XrdmLSOA_y"
      },
      "source": [
        "### Load the data"
      ]
    },
    {
      "cell_type": "code",
      "execution_count": 2,
      "metadata": {
        "colab": {
          "base_uri": "https://localhost:8080/"
        },
        "id": "OWv8kjBAkGvv",
        "outputId": "d2003920-bfb0-473e-f2ad-7a399d62ed22"
      },
      "outputs": [],
      "source": [
        "song_features_data = pd.read_csv('misc/processed_music_info.csv')\n",
        "user_listening_data = pd.read_csv('misc/processed_user_listening_hist.csv')\n",
        "\n",
        "# from google.colab import drive\n",
        "# drive.mount('/content/drive')\n",
        "# import pandas as pd\n",
        "# song_features_data = pd.read_csv('/content/drive/MyDrive/Colab Notebooks/music_info.csv')\n",
        "# user_listening_data = pd.read_csv('/content/drive/MyDrive/Colab Notebooks/user_listening_hist.csv')"
      ]
    },
    {
      "cell_type": "markdown",
      "metadata": {
        "id": "OZX1u2Ae8re8"
      },
      "source": [
        "### Set Random Seed"
      ]
    },
    {
      "cell_type": "code",
      "execution_count": 3,
      "metadata": {
        "colab": {
          "base_uri": "https://localhost:8080/"
        },
        "id": "bQ0bRU5TmFxQ",
        "outputId": "fe9d8366-f50b-4011-e68b-4d560e2c212d"
      },
      "outputs": [
        {
          "data": {
            "text/plain": [
              "<torch._C.Generator at 0x15d26944b90>"
            ]
          },
          "execution_count": 3,
          "metadata": {},
          "output_type": "execute_result"
        }
      ],
      "source": [
        "torch.manual_seed(24)"
      ]
    },
    {
      "cell_type": "markdown",
      "metadata": {
        "id": "BxUwOz_88xij"
      },
      "source": [
        "### Read and Display Data"
      ]
    },
    {
      "cell_type": "code",
      "execution_count": 4,
      "metadata": {
        "colab": {
          "base_uri": "https://localhost:8080/",
          "height": 469
        },
        "id": "qIF0VPivkeHT",
        "outputId": "078105fd-90e6-4f34-c125-1f7dcb3b3273"
      },
      "outputs": [
        {
          "name": "stdout",
          "output_type": "stream",
          "text": [
            "# of rows of Song Data: 23584\n",
            "# of unique songs: 23584\n"
          ]
        },
        {
          "data": {
            "text/html": [
              "<div>\n",
              "<style scoped>\n",
              "    .dataframe tbody tr th:only-of-type {\n",
              "        vertical-align: middle;\n",
              "    }\n",
              "\n",
              "    .dataframe tbody tr th {\n",
              "        vertical-align: top;\n",
              "    }\n",
              "\n",
              "    .dataframe thead th {\n",
              "        text-align: right;\n",
              "    }\n",
              "</style>\n",
              "<table border=\"1\" class=\"dataframe\">\n",
              "  <thead>\n",
              "    <tr style=\"text-align: right;\">\n",
              "      <th></th>\n",
              "      <th>track_id</th>\n",
              "      <th>name</th>\n",
              "      <th>artist</th>\n",
              "      <th>spotify_id</th>\n",
              "      <th>tags</th>\n",
              "      <th>year</th>\n",
              "      <th>duration_ms</th>\n",
              "      <th>danceability</th>\n",
              "      <th>energy</th>\n",
              "      <th>key</th>\n",
              "      <th>loudness</th>\n",
              "      <th>mode</th>\n",
              "      <th>speechiness</th>\n",
              "      <th>acousticness</th>\n",
              "      <th>instrumentalness</th>\n",
              "      <th>liveness</th>\n",
              "      <th>valence</th>\n",
              "      <th>tempo</th>\n",
              "      <th>time_signature</th>\n",
              "    </tr>\n",
              "  </thead>\n",
              "  <tbody>\n",
              "    <tr>\n",
              "      <th>0</th>\n",
              "      <td>TRIOREW128F424EAF0</td>\n",
              "      <td>Mr. Brightside</td>\n",
              "      <td>The Killers</td>\n",
              "      <td>09ZQ5TmUG8TSL56n0knqrj</td>\n",
              "      <td>rock, alternative, indie, alternative_rock, in...</td>\n",
              "      <td>2004</td>\n",
              "      <td>222200</td>\n",
              "      <td>0.355</td>\n",
              "      <td>0.918</td>\n",
              "      <td>1</td>\n",
              "      <td>-4.360</td>\n",
              "      <td>1</td>\n",
              "      <td>0.0746</td>\n",
              "      <td>0.001190</td>\n",
              "      <td>0.000000</td>\n",
              "      <td>0.0971</td>\n",
              "      <td>0.240</td>\n",
              "      <td>148.114</td>\n",
              "      <td>4</td>\n",
              "    </tr>\n",
              "    <tr>\n",
              "      <th>1</th>\n",
              "      <td>TRRIVDJ128F429B0E8</td>\n",
              "      <td>Wonderwall</td>\n",
              "      <td>Oasis</td>\n",
              "      <td>06UfBBDISthj1ZJAtX4xjj</td>\n",
              "      <td>rock, alternative, indie, pop, alternative_roc...</td>\n",
              "      <td>2006</td>\n",
              "      <td>258613</td>\n",
              "      <td>0.409</td>\n",
              "      <td>0.892</td>\n",
              "      <td>2</td>\n",
              "      <td>-4.373</td>\n",
              "      <td>1</td>\n",
              "      <td>0.0336</td>\n",
              "      <td>0.000807</td>\n",
              "      <td>0.000000</td>\n",
              "      <td>0.2070</td>\n",
              "      <td>0.651</td>\n",
              "      <td>174.426</td>\n",
              "      <td>4</td>\n",
              "    </tr>\n",
              "    <tr>\n",
              "      <th>2</th>\n",
              "      <td>TRXOGZT128F424AD74</td>\n",
              "      <td>Karma Police</td>\n",
              "      <td>Radiohead</td>\n",
              "      <td>01puceOqImrzSfKDAcd1Ia</td>\n",
              "      <td>rock, alternative, indie, alternative_rock, in...</td>\n",
              "      <td>1996</td>\n",
              "      <td>264066</td>\n",
              "      <td>0.360</td>\n",
              "      <td>0.505</td>\n",
              "      <td>7</td>\n",
              "      <td>-9.129</td>\n",
              "      <td>1</td>\n",
              "      <td>0.0260</td>\n",
              "      <td>0.062600</td>\n",
              "      <td>0.000092</td>\n",
              "      <td>0.1720</td>\n",
              "      <td>0.317</td>\n",
              "      <td>74.807</td>\n",
              "      <td>4</td>\n",
              "    </tr>\n",
              "    <tr>\n",
              "      <th>3</th>\n",
              "      <td>TRUJIIV12903CA8848</td>\n",
              "      <td>Clocks</td>\n",
              "      <td>Coldplay</td>\n",
              "      <td>0BCPKOYdS2jbQ8iyB56Zns</td>\n",
              "      <td>rock, alternative, indie, pop, alternative_roc...</td>\n",
              "      <td>2002</td>\n",
              "      <td>307879</td>\n",
              "      <td>0.577</td>\n",
              "      <td>0.749</td>\n",
              "      <td>5</td>\n",
              "      <td>-7.215</td>\n",
              "      <td>0</td>\n",
              "      <td>0.0279</td>\n",
              "      <td>0.599000</td>\n",
              "      <td>0.011500</td>\n",
              "      <td>0.1830</td>\n",
              "      <td>0.255</td>\n",
              "      <td>130.970</td>\n",
              "      <td>4</td>\n",
              "    </tr>\n",
              "    <tr>\n",
              "      <th>4</th>\n",
              "      <td>TRIODZU128E078F3E2</td>\n",
              "      <td>Under the Bridge</td>\n",
              "      <td>Red Hot Chili Peppers</td>\n",
              "      <td>06zh28PcYIFvNOAz5Wq2Xb</td>\n",
              "      <td>rock, alternative, alternative_rock, 90s, funk</td>\n",
              "      <td>2003</td>\n",
              "      <td>265506</td>\n",
              "      <td>0.554</td>\n",
              "      <td>0.490</td>\n",
              "      <td>4</td>\n",
              "      <td>-8.046</td>\n",
              "      <td>1</td>\n",
              "      <td>0.0457</td>\n",
              "      <td>0.016800</td>\n",
              "      <td>0.000534</td>\n",
              "      <td>0.1360</td>\n",
              "      <td>0.513</td>\n",
              "      <td>84.275</td>\n",
              "      <td>4</td>\n",
              "    </tr>\n",
              "  </tbody>\n",
              "</table>\n",
              "</div>"
            ],
            "text/plain": [
              "             track_id              name                 artist  \\\n",
              "0  TRIOREW128F424EAF0    Mr. Brightside            The Killers   \n",
              "1  TRRIVDJ128F429B0E8        Wonderwall                  Oasis   \n",
              "2  TRXOGZT128F424AD74      Karma Police              Radiohead   \n",
              "3  TRUJIIV12903CA8848            Clocks               Coldplay   \n",
              "4  TRIODZU128E078F3E2  Under the Bridge  Red Hot Chili Peppers   \n",
              "\n",
              "               spotify_id                                               tags  \\\n",
              "0  09ZQ5TmUG8TSL56n0knqrj  rock, alternative, indie, alternative_rock, in...   \n",
              "1  06UfBBDISthj1ZJAtX4xjj  rock, alternative, indie, pop, alternative_roc...   \n",
              "2  01puceOqImrzSfKDAcd1Ia  rock, alternative, indie, alternative_rock, in...   \n",
              "3  0BCPKOYdS2jbQ8iyB56Zns  rock, alternative, indie, pop, alternative_roc...   \n",
              "4  06zh28PcYIFvNOAz5Wq2Xb     rock, alternative, alternative_rock, 90s, funk   \n",
              "\n",
              "   year  duration_ms  danceability  energy  key  loudness  mode  speechiness  \\\n",
              "0  2004       222200         0.355   0.918    1    -4.360     1       0.0746   \n",
              "1  2006       258613         0.409   0.892    2    -4.373     1       0.0336   \n",
              "2  1996       264066         0.360   0.505    7    -9.129     1       0.0260   \n",
              "3  2002       307879         0.577   0.749    5    -7.215     0       0.0279   \n",
              "4  2003       265506         0.554   0.490    4    -8.046     1       0.0457   \n",
              "\n",
              "   acousticness  instrumentalness  liveness  valence    tempo  time_signature  \n",
              "0      0.001190          0.000000    0.0971    0.240  148.114               4  \n",
              "1      0.000807          0.000000    0.2070    0.651  174.426               4  \n",
              "2      0.062600          0.000092    0.1720    0.317   74.807               4  \n",
              "3      0.599000          0.011500    0.1830    0.255  130.970               4  \n",
              "4      0.016800          0.000534    0.1360    0.513   84.275               4  "
            ]
          },
          "execution_count": 4,
          "metadata": {},
          "output_type": "execute_result"
        }
      ],
      "source": [
        "print('# of rows of Song Data: ' + str(len(song_features_data)))\n",
        "print('# of unique songs: ' + str(len(song_features_data['track_id'].unique())))\n",
        "song_features_data.head()"
      ]
    },
    {
      "cell_type": "code",
      "execution_count": 5,
      "metadata": {
        "colab": {
          "base_uri": "https://localhost:8080/",
          "height": 240
        },
        "id": "Kxp6NyU2834H",
        "outputId": "546c86d1-af44-4906-9e8f-938909c2ab2e"
      },
      "outputs": [
        {
          "name": "stdout",
          "output_type": "stream",
          "text": [
            "# of rows of User Listening Data: 806745\n",
            "# of unique users: 25343\n"
          ]
        },
        {
          "data": {
            "text/html": [
              "<div>\n",
              "<style scoped>\n",
              "    .dataframe tbody tr th:only-of-type {\n",
              "        vertical-align: middle;\n",
              "    }\n",
              "\n",
              "    .dataframe tbody tr th {\n",
              "        vertical-align: top;\n",
              "    }\n",
              "\n",
              "    .dataframe thead th {\n",
              "        text-align: right;\n",
              "    }\n",
              "</style>\n",
              "<table border=\"1\" class=\"dataframe\">\n",
              "  <thead>\n",
              "    <tr style=\"text-align: right;\">\n",
              "      <th></th>\n",
              "      <th>track_id</th>\n",
              "      <th>user_id</th>\n",
              "      <th>playcount</th>\n",
              "    </tr>\n",
              "  </thead>\n",
              "  <tbody>\n",
              "    <tr>\n",
              "      <th>0</th>\n",
              "      <td>TRLATHU128F92FC275</td>\n",
              "      <td>5a905f000fc1ff3df7ca807d57edb608863db05d</td>\n",
              "      <td>11</td>\n",
              "    </tr>\n",
              "    <tr>\n",
              "      <th>1</th>\n",
              "      <td>TRMKFPN128F42858C3</td>\n",
              "      <td>5a905f000fc1ff3df7ca807d57edb608863db05d</td>\n",
              "      <td>2</td>\n",
              "    </tr>\n",
              "    <tr>\n",
              "      <th>2</th>\n",
              "      <td>TRGAOLV128E0789D40</td>\n",
              "      <td>5a905f000fc1ff3df7ca807d57edb608863db05d</td>\n",
              "      <td>2</td>\n",
              "    </tr>\n",
              "    <tr>\n",
              "      <th>3</th>\n",
              "      <td>TREAQSX128E07818CA</td>\n",
              "      <td>5a905f000fc1ff3df7ca807d57edb608863db05d</td>\n",
              "      <td>2</td>\n",
              "    </tr>\n",
              "    <tr>\n",
              "      <th>4</th>\n",
              "      <td>TRUMDRI128F424FEFC</td>\n",
              "      <td>5a905f000fc1ff3df7ca807d57edb608863db05d</td>\n",
              "      <td>3</td>\n",
              "    </tr>\n",
              "  </tbody>\n",
              "</table>\n",
              "</div>"
            ],
            "text/plain": [
              "             track_id                                   user_id  playcount\n",
              "0  TRLATHU128F92FC275  5a905f000fc1ff3df7ca807d57edb608863db05d         11\n",
              "1  TRMKFPN128F42858C3  5a905f000fc1ff3df7ca807d57edb608863db05d          2\n",
              "2  TRGAOLV128E0789D40  5a905f000fc1ff3df7ca807d57edb608863db05d          2\n",
              "3  TREAQSX128E07818CA  5a905f000fc1ff3df7ca807d57edb608863db05d          2\n",
              "4  TRUMDRI128F424FEFC  5a905f000fc1ff3df7ca807d57edb608863db05d          3"
            ]
          },
          "execution_count": 5,
          "metadata": {},
          "output_type": "execute_result"
        }
      ],
      "source": [
        "print('# of rows of User Listening Data: ' + str(len(user_listening_data)))\n",
        "print('# of unique users: ' + str(len(user_listening_data['user_id'].unique())))\n",
        "user_listening_data.head()"
      ]
    },
    {
      "cell_type": "markdown",
      "metadata": {
        "id": "4HsrJ3f-moB9"
      },
      "source": [
        "### Data Preprocessing\n"
      ]
    },
    {
      "cell_type": "code",
      "execution_count": 6,
      "metadata": {
        "id": "I3EhFKIj9e8O"
      },
      "outputs": [],
      "source": [
        "# Join user_listening_data with song_features_data ON track_id\n",
        "# data = pd.merge(song_features_data, user_listening_data, on='track_id')\n",
        "\n",
        "# Drop unnecessary columns\n",
        "song_features_data = song_features_data.drop(columns=['year', 'time_signature', 'key'])"
      ]
    },
    {
      "cell_type": "code",
      "execution_count": 7,
      "metadata": {
        "colab": {
          "base_uri": "https://localhost:8080/"
        },
        "id": "qWvD7vKrmbM5",
        "outputId": "71a53746-c06b-46ce-e7b1-76e605d58543"
      },
      "outputs": [
        {
          "name": "stdout",
          "output_type": "stream",
          "text": [
            "<class 'pandas.core.frame.DataFrame'>\n",
            "RangeIndex: 23584 entries, 0 to 23583\n",
            "Data columns (total 16 columns):\n",
            " #   Column            Non-Null Count  Dtype  \n",
            "---  ------            --------------  -----  \n",
            " 0   track_id          23584 non-null  object \n",
            " 1   name              23584 non-null  object \n",
            " 2   artist            23584 non-null  object \n",
            " 3   spotify_id        23584 non-null  object \n",
            " 4   tags              23083 non-null  object \n",
            " 5   danceability      23584 non-null  float64\n",
            " 6   energy            23584 non-null  float64\n",
            " 7   loudness          23584 non-null  float64\n",
            " 8   mode              23584 non-null  int64  \n",
            " 9   speechiness       23584 non-null  float64\n",
            " 10  acousticness      23584 non-null  float64\n",
            " 11  instrumentalness  23584 non-null  float64\n",
            " 12  liveness          23584 non-null  float64\n",
            " 13  valence           23584 non-null  float64\n",
            " 14  tempo             23584 non-null  float64\n",
            " 15  duration_mins     23584 non-null  float64\n",
            "dtypes: float64(10), int64(1), object(5)\n",
            "memory usage: 2.9+ MB\n"
          ]
        }
      ],
      "source": [
        "# Commented out artist data preprocessing because a\n",
        "# stringified version for Sentence BERT\n",
        "\n",
        "# data[\"artists\"] = data[\"artists\"].str.replace(\"[\", \"\")\n",
        "# data[\"artists\"] = data[\"artists\"].str.replace(\"]\", \"\")\n",
        "# data[\"artists\"] = data[\"artists\"].str.replace(\"'\", \"\")\n",
        "# data[\"artists\"] = data[\"artists\"].map(lambda row: row.split(', '))\n",
        "\n",
        "# Convert song duration from milliseconds to minutes\n",
        "song_features_data[\"duration_mins\"] = song_features_data[\"duration_ms\"] / 60000\n",
        "song_features_data.drop(\"duration_ms\", axis=1, inplace=True)\n",
        "\n",
        "\n",
        "song_features_data.info()"
      ]
    },
    {
      "cell_type": "code",
      "execution_count": 8,
      "metadata": {
        "colab": {
          "base_uri": "https://localhost:8080/",
          "height": 417
        },
        "id": "SroBTElIOawR",
        "outputId": "ce8a9af7-cb64-4714-ff5c-7784d063a3a6"
      },
      "outputs": [
        {
          "data": {
            "text/html": [
              "<div>\n",
              "<style scoped>\n",
              "    .dataframe tbody tr th:only-of-type {\n",
              "        vertical-align: middle;\n",
              "    }\n",
              "\n",
              "    .dataframe tbody tr th {\n",
              "        vertical-align: top;\n",
              "    }\n",
              "\n",
              "    .dataframe thead th {\n",
              "        text-align: right;\n",
              "    }\n",
              "</style>\n",
              "<table border=\"1\" class=\"dataframe\">\n",
              "  <thead>\n",
              "    <tr style=\"text-align: right;\">\n",
              "      <th></th>\n",
              "      <th>track_id</th>\n",
              "      <th>name</th>\n",
              "      <th>artist</th>\n",
              "      <th>spotify_id</th>\n",
              "      <th>tags</th>\n",
              "      <th>danceability</th>\n",
              "      <th>energy</th>\n",
              "      <th>loudness</th>\n",
              "      <th>mode</th>\n",
              "      <th>speechiness</th>\n",
              "      <th>acousticness</th>\n",
              "      <th>instrumentalness</th>\n",
              "      <th>liveness</th>\n",
              "      <th>valence</th>\n",
              "      <th>tempo</th>\n",
              "      <th>duration_mins</th>\n",
              "      <th>user_id</th>\n",
              "      <th>playcount</th>\n",
              "    </tr>\n",
              "  </thead>\n",
              "  <tbody>\n",
              "    <tr>\n",
              "      <th>0</th>\n",
              "      <td>TRIOREW128F424EAF0</td>\n",
              "      <td>Mr. Brightside</td>\n",
              "      <td>The Killers</td>\n",
              "      <td>09ZQ5TmUG8TSL56n0knqrj</td>\n",
              "      <td>rock, alternative, indie, alternative_rock, in...</td>\n",
              "      <td>0.355</td>\n",
              "      <td>0.918</td>\n",
              "      <td>-4.360</td>\n",
              "      <td>1</td>\n",
              "      <td>0.0746</td>\n",
              "      <td>0.001190</td>\n",
              "      <td>0.0</td>\n",
              "      <td>0.0971</td>\n",
              "      <td>0.240</td>\n",
              "      <td>148.114</td>\n",
              "      <td>3.703333</td>\n",
              "      <td>fe31db6d197a667d265ff5a35d80d60f3660f729</td>\n",
              "      <td>2</td>\n",
              "    </tr>\n",
              "    <tr>\n",
              "      <th>1</th>\n",
              "      <td>TRRIVDJ128F429B0E8</td>\n",
              "      <td>Wonderwall</td>\n",
              "      <td>Oasis</td>\n",
              "      <td>06UfBBDISthj1ZJAtX4xjj</td>\n",
              "      <td>rock, alternative, indie, pop, alternative_roc...</td>\n",
              "      <td>0.409</td>\n",
              "      <td>0.892</td>\n",
              "      <td>-4.373</td>\n",
              "      <td>1</td>\n",
              "      <td>0.0336</td>\n",
              "      <td>0.000807</td>\n",
              "      <td>0.0</td>\n",
              "      <td>0.2070</td>\n",
              "      <td>0.651</td>\n",
              "      <td>174.426</td>\n",
              "      <td>4.310217</td>\n",
              "      <td>67874d1a189c83326c529e554be6f7acf55effae</td>\n",
              "      <td>12</td>\n",
              "    </tr>\n",
              "    <tr>\n",
              "      <th>2</th>\n",
              "      <td>TRRIVDJ128F429B0E8</td>\n",
              "      <td>Wonderwall</td>\n",
              "      <td>Oasis</td>\n",
              "      <td>06UfBBDISthj1ZJAtX4xjj</td>\n",
              "      <td>rock, alternative, indie, pop, alternative_roc...</td>\n",
              "      <td>0.409</td>\n",
              "      <td>0.892</td>\n",
              "      <td>-4.373</td>\n",
              "      <td>1</td>\n",
              "      <td>0.0336</td>\n",
              "      <td>0.000807</td>\n",
              "      <td>0.0</td>\n",
              "      <td>0.2070</td>\n",
              "      <td>0.651</td>\n",
              "      <td>174.426</td>\n",
              "      <td>4.310217</td>\n",
              "      <td>e3ee8846c9a5a0916700a9e7abfc1c5b2fcb8e36</td>\n",
              "      <td>5</td>\n",
              "    </tr>\n",
              "    <tr>\n",
              "      <th>3</th>\n",
              "      <td>TRRIVDJ128F429B0E8</td>\n",
              "      <td>Wonderwall</td>\n",
              "      <td>Oasis</td>\n",
              "      <td>06UfBBDISthj1ZJAtX4xjj</td>\n",
              "      <td>rock, alternative, indie, pop, alternative_roc...</td>\n",
              "      <td>0.409</td>\n",
              "      <td>0.892</td>\n",
              "      <td>-4.373</td>\n",
              "      <td>1</td>\n",
              "      <td>0.0336</td>\n",
              "      <td>0.000807</td>\n",
              "      <td>0.0</td>\n",
              "      <td>0.2070</td>\n",
              "      <td>0.651</td>\n",
              "      <td>174.426</td>\n",
              "      <td>4.310217</td>\n",
              "      <td>cbb6b8dccf0af0d221dfd4684072c04bb0346f30</td>\n",
              "      <td>2</td>\n",
              "    </tr>\n",
              "    <tr>\n",
              "      <th>4</th>\n",
              "      <td>TRRIVDJ128F429B0E8</td>\n",
              "      <td>Wonderwall</td>\n",
              "      <td>Oasis</td>\n",
              "      <td>06UfBBDISthj1ZJAtX4xjj</td>\n",
              "      <td>rock, alternative, indie, pop, alternative_roc...</td>\n",
              "      <td>0.409</td>\n",
              "      <td>0.892</td>\n",
              "      <td>-4.373</td>\n",
              "      <td>1</td>\n",
              "      <td>0.0336</td>\n",
              "      <td>0.000807</td>\n",
              "      <td>0.0</td>\n",
              "      <td>0.2070</td>\n",
              "      <td>0.651</td>\n",
              "      <td>174.426</td>\n",
              "      <td>4.310217</td>\n",
              "      <td>2cdf67cd70a64964cb914835af0043fcc28a8f48</td>\n",
              "      <td>12</td>\n",
              "    </tr>\n",
              "  </tbody>\n",
              "</table>\n",
              "</div>"
            ],
            "text/plain": [
              "             track_id            name       artist              spotify_id  \\\n",
              "0  TRIOREW128F424EAF0  Mr. Brightside  The Killers  09ZQ5TmUG8TSL56n0knqrj   \n",
              "1  TRRIVDJ128F429B0E8      Wonderwall        Oasis  06UfBBDISthj1ZJAtX4xjj   \n",
              "2  TRRIVDJ128F429B0E8      Wonderwall        Oasis  06UfBBDISthj1ZJAtX4xjj   \n",
              "3  TRRIVDJ128F429B0E8      Wonderwall        Oasis  06UfBBDISthj1ZJAtX4xjj   \n",
              "4  TRRIVDJ128F429B0E8      Wonderwall        Oasis  06UfBBDISthj1ZJAtX4xjj   \n",
              "\n",
              "                                                tags  danceability  energy  \\\n",
              "0  rock, alternative, indie, alternative_rock, in...         0.355   0.918   \n",
              "1  rock, alternative, indie, pop, alternative_roc...         0.409   0.892   \n",
              "2  rock, alternative, indie, pop, alternative_roc...         0.409   0.892   \n",
              "3  rock, alternative, indie, pop, alternative_roc...         0.409   0.892   \n",
              "4  rock, alternative, indie, pop, alternative_roc...         0.409   0.892   \n",
              "\n",
              "   loudness  mode  speechiness  acousticness  instrumentalness  liveness  \\\n",
              "0    -4.360     1       0.0746      0.001190               0.0    0.0971   \n",
              "1    -4.373     1       0.0336      0.000807               0.0    0.2070   \n",
              "2    -4.373     1       0.0336      0.000807               0.0    0.2070   \n",
              "3    -4.373     1       0.0336      0.000807               0.0    0.2070   \n",
              "4    -4.373     1       0.0336      0.000807               0.0    0.2070   \n",
              "\n",
              "   valence    tempo  duration_mins                                   user_id  \\\n",
              "0    0.240  148.114       3.703333  fe31db6d197a667d265ff5a35d80d60f3660f729   \n",
              "1    0.651  174.426       4.310217  67874d1a189c83326c529e554be6f7acf55effae   \n",
              "2    0.651  174.426       4.310217  e3ee8846c9a5a0916700a9e7abfc1c5b2fcb8e36   \n",
              "3    0.651  174.426       4.310217  cbb6b8dccf0af0d221dfd4684072c04bb0346f30   \n",
              "4    0.651  174.426       4.310217  2cdf67cd70a64964cb914835af0043fcc28a8f48   \n",
              "\n",
              "   playcount  \n",
              "0          2  \n",
              "1         12  \n",
              "2          5  \n",
              "3          2  \n",
              "4         12  "
            ]
          },
          "execution_count": 8,
          "metadata": {},
          "output_type": "execute_result"
        }
      ],
      "source": [
        "data = pd.merge(song_features_data, user_listening_data, on='track_id')\n",
        "data.head()"
      ]
    },
    {
      "cell_type": "markdown",
      "metadata": {
        "id": "8KFdGrtno9d_"
      },
      "source": [
        "### Obtain total number of listens per song"
      ]
    },
    {
      "cell_type": "code",
      "execution_count": 9,
      "metadata": {
        "colab": {
          "base_uri": "https://localhost:8080/",
          "height": 423
        },
        "id": "ULj0QCPVibK7",
        "outputId": "975218c7-bf5d-4fcd-bbd7-2f00fc587c7f"
      },
      "outputs": [
        {
          "data": {
            "text/html": [
              "<div>\n",
              "<style scoped>\n",
              "    .dataframe tbody tr th:only-of-type {\n",
              "        vertical-align: middle;\n",
              "    }\n",
              "\n",
              "    .dataframe tbody tr th {\n",
              "        vertical-align: top;\n",
              "    }\n",
              "\n",
              "    .dataframe thead th {\n",
              "        text-align: right;\n",
              "    }\n",
              "</style>\n",
              "<table border=\"1\" class=\"dataframe\">\n",
              "  <thead>\n",
              "    <tr style=\"text-align: right;\">\n",
              "      <th></th>\n",
              "      <th>name</th>\n",
              "      <th>playcount</th>\n",
              "    </tr>\n",
              "  </thead>\n",
              "  <tbody>\n",
              "    <tr>\n",
              "      <th>0</th>\n",
              "      <td>#1 Zero</td>\n",
              "      <td>13</td>\n",
              "    </tr>\n",
              "    <tr>\n",
              "      <th>1</th>\n",
              "      <td>#16</td>\n",
              "      <td>110</td>\n",
              "    </tr>\n",
              "    <tr>\n",
              "      <th>2</th>\n",
              "      <td>#17</td>\n",
              "      <td>7</td>\n",
              "    </tr>\n",
              "    <tr>\n",
              "      <th>3</th>\n",
              "      <td>#24</td>\n",
              "      <td>5</td>\n",
              "    </tr>\n",
              "    <tr>\n",
              "      <th>4</th>\n",
              "      <td>$20 for Boban</td>\n",
              "      <td>43</td>\n",
              "    </tr>\n",
              "    <tr>\n",
              "      <th>...</th>\n",
              "      <td>...</td>\n",
              "      <td>...</td>\n",
              "    </tr>\n",
              "    <tr>\n",
              "      <th>23579</th>\n",
              "      <td>慟哭と去りぬ</td>\n",
              "      <td>134</td>\n",
              "    </tr>\n",
              "    <tr>\n",
              "      <th>23580</th>\n",
              "      <td>我、闇とて･･･</td>\n",
              "      <td>7</td>\n",
              "    </tr>\n",
              "    <tr>\n",
              "      <th>23581</th>\n",
              "      <td>朔-saku-</td>\n",
              "      <td>51</td>\n",
              "    </tr>\n",
              "    <tr>\n",
              "      <th>23582</th>\n",
              "      <td>蜷局</td>\n",
              "      <td>368</td>\n",
              "    </tr>\n",
              "    <tr>\n",
              "      <th>23583</th>\n",
              "      <td>鼓動</td>\n",
              "      <td>22</td>\n",
              "    </tr>\n",
              "  </tbody>\n",
              "</table>\n",
              "<p>23584 rows × 2 columns</p>\n",
              "</div>"
            ],
            "text/plain": [
              "                name  playcount\n",
              "0            #1 Zero         13\n",
              "1                #16        110\n",
              "2                #17          7\n",
              "3                #24          5\n",
              "4      $20 for Boban         43\n",
              "...              ...        ...\n",
              "23579         慟哭と去りぬ        134\n",
              "23580       我、闇とて･･･          7\n",
              "23581        朔-saku-         51\n",
              "23582             蜷局        368\n",
              "23583             鼓動         22\n",
              "\n",
              "[23584 rows x 2 columns]"
            ]
          },
          "execution_count": 9,
          "metadata": {},
          "output_type": "execute_result"
        }
      ],
      "source": [
        "play_counts = data.groupby('name')['playcount'].sum().reset_index()\n",
        "play_counts"
      ]
    },
    {
      "cell_type": "markdown",
      "metadata": {
        "id": "xO9k04zspGk3"
      },
      "source": [
        "### Create playlists for input to RNN"
      ]
    },
    {
      "cell_type": "code",
      "execution_count": 10,
      "metadata": {
        "colab": {
          "base_uri": "https://localhost:8080/",
          "height": 825
        },
        "id": "4UObsgagjCNb",
        "outputId": "ac841c42-22b3-45c9-c3e2-205d7ea6ea82"
      },
      "outputs": [
        {
          "data": {
            "text/html": [
              "<div>\n",
              "<style scoped>\n",
              "    .dataframe tbody tr th:only-of-type {\n",
              "        vertical-align: middle;\n",
              "    }\n",
              "\n",
              "    .dataframe tbody tr th {\n",
              "        vertical-align: top;\n",
              "    }\n",
              "\n",
              "    .dataframe thead th {\n",
              "        text-align: right;\n",
              "    }\n",
              "</style>\n",
              "<table border=\"1\" class=\"dataframe\">\n",
              "  <thead>\n",
              "    <tr style=\"text-align: right;\">\n",
              "      <th></th>\n",
              "      <th>track_id</th>\n",
              "      <th>name</th>\n",
              "      <th>artist</th>\n",
              "      <th>spotify_id</th>\n",
              "      <th>tags</th>\n",
              "      <th>danceability</th>\n",
              "      <th>energy</th>\n",
              "      <th>loudness</th>\n",
              "      <th>mode</th>\n",
              "      <th>speechiness</th>\n",
              "      <th>acousticness</th>\n",
              "      <th>instrumentalness</th>\n",
              "      <th>liveness</th>\n",
              "      <th>valence</th>\n",
              "      <th>tempo</th>\n",
              "      <th>duration_mins</th>\n",
              "      <th>user_id</th>\n",
              "      <th>playcount</th>\n",
              "    </tr>\n",
              "  </thead>\n",
              "  <tbody>\n",
              "    <tr>\n",
              "      <th>306346</th>\n",
              "      <td>TRTVXIH128F426625A</td>\n",
              "      <td>Come Round Soon</td>\n",
              "      <td>Sara Bareilles</td>\n",
              "      <td>0jkVXytWSisMUtrBEej9mi</td>\n",
              "      <td>pop, female_vocalists, singer_songwriter, soul...</td>\n",
              "      <td>0.338</td>\n",
              "      <td>0.819</td>\n",
              "      <td>-4.495</td>\n",
              "      <td>0</td>\n",
              "      <td>0.0776</td>\n",
              "      <td>0.077700</td>\n",
              "      <td>0.000000</td>\n",
              "      <td>0.1590</td>\n",
              "      <td>0.545</td>\n",
              "      <td>74.751</td>\n",
              "      <td>3.552000</td>\n",
              "      <td>0000f88f8d76a238c251450913b0d070e4a77d19</td>\n",
              "      <td>2</td>\n",
              "    </tr>\n",
              "    <tr>\n",
              "      <th>417455</th>\n",
              "      <td>TRWUFEW128F14782F3</td>\n",
              "      <td>Forever My Friend</td>\n",
              "      <td>Ray LaMontagne</td>\n",
              "      <td>0Ev7atdl0qS2n39OO7051O</td>\n",
              "      <td>folk, singer_songwriter, soul, blues, acoustic...</td>\n",
              "      <td>0.493</td>\n",
              "      <td>0.524</td>\n",
              "      <td>-13.553</td>\n",
              "      <td>1</td>\n",
              "      <td>0.0423</td>\n",
              "      <td>0.334000</td>\n",
              "      <td>0.014100</td>\n",
              "      <td>0.3570</td>\n",
              "      <td>0.379</td>\n",
              "      <td>176.233</td>\n",
              "      <td>5.788883</td>\n",
              "      <td>0000f88f8d76a238c251450913b0d070e4a77d19</td>\n",
              "      <td>2</td>\n",
              "    </tr>\n",
              "    <tr>\n",
              "      <th>32466</th>\n",
              "      <td>TRNXEPE128F9339E47</td>\n",
              "      <td>My Name Is Jonas</td>\n",
              "      <td>Weezer</td>\n",
              "      <td>0YU04WSkTVomRgeDOWlEzX</td>\n",
              "      <td>rock, alternative, indie, alternative_rock, in...</td>\n",
              "      <td>0.261</td>\n",
              "      <td>0.947</td>\n",
              "      <td>-3.031</td>\n",
              "      <td>1</td>\n",
              "      <td>0.0488</td>\n",
              "      <td>0.000197</td>\n",
              "      <td>0.003320</td>\n",
              "      <td>0.3100</td>\n",
              "      <td>0.550</td>\n",
              "      <td>185.942</td>\n",
              "      <td>3.435333</td>\n",
              "      <td>0000f88f8d76a238c251450913b0d070e4a77d19</td>\n",
              "      <td>2</td>\n",
              "    </tr>\n",
              "    <tr>\n",
              "      <th>698954</th>\n",
              "      <td>TRMKCCV128F92EB22E</td>\n",
              "      <td>Light On</td>\n",
              "      <td>David Cook</td>\n",
              "      <td>1BnoZbPDh9dbYqabvM6qZg</td>\n",
              "      <td>rock, alternative_rock, male_vocalists</td>\n",
              "      <td>0.448</td>\n",
              "      <td>0.830</td>\n",
              "      <td>-4.156</td>\n",
              "      <td>0</td>\n",
              "      <td>0.0332</td>\n",
              "      <td>0.067300</td>\n",
              "      <td>0.000000</td>\n",
              "      <td>0.1130</td>\n",
              "      <td>0.362</td>\n",
              "      <td>131.991</td>\n",
              "      <td>3.816883</td>\n",
              "      <td>0000f88f8d76a238c251450913b0d070e4a77d19</td>\n",
              "      <td>3</td>\n",
              "    </tr>\n",
              "    <tr>\n",
              "      <th>227171</th>\n",
              "      <td>TRJGJTH128F4291A81</td>\n",
              "      <td>Oh My God, Whatever, Etc.</td>\n",
              "      <td>Ryan Adams</td>\n",
              "      <td>0sUzPqm1gdsabzX5htMvf7</td>\n",
              "      <td>rock, indie, folk, singer_songwriter, acoustic...</td>\n",
              "      <td>0.572</td>\n",
              "      <td>0.395</td>\n",
              "      <td>-10.630</td>\n",
              "      <td>1</td>\n",
              "      <td>0.0304</td>\n",
              "      <td>0.700000</td>\n",
              "      <td>0.000250</td>\n",
              "      <td>0.1260</td>\n",
              "      <td>0.483</td>\n",
              "      <td>79.552</td>\n",
              "      <td>2.532667</td>\n",
              "      <td>0000f88f8d76a238c251450913b0d070e4a77d19</td>\n",
              "      <td>2</td>\n",
              "    </tr>\n",
              "    <tr>\n",
              "      <th>...</th>\n",
              "      <td>...</td>\n",
              "      <td>...</td>\n",
              "      <td>...</td>\n",
              "      <td>...</td>\n",
              "      <td>...</td>\n",
              "      <td>...</td>\n",
              "      <td>...</td>\n",
              "      <td>...</td>\n",
              "      <td>...</td>\n",
              "      <td>...</td>\n",
              "      <td>...</td>\n",
              "      <td>...</td>\n",
              "      <td>...</td>\n",
              "      <td>...</td>\n",
              "      <td>...</td>\n",
              "      <td>...</td>\n",
              "      <td>...</td>\n",
              "      <td>...</td>\n",
              "    </tr>\n",
              "    <tr>\n",
              "      <th>802077</th>\n",
              "      <td>TRSEFCM128F429354D</td>\n",
              "      <td>Set It Up</td>\n",
              "      <td>Xavier Rudd</td>\n",
              "      <td>1sF9FiOQivhgedQnS1j3fK</td>\n",
              "      <td>acoustic, 00s</td>\n",
              "      <td>0.469</td>\n",
              "      <td>0.385</td>\n",
              "      <td>-11.300</td>\n",
              "      <td>0</td>\n",
              "      <td>0.0270</td>\n",
              "      <td>0.503000</td>\n",
              "      <td>0.001390</td>\n",
              "      <td>0.1150</td>\n",
              "      <td>0.116</td>\n",
              "      <td>130.767</td>\n",
              "      <td>4.141550</td>\n",
              "      <td>fffbab4b8416fc41d05fcbdcf0e6735c4f37cb39</td>\n",
              "      <td>2</td>\n",
              "    </tr>\n",
              "    <tr>\n",
              "      <th>417463</th>\n",
              "      <td>TRWUFEW128F14782F3</td>\n",
              "      <td>Forever My Friend</td>\n",
              "      <td>Ray LaMontagne</td>\n",
              "      <td>0Ev7atdl0qS2n39OO7051O</td>\n",
              "      <td>folk, singer_songwriter, soul, blues, acoustic...</td>\n",
              "      <td>0.493</td>\n",
              "      <td>0.524</td>\n",
              "      <td>-13.553</td>\n",
              "      <td>1</td>\n",
              "      <td>0.0423</td>\n",
              "      <td>0.334000</td>\n",
              "      <td>0.014100</td>\n",
              "      <td>0.3570</td>\n",
              "      <td>0.379</td>\n",
              "      <td>176.233</td>\n",
              "      <td>5.788883</td>\n",
              "      <td>fffbab4b8416fc41d05fcbdcf0e6735c4f37cb39</td>\n",
              "      <td>8</td>\n",
              "    </tr>\n",
              "    <tr>\n",
              "      <th>649627</th>\n",
              "      <td>TRDVGIH128F429353C</td>\n",
              "      <td>Come Let Go</td>\n",
              "      <td>Xavier Rudd</td>\n",
              "      <td>258CEuV9zzGk2PraoCH2yx</td>\n",
              "      <td>reggae, male_vocalists</td>\n",
              "      <td>0.547</td>\n",
              "      <td>0.546</td>\n",
              "      <td>-8.634</td>\n",
              "      <td>1</td>\n",
              "      <td>0.0470</td>\n",
              "      <td>0.114000</td>\n",
              "      <td>0.037200</td>\n",
              "      <td>0.3810</td>\n",
              "      <td>0.280</td>\n",
              "      <td>140.477</td>\n",
              "      <td>6.870433</td>\n",
              "      <td>fffbab4b8416fc41d05fcbdcf0e6735c4f37cb39</td>\n",
              "      <td>28</td>\n",
              "    </tr>\n",
              "    <tr>\n",
              "      <th>553208</th>\n",
              "      <td>TROXFVJ128F1465265</td>\n",
              "      <td>Bottom Of the Barrel</td>\n",
              "      <td>Amos Lee</td>\n",
              "      <td>1VWGfrhpY8IiNmqMHavRXS</td>\n",
              "      <td>folk, soul, acoustic, guitar</td>\n",
              "      <td>0.609</td>\n",
              "      <td>0.346</td>\n",
              "      <td>-12.703</td>\n",
              "      <td>1</td>\n",
              "      <td>0.1460</td>\n",
              "      <td>0.761000</td>\n",
              "      <td>0.000000</td>\n",
              "      <td>0.1100</td>\n",
              "      <td>0.550</td>\n",
              "      <td>178.137</td>\n",
              "      <td>2.006433</td>\n",
              "      <td>fffbab4b8416fc41d05fcbdcf0e6735c4f37cb39</td>\n",
              "      <td>4</td>\n",
              "    </tr>\n",
              "    <tr>\n",
              "      <th>4055</th>\n",
              "      <td>TRPFYYL128F92F7144</td>\n",
              "      <td>Float On</td>\n",
              "      <td>Modest Mouse</td>\n",
              "      <td>1Urf1M52P3R6NYdAOJizoW</td>\n",
              "      <td>rock, alternative, indie, alternative_rock, in...</td>\n",
              "      <td>0.646</td>\n",
              "      <td>0.893</td>\n",
              "      <td>-4.799</td>\n",
              "      <td>1</td>\n",
              "      <td>0.0301</td>\n",
              "      <td>0.015100</td>\n",
              "      <td>0.000004</td>\n",
              "      <td>0.0892</td>\n",
              "      <td>0.559</td>\n",
              "      <td>100.951</td>\n",
              "      <td>3.474433</td>\n",
              "      <td>fffbab4b8416fc41d05fcbdcf0e6735c4f37cb39</td>\n",
              "      <td>4</td>\n",
              "    </tr>\n",
              "  </tbody>\n",
              "</table>\n",
              "<p>806745 rows × 18 columns</p>\n",
              "</div>"
            ],
            "text/plain": [
              "                  track_id                       name          artist  \\\n",
              "306346  TRTVXIH128F426625A            Come Round Soon  Sara Bareilles   \n",
              "417455  TRWUFEW128F14782F3          Forever My Friend  Ray LaMontagne   \n",
              "32466   TRNXEPE128F9339E47           My Name Is Jonas          Weezer   \n",
              "698954  TRMKCCV128F92EB22E                   Light On      David Cook   \n",
              "227171  TRJGJTH128F4291A81  Oh My God, Whatever, Etc.      Ryan Adams   \n",
              "...                    ...                        ...             ...   \n",
              "802077  TRSEFCM128F429354D                  Set It Up     Xavier Rudd   \n",
              "417463  TRWUFEW128F14782F3          Forever My Friend  Ray LaMontagne   \n",
              "649627  TRDVGIH128F429353C                Come Let Go     Xavier Rudd   \n",
              "553208  TROXFVJ128F1465265       Bottom Of the Barrel        Amos Lee   \n",
              "4055    TRPFYYL128F92F7144                   Float On    Modest Mouse   \n",
              "\n",
              "                    spotify_id  \\\n",
              "306346  0jkVXytWSisMUtrBEej9mi   \n",
              "417455  0Ev7atdl0qS2n39OO7051O   \n",
              "32466   0YU04WSkTVomRgeDOWlEzX   \n",
              "698954  1BnoZbPDh9dbYqabvM6qZg   \n",
              "227171  0sUzPqm1gdsabzX5htMvf7   \n",
              "...                        ...   \n",
              "802077  1sF9FiOQivhgedQnS1j3fK   \n",
              "417463  0Ev7atdl0qS2n39OO7051O   \n",
              "649627  258CEuV9zzGk2PraoCH2yx   \n",
              "553208  1VWGfrhpY8IiNmqMHavRXS   \n",
              "4055    1Urf1M52P3R6NYdAOJizoW   \n",
              "\n",
              "                                                     tags  danceability  \\\n",
              "306346  pop, female_vocalists, singer_songwriter, soul...         0.338   \n",
              "417455  folk, singer_songwriter, soul, blues, acoustic...         0.493   \n",
              "32466   rock, alternative, indie, alternative_rock, in...         0.261   \n",
              "698954             rock, alternative_rock, male_vocalists         0.448   \n",
              "227171  rock, indie, folk, singer_songwriter, acoustic...         0.572   \n",
              "...                                                   ...           ...   \n",
              "802077                                      acoustic, 00s         0.469   \n",
              "417463  folk, singer_songwriter, soul, blues, acoustic...         0.493   \n",
              "649627                             reggae, male_vocalists         0.547   \n",
              "553208                       folk, soul, acoustic, guitar         0.609   \n",
              "4055    rock, alternative, indie, alternative_rock, in...         0.646   \n",
              "\n",
              "        energy  loudness  mode  speechiness  acousticness  instrumentalness  \\\n",
              "306346   0.819    -4.495     0       0.0776      0.077700          0.000000   \n",
              "417455   0.524   -13.553     1       0.0423      0.334000          0.014100   \n",
              "32466    0.947    -3.031     1       0.0488      0.000197          0.003320   \n",
              "698954   0.830    -4.156     0       0.0332      0.067300          0.000000   \n",
              "227171   0.395   -10.630     1       0.0304      0.700000          0.000250   \n",
              "...        ...       ...   ...          ...           ...               ...   \n",
              "802077   0.385   -11.300     0       0.0270      0.503000          0.001390   \n",
              "417463   0.524   -13.553     1       0.0423      0.334000          0.014100   \n",
              "649627   0.546    -8.634     1       0.0470      0.114000          0.037200   \n",
              "553208   0.346   -12.703     1       0.1460      0.761000          0.000000   \n",
              "4055     0.893    -4.799     1       0.0301      0.015100          0.000004   \n",
              "\n",
              "        liveness  valence    tempo  duration_mins  \\\n",
              "306346    0.1590    0.545   74.751       3.552000   \n",
              "417455    0.3570    0.379  176.233       5.788883   \n",
              "32466     0.3100    0.550  185.942       3.435333   \n",
              "698954    0.1130    0.362  131.991       3.816883   \n",
              "227171    0.1260    0.483   79.552       2.532667   \n",
              "...          ...      ...      ...            ...   \n",
              "802077    0.1150    0.116  130.767       4.141550   \n",
              "417463    0.3570    0.379  176.233       5.788883   \n",
              "649627    0.3810    0.280  140.477       6.870433   \n",
              "553208    0.1100    0.550  178.137       2.006433   \n",
              "4055      0.0892    0.559  100.951       3.474433   \n",
              "\n",
              "                                         user_id  playcount  \n",
              "306346  0000f88f8d76a238c251450913b0d070e4a77d19          2  \n",
              "417455  0000f88f8d76a238c251450913b0d070e4a77d19          2  \n",
              "32466   0000f88f8d76a238c251450913b0d070e4a77d19          2  \n",
              "698954  0000f88f8d76a238c251450913b0d070e4a77d19          3  \n",
              "227171  0000f88f8d76a238c251450913b0d070e4a77d19          2  \n",
              "...                                          ...        ...  \n",
              "802077  fffbab4b8416fc41d05fcbdcf0e6735c4f37cb39          2  \n",
              "417463  fffbab4b8416fc41d05fcbdcf0e6735c4f37cb39          8  \n",
              "649627  fffbab4b8416fc41d05fcbdcf0e6735c4f37cb39         28  \n",
              "553208  fffbab4b8416fc41d05fcbdcf0e6735c4f37cb39          4  \n",
              "4055    fffbab4b8416fc41d05fcbdcf0e6735c4f37cb39          4  \n",
              "\n",
              "[806745 rows x 18 columns]"
            ]
          },
          "execution_count": 10,
          "metadata": {},
          "output_type": "execute_result"
        }
      ],
      "source": [
        "data = data.sort_values(['user_id'])\n",
        "data"
      ]
    },
    {
      "cell_type": "code",
      "execution_count": 11,
      "metadata": {
        "colab": {
          "base_uri": "https://localhost:8080/"
        },
        "id": "r8s7KampjDRs",
        "outputId": "7615063b-91ef-44be-c7eb-d79d2d99c166"
      },
      "outputs": [
        {
          "name": "stdout",
          "output_type": "stream",
          "text": [
            "user_id\n",
            "0000f88f8d76a238c251450913b0d070e4a77d19    [TRTVXIH128F426625A, TRWUFEW128F14782F3, TRNXE...\n",
            "0005eb11fd1dad47e6e6719a4db30340073a9e38    [TRGOJNK128F92F2A03, TRQPSHM128F92F29ED, TRTUW...\n",
            "000d80cd9b58a8f77b33aa613dcfc5cbf1daf5e8    [TRDYYKS128F4275626, TRBHLYP12903D0D107, TRABF...\n",
            "000e9296161b73a1821aaed3d7f50d95e8665bf6    [TROPEIV128F428F5A8, TRIAZQY128F934D58D, TRMKA...\n",
            "00100482b3f3074549c751e718c57ed211b35991    [TRSNCIW128F14557BC, TRJKPFL12903CCE490, TRWJN...\n",
            "                                                                  ...                        \n",
            "fff7352d8ca192c451ce4fa00d18e33e261ecad3    [TRDRVJA128F4267831, TRCKWGF12903CD2DCD, TRXUW...\n",
            "fff759a45a3a68de552740e8285a97d5f65d4e58    [TRDJZFF128F92D2627, TRULONW128F9302209, TRBNY...\n",
            "fff9bd021bf6e07936883b9bb045207fcf372a2c    [TROHXCJ128F935A6AC, TRUMJNK12903CF465A, TRXYM...\n",
            "fffb0b218640d86e5cb99d41cd3ecad977142da5    [TRZGGHL12903CDBF1F, TRCAUIX128F4277AD0, TRYIK...\n",
            "fffbab4b8416fc41d05fcbdcf0e6735c4f37cb39    [TRGPCUN128F1465269, TRHWQQY128F427B6EB, TRCXQ...\n",
            "Name: track_id, Length: 25343, dtype: object\n"
          ]
        }
      ],
      "source": [
        "# Changed name to track_id\n",
        "playlists = data.groupby('user_id')['track_id'].apply(lambda x: list(x.head(20)))\n",
        "playlist_dict = playlists.to_dict()\n",
        "print(playlists)"
      ]
    },
    {
      "cell_type": "code",
      "execution_count": 12,
      "metadata": {
        "id": "dL56_oKPjLtw"
      },
      "outputs": [],
      "source": [
        "# Changed track_id to name\n",
        "data_dict = data.drop(['artist', 'tags', 'playcount'], axis=1)\n",
        "# Changed name to track_id\n",
        "data_dict = data_dict.set_index(['user_id', 'track_id']).to_dict('index')"
      ]
    },
    {
      "cell_type": "code",
      "execution_count": 13,
      "metadata": {
        "colab": {
          "base_uri": "https://localhost:8080/"
        },
        "id": "tzSIPcLdjQIV",
        "outputId": "3b6a70f1-9c3e-46d1-85c3-79711d2c5a09"
      },
      "outputs": [
        {
          "name": "stdout",
          "output_type": "stream",
          "text": [
            "10000\n",
            "20000\n",
            "30000\n",
            "40000\n",
            "50000\n",
            "60000\n",
            "70000\n",
            "80000\n",
            "90000\n",
            "100000\n",
            "110000\n",
            "120000\n",
            "130000\n",
            "140000\n",
            "150000\n",
            "160000\n",
            "170000\n",
            "180000\n",
            "190000\n",
            "200000\n",
            "210000\n",
            "220000\n",
            "230000\n",
            "240000\n",
            "250000\n",
            "260000\n",
            "270000\n",
            "280000\n",
            "290000\n",
            "300000\n",
            "310000\n",
            "320000\n",
            "330000\n",
            "340000\n",
            "350000\n",
            "360000\n",
            "370000\n",
            "380000\n",
            "390000\n",
            "400000\n",
            "410000\n",
            "420000\n",
            "430000\n",
            "440000\n",
            "450000\n",
            "460000\n",
            "470000\n",
            "480000\n",
            "490000\n",
            "500000\n",
            "Total songs processed: 506860\n"
          ]
        }
      ],
      "source": [
        "songs_done = 0\n",
        "updated_playlist_dict = {}\n",
        "for user_id, songs in playlist_dict.items():\n",
        "    updated_songs = []\n",
        "    for song in songs:\n",
        "        key = (user_id, song)\n",
        "        if key in data_dict:\n",
        "            the_features = list(data_dict[key].values())\n",
        "            updated_songs.append([song] + the_features)\n",
        "            songs_done += 1\n",
        "            if songs_done % 10000 == 0:\n",
        "                print(songs_done)\n",
        "    updated_playlist_dict[user_id] = updated_songs\n",
        "\n",
        "playlist_dict = updated_playlist_dict\n",
        "\n",
        "print(f\"Total songs processed: {songs_done}\")"
      ]
    },
    {
      "cell_type": "code",
      "execution_count": 14,
      "metadata": {
        "colab": {
          "base_uri": "https://localhost:8080/"
        },
        "id": "0t8r9EuB1Es4",
        "outputId": "67cc981c-8a1c-469a-83ed-510026487c11"
      },
      "outputs": [
        {
          "name": "stdout",
          "output_type": "stream",
          "text": [
            "[[['TRTVXIH128F426625A' 'Come Round Soon' '0jkVXytWSisMUtrBEej9mi' ...\n",
            "   '0.0' '0.159' '0.545']\n",
            "  ['TRWUFEW128F14782F3' 'Forever My Friend' '0Ev7atdl0qS2n39OO7051O' ...\n",
            "   '0.0141' '0.357' '0.379']\n",
            "  ['TRNXEPE128F9339E47' 'My Name Is Jonas' '0YU04WSkTVomRgeDOWlEzX' ...\n",
            "   '0.00332' '0.31' '0.55']\n",
            "  ...\n",
            "  ['TRTWOCA128F14840B8' 'La Cienega Just Smiled'\n",
            "   '0RCLN8khBH2i3SG52Gx4ts' ... '0.14' '0.0861' '0.599']\n",
            "  ['TRQSEMJ128F4294F24' 'Pearls On A String' '02WVvwWFGafPMP959TeLJy'\n",
            "   ... '1.83e-06' '0.482' '0.737']\n",
            "  ['TRUNKTP12903CD1EFB' 'Blue Sky' '08SPbOlgCODbnWEhxTpZvg' ... '0.107'\n",
            "   '0.185' '0.854']]\n",
            "\n",
            " [['TRGOJNK128F92F2A03' 'The Technicolor Phase' '27a23MeR1YZ6pZAUD3GR6D'\n",
            "   ... '0.0173' '0.149' '0.112']\n",
            "  ['TRQPSHM128F92F29ED' 'The Airway' '3Cy5wM1kAWdQ364r0zp8LD' ... '0.0'\n",
            "   '0.0925' '0.609']\n",
            "  ['TRTUWMO128F92F2A09' 'Dear Vienna' '2LBdBoz94BqE2MfNkrxkwy' ...\n",
            "   '3.31e-05' '0.161' '0.424']\n",
            "  ...\n",
            "  ['TRMIHFS128F92F2A01' 'Early Birdie' '1TvtrJ6uyfQ8JX3lYzxsQx' ...\n",
            "   '0.0176' '0.28' '0.66']\n",
            "  ['TRRLGDR128F933A7C9' 'Injection' '0it4CBT8IGSbXv4ik5A7cN' ...\n",
            "   '0.000429' '0.0931' '0.469']\n",
            "  ['TRLNFKN128F931BAF2' 'The Tip Of The Iceberg'\n",
            "   '1qdC7FbHeRmfqV4cKj3TeY' ... '0.0141' '0.0489' '0.424']]\n",
            "\n",
            " [['TRDYYKS128F4275626' 'Music Is Happiness' '5eWkKmH4jeQAgq6MQeYvki'\n",
            "   ... '0.735' '0.56' '0.697']\n",
            "  ['TRBHLYP12903D0D107' '4X4' '21SudxOkg2z2LMBrghl7N2' ... '0.106'\n",
            "   '0.145' '0.0832']\n",
            "  ['TRABFDT12903CADD73' 'Up Up & Away' '0InFAWpnO2z5ZcO2zJUtIH' ...\n",
            "   '6e-05' '0.353' '0.573']\n",
            "  ...\n",
            "  ['TROTWMO128F42B9238' 'Iconography' '04gW4W5ziYM3cvdJoDYqQo' ...\n",
            "   '0.909' '0.107' '0.0383']\n",
            "  ['TRJYECB128F4230F29' 'Second Chances' '1WPZR8Kf1w2TsLN7uzG2AM' ...\n",
            "   '0.0436' '0.113' '0.233']\n",
            "  ['TRJLGXB128F93043EA' 'Colourful' '21rILkLpA1vsYZZwN8L72h' ... '0.919'\n",
            "   '0.0737' '0.192']]\n",
            "\n",
            " ...\n",
            "\n",
            " [['TROHXCJ128F935A6AC' 'Idolatress' '1dajdXEFuPNV00wc1CBay8' ...\n",
            "   '0.854' '0.266' '0.0975']\n",
            "  ['TRUMJNK12903CF465A' 'In This Shallow Grave' '2eCKtpNscvI6rP4d5aq8uT'\n",
            "   ... '0.065' '0.101' '0.162']\n",
            "  ['TRXYMSH12903CF4662' 'Rise Of The Tyrant' '2bLWhwXxzWCNsLLPgCMNgT'\n",
            "   ... '0.0375' '0.221' '0.153']\n",
            "  ...\n",
            "  ['TRAXOWS12903CF25DD' 'Hybrids Of Steel' '0FgEyut8axy4XiQefYa3kw' ...\n",
            "   '0.789' '0.0895' '0.277']\n",
            "  ['TRMLTQI128F93115BD' 'Needled 24/7' '0rAWoExDCUNMfp85ZLsv5W' ...\n",
            "   '0.849' '0.292' '0.555']\n",
            "  ['TRBLZCC128F93115C9' \"Lil' Bloodred Ridin' Hood\"\n",
            "   '0ggBoZaiEST2BKxyu2czUR' ... '0.804' '0.615' '0.274']]\n",
            "\n",
            " [['TRZGGHL12903CDBF1F' 'The Dirty Glass' '0GlC0IeWvqlGLVJBuSnDP0' ...\n",
            "   '6.86e-05' '0.893' '0.445']\n",
            "  ['TRCAUIX128F4277AD0' 'The Backseat' '056kHSE2n6cuPBMTA28rIq' ...\n",
            "   '8.63e-06' '0.199' '0.761']\n",
            "  ['TRYIKBI128F426FFF2' 'If I Ever Leave This World Alive'\n",
            "   '0GaDiOQjbBFypX16p7J7hk' ... '6.97e-06' '0.0747' '0.49']\n",
            "  ...\n",
            "  ['TRLUCGR128F4277AC1' \"The '59 Sound\" '16dS04T4heVJ3mDLE9wU31' ...\n",
            "   '0.0' '0.245' '0.609']\n",
            "  ['TRPWHTJ128F4277ACE' \"Meet Me By The River's Edge\"\n",
            "   '0w9w94LLNMdDhKk1hs1xRh' ... '0.0' '0.086' '0.611']\n",
            "  ['TRHSGXW12903CE895F' 'Drunken Lullabies' '0aE8nMLrrd2m6lTscFIbZw' ...\n",
            "   '0.0462' '0.0817' '0.854']]\n",
            "\n",
            " [['TRGPCUN128F1465269' 'Lies of a Lonely Friend'\n",
            "   '0JuJreD6OT0mvQYL4CPIwD' ... '0.00155' '0.108' '0.483']\n",
            "  ['TRHWQQY128F427B6EB' 'Weak And Powerless' '06cK5xod5muGmXJwzA1luy'\n",
            "   ... '0.792' '0.222' '0.125']\n",
            "  ['TRCXQWL128F93492C5' \"Where's The Love\" '1MVKRAYH0KRBqngfto8szW' ...\n",
            "   '3.59e-06' '0.172' '0.607']\n",
            "  ...\n",
            "  ['TRERUDZ128F1465259' 'Keep It Loose, Keep It Tight'\n",
            "   '3aHtYD4JFIoxLhQu0Jo5Bx' ... '0.0' '0.108' '0.24']\n",
            "  ['TRSDQQC128F14856D1' 'Till the Sun Turns Black'\n",
            "   '5okcRF5sFUfbJA2TvDeDQA' ... '0.00943' '0.442' '0.144']\n",
            "  ['TRSEFCM128F429354D' 'Set It Up' '1sF9FiOQivhgedQnS1j3fK' ...\n",
            "   '0.00139' '0.115' '0.116']]]\n"
          ]
        }
      ],
      "source": [
        "arr = []\n",
        "for user_id, playlist in playlist_dict.items():\n",
        "    arr2 = []\n",
        "    for song in playlist:\n",
        "        arr2.append(np.concatenate((song[0:6], song[7:12])))\n",
        "    arr.append(arr2)\n",
        "\n",
        "arr_np = np.array(arr)\n",
        "print(arr_np)"
      ]
    },
    {
      "cell_type": "code",
      "execution_count": 15,
      "metadata": {
        "colab": {
          "base_uri": "https://localhost:8080/",
          "height": 330
        },
        "id": "Q1wUfGNjjire",
        "outputId": "1b26e6b6-f084-4b2e-f834-d726646862a8"
      },
      "outputs": [
        {
          "data": {
            "text/html": [
              "<div>\n",
              "<style scoped>\n",
              "    .dataframe tbody tr th:only-of-type {\n",
              "        vertical-align: middle;\n",
              "    }\n",
              "\n",
              "    .dataframe tbody tr th {\n",
              "        vertical-align: top;\n",
              "    }\n",
              "\n",
              "    .dataframe thead th {\n",
              "        text-align: right;\n",
              "    }\n",
              "</style>\n",
              "<table border=\"1\" class=\"dataframe\">\n",
              "  <thead>\n",
              "    <tr style=\"text-align: right;\">\n",
              "      <th></th>\n",
              "      <th>0</th>\n",
              "      <th>1</th>\n",
              "      <th>2</th>\n",
              "      <th>3</th>\n",
              "      <th>4</th>\n",
              "      <th>5</th>\n",
              "      <th>6</th>\n",
              "      <th>7</th>\n",
              "      <th>8</th>\n",
              "      <th>9</th>\n",
              "      <th>10</th>\n",
              "      <th>11</th>\n",
              "      <th>12</th>\n",
              "      <th>13</th>\n",
              "      <th>14</th>\n",
              "      <th>15</th>\n",
              "      <th>16</th>\n",
              "      <th>17</th>\n",
              "      <th>18</th>\n",
              "      <th>19</th>\n",
              "    </tr>\n",
              "  </thead>\n",
              "  <tbody>\n",
              "    <tr>\n",
              "      <th>0000f88f8d76a238c251450913b0d070e4a77d19</th>\n",
              "      <td>[TRTVXIH128F426625A, Come Round Soon, 0jkVXytW...</td>\n",
              "      <td>[TRWUFEW128F14782F3, Forever My Friend, 0Ev7at...</td>\n",
              "      <td>[TRNXEPE128F9339E47, My Name Is Jonas, 0YU04WS...</td>\n",
              "      <td>[TRMKCCV128F92EB22E, Light On, 1BnoZbPDh9dbYqa...</td>\n",
              "      <td>[TRJGJTH128F4291A81, Oh My God, Whatever, Etc....</td>\n",
              "      <td>[TRFQYFT128F14840BC, Nobody Girl, 2YqjAMK5eeSk...</td>\n",
              "      <td>[TRKSXHR128F1455E4D, Dear Chicago, 2J8P81JjKem...</td>\n",
              "      <td>[TRGJTIY128F4296A0E, All You Need Is Love, 0BW...</td>\n",
              "      <td>[TRZLJOC128F14840BE, Enemy Fire, 13gnIRFWtBQN1...</td>\n",
              "      <td>[TRSMEUG128F14856D2, Within You, 0VRC5T7fDBY1S...</td>\n",
              "      <td>[TRZYESA128F148D67F, Please Do Not Let Me Go, ...</td>\n",
              "      <td>[TRRUNEV128F148D719, Burning Photographs, 2Mco...</td>\n",
              "      <td>[TRDKRLP128F4291A80, Halloweenhead, 04N3X9vfSz...</td>\n",
              "      <td>[TRFTUIW128E0784B9F, Bubble Toes, 1CFwwYZ58s34...</td>\n",
              "      <td>[TRKGCIA128F92C315D, Joe's Head, 0A2BgEzGWU9HB...</td>\n",
              "      <td>[TRFUCYR128F92DC67F, California Waiting, 0txCP...</td>\n",
              "      <td>[TROZZNY128F14782F7, All the Wild Horses, 0FFm...</td>\n",
              "      <td>[TRTWOCA128F14840B8, La Cienega Just Smiled, 0...</td>\n",
              "      <td>[TRQSEMJ128F4294F24, Pearls On A String, 02WVv...</td>\n",
              "      <td>[TRUNKTP12903CD1EFB, Blue Sky, 08SPbOlgCODbnWE...</td>\n",
              "    </tr>\n",
              "    <tr>\n",
              "      <th>0005eb11fd1dad47e6e6719a4db30340073a9e38</th>\n",
              "      <td>[TRGOJNK128F92F2A03, The Technicolor Phase, 27...</td>\n",
              "      <td>[TRQPSHM128F92F29ED, The Airway, 3Cy5wM1kAWdQ3...</td>\n",
              "      <td>[TRTUWMO128F92F2A09, Dear Vienna, 2LBdBoz94BqE...</td>\n",
              "      <td>[TRRNWAK128F92F29FB, Super Honeymoon, 0aMWS9ld...</td>\n",
              "      <td>[TRYEGSH12903CD2DCE, Overboard, 0cfsbkanGUO3yz...</td>\n",
              "      <td>[TRCKWGF12903CD2DCD, Never Let You Go, 7mP4fGw...</td>\n",
              "      <td>[TRNFVQI128F931BAEA, The Saltwater Room, 1eX8F...</td>\n",
              "      <td>[TRTKLFX12903CD2DC2, First Dance, 0OQuXXwwYt2j...</td>\n",
              "      <td>[TRPGPDK12903CCC651, Bring Me To Life, 0rJ8HF2...</td>\n",
              "      <td>[TRJDMHS128F92F2A0C, I'll Meet You There, 2XGM...</td>\n",
              "      <td>[TRLVQME128F931BAF3, Vanilla Twilight, 0hXBVbr...</td>\n",
              "      <td>[TRUGOGT128F92F29E9, Captains and Cruise Ships...</td>\n",
              "      <td>[TRCXWLU128F92F2A0D, This Is The Future, 17jG9...</td>\n",
              "      <td>[TRRVJCK12903CD2DCB, U Smile, 0KDJBhhe2OYnnoJt...</td>\n",
              "      <td>[TRCJAHJ128E07815B6, Stacy's Mom, 0b5Z4MPCgSFm...</td>\n",
              "      <td>[TRPWIGO128F931BAEB, Dental Care, 1IyackM7hvB1...</td>\n",
              "      <td>[TRNEITZ128F92F29EA, Designer Skyline, 30KmLL3...</td>\n",
              "      <td>[TRMIHFS128F92F2A01, Early Birdie, 1TvtrJ6uyfQ...</td>\n",
              "      <td>[TRRLGDR128F933A7C9, Injection, 0it4CBT8IGSbXv...</td>\n",
              "      <td>[TRLNFKN128F931BAF2, The Tip Of The Iceberg, 1...</td>\n",
              "    </tr>\n",
              "    <tr>\n",
              "      <th>000d80cd9b58a8f77b33aa613dcfc5cbf1daf5e8</th>\n",
              "      <td>[TRDYYKS128F4275626, Music Is Happiness, 5eWkK...</td>\n",
              "      <td>[TRBHLYP12903D0D107, 4X4, 21SudxOkg2z2LMBrghl7...</td>\n",
              "      <td>[TRABFDT12903CADD73, Up Up &amp; Away, 0InFAWpnO2z...</td>\n",
              "      <td>[TRLNVSC12903CADD67, Simple As..., 04nE0pNbhPQ...</td>\n",
              "      <td>[TRKOCXI128F9316B54, Harmony One, 1BtLEUri7ROn...</td>\n",
              "      <td>[TRSEFCM128F429354D, Set It Up, 1sF9FiOQivhged...</td>\n",
              "      <td>[TRUWANM128F1485EE2, LDN, 016gjTKLZX8Sgaos4DRq...</td>\n",
              "      <td>[TRXKEMH128F423381D, Superfresh, 0mCoxFFYs0TRZ...</td>\n",
              "      <td>[TREMDON128F427C701, Crimewave (Crystal Castle...</td>\n",
              "      <td>[TRHPKWO128F92E01D5, The Lightning Strike, 1rE...</td>\n",
              "      <td>[TRPONOG128F4275608, The Adjustor, 6sC8fTO6Ja6...</td>\n",
              "      <td>[TRJGDTG128F421CE22, Lights &amp; Music, 0FezhHZVm...</td>\n",
              "      <td>[TROTYPC128E07940AB, Door Peep, 0ceGoYvdbcsRll...</td>\n",
              "      <td>[TRPXIWX128F429831F, One Minute to Midnight, 0...</td>\n",
              "      <td>[TROINZB128F932F740, Crazy in Love, 0klMKiGV38...</td>\n",
              "      <td>[TROUAEG128F429354A, Message Stick, 0jFN4WAx76...</td>\n",
              "      <td>[TRQEBRP12903CADD6C, Sky Might Fall, 2Pq2jkcG8...</td>\n",
              "      <td>[TROTWMO128F42B9238, Iconography, 04gW4W5ziYM3...</td>\n",
              "      <td>[TRJYECB128F4230F29, Second Chances, 1WPZR8Kf1...</td>\n",
              "      <td>[TRJLGXB128F93043EA, Colourful, 21rILkLpA1vsYZ...</td>\n",
              "    </tr>\n",
              "    <tr>\n",
              "      <th>000e9296161b73a1821aaed3d7f50d95e8665bf6</th>\n",
              "      <td>[TROPEIV128F428F5A8, Fatal, 5HeBXKvt8Kc9wY7rrk...</td>\n",
              "      <td>[TRIAZQY128F934D58D, El Pueblo Unido, 6M3ONz42...</td>\n",
              "      <td>[TRMKAZB128F92F2F3E, Can't Keep, 08SE6CEP3gjL9...</td>\n",
              "      <td>[TRPHDFT128F92C5A75, So Com Voce, 1f0V4eqYAmy1...</td>\n",
              "      <td>[TRNXBBR128F425ECE3, We Came Along This Road, ...</td>\n",
              "      <td>[TRKPWGR128E078EE06, Where Did You Sleep Last ...</td>\n",
              "      <td>[TRLPOFY128F425ECE8, Darker With the Day, 1PKj...</td>\n",
              "      <td>[TRCHYZB128F425ECE1, The Sorrowful Wife, 3DFrC...</td>\n",
              "      <td>[TRXEAZB128E078EDCE, Something In The Way, 7hh...</td>\n",
              "      <td>[TRFVSOZ128F4281933, I'm Sleeping in a Submari...</td>\n",
              "      <td>[TRDMUWU128E078EDDB, Dumb, 13noTim30TG19L0rg9f...</td>\n",
              "      <td>[TRDRFVY128F4281937, Headlights Look Like Diam...</td>\n",
              "      <td>[TRIPLBA128F427200F, My Moon My Man, 0Bl1KVabX...</td>\n",
              "      <td>[TRJSAID128F934D596, Beautiful Drug, 50t5tH0xK...</td>\n",
              "      <td>[TRMYAYJ128F934D0AF, Until the Morning, 20F3Fc...</td>\n",
              "      <td>[TRWGIOT128F425ECDE, Sweetheart Come, 0pcV8SPE...</td>\n",
              "      <td>[TRLRCIA128F425ECD7, Fifteen Feet of Pure Whit...</td>\n",
              "      <td>[TRIAGDA128F4296176, Recycled Air, 0k0UEpGDB2x...</td>\n",
              "      <td>[TRIDPWO128F423DBC6, Faust Arp, 5SdmtFbNOD7Qej...</td>\n",
              "      <td>[TRPFLRB128F14A895D, No Cars Go, 0nev4XL4Y6hrD...</td>\n",
              "    </tr>\n",
              "    <tr>\n",
              "      <th>00100482b3f3074549c751e718c57ed211b35991</th>\n",
              "      <td>[TRSNCIW128F14557BC, Col, 4XZ9hQzKr4hUf2IRzwqx...</td>\n",
              "      <td>[TRJKPFL12903CCE490, A Well Deserved Break, 2t...</td>\n",
              "      <td>[TRWJNEC128E079654F, Part of the Process, 06yd...</td>\n",
              "      <td>[TRACWHF128F14557BB, Enjoy The Wait, 03n4bUnpU...</td>\n",
              "      <td>[TRAZCMI128F14557B9, Howling, 2PFP9QAfVE4cmPuS...</td>\n",
              "      <td>[TRUEXGL128F14557BD, Who Can You Trust?, 3e2UE...</td>\n",
              "      <td>[TREECSZ128F14557BE, Almost Done, 13ccsvjo5S9Q...</td>\n",
              "      <td>[TRUAJOJ128F14557B6, Post Houmous, 0BrSfR3QBDY...</td>\n",
              "      <td>[TRASVEM128E0796553, Trigger Hippie, 0oWC3y01a...</td>\n",
              "      <td>[TROXRVT128E079650A, Aqualung, 0NQEKTasUwXVu03...</td>\n",
              "      <td>[TRZJHGG128E079655A, Never An Easy Way, 1c1KOD...</td>\n",
              "      <td>[TRIXKKQ12903CCE495, Coming Down Gently, 1THrj...</td>\n",
              "      <td>[TRORPWW12903CCE48E, Love Is Rare, 07ZOef7Bqy9...</td>\n",
              "      <td>[TRYIASQ128E079650E, Undress Me Now, 2cZu9PrRr...</td>\n",
              "      <td>[TRDNHAW128F429DB9A, The Ballad of Michael Val...</td>\n",
              "      <td>[TRXYEKR128E079654C, Otherwise, 0NTSwjegwCGXjm...</td>\n",
              "      <td>[TRHZMPR128F42A52CB, Challengers, 33ZcFxD1Ohwj...</td>\n",
              "      <td>[TRXZMLY128E0796512, Public Displays of Affect...</td>\n",
              "      <td>[TRJSQQT128F149F9B4, Street Justice, 0lJRL3H6x...</td>\n",
              "      <td>[TRXCZNS128F428A15E, Next To You, 0rUmVbfsJQzW...</td>\n",
              "    </tr>\n",
              "  </tbody>\n",
              "</table>\n",
              "</div>"
            ],
            "text/plain": [
              "                                                                                         0   \\\n",
              "0000f88f8d76a238c251450913b0d070e4a77d19  [TRTVXIH128F426625A, Come Round Soon, 0jkVXytW...   \n",
              "0005eb11fd1dad47e6e6719a4db30340073a9e38  [TRGOJNK128F92F2A03, The Technicolor Phase, 27...   \n",
              "000d80cd9b58a8f77b33aa613dcfc5cbf1daf5e8  [TRDYYKS128F4275626, Music Is Happiness, 5eWkK...   \n",
              "000e9296161b73a1821aaed3d7f50d95e8665bf6  [TROPEIV128F428F5A8, Fatal, 5HeBXKvt8Kc9wY7rrk...   \n",
              "00100482b3f3074549c751e718c57ed211b35991  [TRSNCIW128F14557BC, Col, 4XZ9hQzKr4hUf2IRzwqx...   \n",
              "\n",
              "                                                                                         1   \\\n",
              "0000f88f8d76a238c251450913b0d070e4a77d19  [TRWUFEW128F14782F3, Forever My Friend, 0Ev7at...   \n",
              "0005eb11fd1dad47e6e6719a4db30340073a9e38  [TRQPSHM128F92F29ED, The Airway, 3Cy5wM1kAWdQ3...   \n",
              "000d80cd9b58a8f77b33aa613dcfc5cbf1daf5e8  [TRBHLYP12903D0D107, 4X4, 21SudxOkg2z2LMBrghl7...   \n",
              "000e9296161b73a1821aaed3d7f50d95e8665bf6  [TRIAZQY128F934D58D, El Pueblo Unido, 6M3ONz42...   \n",
              "00100482b3f3074549c751e718c57ed211b35991  [TRJKPFL12903CCE490, A Well Deserved Break, 2t...   \n",
              "\n",
              "                                                                                         2   \\\n",
              "0000f88f8d76a238c251450913b0d070e4a77d19  [TRNXEPE128F9339E47, My Name Is Jonas, 0YU04WS...   \n",
              "0005eb11fd1dad47e6e6719a4db30340073a9e38  [TRTUWMO128F92F2A09, Dear Vienna, 2LBdBoz94BqE...   \n",
              "000d80cd9b58a8f77b33aa613dcfc5cbf1daf5e8  [TRABFDT12903CADD73, Up Up & Away, 0InFAWpnO2z...   \n",
              "000e9296161b73a1821aaed3d7f50d95e8665bf6  [TRMKAZB128F92F2F3E, Can't Keep, 08SE6CEP3gjL9...   \n",
              "00100482b3f3074549c751e718c57ed211b35991  [TRWJNEC128E079654F, Part of the Process, 06yd...   \n",
              "\n",
              "                                                                                         3   \\\n",
              "0000f88f8d76a238c251450913b0d070e4a77d19  [TRMKCCV128F92EB22E, Light On, 1BnoZbPDh9dbYqa...   \n",
              "0005eb11fd1dad47e6e6719a4db30340073a9e38  [TRRNWAK128F92F29FB, Super Honeymoon, 0aMWS9ld...   \n",
              "000d80cd9b58a8f77b33aa613dcfc5cbf1daf5e8  [TRLNVSC12903CADD67, Simple As..., 04nE0pNbhPQ...   \n",
              "000e9296161b73a1821aaed3d7f50d95e8665bf6  [TRPHDFT128F92C5A75, So Com Voce, 1f0V4eqYAmy1...   \n",
              "00100482b3f3074549c751e718c57ed211b35991  [TRACWHF128F14557BB, Enjoy The Wait, 03n4bUnpU...   \n",
              "\n",
              "                                                                                         4   \\\n",
              "0000f88f8d76a238c251450913b0d070e4a77d19  [TRJGJTH128F4291A81, Oh My God, Whatever, Etc....   \n",
              "0005eb11fd1dad47e6e6719a4db30340073a9e38  [TRYEGSH12903CD2DCE, Overboard, 0cfsbkanGUO3yz...   \n",
              "000d80cd9b58a8f77b33aa613dcfc5cbf1daf5e8  [TRKOCXI128F9316B54, Harmony One, 1BtLEUri7ROn...   \n",
              "000e9296161b73a1821aaed3d7f50d95e8665bf6  [TRNXBBR128F425ECE3, We Came Along This Road, ...   \n",
              "00100482b3f3074549c751e718c57ed211b35991  [TRAZCMI128F14557B9, Howling, 2PFP9QAfVE4cmPuS...   \n",
              "\n",
              "                                                                                         5   \\\n",
              "0000f88f8d76a238c251450913b0d070e4a77d19  [TRFQYFT128F14840BC, Nobody Girl, 2YqjAMK5eeSk...   \n",
              "0005eb11fd1dad47e6e6719a4db30340073a9e38  [TRCKWGF12903CD2DCD, Never Let You Go, 7mP4fGw...   \n",
              "000d80cd9b58a8f77b33aa613dcfc5cbf1daf5e8  [TRSEFCM128F429354D, Set It Up, 1sF9FiOQivhged...   \n",
              "000e9296161b73a1821aaed3d7f50d95e8665bf6  [TRKPWGR128E078EE06, Where Did You Sleep Last ...   \n",
              "00100482b3f3074549c751e718c57ed211b35991  [TRUEXGL128F14557BD, Who Can You Trust?, 3e2UE...   \n",
              "\n",
              "                                                                                         6   \\\n",
              "0000f88f8d76a238c251450913b0d070e4a77d19  [TRKSXHR128F1455E4D, Dear Chicago, 2J8P81JjKem...   \n",
              "0005eb11fd1dad47e6e6719a4db30340073a9e38  [TRNFVQI128F931BAEA, The Saltwater Room, 1eX8F...   \n",
              "000d80cd9b58a8f77b33aa613dcfc5cbf1daf5e8  [TRUWANM128F1485EE2, LDN, 016gjTKLZX8Sgaos4DRq...   \n",
              "000e9296161b73a1821aaed3d7f50d95e8665bf6  [TRLPOFY128F425ECE8, Darker With the Day, 1PKj...   \n",
              "00100482b3f3074549c751e718c57ed211b35991  [TREECSZ128F14557BE, Almost Done, 13ccsvjo5S9Q...   \n",
              "\n",
              "                                                                                         7   \\\n",
              "0000f88f8d76a238c251450913b0d070e4a77d19  [TRGJTIY128F4296A0E, All You Need Is Love, 0BW...   \n",
              "0005eb11fd1dad47e6e6719a4db30340073a9e38  [TRTKLFX12903CD2DC2, First Dance, 0OQuXXwwYt2j...   \n",
              "000d80cd9b58a8f77b33aa613dcfc5cbf1daf5e8  [TRXKEMH128F423381D, Superfresh, 0mCoxFFYs0TRZ...   \n",
              "000e9296161b73a1821aaed3d7f50d95e8665bf6  [TRCHYZB128F425ECE1, The Sorrowful Wife, 3DFrC...   \n",
              "00100482b3f3074549c751e718c57ed211b35991  [TRUAJOJ128F14557B6, Post Houmous, 0BrSfR3QBDY...   \n",
              "\n",
              "                                                                                         8   \\\n",
              "0000f88f8d76a238c251450913b0d070e4a77d19  [TRZLJOC128F14840BE, Enemy Fire, 13gnIRFWtBQN1...   \n",
              "0005eb11fd1dad47e6e6719a4db30340073a9e38  [TRPGPDK12903CCC651, Bring Me To Life, 0rJ8HF2...   \n",
              "000d80cd9b58a8f77b33aa613dcfc5cbf1daf5e8  [TREMDON128F427C701, Crimewave (Crystal Castle...   \n",
              "000e9296161b73a1821aaed3d7f50d95e8665bf6  [TRXEAZB128E078EDCE, Something In The Way, 7hh...   \n",
              "00100482b3f3074549c751e718c57ed211b35991  [TRASVEM128E0796553, Trigger Hippie, 0oWC3y01a...   \n",
              "\n",
              "                                                                                         9   \\\n",
              "0000f88f8d76a238c251450913b0d070e4a77d19  [TRSMEUG128F14856D2, Within You, 0VRC5T7fDBY1S...   \n",
              "0005eb11fd1dad47e6e6719a4db30340073a9e38  [TRJDMHS128F92F2A0C, I'll Meet You There, 2XGM...   \n",
              "000d80cd9b58a8f77b33aa613dcfc5cbf1daf5e8  [TRHPKWO128F92E01D5, The Lightning Strike, 1rE...   \n",
              "000e9296161b73a1821aaed3d7f50d95e8665bf6  [TRFVSOZ128F4281933, I'm Sleeping in a Submari...   \n",
              "00100482b3f3074549c751e718c57ed211b35991  [TROXRVT128E079650A, Aqualung, 0NQEKTasUwXVu03...   \n",
              "\n",
              "                                                                                         10  \\\n",
              "0000f88f8d76a238c251450913b0d070e4a77d19  [TRZYESA128F148D67F, Please Do Not Let Me Go, ...   \n",
              "0005eb11fd1dad47e6e6719a4db30340073a9e38  [TRLVQME128F931BAF3, Vanilla Twilight, 0hXBVbr...   \n",
              "000d80cd9b58a8f77b33aa613dcfc5cbf1daf5e8  [TRPONOG128F4275608, The Adjustor, 6sC8fTO6Ja6...   \n",
              "000e9296161b73a1821aaed3d7f50d95e8665bf6  [TRDMUWU128E078EDDB, Dumb, 13noTim30TG19L0rg9f...   \n",
              "00100482b3f3074549c751e718c57ed211b35991  [TRZJHGG128E079655A, Never An Easy Way, 1c1KOD...   \n",
              "\n",
              "                                                                                         11  \\\n",
              "0000f88f8d76a238c251450913b0d070e4a77d19  [TRRUNEV128F148D719, Burning Photographs, 2Mco...   \n",
              "0005eb11fd1dad47e6e6719a4db30340073a9e38  [TRUGOGT128F92F29E9, Captains and Cruise Ships...   \n",
              "000d80cd9b58a8f77b33aa613dcfc5cbf1daf5e8  [TRJGDTG128F421CE22, Lights & Music, 0FezhHZVm...   \n",
              "000e9296161b73a1821aaed3d7f50d95e8665bf6  [TRDRFVY128F4281937, Headlights Look Like Diam...   \n",
              "00100482b3f3074549c751e718c57ed211b35991  [TRIXKKQ12903CCE495, Coming Down Gently, 1THrj...   \n",
              "\n",
              "                                                                                         12  \\\n",
              "0000f88f8d76a238c251450913b0d070e4a77d19  [TRDKRLP128F4291A80, Halloweenhead, 04N3X9vfSz...   \n",
              "0005eb11fd1dad47e6e6719a4db30340073a9e38  [TRCXWLU128F92F2A0D, This Is The Future, 17jG9...   \n",
              "000d80cd9b58a8f77b33aa613dcfc5cbf1daf5e8  [TROTYPC128E07940AB, Door Peep, 0ceGoYvdbcsRll...   \n",
              "000e9296161b73a1821aaed3d7f50d95e8665bf6  [TRIPLBA128F427200F, My Moon My Man, 0Bl1KVabX...   \n",
              "00100482b3f3074549c751e718c57ed211b35991  [TRORPWW12903CCE48E, Love Is Rare, 07ZOef7Bqy9...   \n",
              "\n",
              "                                                                                         13  \\\n",
              "0000f88f8d76a238c251450913b0d070e4a77d19  [TRFTUIW128E0784B9F, Bubble Toes, 1CFwwYZ58s34...   \n",
              "0005eb11fd1dad47e6e6719a4db30340073a9e38  [TRRVJCK12903CD2DCB, U Smile, 0KDJBhhe2OYnnoJt...   \n",
              "000d80cd9b58a8f77b33aa613dcfc5cbf1daf5e8  [TRPXIWX128F429831F, One Minute to Midnight, 0...   \n",
              "000e9296161b73a1821aaed3d7f50d95e8665bf6  [TRJSAID128F934D596, Beautiful Drug, 50t5tH0xK...   \n",
              "00100482b3f3074549c751e718c57ed211b35991  [TRYIASQ128E079650E, Undress Me Now, 2cZu9PrRr...   \n",
              "\n",
              "                                                                                         14  \\\n",
              "0000f88f8d76a238c251450913b0d070e4a77d19  [TRKGCIA128F92C315D, Joe's Head, 0A2BgEzGWU9HB...   \n",
              "0005eb11fd1dad47e6e6719a4db30340073a9e38  [TRCJAHJ128E07815B6, Stacy's Mom, 0b5Z4MPCgSFm...   \n",
              "000d80cd9b58a8f77b33aa613dcfc5cbf1daf5e8  [TROINZB128F932F740, Crazy in Love, 0klMKiGV38...   \n",
              "000e9296161b73a1821aaed3d7f50d95e8665bf6  [TRMYAYJ128F934D0AF, Until the Morning, 20F3Fc...   \n",
              "00100482b3f3074549c751e718c57ed211b35991  [TRDNHAW128F429DB9A, The Ballad of Michael Val...   \n",
              "\n",
              "                                                                                         15  \\\n",
              "0000f88f8d76a238c251450913b0d070e4a77d19  [TRFUCYR128F92DC67F, California Waiting, 0txCP...   \n",
              "0005eb11fd1dad47e6e6719a4db30340073a9e38  [TRPWIGO128F931BAEB, Dental Care, 1IyackM7hvB1...   \n",
              "000d80cd9b58a8f77b33aa613dcfc5cbf1daf5e8  [TROUAEG128F429354A, Message Stick, 0jFN4WAx76...   \n",
              "000e9296161b73a1821aaed3d7f50d95e8665bf6  [TRWGIOT128F425ECDE, Sweetheart Come, 0pcV8SPE...   \n",
              "00100482b3f3074549c751e718c57ed211b35991  [TRXYEKR128E079654C, Otherwise, 0NTSwjegwCGXjm...   \n",
              "\n",
              "                                                                                         16  \\\n",
              "0000f88f8d76a238c251450913b0d070e4a77d19  [TROZZNY128F14782F7, All the Wild Horses, 0FFm...   \n",
              "0005eb11fd1dad47e6e6719a4db30340073a9e38  [TRNEITZ128F92F29EA, Designer Skyline, 30KmLL3...   \n",
              "000d80cd9b58a8f77b33aa613dcfc5cbf1daf5e8  [TRQEBRP12903CADD6C, Sky Might Fall, 2Pq2jkcG8...   \n",
              "000e9296161b73a1821aaed3d7f50d95e8665bf6  [TRLRCIA128F425ECD7, Fifteen Feet of Pure Whit...   \n",
              "00100482b3f3074549c751e718c57ed211b35991  [TRHZMPR128F42A52CB, Challengers, 33ZcFxD1Ohwj...   \n",
              "\n",
              "                                                                                         17  \\\n",
              "0000f88f8d76a238c251450913b0d070e4a77d19  [TRTWOCA128F14840B8, La Cienega Just Smiled, 0...   \n",
              "0005eb11fd1dad47e6e6719a4db30340073a9e38  [TRMIHFS128F92F2A01, Early Birdie, 1TvtrJ6uyfQ...   \n",
              "000d80cd9b58a8f77b33aa613dcfc5cbf1daf5e8  [TROTWMO128F42B9238, Iconography, 04gW4W5ziYM3...   \n",
              "000e9296161b73a1821aaed3d7f50d95e8665bf6  [TRIAGDA128F4296176, Recycled Air, 0k0UEpGDB2x...   \n",
              "00100482b3f3074549c751e718c57ed211b35991  [TRXZMLY128E0796512, Public Displays of Affect...   \n",
              "\n",
              "                                                                                         18  \\\n",
              "0000f88f8d76a238c251450913b0d070e4a77d19  [TRQSEMJ128F4294F24, Pearls On A String, 02WVv...   \n",
              "0005eb11fd1dad47e6e6719a4db30340073a9e38  [TRRLGDR128F933A7C9, Injection, 0it4CBT8IGSbXv...   \n",
              "000d80cd9b58a8f77b33aa613dcfc5cbf1daf5e8  [TRJYECB128F4230F29, Second Chances, 1WPZR8Kf1...   \n",
              "000e9296161b73a1821aaed3d7f50d95e8665bf6  [TRIDPWO128F423DBC6, Faust Arp, 5SdmtFbNOD7Qej...   \n",
              "00100482b3f3074549c751e718c57ed211b35991  [TRJSQQT128F149F9B4, Street Justice, 0lJRL3H6x...   \n",
              "\n",
              "                                                                                         19  \n",
              "0000f88f8d76a238c251450913b0d070e4a77d19  [TRUNKTP12903CD1EFB, Blue Sky, 08SPbOlgCODbnWE...  \n",
              "0005eb11fd1dad47e6e6719a4db30340073a9e38  [TRLNFKN128F931BAF2, The Tip Of The Iceberg, 1...  \n",
              "000d80cd9b58a8f77b33aa613dcfc5cbf1daf5e8  [TRJLGXB128F93043EA, Colourful, 21rILkLpA1vsYZ...  \n",
              "000e9296161b73a1821aaed3d7f50d95e8665bf6  [TRPFLRB128F14A895D, No Cars Go, 0nev4XL4Y6hrD...  \n",
              "00100482b3f3074549c751e718c57ed211b35991  [TRXCZNS128F428A15E, Next To You, 0rUmVbfsJQzW...  "
            ]
          },
          "execution_count": 15,
          "metadata": {},
          "output_type": "execute_result"
        }
      ],
      "source": [
        "playlists = pd.DataFrame.from_dict(playlist_dict, orient='index')\n",
        "playlists.head()"
      ]
    },
    {
      "cell_type": "markdown",
      "metadata": {
        "id": "m0J-pvQ8E9zp"
      },
      "source": [
        "### Train and Test Split"
      ]
    },
    {
      "cell_type": "code",
      "execution_count": 16,
      "metadata": {
        "id": "FslzeUXKE8Sx"
      },
      "outputs": [],
      "source": [
        "# Train and test splits for playlist\n",
        "X = arr_np[:,:-1,:]\n",
        "Y = arr_np[:,1:,:]\n",
        "x_train, x_val, y_train, y_val = train_test_split(X,Y,train_size=0.9,random_state=3000)\n",
        "x_train, x_test, y_train, y_test = train_test_split(x_train,y_train,train_size=0.9,random_state=3000)\n"
      ]
    },
    {
      "cell_type": "code",
      "execution_count": 18,
      "metadata": {
        "colab": {
          "base_uri": "https://localhost:8080/"
        },
        "id": "8oFjddSz9MhU",
        "outputId": "5d9a8909-dcd8-4caf-e473-d38a3a55fa62"
      },
      "outputs": [],
      "source": [
        "# print(x_train.shape)\n",
        "# print(y_train.shape)\n",
        "# print(x_val.shape)\n",
        "# print(y_val.shape)\n",
        "# print(x_test.shape)\n",
        "# print(y_test.shape)\n",
        "\n",
        "# print(x_train[0, :, :])"
      ]
    },
    {
      "cell_type": "code",
      "execution_count": 17,
      "metadata": {
        "id": "vtZ20haq9MhU"
      },
      "outputs": [],
      "source": [
        "# Original Playlists\n",
        "ops_x_train, ops_y_train, ops_x_val, ops_y_val, ops_x_test, ops_y_test = [], [], [], [], [], []\n",
        "\n",
        "# This only works based on size if val and test sets switch in size switch them in these loops\n",
        "for user in range(np.ma.size(x_train, axis=0)):\n",
        "    names_x_train, names_y_train, names_x_val, names_y_val, names_x_test, names_y_test = [], [], [], [], [], []\n",
        "    for song in range(np.ma.size(x_train, axis=1)):\n",
        "        names_x_train.append(x_train[user, song, 0:3])\n",
        "        names_y_train.append(y_train[user, song, 0:3])\n",
        "        try:\n",
        "            names_x_val.append(x_val[user, song, 0:3])\n",
        "            names_y_val.append(y_val[user, song, 0:3])\n",
        "        except IndexError:\n",
        "            continue\n",
        "        try:\n",
        "            names_x_test.append(x_test[user, song, 0:3])\n",
        "            names_y_test.append(y_test[user, song, 0:3])\n",
        "        except IndexError:\n",
        "            continue\n",
        "\n",
        "    ops_x_train.append(names_x_train)\n",
        "    ops_y_train.append(names_y_train)\n",
        "    if not names_x_val:\n",
        "        continue\n",
        "    ops_x_val.append(names_x_val)\n",
        "    ops_y_val.append(names_y_val)\n",
        "    if not names_x_test:\n",
        "        continue\n",
        "    ops_x_test.append(names_x_test)\n",
        "    ops_y_test.append(names_y_test)\n",
        "x_train = x_train[:, :, 3:].astype(np.float64)\n",
        "y_train = y_train[:, :, 3:].astype(np.float64)\n",
        "x_val = x_val[:, :, 3:].astype(np.float64)\n",
        "y_val = y_val[:, :, 3:].astype(np.float64)\n",
        "x_test = x_test[:, :, 3:].astype(np.float64)\n",
        "y_test = y_test[:, :, 3:].astype(np.float64)"
      ]
    },
    {
      "cell_type": "code",
      "execution_count": 20,
      "metadata": {
        "colab": {
          "base_uri": "https://localhost:8080/"
        },
        "id": "x02uagUp9MhU",
        "outputId": "611faa7e-e744-4c82-f4e8-0d7f5d8c63bd"
      },
      "outputs": [],
      "source": [
        "# print(x_train[0, :, :])\n",
        "# print(ops_x_train[0])"
      ]
    },
    {
      "cell_type": "markdown",
      "metadata": {
        "id": "kBA1aMtbOTYj"
      },
      "source": [
        "### Define the Model"
      ]
    },
    {
      "cell_type": "code",
      "execution_count": 18,
      "metadata": {
        "id": "5i9wr7CXFV5-"
      },
      "outputs": [
        {
          "name": "stdout",
          "output_type": "stream",
          "text": [
            "using saved model\n"
          ]
        }
      ],
      "source": [
        "if os.path.exists('misc/mae_optimized_model.keras'):\n",
        "    print(\"using saved model\")\n",
        "    model = load_model('misc/mae_optimized_model.keras')\n",
        "else:\n",
        "    print(\"training model\")\n",
        "    model = Sequential()\n",
        "    model.add(Input(shape=(None,8)))\n",
        "    model.add(SimpleRNN(\n",
        "        16,\n",
        "        activation='linear',\n",
        "        return_sequences=True,\n",
        "        kernel_initializer='random_uniform',\n",
        "    ))\n",
        "    model.add(SimpleRNN(\n",
        "        16,\n",
        "        activation='linear',\n",
        "        return_sequences=True,\n",
        "        kernel_initializer='random_uniform',\n",
        "    ))\n",
        "    model.add(Dense(8, activation='linear', kernel_initializer='random_uniform',))\n",
        "    device = torch.device(\"cuda:0\" if torch.cuda.is_available() else \"cpu\")\n",
        "    print(torch.cuda.get_device_name(0))\n",
        "    \n",
        "    model.compile(loss='mae', optimizer='adam')\n",
        "    model.fit(x_train, y_train, epochs=10, batch_size=32, validation_data=(x_val, y_val))\n",
        "    model.save('misc/mae_optimized_model.keras')"
      ]
    },
    {
      "cell_type": "code",
      "execution_count": 19,
      "metadata": {
        "id": "2t05B8D1uq3I"
      },
      "outputs": [],
      "source": [
        "mae_optimized_model_adam = model"
      ]
    },
    {
      "cell_type": "code",
      "execution_count": 20,
      "metadata": {
        "id": "Z5TojMv4PwJX"
      },
      "outputs": [],
      "source": [
        "def predict_sample(sample,model):\n",
        "    return (model.predict(np.array([sample]))[0,-1])"
      ]
    },
    {
      "cell_type": "markdown",
      "metadata": {
        "id": "dXcH3VfPP_2I"
      },
      "source": [
        "### Run RNN"
      ]
    },
    {
      "cell_type": "code",
      "execution_count": 21,
      "metadata": {
        "colab": {
          "base_uri": "https://localhost:8080/"
        },
        "id": "EUMhBftWQErx",
        "outputId": "6f3130db-49be-48b8-ce16-0aa2b6d41a07"
      },
      "outputs": [
        {
          "name": "stdout",
          "output_type": "stream",
          "text": [
            "Selecting a random index in our test dataset: \n",
            "0\n",
            "Input: \n",
            "[[ 6.4200e-01  8.3500e-01 -4.4440e+00  3.1800e-02  7.6400e-04  1.8400e-06\n",
            "   2.3100e-01  8.1300e-01]\n",
            " [ 5.3000e-01  9.8500e-01 -3.0940e+00  1.3200e-01  9.4300e-03  0.0000e+00\n",
            "   1.7600e-01  6.9800e-01]\n",
            " [ 6.1700e-01  8.8300e-01 -9.0700e+00  5.0300e-02  3.0700e-01  8.6100e-01\n",
            "   9.0700e-02  1.2600e-01]\n",
            " [ 3.6300e-01  9.6800e-01 -4.1940e+00  5.6300e-02  1.3300e-03  0.0000e+00\n",
            "   3.2200e-01  6.8900e-01]\n",
            " [ 5.8700e-01  7.0600e-01 -9.1540e+00  2.0400e-01  7.7700e-01  6.5700e-03\n",
            "   9.2900e-02  7.3300e-01]\n",
            " [ 4.8400e-01  7.2700e-01 -1.1312e+01  5.1300e-02  1.1000e-01  0.0000e+00\n",
            "   1.4600e-01  5.7400e-01]\n",
            " [ 6.4900e-01  4.7800e-01 -1.3628e+01  3.8100e-02  5.1000e-01  1.3400e-04\n",
            "   9.1500e-02  5.7100e-01]\n",
            " [ 7.1800e-01  8.8200e-01 -8.0830e+00  8.5600e-02  3.4300e-03  8.5500e-05\n",
            "   3.1800e-01  7.6300e-01]\n",
            " [ 4.3200e-01  8.9600e-01 -4.3350e+00  9.3100e-02  2.8800e-02  3.1900e-04\n",
            "   1.3100e-01  9.2300e-01]\n",
            " [ 3.7900e-01  9.1300e-01 -7.3570e+00  8.7200e-02  4.2100e-04  1.1600e-01\n",
            "   1.5100e-01  1.0800e-01]\n",
            " [ 6.0900e-01  9.6300e-01 -5.1080e+00  5.2600e-02  7.7200e-04  7.4300e-01\n",
            "   8.2900e-01  9.0500e-01]\n",
            " [ 6.5300e-01  8.6900e-01 -9.3930e+00  2.1700e-01  4.3500e-03  4.1300e-01\n",
            "   3.3400e-01  5.1500e-01]\n",
            " [ 2.4700e-01  7.4900e-01 -5.5420e+00  3.5700e-02  6.4900e-02  8.1800e-02\n",
            "   7.5200e-01  2.3200e-01]\n",
            " [ 3.5800e-01  4.9200e-01 -7.8440e+00  2.9900e-02  5.5200e-01  8.9900e-01\n",
            "   2.3500e-01  6.6600e-02]\n",
            " [ 5.6900e-01  6.4900e-01 -1.3531e+01  5.0900e-02  6.3300e-02  4.9200e-03\n",
            "   3.6400e-01  3.3400e-01]\n",
            " [ 3.8600e-01  8.6400e-01 -4.7760e+00  3.2300e-02  1.3300e-03  5.4000e-05\n",
            "   4.4000e-01  4.1800e-01]\n",
            " [ 3.8100e-01  9.3900e-01 -4.6840e+00  1.2500e-01  4.2000e-02  9.1800e-01\n",
            "   1.7200e-01  3.3500e-01]\n",
            " [ 3.3000e-01  5.2100e-01 -6.6100e+00  3.1300e-02  4.8500e-01  1.8200e-03\n",
            "   2.0100e-01  1.2600e-01]\n",
            " [ 3.8300e-01  9.0700e-01 -5.4090e+00  4.0500e-02  3.1300e-02  0.0000e+00\n",
            "   3.4700e-01  5.1400e-01]]\n",
            "\n",
            " Output: \n",
            "\u001b[1m1/1\u001b[0m \u001b[32m━━━━━━━━━━━━━━━━━━━━\u001b[0m\u001b[37m\u001b[0m \u001b[1m0s\u001b[0m 343ms/step\n",
            "[ 0.48969758  0.7891611  -6.355642    0.05138581  0.05126794  0.01225222\n",
            "  0.1463806   0.41173708]\n"
          ]
        }
      ],
      "source": [
        "print('Selecting a random index in our test dataset: ')\n",
        "# random_index = random.randint(0,len(x_test)-1)\n",
        "random_index = 0\n",
        "print(random_index)\n",
        "\n",
        "print('Input: ')\n",
        "print(x_test[random_index])\n",
        "\n",
        "print('\\n','Output: ')\n",
        "predicted = predict_sample(x_test[random_index], mae_optimized_model_adam)\n",
        "print(predicted)"
      ]
    },
    {
      "cell_type": "code",
      "execution_count": 25,
      "metadata": {
        "id": "9Yo0IlYv9MhW"
      },
      "outputs": [],
      "source": [
        "# np.save('song_embbeding', predicted)"
      ]
    },
    {
      "cell_type": "code",
      "execution_count": 22,
      "metadata": {
        "colab": {
          "base_uri": "https://localhost:8080/",
          "height": 206
        },
        "id": "TVvuK3Ah9MhW",
        "outputId": "95feb791-01e0-4d22-dfb3-713724f18a59"
      },
      "outputs": [
        {
          "data": {
            "text/html": [
              "<div>\n",
              "<style scoped>\n",
              "    .dataframe tbody tr th:only-of-type {\n",
              "        vertical-align: middle;\n",
              "    }\n",
              "\n",
              "    .dataframe tbody tr th {\n",
              "        vertical-align: top;\n",
              "    }\n",
              "\n",
              "    .dataframe thead th {\n",
              "        text-align: right;\n",
              "    }\n",
              "</style>\n",
              "<table border=\"1\" class=\"dataframe\">\n",
              "  <thead>\n",
              "    <tr style=\"text-align: right;\">\n",
              "      <th></th>\n",
              "      <th>track_id</th>\n",
              "      <th>name</th>\n",
              "      <th>spotify_id</th>\n",
              "      <th>danceability</th>\n",
              "      <th>energy</th>\n",
              "      <th>loudness</th>\n",
              "      <th>speechiness</th>\n",
              "      <th>acousticness</th>\n",
              "      <th>instrumentalness</th>\n",
              "      <th>liveness</th>\n",
              "      <th>valence</th>\n",
              "    </tr>\n",
              "  </thead>\n",
              "  <tbody>\n",
              "    <tr>\n",
              "      <th>306346</th>\n",
              "      <td>TRTVXIH128F426625A</td>\n",
              "      <td>Come Round Soon</td>\n",
              "      <td>0jkVXytWSisMUtrBEej9mi</td>\n",
              "      <td>0.338</td>\n",
              "      <td>0.819</td>\n",
              "      <td>-4.495</td>\n",
              "      <td>0.0776</td>\n",
              "      <td>0.077700</td>\n",
              "      <td>0.00000</td>\n",
              "      <td>0.159</td>\n",
              "      <td>0.545</td>\n",
              "    </tr>\n",
              "    <tr>\n",
              "      <th>417455</th>\n",
              "      <td>TRWUFEW128F14782F3</td>\n",
              "      <td>Forever My Friend</td>\n",
              "      <td>0Ev7atdl0qS2n39OO7051O</td>\n",
              "      <td>0.493</td>\n",
              "      <td>0.524</td>\n",
              "      <td>-13.553</td>\n",
              "      <td>0.0423</td>\n",
              "      <td>0.334000</td>\n",
              "      <td>0.01410</td>\n",
              "      <td>0.357</td>\n",
              "      <td>0.379</td>\n",
              "    </tr>\n",
              "    <tr>\n",
              "      <th>32466</th>\n",
              "      <td>TRNXEPE128F9339E47</td>\n",
              "      <td>My Name Is Jonas</td>\n",
              "      <td>0YU04WSkTVomRgeDOWlEzX</td>\n",
              "      <td>0.261</td>\n",
              "      <td>0.947</td>\n",
              "      <td>-3.031</td>\n",
              "      <td>0.0488</td>\n",
              "      <td>0.000197</td>\n",
              "      <td>0.00332</td>\n",
              "      <td>0.310</td>\n",
              "      <td>0.550</td>\n",
              "    </tr>\n",
              "    <tr>\n",
              "      <th>698954</th>\n",
              "      <td>TRMKCCV128F92EB22E</td>\n",
              "      <td>Light On</td>\n",
              "      <td>1BnoZbPDh9dbYqabvM6qZg</td>\n",
              "      <td>0.448</td>\n",
              "      <td>0.830</td>\n",
              "      <td>-4.156</td>\n",
              "      <td>0.0332</td>\n",
              "      <td>0.067300</td>\n",
              "      <td>0.00000</td>\n",
              "      <td>0.113</td>\n",
              "      <td>0.362</td>\n",
              "    </tr>\n",
              "    <tr>\n",
              "      <th>227171</th>\n",
              "      <td>TRJGJTH128F4291A81</td>\n",
              "      <td>Oh My God, Whatever, Etc.</td>\n",
              "      <td>0sUzPqm1gdsabzX5htMvf7</td>\n",
              "      <td>0.572</td>\n",
              "      <td>0.395</td>\n",
              "      <td>-10.630</td>\n",
              "      <td>0.0304</td>\n",
              "      <td>0.700000</td>\n",
              "      <td>0.00025</td>\n",
              "      <td>0.126</td>\n",
              "      <td>0.483</td>\n",
              "    </tr>\n",
              "  </tbody>\n",
              "</table>\n",
              "</div>"
            ],
            "text/plain": [
              "                  track_id                       name              spotify_id  \\\n",
              "306346  TRTVXIH128F426625A            Come Round Soon  0jkVXytWSisMUtrBEej9mi   \n",
              "417455  TRWUFEW128F14782F3          Forever My Friend  0Ev7atdl0qS2n39OO7051O   \n",
              "32466   TRNXEPE128F9339E47           My Name Is Jonas  0YU04WSkTVomRgeDOWlEzX   \n",
              "698954  TRMKCCV128F92EB22E                   Light On  1BnoZbPDh9dbYqabvM6qZg   \n",
              "227171  TRJGJTH128F4291A81  Oh My God, Whatever, Etc.  0sUzPqm1gdsabzX5htMvf7   \n",
              "\n",
              "        danceability  energy  loudness  speechiness  acousticness  \\\n",
              "306346         0.338   0.819    -4.495       0.0776      0.077700   \n",
              "417455         0.493   0.524   -13.553       0.0423      0.334000   \n",
              "32466          0.261   0.947    -3.031       0.0488      0.000197   \n",
              "698954         0.448   0.830    -4.156       0.0332      0.067300   \n",
              "227171         0.572   0.395   -10.630       0.0304      0.700000   \n",
              "\n",
              "        instrumentalness  liveness  valence  \n",
              "306346           0.00000     0.159    0.545  \n",
              "417455           0.01410     0.357    0.379  \n",
              "32466            0.00332     0.310    0.550  \n",
              "698954           0.00000     0.113    0.362  \n",
              "227171           0.00025     0.126    0.483  "
            ]
          },
          "execution_count": 22,
          "metadata": {},
          "output_type": "execute_result"
        }
      ],
      "source": [
        "distance_frame = data.drop(['artist','tags','tempo','duration_mins','user_id','playcount','mode'], axis=1)\n",
        "distance_frame.head()"
      ]
    },
    {
      "cell_type": "code",
      "execution_count": 23,
      "metadata": {
        "colab": {
          "base_uri": "https://localhost:8080/"
        },
        "id": "FWxHUaRZ9Mhb",
        "outputId": "0807dca9-e2fd-4a5c-c395-a09e8d12920b"
      },
      "outputs": [
        {
          "data": {
            "text/plain": [
              "23584"
            ]
          },
          "execution_count": 23,
          "metadata": {},
          "output_type": "execute_result"
        }
      ],
      "source": [
        "distance_frame.drop_duplicates(subset='track_id', keep='first', inplace=True)\n",
        "distance_frame.track_id.nunique()"
      ]
    },
    {
      "cell_type": "code",
      "execution_count": 24,
      "metadata": {
        "id": "cr_z6inG9Mhb"
      },
      "outputs": [],
      "source": [
        "def get_distances(data, p_vector):\n",
        "    names = data['name']\n",
        "    distance_frame = data.drop(['name', 'spotify_id'], axis=1)\n",
        "    distance_dict = distance_frame.set_index(['track_id']).to_dict('index')\n",
        "    for key in distance_dict:\n",
        "        distance_dict[key] = list(distance_dict[key].values())\n",
        "    distance_dict = distance_calc(distance_dict, p_vector, names)\n",
        "    return pd.DataFrame.from_dict(distance_dict, orient='index', columns=['id', 'distance'])\n",
        "\n",
        "def distance_calc(dict, v1, name_list):\n",
        "    distances = {}\n",
        "    i = 0\n",
        "    name_list = name_list.to_list()\n",
        "    for id in dict.keys():\n",
        "        v2 = dict[id]\n",
        "        value = 0.0\n",
        "        for n in range(len(v1)):\n",
        "            value += np.linalg.norm(v1[n] - v2[n])\n",
        "        distances[name_list[i]] = (id, value)\n",
        "        i += 1\n",
        "    return distances\n",
        "\n",
        "distance_frame2 = get_distances(distance_frame, predicted)\n"
      ]
    },
    {
      "cell_type": "code",
      "execution_count": 63,
      "metadata": {
        "colab": {
          "base_uri": "https://localhost:8080/",
          "height": 693
        },
        "id": "q7kNPAGv9Mhb",
        "outputId": "f29ac793-2229-4fbb-b38e-950c991739b3"
      },
      "outputs": [],
      "source": [
        "POTENTIAL_N = 10 #defines size 50\n",
        "\n",
        "potential_songs = distance_frame2.nsmallest(POTENTIAL_N, columns='distance', keep='all')\n",
        "# potential_songs = distance_frame2.sample(POTENTIAL_N) #distance_frame2.nsmallest(POTENTIAL_N, columns='distance', keep='all')\n",
        "# print(potential_songs.shape)"
      ]
    },
    {
      "cell_type": "code",
      "execution_count": 30,
      "metadata": {
        "colab": {
          "base_uri": "https://localhost:8080/"
        },
        "id": "Dwep2SBu9Mhc",
        "outputId": "62b0b115-c320-4c09-ae65-525003eea2ee"
      },
      "outputs": [
        {
          "name": "stdout",
          "output_type": "stream",
          "text": [
            "[[['TRAVRKY128F429EA68' 'Loose Translation' '5Qu79Xa89JOQyZgMKWYtRk']\n",
            "  ['TRBJRZH128F429EA62' 'The Electric Version' '1n0tppeA8MEOVtckhUMnmL']\n",
            "  ['TRNJLKP128F427CE28' 'Aerodynamic' '168MSP7Cpz7uKGt5Qd9F16']\n",
            "  ...\n",
            "  ['TRHRFIN128F425DEF1' '4th Dimensional Transition'\n",
            "   '14Hlfk7LY4TOw450LaVteS']\n",
            "  ['TRFUIGN128F92FE2C4' 'Sea Song' '0uoM5QDvJBPu6MGrtbw0gP']\n",
            "  ['TRAALAH128E078234A' 'Bitter Sweet Symphony' '0jLnevC3Vn34qVWrAa4X6x']]\n",
            "\n",
            " [['TRVANOX128F92FA7F4' 'Kindly Unspoken' '2OjvaNkWd0WMJSXybZcSN3']\n",
            "  ['TRGCHLH12903CB7352' 'Party In The U.S.A.' '0bz2Uy1KE7bNGsGQU9pZrU']\n",
            "  ['TRAGSGF128E0780CA7' 'One I Love' '5YahO7aySL2lyj6DW2tS9q']\n",
            "  ...\n",
            "  ['TRKJYHD128F931FB01' 'Gonna Get Caught' '3Ep2KFN6dNTJOiq2chORs2']\n",
            "  ['TRARMHA128F92E7D32' \"I'm Not a Loser\" '1lpQGVYtbGHCGlFbwKI7yE']\n",
            "  ['TRZALGW128F4296174' 'Nothing Better' '5innFMtY3a7f2PvUZsfCWQ']]\n",
            "\n",
            " [['TRBCALP128F933905E' 'Brooklyn Bound' '3Ui3JTqJosT2MqvC9UBLwW']\n",
            "  ['TREYXVK12903CB4503' 'The Desperate Man' '22B5LxWF4DIjwhlyQq5qOl']\n",
            "  ['TRIEBEZ128F9340B0B' \"Just Couldn't Tie Me Down\"\n",
            "   '0oFyAxKySAiopcf7ONngxA']\n",
            "  ...\n",
            "  ['TRCDCYO128F4276DF3' \"Ain't Wastin' Time No More\"\n",
            "   '0BSJiicnQtDB4tMMYCfNDB']\n",
            "  ['TRSIDGD128F92E3334' 'Soul Singing' '00xZWfZIuZITPBnBRnZJ0m']\n",
            "  ['TRDFBPD12903CA9CF3' 'Your Touch' '1ot8juPYjJZMRVVJuNKvl8']]\n",
            "\n",
            " ...\n",
            "\n",
            " [['TRRGKHJ128F92F64DA' 'Wake Up Alone' '0Ekcj8E3l9na7G5lXwRHM1']\n",
            "  ['TROKFWT128F1461F0B' 'We Danced Anyway' '0uxkdxYnM9j4pPVgYZgWhT']\n",
            "  ['TRCPXID128F92D5D3C' 'Halo' '0Ti7ZxvgWq74Ls56vYP3Ov']\n",
            "  ...\n",
            "  ['TRDHBPQ128F425EA1E' 'Bleeding Love' '00rjh2BKthoILRIEV7lJ65']\n",
            "  ['TRERUDZ128F1465259' 'Keep It Loose, Keep It Tight'\n",
            "   '3aHtYD4JFIoxLhQu0Jo5Bx']\n",
            "  ['TRQTFUV128F426BFC7' \"Must Be Doin' Somethin' Right\"\n",
            "   '011IpMbLIddCWJoBZm7ISt']]\n",
            "\n",
            " [['TRMAQWJ128F427EC70' 'Bury Me With It' '07oylHqeWc0nveqUebEvOm']\n",
            "  ['TRBCOXO128F93586BB' 'Chac Mool' '03gezS0ZUd1EP7LpnqFn8C']\n",
            "  ['TRBDCVK128F4234243' 'Gunpowder' '0EQynTyzzOSrxUoEhzDEWD']\n",
            "  ...\n",
            "  ['TRJHTBA128F93586B1' 'Triveni' '0doSkjprUJWe86NZt7N5kP']\n",
            "  ['TRCVJRD128F93586B7' 'Savitri' '0Cvsn2DTJjbWU3NoGb4Etv']\n",
            "  ['TRBLOBX128F423EC8D' 'Darkness Before Dawn' '09lbumLoZS0T3cWOWwEmfF']]\n",
            "\n",
            " [['TRZNGII128C7196554' 'You Sent Me Flying / Cherry'\n",
            "   '1XrXgEAB61XOytKANGfeA5']\n",
            "  ['TRZIVHZ128F1465262' 'Soul Suckers' '1NjixXlQH1YhV4s5c3kBeN']\n",
            "  ['TRAECHJ12903CC36DA' 'Next Girl' '0LMbqdeLFpQXhjC5mMVfdr']\n",
            "  ...\n",
            "  ['TRSZPYT128EF351C53' 'Happiness By The Kilowatt'\n",
            "   '0oN33dlI6ikPYQpgVtRa2L']\n",
            "  ['TRMZPXZ128F92F3495' 'Angel From Montgomery' '07lbb0Ve9LNKv4ifj5E8q8']\n",
            "  ['TRONYHY128F92C9D11' 'Revelry' '039Q3UlFQ6kavVIZHpO4mL']]]\n"
          ]
        }
      ],
      "source": [
        "test_playlists = np.asarray(ops_x_test)\n",
        "print(test_playlists)\n",
        "np.save('misc/test_playlists.npy', test_playlists)"
      ]
    },
    {
      "cell_type": "code",
      "execution_count": 31,
      "metadata": {},
      "outputs": [
        {
          "name": "stdout",
          "output_type": "stream",
          "text": [
            "[array(['TRAVRKY128F429EA68', 'Loose Translation',\n",
            "       '5Qu79Xa89JOQyZgMKWYtRk'], dtype='<U109'), array(['TRBJRZH128F429EA62', 'The Electric Version',\n",
            "       '1n0tppeA8MEOVtckhUMnmL'], dtype='<U109'), array(['TRNJLKP128F427CE28', 'Aerodynamic', '168MSP7Cpz7uKGt5Qd9F16'],\n",
            "      dtype='<U109'), array(['TRAEUFF128F424EAAF', \"I've Underestimated My Charm (Again)\",\n",
            "       '0gv6qCVLKKRIFaR4OC3cGh'], dtype='<U109'), array(['TRRYMIR128F9354778', 'Via con me', '053MPrQZlf9X4KYmcJ4vsd'],\n",
            "      dtype='<U109'), array(['TRMGOFF128F1458362', 'Wild Frontier', '0mBdiyULKljvBLVsrS6gfp'],\n",
            "      dtype='<U109'), array(['TRDJQLI128E07917C7', \"Rikki Don't Lose That Number\",\n",
            "       '028NYvJAD47k4iGSlpT2zy'], dtype='<U109'), array(['TRYATJD128F92FDB02', 'Hazy Shade Of Winter',\n",
            "       '0AJTCza5wu1jZ6aWNoZXRT'], dtype='<U109'), array(['TRXAVEU128E078D3CD', 'Oh, Goddamnit', '1KF1b9bbBYImNnC3YO2GG4'],\n",
            "      dtype='<U109'), array(['TRAFUNV128F92CFEB2', 'MIA', '2hxweZgog2IrkKP86KGATI'],\n",
            "      dtype='<U109'), array(['TRSSQIX128F4226B55', 'My Friend Dario', '1cOCuk6LQyrELA3hfHoams'],\n",
            "      dtype='<U109'), array(['TRISTWT128F1488FBB', 'High Life', '098ttCNmncrO4YvqWUNMvn'],\n",
            "      dtype='<U109'), array(['TRQWUUG128F1485DAB', \"Don't Know What You Got (Till It's Gone)\",\n",
            "       '02inbOlZndnAM99BeRvxd9'], dtype='<U109'), array(['TRIPSQP12903CE450C', \"Lady Dada's Nightmare\",\n",
            "       '0XwfkoJnGpRw7y3s0fWxaO'], dtype='<U109'), array(['TRCESGY128E0780E09', 'Breakthru', '0PesritaDvkWORoHQJmP3z'],\n",
            "      dtype='<U109'), array(['TRNQUIT128F428A0BD', \"Time Won't Let Me Go\",\n",
            "       '12d7zOCGENeo5v2XF295sA'], dtype='<U109'), array(['TRHRFIN128F425DEF1', '4th Dimensional Transition',\n",
            "       '14Hlfk7LY4TOw450LaVteS'], dtype='<U109'), array(['TRFUIGN128F92FE2C4', 'Sea Song', '0uoM5QDvJBPu6MGrtbw0gP'],\n",
            "      dtype='<U109'), array(['TRAALAH128E078234A', 'Bitter Sweet Symphony',\n",
            "       '0jLnevC3Vn34qVWrAa4X6x'], dtype='<U109')]\n"
          ]
        }
      ],
      "source": [
        "print(ops_x_test[0])"
      ]
    },
    {
      "cell_type": "code",
      "execution_count": 32,
      "metadata": {},
      "outputs": [],
      "source": [
        "lyrics_embeddings_csv = pd.read_csv('misc/lyrics_embeddings.csv')\n",
        "lyrics_embeddings_3d_csv = pd.read_csv('misc/lyrics_embeddings_3d.csv')"
      ]
    },
    {
      "cell_type": "code",
      "execution_count": 33,
      "metadata": {},
      "outputs": [
        {
          "name": "stderr",
          "output_type": "stream",
          "text": [
            "C:\\Users\\cam-m\\AppData\\Local\\Temp\\ipykernel_53724\\1601597408.py:4: FutureWarning: Series.__getitem__ treating keys as positions is deprecated. In a future version, integer keys will always be treated as labels (consistent with DataFrame behavior). To access a value by position, use `ser.iloc[pos]`\n",
            "  lyrics_embeddings[row[0]] = np.array(row[1:])\n",
            "C:\\Users\\cam-m\\AppData\\Local\\Temp\\ipykernel_53724\\1601597408.py:7: FutureWarning: Series.__getitem__ treating keys as positions is deprecated. In a future version, integer keys will always be treated as labels (consistent with DataFrame behavior). To access a value by position, use `ser.iloc[pos]`\n",
            "  lyrics_embeddings_3d[row[0]] = np.array(row[1:])\n"
          ]
        }
      ],
      "source": [
        "lyrics_embeddings = dict()\n",
        "lyrics_embeddings_3d  = dict()\n",
        "for idx, row in lyrics_embeddings_csv.iterrows():\n",
        "    lyrics_embeddings[row[0]] = np.array(row[1:])\n",
        "\n",
        "for idx, row in lyrics_embeddings_3d_csv.iterrows():\n",
        "    lyrics_embeddings_3d[row[0]] = np.array(row[1:])\n"
      ]
    },
    {
      "cell_type": "code",
      "execution_count": 36,
      "metadata": {},
      "outputs": [
        {
          "data": {
            "text/plain": [
              "29"
            ]
          },
          "execution_count": 36,
          "metadata": {},
          "output_type": "execute_result"
        }
      ],
      "source": [
        "candidates = dict()\n",
        "rnn_track_ids = []\n",
        "for track in ops_x_test[random_index]:\n",
        "    rnn_track_ids.append(track[0])\n",
        "    candidates[track[0]] = lyrics_embeddings_3d[track[0]]\n",
        "\n",
        "cutoff = len(candidates)\n",
        "\n",
        "for idx, row in potential_songs.head(100).iterrows():\n",
        "    candidates[row['id']] = lyrics_embeddings_3d[row['id']]\n",
        "\n",
        "len(candidates)"
      ]
    },
    {
      "cell_type": "code",
      "execution_count": 35,
      "metadata": {},
      "outputs": [],
      "source": [
        "# For reducing dimensions of the embeddings\n",
        "raw_embeddings = np.concatenate(list(lyrics_embeddings.values())).reshape(len(lyrics_embeddings), 768)\n",
        "track_ids = list(lyrics_embeddings.keys())\n",
        "dim_model = PCA(n_components=150, random_state=42)\n",
        "dim_model.fit(raw_embeddings)\n",
        "reduced_embeddings = dim_model.transform(raw_embeddings)\n",
        "reduced_embeddings_dict = {track_ids[i]: reduced_embeddings[i] for i in range(len(track_ids))}\n",
        "\n",
        "og_embeddings = np.array([reduced_embeddings_dict[track_id] for track_id in rnn_track_ids])"
      ]
    },
    {
      "cell_type": "markdown",
      "metadata": {},
      "source": [
        "At this stage, we must compare the embeddings in the predicted list against those in the original input list and find the best candidates\n",
        "### Cosine Similarity"
      ]
    },
    {
      "cell_type": "code",
      "execution_count": 36,
      "metadata": {},
      "outputs": [
        {
          "data": {
            "text/html": [
              "<div>\n",
              "<style scoped>\n",
              "    .dataframe tbody tr th:only-of-type {\n",
              "        vertical-align: middle;\n",
              "    }\n",
              "\n",
              "    .dataframe tbody tr th {\n",
              "        vertical-align: top;\n",
              "    }\n",
              "\n",
              "    .dataframe thead th {\n",
              "        text-align: right;\n",
              "    }\n",
              "</style>\n",
              "<table border=\"1\" class=\"dataframe\">\n",
              "  <thead>\n",
              "    <tr style=\"text-align: right;\">\n",
              "      <th></th>\n",
              "      <th>id</th>\n",
              "      <th>distance</th>\n",
              "    </tr>\n",
              "  </thead>\n",
              "  <tbody>\n",
              "    <tr>\n",
              "      <th>Drumbone</th>\n",
              "      <td>TRPJZMZ128F146A476</td>\n",
              "      <td>5.469212</td>\n",
              "    </tr>\n",
              "    <tr>\n",
              "      <th>Sycamore</th>\n",
              "      <td>TRKVLFV128F9316659</td>\n",
              "      <td>3.977861</td>\n",
              "    </tr>\n",
              "    <tr>\n",
              "      <th>Back From Space</th>\n",
              "      <td>TRLGZAI128F931A62E</td>\n",
              "      <td>6.566860</td>\n",
              "    </tr>\n",
              "    <tr>\n",
              "      <th>Song For Mary</th>\n",
              "      <td>TRDUQNA12903D0D68F</td>\n",
              "      <td>3.235476</td>\n",
              "    </tr>\n",
              "    <tr>\n",
              "      <th>Toast &amp; Bananas</th>\n",
              "      <td>TRTSGYX128F428ECC6</td>\n",
              "      <td>1.553711</td>\n",
              "    </tr>\n",
              "    <tr>\n",
              "      <th>The Fun Lovin' Criminal</th>\n",
              "      <td>TROWXJW128F14682FA</td>\n",
              "      <td>2.129430</td>\n",
              "    </tr>\n",
              "    <tr>\n",
              "      <th>Berghain</th>\n",
              "      <td>TRUPCJU128F92C4BDB</td>\n",
              "      <td>5.688681</td>\n",
              "    </tr>\n",
              "    <tr>\n",
              "      <th>So Vast as the Sky</th>\n",
              "      <td>TRXMIVE128F423F079</td>\n",
              "      <td>8.889943</td>\n",
              "    </tr>\n",
              "    <tr>\n",
              "      <th>Adagio For Strings</th>\n",
              "      <td>TRJNHPN128F92EF139</td>\n",
              "      <td>14.988442</td>\n",
              "    </tr>\n",
              "    <tr>\n",
              "      <th>This Is Really Testing The Patience I've Never Had</th>\n",
              "      <td>TRPPEVN128F149F0CF</td>\n",
              "      <td>3.077407</td>\n",
              "    </tr>\n",
              "  </tbody>\n",
              "</table>\n",
              "</div>"
            ],
            "text/plain": [
              "                                                                    id  \\\n",
              "Drumbone                                            TRPJZMZ128F146A476   \n",
              "Sycamore                                            TRKVLFV128F9316659   \n",
              "Back From Space                                     TRLGZAI128F931A62E   \n",
              "Song For Mary                                       TRDUQNA12903D0D68F   \n",
              "Toast & Bananas                                     TRTSGYX128F428ECC6   \n",
              "The Fun Lovin' Criminal                             TROWXJW128F14682FA   \n",
              "Berghain                                            TRUPCJU128F92C4BDB   \n",
              "So Vast as the Sky                                  TRXMIVE128F423F079   \n",
              "Adagio For Strings                                  TRJNHPN128F92EF139   \n",
              "This Is Really Testing The Patience I've Never Had  TRPPEVN128F149F0CF   \n",
              "\n",
              "                                                     distance  \n",
              "Drumbone                                             5.469212  \n",
              "Sycamore                                             3.977861  \n",
              "Back From Space                                      6.566860  \n",
              "Song For Mary                                        3.235476  \n",
              "Toast & Bananas                                      1.553711  \n",
              "The Fun Lovin' Criminal                              2.129430  \n",
              "Berghain                                             5.688681  \n",
              "So Vast as the Sky                                   8.889943  \n",
              "Adagio For Strings                                  14.988442  \n",
              "This Is Really Testing The Patience I've Never Had   3.077407  "
            ]
          },
          "execution_count": 36,
          "metadata": {},
          "output_type": "execute_result"
        }
      ],
      "source": [
        "similarities = list()\n",
        "\n",
        "for track_id in potential_songs['id']:\n",
        "\n",
        "    candidate_embedding = reduced_embeddings_dict[track_id].reshape(1, -1)\n",
        "    similarity = cosine_similarity(candidate_embedding, og_embeddings)\n",
        "    similarities.append(np.mean(similarity))\n",
        "\n",
        "similarities = np.array(similarities)\n",
        "most_similar_indices = np.argsort(similarities)[::-1]\n",
        "selected_songs_cs = potential_songs.iloc[most_similar_indices[:10]]\n",
        "selected_songs_cs"
      ]
    },
    {
      "cell_type": "markdown",
      "metadata": {},
      "source": [
        "### Pairwise Distances"
      ]
    },
    {
      "cell_type": "code",
      "execution_count": 37,
      "metadata": {},
      "outputs": [
        {
          "data": {
            "text/html": [
              "<div>\n",
              "<style scoped>\n",
              "    .dataframe tbody tr th:only-of-type {\n",
              "        vertical-align: middle;\n",
              "    }\n",
              "\n",
              "    .dataframe tbody tr th {\n",
              "        vertical-align: top;\n",
              "    }\n",
              "\n",
              "    .dataframe thead th {\n",
              "        text-align: right;\n",
              "    }\n",
              "</style>\n",
              "<table border=\"1\" class=\"dataframe\">\n",
              "  <thead>\n",
              "    <tr style=\"text-align: right;\">\n",
              "      <th></th>\n",
              "      <th>id</th>\n",
              "      <th>distance</th>\n",
              "    </tr>\n",
              "  </thead>\n",
              "  <tbody>\n",
              "    <tr>\n",
              "      <th>This Is Really Testing The Patience I've Never Had</th>\n",
              "      <td>TRPPEVN128F149F0CF</td>\n",
              "      <td>3.077407</td>\n",
              "    </tr>\n",
              "    <tr>\n",
              "      <th>Adagio For Strings</th>\n",
              "      <td>TRJNHPN128F92EF139</td>\n",
              "      <td>14.988442</td>\n",
              "    </tr>\n",
              "    <tr>\n",
              "      <th>The Fun Lovin' Criminal</th>\n",
              "      <td>TROWXJW128F14682FA</td>\n",
              "      <td>2.129430</td>\n",
              "    </tr>\n",
              "    <tr>\n",
              "      <th>Toast &amp; Bananas</th>\n",
              "      <td>TRTSGYX128F428ECC6</td>\n",
              "      <td>1.553711</td>\n",
              "    </tr>\n",
              "    <tr>\n",
              "      <th>Song For Mary</th>\n",
              "      <td>TRDUQNA12903D0D68F</td>\n",
              "      <td>3.235476</td>\n",
              "    </tr>\n",
              "    <tr>\n",
              "      <th>So Vast as the Sky</th>\n",
              "      <td>TRXMIVE128F423F079</td>\n",
              "      <td>8.889943</td>\n",
              "    </tr>\n",
              "    <tr>\n",
              "      <th>Berghain</th>\n",
              "      <td>TRUPCJU128F92C4BDB</td>\n",
              "      <td>5.688681</td>\n",
              "    </tr>\n",
              "    <tr>\n",
              "      <th>Back From Space</th>\n",
              "      <td>TRLGZAI128F931A62E</td>\n",
              "      <td>6.566860</td>\n",
              "    </tr>\n",
              "    <tr>\n",
              "      <th>Sycamore</th>\n",
              "      <td>TRKVLFV128F9316659</td>\n",
              "      <td>3.977861</td>\n",
              "    </tr>\n",
              "    <tr>\n",
              "      <th>Drumbone</th>\n",
              "      <td>TRPJZMZ128F146A476</td>\n",
              "      <td>5.469212</td>\n",
              "    </tr>\n",
              "  </tbody>\n",
              "</table>\n",
              "</div>"
            ],
            "text/plain": [
              "                                                                    id  \\\n",
              "This Is Really Testing The Patience I've Never Had  TRPPEVN128F149F0CF   \n",
              "Adagio For Strings                                  TRJNHPN128F92EF139   \n",
              "The Fun Lovin' Criminal                             TROWXJW128F14682FA   \n",
              "Toast & Bananas                                     TRTSGYX128F428ECC6   \n",
              "Song For Mary                                       TRDUQNA12903D0D68F   \n",
              "So Vast as the Sky                                  TRXMIVE128F423F079   \n",
              "Berghain                                            TRUPCJU128F92C4BDB   \n",
              "Back From Space                                     TRLGZAI128F931A62E   \n",
              "Sycamore                                            TRKVLFV128F9316659   \n",
              "Drumbone                                            TRPJZMZ128F146A476   \n",
              "\n",
              "                                                     distance  \n",
              "This Is Really Testing The Patience I've Never Had   3.077407  \n",
              "Adagio For Strings                                  14.988442  \n",
              "The Fun Lovin' Criminal                              2.129430  \n",
              "Toast & Bananas                                      1.553711  \n",
              "Song For Mary                                        3.235476  \n",
              "So Vast as the Sky                                   8.889943  \n",
              "Berghain                                             5.688681  \n",
              "Back From Space                                      6.566860  \n",
              "Sycamore                                             3.977861  \n",
              "Drumbone                                             5.469212  "
            ]
          },
          "execution_count": 37,
          "metadata": {},
          "output_type": "execute_result"
        }
      ],
      "source": [
        "candidate_embeddings = np.array([reduced_embeddings_dict[track_id] for track_id in selected_songs_cs['id']])\n",
        "\n",
        "distances = pairwise_distances(candidate_embeddings, og_embeddings, metric='euclidean')\n",
        "mean_distances = np.mean(distances, axis=1)\n",
        "closest_candidates_indices = np.argsort(mean_distances)[:10]\n",
        "selected_songs_pd = selected_songs_cs.iloc[closest_candidates_indices]\n",
        "selected_songs_pd"
      ]
    },
    {
      "cell_type": "code",
      "execution_count": 38,
      "metadata": {},
      "outputs": [
        {
          "data": {
            "text/plain": [
              "array([9, 8, 5, 4, 3, 7, 6, 2, 1, 0], dtype=int64)"
            ]
          },
          "execution_count": 38,
          "metadata": {},
          "output_type": "execute_result"
        }
      ],
      "source": [
        "closest_candidates_indices"
      ]
    },
    {
      "cell_type": "code",
      "execution_count": 39,
      "metadata": {},
      "outputs": [],
      "source": [
        "#Predicted Data\n",
        "rec_songs = song_features_data[song_features_data['track_id'].isin(selected_songs_pd['id'])]"
      ]
    },
    {
      "cell_type": "code",
      "execution_count": 40,
      "metadata": {},
      "outputs": [
        {
          "data": {
            "text/html": [
              "<div>\n",
              "<style scoped>\n",
              "    .dataframe tbody tr th:only-of-type {\n",
              "        vertical-align: middle;\n",
              "    }\n",
              "\n",
              "    .dataframe tbody tr th {\n",
              "        vertical-align: top;\n",
              "    }\n",
              "\n",
              "    .dataframe thead th {\n",
              "        text-align: right;\n",
              "    }\n",
              "</style>\n",
              "<table border=\"1\" class=\"dataframe\">\n",
              "  <thead>\n",
              "    <tr style=\"text-align: right;\">\n",
              "      <th></th>\n",
              "      <th>track_id</th>\n",
              "      <th>name</th>\n",
              "      <th>artist</th>\n",
              "      <th>spotify_id</th>\n",
              "      <th>tags</th>\n",
              "      <th>danceability</th>\n",
              "      <th>energy</th>\n",
              "      <th>loudness</th>\n",
              "      <th>mode</th>\n",
              "      <th>speechiness</th>\n",
              "      <th>acousticness</th>\n",
              "      <th>instrumentalness</th>\n",
              "      <th>liveness</th>\n",
              "      <th>valence</th>\n",
              "      <th>tempo</th>\n",
              "      <th>duration_mins</th>\n",
              "    </tr>\n",
              "  </thead>\n",
              "  <tbody>\n",
              "    <tr>\n",
              "      <th>3805</th>\n",
              "      <td>TRDUQNA12903D0D68F</td>\n",
              "      <td>Song For Mary</td>\n",
              "      <td>The Herbaliser</td>\n",
              "      <td>06AY4O46ElWG5ofF7m3BXy</td>\n",
              "      <td>jazz, chillout, hip_hop, trip_hop, downtempo, ...</td>\n",
              "      <td>0.620</td>\n",
              "      <td>0.8010</td>\n",
              "      <td>-4.829</td>\n",
              "      <td>1</td>\n",
              "      <td>0.0596</td>\n",
              "      <td>0.309000</td>\n",
              "      <td>0.865000</td>\n",
              "      <td>0.1280</td>\n",
              "      <td>0.7560</td>\n",
              "      <td>178.063</td>\n",
              "      <td>5.287333</td>\n",
              "    </tr>\n",
              "    <tr>\n",
              "      <th>6585</th>\n",
              "      <td>TRJNHPN128F92EF139</td>\n",
              "      <td>Adagio For Strings</td>\n",
              "      <td>Samuel Barber</td>\n",
              "      <td>00otCiz9kUb3Vg7LPKNCZG</td>\n",
              "      <td>instrumental, classical, soundtrack, beautiful</td>\n",
              "      <td>0.140</td>\n",
              "      <td>0.0947</td>\n",
              "      <td>-18.599</td>\n",
              "      <td>0</td>\n",
              "      <td>0.0458</td>\n",
              "      <td>0.978000</td>\n",
              "      <td>0.478000</td>\n",
              "      <td>0.0735</td>\n",
              "      <td>0.0365</td>\n",
              "      <td>84.560</td>\n",
              "      <td>7.190200</td>\n",
              "    </tr>\n",
              "    <tr>\n",
              "      <th>9240</th>\n",
              "      <td>TRTSGYX128F428ECC6</td>\n",
              "      <td>Toast &amp; Bananas</td>\n",
              "      <td>blink-182</td>\n",
              "      <td>0cImAVT8s9Us1WUivKjetn</td>\n",
              "      <td>punk, hardcore, punk_rock, reggae</td>\n",
              "      <td>0.359</td>\n",
              "      <td>0.9210</td>\n",
              "      <td>-5.449</td>\n",
              "      <td>1</td>\n",
              "      <td>0.0548</td>\n",
              "      <td>0.000180</td>\n",
              "      <td>0.000000</td>\n",
              "      <td>0.2700</td>\n",
              "      <td>0.5140</td>\n",
              "      <td>104.767</td>\n",
              "      <td>2.445550</td>\n",
              "    </tr>\n",
              "    <tr>\n",
              "      <th>10150</th>\n",
              "      <td>TRPJZMZ128F146A476</td>\n",
              "      <td>Drumbone</td>\n",
              "      <td>Blue Man Group</td>\n",
              "      <td>2vHlQuYkOYOP2WVMAXMzAH</td>\n",
              "      <td>electronic, instrumental, industrial</td>\n",
              "      <td>0.726</td>\n",
              "      <td>0.8710</td>\n",
              "      <td>-10.233</td>\n",
              "      <td>0</td>\n",
              "      <td>0.0569</td>\n",
              "      <td>0.000500</td>\n",
              "      <td>0.783000</td>\n",
              "      <td>0.0626</td>\n",
              "      <td>0.6920</td>\n",
              "      <td>139.619</td>\n",
              "      <td>2.738217</td>\n",
              "    </tr>\n",
              "    <tr>\n",
              "      <th>11906</th>\n",
              "      <td>TRKVLFV128F9316659</td>\n",
              "      <td>Sycamore</td>\n",
              "      <td>Caspian</td>\n",
              "      <td>0atrSIFaXexU8fuTxlEgt7</td>\n",
              "      <td>instrumental, post_rock</td>\n",
              "      <td>0.287</td>\n",
              "      <td>0.5840</td>\n",
              "      <td>-8.773</td>\n",
              "      <td>1</td>\n",
              "      <td>0.0520</td>\n",
              "      <td>0.011800</td>\n",
              "      <td>0.902000</td>\n",
              "      <td>0.1950</td>\n",
              "      <td>0.1580</td>\n",
              "      <td>112.018</td>\n",
              "      <td>9.096883</td>\n",
              "    </tr>\n",
              "    <tr>\n",
              "      <th>12626</th>\n",
              "      <td>TROWXJW128F14682FA</td>\n",
              "      <td>The Fun Lovin' Criminal</td>\n",
              "      <td>Fun Lovin' Criminals</td>\n",
              "      <td>03wIVNoejhmmaevcHyS5qx</td>\n",
              "      <td>rock, alternative, hip_hop, funk</td>\n",
              "      <td>0.752</td>\n",
              "      <td>0.6810</td>\n",
              "      <td>-7.397</td>\n",
              "      <td>0</td>\n",
              "      <td>0.0298</td>\n",
              "      <td>0.067600</td>\n",
              "      <td>0.382000</td>\n",
              "      <td>0.1740</td>\n",
              "      <td>0.7130</td>\n",
              "      <td>95.800</td>\n",
              "      <td>3.219100</td>\n",
              "    </tr>\n",
              "    <tr>\n",
              "      <th>14103</th>\n",
              "      <td>TRLGZAI128F931A62E</td>\n",
              "      <td>Back From Space</td>\n",
              "      <td>Amon Tobin</td>\n",
              "      <td>3Thr46cX94rfPUo31w4uT7</td>\n",
              "      <td>electronic, trip_hop, idm, drum_and_bass</td>\n",
              "      <td>0.497</td>\n",
              "      <td>0.8030</td>\n",
              "      <td>-11.689</td>\n",
              "      <td>0</td>\n",
              "      <td>0.0484</td>\n",
              "      <td>0.005900</td>\n",
              "      <td>0.761000</td>\n",
              "      <td>0.4250</td>\n",
              "      <td>0.3340</td>\n",
              "      <td>147.050</td>\n",
              "      <td>4.879767</td>\n",
              "    </tr>\n",
              "    <tr>\n",
              "      <th>19421</th>\n",
              "      <td>TRXMIVE128F423F079</td>\n",
              "      <td>So Vast as the Sky</td>\n",
              "      <td>Thievery Corporation</td>\n",
              "      <td>1PAdI1u9L5yzIlRQSobCzU</td>\n",
              "      <td>electronic, chillout, trip_hop, downtempo, lounge</td>\n",
              "      <td>0.802</td>\n",
              "      <td>0.4710</td>\n",
              "      <td>-13.373</td>\n",
              "      <td>0</td>\n",
              "      <td>0.0593</td>\n",
              "      <td>0.001090</td>\n",
              "      <td>0.868000</td>\n",
              "      <td>0.1060</td>\n",
              "      <td>0.7030</td>\n",
              "      <td>148.003</td>\n",
              "      <td>5.040000</td>\n",
              "    </tr>\n",
              "    <tr>\n",
              "      <th>19934</th>\n",
              "      <td>TRPPEVN128F149F0CF</td>\n",
              "      <td>This Is Really Testing The Patience I've Never...</td>\n",
              "      <td>Heavy Heavy Low Low</td>\n",
              "      <td>02IoFpnn6VwjSwiwqgnTgd</td>\n",
              "      <td>rock, experimental, post_hardcore, grindcore</td>\n",
              "      <td>0.132</td>\n",
              "      <td>0.9440</td>\n",
              "      <td>-4.505</td>\n",
              "      <td>0</td>\n",
              "      <td>0.1140</td>\n",
              "      <td>0.000034</td>\n",
              "      <td>0.000002</td>\n",
              "      <td>0.3490</td>\n",
              "      <td>0.0773</td>\n",
              "      <td>200.064</td>\n",
              "      <td>0.549767</td>\n",
              "    </tr>\n",
              "    <tr>\n",
              "      <th>21806</th>\n",
              "      <td>TRUPCJU128F92C4BDB</td>\n",
              "      <td>Berghain</td>\n",
              "      <td>Aril Brikha</td>\n",
              "      <td>0DbbV7IFeL4jMSRQSnLu7Q</td>\n",
              "      <td>electronic, techno</td>\n",
              "      <td>0.798</td>\n",
              "      <td>0.8090</td>\n",
              "      <td>-10.136</td>\n",
              "      <td>0</td>\n",
              "      <td>0.0660</td>\n",
              "      <td>0.197000</td>\n",
              "      <td>0.935000</td>\n",
              "      <td>0.0724</td>\n",
              "      <td>0.7990</td>\n",
              "      <td>131.015</td>\n",
              "      <td>7.110483</td>\n",
              "    </tr>\n",
              "  </tbody>\n",
              "</table>\n",
              "</div>"
            ],
            "text/plain": [
              "                 track_id                                               name  \\\n",
              "3805   TRDUQNA12903D0D68F                                      Song For Mary   \n",
              "6585   TRJNHPN128F92EF139                                 Adagio For Strings   \n",
              "9240   TRTSGYX128F428ECC6                                    Toast & Bananas   \n",
              "10150  TRPJZMZ128F146A476                                           Drumbone   \n",
              "11906  TRKVLFV128F9316659                                           Sycamore   \n",
              "12626  TROWXJW128F14682FA                            The Fun Lovin' Criminal   \n",
              "14103  TRLGZAI128F931A62E                                    Back From Space   \n",
              "19421  TRXMIVE128F423F079                                 So Vast as the Sky   \n",
              "19934  TRPPEVN128F149F0CF  This Is Really Testing The Patience I've Never...   \n",
              "21806  TRUPCJU128F92C4BDB                                           Berghain   \n",
              "\n",
              "                     artist              spotify_id  \\\n",
              "3805         The Herbaliser  06AY4O46ElWG5ofF7m3BXy   \n",
              "6585          Samuel Barber  00otCiz9kUb3Vg7LPKNCZG   \n",
              "9240              blink-182  0cImAVT8s9Us1WUivKjetn   \n",
              "10150        Blue Man Group  2vHlQuYkOYOP2WVMAXMzAH   \n",
              "11906               Caspian  0atrSIFaXexU8fuTxlEgt7   \n",
              "12626  Fun Lovin' Criminals  03wIVNoejhmmaevcHyS5qx   \n",
              "14103            Amon Tobin  3Thr46cX94rfPUo31w4uT7   \n",
              "19421  Thievery Corporation  1PAdI1u9L5yzIlRQSobCzU   \n",
              "19934   Heavy Heavy Low Low  02IoFpnn6VwjSwiwqgnTgd   \n",
              "21806           Aril Brikha  0DbbV7IFeL4jMSRQSnLu7Q   \n",
              "\n",
              "                                                    tags  danceability  \\\n",
              "3805   jazz, chillout, hip_hop, trip_hop, downtempo, ...         0.620   \n",
              "6585      instrumental, classical, soundtrack, beautiful         0.140   \n",
              "9240                   punk, hardcore, punk_rock, reggae         0.359   \n",
              "10150               electronic, instrumental, industrial         0.726   \n",
              "11906                            instrumental, post_rock         0.287   \n",
              "12626                   rock, alternative, hip_hop, funk         0.752   \n",
              "14103           electronic, trip_hop, idm, drum_and_bass         0.497   \n",
              "19421  electronic, chillout, trip_hop, downtempo, lounge         0.802   \n",
              "19934       rock, experimental, post_hardcore, grindcore         0.132   \n",
              "21806                                 electronic, techno         0.798   \n",
              "\n",
              "       energy  loudness  mode  speechiness  acousticness  instrumentalness  \\\n",
              "3805   0.8010    -4.829     1       0.0596      0.309000          0.865000   \n",
              "6585   0.0947   -18.599     0       0.0458      0.978000          0.478000   \n",
              "9240   0.9210    -5.449     1       0.0548      0.000180          0.000000   \n",
              "10150  0.8710   -10.233     0       0.0569      0.000500          0.783000   \n",
              "11906  0.5840    -8.773     1       0.0520      0.011800          0.902000   \n",
              "12626  0.6810    -7.397     0       0.0298      0.067600          0.382000   \n",
              "14103  0.8030   -11.689     0       0.0484      0.005900          0.761000   \n",
              "19421  0.4710   -13.373     0       0.0593      0.001090          0.868000   \n",
              "19934  0.9440    -4.505     0       0.1140      0.000034          0.000002   \n",
              "21806  0.8090   -10.136     0       0.0660      0.197000          0.935000   \n",
              "\n",
              "       liveness  valence    tempo  duration_mins  \n",
              "3805     0.1280   0.7560  178.063       5.287333  \n",
              "6585     0.0735   0.0365   84.560       7.190200  \n",
              "9240     0.2700   0.5140  104.767       2.445550  \n",
              "10150    0.0626   0.6920  139.619       2.738217  \n",
              "11906    0.1950   0.1580  112.018       9.096883  \n",
              "12626    0.1740   0.7130   95.800       3.219100  \n",
              "14103    0.4250   0.3340  147.050       4.879767  \n",
              "19421    0.1060   0.7030  148.003       5.040000  \n",
              "19934    0.3490   0.0773  200.064       0.549767  \n",
              "21806    0.0724   0.7990  131.015       7.110483  "
            ]
          },
          "execution_count": 40,
          "metadata": {},
          "output_type": "execute_result"
        }
      ],
      "source": [
        "rec_songs.head(10)"
      ]
    },
    {
      "cell_type": "code",
      "execution_count": 37,
      "metadata": {},
      "outputs": [],
      "source": [
        "#Original Playlist\n",
        "og_songs = song_features_data[song_features_data['track_id'].isin(rnn_track_ids)]"
      ]
    },
    {
      "cell_type": "code",
      "execution_count": 38,
      "metadata": {},
      "outputs": [
        {
          "data": {
            "text/html": [
              "<div>\n",
              "<style scoped>\n",
              "    .dataframe tbody tr th:only-of-type {\n",
              "        vertical-align: middle;\n",
              "    }\n",
              "\n",
              "    .dataframe tbody tr th {\n",
              "        vertical-align: top;\n",
              "    }\n",
              "\n",
              "    .dataframe thead th {\n",
              "        text-align: right;\n",
              "    }\n",
              "</style>\n",
              "<table border=\"1\" class=\"dataframe\">\n",
              "  <thead>\n",
              "    <tr style=\"text-align: right;\">\n",
              "      <th></th>\n",
              "      <th>track_id</th>\n",
              "      <th>name</th>\n",
              "      <th>artist</th>\n",
              "      <th>spotify_id</th>\n",
              "      <th>tags</th>\n",
              "      <th>danceability</th>\n",
              "      <th>energy</th>\n",
              "      <th>loudness</th>\n",
              "      <th>mode</th>\n",
              "      <th>speechiness</th>\n",
              "      <th>acousticness</th>\n",
              "      <th>instrumentalness</th>\n",
              "      <th>liveness</th>\n",
              "      <th>valence</th>\n",
              "      <th>tempo</th>\n",
              "      <th>duration_mins</th>\n",
              "    </tr>\n",
              "  </thead>\n",
              "  <tbody>\n",
              "    <tr>\n",
              "      <th>16</th>\n",
              "      <td>TRAALAH128E078234A</td>\n",
              "      <td>Bitter Sweet Symphony</td>\n",
              "      <td>The Verve</td>\n",
              "      <td>0jLnevC3Vn34qVWrAa4X6x</td>\n",
              "      <td>rock, alternative, indie, pop, alternative_roc...</td>\n",
              "      <td>0.383</td>\n",
              "      <td>0.907</td>\n",
              "      <td>-5.409</td>\n",
              "      <td>1</td>\n",
              "      <td>0.0405</td>\n",
              "      <td>0.031300</td>\n",
              "      <td>0.000000</td>\n",
              "      <td>0.3470</td>\n",
              "      <td>0.5140</td>\n",
              "      <td>171.052</td>\n",
              "      <td>5.972217</td>\n",
              "    </tr>\n",
              "    <tr>\n",
              "      <th>156</th>\n",
              "      <td>TRHRFIN128F425DEF1</td>\n",
              "      <td>4th Dimensional Transition</td>\n",
              "      <td>MGMT</td>\n",
              "      <td>14Hlfk7LY4TOw450LaVteS</td>\n",
              "      <td>rock, electronic, alternative, indie, indie_ro...</td>\n",
              "      <td>0.381</td>\n",
              "      <td>0.939</td>\n",
              "      <td>-4.684</td>\n",
              "      <td>1</td>\n",
              "      <td>0.1250</td>\n",
              "      <td>0.042000</td>\n",
              "      <td>0.918000</td>\n",
              "      <td>0.1720</td>\n",
              "      <td>0.3350</td>\n",
              "      <td>159.970</td>\n",
              "      <td>3.966883</td>\n",
              "    </tr>\n",
              "    <tr>\n",
              "      <th>765</th>\n",
              "      <td>TRNJLKP128F427CE28</td>\n",
              "      <td>Aerodynamic</td>\n",
              "      <td>Daft Punk</td>\n",
              "      <td>168MSP7Cpz7uKGt5Qd9F16</td>\n",
              "      <td>electronic, dance, house, techno, electro, french</td>\n",
              "      <td>0.617</td>\n",
              "      <td>0.883</td>\n",
              "      <td>-9.070</td>\n",
              "      <td>1</td>\n",
              "      <td>0.0503</td>\n",
              "      <td>0.307000</td>\n",
              "      <td>0.861000</td>\n",
              "      <td>0.0907</td>\n",
              "      <td>0.1260</td>\n",
              "      <td>122.870</td>\n",
              "      <td>3.458883</td>\n",
              "    </tr>\n",
              "    <tr>\n",
              "      <th>795</th>\n",
              "      <td>TRISTWT128F1488FBB</td>\n",
              "      <td>High Life</td>\n",
              "      <td>Daft Punk</td>\n",
              "      <td>098ttCNmncrO4YvqWUNMvn</td>\n",
              "      <td>electronic, dance, house, techno, electro, french</td>\n",
              "      <td>0.653</td>\n",
              "      <td>0.869</td>\n",
              "      <td>-9.393</td>\n",
              "      <td>1</td>\n",
              "      <td>0.2170</td>\n",
              "      <td>0.004350</td>\n",
              "      <td>0.413000</td>\n",
              "      <td>0.3340</td>\n",
              "      <td>0.5150</td>\n",
              "      <td>125.207</td>\n",
              "      <td>3.363333</td>\n",
              "    </tr>\n",
              "    <tr>\n",
              "      <th>1197</th>\n",
              "      <td>TRIPSQP12903CE450C</td>\n",
              "      <td>Lady Dada's Nightmare</td>\n",
              "      <td>MGMT</td>\n",
              "      <td>0XwfkoJnGpRw7y3s0fWxaO</td>\n",
              "      <td>electronic, indie, experimental, indie_rock, i...</td>\n",
              "      <td>0.358</td>\n",
              "      <td>0.492</td>\n",
              "      <td>-7.844</td>\n",
              "      <td>0</td>\n",
              "      <td>0.0299</td>\n",
              "      <td>0.552000</td>\n",
              "      <td>0.899000</td>\n",
              "      <td>0.2350</td>\n",
              "      <td>0.0666</td>\n",
              "      <td>77.994</td>\n",
              "      <td>4.519100</td>\n",
              "    </tr>\n",
              "    <tr>\n",
              "      <th>3686</th>\n",
              "      <td>TRDJQLI128E07917C7</td>\n",
              "      <td>Rikki Don't Lose That Number</td>\n",
              "      <td>Steely Dan</td>\n",
              "      <td>028NYvJAD47k4iGSlpT2zy</td>\n",
              "      <td>rock, jazz, classic_rock, 70s</td>\n",
              "      <td>0.649</td>\n",
              "      <td>0.478</td>\n",
              "      <td>-13.628</td>\n",
              "      <td>1</td>\n",
              "      <td>0.0381</td>\n",
              "      <td>0.510000</td>\n",
              "      <td>0.000134</td>\n",
              "      <td>0.0915</td>\n",
              "      <td>0.5710</td>\n",
              "      <td>116.179</td>\n",
              "      <td>4.543767</td>\n",
              "    </tr>\n",
              "    <tr>\n",
              "      <th>3717</th>\n",
              "      <td>TRRYMIR128F9354778</td>\n",
              "      <td>Via con me</td>\n",
              "      <td>Paolo Conte</td>\n",
              "      <td>053MPrQZlf9X4KYmcJ4vsd</td>\n",
              "      <td>jazz, singer_songwriter, piano</td>\n",
              "      <td>0.587</td>\n",
              "      <td>0.706</td>\n",
              "      <td>-9.154</td>\n",
              "      <td>0</td>\n",
              "      <td>0.2040</td>\n",
              "      <td>0.777000</td>\n",
              "      <td>0.006570</td>\n",
              "      <td>0.0929</td>\n",
              "      <td>0.7330</td>\n",
              "      <td>164.438</td>\n",
              "      <td>2.776000</td>\n",
              "    </tr>\n",
              "    <tr>\n",
              "      <th>4114</th>\n",
              "      <td>TRCESGY128E0780E09</td>\n",
              "      <td>Breakthru</td>\n",
              "      <td>Queen</td>\n",
              "      <td>0PesritaDvkWORoHQJmP3z</td>\n",
              "      <td>rock, classic_rock, hard_rock, 80s, british</td>\n",
              "      <td>0.569</td>\n",
              "      <td>0.649</td>\n",
              "      <td>-13.531</td>\n",
              "      <td>1</td>\n",
              "      <td>0.0509</td>\n",
              "      <td>0.063300</td>\n",
              "      <td>0.004920</td>\n",
              "      <td>0.3640</td>\n",
              "      <td>0.3340</td>\n",
              "      <td>90.084</td>\n",
              "      <td>4.137100</td>\n",
              "    </tr>\n",
              "    <tr>\n",
              "      <th>4306</th>\n",
              "      <td>TRQWUUG128F1485DAB</td>\n",
              "      <td>Don't Know What You Got (Till It's Gone)</td>\n",
              "      <td>Cinderella</td>\n",
              "      <td>02inbOlZndnAM99BeRvxd9</td>\n",
              "      <td>classic_rock, hard_rock, 80s, blues_rock</td>\n",
              "      <td>0.247</td>\n",
              "      <td>0.749</td>\n",
              "      <td>-5.542</td>\n",
              "      <td>1</td>\n",
              "      <td>0.0357</td>\n",
              "      <td>0.064900</td>\n",
              "      <td>0.081800</td>\n",
              "      <td>0.7520</td>\n",
              "      <td>0.2320</td>\n",
              "      <td>130.192</td>\n",
              "      <td>4.567767</td>\n",
              "    </tr>\n",
              "    <tr>\n",
              "      <th>6109</th>\n",
              "      <td>TRNQUIT128F428A0BD</td>\n",
              "      <td>Time Won't Let Me Go</td>\n",
              "      <td>The Bravery</td>\n",
              "      <td>12d7zOCGENeo5v2XF295sA</td>\n",
              "      <td>rock, alternative, indie, alternative_rock, in...</td>\n",
              "      <td>0.386</td>\n",
              "      <td>0.864</td>\n",
              "      <td>-4.776</td>\n",
              "      <td>1</td>\n",
              "      <td>0.0323</td>\n",
              "      <td>0.001330</td>\n",
              "      <td>0.000054</td>\n",
              "      <td>0.4400</td>\n",
              "      <td>0.4180</td>\n",
              "      <td>154.774</td>\n",
              "      <td>4.188667</td>\n",
              "    </tr>\n",
              "    <tr>\n",
              "      <th>7498</th>\n",
              "      <td>TRSSQIX128F4226B55</td>\n",
              "      <td>My Friend Dario</td>\n",
              "      <td>Vitalic</td>\n",
              "      <td>1cOCuk6LQyrELA3hfHoams</td>\n",
              "      <td>electronic, dance, house, techno, electro, french</td>\n",
              "      <td>0.609</td>\n",
              "      <td>0.963</td>\n",
              "      <td>-5.108</td>\n",
              "      <td>1</td>\n",
              "      <td>0.0526</td>\n",
              "      <td>0.000772</td>\n",
              "      <td>0.743000</td>\n",
              "      <td>0.8290</td>\n",
              "      <td>0.9050</td>\n",
              "      <td>133.272</td>\n",
              "      <td>3.647550</td>\n",
              "    </tr>\n",
              "    <tr>\n",
              "      <th>7642</th>\n",
              "      <td>TRYATJD128F92FDB02</td>\n",
              "      <td>Hazy Shade Of Winter</td>\n",
              "      <td>The Bangles</td>\n",
              "      <td>0AJTCza5wu1jZ6aWNoZXRT</td>\n",
              "      <td>pop, 80s, new_wave, cover</td>\n",
              "      <td>0.718</td>\n",
              "      <td>0.882</td>\n",
              "      <td>-8.083</td>\n",
              "      <td>1</td>\n",
              "      <td>0.0856</td>\n",
              "      <td>0.003430</td>\n",
              "      <td>0.000086</td>\n",
              "      <td>0.3180</td>\n",
              "      <td>0.7630</td>\n",
              "      <td>102.990</td>\n",
              "      <td>3.397767</td>\n",
              "    </tr>\n",
              "    <tr>\n",
              "      <th>7990</th>\n",
              "      <td>TRFUIGN128F92FE2C4</td>\n",
              "      <td>Sea Song</td>\n",
              "      <td>Robert Wyatt</td>\n",
              "      <td>0uoM5QDvJBPu6MGrtbw0gP</td>\n",
              "      <td>progressive_rock, psychedelic, avant_garde</td>\n",
              "      <td>0.330</td>\n",
              "      <td>0.521</td>\n",
              "      <td>-6.610</td>\n",
              "      <td>0</td>\n",
              "      <td>0.0313</td>\n",
              "      <td>0.485000</td>\n",
              "      <td>0.001820</td>\n",
              "      <td>0.2010</td>\n",
              "      <td>0.1260</td>\n",
              "      <td>115.364</td>\n",
              "      <td>9.256433</td>\n",
              "    </tr>\n",
              "    <tr>\n",
              "      <th>12849</th>\n",
              "      <td>TRBJRZH128F429EA62</td>\n",
              "      <td>The Electric Version</td>\n",
              "      <td>The New Pornographers</td>\n",
              "      <td>1n0tppeA8MEOVtckhUMnmL</td>\n",
              "      <td>rock, indie_rock, new_wave, indie_pop, 00s, noise</td>\n",
              "      <td>0.530</td>\n",
              "      <td>0.985</td>\n",
              "      <td>-3.094</td>\n",
              "      <td>1</td>\n",
              "      <td>0.1320</td>\n",
              "      <td>0.009430</td>\n",
              "      <td>0.000000</td>\n",
              "      <td>0.1760</td>\n",
              "      <td>0.6980</td>\n",
              "      <td>167.129</td>\n",
              "      <td>2.887767</td>\n",
              "    </tr>\n",
              "    <tr>\n",
              "      <th>14747</th>\n",
              "      <td>TRAEUFF128F424EAAF</td>\n",
              "      <td>I've Underestimated My Charm (Again)</td>\n",
              "      <td>Black Kids</td>\n",
              "      <td>0gv6qCVLKKRIFaR4OC3cGh</td>\n",
              "      <td>indie, indie_pop</td>\n",
              "      <td>0.363</td>\n",
              "      <td>0.968</td>\n",
              "      <td>-4.194</td>\n",
              "      <td>1</td>\n",
              "      <td>0.0563</td>\n",
              "      <td>0.001330</td>\n",
              "      <td>0.000000</td>\n",
              "      <td>0.3220</td>\n",
              "      <td>0.6890</td>\n",
              "      <td>124.014</td>\n",
              "      <td>3.918433</td>\n",
              "    </tr>\n",
              "    <tr>\n",
              "      <th>15981</th>\n",
              "      <td>TRAFUNV128F92CFEB2</td>\n",
              "      <td>MIA</td>\n",
              "      <td>Chevelle</td>\n",
              "      <td>2hxweZgog2IrkKP86KGATI</td>\n",
              "      <td>rock, alternative, alternative_rock, hard_rock...</td>\n",
              "      <td>0.379</td>\n",
              "      <td>0.913</td>\n",
              "      <td>-7.357</td>\n",
              "      <td>1</td>\n",
              "      <td>0.0872</td>\n",
              "      <td>0.000421</td>\n",
              "      <td>0.116000</td>\n",
              "      <td>0.1510</td>\n",
              "      <td>0.1080</td>\n",
              "      <td>117.438</td>\n",
              "      <td>2.358883</td>\n",
              "    </tr>\n",
              "    <tr>\n",
              "      <th>17771</th>\n",
              "      <td>TRMGOFF128F1458362</td>\n",
              "      <td>Wild Frontier</td>\n",
              "      <td>Gary Moore</td>\n",
              "      <td>0mBdiyULKljvBLVsrS6gfp</td>\n",
              "      <td>rock, classic_rock, hard_rock, guitar, blues_rock</td>\n",
              "      <td>0.484</td>\n",
              "      <td>0.727</td>\n",
              "      <td>-11.312</td>\n",
              "      <td>0</td>\n",
              "      <td>0.0513</td>\n",
              "      <td>0.110000</td>\n",
              "      <td>0.000000</td>\n",
              "      <td>0.1460</td>\n",
              "      <td>0.5740</td>\n",
              "      <td>130.458</td>\n",
              "      <td>4.233333</td>\n",
              "    </tr>\n",
              "    <tr>\n",
              "      <th>18401</th>\n",
              "      <td>TRXAVEU128E078D3CD</td>\n",
              "      <td>Oh, Goddamnit</td>\n",
              "      <td>Hot Hot Heat</td>\n",
              "      <td>1KF1b9bbBYImNnC3YO2GG4</td>\n",
              "      <td>rock, indie, indie_rock</td>\n",
              "      <td>0.432</td>\n",
              "      <td>0.896</td>\n",
              "      <td>-4.335</td>\n",
              "      <td>1</td>\n",
              "      <td>0.0931</td>\n",
              "      <td>0.028800</td>\n",
              "      <td>0.000319</td>\n",
              "      <td>0.1310</td>\n",
              "      <td>0.9230</td>\n",
              "      <td>126.659</td>\n",
              "      <td>2.480667</td>\n",
              "    </tr>\n",
              "    <tr>\n",
              "      <th>23254</th>\n",
              "      <td>TRAVRKY128F429EA68</td>\n",
              "      <td>Loose Translation</td>\n",
              "      <td>The New Pornographers</td>\n",
              "      <td>5Qu79Xa89JOQyZgMKWYtRk</td>\n",
              "      <td>indie, pop, indie_rock</td>\n",
              "      <td>0.642</td>\n",
              "      <td>0.835</td>\n",
              "      <td>-4.444</td>\n",
              "      <td>1</td>\n",
              "      <td>0.0318</td>\n",
              "      <td>0.000764</td>\n",
              "      <td>0.000002</td>\n",
              "      <td>0.2310</td>\n",
              "      <td>0.8130</td>\n",
              "      <td>126.022</td>\n",
              "      <td>2.993333</td>\n",
              "    </tr>\n",
              "  </tbody>\n",
              "</table>\n",
              "</div>"
            ],
            "text/plain": [
              "                 track_id                                      name  \\\n",
              "16     TRAALAH128E078234A                     Bitter Sweet Symphony   \n",
              "156    TRHRFIN128F425DEF1                4th Dimensional Transition   \n",
              "765    TRNJLKP128F427CE28                               Aerodynamic   \n",
              "795    TRISTWT128F1488FBB                                 High Life   \n",
              "1197   TRIPSQP12903CE450C                     Lady Dada's Nightmare   \n",
              "3686   TRDJQLI128E07917C7              Rikki Don't Lose That Number   \n",
              "3717   TRRYMIR128F9354778                                Via con me   \n",
              "4114   TRCESGY128E0780E09                                 Breakthru   \n",
              "4306   TRQWUUG128F1485DAB  Don't Know What You Got (Till It's Gone)   \n",
              "6109   TRNQUIT128F428A0BD                      Time Won't Let Me Go   \n",
              "7498   TRSSQIX128F4226B55                           My Friend Dario   \n",
              "7642   TRYATJD128F92FDB02                      Hazy Shade Of Winter   \n",
              "7990   TRFUIGN128F92FE2C4                                  Sea Song   \n",
              "12849  TRBJRZH128F429EA62                      The Electric Version   \n",
              "14747  TRAEUFF128F424EAAF      I've Underestimated My Charm (Again)   \n",
              "15981  TRAFUNV128F92CFEB2                                       MIA   \n",
              "17771  TRMGOFF128F1458362                             Wild Frontier   \n",
              "18401  TRXAVEU128E078D3CD                             Oh, Goddamnit   \n",
              "23254  TRAVRKY128F429EA68                         Loose Translation   \n",
              "\n",
              "                      artist              spotify_id  \\\n",
              "16                 The Verve  0jLnevC3Vn34qVWrAa4X6x   \n",
              "156                     MGMT  14Hlfk7LY4TOw450LaVteS   \n",
              "765                Daft Punk  168MSP7Cpz7uKGt5Qd9F16   \n",
              "795                Daft Punk  098ttCNmncrO4YvqWUNMvn   \n",
              "1197                    MGMT  0XwfkoJnGpRw7y3s0fWxaO   \n",
              "3686              Steely Dan  028NYvJAD47k4iGSlpT2zy   \n",
              "3717             Paolo Conte  053MPrQZlf9X4KYmcJ4vsd   \n",
              "4114                   Queen  0PesritaDvkWORoHQJmP3z   \n",
              "4306              Cinderella  02inbOlZndnAM99BeRvxd9   \n",
              "6109             The Bravery  12d7zOCGENeo5v2XF295sA   \n",
              "7498                 Vitalic  1cOCuk6LQyrELA3hfHoams   \n",
              "7642             The Bangles  0AJTCza5wu1jZ6aWNoZXRT   \n",
              "7990            Robert Wyatt  0uoM5QDvJBPu6MGrtbw0gP   \n",
              "12849  The New Pornographers  1n0tppeA8MEOVtckhUMnmL   \n",
              "14747             Black Kids  0gv6qCVLKKRIFaR4OC3cGh   \n",
              "15981               Chevelle  2hxweZgog2IrkKP86KGATI   \n",
              "17771             Gary Moore  0mBdiyULKljvBLVsrS6gfp   \n",
              "18401           Hot Hot Heat  1KF1b9bbBYImNnC3YO2GG4   \n",
              "23254  The New Pornographers  5Qu79Xa89JOQyZgMKWYtRk   \n",
              "\n",
              "                                                    tags  danceability  \\\n",
              "16     rock, alternative, indie, pop, alternative_roc...         0.383   \n",
              "156    rock, electronic, alternative, indie, indie_ro...         0.381   \n",
              "765    electronic, dance, house, techno, electro, french         0.617   \n",
              "795    electronic, dance, house, techno, electro, french         0.653   \n",
              "1197   electronic, indie, experimental, indie_rock, i...         0.358   \n",
              "3686                       rock, jazz, classic_rock, 70s         0.649   \n",
              "3717                      jazz, singer_songwriter, piano         0.587   \n",
              "4114         rock, classic_rock, hard_rock, 80s, british         0.569   \n",
              "4306            classic_rock, hard_rock, 80s, blues_rock         0.247   \n",
              "6109   rock, alternative, indie, alternative_rock, in...         0.386   \n",
              "7498   electronic, dance, house, techno, electro, french         0.609   \n",
              "7642                           pop, 80s, new_wave, cover         0.718   \n",
              "7990          progressive_rock, psychedelic, avant_garde         0.330   \n",
              "12849  rock, indie_rock, new_wave, indie_pop, 00s, noise         0.530   \n",
              "14747                                   indie, indie_pop         0.363   \n",
              "15981  rock, alternative, alternative_rock, hard_rock...         0.379   \n",
              "17771  rock, classic_rock, hard_rock, guitar, blues_rock         0.484   \n",
              "18401                            rock, indie, indie_rock         0.432   \n",
              "23254                             indie, pop, indie_rock         0.642   \n",
              "\n",
              "       energy  loudness  mode  speechiness  acousticness  instrumentalness  \\\n",
              "16      0.907    -5.409     1       0.0405      0.031300          0.000000   \n",
              "156     0.939    -4.684     1       0.1250      0.042000          0.918000   \n",
              "765     0.883    -9.070     1       0.0503      0.307000          0.861000   \n",
              "795     0.869    -9.393     1       0.2170      0.004350          0.413000   \n",
              "1197    0.492    -7.844     0       0.0299      0.552000          0.899000   \n",
              "3686    0.478   -13.628     1       0.0381      0.510000          0.000134   \n",
              "3717    0.706    -9.154     0       0.2040      0.777000          0.006570   \n",
              "4114    0.649   -13.531     1       0.0509      0.063300          0.004920   \n",
              "4306    0.749    -5.542     1       0.0357      0.064900          0.081800   \n",
              "6109    0.864    -4.776     1       0.0323      0.001330          0.000054   \n",
              "7498    0.963    -5.108     1       0.0526      0.000772          0.743000   \n",
              "7642    0.882    -8.083     1       0.0856      0.003430          0.000086   \n",
              "7990    0.521    -6.610     0       0.0313      0.485000          0.001820   \n",
              "12849   0.985    -3.094     1       0.1320      0.009430          0.000000   \n",
              "14747   0.968    -4.194     1       0.0563      0.001330          0.000000   \n",
              "15981   0.913    -7.357     1       0.0872      0.000421          0.116000   \n",
              "17771   0.727   -11.312     0       0.0513      0.110000          0.000000   \n",
              "18401   0.896    -4.335     1       0.0931      0.028800          0.000319   \n",
              "23254   0.835    -4.444     1       0.0318      0.000764          0.000002   \n",
              "\n",
              "       liveness  valence    tempo  duration_mins  \n",
              "16       0.3470   0.5140  171.052       5.972217  \n",
              "156      0.1720   0.3350  159.970       3.966883  \n",
              "765      0.0907   0.1260  122.870       3.458883  \n",
              "795      0.3340   0.5150  125.207       3.363333  \n",
              "1197     0.2350   0.0666   77.994       4.519100  \n",
              "3686     0.0915   0.5710  116.179       4.543767  \n",
              "3717     0.0929   0.7330  164.438       2.776000  \n",
              "4114     0.3640   0.3340   90.084       4.137100  \n",
              "4306     0.7520   0.2320  130.192       4.567767  \n",
              "6109     0.4400   0.4180  154.774       4.188667  \n",
              "7498     0.8290   0.9050  133.272       3.647550  \n",
              "7642     0.3180   0.7630  102.990       3.397767  \n",
              "7990     0.2010   0.1260  115.364       9.256433  \n",
              "12849    0.1760   0.6980  167.129       2.887767  \n",
              "14747    0.3220   0.6890  124.014       3.918433  \n",
              "15981    0.1510   0.1080  117.438       2.358883  \n",
              "17771    0.1460   0.5740  130.458       4.233333  \n",
              "18401    0.1310   0.9230  126.659       2.480667  \n",
              "23254    0.2310   0.8130  126.022       2.993333  "
            ]
          },
          "execution_count": 38,
          "metadata": {},
          "output_type": "execute_result"
        }
      ],
      "source": [
        "og_songs.head(19)"
      ]
    },
    {
      "cell_type": "code",
      "execution_count": 43,
      "metadata": {},
      "outputs": [],
      "source": [
        "# spotify_recs = pd.read_csv('misc/spotify_recs.csv')\n",
        "# spotify_recs = spotify_recs.drop(columns='Unnamed: 0')\n",
        "# spotify_recs.head(19)"
      ]
    },
    {
      "cell_type": "code",
      "execution_count": 44,
      "metadata": {},
      "outputs": [
        {
          "data": {
            "text/html": [
              "<div>\n",
              "<style scoped>\n",
              "    .dataframe tbody tr th:only-of-type {\n",
              "        vertical-align: middle;\n",
              "    }\n",
              "\n",
              "    .dataframe tbody tr th {\n",
              "        vertical-align: top;\n",
              "    }\n",
              "\n",
              "    .dataframe thead th {\n",
              "        text-align: right;\n",
              "    }\n",
              "</style>\n",
              "<table border=\"1\" class=\"dataframe\">\n",
              "  <thead>\n",
              "    <tr style=\"text-align: right;\">\n",
              "      <th></th>\n",
              "      <th>track_id</th>\n",
              "      <th>name</th>\n",
              "      <th>artist</th>\n",
              "      <th>spotify_id</th>\n",
              "      <th>tags</th>\n",
              "      <th>danceability</th>\n",
              "      <th>energy</th>\n",
              "      <th>loudness</th>\n",
              "      <th>mode</th>\n",
              "      <th>speechiness</th>\n",
              "      <th>acousticness</th>\n",
              "      <th>instrumentalness</th>\n",
              "      <th>liveness</th>\n",
              "      <th>valence</th>\n",
              "      <th>tempo</th>\n",
              "      <th>duration_mins</th>\n",
              "    </tr>\n",
              "  </thead>\n",
              "  <tbody>\n",
              "    <tr>\n",
              "      <th>3805</th>\n",
              "      <td>TRDUQNA12903D0D68F</td>\n",
              "      <td>Song For Mary</td>\n",
              "      <td>The Herbaliser</td>\n",
              "      <td>06AY4O46ElWG5ofF7m3BXy</td>\n",
              "      <td>jazz, chillout, hip_hop, trip_hop, downtempo, ...</td>\n",
              "      <td>0.620</td>\n",
              "      <td>0.8010</td>\n",
              "      <td>-4.829</td>\n",
              "      <td>1</td>\n",
              "      <td>0.0596</td>\n",
              "      <td>0.30900</td>\n",
              "      <td>0.865</td>\n",
              "      <td>0.1280</td>\n",
              "      <td>0.7560</td>\n",
              "      <td>178.063</td>\n",
              "      <td>5.287333</td>\n",
              "    </tr>\n",
              "    <tr>\n",
              "      <th>6585</th>\n",
              "      <td>TRJNHPN128F92EF139</td>\n",
              "      <td>Adagio For Strings</td>\n",
              "      <td>Samuel Barber</td>\n",
              "      <td>00otCiz9kUb3Vg7LPKNCZG</td>\n",
              "      <td>instrumental, classical, soundtrack, beautiful</td>\n",
              "      <td>0.140</td>\n",
              "      <td>0.0947</td>\n",
              "      <td>-18.599</td>\n",
              "      <td>0</td>\n",
              "      <td>0.0458</td>\n",
              "      <td>0.97800</td>\n",
              "      <td>0.478</td>\n",
              "      <td>0.0735</td>\n",
              "      <td>0.0365</td>\n",
              "      <td>84.560</td>\n",
              "      <td>7.190200</td>\n",
              "    </tr>\n",
              "    <tr>\n",
              "      <th>9240</th>\n",
              "      <td>TRTSGYX128F428ECC6</td>\n",
              "      <td>Toast &amp; Bananas</td>\n",
              "      <td>blink-182</td>\n",
              "      <td>0cImAVT8s9Us1WUivKjetn</td>\n",
              "      <td>punk, hardcore, punk_rock, reggae</td>\n",
              "      <td>0.359</td>\n",
              "      <td>0.9210</td>\n",
              "      <td>-5.449</td>\n",
              "      <td>1</td>\n",
              "      <td>0.0548</td>\n",
              "      <td>0.00018</td>\n",
              "      <td>0.000</td>\n",
              "      <td>0.2700</td>\n",
              "      <td>0.5140</td>\n",
              "      <td>104.767</td>\n",
              "      <td>2.445550</td>\n",
              "    </tr>\n",
              "    <tr>\n",
              "      <th>10150</th>\n",
              "      <td>TRPJZMZ128F146A476</td>\n",
              "      <td>Drumbone</td>\n",
              "      <td>Blue Man Group</td>\n",
              "      <td>2vHlQuYkOYOP2WVMAXMzAH</td>\n",
              "      <td>electronic, instrumental, industrial</td>\n",
              "      <td>0.726</td>\n",
              "      <td>0.8710</td>\n",
              "      <td>-10.233</td>\n",
              "      <td>0</td>\n",
              "      <td>0.0569</td>\n",
              "      <td>0.00050</td>\n",
              "      <td>0.783</td>\n",
              "      <td>0.0626</td>\n",
              "      <td>0.6920</td>\n",
              "      <td>139.619</td>\n",
              "      <td>2.738217</td>\n",
              "    </tr>\n",
              "    <tr>\n",
              "      <th>11906</th>\n",
              "      <td>TRKVLFV128F9316659</td>\n",
              "      <td>Sycamore</td>\n",
              "      <td>Caspian</td>\n",
              "      <td>0atrSIFaXexU8fuTxlEgt7</td>\n",
              "      <td>instrumental, post_rock</td>\n",
              "      <td>0.287</td>\n",
              "      <td>0.5840</td>\n",
              "      <td>-8.773</td>\n",
              "      <td>1</td>\n",
              "      <td>0.0520</td>\n",
              "      <td>0.01180</td>\n",
              "      <td>0.902</td>\n",
              "      <td>0.1950</td>\n",
              "      <td>0.1580</td>\n",
              "      <td>112.018</td>\n",
              "      <td>9.096883</td>\n",
              "    </tr>\n",
              "  </tbody>\n",
              "</table>\n",
              "</div>"
            ],
            "text/plain": [
              "                 track_id                name          artist  \\\n",
              "3805   TRDUQNA12903D0D68F       Song For Mary  The Herbaliser   \n",
              "6585   TRJNHPN128F92EF139  Adagio For Strings   Samuel Barber   \n",
              "9240   TRTSGYX128F428ECC6     Toast & Bananas       blink-182   \n",
              "10150  TRPJZMZ128F146A476            Drumbone  Blue Man Group   \n",
              "11906  TRKVLFV128F9316659            Sycamore         Caspian   \n",
              "\n",
              "                   spotify_id  \\\n",
              "3805   06AY4O46ElWG5ofF7m3BXy   \n",
              "6585   00otCiz9kUb3Vg7LPKNCZG   \n",
              "9240   0cImAVT8s9Us1WUivKjetn   \n",
              "10150  2vHlQuYkOYOP2WVMAXMzAH   \n",
              "11906  0atrSIFaXexU8fuTxlEgt7   \n",
              "\n",
              "                                                    tags  danceability  \\\n",
              "3805   jazz, chillout, hip_hop, trip_hop, downtempo, ...         0.620   \n",
              "6585      instrumental, classical, soundtrack, beautiful         0.140   \n",
              "9240                   punk, hardcore, punk_rock, reggae         0.359   \n",
              "10150               electronic, instrumental, industrial         0.726   \n",
              "11906                            instrumental, post_rock         0.287   \n",
              "\n",
              "       energy  loudness  mode  speechiness  acousticness  instrumentalness  \\\n",
              "3805   0.8010    -4.829     1       0.0596       0.30900             0.865   \n",
              "6585   0.0947   -18.599     0       0.0458       0.97800             0.478   \n",
              "9240   0.9210    -5.449     1       0.0548       0.00018             0.000   \n",
              "10150  0.8710   -10.233     0       0.0569       0.00050             0.783   \n",
              "11906  0.5840    -8.773     1       0.0520       0.01180             0.902   \n",
              "\n",
              "       liveness  valence    tempo  duration_mins  \n",
              "3805     0.1280   0.7560  178.063       5.287333  \n",
              "6585     0.0735   0.0365   84.560       7.190200  \n",
              "9240     0.2700   0.5140  104.767       2.445550  \n",
              "10150    0.0626   0.6920  139.619       2.738217  \n",
              "11906    0.1950   0.1580  112.018       9.096883  "
            ]
          },
          "execution_count": 44,
          "metadata": {},
          "output_type": "execute_result"
        }
      ],
      "source": [
        "rec_songs.head(5)"
      ]
    },
    {
      "cell_type": "code",
      "execution_count": 45,
      "metadata": {},
      "outputs": [],
      "source": [
        "# spotify_recs = spotify_recs.loc[:, ['name', 'danceability', 'energy', 'loudness', 'speechiness', 'acousticness', 'instrumentalness',\n",
        "#                                 'liveness', 'valence']]\n",
        "# spotify_recs.head(10)"
      ]
    },
    {
      "cell_type": "code",
      "execution_count": 46,
      "metadata": {},
      "outputs": [
        {
          "data": {
            "text/html": [
              "<div>\n",
              "<style scoped>\n",
              "    .dataframe tbody tr th:only-of-type {\n",
              "        vertical-align: middle;\n",
              "    }\n",
              "\n",
              "    .dataframe tbody tr th {\n",
              "        vertical-align: top;\n",
              "    }\n",
              "\n",
              "    .dataframe thead th {\n",
              "        text-align: right;\n",
              "    }\n",
              "</style>\n",
              "<table border=\"1\" class=\"dataframe\">\n",
              "  <thead>\n",
              "    <tr style=\"text-align: right;\">\n",
              "      <th></th>\n",
              "      <th>name</th>\n",
              "      <th>danceability</th>\n",
              "      <th>energy</th>\n",
              "      <th>loudness</th>\n",
              "      <th>speechiness</th>\n",
              "      <th>acousticness</th>\n",
              "      <th>instrumentalness</th>\n",
              "      <th>liveness</th>\n",
              "      <th>valence</th>\n",
              "    </tr>\n",
              "  </thead>\n",
              "  <tbody>\n",
              "    <tr>\n",
              "      <th>3805</th>\n",
              "      <td>Song For Mary</td>\n",
              "      <td>0.620</td>\n",
              "      <td>0.8010</td>\n",
              "      <td>-4.829</td>\n",
              "      <td>0.0596</td>\n",
              "      <td>0.309000</td>\n",
              "      <td>0.865000</td>\n",
              "      <td>0.1280</td>\n",
              "      <td>0.7560</td>\n",
              "    </tr>\n",
              "    <tr>\n",
              "      <th>6585</th>\n",
              "      <td>Adagio For Strings</td>\n",
              "      <td>0.140</td>\n",
              "      <td>0.0947</td>\n",
              "      <td>-18.599</td>\n",
              "      <td>0.0458</td>\n",
              "      <td>0.978000</td>\n",
              "      <td>0.478000</td>\n",
              "      <td>0.0735</td>\n",
              "      <td>0.0365</td>\n",
              "    </tr>\n",
              "    <tr>\n",
              "      <th>9240</th>\n",
              "      <td>Toast &amp; Bananas</td>\n",
              "      <td>0.359</td>\n",
              "      <td>0.9210</td>\n",
              "      <td>-5.449</td>\n",
              "      <td>0.0548</td>\n",
              "      <td>0.000180</td>\n",
              "      <td>0.000000</td>\n",
              "      <td>0.2700</td>\n",
              "      <td>0.5140</td>\n",
              "    </tr>\n",
              "    <tr>\n",
              "      <th>10150</th>\n",
              "      <td>Drumbone</td>\n",
              "      <td>0.726</td>\n",
              "      <td>0.8710</td>\n",
              "      <td>-10.233</td>\n",
              "      <td>0.0569</td>\n",
              "      <td>0.000500</td>\n",
              "      <td>0.783000</td>\n",
              "      <td>0.0626</td>\n",
              "      <td>0.6920</td>\n",
              "    </tr>\n",
              "    <tr>\n",
              "      <th>11906</th>\n",
              "      <td>Sycamore</td>\n",
              "      <td>0.287</td>\n",
              "      <td>0.5840</td>\n",
              "      <td>-8.773</td>\n",
              "      <td>0.0520</td>\n",
              "      <td>0.011800</td>\n",
              "      <td>0.902000</td>\n",
              "      <td>0.1950</td>\n",
              "      <td>0.1580</td>\n",
              "    </tr>\n",
              "    <tr>\n",
              "      <th>12626</th>\n",
              "      <td>The Fun Lovin' Criminal</td>\n",
              "      <td>0.752</td>\n",
              "      <td>0.6810</td>\n",
              "      <td>-7.397</td>\n",
              "      <td>0.0298</td>\n",
              "      <td>0.067600</td>\n",
              "      <td>0.382000</td>\n",
              "      <td>0.1740</td>\n",
              "      <td>0.7130</td>\n",
              "    </tr>\n",
              "    <tr>\n",
              "      <th>14103</th>\n",
              "      <td>Back From Space</td>\n",
              "      <td>0.497</td>\n",
              "      <td>0.8030</td>\n",
              "      <td>-11.689</td>\n",
              "      <td>0.0484</td>\n",
              "      <td>0.005900</td>\n",
              "      <td>0.761000</td>\n",
              "      <td>0.4250</td>\n",
              "      <td>0.3340</td>\n",
              "    </tr>\n",
              "    <tr>\n",
              "      <th>19421</th>\n",
              "      <td>So Vast as the Sky</td>\n",
              "      <td>0.802</td>\n",
              "      <td>0.4710</td>\n",
              "      <td>-13.373</td>\n",
              "      <td>0.0593</td>\n",
              "      <td>0.001090</td>\n",
              "      <td>0.868000</td>\n",
              "      <td>0.1060</td>\n",
              "      <td>0.7030</td>\n",
              "    </tr>\n",
              "    <tr>\n",
              "      <th>19934</th>\n",
              "      <td>This Is Really Testing The Patience I've Never...</td>\n",
              "      <td>0.132</td>\n",
              "      <td>0.9440</td>\n",
              "      <td>-4.505</td>\n",
              "      <td>0.1140</td>\n",
              "      <td>0.000034</td>\n",
              "      <td>0.000002</td>\n",
              "      <td>0.3490</td>\n",
              "      <td>0.0773</td>\n",
              "    </tr>\n",
              "    <tr>\n",
              "      <th>21806</th>\n",
              "      <td>Berghain</td>\n",
              "      <td>0.798</td>\n",
              "      <td>0.8090</td>\n",
              "      <td>-10.136</td>\n",
              "      <td>0.0660</td>\n",
              "      <td>0.197000</td>\n",
              "      <td>0.935000</td>\n",
              "      <td>0.0724</td>\n",
              "      <td>0.7990</td>\n",
              "    </tr>\n",
              "  </tbody>\n",
              "</table>\n",
              "</div>"
            ],
            "text/plain": [
              "                                                    name  danceability  \\\n",
              "3805                                       Song For Mary         0.620   \n",
              "6585                                  Adagio For Strings         0.140   \n",
              "9240                                     Toast & Bananas         0.359   \n",
              "10150                                           Drumbone         0.726   \n",
              "11906                                           Sycamore         0.287   \n",
              "12626                            The Fun Lovin' Criminal         0.752   \n",
              "14103                                    Back From Space         0.497   \n",
              "19421                                 So Vast as the Sky         0.802   \n",
              "19934  This Is Really Testing The Patience I've Never...         0.132   \n",
              "21806                                           Berghain         0.798   \n",
              "\n",
              "       energy  loudness  speechiness  acousticness  instrumentalness  \\\n",
              "3805   0.8010    -4.829       0.0596      0.309000          0.865000   \n",
              "6585   0.0947   -18.599       0.0458      0.978000          0.478000   \n",
              "9240   0.9210    -5.449       0.0548      0.000180          0.000000   \n",
              "10150  0.8710   -10.233       0.0569      0.000500          0.783000   \n",
              "11906  0.5840    -8.773       0.0520      0.011800          0.902000   \n",
              "12626  0.6810    -7.397       0.0298      0.067600          0.382000   \n",
              "14103  0.8030   -11.689       0.0484      0.005900          0.761000   \n",
              "19421  0.4710   -13.373       0.0593      0.001090          0.868000   \n",
              "19934  0.9440    -4.505       0.1140      0.000034          0.000002   \n",
              "21806  0.8090   -10.136       0.0660      0.197000          0.935000   \n",
              "\n",
              "       liveness  valence  \n",
              "3805     0.1280   0.7560  \n",
              "6585     0.0735   0.0365  \n",
              "9240     0.2700   0.5140  \n",
              "10150    0.0626   0.6920  \n",
              "11906    0.1950   0.1580  \n",
              "12626    0.1740   0.7130  \n",
              "14103    0.4250   0.3340  \n",
              "19421    0.1060   0.7030  \n",
              "19934    0.3490   0.0773  \n",
              "21806    0.0724   0.7990  "
            ]
          },
          "execution_count": 46,
          "metadata": {},
          "output_type": "execute_result"
        }
      ],
      "source": [
        "rec_songs = rec_songs.loc[:, ['name', 'danceability', 'energy', 'loudness', 'speechiness', 'acousticness', 'instrumentalness',\n",
        "                                'liveness', 'valence']]\n",
        "rec_songs.head(10)"
      ]
    },
    {
      "cell_type": "code",
      "execution_count": 47,
      "metadata": {},
      "outputs": [],
      "source": [
        "# rec_vectors = [row.values.tolist() for _, row in rec_songs.iterrows()]\n",
        "# spot_vectors = [row.values.tolist() for _, row in spotify_recs.iterrows()]\n",
        "\n",
        "# spot_vectors = spot_vectors[0:11] #delete this\n",
        "\n",
        "# #Format [our_rec_id, spot_rec_id, distance] \n",
        "\n",
        "# song_dist = []\n",
        "# # print(type(np.array(rec_vectors[0][1:])))\n",
        "# for song in rec_vectors:\n",
        "#     dist_per_song = []\n",
        "#     song_vals = np.array(song[1:])\n",
        "#     dist = 0.0\n",
        "#     for song2 in spot_vectors:\n",
        "#         song2_vals = np.array(song2[1:])\n",
        "#         dist = np.linalg.norm(song_vals - song2_vals)\n",
        "#         dist_per_song.append([song[0], song2[0], dist])\n",
        "#     song_dist.append(dist_per_song)\n",
        "\n",
        "# print(song_dist)"
      ]
    },
    {
      "cell_type": "code",
      "execution_count": 48,
      "metadata": {},
      "outputs": [],
      "source": [
        "# least_dist = []\n",
        "# exclude_list = []\n",
        "# for rec_song in song_dist:\n",
        "#     least = 100\n",
        "#     least_name = ''\n",
        "#     for pair in rec_song:\n",
        "#         if pair[2] < least and pair[1] not in exclude_list:\n",
        "#             least = pair[2]\n",
        "#             least_name = pair[1]\n",
        "#             exclude_list.append(least_name)\n",
        "#     least_dist.append([rec_song[0][0], least_name, least])\n",
        "#     print(exclude_list)\n",
        "#     print(len(exclude_list))\n",
        "# print(least_dist)"
      ]
    },
    {
      "cell_type": "code",
      "execution_count": 49,
      "metadata": {},
      "outputs": [
        {
          "data": {
            "application/vnd.plotly.v1+json": {
              "config": {
                "plotlyServerURL": "https://plot.ly"
              },
              "data": [
                {
                  "marker": {
                    "color": [
                      "green",
                      "green",
                      "green",
                      "green",
                      "green",
                      "green",
                      "green",
                      "green",
                      "green",
                      "purple",
                      "blue",
                      "blue",
                      "blue",
                      "blue",
                      "blue",
                      "blue",
                      "blue",
                      "blue",
                      "blue",
                      "red",
                      "red",
                      "red",
                      "red",
                      "red",
                      "red",
                      "red",
                      "red",
                      "red",
                      "red",
                      "red",
                      "red",
                      "red",
                      "red",
                      "red",
                      "red",
                      "red",
                      "red",
                      "red",
                      "red",
                      "red",
                      "red",
                      "red",
                      "red",
                      "red",
                      "red",
                      "red",
                      "red",
                      "red",
                      "red",
                      "red",
                      "red",
                      "red",
                      "red",
                      "red",
                      "red",
                      "red",
                      "red",
                      "red",
                      "red",
                      "red",
                      "red",
                      "red",
                      "red",
                      "red",
                      "red",
                      "red",
                      "red",
                      "red",
                      "red"
                    ],
                    "colorscale": [
                      [
                        0,
                        "#440154"
                      ],
                      [
                        0.1111111111111111,
                        "#482878"
                      ],
                      [
                        0.2222222222222222,
                        "#3e4989"
                      ],
                      [
                        0.3333333333333333,
                        "#31688e"
                      ],
                      [
                        0.4444444444444444,
                        "#26828e"
                      ],
                      [
                        0.5555555555555556,
                        "#1f9e89"
                      ],
                      [
                        0.6666666666666666,
                        "#35b779"
                      ],
                      [
                        0.7777777777777778,
                        "#6ece58"
                      ],
                      [
                        0.8888888888888888,
                        "#b5de2b"
                      ],
                      [
                        1,
                        "#fde725"
                      ]
                    ],
                    "opacity": 1,
                    "size": 5
                  },
                  "mode": "markers",
                  "text": [
                    "TRAVRKY128F429EA68",
                    "TRBJRZH128F429EA62",
                    "TRNJLKP128F427CE28",
                    "TRAEUFF128F424EAAF",
                    "TRRYMIR128F9354778",
                    "TRMGOFF128F1458362",
                    "TRDJQLI128E07917C7",
                    "TRYATJD128F92FDB02",
                    "TRXAVEU128E078D3CD",
                    "TRAFUNV128F92CFEB2",
                    "TRSSQIX128F4226B55",
                    "TRISTWT128F1488FBB",
                    "TRQWUUG128F1485DAB",
                    "TRIPSQP12903CE450C",
                    "TRCESGY128E0780E09",
                    "TRNQUIT128F428A0BD",
                    "TRHRFIN128F425DEF1",
                    "TRFUIGN128F92FE2C4",
                    "TRAALAH128E078234A",
                    "TRXNXOH128F4270327",
                    "TRXBTVU128F92FC2A8",
                    "TRVTBWS128EF342432",
                    "TRGPBPN128F42792A3",
                    "TRDUQNA12903D0D68F",
                    "TRUWASE128F42769ED",
                    "TRKYIJC128F4267DF8",
                    "TRUHRIX128F149CCFF",
                    "TRJGRYI128F4267D63",
                    "TRBFAWR128F42A4FDA",
                    "TRVADUR12903CBEAE3",
                    "TRMBNER128F426603A",
                    "TRHYVOC128F4271FB4",
                    "TRECKSQ128F147C8F6",
                    "TRNPZDI12903CF3D09",
                    "TRJAPJF128F146CB4E",
                    "TRUKJJD12903CCBB7B",
                    "TRXMWBF128E078EC2C",
                    "TRRRVYU128F932C2EB",
                    "TRRZEKF128F426ECD3",
                    "TRTEIUC12903CC14CB",
                    "TRBANNU128F42767CE",
                    "TRPEGMA128F42826CC",
                    "TRJNHPN128F92EF139",
                    "TRSNMOG128F92E899B",
                    "TRFMZLZ128F93238BB",
                    "TRROHMX128F42720A6",
                    "TRWTGTF128F93321F3",
                    "TROWXJW128F14682FA",
                    "TRUPCJU128F92C4BDB",
                    "TROPXUM12903CD6CF3",
                    "TRBFTBY128F426663E",
                    "TRYJGKN128F92E23CA",
                    "TRFTJNJ128F4243744",
                    "TRUHIEG128EF353C29",
                    "TRKVLFV128F9316659",
                    "TRAEZFA128F931798A",
                    "TRLGZAI128F931A62E",
                    "TRRQLUJ128F4296E13",
                    "TREVHUO128F92DF90B",
                    "TRIOKHZ128F930D3CA",
                    "TRSCUBC128E0782224",
                    "TRUEOSS128F4287B83",
                    "TRSYWFI128F931682F",
                    "TRTSGYX128F428ECC6",
                    "TRPJZMZ128F146A476",
                    "TRPPEVN128F149F0CF",
                    "TRTXDCW128F934C609",
                    "TRKOPFF128F427539F",
                    "TRXMIVE128F423F079"
                  ],
                  "type": "scatter3d",
                  "x": [
                    -13.396985,
                    -12.793202,
                    10.879049,
                    -23.01597,
                    -0.7525104,
                    5.507343,
                    -11.723165,
                    -5.895184,
                    -17.280382,
                    -0.6926877,
                    1.8865513,
                    30.326002,
                    -1.7956061,
                    13.894544,
                    7.501612,
                    0.40695134,
                    -18.293188,
                    -15.647605,
                    -13.937584,
                    17.290989,
                    -5.083092,
                    2.8038616,
                    -16.679153,
                    18.418676,
                    9.881106,
                    -10.980041,
                    -4.5276027,
                    -9.720268,
                    -0.21639866,
                    -8.369327,
                    -6.11525,
                    7.8957534,
                    -24.176348,
                    12.990029,
                    19.15155,
                    15.782128,
                    -4.8558135,
                    4.0044456,
                    -0.46220222,
                    -2.9115283,
                    -23.395891,
                    1.191161,
                    20.845606,
                    18.566875,
                    -18.147562,
                    -9.862116,
                    -12.109953,
                    20.765106,
                    16.32695,
                    3.1108203,
                    -6.1809406,
                    -15.833637,
                    -2.2402632,
                    1.2159034,
                    21.729351,
                    1.8427203,
                    9.951347,
                    -10.371031,
                    12.624883,
                    -22.172215,
                    -26.820675,
                    -10.346714,
                    -2.3830261,
                    16.842672,
                    12.735981,
                    15.258119,
                    -11.322337,
                    -5.9908304,
                    23.124525
                  ],
                  "y": [
                    23.92058,
                    19.180822,
                    -21.655573,
                    -3.7185338,
                    -1.6161684,
                    20.750048,
                    -15.807197,
                    10.233229,
                    -8.182697,
                    -1.0349771,
                    21.458982,
                    -7.2389727,
                    -12.844466,
                    -10.58617,
                    7.612887,
                    8.404398,
                    -21.286463,
                    12.505508,
                    -19.845137,
                    20.432005,
                    9.552284,
                    -1.167957,
                    13.577199,
                    -0.35524353,
                    9.816072,
                    -15.245567,
                    -14.985776,
                    -1.2483296,
                    -7.332117,
                    13.652871,
                    -20.42307,
                    6.6164365,
                    -20.705734,
                    27.958359,
                    22.870247,
                    23.601477,
                    -30.114891,
                    4.979777,
                    9.559988,
                    -6.9018393,
                    -8.589416,
                    5.60817,
                    -3.1892352,
                    17.302742,
                    -25.989536,
                    -22.321604,
                    4.193465,
                    -4.5481186,
                    -23.841873,
                    21.698366,
                    -11.765556,
                    -19.426144,
                    -10.08629,
                    0.41759253,
                    -8.659884,
                    29.932295,
                    -21.36739,
                    -10.315167,
                    21.080843,
                    -13.3639555,
                    -10.405888,
                    8.792439,
                    2.165434,
                    -14.372051,
                    -15.041114,
                    -0.35652333,
                    -33.851604,
                    -13.921194,
                    -9.86232
                  ],
                  "z": [
                    1.0065967,
                    -0.3449869,
                    8.138985,
                    1.8971509,
                    -22.646254,
                    4.5616255,
                    12.505669,
                    1.1838789,
                    -2.5985925,
                    7.657191,
                    -7.953991,
                    -3.573551,
                    1.7892963,
                    2.55853,
                    16.099976,
                    4.3569183,
                    -1.9728127,
                    8.293179,
                    -5.0222282,
                    0.2781528,
                    6.700235,
                    13.289942,
                    7.02359,
                    5.5321193,
                    11.822208,
                    -4.6771092,
                    -7.233661,
                    14.006897,
                    -5.264009,
                    3.3442461,
                    -3.303159,
                    21.671366,
                    6.6711497,
                    -4.2022285,
                    -4.7090454,
                    -8.855563,
                    -9.760531,
                    -20.849468,
                    -5.1113434,
                    21.528769,
                    11.774595,
                    18.838905,
                    -2.2408938,
                    -4.551523,
                    -2.6635478,
                    10.097955,
                    -8.606485,
                    -0.26921538,
                    0.72046375,
                    11.872382,
                    22.287392,
                    -3.1878014,
                    18.812826,
                    5.1261315,
                    16.774515,
                    -10.542284,
                    6.5227523,
                    3.9868264,
                    -8.610671,
                    -4.040327,
                    -0.9884585,
                    12.703644,
                    -4.3649564,
                    5.4104815,
                    11.258833,
                    -15.378673,
                    -4.5489774,
                    4.5991497,
                    13.123867
                  ]
                }
              ],
              "layout": {
                "height": 800,
                "scene": {
                  "xaxis": {
                    "title": {
                      "text": "x"
                    }
                  },
                  "yaxis": {
                    "title": {
                      "text": "y"
                    }
                  },
                  "zaxis": {
                    "title": {
                      "text": "z"
                    }
                  }
                },
                "template": {
                  "data": {
                    "bar": [
                      {
                        "error_x": {
                          "color": "#2a3f5f"
                        },
                        "error_y": {
                          "color": "#2a3f5f"
                        },
                        "marker": {
                          "line": {
                            "color": "#E5ECF6",
                            "width": 0.5
                          },
                          "pattern": {
                            "fillmode": "overlay",
                            "size": 10,
                            "solidity": 0.2
                          }
                        },
                        "type": "bar"
                      }
                    ],
                    "barpolar": [
                      {
                        "marker": {
                          "line": {
                            "color": "#E5ECF6",
                            "width": 0.5
                          },
                          "pattern": {
                            "fillmode": "overlay",
                            "size": 10,
                            "solidity": 0.2
                          }
                        },
                        "type": "barpolar"
                      }
                    ],
                    "carpet": [
                      {
                        "aaxis": {
                          "endlinecolor": "#2a3f5f",
                          "gridcolor": "white",
                          "linecolor": "white",
                          "minorgridcolor": "white",
                          "startlinecolor": "#2a3f5f"
                        },
                        "baxis": {
                          "endlinecolor": "#2a3f5f",
                          "gridcolor": "white",
                          "linecolor": "white",
                          "minorgridcolor": "white",
                          "startlinecolor": "#2a3f5f"
                        },
                        "type": "carpet"
                      }
                    ],
                    "choropleth": [
                      {
                        "colorbar": {
                          "outlinewidth": 0,
                          "ticks": ""
                        },
                        "type": "choropleth"
                      }
                    ],
                    "contour": [
                      {
                        "colorbar": {
                          "outlinewidth": 0,
                          "ticks": ""
                        },
                        "colorscale": [
                          [
                            0,
                            "#0d0887"
                          ],
                          [
                            0.1111111111111111,
                            "#46039f"
                          ],
                          [
                            0.2222222222222222,
                            "#7201a8"
                          ],
                          [
                            0.3333333333333333,
                            "#9c179e"
                          ],
                          [
                            0.4444444444444444,
                            "#bd3786"
                          ],
                          [
                            0.5555555555555556,
                            "#d8576b"
                          ],
                          [
                            0.6666666666666666,
                            "#ed7953"
                          ],
                          [
                            0.7777777777777778,
                            "#fb9f3a"
                          ],
                          [
                            0.8888888888888888,
                            "#fdca26"
                          ],
                          [
                            1,
                            "#f0f921"
                          ]
                        ],
                        "type": "contour"
                      }
                    ],
                    "contourcarpet": [
                      {
                        "colorbar": {
                          "outlinewidth": 0,
                          "ticks": ""
                        },
                        "type": "contourcarpet"
                      }
                    ],
                    "heatmap": [
                      {
                        "colorbar": {
                          "outlinewidth": 0,
                          "ticks": ""
                        },
                        "colorscale": [
                          [
                            0,
                            "#0d0887"
                          ],
                          [
                            0.1111111111111111,
                            "#46039f"
                          ],
                          [
                            0.2222222222222222,
                            "#7201a8"
                          ],
                          [
                            0.3333333333333333,
                            "#9c179e"
                          ],
                          [
                            0.4444444444444444,
                            "#bd3786"
                          ],
                          [
                            0.5555555555555556,
                            "#d8576b"
                          ],
                          [
                            0.6666666666666666,
                            "#ed7953"
                          ],
                          [
                            0.7777777777777778,
                            "#fb9f3a"
                          ],
                          [
                            0.8888888888888888,
                            "#fdca26"
                          ],
                          [
                            1,
                            "#f0f921"
                          ]
                        ],
                        "type": "heatmap"
                      }
                    ],
                    "heatmapgl": [
                      {
                        "colorbar": {
                          "outlinewidth": 0,
                          "ticks": ""
                        },
                        "colorscale": [
                          [
                            0,
                            "#0d0887"
                          ],
                          [
                            0.1111111111111111,
                            "#46039f"
                          ],
                          [
                            0.2222222222222222,
                            "#7201a8"
                          ],
                          [
                            0.3333333333333333,
                            "#9c179e"
                          ],
                          [
                            0.4444444444444444,
                            "#bd3786"
                          ],
                          [
                            0.5555555555555556,
                            "#d8576b"
                          ],
                          [
                            0.6666666666666666,
                            "#ed7953"
                          ],
                          [
                            0.7777777777777778,
                            "#fb9f3a"
                          ],
                          [
                            0.8888888888888888,
                            "#fdca26"
                          ],
                          [
                            1,
                            "#f0f921"
                          ]
                        ],
                        "type": "heatmapgl"
                      }
                    ],
                    "histogram": [
                      {
                        "marker": {
                          "pattern": {
                            "fillmode": "overlay",
                            "size": 10,
                            "solidity": 0.2
                          }
                        },
                        "type": "histogram"
                      }
                    ],
                    "histogram2d": [
                      {
                        "colorbar": {
                          "outlinewidth": 0,
                          "ticks": ""
                        },
                        "colorscale": [
                          [
                            0,
                            "#0d0887"
                          ],
                          [
                            0.1111111111111111,
                            "#46039f"
                          ],
                          [
                            0.2222222222222222,
                            "#7201a8"
                          ],
                          [
                            0.3333333333333333,
                            "#9c179e"
                          ],
                          [
                            0.4444444444444444,
                            "#bd3786"
                          ],
                          [
                            0.5555555555555556,
                            "#d8576b"
                          ],
                          [
                            0.6666666666666666,
                            "#ed7953"
                          ],
                          [
                            0.7777777777777778,
                            "#fb9f3a"
                          ],
                          [
                            0.8888888888888888,
                            "#fdca26"
                          ],
                          [
                            1,
                            "#f0f921"
                          ]
                        ],
                        "type": "histogram2d"
                      }
                    ],
                    "histogram2dcontour": [
                      {
                        "colorbar": {
                          "outlinewidth": 0,
                          "ticks": ""
                        },
                        "colorscale": [
                          [
                            0,
                            "#0d0887"
                          ],
                          [
                            0.1111111111111111,
                            "#46039f"
                          ],
                          [
                            0.2222222222222222,
                            "#7201a8"
                          ],
                          [
                            0.3333333333333333,
                            "#9c179e"
                          ],
                          [
                            0.4444444444444444,
                            "#bd3786"
                          ],
                          [
                            0.5555555555555556,
                            "#d8576b"
                          ],
                          [
                            0.6666666666666666,
                            "#ed7953"
                          ],
                          [
                            0.7777777777777778,
                            "#fb9f3a"
                          ],
                          [
                            0.8888888888888888,
                            "#fdca26"
                          ],
                          [
                            1,
                            "#f0f921"
                          ]
                        ],
                        "type": "histogram2dcontour"
                      }
                    ],
                    "mesh3d": [
                      {
                        "colorbar": {
                          "outlinewidth": 0,
                          "ticks": ""
                        },
                        "type": "mesh3d"
                      }
                    ],
                    "parcoords": [
                      {
                        "line": {
                          "colorbar": {
                            "outlinewidth": 0,
                            "ticks": ""
                          }
                        },
                        "type": "parcoords"
                      }
                    ],
                    "pie": [
                      {
                        "automargin": true,
                        "type": "pie"
                      }
                    ],
                    "scatter": [
                      {
                        "fillpattern": {
                          "fillmode": "overlay",
                          "size": 10,
                          "solidity": 0.2
                        },
                        "type": "scatter"
                      }
                    ],
                    "scatter3d": [
                      {
                        "line": {
                          "colorbar": {
                            "outlinewidth": 0,
                            "ticks": ""
                          }
                        },
                        "marker": {
                          "colorbar": {
                            "outlinewidth": 0,
                            "ticks": ""
                          }
                        },
                        "type": "scatter3d"
                      }
                    ],
                    "scattercarpet": [
                      {
                        "marker": {
                          "colorbar": {
                            "outlinewidth": 0,
                            "ticks": ""
                          }
                        },
                        "type": "scattercarpet"
                      }
                    ],
                    "scattergeo": [
                      {
                        "marker": {
                          "colorbar": {
                            "outlinewidth": 0,
                            "ticks": ""
                          }
                        },
                        "type": "scattergeo"
                      }
                    ],
                    "scattergl": [
                      {
                        "marker": {
                          "colorbar": {
                            "outlinewidth": 0,
                            "ticks": ""
                          }
                        },
                        "type": "scattergl"
                      }
                    ],
                    "scattermapbox": [
                      {
                        "marker": {
                          "colorbar": {
                            "outlinewidth": 0,
                            "ticks": ""
                          }
                        },
                        "type": "scattermapbox"
                      }
                    ],
                    "scatterpolar": [
                      {
                        "marker": {
                          "colorbar": {
                            "outlinewidth": 0,
                            "ticks": ""
                          }
                        },
                        "type": "scatterpolar"
                      }
                    ],
                    "scatterpolargl": [
                      {
                        "marker": {
                          "colorbar": {
                            "outlinewidth": 0,
                            "ticks": ""
                          }
                        },
                        "type": "scatterpolargl"
                      }
                    ],
                    "scatterternary": [
                      {
                        "marker": {
                          "colorbar": {
                            "outlinewidth": 0,
                            "ticks": ""
                          }
                        },
                        "type": "scatterternary"
                      }
                    ],
                    "surface": [
                      {
                        "colorbar": {
                          "outlinewidth": 0,
                          "ticks": ""
                        },
                        "colorscale": [
                          [
                            0,
                            "#0d0887"
                          ],
                          [
                            0.1111111111111111,
                            "#46039f"
                          ],
                          [
                            0.2222222222222222,
                            "#7201a8"
                          ],
                          [
                            0.3333333333333333,
                            "#9c179e"
                          ],
                          [
                            0.4444444444444444,
                            "#bd3786"
                          ],
                          [
                            0.5555555555555556,
                            "#d8576b"
                          ],
                          [
                            0.6666666666666666,
                            "#ed7953"
                          ],
                          [
                            0.7777777777777778,
                            "#fb9f3a"
                          ],
                          [
                            0.8888888888888888,
                            "#fdca26"
                          ],
                          [
                            1,
                            "#f0f921"
                          ]
                        ],
                        "type": "surface"
                      }
                    ],
                    "table": [
                      {
                        "cells": {
                          "fill": {
                            "color": "#EBF0F8"
                          },
                          "line": {
                            "color": "white"
                          }
                        },
                        "header": {
                          "fill": {
                            "color": "#C8D4E3"
                          },
                          "line": {
                            "color": "white"
                          }
                        },
                        "type": "table"
                      }
                    ]
                  },
                  "layout": {
                    "annotationdefaults": {
                      "arrowcolor": "#2a3f5f",
                      "arrowhead": 0,
                      "arrowwidth": 1
                    },
                    "autotypenumbers": "strict",
                    "coloraxis": {
                      "colorbar": {
                        "outlinewidth": 0,
                        "ticks": ""
                      }
                    },
                    "colorscale": {
                      "diverging": [
                        [
                          0,
                          "#8e0152"
                        ],
                        [
                          0.1,
                          "#c51b7d"
                        ],
                        [
                          0.2,
                          "#de77ae"
                        ],
                        [
                          0.3,
                          "#f1b6da"
                        ],
                        [
                          0.4,
                          "#fde0ef"
                        ],
                        [
                          0.5,
                          "#f7f7f7"
                        ],
                        [
                          0.6,
                          "#e6f5d0"
                        ],
                        [
                          0.7,
                          "#b8e186"
                        ],
                        [
                          0.8,
                          "#7fbc41"
                        ],
                        [
                          0.9,
                          "#4d9221"
                        ],
                        [
                          1,
                          "#276419"
                        ]
                      ],
                      "sequential": [
                        [
                          0,
                          "#0d0887"
                        ],
                        [
                          0.1111111111111111,
                          "#46039f"
                        ],
                        [
                          0.2222222222222222,
                          "#7201a8"
                        ],
                        [
                          0.3333333333333333,
                          "#9c179e"
                        ],
                        [
                          0.4444444444444444,
                          "#bd3786"
                        ],
                        [
                          0.5555555555555556,
                          "#d8576b"
                        ],
                        [
                          0.6666666666666666,
                          "#ed7953"
                        ],
                        [
                          0.7777777777777778,
                          "#fb9f3a"
                        ],
                        [
                          0.8888888888888888,
                          "#fdca26"
                        ],
                        [
                          1,
                          "#f0f921"
                        ]
                      ],
                      "sequentialminus": [
                        [
                          0,
                          "#0d0887"
                        ],
                        [
                          0.1111111111111111,
                          "#46039f"
                        ],
                        [
                          0.2222222222222222,
                          "#7201a8"
                        ],
                        [
                          0.3333333333333333,
                          "#9c179e"
                        ],
                        [
                          0.4444444444444444,
                          "#bd3786"
                        ],
                        [
                          0.5555555555555556,
                          "#d8576b"
                        ],
                        [
                          0.6666666666666666,
                          "#ed7953"
                        ],
                        [
                          0.7777777777777778,
                          "#fb9f3a"
                        ],
                        [
                          0.8888888888888888,
                          "#fdca26"
                        ],
                        [
                          1,
                          "#f0f921"
                        ]
                      ]
                    },
                    "colorway": [
                      "#636efa",
                      "#EF553B",
                      "#00cc96",
                      "#ab63fa",
                      "#FFA15A",
                      "#19d3f3",
                      "#FF6692",
                      "#B6E880",
                      "#FF97FF",
                      "#FECB52"
                    ],
                    "font": {
                      "color": "#2a3f5f"
                    },
                    "geo": {
                      "bgcolor": "white",
                      "lakecolor": "white",
                      "landcolor": "#E5ECF6",
                      "showlakes": true,
                      "showland": true,
                      "subunitcolor": "white"
                    },
                    "hoverlabel": {
                      "align": "left"
                    },
                    "hovermode": "closest",
                    "mapbox": {
                      "style": "light"
                    },
                    "paper_bgcolor": "white",
                    "plot_bgcolor": "#E5ECF6",
                    "polar": {
                      "angularaxis": {
                        "gridcolor": "white",
                        "linecolor": "white",
                        "ticks": ""
                      },
                      "bgcolor": "#E5ECF6",
                      "radialaxis": {
                        "gridcolor": "white",
                        "linecolor": "white",
                        "ticks": ""
                      }
                    },
                    "scene": {
                      "xaxis": {
                        "backgroundcolor": "#E5ECF6",
                        "gridcolor": "white",
                        "gridwidth": 2,
                        "linecolor": "white",
                        "showbackground": true,
                        "ticks": "",
                        "zerolinecolor": "white"
                      },
                      "yaxis": {
                        "backgroundcolor": "#E5ECF6",
                        "gridcolor": "white",
                        "gridwidth": 2,
                        "linecolor": "white",
                        "showbackground": true,
                        "ticks": "",
                        "zerolinecolor": "white"
                      },
                      "zaxis": {
                        "backgroundcolor": "#E5ECF6",
                        "gridcolor": "white",
                        "gridwidth": 2,
                        "linecolor": "white",
                        "showbackground": true,
                        "ticks": "",
                        "zerolinecolor": "white"
                      }
                    },
                    "shapedefaults": {
                      "line": {
                        "color": "#2a3f5f"
                      }
                    },
                    "ternary": {
                      "aaxis": {
                        "gridcolor": "white",
                        "linecolor": "white",
                        "ticks": ""
                      },
                      "baxis": {
                        "gridcolor": "white",
                        "linecolor": "white",
                        "ticks": ""
                      },
                      "bgcolor": "#E5ECF6",
                      "caxis": {
                        "gridcolor": "white",
                        "linecolor": "white",
                        "ticks": ""
                      }
                    },
                    "title": {
                      "x": 0.05
                    },
                    "xaxis": {
                      "automargin": true,
                      "gridcolor": "white",
                      "linecolor": "white",
                      "ticks": "",
                      "title": {
                        "standoff": 15
                      },
                      "zerolinecolor": "white",
                      "zerolinewidth": 2
                    },
                    "yaxis": {
                      "automargin": true,
                      "gridcolor": "white",
                      "linecolor": "white",
                      "ticks": "",
                      "title": {
                        "standoff": 15
                      },
                      "zerolinecolor": "white",
                      "zerolinewidth": 2
                    }
                  }
                },
                "width": 1000
              }
            }
          },
          "metadata": {},
          "output_type": "display_data"
        }
      ],
      "source": [
        "fig = go.Figure()\n",
        "\n",
        "text_data = list(candidates.keys())\n",
        "embeddings_3d = np.concatenate(list(candidates.values())).reshape(len(candidates), 3)\n",
        "\n",
        "color_data = ['blue' if i < cutoff else 'red' for i in range(len(candidates))]\n",
        "for i in closest_candidates_indices:\n",
        "    color_data[i] = 'green'\n",
        "color_data[closest_candidates_indices[0]] = 'purple'\n",
        "\n",
        "fig.add_trace(go.Scatter3d(\n",
        "    x=embeddings_3d[:, 0],\n",
        "    y=embeddings_3d[:, 1],\n",
        "    z=embeddings_3d[:, 2],\n",
        "    text=text_data,\n",
        "    mode='markers',\n",
        "    marker=dict(\n",
        "        size=5,\n",
        "        color=color_data,\n",
        "        colorscale='Viridis',\n",
        "        opacity=1\n",
        "    )\n",
        "))\n",
        "\n",
        "\n",
        "fig.update_layout(\n",
        "    scene=dict(\n",
        "        xaxis=dict(title='x'),\n",
        "        yaxis=dict(title='y'),\n",
        "        zaxis=dict(title='z')\n",
        "    ),\n",
        "\twidth=1000,\n",
        "    height=800\n",
        ")\n",
        "\n",
        "fig.show()\n"
      ]
    },
    {
      "cell_type": "markdown",
      "metadata": {},
      "source": [
        "### Spotify API Evaluation\n",
        "Get recommendations from Spotify by passing in minimum and maximum feature values, and compare the songs to our recommended playlist.\n"
      ]
    },
    {
      "cell_type": "code",
      "execution_count": 39,
      "metadata": {},
      "outputs": [
        {
          "data": {
            "text/plain": [
              "{'min_danceability': 0.247,\n",
              " 'max_danceability': 0.718,\n",
              " 'min_energy': 0.478,\n",
              " 'max_energy': 0.985,\n",
              " 'min_loudness': -13.628,\n",
              " 'max_loudness': -3.094,\n",
              " 'min_speechiness': 0.0299,\n",
              " 'max_speechiness': 0.217,\n",
              " 'min_acousticness': 0.000421,\n",
              " 'max_acousticness': 0.777,\n",
              " 'min_instrumentalness': 0.0,\n",
              " 'max_instrumentalness': 0.918,\n",
              " 'min_liveness': 0.0907,\n",
              " 'max_liveness': 0.829,\n",
              " 'min_valence': 0.0666,\n",
              " 'max_valence': 0.923,\n",
              " 'seed_genres': 'rock, alternative, indie'}"
            ]
          },
          "execution_count": 39,
          "metadata": {},
          "output_type": "execute_result"
        }
      ],
      "source": [
        "from spotify import SpotifyAPI\n",
        "from dotenv import load_dotenv\n",
        "# Get the input playlist\n",
        "# Traverse along each song in playlist and preserve min max of feature values and \n",
        "# Store in list that gets passed to parameters for Spotify APIcommendations\n",
        "\n",
        "input_playlist = og_songs\n",
        "features = dict()\n",
        "feature_names = [\"danceability\",\"energy\",\"loudness\",\"speechiness\",\"acousticness\",\"instrumentalness\",\"liveness\", \"valence\"]\n",
        "\n",
        "for feature in feature_names:\n",
        "    features[\"min_\" + feature] = input_playlist[feature].min()\n",
        "    features[\"max_\" + feature] = input_playlist[feature].max()\n",
        "\n",
        "features[\"seed_genres\"] = input_playlist['tags'].iloc[0].split(',')[:3]\n",
        "features[\"seed_genres\"] = ','.join(features[\"seed_genres\"])\n",
        "features\n"
      ]
    },
    {
      "cell_type": "code",
      "execution_count": 40,
      "metadata": {},
      "outputs": [
        {
          "data": {
            "text/plain": [
              "['1fa1ca9358074af48f6230e7b13c0737', '880a92c5194f496b929d0d4d96ec3a59']"
            ]
          },
          "execution_count": 40,
          "metadata": {},
          "output_type": "execute_result"
        }
      ],
      "source": [
        "env_path = os.path.join('misc', '.env')\n",
        "load_dotenv(dotenv_path=env_path)\n",
        "SPOTIFY_CREDS = [os.getenv('SPOTIFY_CLIENT_ID'), \n",
        "                os.getenv('SPOTIFY_CLIENT_SECRET')]\n",
        "\n",
        "if not all(SPOTIFY_CREDS):\n",
        "        print(\"Please set the SPOTIFY_CLIENT_ID and SPOTIFY_CLIENT_SECRET environment variables\")\n",
        "        exit(1)\n",
        "\n",
        "spotify = SpotifyAPI(*SPOTIFY_CREDS)\n",
        "SPOTIFY_CREDS"
      ]
    },
    {
      "cell_type": "code",
      "execution_count": 41,
      "metadata": {},
      "outputs": [],
      "source": [
        "recs_from_spotify = spotify.get_recommendations(features=features, limit=10)"
      ]
    },
    {
      "cell_type": "code",
      "execution_count": 42,
      "metadata": {},
      "outputs": [
        {
          "data": {
            "text/html": [
              "<div>\n",
              "<style scoped>\n",
              "    .dataframe tbody tr th:only-of-type {\n",
              "        vertical-align: middle;\n",
              "    }\n",
              "\n",
              "    .dataframe tbody tr th {\n",
              "        vertical-align: top;\n",
              "    }\n",
              "\n",
              "    .dataframe thead th {\n",
              "        text-align: right;\n",
              "    }\n",
              "</style>\n",
              "<table border=\"1\" class=\"dataframe\">\n",
              "  <thead>\n",
              "    <tr style=\"text-align: right;\">\n",
              "      <th></th>\n",
              "      <th>name</th>\n",
              "      <th>danceability</th>\n",
              "      <th>energy</th>\n",
              "      <th>loudness</th>\n",
              "      <th>speechiness</th>\n",
              "      <th>acousticness</th>\n",
              "      <th>instrumentalness</th>\n",
              "      <th>liveness</th>\n",
              "      <th>valence</th>\n",
              "    </tr>\n",
              "  </thead>\n",
              "  <tbody>\n",
              "    <tr>\n",
              "      <th>0</th>\n",
              "      <td>Zombie</td>\n",
              "      <td>0.448</td>\n",
              "      <td>0.826</td>\n",
              "      <td>-3.244</td>\n",
              "      <td>0.0319</td>\n",
              "      <td>0.007560</td>\n",
              "      <td>0.000000</td>\n",
              "      <td>0.117</td>\n",
              "      <td>0.190</td>\n",
              "    </tr>\n",
              "    <tr>\n",
              "      <th>1</th>\n",
              "      <td>Don't Stop Me Now - Remastered 2011</td>\n",
              "      <td>0.559</td>\n",
              "      <td>0.868</td>\n",
              "      <td>-5.276</td>\n",
              "      <td>0.1700</td>\n",
              "      <td>0.047500</td>\n",
              "      <td>0.000176</td>\n",
              "      <td>0.776</td>\n",
              "      <td>0.609</td>\n",
              "    </tr>\n",
              "    <tr>\n",
              "      <th>2</th>\n",
              "      <td>Basket Case</td>\n",
              "      <td>0.442</td>\n",
              "      <td>0.943</td>\n",
              "      <td>-3.205</td>\n",
              "      <td>0.0602</td>\n",
              "      <td>0.002930</td>\n",
              "      <td>0.000009</td>\n",
              "      <td>0.091</td>\n",
              "      <td>0.781</td>\n",
              "    </tr>\n",
              "    <tr>\n",
              "      <th>3</th>\n",
              "      <td>Runnin' with the Devil - 2015 Remaster</td>\n",
              "      <td>0.472</td>\n",
              "      <td>0.900</td>\n",
              "      <td>-6.406</td>\n",
              "      <td>0.0582</td>\n",
              "      <td>0.148000</td>\n",
              "      <td>0.000297</td>\n",
              "      <td>0.340</td>\n",
              "      <td>0.420</td>\n",
              "    </tr>\n",
              "    <tr>\n",
              "      <th>4</th>\n",
              "      <td>R U Mine?</td>\n",
              "      <td>0.288</td>\n",
              "      <td>0.758</td>\n",
              "      <td>-5.692</td>\n",
              "      <td>0.0371</td>\n",
              "      <td>0.006160</td>\n",
              "      <td>0.000000</td>\n",
              "      <td>0.303</td>\n",
              "      <td>0.619</td>\n",
              "    </tr>\n",
              "    <tr>\n",
              "      <th>5</th>\n",
              "      <td>Take A Look Around</td>\n",
              "      <td>0.476</td>\n",
              "      <td>0.859</td>\n",
              "      <td>-5.573</td>\n",
              "      <td>0.0478</td>\n",
              "      <td>0.021100</td>\n",
              "      <td>0.297000</td>\n",
              "      <td>0.109</td>\n",
              "      <td>0.506</td>\n",
              "    </tr>\n",
              "    <tr>\n",
              "      <th>6</th>\n",
              "      <td>Hearts On Fire</td>\n",
              "      <td>0.580</td>\n",
              "      <td>0.896</td>\n",
              "      <td>-5.962</td>\n",
              "      <td>0.0518</td>\n",
              "      <td>0.000483</td>\n",
              "      <td>0.000002</td>\n",
              "      <td>0.672</td>\n",
              "      <td>0.381</td>\n",
              "    </tr>\n",
              "    <tr>\n",
              "      <th>7</th>\n",
              "      <td>Peace of Mind</td>\n",
              "      <td>0.419</td>\n",
              "      <td>0.677</td>\n",
              "      <td>-6.183</td>\n",
              "      <td>0.0343</td>\n",
              "      <td>0.001010</td>\n",
              "      <td>0.000100</td>\n",
              "      <td>0.211</td>\n",
              "      <td>0.684</td>\n",
              "    </tr>\n",
              "    <tr>\n",
              "      <th>8</th>\n",
              "      <td>You're Going Down</td>\n",
              "      <td>0.490</td>\n",
              "      <td>0.833</td>\n",
              "      <td>-5.899</td>\n",
              "      <td>0.0487</td>\n",
              "      <td>0.011600</td>\n",
              "      <td>0.000504</td>\n",
              "      <td>0.150</td>\n",
              "      <td>0.390</td>\n",
              "    </tr>\n",
              "    <tr>\n",
              "      <th>9</th>\n",
              "      <td>Meadow</td>\n",
              "      <td>0.499</td>\n",
              "      <td>0.889</td>\n",
              "      <td>-4.154</td>\n",
              "      <td>0.0385</td>\n",
              "      <td>0.000529</td>\n",
              "      <td>0.003410</td>\n",
              "      <td>0.281</td>\n",
              "      <td>0.488</td>\n",
              "    </tr>\n",
              "  </tbody>\n",
              "</table>\n",
              "</div>"
            ],
            "text/plain": [
              "                                     name  danceability  energy  loudness  \\\n",
              "0                                  Zombie         0.448   0.826    -3.244   \n",
              "1     Don't Stop Me Now - Remastered 2011         0.559   0.868    -5.276   \n",
              "2                             Basket Case         0.442   0.943    -3.205   \n",
              "3  Runnin' with the Devil - 2015 Remaster         0.472   0.900    -6.406   \n",
              "4                               R U Mine?         0.288   0.758    -5.692   \n",
              "5                      Take A Look Around         0.476   0.859    -5.573   \n",
              "6                          Hearts On Fire         0.580   0.896    -5.962   \n",
              "7                           Peace of Mind         0.419   0.677    -6.183   \n",
              "8                       You're Going Down         0.490   0.833    -5.899   \n",
              "9                                  Meadow         0.499   0.889    -4.154   \n",
              "\n",
              "   speechiness  acousticness  instrumentalness  liveness  valence  \n",
              "0       0.0319      0.007560          0.000000     0.117    0.190  \n",
              "1       0.1700      0.047500          0.000176     0.776    0.609  \n",
              "2       0.0602      0.002930          0.000009     0.091    0.781  \n",
              "3       0.0582      0.148000          0.000297     0.340    0.420  \n",
              "4       0.0371      0.006160          0.000000     0.303    0.619  \n",
              "5       0.0478      0.021100          0.297000     0.109    0.506  \n",
              "6       0.0518      0.000483          0.000002     0.672    0.381  \n",
              "7       0.0343      0.001010          0.000100     0.211    0.684  \n",
              "8       0.0487      0.011600          0.000504     0.150    0.390  \n",
              "9       0.0385      0.000529          0.003410     0.281    0.488  "
            ]
          },
          "execution_count": 42,
          "metadata": {},
          "output_type": "execute_result"
        }
      ],
      "source": [
        "# SPOTIFY's PREDICTED RECOMMENDATIONS\n",
        "recs_from_spotify = recs_from_spotify.loc[:, ['name', 'danceability', 'energy', 'loudness', 'speechiness', 'acousticness', 'instrumentalness',\n",
        "                                'liveness', 'valence']]\n",
        "recs_from_spotify"
      ]
    },
    {
      "cell_type": "code",
      "execution_count": 64,
      "metadata": {},
      "outputs": [],
      "source": [
        "# OUR PREDICTED RECOMMENDATIONS\n",
        "# rec_songs\n",
        "potential_songs = song_features_data[song_features_data['track_id'].isin(potential_songs['id'])]\n"
      ]
    },
    {
      "cell_type": "code",
      "execution_count": 65,
      "metadata": {},
      "outputs": [],
      "source": [
        "potential_songs = potential_songs.drop(columns=['track_id', 'artist', 'spotify_id', 'tags', 'tempo', 'duration_mins', 'mode'])"
      ]
    },
    {
      "cell_type": "code",
      "execution_count": 66,
      "metadata": {},
      "outputs": [
        {
          "data": {
            "text/plain": [
              "(10, 9)"
            ]
          },
          "execution_count": 66,
          "metadata": {},
          "output_type": "execute_result"
        }
      ],
      "source": [
        "potential_songs.shape"
      ]
    },
    {
      "cell_type": "code",
      "execution_count": 68,
      "metadata": {},
      "outputs": [
        {
          "data": {
            "text/plain": [
              "(10, 9)"
            ]
          },
          "execution_count": 68,
          "metadata": {},
          "output_type": "execute_result"
        }
      ],
      "source": [
        "recs_from_spotify.shape"
      ]
    },
    {
      "cell_type": "code",
      "execution_count": 67,
      "metadata": {},
      "outputs": [],
      "source": [
        "def calculate_euclidean_distance(v1, v2):\n",
        "    return np.linalg.norm(v1 - v2)\n",
        "\n",
        "def calculate_score(pd1, pd2):\n",
        "    if pd1.shape[1] != pd2.shape[1]:\n",
        "        raise ValueError(\"Dataframes must have the same number of features.\")\n",
        "    \n",
        "    for _, x in pd1.iterrows():\n",
        "        fx = np.array(x[1:].values)\n",
        "        dist = list()\n",
        "        for _, y in pd2.iterrows():\n",
        "            fy = np.array(y[1:].values)\n",
        "            dist.append(calculate_euclidean_distance(fx, fy))\n",
        "        print(np.mean(dist))\n"
      ]
    },
    {
      "cell_type": "code",
      "execution_count": 69,
      "metadata": {},
      "outputs": [
        {
          "name": "stdout",
          "output_type": "stream",
          "text": [
            "1.3706193326942206\n",
            "1.2708216300917896\n",
            "1.2168322931264042\n",
            "1.4480379561501788\n",
            "1.3435787248066673\n",
            "1.3016830290529573\n",
            "1.3866496871109233\n",
            "1.335457823254918\n",
            "1.3307610001197165\n",
            "1.2623593153364063\n"
          ]
        }
      ],
      "source": [
        "calculate_score(potential_songs, recs_from_spotify)"
      ]
    },
    {
      "cell_type": "code",
      "execution_count": 99,
      "metadata": {},
      "outputs": [
        {
          "data": {
            "image/png": "[encoded data removed]",
            "text/plain": [
              "<Figure size 1200x600 with 1 Axes>"
            ]
          },
          "metadata": {
            "image/png": {
              "height": 546,
              "width": 996
            }
          },
          "output_type": "display_data"
        }
      ],
      "source": [
        "import matplotlib.pyplot as plt\n",
        "\n",
        "rnn_lyrics = [1.870860464583459,\n",
        "2.0124956563145764,\n",
        "1.7609989657978797,\n",
        "1.8539558357641899,\n",
        "1.7356377060987644,\n",
        "1.8086844811258185,\n",
        "1.8221810357916215,\n",
        "1.857452864811929,\n",
        "1.8114270711291933,\n",
        "1.9123509583315985\n",
        "]\n",
        "without_rnn = [2.1903769990609145,\n",
        "13.007051437476452,\n",
        "2.0155121067385218,\n",
        "4.714721290673545,\n",
        "3.6940682620350707,\n",
        "2.827066168221043,\n",
        "6.084447239668106,\n",
        "7.774764222012763,\n",
        "2.0678613309117333,\n",
        "4.689565505067547]\n",
        "\n",
        "without_lyrics = [\n",
        "1.3706193326942206,\n",
        "1.2708216300917896,\n",
        "1.2168322931264042,\n",
        "1.4480379561501788,\n",
        "1.3435787248066673,\n",
        "1.3016830290529573,\n",
        "1.3866496871109233,\n",
        "1.335457823254918,\n",
        "1.3307610001197165,\n",
        "1.2623593153364063]\n",
        "\n",
        "dumby = []\n",
        "\n",
        "n = len(rnn_lyrics)\n",
        "\n",
        "bar_width = 0.25\n",
        "\n",
        "index = np.arange(n)\n",
        "padding = 0.2\n",
        "\n",
        "plt.figure(figsize=(12, 6))\n",
        "\n",
        "bars1 = plt.bar(index, rnn_lyrics, bar_width, label='RNN+Lyrics', color='red')\n",
        "bars2 = plt.bar(index + bar_width, without_rnn, bar_width, label='Without RNN', color='blue')\n",
        "bars3 = plt.bar(index + (bar_width*2), without_lyrics, bar_width, label='Without Lyrics', color='orange')\n",
        "\n",
        "plt.xlabel('Songs')\n",
        "plt.ylabel('Distance Score')\n",
        "plt.title('Comparison of Euclidean Distances of Our Recommendations and Spotify')\n",
        "plt.xticks(index + bar_width, [f'Song {i+1}' for i in range(n)]) \n",
        "plt.legend()\n",
        "\n",
        "plt.grid(axis='y', linestyle='--', alpha=0.7)\n",
        "\n",
        "plt.show()"
      ]
    }
  ],
  "metadata": {
    "accelerator": "GPU",
    "colab": {
      "gpuType": "T4",
      "machine_shape": "hm",
      "provenance": []
    },
    "kernelspec": {
      "display_name": "Python 3",
      "name": "python3"
    },
    "language_info": {
      "codemirror_mode": {
        "name": "ipython",
        "version": 3
      },
      "file_extension": ".py",
      "mimetype": "text/x-python",
      "name": "python",
      "nbconvert_exporter": "python",
      "pygments_lexer": "ipython3",
      "version": "3.12.3"
    }
  },
  "nbformat": 4,
  "nbformat_minor": 0
}
